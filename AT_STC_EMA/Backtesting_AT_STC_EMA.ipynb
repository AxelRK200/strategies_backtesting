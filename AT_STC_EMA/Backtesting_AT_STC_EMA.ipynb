{
  "nbformat": 4,
  "nbformat_minor": 0,
  "metadata": {
    "colab": {
      "provenance": [],
      "mount_file_id": "1Ow6kJZLw-Zw8LNZxcdb18b8nKjjINi3D",
      "authorship_tag": "ABX9TyOJrY8fAVD7MAtUuRQUoZwU"
    },
    "kernelspec": {
      "name": "python3",
      "display_name": "Python 3"
    },
    "language_info": {
      "name": "python"
    }
  },
  "cells": [
    {
      "cell_type": "code",
      "source": [
        "!pip install yfinance\n",
        "!pip install ta"
      ],
      "metadata": {
        "id": "px_-kUmQUwAN"
      },
      "execution_count": null,
      "outputs": []
    },
    {
      "cell_type": "code",
      "execution_count": 2,
      "metadata": {
        "id": "KTwLxh3NUF0Z"
      },
      "outputs": [],
      "source": [
        "import pandas as pd, numpy as np\n",
        "import seaborn as sns\n",
        "import yfinance as yf\n",
        "\n",
        "from copy import copy\n",
        "import statistics as stats\n",
        "import math\n",
        "from functools import reduce\n",
        "\n",
        "from ta.volume import MFIIndicator\n",
        "from ta.volatility import AverageTrueRange\n",
        "from ta.trend import STCIndicator\n",
        "from ta.trend import EMAIndicator"
      ]
    },
    {
      "cell_type": "markdown",
      "source": [
        "# Import des données historiques"
      ],
      "metadata": {
        "id": "J3HFB0dMU5gZ"
      }
    },
    {
      "cell_type": "code",
      "source": [
        "ndx = yf.Ticker(\"^NDX\")\n",
        "df_historical_data = ndx.history(interval=\"1d\", period=\"max\")\n",
        "df_historical_data.drop(columns=[\"Dividends\",\"Stock Splits\"], inplace=True)\n",
        "df_historical_data.reset_index(inplace=True)"
      ],
      "metadata": {
        "id": "TRGojZzEU4D9"
      },
      "execution_count": 3,
      "outputs": []
    },
    {
      "cell_type": "code",
      "source": [
        "df_historical_data.describe()"
      ],
      "metadata": {
        "colab": {
          "base_uri": "https://localhost:8080/",
          "height": 300
        },
        "id": "ESSJEl0EVUFD",
        "outputId": "4b79a2a5-278b-446b-c60d-40ba20562090"
      },
      "execution_count": 4,
      "outputs": [
        {
          "output_type": "execute_result",
          "data": {
            "text/plain": [
              "               Open          High           Low         Close        Volume\n",
              "count   9471.000000   9471.000000   9471.000000   9471.000000  9.471000e+03\n",
              "mean    2932.782685   2957.312734   2906.764657   2933.410814  1.612036e+09\n",
              "std     3558.062177   3585.873086   3527.588723   3558.660670  1.291157e+09\n",
              "min      107.160004    108.269997    106.750000    107.160004  3.174000e+07\n",
              "25%      424.785004    428.410004    423.524994    425.240005  4.722000e+08\n",
              "50%     1638.380005   1657.530029   1624.800049   1640.339966  1.664350e+09\n",
              "75%     3709.569946   3755.944946   3664.810059   3707.185059  2.069455e+09\n",
              "max    16644.769531  16764.859375  16523.830078  16573.339844  1.162119e+10"
            ],
            "text/html": [
              "\n",
              "  <div id=\"df-ed9f42e5-a6ac-45f5-b72a-49d80c99a74a\">\n",
              "    <div class=\"colab-df-container\">\n",
              "      <div>\n",
              "<style scoped>\n",
              "    .dataframe tbody tr th:only-of-type {\n",
              "        vertical-align: middle;\n",
              "    }\n",
              "\n",
              "    .dataframe tbody tr th {\n",
              "        vertical-align: top;\n",
              "    }\n",
              "\n",
              "    .dataframe thead th {\n",
              "        text-align: right;\n",
              "    }\n",
              "</style>\n",
              "<table border=\"1\" class=\"dataframe\">\n",
              "  <thead>\n",
              "    <tr style=\"text-align: right;\">\n",
              "      <th></th>\n",
              "      <th>Open</th>\n",
              "      <th>High</th>\n",
              "      <th>Low</th>\n",
              "      <th>Close</th>\n",
              "      <th>Volume</th>\n",
              "    </tr>\n",
              "  </thead>\n",
              "  <tbody>\n",
              "    <tr>\n",
              "      <th>count</th>\n",
              "      <td>9471.000000</td>\n",
              "      <td>9471.000000</td>\n",
              "      <td>9471.000000</td>\n",
              "      <td>9471.000000</td>\n",
              "      <td>9.471000e+03</td>\n",
              "    </tr>\n",
              "    <tr>\n",
              "      <th>mean</th>\n",
              "      <td>2932.782685</td>\n",
              "      <td>2957.312734</td>\n",
              "      <td>2906.764657</td>\n",
              "      <td>2933.410814</td>\n",
              "      <td>1.612036e+09</td>\n",
              "    </tr>\n",
              "    <tr>\n",
              "      <th>std</th>\n",
              "      <td>3558.062177</td>\n",
              "      <td>3585.873086</td>\n",
              "      <td>3527.588723</td>\n",
              "      <td>3558.660670</td>\n",
              "      <td>1.291157e+09</td>\n",
              "    </tr>\n",
              "    <tr>\n",
              "      <th>min</th>\n",
              "      <td>107.160004</td>\n",
              "      <td>108.269997</td>\n",
              "      <td>106.750000</td>\n",
              "      <td>107.160004</td>\n",
              "      <td>3.174000e+07</td>\n",
              "    </tr>\n",
              "    <tr>\n",
              "      <th>25%</th>\n",
              "      <td>424.785004</td>\n",
              "      <td>428.410004</td>\n",
              "      <td>423.524994</td>\n",
              "      <td>425.240005</td>\n",
              "      <td>4.722000e+08</td>\n",
              "    </tr>\n",
              "    <tr>\n",
              "      <th>50%</th>\n",
              "      <td>1638.380005</td>\n",
              "      <td>1657.530029</td>\n",
              "      <td>1624.800049</td>\n",
              "      <td>1640.339966</td>\n",
              "      <td>1.664350e+09</td>\n",
              "    </tr>\n",
              "    <tr>\n",
              "      <th>75%</th>\n",
              "      <td>3709.569946</td>\n",
              "      <td>3755.944946</td>\n",
              "      <td>3664.810059</td>\n",
              "      <td>3707.185059</td>\n",
              "      <td>2.069455e+09</td>\n",
              "    </tr>\n",
              "    <tr>\n",
              "      <th>max</th>\n",
              "      <td>16644.769531</td>\n",
              "      <td>16764.859375</td>\n",
              "      <td>16523.830078</td>\n",
              "      <td>16573.339844</td>\n",
              "      <td>1.162119e+10</td>\n",
              "    </tr>\n",
              "  </tbody>\n",
              "</table>\n",
              "</div>\n",
              "      <button class=\"colab-df-convert\" onclick=\"convertToInteractive('df-ed9f42e5-a6ac-45f5-b72a-49d80c99a74a')\"\n",
              "              title=\"Convert this dataframe to an interactive table.\"\n",
              "              style=\"display:none;\">\n",
              "        \n",
              "  <svg xmlns=\"http://www.w3.org/2000/svg\" height=\"24px\"viewBox=\"0 0 24 24\"\n",
              "       width=\"24px\">\n",
              "    <path d=\"M0 0h24v24H0V0z\" fill=\"none\"/>\n",
              "    <path d=\"M18.56 5.44l.94 2.06.94-2.06 2.06-.94-2.06-.94-.94-2.06-.94 2.06-2.06.94zm-11 1L8.5 8.5l.94-2.06 2.06-.94-2.06-.94L8.5 2.5l-.94 2.06-2.06.94zm10 10l.94 2.06.94-2.06 2.06-.94-2.06-.94-.94-2.06-.94 2.06-2.06.94z\"/><path d=\"M17.41 7.96l-1.37-1.37c-.4-.4-.92-.59-1.43-.59-.52 0-1.04.2-1.43.59L10.3 9.45l-7.72 7.72c-.78.78-.78 2.05 0 2.83L4 21.41c.39.39.9.59 1.41.59.51 0 1.02-.2 1.41-.59l7.78-7.78 2.81-2.81c.8-.78.8-2.07 0-2.86zM5.41 20L4 18.59l7.72-7.72 1.47 1.35L5.41 20z\"/>\n",
              "  </svg>\n",
              "      </button>\n",
              "      \n",
              "  <style>\n",
              "    .colab-df-container {\n",
              "      display:flex;\n",
              "      flex-wrap:wrap;\n",
              "      gap: 12px;\n",
              "    }\n",
              "\n",
              "    .colab-df-convert {\n",
              "      background-color: #E8F0FE;\n",
              "      border: none;\n",
              "      border-radius: 50%;\n",
              "      cursor: pointer;\n",
              "      display: none;\n",
              "      fill: #1967D2;\n",
              "      height: 32px;\n",
              "      padding: 0 0 0 0;\n",
              "      width: 32px;\n",
              "    }\n",
              "\n",
              "    .colab-df-convert:hover {\n",
              "      background-color: #E2EBFA;\n",
              "      box-shadow: 0px 1px 2px rgba(60, 64, 67, 0.3), 0px 1px 3px 1px rgba(60, 64, 67, 0.15);\n",
              "      fill: #174EA6;\n",
              "    }\n",
              "\n",
              "    [theme=dark] .colab-df-convert {\n",
              "      background-color: #3B4455;\n",
              "      fill: #D2E3FC;\n",
              "    }\n",
              "\n",
              "    [theme=dark] .colab-df-convert:hover {\n",
              "      background-color: #434B5C;\n",
              "      box-shadow: 0px 1px 3px 1px rgba(0, 0, 0, 0.15);\n",
              "      filter: drop-shadow(0px 1px 2px rgba(0, 0, 0, 0.3));\n",
              "      fill: #FFFFFF;\n",
              "    }\n",
              "  </style>\n",
              "\n",
              "      <script>\n",
              "        const buttonEl =\n",
              "          document.querySelector('#df-ed9f42e5-a6ac-45f5-b72a-49d80c99a74a button.colab-df-convert');\n",
              "        buttonEl.style.display =\n",
              "          google.colab.kernel.accessAllowed ? 'block' : 'none';\n",
              "\n",
              "        async function convertToInteractive(key) {\n",
              "          const element = document.querySelector('#df-ed9f42e5-a6ac-45f5-b72a-49d80c99a74a');\n",
              "          const dataTable =\n",
              "            await google.colab.kernel.invokeFunction('convertToInteractive',\n",
              "                                                     [key], {});\n",
              "          if (!dataTable) return;\n",
              "\n",
              "          const docLinkHtml = 'Like what you see? Visit the ' +\n",
              "            '<a target=\"_blank\" href=https://colab.research.google.com/notebooks/data_table.ipynb>data table notebook</a>'\n",
              "            + ' to learn more about interactive tables.';\n",
              "          element.innerHTML = '';\n",
              "          dataTable['output_type'] = 'display_data';\n",
              "          await google.colab.output.renderOutput(dataTable, element);\n",
              "          const docLink = document.createElement('div');\n",
              "          docLink.innerHTML = docLinkHtml;\n",
              "          element.appendChild(docLink);\n",
              "        }\n",
              "      </script>\n",
              "    </div>\n",
              "  </div>\n",
              "  "
            ]
          },
          "metadata": {},
          "execution_count": 4
        }
      ]
    },
    {
      "cell_type": "code",
      "source": [
        "# Test si aucune ligne manquante\n",
        "test_list = [champ == 0 for champ in df_historical_data.isnull().sum()]\n",
        "\n",
        "# Si toutes les colonnes sont True, résultat = True\n",
        "res1 = all(i for i in test_list)\n",
        "res1"
      ],
      "metadata": {
        "colab": {
          "base_uri": "https://localhost:8080/"
        },
        "id": "ecBhrvulVWmm",
        "outputId": "898cb992-9e03-4743-acc0-c7031b89fb99"
      },
      "execution_count": 5,
      "outputs": [
        {
          "output_type": "execute_result",
          "data": {
            "text/plain": [
              "True"
            ]
          },
          "metadata": {},
          "execution_count": 5
        }
      ]
    },
    {
      "cell_type": "code",
      "source": [
        "df_historical_data.tail(1)"
      ],
      "metadata": {
        "colab": {
          "base_uri": "https://localhost:8080/",
          "height": 81
        },
        "id": "XF7mNsSXVfbK",
        "outputId": "70db5092-a72c-4995-b504-6ab29a14d64a"
      },
      "execution_count": 6,
      "outputs": [
        {
          "output_type": "execute_result",
          "data": {
            "text/plain": [
              "                          Date          Open          High          Low  \\\n",
              "9470 2023-04-28 00:00:00-04:00  13139.349609  13247.389648  13096.94043   \n",
              "\n",
              "             Close      Volume  \n",
              "9470  13245.990234  5331380000  "
            ],
            "text/html": [
              "\n",
              "  <div id=\"df-5c5de58f-a8cb-4ab5-82ea-3c32fa4dad3d\">\n",
              "    <div class=\"colab-df-container\">\n",
              "      <div>\n",
              "<style scoped>\n",
              "    .dataframe tbody tr th:only-of-type {\n",
              "        vertical-align: middle;\n",
              "    }\n",
              "\n",
              "    .dataframe tbody tr th {\n",
              "        vertical-align: top;\n",
              "    }\n",
              "\n",
              "    .dataframe thead th {\n",
              "        text-align: right;\n",
              "    }\n",
              "</style>\n",
              "<table border=\"1\" class=\"dataframe\">\n",
              "  <thead>\n",
              "    <tr style=\"text-align: right;\">\n",
              "      <th></th>\n",
              "      <th>Date</th>\n",
              "      <th>Open</th>\n",
              "      <th>High</th>\n",
              "      <th>Low</th>\n",
              "      <th>Close</th>\n",
              "      <th>Volume</th>\n",
              "    </tr>\n",
              "  </thead>\n",
              "  <tbody>\n",
              "    <tr>\n",
              "      <th>9470</th>\n",
              "      <td>2023-04-28 00:00:00-04:00</td>\n",
              "      <td>13139.349609</td>\n",
              "      <td>13247.389648</td>\n",
              "      <td>13096.94043</td>\n",
              "      <td>13245.990234</td>\n",
              "      <td>5331380000</td>\n",
              "    </tr>\n",
              "  </tbody>\n",
              "</table>\n",
              "</div>\n",
              "      <button class=\"colab-df-convert\" onclick=\"convertToInteractive('df-5c5de58f-a8cb-4ab5-82ea-3c32fa4dad3d')\"\n",
              "              title=\"Convert this dataframe to an interactive table.\"\n",
              "              style=\"display:none;\">\n",
              "        \n",
              "  <svg xmlns=\"http://www.w3.org/2000/svg\" height=\"24px\"viewBox=\"0 0 24 24\"\n",
              "       width=\"24px\">\n",
              "    <path d=\"M0 0h24v24H0V0z\" fill=\"none\"/>\n",
              "    <path d=\"M18.56 5.44l.94 2.06.94-2.06 2.06-.94-2.06-.94-.94-2.06-.94 2.06-2.06.94zm-11 1L8.5 8.5l.94-2.06 2.06-.94-2.06-.94L8.5 2.5l-.94 2.06-2.06.94zm10 10l.94 2.06.94-2.06 2.06-.94-2.06-.94-.94-2.06-.94 2.06-2.06.94z\"/><path d=\"M17.41 7.96l-1.37-1.37c-.4-.4-.92-.59-1.43-.59-.52 0-1.04.2-1.43.59L10.3 9.45l-7.72 7.72c-.78.78-.78 2.05 0 2.83L4 21.41c.39.39.9.59 1.41.59.51 0 1.02-.2 1.41-.59l7.78-7.78 2.81-2.81c.8-.78.8-2.07 0-2.86zM5.41 20L4 18.59l7.72-7.72 1.47 1.35L5.41 20z\"/>\n",
              "  </svg>\n",
              "      </button>\n",
              "      \n",
              "  <style>\n",
              "    .colab-df-container {\n",
              "      display:flex;\n",
              "      flex-wrap:wrap;\n",
              "      gap: 12px;\n",
              "    }\n",
              "\n",
              "    .colab-df-convert {\n",
              "      background-color: #E8F0FE;\n",
              "      border: none;\n",
              "      border-radius: 50%;\n",
              "      cursor: pointer;\n",
              "      display: none;\n",
              "      fill: #1967D2;\n",
              "      height: 32px;\n",
              "      padding: 0 0 0 0;\n",
              "      width: 32px;\n",
              "    }\n",
              "\n",
              "    .colab-df-convert:hover {\n",
              "      background-color: #E2EBFA;\n",
              "      box-shadow: 0px 1px 2px rgba(60, 64, 67, 0.3), 0px 1px 3px 1px rgba(60, 64, 67, 0.15);\n",
              "      fill: #174EA6;\n",
              "    }\n",
              "\n",
              "    [theme=dark] .colab-df-convert {\n",
              "      background-color: #3B4455;\n",
              "      fill: #D2E3FC;\n",
              "    }\n",
              "\n",
              "    [theme=dark] .colab-df-convert:hover {\n",
              "      background-color: #434B5C;\n",
              "      box-shadow: 0px 1px 3px 1px rgba(0, 0, 0, 0.15);\n",
              "      filter: drop-shadow(0px 1px 2px rgba(0, 0, 0, 0.3));\n",
              "      fill: #FFFFFF;\n",
              "    }\n",
              "  </style>\n",
              "\n",
              "      <script>\n",
              "        const buttonEl =\n",
              "          document.querySelector('#df-5c5de58f-a8cb-4ab5-82ea-3c32fa4dad3d button.colab-df-convert');\n",
              "        buttonEl.style.display =\n",
              "          google.colab.kernel.accessAllowed ? 'block' : 'none';\n",
              "\n",
              "        async function convertToInteractive(key) {\n",
              "          const element = document.querySelector('#df-5c5de58f-a8cb-4ab5-82ea-3c32fa4dad3d');\n",
              "          const dataTable =\n",
              "            await google.colab.kernel.invokeFunction('convertToInteractive',\n",
              "                                                     [key], {});\n",
              "          if (!dataTable) return;\n",
              "\n",
              "          const docLinkHtml = 'Like what you see? Visit the ' +\n",
              "            '<a target=\"_blank\" href=https://colab.research.google.com/notebooks/data_table.ipynb>data table notebook</a>'\n",
              "            + ' to learn more about interactive tables.';\n",
              "          element.innerHTML = '';\n",
              "          dataTable['output_type'] = 'display_data';\n",
              "          await google.colab.output.renderOutput(dataTable, element);\n",
              "          const docLink = document.createElement('div');\n",
              "          docLink.innerHTML = docLinkHtml;\n",
              "          element.appendChild(docLink);\n",
              "        }\n",
              "      </script>\n",
              "    </div>\n",
              "  </div>\n",
              "  "
            ]
          },
          "metadata": {},
          "execution_count": 6
        }
      ]
    },
    {
      "cell_type": "code",
      "source": [
        "df_historical_data.dtypes"
      ],
      "metadata": {
        "colab": {
          "base_uri": "https://localhost:8080/"
        },
        "id": "FjsWbKF3Vr2c",
        "outputId": "cf16bde0-4f9a-40d6-f899-82287260ea46"
      },
      "execution_count": 7,
      "outputs": [
        {
          "output_type": "execute_result",
          "data": {
            "text/plain": [
              "Date      datetime64[ns, America/New_York]\n",
              "Open                               float64\n",
              "High                               float64\n",
              "Low                                float64\n",
              "Close                              float64\n",
              "Volume                               int64\n",
              "dtype: object"
            ]
          },
          "metadata": {},
          "execution_count": 7
        }
      ]
    },
    {
      "cell_type": "markdown",
      "source": [
        "# Indicateurs techniques"
      ],
      "metadata": {
        "id": "uF71hL84VwyZ"
      }
    },
    {
      "cell_type": "markdown",
      "source": [
        "### Alphatrend"
      ],
      "metadata": {
        "id": "bJUTIaxyVz6B"
      }
    },
    {
      "cell_type": "code",
      "source": [
        "# Trend indicator, équivalent de l'affichage couleur\n",
        "def trend_indicator(trend):\n",
        "    if trend > 0 :\n",
        "        # Uptrend\n",
        "        x = 1\n",
        "    elif trend < 0 :\n",
        "        # Downtrend\n",
        "        x = -1\n",
        "    else :\n",
        "        # Range\n",
        "        x = 0\n",
        "    return x"
      ],
      "metadata": {
        "id": "W53ner8PX6Ay"
      },
      "execution_count": 8,
      "outputs": []
    },
    {
      "cell_type": "code",
      "source": [
        "# Defintion fonction\n",
        "def generate_alphatrend(df_in, mfi_p, mfi_seuil, atr_l, m):\n",
        "    '''Paramètres d'entrée : longueur MFI, longueur ATR, multiplier\n",
        "    Retourne les colonnes Alphatrend, Alphatrend +2, Trend (position AT1 / AT2)\n",
        "    :mfi_p = période MFI servant à délimiter up/down de l'alphatrend\n",
        "    :mfi_seuil = période MFI pour recherche crossover, détermine uptrend ou downtrend'''\n",
        "\n",
        "    df = df_in.copy()\n",
        "\n",
        "    # Colonnes MFI\n",
        "    s_mfi = MFIIndicator(high=df.High, low=df.Low, close=df.Close, volume=df.Volume, window=mfi_p).money_flow_index()\n",
        "    df[\"MFI_ref\"] = s_mfi\n",
        "\n",
        "    # Colonne ATR\n",
        "    s_atr = AverageTrueRange(high=df.High, low=df.Low, close=df.Close, window=atr_l).average_true_range()\n",
        "    df[\"ATR\"] = s_atr\n",
        "\n",
        "    # Lignes UpT et DownT\n",
        "    df[\"UpT_support\"] = df[\"Low\"] - df[\"ATR\"] * m\n",
        "    df[\"DownT_support\"] = df[\"High\"] + df[\"ATR\"] * m\n",
        "\n",
        "    # Suppression des lignes sans signal, en début de DataFrame\n",
        "    df.dropna(inplace=True)\n",
        "    df.reset_index(drop=True, inplace=True)\n",
        "\n",
        "    # ===============================================\n",
        "    # Calcul Alphatrend, en tant que série\n",
        "    \n",
        "    Alphatrend = [0]\n",
        "\n",
        "    for i in range (1, df.shape[0]):\n",
        "        # Cas Uptrend\n",
        "        if df.at[i,\"MFI_ref\"] >= mfi_seuil :\n",
        "            if df.at[i,\"UpT_support\"] < Alphatrend[-1] :\n",
        "                # Flat\n",
        "                Alphatrend.append(Alphatrend[-1])\n",
        "            else :\n",
        "                # Trailing stop loss Up\n",
        "                Alphatrend.append(df.at[i,\"UpT_support\"])\n",
        "\n",
        "        # Cas Downtrend, MFI < 50\n",
        "        else :\n",
        "            if df.at[i,\"DownT_support\"] > Alphatrend[-1] :\n",
        "                # Flat\n",
        "                Alphatrend.append(Alphatrend[-1])\n",
        "            else :\n",
        "                # Trailing stop loss Down\n",
        "                Alphatrend.append(df.at[i,\"DownT_support\"])\n",
        "\n",
        "    # ===============================================\n",
        "    # Ajout des lignes k1 et k2 en tant que colonnes\n",
        "    \n",
        "    if df.shape[0] == len(Alphatrend):\n",
        "        df[\"Alphatrend_k1\"] = pd.Series(Alphatrend).apply(lambda x: round(x,2))\n",
        "        # Ligne k2 décalée de 2j\n",
        "        Alphatrend2 = df[\"Alphatrend_k1\"].shift(periods=2, fill_value=0)\n",
        "        df[\"Alphatrend_k2\"] = pd.Series(Alphatrend2).apply(lambda x: round(x,2))\n",
        "        # Trend\n",
        "        df[\"Trend\"] = df.Alphatrend_k1 - df.Alphatrend_k2\n",
        "        df[\"Trend\"] = df[\"Trend\"].apply(trend_indicator)\n",
        "    else :\n",
        "        print(\"Erreur lors de la génération des lignes Alphatrend\")\n",
        "\n",
        "    # ===============================================\n",
        "    # Génération des signaux Achat / Vente\n",
        "\n",
        "    # On isole tous les index non neutres, où AT1 != AT2, à la hausse (1) comme à la baisse (-1)\n",
        "    s_trend = df[\"Trend\"].loc[df[\"Trend\"]!=0]\n",
        "    s_trend_diff = s_trend - s_trend.shift(1)\n",
        "\n",
        "    buy_signal_indexes = s_trend_diff[s_trend_diff == 2].index\n",
        "    sell_signal_indexes = s_trend_diff[s_trend_diff == -2].index\n",
        "\n",
        "    df[\"Signal\"] = 0\n",
        "    df.loc[buy_signal_indexes,\"Signal\"] = 1\n",
        "    df.loc[sell_signal_indexes,\"Signal\"] = -1\n",
        "\n",
        "    # ===============================================\n",
        "    # Spécification des colonnes avec les paramètres d'entrée\n",
        "    params = \"MFIp = \" + str(mfi_p) + \", MFItrigger = \" + str(mfi_seuil) + \", ATR = \" + str(atr_l) + \", m = \" + str(m)\n",
        "    # Sélection des colonnes suffisantes\n",
        "    df = df[[\"Date\",\"Alphatrend_k1\",\"Alphatrend_k2\",\"Trend\",\"Signal\"]]\n",
        "    \n",
        "    return df, params"
      ],
      "metadata": {
        "id": "Wm2pANWHVvw6"
      },
      "execution_count": 9,
      "outputs": []
    },
    {
      "cell_type": "code",
      "source": [
        "df_AT, parametres_AT = generate_alphatrend(df_historical_data, mfi_p=14, mfi_seuil=50, atr_l=13, m=0.2)"
      ],
      "metadata": {
        "id": "f5vnETlGaRSB"
      },
      "execution_count": 10,
      "outputs": []
    },
    {
      "cell_type": "code",
      "source": [
        "# Servira à stocker les paramètres testés pour identifier la meilleure combinaison\n",
        "print(parametres_AT)"
      ],
      "metadata": {
        "colab": {
          "base_uri": "https://localhost:8080/"
        },
        "id": "DCPpJOBYbBCe",
        "outputId": "f39b8ae9-7027-45aa-b3f7-f8f4179dbe5f"
      },
      "execution_count": 11,
      "outputs": [
        {
          "output_type": "stream",
          "name": "stdout",
          "text": [
            "MFIp = 14, MFItrigger = 50, ATR = 13, m = 0.2\n"
          ]
        }
      ]
    },
    {
      "cell_type": "code",
      "source": [
        "df_AT.tail(1)"
      ],
      "metadata": {
        "colab": {
          "base_uri": "https://localhost:8080/",
          "height": 81
        },
        "id": "odsiUQE7bBZd",
        "outputId": "5035a3e7-eb55-4c9e-ffe9-3dfa32a677e2"
      },
      "execution_count": 12,
      "outputs": [
        {
          "output_type": "execute_result",
          "data": {
            "text/plain": [
              "                          Date  Alphatrend_k1  Alphatrend_k2  Trend  Signal\n",
              "9457 2023-04-28 00:00:00-04:00       12968.72       12968.72      0       0"
            ],
            "text/html": [
              "\n",
              "  <div id=\"df-25758277-747a-482d-bd45-ccca45aaae33\">\n",
              "    <div class=\"colab-df-container\">\n",
              "      <div>\n",
              "<style scoped>\n",
              "    .dataframe tbody tr th:only-of-type {\n",
              "        vertical-align: middle;\n",
              "    }\n",
              "\n",
              "    .dataframe tbody tr th {\n",
              "        vertical-align: top;\n",
              "    }\n",
              "\n",
              "    .dataframe thead th {\n",
              "        text-align: right;\n",
              "    }\n",
              "</style>\n",
              "<table border=\"1\" class=\"dataframe\">\n",
              "  <thead>\n",
              "    <tr style=\"text-align: right;\">\n",
              "      <th></th>\n",
              "      <th>Date</th>\n",
              "      <th>Alphatrend_k1</th>\n",
              "      <th>Alphatrend_k2</th>\n",
              "      <th>Trend</th>\n",
              "      <th>Signal</th>\n",
              "    </tr>\n",
              "  </thead>\n",
              "  <tbody>\n",
              "    <tr>\n",
              "      <th>9457</th>\n",
              "      <td>2023-04-28 00:00:00-04:00</td>\n",
              "      <td>12968.72</td>\n",
              "      <td>12968.72</td>\n",
              "      <td>0</td>\n",
              "      <td>0</td>\n",
              "    </tr>\n",
              "  </tbody>\n",
              "</table>\n",
              "</div>\n",
              "      <button class=\"colab-df-convert\" onclick=\"convertToInteractive('df-25758277-747a-482d-bd45-ccca45aaae33')\"\n",
              "              title=\"Convert this dataframe to an interactive table.\"\n",
              "              style=\"display:none;\">\n",
              "        \n",
              "  <svg xmlns=\"http://www.w3.org/2000/svg\" height=\"24px\"viewBox=\"0 0 24 24\"\n",
              "       width=\"24px\">\n",
              "    <path d=\"M0 0h24v24H0V0z\" fill=\"none\"/>\n",
              "    <path d=\"M18.56 5.44l.94 2.06.94-2.06 2.06-.94-2.06-.94-.94-2.06-.94 2.06-2.06.94zm-11 1L8.5 8.5l.94-2.06 2.06-.94-2.06-.94L8.5 2.5l-.94 2.06-2.06.94zm10 10l.94 2.06.94-2.06 2.06-.94-2.06-.94-.94-2.06-.94 2.06-2.06.94z\"/><path d=\"M17.41 7.96l-1.37-1.37c-.4-.4-.92-.59-1.43-.59-.52 0-1.04.2-1.43.59L10.3 9.45l-7.72 7.72c-.78.78-.78 2.05 0 2.83L4 21.41c.39.39.9.59 1.41.59.51 0 1.02-.2 1.41-.59l7.78-7.78 2.81-2.81c.8-.78.8-2.07 0-2.86zM5.41 20L4 18.59l7.72-7.72 1.47 1.35L5.41 20z\"/>\n",
              "  </svg>\n",
              "      </button>\n",
              "      \n",
              "  <style>\n",
              "    .colab-df-container {\n",
              "      display:flex;\n",
              "      flex-wrap:wrap;\n",
              "      gap: 12px;\n",
              "    }\n",
              "\n",
              "    .colab-df-convert {\n",
              "      background-color: #E8F0FE;\n",
              "      border: none;\n",
              "      border-radius: 50%;\n",
              "      cursor: pointer;\n",
              "      display: none;\n",
              "      fill: #1967D2;\n",
              "      height: 32px;\n",
              "      padding: 0 0 0 0;\n",
              "      width: 32px;\n",
              "    }\n",
              "\n",
              "    .colab-df-convert:hover {\n",
              "      background-color: #E2EBFA;\n",
              "      box-shadow: 0px 1px 2px rgba(60, 64, 67, 0.3), 0px 1px 3px 1px rgba(60, 64, 67, 0.15);\n",
              "      fill: #174EA6;\n",
              "    }\n",
              "\n",
              "    [theme=dark] .colab-df-convert {\n",
              "      background-color: #3B4455;\n",
              "      fill: #D2E3FC;\n",
              "    }\n",
              "\n",
              "    [theme=dark] .colab-df-convert:hover {\n",
              "      background-color: #434B5C;\n",
              "      box-shadow: 0px 1px 3px 1px rgba(0, 0, 0, 0.15);\n",
              "      filter: drop-shadow(0px 1px 2px rgba(0, 0, 0, 0.3));\n",
              "      fill: #FFFFFF;\n",
              "    }\n",
              "  </style>\n",
              "\n",
              "      <script>\n",
              "        const buttonEl =\n",
              "          document.querySelector('#df-25758277-747a-482d-bd45-ccca45aaae33 button.colab-df-convert');\n",
              "        buttonEl.style.display =\n",
              "          google.colab.kernel.accessAllowed ? 'block' : 'none';\n",
              "\n",
              "        async function convertToInteractive(key) {\n",
              "          const element = document.querySelector('#df-25758277-747a-482d-bd45-ccca45aaae33');\n",
              "          const dataTable =\n",
              "            await google.colab.kernel.invokeFunction('convertToInteractive',\n",
              "                                                     [key], {});\n",
              "          if (!dataTable) return;\n",
              "\n",
              "          const docLinkHtml = 'Like what you see? Visit the ' +\n",
              "            '<a target=\"_blank\" href=https://colab.research.google.com/notebooks/data_table.ipynb>data table notebook</a>'\n",
              "            + ' to learn more about interactive tables.';\n",
              "          element.innerHTML = '';\n",
              "          dataTable['output_type'] = 'display_data';\n",
              "          await google.colab.output.renderOutput(dataTable, element);\n",
              "          const docLink = document.createElement('div');\n",
              "          docLink.innerHTML = docLinkHtml;\n",
              "          element.appendChild(docLink);\n",
              "        }\n",
              "      </script>\n",
              "    </div>\n",
              "  </div>\n",
              "  "
            ]
          },
          "metadata": {},
          "execution_count": 12
        }
      ]
    },
    {
      "cell_type": "markdown",
      "source": [
        "### STC & EMA"
      ],
      "metadata": {
        "id": "EbCqhjaFcBXo"
      }
    },
    {
      "cell_type": "code",
      "source": [
        "def generate_STC_and_EMA(df_in, stc_length, fast_length, slow_length, ema_period):\n",
        "  \n",
        "  df = df_in[[\"Date\",\"Close\"]].copy()\n",
        "\n",
        "  s_stc = STCIndicator(close=df.Close, window_slow=slow_length, window_fast=fast_length, cycle=stc_length).stc()\n",
        "  s_ema = EMAIndicator(close=df.Close, window=ema_period).ema_indicator()\n",
        "\n",
        "  df[\"STC\"] = round(s_stc,2)\n",
        "  df[\"EMA\"] = round(s_ema,2)\n",
        "\n",
        "  params = \"STC Length = \" + str(stc_length) + \", Fast Length = \" + str(fast_length) + \", Slow Length = \" + str(slow_length) + \", EMA length = \" + str(ema_period)\n",
        "\n",
        "  df.drop(columns=[\"Close\"], inplace=True)\n",
        "\n",
        "  return df, params"
      ],
      "metadata": {
        "id": "Kr56pqQgdycS"
      },
      "execution_count": 13,
      "outputs": []
    },
    {
      "cell_type": "code",
      "source": [
        "df_STC_EMA, params_STC_EMA = generate_STC_and_EMA(df_historical_data, stc_length=130, fast_length=25, slow_length=125, ema_period=70)"
      ],
      "metadata": {
        "id": "a8Rc-_MzfJnD"
      },
      "execution_count": 14,
      "outputs": []
    },
    {
      "cell_type": "code",
      "source": [
        "# Servira à stocker les paramètres testés pour identifier la meilleure combinaison\n",
        "print(params_STC_EMA)"
      ],
      "metadata": {
        "colab": {
          "base_uri": "https://localhost:8080/"
        },
        "id": "WZuv-zCpfck-",
        "outputId": "848d06ed-13e6-4084-f51a-2ca95868363f"
      },
      "execution_count": 15,
      "outputs": [
        {
          "output_type": "stream",
          "name": "stdout",
          "text": [
            "STC Length = 130, Fast Length = 25, Slow Length = 125, EMA length = 70\n"
          ]
        }
      ]
    },
    {
      "cell_type": "code",
      "source": [
        "df_STC_EMA.tail(1)"
      ],
      "metadata": {
        "colab": {
          "base_uri": "https://localhost:8080/",
          "height": 81
        },
        "id": "Gh7eYBx_fj6P",
        "outputId": "81177beb-912a-49a7-b60c-43dae2cafb5b"
      },
      "execution_count": 16,
      "outputs": [
        {
          "output_type": "execute_result",
          "data": {
            "text/plain": [
              "                          Date    STC       EMA\n",
              "9470 2023-04-28 00:00:00-04:00  98.13  12527.19"
            ],
            "text/html": [
              "\n",
              "  <div id=\"df-2df09ade-4d8a-4fa5-864c-0eb2ace4a138\">\n",
              "    <div class=\"colab-df-container\">\n",
              "      <div>\n",
              "<style scoped>\n",
              "    .dataframe tbody tr th:only-of-type {\n",
              "        vertical-align: middle;\n",
              "    }\n",
              "\n",
              "    .dataframe tbody tr th {\n",
              "        vertical-align: top;\n",
              "    }\n",
              "\n",
              "    .dataframe thead th {\n",
              "        text-align: right;\n",
              "    }\n",
              "</style>\n",
              "<table border=\"1\" class=\"dataframe\">\n",
              "  <thead>\n",
              "    <tr style=\"text-align: right;\">\n",
              "      <th></th>\n",
              "      <th>Date</th>\n",
              "      <th>STC</th>\n",
              "      <th>EMA</th>\n",
              "    </tr>\n",
              "  </thead>\n",
              "  <tbody>\n",
              "    <tr>\n",
              "      <th>9470</th>\n",
              "      <td>2023-04-28 00:00:00-04:00</td>\n",
              "      <td>98.13</td>\n",
              "      <td>12527.19</td>\n",
              "    </tr>\n",
              "  </tbody>\n",
              "</table>\n",
              "</div>\n",
              "      <button class=\"colab-df-convert\" onclick=\"convertToInteractive('df-2df09ade-4d8a-4fa5-864c-0eb2ace4a138')\"\n",
              "              title=\"Convert this dataframe to an interactive table.\"\n",
              "              style=\"display:none;\">\n",
              "        \n",
              "  <svg xmlns=\"http://www.w3.org/2000/svg\" height=\"24px\"viewBox=\"0 0 24 24\"\n",
              "       width=\"24px\">\n",
              "    <path d=\"M0 0h24v24H0V0z\" fill=\"none\"/>\n",
              "    <path d=\"M18.56 5.44l.94 2.06.94-2.06 2.06-.94-2.06-.94-.94-2.06-.94 2.06-2.06.94zm-11 1L8.5 8.5l.94-2.06 2.06-.94-2.06-.94L8.5 2.5l-.94 2.06-2.06.94zm10 10l.94 2.06.94-2.06 2.06-.94-2.06-.94-.94-2.06-.94 2.06-2.06.94z\"/><path d=\"M17.41 7.96l-1.37-1.37c-.4-.4-.92-.59-1.43-.59-.52 0-1.04.2-1.43.59L10.3 9.45l-7.72 7.72c-.78.78-.78 2.05 0 2.83L4 21.41c.39.39.9.59 1.41.59.51 0 1.02-.2 1.41-.59l7.78-7.78 2.81-2.81c.8-.78.8-2.07 0-2.86zM5.41 20L4 18.59l7.72-7.72 1.47 1.35L5.41 20z\"/>\n",
              "  </svg>\n",
              "      </button>\n",
              "      \n",
              "  <style>\n",
              "    .colab-df-container {\n",
              "      display:flex;\n",
              "      flex-wrap:wrap;\n",
              "      gap: 12px;\n",
              "    }\n",
              "\n",
              "    .colab-df-convert {\n",
              "      background-color: #E8F0FE;\n",
              "      border: none;\n",
              "      border-radius: 50%;\n",
              "      cursor: pointer;\n",
              "      display: none;\n",
              "      fill: #1967D2;\n",
              "      height: 32px;\n",
              "      padding: 0 0 0 0;\n",
              "      width: 32px;\n",
              "    }\n",
              "\n",
              "    .colab-df-convert:hover {\n",
              "      background-color: #E2EBFA;\n",
              "      box-shadow: 0px 1px 2px rgba(60, 64, 67, 0.3), 0px 1px 3px 1px rgba(60, 64, 67, 0.15);\n",
              "      fill: #174EA6;\n",
              "    }\n",
              "\n",
              "    [theme=dark] .colab-df-convert {\n",
              "      background-color: #3B4455;\n",
              "      fill: #D2E3FC;\n",
              "    }\n",
              "\n",
              "    [theme=dark] .colab-df-convert:hover {\n",
              "      background-color: #434B5C;\n",
              "      box-shadow: 0px 1px 3px 1px rgba(0, 0, 0, 0.15);\n",
              "      filter: drop-shadow(0px 1px 2px rgba(0, 0, 0, 0.3));\n",
              "      fill: #FFFFFF;\n",
              "    }\n",
              "  </style>\n",
              "\n",
              "      <script>\n",
              "        const buttonEl =\n",
              "          document.querySelector('#df-2df09ade-4d8a-4fa5-864c-0eb2ace4a138 button.colab-df-convert');\n",
              "        buttonEl.style.display =\n",
              "          google.colab.kernel.accessAllowed ? 'block' : 'none';\n",
              "\n",
              "        async function convertToInteractive(key) {\n",
              "          const element = document.querySelector('#df-2df09ade-4d8a-4fa5-864c-0eb2ace4a138');\n",
              "          const dataTable =\n",
              "            await google.colab.kernel.invokeFunction('convertToInteractive',\n",
              "                                                     [key], {});\n",
              "          if (!dataTable) return;\n",
              "\n",
              "          const docLinkHtml = 'Like what you see? Visit the ' +\n",
              "            '<a target=\"_blank\" href=https://colab.research.google.com/notebooks/data_table.ipynb>data table notebook</a>'\n",
              "            + ' to learn more about interactive tables.';\n",
              "          element.innerHTML = '';\n",
              "          dataTable['output_type'] = 'display_data';\n",
              "          await google.colab.output.renderOutput(dataTable, element);\n",
              "          const docLink = document.createElement('div');\n",
              "          docLink.innerHTML = docLinkHtml;\n",
              "          element.appendChild(docLink);\n",
              "        }\n",
              "      </script>\n",
              "    </div>\n",
              "  </div>\n",
              "  "
            ]
          },
          "metadata": {},
          "execution_count": 16
        }
      ]
    },
    {
      "cell_type": "markdown",
      "source": [
        "### Merge et export du Dataset contenant l'ensemble des indicateurs techniques"
      ],
      "metadata": {
        "id": "KKlEf1rvi-BO"
      }
    },
    {
      "cell_type": "code",
      "source": [
        "df_essentials = df_historical_data.copy()\n",
        "\n",
        "# Ajout de la colonne ATR qui servira plus tard dans le calcul de la sortie.\n",
        "s_atr = AverageTrueRange(high=df_essentials.High, low=df_essentials.Low, close=df_essentials.Close, window=14).average_true_range()\n",
        "df_essentials[\"ATR\"] = s_atr\n",
        "\n",
        "# Réduction au strict nécessaire pour les colonnes\n",
        "df_essentials = df_essentials[[\"Date\",\"Open\",\"Close\",\"ATR\"]].copy()\n",
        "\n",
        "df_essentials[\"Open\"] = df_essentials.Open.apply(lambda x: round(x,2))\n",
        "df_essentials[\"Close\"] = df_essentials.Close.apply(lambda x: round(x,2))\n",
        "df_essentials[\"ATR\"] = df_essentials.ATR.apply(lambda x: round(x,2))"
      ],
      "metadata": {
        "id": "EED7tqHijbQ2"
      },
      "execution_count": 17,
      "outputs": []
    },
    {
      "cell_type": "code",
      "source": [
        "data_frames = [df_essentials, df_AT, df_STC_EMA]\n",
        "df_IT = reduce(lambda  left,right: pd.merge(left,right, on=['Date'], how='left'), data_frames)"
      ],
      "metadata": {
        "id": "mc7UMm3ajDR6"
      },
      "execution_count": 18,
      "outputs": []
    },
    {
      "cell_type": "code",
      "source": [
        "df_IT = df_IT.loc[df_IT[\"Date\"]>=\"1998-01-01\"]"
      ],
      "metadata": {
        "id": "e8Vjeliuj6q6"
      },
      "execution_count": 19,
      "outputs": []
    },
    {
      "cell_type": "code",
      "source": [
        "df_IT.head(1)"
      ],
      "metadata": {
        "colab": {
          "base_uri": "https://localhost:8080/",
          "height": 81
        },
        "id": "c0ZYWzZRkTNS",
        "outputId": "eea424ac-141d-4d48-e5bb-9f003dbdc2a4"
      },
      "execution_count": 20,
      "outputs": [
        {
          "output_type": "execute_result",
          "data": {
            "text/plain": [
              "                          Date   Open    Close    ATR  Alphatrend_k1  \\\n",
              "3099 1998-01-02 00:00:00-05:00  990.8  1008.23  24.18         959.34   \n",
              "\n",
              "      Alphatrend_k2  Trend  Signal   STC      EMA  \n",
              "3099         959.34    0.0     0.0  0.21  1031.32  "
            ],
            "text/html": [
              "\n",
              "  <div id=\"df-aa2e0976-0f7c-4e74-b4f6-5be4d8d5e2a6\">\n",
              "    <div class=\"colab-df-container\">\n",
              "      <div>\n",
              "<style scoped>\n",
              "    .dataframe tbody tr th:only-of-type {\n",
              "        vertical-align: middle;\n",
              "    }\n",
              "\n",
              "    .dataframe tbody tr th {\n",
              "        vertical-align: top;\n",
              "    }\n",
              "\n",
              "    .dataframe thead th {\n",
              "        text-align: right;\n",
              "    }\n",
              "</style>\n",
              "<table border=\"1\" class=\"dataframe\">\n",
              "  <thead>\n",
              "    <tr style=\"text-align: right;\">\n",
              "      <th></th>\n",
              "      <th>Date</th>\n",
              "      <th>Open</th>\n",
              "      <th>Close</th>\n",
              "      <th>ATR</th>\n",
              "      <th>Alphatrend_k1</th>\n",
              "      <th>Alphatrend_k2</th>\n",
              "      <th>Trend</th>\n",
              "      <th>Signal</th>\n",
              "      <th>STC</th>\n",
              "      <th>EMA</th>\n",
              "    </tr>\n",
              "  </thead>\n",
              "  <tbody>\n",
              "    <tr>\n",
              "      <th>3099</th>\n",
              "      <td>1998-01-02 00:00:00-05:00</td>\n",
              "      <td>990.8</td>\n",
              "      <td>1008.23</td>\n",
              "      <td>24.18</td>\n",
              "      <td>959.34</td>\n",
              "      <td>959.34</td>\n",
              "      <td>0.0</td>\n",
              "      <td>0.0</td>\n",
              "      <td>0.21</td>\n",
              "      <td>1031.32</td>\n",
              "    </tr>\n",
              "  </tbody>\n",
              "</table>\n",
              "</div>\n",
              "      <button class=\"colab-df-convert\" onclick=\"convertToInteractive('df-aa2e0976-0f7c-4e74-b4f6-5be4d8d5e2a6')\"\n",
              "              title=\"Convert this dataframe to an interactive table.\"\n",
              "              style=\"display:none;\">\n",
              "        \n",
              "  <svg xmlns=\"http://www.w3.org/2000/svg\" height=\"24px\"viewBox=\"0 0 24 24\"\n",
              "       width=\"24px\">\n",
              "    <path d=\"M0 0h24v24H0V0z\" fill=\"none\"/>\n",
              "    <path d=\"M18.56 5.44l.94 2.06.94-2.06 2.06-.94-2.06-.94-.94-2.06-.94 2.06-2.06.94zm-11 1L8.5 8.5l.94-2.06 2.06-.94-2.06-.94L8.5 2.5l-.94 2.06-2.06.94zm10 10l.94 2.06.94-2.06 2.06-.94-2.06-.94-.94-2.06-.94 2.06-2.06.94z\"/><path d=\"M17.41 7.96l-1.37-1.37c-.4-.4-.92-.59-1.43-.59-.52 0-1.04.2-1.43.59L10.3 9.45l-7.72 7.72c-.78.78-.78 2.05 0 2.83L4 21.41c.39.39.9.59 1.41.59.51 0 1.02-.2 1.41-.59l7.78-7.78 2.81-2.81c.8-.78.8-2.07 0-2.86zM5.41 20L4 18.59l7.72-7.72 1.47 1.35L5.41 20z\"/>\n",
              "  </svg>\n",
              "      </button>\n",
              "      \n",
              "  <style>\n",
              "    .colab-df-container {\n",
              "      display:flex;\n",
              "      flex-wrap:wrap;\n",
              "      gap: 12px;\n",
              "    }\n",
              "\n",
              "    .colab-df-convert {\n",
              "      background-color: #E8F0FE;\n",
              "      border: none;\n",
              "      border-radius: 50%;\n",
              "      cursor: pointer;\n",
              "      display: none;\n",
              "      fill: #1967D2;\n",
              "      height: 32px;\n",
              "      padding: 0 0 0 0;\n",
              "      width: 32px;\n",
              "    }\n",
              "\n",
              "    .colab-df-convert:hover {\n",
              "      background-color: #E2EBFA;\n",
              "      box-shadow: 0px 1px 2px rgba(60, 64, 67, 0.3), 0px 1px 3px 1px rgba(60, 64, 67, 0.15);\n",
              "      fill: #174EA6;\n",
              "    }\n",
              "\n",
              "    [theme=dark] .colab-df-convert {\n",
              "      background-color: #3B4455;\n",
              "      fill: #D2E3FC;\n",
              "    }\n",
              "\n",
              "    [theme=dark] .colab-df-convert:hover {\n",
              "      background-color: #434B5C;\n",
              "      box-shadow: 0px 1px 3px 1px rgba(0, 0, 0, 0.15);\n",
              "      filter: drop-shadow(0px 1px 2px rgba(0, 0, 0, 0.3));\n",
              "      fill: #FFFFFF;\n",
              "    }\n",
              "  </style>\n",
              "\n",
              "      <script>\n",
              "        const buttonEl =\n",
              "          document.querySelector('#df-aa2e0976-0f7c-4e74-b4f6-5be4d8d5e2a6 button.colab-df-convert');\n",
              "        buttonEl.style.display =\n",
              "          google.colab.kernel.accessAllowed ? 'block' : 'none';\n",
              "\n",
              "        async function convertToInteractive(key) {\n",
              "          const element = document.querySelector('#df-aa2e0976-0f7c-4e74-b4f6-5be4d8d5e2a6');\n",
              "          const dataTable =\n",
              "            await google.colab.kernel.invokeFunction('convertToInteractive',\n",
              "                                                     [key], {});\n",
              "          if (!dataTable) return;\n",
              "\n",
              "          const docLinkHtml = 'Like what you see? Visit the ' +\n",
              "            '<a target=\"_blank\" href=https://colab.research.google.com/notebooks/data_table.ipynb>data table notebook</a>'\n",
              "            + ' to learn more about interactive tables.';\n",
              "          element.innerHTML = '';\n",
              "          dataTable['output_type'] = 'display_data';\n",
              "          await google.colab.output.renderOutput(dataTable, element);\n",
              "          const docLink = document.createElement('div');\n",
              "          docLink.innerHTML = docLinkHtml;\n",
              "          element.appendChild(docLink);\n",
              "        }\n",
              "      </script>\n",
              "    </div>\n",
              "  </div>\n",
              "  "
            ]
          },
          "metadata": {},
          "execution_count": 20
        }
      ]
    },
    {
      "cell_type": "code",
      "source": [
        "df_IT[\"Trend\"].value_counts()"
      ],
      "metadata": {
        "colab": {
          "base_uri": "https://localhost:8080/"
        },
        "id": "H9l1X-oEkVF4",
        "outputId": "8cc68119-3015-44c3-9820-0ff619fb6905"
      },
      "execution_count": 21,
      "outputs": [
        {
          "output_type": "execute_result",
          "data": {
            "text/plain": [
              " 0.0    3044\n",
              " 1.0    2134\n",
              "-1.0    1194\n",
              "Name: Trend, dtype: int64"
            ]
          },
          "metadata": {},
          "execution_count": 21
        }
      ]
    },
    {
      "cell_type": "code",
      "source": [
        "df_IT.reset_index(drop=True,inplace=True)"
      ],
      "metadata": {
        "id": "5iZP3Wado_ZB"
      },
      "execution_count": 22,
      "outputs": []
    },
    {
      "cell_type": "code",
      "source": [
        "# Test si aucune ligne manquante\n",
        "test_list = [champ == 0 for champ in df_historical_data.isnull().sum()]\n",
        "test_list2 = [champ == 0 for champ in df_historical_data.isna().sum()]\n",
        "\n",
        "# Si toutes les colonnes sont True, résultat = True\n",
        "res1 = all(i for i in test_list)\n",
        "res2 = all(i for i in test_list2)\n",
        "\n",
        "if res1 and res2 :\n",
        "  print(\"Ok pour Backtesting\")\n",
        "else :\n",
        "  print(\"Anomalies détectées\")"
      ],
      "metadata": {
        "colab": {
          "base_uri": "https://localhost:8080/"
        },
        "id": "8Fp1RLnQnmDG",
        "outputId": "d785c872-1972-4f85-e276-305d5709d945"
      },
      "execution_count": 23,
      "outputs": [
        {
          "output_type": "stream",
          "name": "stdout",
          "text": [
            "Ok pour Backtesting\n"
          ]
        }
      ]
    },
    {
      "cell_type": "code",
      "source": [
        "# Export\n",
        "#df_IT.to_csv(\"/content/drive/MyDrive/Colab Notebooks/sources/TradingView_strategies/AT_STC_EMA_indicateurs_optimised_short.csv\", header=True, index=False)"
      ],
      "metadata": {
        "id": "wQZRiYixofQ6"
      },
      "execution_count": 24,
      "outputs": []
    },
    {
      "cell_type": "markdown",
      "source": [
        "# Backtesting"
      ],
      "metadata": {
        "id": "GhSGRvpJpLN3"
      }
    },
    {
      "cell_type": "markdown",
      "source": [
        "## Détection des entrées"
      ],
      "metadata": {
        "id": "B4WrFhfVpOXv"
      }
    },
    {
      "cell_type": "markdown",
      "source": [
        "Stratégie :<br>\n",
        "<li>Entreée : Buy signal + Prix > EMA + STC < seuil(25)</li>\n",
        "<li>Sortie : Sell signal + Prix < EMA + STC > seuil(75)</li>"
      ],
      "metadata": {
        "id": "RWCU9QZoQ1u-"
      }
    },
    {
      "cell_type": "code",
      "source": [
        "stc_seuil_bas = 25\n",
        "# Valeur 3 pour signaux d'entrée valides\n",
        "df_IT[\"Buy_entry\"] = np.sign(df_IT.Close - df_IT.EMA) + df_IT.Signal + np.sign(stc_seuil_bas - df_IT.STC)\n",
        "\n",
        "stc_seuil_haut = 75\n",
        "# Valeur -3 pour signaux d'entrée valides\n",
        "# Attention / par deux signaux négatifs -> positif, d'où l'inversion sur un seul champ\n",
        "df_IT[\"Sell_entry\"] = np.sign(df_IT.Close - df_IT.EMA) + df_IT.Signal + np.sign(stc_seuil_haut - df_IT.STC)"
      ],
      "metadata": {
        "id": "igd1ch6cQ0jb"
      },
      "execution_count": 25,
      "outputs": []
    },
    {
      "cell_type": "code",
      "source": [
        "# Conversion en np array\n",
        "arr_buy_entry = df_IT[\"Buy_entry\"].to_numpy()\n",
        "# np.where(condition, vrai, sinon)\n",
        "df_IT[\"Buy_entry\"] = np.where(arr_buy_entry==3, 1, 0)\n",
        "\n",
        "arr_sell_entry = df_IT[\"Sell_entry\"].to_numpy()\n",
        "df_IT[\"Sell_entry\"] = np.where(arr_sell_entry==-3.0, -1, 0)"
      ],
      "metadata": {
        "id": "tuHizhA2aRRz"
      },
      "execution_count": 26,
      "outputs": []
    },
    {
      "cell_type": "code",
      "source": [
        "'''Agrégation dans une seule colonne \"Entrées\"\n",
        "1 pour Buy -1 pour Sell\n",
        "Ne sera peut-être pas conservé si paramètres différents entre Stratégie Short ou Long.\n",
        "Il ne sera pas possible de générer les deux en même temps'''\n",
        "\n",
        "df_IT[\"Entry\"] = df_IT[\"Sell_entry\"] + df_IT[\"Buy_entry\"]\n",
        "df_IT[\"Entry\"].value_counts()"
      ],
      "metadata": {
        "colab": {
          "base_uri": "https://localhost:8080/"
        },
        "id": "mkvevZAca61-",
        "outputId": "4aa8b60e-3e6e-4f3e-fa56-c8f099099c09"
      },
      "execution_count": 27,
      "outputs": [
        {
          "output_type": "execute_result",
          "data": {
            "text/plain": [
              " 0    6300\n",
              " 1      50\n",
              "-1      22\n",
              "Name: Entry, dtype: int64"
            ]
          },
          "metadata": {},
          "execution_count": 27
        }
      ]
    },
    {
      "cell_type": "code",
      "source": [
        "df_IT.drop(columns=[\"Buy_entry\",\"Sell_entry\"], inplace=True)\n",
        "df_IT.tail(1)"
      ],
      "metadata": {
        "colab": {
          "base_uri": "https://localhost:8080/",
          "height": 81
        },
        "id": "tM6i15umd3j6",
        "outputId": "846f11bd-1665-478c-9475-a9d0084c7c2b"
      },
      "execution_count": 28,
      "outputs": [
        {
          "output_type": "execute_result",
          "data": {
            "text/plain": [
              "                          Date      Open     Close     ATR  Alphatrend_k1  \\\n",
              "6371 2023-04-28 00:00:00-04:00  13139.35  13245.99  205.28       12968.72   \n",
              "\n",
              "      Alphatrend_k2  Trend  Signal    STC       EMA  Entry  \n",
              "6371       12968.72    0.0     0.0  98.13  12527.19      0  "
            ],
            "text/html": [
              "\n",
              "  <div id=\"df-69b81462-533d-4269-98c4-c64306911c1d\">\n",
              "    <div class=\"colab-df-container\">\n",
              "      <div>\n",
              "<style scoped>\n",
              "    .dataframe tbody tr th:only-of-type {\n",
              "        vertical-align: middle;\n",
              "    }\n",
              "\n",
              "    .dataframe tbody tr th {\n",
              "        vertical-align: top;\n",
              "    }\n",
              "\n",
              "    .dataframe thead th {\n",
              "        text-align: right;\n",
              "    }\n",
              "</style>\n",
              "<table border=\"1\" class=\"dataframe\">\n",
              "  <thead>\n",
              "    <tr style=\"text-align: right;\">\n",
              "      <th></th>\n",
              "      <th>Date</th>\n",
              "      <th>Open</th>\n",
              "      <th>Close</th>\n",
              "      <th>ATR</th>\n",
              "      <th>Alphatrend_k1</th>\n",
              "      <th>Alphatrend_k2</th>\n",
              "      <th>Trend</th>\n",
              "      <th>Signal</th>\n",
              "      <th>STC</th>\n",
              "      <th>EMA</th>\n",
              "      <th>Entry</th>\n",
              "    </tr>\n",
              "  </thead>\n",
              "  <tbody>\n",
              "    <tr>\n",
              "      <th>6371</th>\n",
              "      <td>2023-04-28 00:00:00-04:00</td>\n",
              "      <td>13139.35</td>\n",
              "      <td>13245.99</td>\n",
              "      <td>205.28</td>\n",
              "      <td>12968.72</td>\n",
              "      <td>12968.72</td>\n",
              "      <td>0.0</td>\n",
              "      <td>0.0</td>\n",
              "      <td>98.13</td>\n",
              "      <td>12527.19</td>\n",
              "      <td>0</td>\n",
              "    </tr>\n",
              "  </tbody>\n",
              "</table>\n",
              "</div>\n",
              "      <button class=\"colab-df-convert\" onclick=\"convertToInteractive('df-69b81462-533d-4269-98c4-c64306911c1d')\"\n",
              "              title=\"Convert this dataframe to an interactive table.\"\n",
              "              style=\"display:none;\">\n",
              "        \n",
              "  <svg xmlns=\"http://www.w3.org/2000/svg\" height=\"24px\"viewBox=\"0 0 24 24\"\n",
              "       width=\"24px\">\n",
              "    <path d=\"M0 0h24v24H0V0z\" fill=\"none\"/>\n",
              "    <path d=\"M18.56 5.44l.94 2.06.94-2.06 2.06-.94-2.06-.94-.94-2.06-.94 2.06-2.06.94zm-11 1L8.5 8.5l.94-2.06 2.06-.94-2.06-.94L8.5 2.5l-.94 2.06-2.06.94zm10 10l.94 2.06.94-2.06 2.06-.94-2.06-.94-.94-2.06-.94 2.06-2.06.94z\"/><path d=\"M17.41 7.96l-1.37-1.37c-.4-.4-.92-.59-1.43-.59-.52 0-1.04.2-1.43.59L10.3 9.45l-7.72 7.72c-.78.78-.78 2.05 0 2.83L4 21.41c.39.39.9.59 1.41.59.51 0 1.02-.2 1.41-.59l7.78-7.78 2.81-2.81c.8-.78.8-2.07 0-2.86zM5.41 20L4 18.59l7.72-7.72 1.47 1.35L5.41 20z\"/>\n",
              "  </svg>\n",
              "      </button>\n",
              "      \n",
              "  <style>\n",
              "    .colab-df-container {\n",
              "      display:flex;\n",
              "      flex-wrap:wrap;\n",
              "      gap: 12px;\n",
              "    }\n",
              "\n",
              "    .colab-df-convert {\n",
              "      background-color: #E8F0FE;\n",
              "      border: none;\n",
              "      border-radius: 50%;\n",
              "      cursor: pointer;\n",
              "      display: none;\n",
              "      fill: #1967D2;\n",
              "      height: 32px;\n",
              "      padding: 0 0 0 0;\n",
              "      width: 32px;\n",
              "    }\n",
              "\n",
              "    .colab-df-convert:hover {\n",
              "      background-color: #E2EBFA;\n",
              "      box-shadow: 0px 1px 2px rgba(60, 64, 67, 0.3), 0px 1px 3px 1px rgba(60, 64, 67, 0.15);\n",
              "      fill: #174EA6;\n",
              "    }\n",
              "\n",
              "    [theme=dark] .colab-df-convert {\n",
              "      background-color: #3B4455;\n",
              "      fill: #D2E3FC;\n",
              "    }\n",
              "\n",
              "    [theme=dark] .colab-df-convert:hover {\n",
              "      background-color: #434B5C;\n",
              "      box-shadow: 0px 1px 3px 1px rgba(0, 0, 0, 0.15);\n",
              "      filter: drop-shadow(0px 1px 2px rgba(0, 0, 0, 0.3));\n",
              "      fill: #FFFFFF;\n",
              "    }\n",
              "  </style>\n",
              "\n",
              "      <script>\n",
              "        const buttonEl =\n",
              "          document.querySelector('#df-69b81462-533d-4269-98c4-c64306911c1d button.colab-df-convert');\n",
              "        buttonEl.style.display =\n",
              "          google.colab.kernel.accessAllowed ? 'block' : 'none';\n",
              "\n",
              "        async function convertToInteractive(key) {\n",
              "          const element = document.querySelector('#df-69b81462-533d-4269-98c4-c64306911c1d');\n",
              "          const dataTable =\n",
              "            await google.colab.kernel.invokeFunction('convertToInteractive',\n",
              "                                                     [key], {});\n",
              "          if (!dataTable) return;\n",
              "\n",
              "          const docLinkHtml = 'Like what you see? Visit the ' +\n",
              "            '<a target=\"_blank\" href=https://colab.research.google.com/notebooks/data_table.ipynb>data table notebook</a>'\n",
              "            + ' to learn more about interactive tables.';\n",
              "          element.innerHTML = '';\n",
              "          dataTable['output_type'] = 'display_data';\n",
              "          await google.colab.output.renderOutput(dataTable, element);\n",
              "          const docLink = document.createElement('div');\n",
              "          docLink.innerHTML = docLinkHtml;\n",
              "          element.appendChild(docLink);\n",
              "        }\n",
              "      </script>\n",
              "    </div>\n",
              "  </div>\n",
              "  "
            ]
          },
          "metadata": {},
          "execution_count": 28
        }
      ]
    },
    {
      "cell_type": "code",
      "source": [
        "df_IT.loc[ df_IT[\"Entry\"]==-1 ].index"
      ],
      "metadata": {
        "colab": {
          "base_uri": "https://localhost:8080/"
        },
        "id": "Y7yDzJQniwet",
        "outputId": "1e431c46-70b2-4833-9082-b12846ab5482"
      },
      "execution_count": 29,
      "outputs": [
        {
          "output_type": "execute_result",
          "data": {
            "text/plain": [
              "Int64Index([ 781,  857,  869,  892,  908, 1244, 1272, 1942, 2804, 3493, 3511,\n",
              "            3807, 3890, 4266, 4515, 4529, 5055, 5224, 5572, 6205, 6280, 6337],\n",
              "           dtype='int64')"
            ]
          },
          "metadata": {},
          "execution_count": 29
        }
      ]
    },
    {
      "cell_type": "markdown",
      "source": [
        "# Mesure de la performance"
      ],
      "metadata": {
        "id": "8EQoFGwEQH_y"
      }
    },
    {
      "cell_type": "markdown",
      "source": [
        "### Isolement des entrées"
      ],
      "metadata": {
        "id": "Qoqqa6AVUxMA"
      }
    },
    {
      "cell_type": "code",
      "source": [
        "short_entries_indexes = df_IT.loc[ df_IT[\"Entry\"]==-1 ].index\n",
        "# Ajout d'une unité pour entrée le lendemain du signal confirmé et clos\n",
        "short_entries_indexes += 1\n",
        "\n",
        "short_entries_indexes = short_entries_indexes.to_list()\n",
        "print(short_entries_indexes)"
      ],
      "metadata": {
        "colab": {
          "base_uri": "https://localhost:8080/"
        },
        "id": "u8DhN5wuV_RW",
        "outputId": "ba5b047e-eeb4-4efc-cfb7-1b4f3014fcce"
      },
      "execution_count": 30,
      "outputs": [
        {
          "output_type": "stream",
          "name": "stdout",
          "text": [
            "[782, 858, 870, 893, 909, 1245, 1273, 1943, 2805, 3494, 3512, 3808, 3891, 4267, 4516, 4530, 5056, 5225, 5573, 6206, 6281, 6338]\n"
          ]
        }
      ]
    },
    {
      "cell_type": "code",
      "source": [
        "# 1ère entrée de la liste\n",
        "index_min = short_entries_indexes[0]\n",
        "\n",
        "# Dernier index du dataframe\n",
        "index_max = max(df_IT.index)\n",
        "\n",
        "print(\"Sélection des lignes entre {} et {}\".format(index_min,index_max))"
      ],
      "metadata": {
        "colab": {
          "base_uri": "https://localhost:8080/"
        },
        "id": "Ghuj4S-da_cO",
        "outputId": "92c99cc6-698d-4aa1-9971-346b5a047fb4"
      },
      "execution_count": 31,
      "outputs": [
        {
          "output_type": "stream",
          "name": "stdout",
          "text": [
            "Sélection des lignes entre 782 et 6371\n"
          ]
        }
      ]
    },
    {
      "cell_type": "code",
      "source": [
        "df_short_entries = df_IT.loc[index_min:index_max]\n",
        "df_short_entries = df_short_entries[['Date','Open','Close','ATR']].copy()"
      ],
      "metadata": {
        "id": "LVkKhe5GQoGd"
      },
      "execution_count": 32,
      "outputs": []
    },
    {
      "cell_type": "markdown",
      "source": [
        "### Conditions de sortie\n",
        "2 ATR en stop Loss, 1:3 en Risk Reward"
      ],
      "metadata": {
        "id": "-pLYuF0VVCQx"
      }
    },
    {
      "cell_type": "code",
      "source": [
        "def generate_exit_vars(df_entries, entry_index):\n",
        "  ''' Obtient l'Open de l'index d'entrée.\n",
        "  Puis génère la valeur du Stop Loss et Take Profit'''\n",
        "\n",
        "  df = df_entries.copy()\n",
        "\n",
        "  entree_reference = df.at[entry_index,\"Open\"]\n",
        "  atr_reference = df.at[entry_index,\"ATR\"]\n",
        "\n",
        "  stop_loss = entree_reference + 2 * atr_reference\n",
        "  take_profit = entree_reference - 3 * (2 * atr_reference)\n",
        "\n",
        "  return stop_loss, take_profit, entree_reference"
      ],
      "metadata": {
        "id": "auK9M7JxZNj_"
      },
      "execution_count": 33,
      "outputs": []
    },
    {
      "cell_type": "code",
      "source": [
        "# Test fonctionnement de la fonction\n",
        "a, b, c = generate_exit_vars(df_short_entries, 782)\n",
        "print(\"Stop Loss : {}, Take Profit : {}\".format(a,b))\n",
        "# Validé"
      ],
      "metadata": {
        "colab": {
          "base_uri": "https://localhost:8080/"
        },
        "id": "aZQF9A4OZ5Xn",
        "outputId": "6ea70dc8-73ea-45e4-e65e-52f269049624"
      },
      "execution_count": 34,
      "outputs": [
        {
          "output_type": "stream",
          "name": "stdout",
          "text": [
            "Stop Loss : 2678.62, Take Profit : 1710.06\n"
          ]
        }
      ]
    },
    {
      "cell_type": "code",
      "source": [
        "def return_SL_or_TP_index(df_entries, entry_index, stop_loss, take_profit) :\n",
        "  '''Serie des valeurs close entre entrée et -1 de la suivante\n",
        "  Si Close > Stop loss, dans le cas d'un Short, alors touché.\n",
        "  On cherche alors l'index de la première valeur >=0, si il existe'''\n",
        "\n",
        "  df = df_entries.copy()\n",
        "\n",
        "  last_line = max(df.index)\n",
        "\n",
        "  # Index Stop Loss, ou index max df\n",
        "  close_series = (df.loc[entry_index:last_line,\"Close\"] - stop_loss) >= 0\n",
        "  if len(close_series[ close_series == True ]) > 0 :\n",
        "    sl_index = close_series[ close_series == True ].index[0]\n",
        "  else :\n",
        "    # Pour la dernière entrée, si rien n'est touché, alors la dernière ligne fera office de sortie\n",
        "    sl_index = max(df.index)\n",
        "\n",
        "  # Index Take Profit\n",
        "  close_series = (take_profit - df.loc[entry_index:last_line,\"Close\"]) >= 0\n",
        "  if len(close_series[ close_series == True ]) > 0 :\n",
        "    tp_index = close_series[ close_series == True ].index[0]\n",
        "  else :\n",
        "    tp_index = max(df.index)\n",
        " \n",
        "  \n",
        "  lowest_index = min(sl_index, tp_index)\n",
        "  exit_position = df.at[lowest_index,\"Close\"]\n",
        "\n",
        "  return exit_position"
      ],
      "metadata": {
        "id": "fNtBKRxLaTpM"
      },
      "execution_count": 35,
      "outputs": []
    },
    {
      "cell_type": "code",
      "source": [
        "out = return_SL_or_TP_index(df_short_entries, 782, a, b)\n",
        "print(out)\n",
        "# Validé, Close Take Profit à index 803, gain, pour entrée 782 avec Open 2436"
      ],
      "metadata": {
        "colab": {
          "base_uri": "https://localhost:8080/"
        },
        "id": "SLYfyDvPjh0m",
        "outputId": "6dc26e34-4ee2-4609-b514-84a5b294b730"
      },
      "execution_count": 36,
      "outputs": [
        {
          "output_type": "stream",
          "name": "stdout",
          "text": [
            "1680.64\n"
          ]
        }
      ]
    },
    {
      "cell_type": "markdown",
      "source": [
        "### Métriques de performance (adaptés à Short)"
      ],
      "metadata": {
        "id": "JIjPeQVMtdSf"
      }
    },
    {
      "cell_type": "code",
      "source": [
        "def calc_perf(entree, cloture):\n",
        "  '''Calcule la performance en % entrée l'Open à index d'entrée,\n",
        "  et le Close en index de Take Profit ou Stop loss de l'entrée considérée.\n",
        "  ATTENTIONS : Performance valide pour SHORT -> Cloture < Entrée'''\n",
        "\n",
        "  return round( -((cloture-entree)/entree), 3)"
      ],
      "metadata": {
        "id": "Dz7rFzt4jhqm"
      },
      "execution_count": 37,
      "outputs": []
    },
    {
      "cell_type": "code",
      "source": [
        "calc_perf(c, out)"
      ],
      "metadata": {
        "colab": {
          "base_uri": "https://localhost:8080/"
        },
        "id": "WZgSMFwmn22m",
        "outputId": "40db915a-072b-4fef-a4dc-64a153296500"
      },
      "execution_count": 38,
      "outputs": [
        {
          "output_type": "execute_result",
          "data": {
            "text/plain": [
              "0.31"
            ]
          },
          "metadata": {},
          "execution_count": 38
        }
      ]
    },
    {
      "cell_type": "code",
      "source": [
        "%time\n",
        "\n",
        "list_perf = []\n",
        "\n",
        "for entry in short_entries_indexes:\n",
        "\n",
        "  # Calcul stop loss, take profit, et stocke Open de l'index d'entrée\n",
        "  sl, tp, entry_price = generate_exit_vars(df_short_entries, entry)\n",
        "\n",
        "  # Prix en sortie, que ce soit SL ou TP, ou dernière valeur du DataFrame\n",
        "  exit_price = return_SL_or_TP_index(df_short_entries, entry, sl, tp)\n",
        "\n",
        "  # Calcul de la performance et ajout à la liste\n",
        "  list_perf.append( calc_perf(entry_price, exit_price) )"
      ],
      "metadata": {
        "id": "F5SH1xmmogOd",
        "colab": {
          "base_uri": "https://localhost:8080/"
        },
        "outputId": "c016ebab-425f-49b1-8c8d-7ca4bbc3200f"
      },
      "execution_count": 39,
      "outputs": [
        {
          "output_type": "stream",
          "name": "stdout",
          "text": [
            "CPU times: user 5 µs, sys: 0 ns, total: 5 µs\n",
            "Wall time: 9.54 µs\n"
          ]
        }
      ]
    },
    {
      "cell_type": "code",
      "source": [
        "print(list_perf)"
      ],
      "metadata": {
        "colab": {
          "base_uri": "https://localhost:8080/"
        },
        "id": "5cPUDeniognV",
        "outputId": "9c8b3052-24b7-4f5b-f1f0-c7b6a5aad9b0"
      },
      "execution_count": 40,
      "outputs": [
        {
          "output_type": "stream",
          "name": "stdout",
          "text": [
            "[0.31, 0.313, 0.306, 0.263, 0.227, -0.075, -0.08, -0.024, -0.081, -0.048, -0.043, -0.027, -0.034, -0.042, -0.034, 0.108, -0.045, 0.087, 0.159, 0.133, -0.049, -0.042]\n"
          ]
        }
      ]
    },
    {
      "cell_type": "code",
      "source": [
        "# Profit factor\n",
        "\n",
        "a_perf = np.array(list_perf)\n",
        "\n",
        "count_won = len( a_perf[a_perf > 0] )\n",
        "count_lost = len(a_perf) - count_won\n",
        "print(\"Win Rate : {:.2f}\".format(count_won/len(a_perf)))\n",
        "\n",
        "# Reward-to-Risk Ratio X Win Ratio) - (Loss Ratio) = Expectancy Ratio\n",
        "expectancy_ratio = 3 * count_won/len(a_perf) - count_lost/len(a_perf)\n",
        "print(\"Expectancy Ratio : {:.2f}\".format(expectancy_ratio))"
      ],
      "metadata": {
        "colab": {
          "base_uri": "https://localhost:8080/"
        },
        "id": "YH90vGflogzt",
        "outputId": "45d762b1-cae7-48a1-bf15-c2d391de13e5"
      },
      "execution_count": 41,
      "outputs": [
        {
          "output_type": "stream",
          "name": "stdout",
          "text": [
            "Win Rate : 0.41\n",
            "Expectancy Ratio : 0.64\n"
          ]
        }
      ]
    },
    {
      "cell_type": "code",
      "source": [
        "# Génère le gain ou la perte nette par rapport à 1000€ d'investissement\n",
        "# Avec 1% de commission à l'entrée, et 1% de commission en sortie, 7 de Leverage\n",
        "perf_nette_b1000 = [(999*(1+x*3)-1000)*0.99 for x in list_perf]\n",
        "#perf_nette_b1000 = [(999*(1+x)-1000)*0.99 for x in list_perf]\n",
        "\n",
        "\n",
        "arr_b1000 = np.array(perf_nette_b1000)\n",
        "moyenne_gains_nets = np.mean(arr_b1000[ arr_b1000>0 ])\n",
        "moyenne_pertes_nettes = np.mean(arr_b1000[ arr_b1000<0 ])\n",
        "print(\"Avg_gain : {:.2f}, Avg_perte : {:.2f}\".format(moyenne_gains_nets,moyenne_pertes_nettes))\n",
        "\n",
        "expectancy = (count_won/len(a_perf) * moyenne_gains_nets) - (count_lost/len(a_perf) * moyenne_pertes_nettes)\n",
        "print(\"Expectancy : {:.2f}\".format(expectancy))\n",
        "\n",
        "profit_factor = np.sum(arr_b1000[ arr_b1000>0 ]) / np.sum( np.abs(arr_b1000[ arr_b1000<0 ]) )\n",
        "print(\"Profit Factor : {:.2f}\".format(profit_factor))"
      ],
      "metadata": {
        "colab": {
          "base_uri": "https://localhost:8080/"
        },
        "id": "cavDNjkFsEBR",
        "outputId": "a656c990-11cc-41bf-ca05-c13e0002f6cb"
      },
      "execution_count": 57,
      "outputs": [
        {
          "output_type": "stream",
          "name": "stdout",
          "text": [
            "Avg_gain : 627.36, Avg_perte : -143.41\n",
            "Expectancy : 341.39\n",
            "Profit Factor : 3.03\n"
          ]
        }
      ]
    },
    {
      "cell_type": "code",
      "source": [
        "''' Leverage de 3 choisi avec les paramètres actuels car perte toujours inférieure à -250€\n",
        "Attention : on a une série de 10 pertes ! \n",
        "Cf graphique, 5 gains nous font passer de 0 à 4000€ et 10 pertes baisser à 3000€'''\n",
        "perf_nette_b1000"
      ],
      "metadata": {
        "colab": {
          "base_uri": "https://localhost:8080/"
        },
        "id": "q-Q9NO15rxmj",
        "outputId": "b65f03b8-fbb8-48ac-c3d4-803e69241f21"
      },
      "execution_count": 58,
      "outputs": [
        {
          "output_type": "execute_result",
          "data": {
            "text/plain": [
              "[918.7892999999999,\n",
              " 927.6903900000001,\n",
              " 906.9211799999998,\n",
              " 779.3388900000002,\n",
              " 672.52581,\n",
              " -223.51724999999996,\n",
              " -238.3524,\n",
              " -72.19872000000011,\n",
              " -241.31942999999995,\n",
              " -143.40743999999998,\n",
              " -128.57228999999998,\n",
              " -81.09980999999998,\n",
              " -101.86902000000002,\n",
              " -125.60526000000002,\n",
              " -101.86902000000002,\n",
              " 319.44924000000015,\n",
              " -134.50635,\n",
              " 257.14161,\n",
              " 470.7677699999999,\n",
              " 393.6249900000001,\n",
              " -146.37447000000006,\n",
              " -125.60526000000002]"
            ]
          },
          "metadata": {},
          "execution_count": 58
        }
      ]
    },
    {
      "cell_type": "code",
      "source": [
        "courbe_profit = np.cumsum(arr_b1000)\n",
        "sns.lineplot(data=courbe_profit)"
      ],
      "metadata": {
        "colab": {
          "base_uri": "https://localhost:8080/",
          "height": 448
        },
        "id": "RGVyqUw52PDH",
        "outputId": "3969312b-683b-406e-cc58-d7ea33c129ef"
      },
      "execution_count": 59,
      "outputs": [
        {
          "output_type": "execute_result",
          "data": {
            "text/plain": [
              "<Axes: >"
            ]
          },
          "metadata": {},
          "execution_count": 59
        },
        {
          "output_type": "display_data",
          "data": {
            "text/plain": [
              "<Figure size 640x480 with 1 Axes>"
            ],
            "image/png": "[encoded data removed]"
          },
          "metadata": {}
        }
      ]
    },
    {
      "cell_type": "markdown",
      "source": [
        "### Combinaisons possibles"
      ],
      "metadata": {
        "id": "lRYKRBu9uE9h"
      }
    },
    {
      "cell_type": "code",
      "source": [
        "a_ema = np.array( [e for e in range(40,88,2)] )\n",
        "a_AT_period = np.array( [p for p in range(4,42,2)] )\n",
        "a_STC_length = np.array( [l for l in range(98,132,2)] )\n",
        "a_STC_slow = np.array( [s for s in range(98,132,2)] )"
      ],
      "metadata": {
        "id": "pGH1Wow_uITR"
      },
      "execution_count": 61,
      "outputs": []
    },
    {
      "cell_type": "code",
      "source": [
        "%time\n",
        "\n",
        "W, X, Y, Z = np.meshgrid(a_ema, a_AT_period, a_STC_length, a_STC_slow)\n",
        "combinations = np.column_stack( (W.ravel(), X.ravel(), Y.ravel(), Z.ravel()) )"
      ],
      "metadata": {
        "colab": {
          "base_uri": "https://localhost:8080/"
        },
        "id": "U53ex6jCuZTG",
        "outputId": "2ec66439-b658-4d0c-d14a-bb25411f69bc"
      },
      "execution_count": 63,
      "outputs": [
        {
          "output_type": "stream",
          "name": "stdout",
          "text": [
            "CPU times: user 4 µs, sys: 1 µs, total: 5 µs\n",
            "Wall time: 9.06 µs\n"
          ]
        }
      ]
    },
    {
      "cell_type": "code",
      "source": [
        "combinations.shape"
      ],
      "metadata": {
        "colab": {
          "base_uri": "https://localhost:8080/"
        },
        "id": "G0vd-VA55BXm",
        "outputId": "03a6ee68-0212-4b7b-ce40-ac3be467e1b4"
      },
      "execution_count": 64,
      "outputs": [
        {
          "output_type": "execute_result",
          "data": {
            "text/plain": [
              "(131784, 4)"
            ]
          },
          "metadata": {},
          "execution_count": 64
        }
      ]
    },
    {
      "cell_type": "code",
      "source": [
        "combinations[0][0]"
      ],
      "metadata": {
        "colab": {
          "base_uri": "https://localhost:8080/"
        },
        "id": "6apdx9915QHm",
        "outputId": "e0adef6c-be3f-4f31-cf14-a56f70666b44"
      },
      "execution_count": 71,
      "outputs": [
        {
          "output_type": "execute_result",
          "data": {
            "text/plain": [
              "40"
            ]
          },
          "metadata": {},
          "execution_count": 71
        }
      ]
    },
    {
      "cell_type": "code",
      "source": [
        "# 2e methode\n",
        "import itertools"
      ],
      "metadata": {
        "id": "vfmoM6E55Uwk"
      },
      "execution_count": 72,
      "outputs": []
    },
    {
      "cell_type": "code",
      "source": [
        "l_ema = [e for e in range(40,88,2)]\n",
        "l_AT_period = [p for p in range(4,42,2)]\n",
        "l_STC_length = [l for l in range(98,132,2)]\n",
        "l_STC_slow = [s for s in range(98,132,2)]\n",
        "\n",
        "all_params = [l_ema, l_AT_period, l_STC_length, l_STC_slow]"
      ],
      "metadata": {
        "id": "Qd2ojQgQ5sdT"
      },
      "execution_count": 73,
      "outputs": []
    },
    {
      "cell_type": "code",
      "source": [
        "%time\n",
        "res = list(itertools.product(*all_params))"
      ],
      "metadata": {
        "colab": {
          "base_uri": "https://localhost:8080/"
        },
        "id": "LymLwCoy6AYf",
        "outputId": "f9b40dac-7bd4-4d5b-af3f-ebaec6193705"
      },
      "execution_count": 74,
      "outputs": [
        {
          "output_type": "stream",
          "name": "stdout",
          "text": [
            "CPU times: user 4 µs, sys: 0 ns, total: 4 µs\n",
            "Wall time: 8.34 µs\n"
          ]
        }
      ]
    },
    {
      "cell_type": "code",
      "source": [
        "len(res)"
      ],
      "metadata": {
        "colab": {
          "base_uri": "https://localhost:8080/"
        },
        "id": "CPF_mTVm6Lr-",
        "outputId": "14f30fde-4b27-4902-a24f-76ec41534267"
      },
      "execution_count": 75,
      "outputs": [
        {
          "output_type": "execute_result",
          "data": {
            "text/plain": [
              "131784"
            ]
          },
          "metadata": {},
          "execution_count": 75
        }
      ]
    },
    {
      "cell_type": "code",
      "source": [
        "res[0][0]"
      ],
      "metadata": {
        "colab": {
          "base_uri": "https://localhost:8080/"
        },
        "id": "Q93x3Wa36OtG",
        "outputId": "eee992d5-91e6-404c-b91e-c2dd0e163540"
      },
      "execution_count": 78,
      "outputs": [
        {
          "output_type": "execute_result",
          "data": {
            "text/plain": [
              "40"
            ]
          },
          "metadata": {},
          "execution_count": 78
        }
      ]
    }
  ]
}
