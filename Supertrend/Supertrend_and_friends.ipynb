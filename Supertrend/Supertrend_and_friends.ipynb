{
  "nbformat": 4,
  "nbformat_minor": 0,
  "metadata": {
    "colab": {
      "name": "Supertrend and friends.ipynb",
      "provenance": [],
      "collapsed_sections": [
        "jj9pY5lmb46S",
        "gur_QqoIuEzR",
        "ds_TNBqPQ7sZ",
        "ej16lW_blTws",
        "bw7q_sP1WH13",
        "evtUO5QqpWv2",
        "RSk2A8sa_NTr"
      ],
      "mount_file_id": "1_FPWw736TJSZDmGd1f08ejHxRkrWlrnw",
      "authorship_tag": "ABX9TyOp/CuPlWfIvOygh5Z7U9dN"
    },
    "kernelspec": {
      "name": "python3",
      "display_name": "Python 3"
    },
    "language_info": {
      "name": "python"
    }
  },
  "cells": [
    {
      "cell_type": "markdown",
      "source": [
        "# Import librairies et data #"
      ],
      "metadata": {
        "id": "BzjtmYAO7uCh"
      }
    },
    {
      "cell_type": "code",
      "execution_count": null,
      "metadata": {
        "id": "6HVFibrM7h3v"
      },
      "outputs": [],
      "source": [
        "!pip install ta\n",
        "!pip install investpy\n",
        "!pip install pandas-ta"
      ]
    },
    {
      "cell_type": "code",
      "source": [
        "import pandas as pd\n",
        "import numpy as np\n",
        "from datetime import datetime, timedelta\n",
        "\n",
        "import investpy\n",
        "import pandas_ta as ta\n",
        "\n",
        "from copy import copy\n",
        "import matplotlib.pyplot as plt\n",
        "import plotly.figure_factory as ff\n",
        "import plotly.express as px\n",
        "import plotly.graph_objects as go\n",
        "\n",
        "import math\n",
        "import statistics as stats\n",
        "import random\n",
        "import multiprocessing as mp"
      ],
      "metadata": {
        "id": "H-4Qytyd7zwH"
      },
      "execution_count": null,
      "outputs": []
    },
    {
      "cell_type": "code",
      "source": [
        "df_source = investpy.get_etf_historical_data(etf='Lyxor UCITS NASDAQ-100 Daily Leverage',\n",
        "                                            country='France',\n",
        "                                            from_date='01/10/2006',\n",
        "                                            to_date='31/12/2011')\n",
        "\n",
        "df_source.drop(columns=['Currency','Exchange'], inplace=True)\n",
        "#df_source.reset_index(inplace=True)"
      ],
      "metadata": {
        "id": "-6wB3RB474rX"
      },
      "execution_count": null,
      "outputs": []
    },
    {
      "cell_type": "code",
      "source": [
        "df_source.isnull().sum()"
      ],
      "metadata": {
        "colab": {
          "base_uri": "https://localhost:8080/"
        },
        "id": "hbmCu28y745-",
        "outputId": "7532dfad-6eec-40ef-d8dc-82ad2a13f4a4"
      },
      "execution_count": null,
      "outputs": [
        {
          "output_type": "execute_result",
          "data": {
            "text/plain": [
              "Open      0\n",
              "High      0\n",
              "Low       0\n",
              "Close     0\n",
              "Volume    0\n",
              "dtype: int64"
            ]
          },
          "metadata": {},
          "execution_count": 5
        }
      ]
    },
    {
      "cell_type": "code",
      "source": [
        "df_source.tail(1)"
      ],
      "metadata": {
        "colab": {
          "base_uri": "https://localhost:8080/",
          "height": 112
        },
        "id": "u4y_v8Da75E2",
        "outputId": "af5bfe1e-d4d8-4a86-efae-9fb7cfb8ba0d"
      },
      "execution_count": null,
      "outputs": [
        {
          "output_type": "execute_result",
          "data": {
            "text/plain": [
              "             Open   High   Low  Close  Volume\n",
              "Date                                         \n",
              "2011-12-30  24.07  24.07  23.9  23.94   32433"
            ],
            "text/html": [
              "\n",
              "  <div id=\"df-4da12d0a-4c76-49f0-8161-de1089811f02\">\n",
              "    <div class=\"colab-df-container\">\n",
              "      <div>\n",
              "<style scoped>\n",
              "    .dataframe tbody tr th:only-of-type {\n",
              "        vertical-align: middle;\n",
              "    }\n",
              "\n",
              "    .dataframe tbody tr th {\n",
              "        vertical-align: top;\n",
              "    }\n",
              "\n",
              "    .dataframe thead th {\n",
              "        text-align: right;\n",
              "    }\n",
              "</style>\n",
              "<table border=\"1\" class=\"dataframe\">\n",
              "  <thead>\n",
              "    <tr style=\"text-align: right;\">\n",
              "      <th></th>\n",
              "      <th>Open</th>\n",
              "      <th>High</th>\n",
              "      <th>Low</th>\n",
              "      <th>Close</th>\n",
              "      <th>Volume</th>\n",
              "    </tr>\n",
              "    <tr>\n",
              "      <th>Date</th>\n",
              "      <th></th>\n",
              "      <th></th>\n",
              "      <th></th>\n",
              "      <th></th>\n",
              "      <th></th>\n",
              "    </tr>\n",
              "  </thead>\n",
              "  <tbody>\n",
              "    <tr>\n",
              "      <th>2011-12-30</th>\n",
              "      <td>24.07</td>\n",
              "      <td>24.07</td>\n",
              "      <td>23.9</td>\n",
              "      <td>23.94</td>\n",
              "      <td>32433</td>\n",
              "    </tr>\n",
              "  </tbody>\n",
              "</table>\n",
              "</div>\n",
              "      <button class=\"colab-df-convert\" onclick=\"convertToInteractive('df-4da12d0a-4c76-49f0-8161-de1089811f02')\"\n",
              "              title=\"Convert this dataframe to an interactive table.\"\n",
              "              style=\"display:none;\">\n",
              "        \n",
              "  <svg xmlns=\"http://www.w3.org/2000/svg\" height=\"24px\"viewBox=\"0 0 24 24\"\n",
              "       width=\"24px\">\n",
              "    <path d=\"M0 0h24v24H0V0z\" fill=\"none\"/>\n",
              "    <path d=\"M18.56 5.44l.94 2.06.94-2.06 2.06-.94-2.06-.94-.94-2.06-.94 2.06-2.06.94zm-11 1L8.5 8.5l.94-2.06 2.06-.94-2.06-.94L8.5 2.5l-.94 2.06-2.06.94zm10 10l.94 2.06.94-2.06 2.06-.94-2.06-.94-.94-2.06-.94 2.06-2.06.94z\"/><path d=\"M17.41 7.96l-1.37-1.37c-.4-.4-.92-.59-1.43-.59-.52 0-1.04.2-1.43.59L10.3 9.45l-7.72 7.72c-.78.78-.78 2.05 0 2.83L4 21.41c.39.39.9.59 1.41.59.51 0 1.02-.2 1.41-.59l7.78-7.78 2.81-2.81c.8-.78.8-2.07 0-2.86zM5.41 20L4 18.59l7.72-7.72 1.47 1.35L5.41 20z\"/>\n",
              "  </svg>\n",
              "      </button>\n",
              "      \n",
              "  <style>\n",
              "    .colab-df-container {\n",
              "      display:flex;\n",
              "      flex-wrap:wrap;\n",
              "      gap: 12px;\n",
              "    }\n",
              "\n",
              "    .colab-df-convert {\n",
              "      background-color: #E8F0FE;\n",
              "      border: none;\n",
              "      border-radius: 50%;\n",
              "      cursor: pointer;\n",
              "      display: none;\n",
              "      fill: #1967D2;\n",
              "      height: 32px;\n",
              "      padding: 0 0 0 0;\n",
              "      width: 32px;\n",
              "    }\n",
              "\n",
              "    .colab-df-convert:hover {\n",
              "      background-color: #E2EBFA;\n",
              "      box-shadow: 0px 1px 2px rgba(60, 64, 67, 0.3), 0px 1px 3px 1px rgba(60, 64, 67, 0.15);\n",
              "      fill: #174EA6;\n",
              "    }\n",
              "\n",
              "    [theme=dark] .colab-df-convert {\n",
              "      background-color: #3B4455;\n",
              "      fill: #D2E3FC;\n",
              "    }\n",
              "\n",
              "    [theme=dark] .colab-df-convert:hover {\n",
              "      background-color: #434B5C;\n",
              "      box-shadow: 0px 1px 3px 1px rgba(0, 0, 0, 0.15);\n",
              "      filter: drop-shadow(0px 1px 2px rgba(0, 0, 0, 0.3));\n",
              "      fill: #FFFFFF;\n",
              "    }\n",
              "  </style>\n",
              "\n",
              "      <script>\n",
              "        const buttonEl =\n",
              "          document.querySelector('#df-4da12d0a-4c76-49f0-8161-de1089811f02 button.colab-df-convert');\n",
              "        buttonEl.style.display =\n",
              "          google.colab.kernel.accessAllowed ? 'block' : 'none';\n",
              "\n",
              "        async function convertToInteractive(key) {\n",
              "          const element = document.querySelector('#df-4da12d0a-4c76-49f0-8161-de1089811f02');\n",
              "          const dataTable =\n",
              "            await google.colab.kernel.invokeFunction('convertToInteractive',\n",
              "                                                     [key], {});\n",
              "          if (!dataTable) return;\n",
              "\n",
              "          const docLinkHtml = 'Like what you see? Visit the ' +\n",
              "            '<a target=\"_blank\" href=https://colab.research.google.com/notebooks/data_table.ipynb>data table notebook</a>'\n",
              "            + ' to learn more about interactive tables.';\n",
              "          element.innerHTML = '';\n",
              "          dataTable['output_type'] = 'display_data';\n",
              "          await google.colab.output.renderOutput(dataTable, element);\n",
              "          const docLink = document.createElement('div');\n",
              "          docLink.innerHTML = docLinkHtml;\n",
              "          element.appendChild(docLink);\n",
              "        }\n",
              "      </script>\n",
              "    </div>\n",
              "  </div>\n",
              "  "
            ]
          },
          "metadata": {},
          "execution_count": 6
        }
      ]
    },
    {
      "cell_type": "code",
      "source": [
        "df_source_allTime = investpy.get_etf_historical_data(etf='Lyxor UCITS NASDAQ-100 Daily Leverage',\n",
        "                                            country='France',\n",
        "                                            from_date='01/10/2006',\n",
        "                                            to_date='14/04/2022')\n",
        "\n",
        "df_source_allTime.drop(columns=['Currency','Exchange'], inplace=True)\n",
        "df_source.isnull().sum()"
      ],
      "metadata": {
        "colab": {
          "base_uri": "https://localhost:8080/"
        },
        "id": "VLAyFbfDvd8I",
        "outputId": "43338506-31a3-466d-dda2-2f26189fe5eb"
      },
      "execution_count": null,
      "outputs": [
        {
          "output_type": "execute_result",
          "data": {
            "text/plain": [
              "Open      0\n",
              "High      0\n",
              "Low       0\n",
              "Close     0\n",
              "Volume    0\n",
              "dtype: int64"
            ]
          },
          "metadata": {},
          "execution_count": 7
        }
      ]
    },
    {
      "cell_type": "code",
      "source": [
        "df_source_allTime.tail(1)"
      ],
      "metadata": {
        "colab": {
          "base_uri": "https://localhost:8080/",
          "height": 112
        },
        "id": "yfFDNu7WmiOU",
        "outputId": "0cc24b75-3c2d-4f07-b947-677662f8ef53"
      },
      "execution_count": null,
      "outputs": [
        {
          "output_type": "execute_result",
          "data": {
            "text/plain": [
              "             Open   High    Low  Close  Volume\n",
              "Date                                          \n",
              "2022-04-14  724.3  726.8  708.0  711.3    3226"
            ],
            "text/html": [
              "\n",
              "  <div id=\"df-c9981d31-19d9-404d-8893-58d125c73f76\">\n",
              "    <div class=\"colab-df-container\">\n",
              "      <div>\n",
              "<style scoped>\n",
              "    .dataframe tbody tr th:only-of-type {\n",
              "        vertical-align: middle;\n",
              "    }\n",
              "\n",
              "    .dataframe tbody tr th {\n",
              "        vertical-align: top;\n",
              "    }\n",
              "\n",
              "    .dataframe thead th {\n",
              "        text-align: right;\n",
              "    }\n",
              "</style>\n",
              "<table border=\"1\" class=\"dataframe\">\n",
              "  <thead>\n",
              "    <tr style=\"text-align: right;\">\n",
              "      <th></th>\n",
              "      <th>Open</th>\n",
              "      <th>High</th>\n",
              "      <th>Low</th>\n",
              "      <th>Close</th>\n",
              "      <th>Volume</th>\n",
              "    </tr>\n",
              "    <tr>\n",
              "      <th>Date</th>\n",
              "      <th></th>\n",
              "      <th></th>\n",
              "      <th></th>\n",
              "      <th></th>\n",
              "      <th></th>\n",
              "    </tr>\n",
              "  </thead>\n",
              "  <tbody>\n",
              "    <tr>\n",
              "      <th>2022-04-14</th>\n",
              "      <td>724.3</td>\n",
              "      <td>726.8</td>\n",
              "      <td>708.0</td>\n",
              "      <td>711.3</td>\n",
              "      <td>3226</td>\n",
              "    </tr>\n",
              "  </tbody>\n",
              "</table>\n",
              "</div>\n",
              "      <button class=\"colab-df-convert\" onclick=\"convertToInteractive('df-c9981d31-19d9-404d-8893-58d125c73f76')\"\n",
              "              title=\"Convert this dataframe to an interactive table.\"\n",
              "              style=\"display:none;\">\n",
              "        \n",
              "  <svg xmlns=\"http://www.w3.org/2000/svg\" height=\"24px\"viewBox=\"0 0 24 24\"\n",
              "       width=\"24px\">\n",
              "    <path d=\"M0 0h24v24H0V0z\" fill=\"none\"/>\n",
              "    <path d=\"M18.56 5.44l.94 2.06.94-2.06 2.06-.94-2.06-.94-.94-2.06-.94 2.06-2.06.94zm-11 1L8.5 8.5l.94-2.06 2.06-.94-2.06-.94L8.5 2.5l-.94 2.06-2.06.94zm10 10l.94 2.06.94-2.06 2.06-.94-2.06-.94-.94-2.06-.94 2.06-2.06.94z\"/><path d=\"M17.41 7.96l-1.37-1.37c-.4-.4-.92-.59-1.43-.59-.52 0-1.04.2-1.43.59L10.3 9.45l-7.72 7.72c-.78.78-.78 2.05 0 2.83L4 21.41c.39.39.9.59 1.41.59.51 0 1.02-.2 1.41-.59l7.78-7.78 2.81-2.81c.8-.78.8-2.07 0-2.86zM5.41 20L4 18.59l7.72-7.72 1.47 1.35L5.41 20z\"/>\n",
              "  </svg>\n",
              "      </button>\n",
              "      \n",
              "  <style>\n",
              "    .colab-df-container {\n",
              "      display:flex;\n",
              "      flex-wrap:wrap;\n",
              "      gap: 12px;\n",
              "    }\n",
              "\n",
              "    .colab-df-convert {\n",
              "      background-color: #E8F0FE;\n",
              "      border: none;\n",
              "      border-radius: 50%;\n",
              "      cursor: pointer;\n",
              "      display: none;\n",
              "      fill: #1967D2;\n",
              "      height: 32px;\n",
              "      padding: 0 0 0 0;\n",
              "      width: 32px;\n",
              "    }\n",
              "\n",
              "    .colab-df-convert:hover {\n",
              "      background-color: #E2EBFA;\n",
              "      box-shadow: 0px 1px 2px rgba(60, 64, 67, 0.3), 0px 1px 3px 1px rgba(60, 64, 67, 0.15);\n",
              "      fill: #174EA6;\n",
              "    }\n",
              "\n",
              "    [theme=dark] .colab-df-convert {\n",
              "      background-color: #3B4455;\n",
              "      fill: #D2E3FC;\n",
              "    }\n",
              "\n",
              "    [theme=dark] .colab-df-convert:hover {\n",
              "      background-color: #434B5C;\n",
              "      box-shadow: 0px 1px 3px 1px rgba(0, 0, 0, 0.15);\n",
              "      filter: drop-shadow(0px 1px 2px rgba(0, 0, 0, 0.3));\n",
              "      fill: #FFFFFF;\n",
              "    }\n",
              "  </style>\n",
              "\n",
              "      <script>\n",
              "        const buttonEl =\n",
              "          document.querySelector('#df-c9981d31-19d9-404d-8893-58d125c73f76 button.colab-df-convert');\n",
              "        buttonEl.style.display =\n",
              "          google.colab.kernel.accessAllowed ? 'block' : 'none';\n",
              "\n",
              "        async function convertToInteractive(key) {\n",
              "          const element = document.querySelector('#df-c9981d31-19d9-404d-8893-58d125c73f76');\n",
              "          const dataTable =\n",
              "            await google.colab.kernel.invokeFunction('convertToInteractive',\n",
              "                                                     [key], {});\n",
              "          if (!dataTable) return;\n",
              "\n",
              "          const docLinkHtml = 'Like what you see? Visit the ' +\n",
              "            '<a target=\"_blank\" href=https://colab.research.google.com/notebooks/data_table.ipynb>data table notebook</a>'\n",
              "            + ' to learn more about interactive tables.';\n",
              "          element.innerHTML = '';\n",
              "          dataTable['output_type'] = 'display_data';\n",
              "          await google.colab.output.renderOutput(dataTable, element);\n",
              "          const docLink = document.createElement('div');\n",
              "          docLink.innerHTML = docLinkHtml;\n",
              "          element.appendChild(docLink);\n",
              "        }\n",
              "      </script>\n",
              "    </div>\n",
              "  </div>\n",
              "  "
            ]
          },
          "metadata": {},
          "execution_count": 8
        }
      ]
    },
    {
      "cell_type": "code",
      "source": [
        "bh1 = ((df_source['Close'].iloc[-1] - df_source['Close'].iloc[0])/df_source['Close'].iloc[0])*100\n",
        "bh2 = ((df_source_allTime['Close'].iloc[-1] - df_source_allTime['Close'].iloc[0])/df_source_allTime['Close'].iloc[0])*100\n",
        "print(\"Buy & Hold 2006-2011 : {:.2f} %\".format(bh1))\n",
        "print(\"Buy & Hold 2006-2022 : {:.2f} %\".format(bh2))"
      ],
      "metadata": {
        "colab": {
          "base_uri": "https://localhost:8080/"
        },
        "id": "azBUDPqjZ4BF",
        "outputId": "c27525d4-1175-4b8b-d64b-1b2887dba6fd"
      },
      "execution_count": null,
      "outputs": [
        {
          "output_type": "stream",
          "name": "stdout",
          "text": [
            "Buy & Hold 2006-2011 : 37.27 %\n",
            "Buy & Hold 2006-2022 : 3978.56 %\n"
          ]
        }
      ]
    },
    {
      "cell_type": "markdown",
      "source": [
        "# Fonctions #"
      ],
      "metadata": {
        "id": "jj9pY5lmb46S"
      }
    },
    {
      "cell_type": "code",
      "source": [
        "def generate_ta(df_in,atr,multip,vwma_l):\n",
        "  ''' Genère un Dataframe contenant Supertrend + VWMA '''\n",
        "\n",
        "  df = df_in.ta.supertrend(high=df_in[\"High\"], low=df_in[\"Low\"], close=df_in[\"Close\"], length = atr, multiplier = multip)\n",
        "\n",
        "  # Nom des colonnes pour saisir la 1ere variabilisée\n",
        "  col_list = df.columns\n",
        "  # Suppresion des lignes vides, Subset sur la colonne supertrend\n",
        "  df.dropna(subset=[col_list[0]], inplace=True)\n",
        "\n",
        "  # Suppression de la 1ère ligne dans la valeur supertrend est = 0\n",
        "  s_supertrend = df.iloc[1:,0]\n",
        "\n",
        "  df_st = df_in.join(s_supertrend)\n",
        "\n",
        "  # Suppression des lignes sans correspondance entre date et une valeur supertrend\n",
        "  col_list = df_st.columns\n",
        "  # Colonne supertrend étant la dernière\n",
        "  supertrend_col = col_list[-1]\n",
        "  # Garder uniquement date, close et supertrend\n",
        "  df_st = df_st[[\"Close\",supertrend_col]]\n",
        "  # Suppression des lignes sans indicateur\n",
        "  df_st.dropna(subset=[supertrend_col], inplace=True)\n",
        "\n",
        "  # Ajout colonne VWMA\n",
        "  df_st[\"vwma_\"+str(vwma_l)] = round( df_in.ta.vwma(close=df_in[\"Close\"], volume=df_in[\"Volume\"], length=vwma_l) ,2)\n",
        "\n",
        "  # Idem : suppression des lignes sans correspondace entre date et vwma\n",
        "  df_st.dropna(subset=[\"vwma_\"+str(vwma_l)], inplace=True)\n",
        "  \n",
        "  # Retour des dates en colonne plutôt qu'index\n",
        "  df_st.reset_index(inplace=True)\n",
        "\n",
        "  df_st.columns=['Date','Close','Supertrend','VWMA']\n",
        "  \n",
        "  return df_st"
      ],
      "metadata": {
        "id": "-8sywPkvgER-"
      },
      "execution_count": null,
      "outputs": []
    },
    {
      "cell_type": "code",
      "source": [
        "def find_entries(df):\n",
        "  ''' Obtenir les index des dates auxquelles la cloture est supérieure au Supertrend et la VWMA 55\n",
        "  Croisement vers le haut de l'une ou de l'autre '''\n",
        "\n",
        "  # Ajout des colonnes lag\n",
        "  shift_vwma = df[df.columns[-1]].shift(1)\n",
        "  shift_st = df[df.columns[-2]].shift(1)\n",
        "  shift_close = df[\"Close\"].shift(1)\n",
        "\n",
        "  shift_vwma[0]=shift_vwma[1]\n",
        "  df['VWMA_lag']=shift_vwma\n",
        "\n",
        "  shift_st[0]=shift_st[1]\n",
        "  df['ST_lag']=shift_st\n",
        "\n",
        "  shift_close[0]=shift_close[1]\n",
        "  df['Close_lag']=shift_close\n",
        "\n",
        "  e_l = df.index[ \n",
        "                  ( (df[\"Close\"] > df[\"Supertrend\"]) \n",
        "                  & (df[\"Close_lag\"] <= df[\"ST_lag\"]) \n",
        "                  & (df[\"Close\"] >= df[\"VWMA\"]) )\n",
        "                  |  \n",
        "                  ( (df[\"Close\"] > df[\"VWMA\"]) \n",
        "                  & (df[\"Close_lag\"] <= df[\"VWMA_lag\"]) \n",
        "                  & (df[\"Close\"] >= df[\"Supertrend\"]) )\n",
        "                ].to_list()\n",
        "\n",
        "  return e_l"
      ],
      "metadata": {
        "id": "IATaYdz-p9bj"
      },
      "execution_count": null,
      "outputs": []
    },
    {
      "cell_type": "code",
      "source": [
        "def fix_oob_index(a, limite):\n",
        "  ''' Necessaire pour corriger si l'entrée est trop proche de notre date limite max.\n",
        "  Doit préceder generate_future_dates en conséquence'''\n",
        "  for element in range(0,len(a)):\n",
        "    if a[element] > limite :\n",
        "      a[element] = limite\n",
        "  return a"
      ],
      "metadata": {
        "id": "8EsvzaFpLEZK"
      },
      "execution_count": null,
      "outputs": []
    },
    {
      "cell_type": "code",
      "source": [
        "def generate_future_dates(df, entries_list):\n",
        "  '''Générer les dates futures après identification des entrées\n",
        "  Puis calcul des variations'''\n",
        "\n",
        "  arr_entries = np.asarray(entries_list)\n",
        "\n",
        "  arr_e2s = arr_entries + 10\n",
        "  arr_e1m = arr_entries + 21\n",
        "  \n",
        "  # Aggregation des matrices sous forme de liste en vue de traitements en boucle\n",
        "  dates_ech = [arr_e2s, arr_e1m]\n",
        "\n",
        "  # On fixe le plus grand index possible, au cas où la projection 5, 10j ou 1 mois en avant soit out of bounds\n",
        "  date_limite = df.shape[0]-1\n",
        "\n",
        "  # Correction des éventuelles dates futures out of bounds, selon fonction définie précedemment\n",
        "  for echeance in dates_ech:\n",
        "    echeance = fix_oob_index(echeance,date_limite)\n",
        "\n",
        "  # Conversion des index de array -> liste\n",
        "  # Sélection du Close à la date correspondant à l'index\n",
        "  s_2s = df.loc[list(arr_e2s),'Close'].to_list()\n",
        "  s_1m = df.loc[list(arr_e1m),'Close'].to_list()\n",
        "\n",
        "  # Création d'un dataframe d'entrée selon les index indentifiés\n",
        "  df_res = df.filter(items = entries_list, axis=0)\n",
        "\n",
        "  # Ajout des séries comme nouvelles colonnes\n",
        "  df_res['Close_2s'] = s_2s\n",
        "  df_res['Close_1m'] = s_1m\n",
        "\n",
        "  df_res['var_2s'] = round( (df_res['Close_2s']-df_res['Close'])/df_res['Close'] ,2)\n",
        "  df_res['var_1m'] = round( (df_res['Close_1m']-df_res['Close'])/df_res['Close'] ,2)\n",
        "\n",
        "  # Suppression de la dernière ligne, car n'ayant pas abouti dans le temps, va fausser les résultats d'analyse\n",
        "  df_res.drop(df_res.tail(1).index, inplace = True)\n",
        "\n",
        "  return df_res"
      ],
      "metadata": {
        "id": "K_JoT4XwJzc2"
      },
      "execution_count": null,
      "outputs": []
    },
    {
      "cell_type": "code",
      "source": [
        "def get_exits_list(df, el, tp, sl):\n",
        "  ''' Liste des sorties combinant risk management, si franchissement Supertrend Long, ou Take Profit / Stop Loss\n",
        "  Paramètres : df_Analyse_Technique et liste des entrées '''\n",
        "  \n",
        "  exits_list=[]\n",
        "  \n",
        "  for e in range (0, len(el)):\n",
        "    # On isole l'index de la ligne d'entrée\n",
        "    row_index = el[e]\n",
        "    # Pointeur commence les vérifications à partir de la ligne suivante\n",
        "    r = row_index+1\n",
        "    # Indicateur qu'une limite a été trouvée ou la fin des données atteinte\n",
        "    touch = False\n",
        "\n",
        "    # Définition des limites\n",
        "    limite = df.loc[row_index,'Close'] * tp\n",
        "    stop_loss = df.loc[row_index,'Close'] * sl\n",
        "    \n",
        "    # Test l'une des limites est atteinte à la cloture\n",
        "    while(touch == False):  \n",
        "      if( r >= df.shape[0]-1):\n",
        "        exits_list.append(df.shape[0]-1)\n",
        "        touch = True\n",
        "      elif( \n",
        "            (df.loc[r,'Close'] >= limite) or \n",
        "            (df.loc[r,'Close'] <= stop_loss) or\n",
        "            ( (df.loc[r,'Close'] < df.loc[r,'Supertrend']) and (df.loc[r,'Close_lag'] >= df.loc[r,'ST_lag']) )\n",
        "           ):\n",
        "        exits_list.append(r)\n",
        "        touch = True\n",
        "      else:\n",
        "        r+=1\n",
        "    e+=1\n",
        "\n",
        "  return exits_list"
      ],
      "metadata": {
        "id": "5CqpwM9K5ESq"
      },
      "execution_count": null,
      "outputs": []
    },
    {
      "cell_type": "code",
      "source": [
        "def generate_df_perf(df_indicateurs, le, ls):\n",
        "  # Préparation au merge des entrées et sorties dans un seul et même DataFrame\n",
        "  df_entries = df_indicateurs.filter(items = le, axis=0)\n",
        "  df_entries = df_entries[['Date','Close']]\n",
        "  df_entries.reset_index(drop=True, inplace=True)\n",
        "\n",
        "  df_exits = df_indicateurs.filter(items = ls, axis=0)\n",
        "  df_exits = df_exits[['Date','Close']]\n",
        "  df_exits.reset_index(drop=True, inplace=True)\n",
        "\n",
        "  # Jointure sur index réinitialisé\n",
        "  df_P = df_entries.join(df_exits, lsuffix='_entry', rsuffix='_exit')\n",
        "  df_P = df_P[['Date_entry','Date_exit','Close_entry','Close_exit']]\n",
        "  # Variation positions Long\n",
        "  df_P['var']= round( (df_P['Close_exit']-df_P['Close_entry'])/df_P['Close_entry'], 2)\n",
        "\n",
        "  \n",
        "  # Dédoublonnage itératif\n",
        "  iteration = 1\n",
        "  \n",
        "  while iteration <4:\n",
        "    \n",
        "    doublons = []\n",
        "    j=1\n",
        "    # Obtention des dates de sorties, moins la dernière\n",
        "    s_exit_dates = df_P[\"Date_exit\"]\n",
        "    s_exit_dates.drop(s_exit_dates.tail(1).index, inplace=True)\n",
        "    \n",
        "    # Obtention des index où les entrées chevauchent à une même date de sortie\n",
        "    for date_sortie in s_exit_dates:\n",
        "      if date_sortie > df_P[\"Date_entry\"][j]:\n",
        "        doublons.append(j)\n",
        "      j+=1\n",
        "    \n",
        "    # Suppression des index identifiés comme doublons d'entrées\n",
        "    df_P.drop(index=doublons, inplace=True)\n",
        "    df_P.reset_index(drop=True, inplace=True)\n",
        "    \n",
        "    # Fin n-ième intération\n",
        "    iteration+=1\n",
        "\n",
        "  return df_P"
      ],
      "metadata": {
        "id": "da4l97GjFob8"
      },
      "execution_count": null,
      "outputs": []
    },
    {
      "cell_type": "code",
      "source": [
        "def calc_performance(df):\n",
        "  ''' Calculer la performance cumulée en % '''\n",
        "\n",
        "  # Calcul performance investissement initial\n",
        "  perf_list=[1000]\n",
        "\n",
        "  # Selection de la dernière colonne, variation à 1 mois\n",
        "  perfs = df['var'].to_list()\n",
        "\n",
        "  # Investissement de base, 1000\n",
        "  invest = 1000\n",
        "\n",
        "  # Calcul de la performance cumulée\n",
        "  for i in range (0, df.shape[0]):\n",
        "    invest = invest * (1 + perfs[i])\n",
        "    perf_list.append(invest)\n",
        "\n",
        "  # Equivalence en %\n",
        "  perfP = round( ((perf_list[-1]-perf_list[0])/perf_list[0])*100 ,2)\n",
        "\n",
        "  return perfP"
      ],
      "metadata": {
        "id": "q0AKn1cUYhkp"
      },
      "execution_count": null,
      "outputs": []
    },
    {
      "cell_type": "code",
      "source": [
        "def calc_WinLossRatio(df):\n",
        "  ''' Obtention du nombre de trades positifs à 2 semaines (10j)'''\n",
        "  compte = df.apply(lambda x : \n",
        "                          True if x['var_2s'] > 0 \n",
        "                          else False, axis = 1)\n",
        "  # Count number of True in the series\n",
        "  wr_ratio = round( len(compte[compte == True].index) / df.shape[0], 2)\n",
        "  return wr_ratio"
      ],
      "metadata": {
        "id": "gd48kJQBf_Lo"
      },
      "execution_count": null,
      "outputs": []
    },
    {
      "cell_type": "code",
      "source": [
        "def calc_profit_factors(df, WR):\n",
        "  ''' Donne le profit factor classique et alternatif, sur la base du dataset df_perf et du Win Loss Ratio obtenu\n",
        "  Profit factor classique = (Gross winning trades) / (Gross losing trades)\n",
        "  Alternative = (Win Rate * Avg Win) / (Loss Rate * Avg Loss)'''\n",
        "  pf=[]\n",
        "  \n",
        "  df_perf_pos = df.loc[ (df[\"var\"] > 0) ]\n",
        "  df_perf_pos[\"gain\"] = 1000 * df_perf_pos[\"var\"] \n",
        "  gross_gains = df_perf_pos[\"gain\"].sum()\n",
        "\n",
        "  df_perf_neg = df.loc[ (df[\"var\"] <= 0) ]\n",
        "  df_perf_neg[\"loss\"] = 1000 * df_perf_neg[\"var\"] \n",
        "  gross_losses = abs(df_perf_neg[\"loss\"].sum())\n",
        "\n",
        "  gross_profit_factor = round(gross_gains / gross_losses, 2)\n",
        "  pf.append(gross_profit_factor)\n",
        "\n",
        "  pfa_pos = df_perf_pos[\"var\"].mean() * WR\n",
        "  pfa_neg = ( abs(df_perf_neg[\"var\"]).mean() ) * (1-WR)\n",
        "  pfa = round(pfa_pos / pfa_neg, 2)\n",
        "  pf.append(pfa)\n",
        "\n",
        "  return pf"
      ],
      "metadata": {
        "id": "fsv_rF3n3UrE"
      },
      "execution_count": null,
      "outputs": []
    },
    {
      "cell_type": "markdown",
      "source": [
        "# Stratégie - Supertrend + VWMA #"
      ],
      "metadata": {
        "id": "SHKIhk35b9al"
      }
    },
    {
      "cell_type": "code",
      "source": [
        "df_ta_SupertrendVWMA = generate_ta(df_source,13,3.5,10)"
      ],
      "metadata": {
        "id": "JfSrTCBdjDMj"
      },
      "execution_count": null,
      "outputs": []
    },
    {
      "cell_type": "code",
      "source": [
        "df_ta_SupertrendVWMA.tail()"
      ],
      "metadata": {
        "colab": {
          "base_uri": "https://localhost:8080/",
          "height": 206
        },
        "id": "4Yg-ldoQzDH4",
        "outputId": "efb88486-8947-4fe6-bb01-19c530902823"
      },
      "execution_count": null,
      "outputs": [
        {
          "output_type": "execute_result",
          "data": {
            "text/plain": [
              "           Date  Close  Supertrend   VWMA\n",
              "1317 2011-12-23  23.70   22.018488  22.91\n",
              "1318 2011-12-27  23.91   22.018488  22.93\n",
              "1319 2011-12-28  23.75   22.018488  23.01\n",
              "1320 2011-12-29  23.84   22.018488  23.05\n",
              "1321 2011-12-30  23.94   22.018488  23.32"
            ],
            "text/html": [
              "\n",
              "  <div id=\"df-be23404e-3428-4bae-8dd7-68a78375f1da\">\n",
              "    <div class=\"colab-df-container\">\n",
              "      <div>\n",
              "<style scoped>\n",
              "    .dataframe tbody tr th:only-of-type {\n",
              "        vertical-align: middle;\n",
              "    }\n",
              "\n",
              "    .dataframe tbody tr th {\n",
              "        vertical-align: top;\n",
              "    }\n",
              "\n",
              "    .dataframe thead th {\n",
              "        text-align: right;\n",
              "    }\n",
              "</style>\n",
              "<table border=\"1\" class=\"dataframe\">\n",
              "  <thead>\n",
              "    <tr style=\"text-align: right;\">\n",
              "      <th></th>\n",
              "      <th>Date</th>\n",
              "      <th>Close</th>\n",
              "      <th>Supertrend</th>\n",
              "      <th>VWMA</th>\n",
              "    </tr>\n",
              "  </thead>\n",
              "  <tbody>\n",
              "    <tr>\n",
              "      <th>1317</th>\n",
              "      <td>2011-12-23</td>\n",
              "      <td>23.70</td>\n",
              "      <td>22.018488</td>\n",
              "      <td>22.91</td>\n",
              "    </tr>\n",
              "    <tr>\n",
              "      <th>1318</th>\n",
              "      <td>2011-12-27</td>\n",
              "      <td>23.91</td>\n",
              "      <td>22.018488</td>\n",
              "      <td>22.93</td>\n",
              "    </tr>\n",
              "    <tr>\n",
              "      <th>1319</th>\n",
              "      <td>2011-12-28</td>\n",
              "      <td>23.75</td>\n",
              "      <td>22.018488</td>\n",
              "      <td>23.01</td>\n",
              "    </tr>\n",
              "    <tr>\n",
              "      <th>1320</th>\n",
              "      <td>2011-12-29</td>\n",
              "      <td>23.84</td>\n",
              "      <td>22.018488</td>\n",
              "      <td>23.05</td>\n",
              "    </tr>\n",
              "    <tr>\n",
              "      <th>1321</th>\n",
              "      <td>2011-12-30</td>\n",
              "      <td>23.94</td>\n",
              "      <td>22.018488</td>\n",
              "      <td>23.32</td>\n",
              "    </tr>\n",
              "  </tbody>\n",
              "</table>\n",
              "</div>\n",
              "      <button class=\"colab-df-convert\" onclick=\"convertToInteractive('df-be23404e-3428-4bae-8dd7-68a78375f1da')\"\n",
              "              title=\"Convert this dataframe to an interactive table.\"\n",
              "              style=\"display:none;\">\n",
              "        \n",
              "  <svg xmlns=\"http://www.w3.org/2000/svg\" height=\"24px\"viewBox=\"0 0 24 24\"\n",
              "       width=\"24px\">\n",
              "    <path d=\"M0 0h24v24H0V0z\" fill=\"none\"/>\n",
              "    <path d=\"M18.56 5.44l.94 2.06.94-2.06 2.06-.94-2.06-.94-.94-2.06-.94 2.06-2.06.94zm-11 1L8.5 8.5l.94-2.06 2.06-.94-2.06-.94L8.5 2.5l-.94 2.06-2.06.94zm10 10l.94 2.06.94-2.06 2.06-.94-2.06-.94-.94-2.06-.94 2.06-2.06.94z\"/><path d=\"M17.41 7.96l-1.37-1.37c-.4-.4-.92-.59-1.43-.59-.52 0-1.04.2-1.43.59L10.3 9.45l-7.72 7.72c-.78.78-.78 2.05 0 2.83L4 21.41c.39.39.9.59 1.41.59.51 0 1.02-.2 1.41-.59l7.78-7.78 2.81-2.81c.8-.78.8-2.07 0-2.86zM5.41 20L4 18.59l7.72-7.72 1.47 1.35L5.41 20z\"/>\n",
              "  </svg>\n",
              "      </button>\n",
              "      \n",
              "  <style>\n",
              "    .colab-df-container {\n",
              "      display:flex;\n",
              "      flex-wrap:wrap;\n",
              "      gap: 12px;\n",
              "    }\n",
              "\n",
              "    .colab-df-convert {\n",
              "      background-color: #E8F0FE;\n",
              "      border: none;\n",
              "      border-radius: 50%;\n",
              "      cursor: pointer;\n",
              "      display: none;\n",
              "      fill: #1967D2;\n",
              "      height: 32px;\n",
              "      padding: 0 0 0 0;\n",
              "      width: 32px;\n",
              "    }\n",
              "\n",
              "    .colab-df-convert:hover {\n",
              "      background-color: #E2EBFA;\n",
              "      box-shadow: 0px 1px 2px rgba(60, 64, 67, 0.3), 0px 1px 3px 1px rgba(60, 64, 67, 0.15);\n",
              "      fill: #174EA6;\n",
              "    }\n",
              "\n",
              "    [theme=dark] .colab-df-convert {\n",
              "      background-color: #3B4455;\n",
              "      fill: #D2E3FC;\n",
              "    }\n",
              "\n",
              "    [theme=dark] .colab-df-convert:hover {\n",
              "      background-color: #434B5C;\n",
              "      box-shadow: 0px 1px 3px 1px rgba(0, 0, 0, 0.15);\n",
              "      filter: drop-shadow(0px 1px 2px rgba(0, 0, 0, 0.3));\n",
              "      fill: #FFFFFF;\n",
              "    }\n",
              "  </style>\n",
              "\n",
              "      <script>\n",
              "        const buttonEl =\n",
              "          document.querySelector('#df-be23404e-3428-4bae-8dd7-68a78375f1da button.colab-df-convert');\n",
              "        buttonEl.style.display =\n",
              "          google.colab.kernel.accessAllowed ? 'block' : 'none';\n",
              "\n",
              "        async function convertToInteractive(key) {\n",
              "          const element = document.querySelector('#df-be23404e-3428-4bae-8dd7-68a78375f1da');\n",
              "          const dataTable =\n",
              "            await google.colab.kernel.invokeFunction('convertToInteractive',\n",
              "                                                     [key], {});\n",
              "          if (!dataTable) return;\n",
              "\n",
              "          const docLinkHtml = 'Like what you see? Visit the ' +\n",
              "            '<a target=\"_blank\" href=https://colab.research.google.com/notebooks/data_table.ipynb>data table notebook</a>'\n",
              "            + ' to learn more about interactive tables.';\n",
              "          element.innerHTML = '';\n",
              "          dataTable['output_type'] = 'display_data';\n",
              "          await google.colab.output.renderOutput(dataTable, element);\n",
              "          const docLink = document.createElement('div');\n",
              "          docLink.innerHTML = docLinkHtml;\n",
              "          element.appendChild(docLink);\n",
              "        }\n",
              "      </script>\n",
              "    </div>\n",
              "  </div>\n",
              "  "
            ]
          },
          "metadata": {},
          "execution_count": 21
        }
      ]
    },
    {
      "cell_type": "code",
      "source": [
        "entries_list = find_entries(df_ta_SupertrendVWMA)"
      ],
      "metadata": {
        "id": "7eBDNi4MqSMv"
      },
      "execution_count": null,
      "outputs": []
    },
    {
      "cell_type": "code",
      "source": [
        "df_entrees_perfs = generate_future_dates(df_ta_SupertrendVWMA,entries_list)"
      ],
      "metadata": {
        "id": "dW7vxljSdmvD"
      },
      "execution_count": null,
      "outputs": []
    },
    {
      "cell_type": "code",
      "source": [
        "w = calc_WinLossRatio(df_entrees_perfs)\n",
        "print(\"Win rate à 10j :\",w)"
      ],
      "metadata": {
        "colab": {
          "base_uri": "https://localhost:8080/"
        },
        "id": "JuHuK8BHdnA8",
        "outputId": "ae4e7804-efde-4492-e70d-a79a34f75f64"
      },
      "execution_count": null,
      "outputs": [
        {
          "output_type": "stream",
          "name": "stdout",
          "text": [
            "Win rate à 10j : 0.51\n"
          ]
        }
      ]
    },
    {
      "cell_type": "markdown",
      "source": [
        "### Avec Money Management Exit ###"
      ],
      "metadata": {
        "id": "i7c4cA9UqD3L"
      }
    },
    {
      "cell_type": "code",
      "source": [
        "liste_sorties = get_exits_list(df_ta_SupertrendVWMA, entries_list, 1.3, 0.9)\n",
        "len(liste_sorties)"
      ],
      "metadata": {
        "colab": {
          "base_uri": "https://localhost:8080/"
        },
        "id": "4Ov3tLErqHE4",
        "outputId": "469586ed-0a3f-482c-8a1d-01f7ffa102d7"
      },
      "execution_count": null,
      "outputs": [
        {
          "output_type": "execute_result",
          "data": {
            "text/plain": [
              "75"
            ]
          },
          "metadata": {},
          "execution_count": 25
        }
      ]
    },
    {
      "cell_type": "code",
      "source": [
        "# Préparation au merge des entrées et sorties dans un seul et même DataFrame\n",
        "df_entries = df_ta_SupertrendVWMA.filter(items = entries_list, axis=0)\n",
        "df_entries = df_entries[['Date','Close']]\n",
        "df_entries.reset_index(drop=True, inplace=True)\n",
        "\n",
        "df_exits = df_ta_SupertrendVWMA.filter(items = liste_sorties, axis=0)\n",
        "df_exits = df_exits[['Date','Close']]\n",
        "df_exits.reset_index(drop=True, inplace=True)"
      ],
      "metadata": {
        "id": "JGJvRWwprk8f"
      },
      "execution_count": null,
      "outputs": []
    },
    {
      "cell_type": "code",
      "source": [
        "# Jointure sur index réinitialisé\n",
        "df_perf = df_entries.join(df_exits, lsuffix='_entry', rsuffix='_exit')\n",
        "df_perf = df_perf[['Date_entry','Date_exit','Close_entry','Close_exit']]\n",
        "# Variation positions Long\n",
        "df_perf['var']= round( (df_perf['Close_exit']-df_perf['Close_entry'])/df_perf['Close_entry'], 2)\n",
        "# Calcul de la durée entre entrée / sortie\n",
        "df_perf['duree']= (df_perf['Date_exit']-df_perf['Date_entry'])/np.timedelta64(1,'D').astype(int)"
      ],
      "metadata": {
        "id": "qbzX2XLJskFr"
      },
      "execution_count": null,
      "outputs": []
    },
    {
      "cell_type": "markdown",
      "source": [
        "Attention, doublons à appliquer 2x min"
      ],
      "metadata": {
        "id": "Ve0S6l_Lnae8"
      }
    },
    {
      "cell_type": "code",
      "source": [
        "# Obtention des dates de sorties, moins la dernière\n",
        "s_exit_dates = df_perf[\"Date_exit\"]\n",
        "s_exit_dates.drop(s_exit_dates.tail(1).index, inplace=True)\n",
        "\n",
        "# Obtention des index où plusieurs entrées correspondent à une même date de sortie\n",
        "doublons = []\n",
        "i=1\n",
        "for date_sortie in s_exit_dates:\n",
        "  if date_sortie > df_perf[\"Date_entry\"][i]:\n",
        "    doublons.append(i)\n",
        "  i+=1\n",
        "\n",
        "# Suppression des index identifiés comme doublons d'entrées\n",
        "df_perf.drop(index=doublons, inplace=True)\n",
        "df_perf.reset_index(drop=True, inplace=True)"
      ],
      "metadata": {
        "id": "W4zxKMwe90nh"
      },
      "execution_count": null,
      "outputs": []
    },
    {
      "cell_type": "code",
      "source": [
        "df_perf"
      ],
      "metadata": {
        "colab": {
          "base_uri": "https://localhost:8080/",
          "height": 708
        },
        "id": "SEXnmO0zB61v",
        "outputId": "c6849a75-4633-4290-990f-891ba85d1a4f"
      },
      "execution_count": null,
      "outputs": [
        {
          "output_type": "execute_result",
          "data": {
            "text/plain": [
              "   Date_entry  Date_exit  Close_entry  Close_exit   var    duree\n",
              "0  2006-10-23 2006-11-28        19.19       19.16 -0.00  36 days\n",
              "1  2007-01-11 2007-01-26        20.57       19.12 -0.07  15 days\n",
              "2  2007-03-22 2007-07-27        18.89       21.58  0.14 127 days\n",
              "3  2007-09-04 2007-11-08        22.27       22.90  0.03  65 days\n",
              "4  2007-12-07 2008-01-03        22.49       20.63 -0.08  27 days\n",
              "5  2008-04-02 2008-06-20        15.49       16.51  0.07  79 days\n",
              "6  2008-08-07 2008-09-03        15.97       16.29  0.02  27 days\n",
              "7  2009-02-06 2009-02-19         8.56        7.66 -0.11  13 days\n",
              "8  2009-03-23 2009-04-30         7.70       10.26  0.33  38 days\n",
              "9  2009-07-16 2009-10-21        10.76       14.00  0.30  97 days\n",
              "10 2009-11-10 2010-01-25        13.95       15.15  0.09  76 days\n",
              "11 2010-02-19 2010-05-04        16.34       19.46  0.19  74 days\n",
              "12 2010-08-04 2010-08-31        17.78       15.95 -0.10  27 days\n",
              "13 2010-09-01 2010-11-08        16.71       22.02  0.32  68 days\n",
              "14 2010-11-24 2011-01-31        22.34       24.07  0.08  68 days\n",
              "15 2011-02-07 2011-02-23        26.16       24.57 -0.06  16 days\n",
              "16 2011-04-01 2011-05-24        24.88       23.95 -0.04  53 days\n",
              "17 2011-06-28 2011-08-03        22.73       23.07  0.01  36 days\n",
              "18 2011-08-31 2011-10-03        21.61       21.20 -0.02  33 days\n",
              "19 2011-10-11 2011-11-21        23.66       21.66 -0.08  41 days\n",
              "20 2011-12-02 2011-12-30        24.28       23.94 -0.01  28 days"
            ],
            "text/html": [
              "\n",
              "  <div id=\"df-0a5fb807-bcfc-4f80-99e1-0c2e32100a0d\">\n",
              "    <div class=\"colab-df-container\">\n",
              "      <div>\n",
              "<style scoped>\n",
              "    .dataframe tbody tr th:only-of-type {\n",
              "        vertical-align: middle;\n",
              "    }\n",
              "\n",
              "    .dataframe tbody tr th {\n",
              "        vertical-align: top;\n",
              "    }\n",
              "\n",
              "    .dataframe thead th {\n",
              "        text-align: right;\n",
              "    }\n",
              "</style>\n",
              "<table border=\"1\" class=\"dataframe\">\n",
              "  <thead>\n",
              "    <tr style=\"text-align: right;\">\n",
              "      <th></th>\n",
              "      <th>Date_entry</th>\n",
              "      <th>Date_exit</th>\n",
              "      <th>Close_entry</th>\n",
              "      <th>Close_exit</th>\n",
              "      <th>var</th>\n",
              "      <th>duree</th>\n",
              "    </tr>\n",
              "  </thead>\n",
              "  <tbody>\n",
              "    <tr>\n",
              "      <th>0</th>\n",
              "      <td>2006-10-23</td>\n",
              "      <td>2006-11-28</td>\n",
              "      <td>19.19</td>\n",
              "      <td>19.16</td>\n",
              "      <td>-0.00</td>\n",
              "      <td>36 days</td>\n",
              "    </tr>\n",
              "    <tr>\n",
              "      <th>1</th>\n",
              "      <td>2007-01-11</td>\n",
              "      <td>2007-01-26</td>\n",
              "      <td>20.57</td>\n",
              "      <td>19.12</td>\n",
              "      <td>-0.07</td>\n",
              "      <td>15 days</td>\n",
              "    </tr>\n",
              "    <tr>\n",
              "      <th>2</th>\n",
              "      <td>2007-03-22</td>\n",
              "      <td>2007-07-27</td>\n",
              "      <td>18.89</td>\n",
              "      <td>21.58</td>\n",
              "      <td>0.14</td>\n",
              "      <td>127 days</td>\n",
              "    </tr>\n",
              "    <tr>\n",
              "      <th>3</th>\n",
              "      <td>2007-09-04</td>\n",
              "      <td>2007-11-08</td>\n",
              "      <td>22.27</td>\n",
              "      <td>22.90</td>\n",
              "      <td>0.03</td>\n",
              "      <td>65 days</td>\n",
              "    </tr>\n",
              "    <tr>\n",
              "      <th>4</th>\n",
              "      <td>2007-12-07</td>\n",
              "      <td>2008-01-03</td>\n",
              "      <td>22.49</td>\n",
              "      <td>20.63</td>\n",
              "      <td>-0.08</td>\n",
              "      <td>27 days</td>\n",
              "    </tr>\n",
              "    <tr>\n",
              "      <th>5</th>\n",
              "      <td>2008-04-02</td>\n",
              "      <td>2008-06-20</td>\n",
              "      <td>15.49</td>\n",
              "      <td>16.51</td>\n",
              "      <td>0.07</td>\n",
              "      <td>79 days</td>\n",
              "    </tr>\n",
              "    <tr>\n",
              "      <th>6</th>\n",
              "      <td>2008-08-07</td>\n",
              "      <td>2008-09-03</td>\n",
              "      <td>15.97</td>\n",
              "      <td>16.29</td>\n",
              "      <td>0.02</td>\n",
              "      <td>27 days</td>\n",
              "    </tr>\n",
              "    <tr>\n",
              "      <th>7</th>\n",
              "      <td>2009-02-06</td>\n",
              "      <td>2009-02-19</td>\n",
              "      <td>8.56</td>\n",
              "      <td>7.66</td>\n",
              "      <td>-0.11</td>\n",
              "      <td>13 days</td>\n",
              "    </tr>\n",
              "    <tr>\n",
              "      <th>8</th>\n",
              "      <td>2009-03-23</td>\n",
              "      <td>2009-04-30</td>\n",
              "      <td>7.70</td>\n",
              "      <td>10.26</td>\n",
              "      <td>0.33</td>\n",
              "      <td>38 days</td>\n",
              "    </tr>\n",
              "    <tr>\n",
              "      <th>9</th>\n",
              "      <td>2009-07-16</td>\n",
              "      <td>2009-10-21</td>\n",
              "      <td>10.76</td>\n",
              "      <td>14.00</td>\n",
              "      <td>0.30</td>\n",
              "      <td>97 days</td>\n",
              "    </tr>\n",
              "    <tr>\n",
              "      <th>10</th>\n",
              "      <td>2009-11-10</td>\n",
              "      <td>2010-01-25</td>\n",
              "      <td>13.95</td>\n",
              "      <td>15.15</td>\n",
              "      <td>0.09</td>\n",
              "      <td>76 days</td>\n",
              "    </tr>\n",
              "    <tr>\n",
              "      <th>11</th>\n",
              "      <td>2010-02-19</td>\n",
              "      <td>2010-05-04</td>\n",
              "      <td>16.34</td>\n",
              "      <td>19.46</td>\n",
              "      <td>0.19</td>\n",
              "      <td>74 days</td>\n",
              "    </tr>\n",
              "    <tr>\n",
              "      <th>12</th>\n",
              "      <td>2010-08-04</td>\n",
              "      <td>2010-08-31</td>\n",
              "      <td>17.78</td>\n",
              "      <td>15.95</td>\n",
              "      <td>-0.10</td>\n",
              "      <td>27 days</td>\n",
              "    </tr>\n",
              "    <tr>\n",
              "      <th>13</th>\n",
              "      <td>2010-09-01</td>\n",
              "      <td>2010-11-08</td>\n",
              "      <td>16.71</td>\n",
              "      <td>22.02</td>\n",
              "      <td>0.32</td>\n",
              "      <td>68 days</td>\n",
              "    </tr>\n",
              "    <tr>\n",
              "      <th>14</th>\n",
              "      <td>2010-11-24</td>\n",
              "      <td>2011-01-31</td>\n",
              "      <td>22.34</td>\n",
              "      <td>24.07</td>\n",
              "      <td>0.08</td>\n",
              "      <td>68 days</td>\n",
              "    </tr>\n",
              "    <tr>\n",
              "      <th>15</th>\n",
              "      <td>2011-02-07</td>\n",
              "      <td>2011-02-23</td>\n",
              "      <td>26.16</td>\n",
              "      <td>24.57</td>\n",
              "      <td>-0.06</td>\n",
              "      <td>16 days</td>\n",
              "    </tr>\n",
              "    <tr>\n",
              "      <th>16</th>\n",
              "      <td>2011-04-01</td>\n",
              "      <td>2011-05-24</td>\n",
              "      <td>24.88</td>\n",
              "      <td>23.95</td>\n",
              "      <td>-0.04</td>\n",
              "      <td>53 days</td>\n",
              "    </tr>\n",
              "    <tr>\n",
              "      <th>17</th>\n",
              "      <td>2011-06-28</td>\n",
              "      <td>2011-08-03</td>\n",
              "      <td>22.73</td>\n",
              "      <td>23.07</td>\n",
              "      <td>0.01</td>\n",
              "      <td>36 days</td>\n",
              "    </tr>\n",
              "    <tr>\n",
              "      <th>18</th>\n",
              "      <td>2011-08-31</td>\n",
              "      <td>2011-10-03</td>\n",
              "      <td>21.61</td>\n",
              "      <td>21.20</td>\n",
              "      <td>-0.02</td>\n",
              "      <td>33 days</td>\n",
              "    </tr>\n",
              "    <tr>\n",
              "      <th>19</th>\n",
              "      <td>2011-10-11</td>\n",
              "      <td>2011-11-21</td>\n",
              "      <td>23.66</td>\n",
              "      <td>21.66</td>\n",
              "      <td>-0.08</td>\n",
              "      <td>41 days</td>\n",
              "    </tr>\n",
              "    <tr>\n",
              "      <th>20</th>\n",
              "      <td>2011-12-02</td>\n",
              "      <td>2011-12-30</td>\n",
              "      <td>24.28</td>\n",
              "      <td>23.94</td>\n",
              "      <td>-0.01</td>\n",
              "      <td>28 days</td>\n",
              "    </tr>\n",
              "  </tbody>\n",
              "</table>\n",
              "</div>\n",
              "      <button class=\"colab-df-convert\" onclick=\"convertToInteractive('df-0a5fb807-bcfc-4f80-99e1-0c2e32100a0d')\"\n",
              "              title=\"Convert this dataframe to an interactive table.\"\n",
              "              style=\"display:none;\">\n",
              "        \n",
              "  <svg xmlns=\"http://www.w3.org/2000/svg\" height=\"24px\"viewBox=\"0 0 24 24\"\n",
              "       width=\"24px\">\n",
              "    <path d=\"M0 0h24v24H0V0z\" fill=\"none\"/>\n",
              "    <path d=\"M18.56 5.44l.94 2.06.94-2.06 2.06-.94-2.06-.94-.94-2.06-.94 2.06-2.06.94zm-11 1L8.5 8.5l.94-2.06 2.06-.94-2.06-.94L8.5 2.5l-.94 2.06-2.06.94zm10 10l.94 2.06.94-2.06 2.06-.94-2.06-.94-.94-2.06-.94 2.06-2.06.94z\"/><path d=\"M17.41 7.96l-1.37-1.37c-.4-.4-.92-.59-1.43-.59-.52 0-1.04.2-1.43.59L10.3 9.45l-7.72 7.72c-.78.78-.78 2.05 0 2.83L4 21.41c.39.39.9.59 1.41.59.51 0 1.02-.2 1.41-.59l7.78-7.78 2.81-2.81c.8-.78.8-2.07 0-2.86zM5.41 20L4 18.59l7.72-7.72 1.47 1.35L5.41 20z\"/>\n",
              "  </svg>\n",
              "      </button>\n",
              "      \n",
              "  <style>\n",
              "    .colab-df-container {\n",
              "      display:flex;\n",
              "      flex-wrap:wrap;\n",
              "      gap: 12px;\n",
              "    }\n",
              "\n",
              "    .colab-df-convert {\n",
              "      background-color: #E8F0FE;\n",
              "      border: none;\n",
              "      border-radius: 50%;\n",
              "      cursor: pointer;\n",
              "      display: none;\n",
              "      fill: #1967D2;\n",
              "      height: 32px;\n",
              "      padding: 0 0 0 0;\n",
              "      width: 32px;\n",
              "    }\n",
              "\n",
              "    .colab-df-convert:hover {\n",
              "      background-color: #E2EBFA;\n",
              "      box-shadow: 0px 1px 2px rgba(60, 64, 67, 0.3), 0px 1px 3px 1px rgba(60, 64, 67, 0.15);\n",
              "      fill: #174EA6;\n",
              "    }\n",
              "\n",
              "    [theme=dark] .colab-df-convert {\n",
              "      background-color: #3B4455;\n",
              "      fill: #D2E3FC;\n",
              "    }\n",
              "\n",
              "    [theme=dark] .colab-df-convert:hover {\n",
              "      background-color: #434B5C;\n",
              "      box-shadow: 0px 1px 3px 1px rgba(0, 0, 0, 0.15);\n",
              "      filter: drop-shadow(0px 1px 2px rgba(0, 0, 0, 0.3));\n",
              "      fill: #FFFFFF;\n",
              "    }\n",
              "  </style>\n",
              "\n",
              "      <script>\n",
              "        const buttonEl =\n",
              "          document.querySelector('#df-0a5fb807-bcfc-4f80-99e1-0c2e32100a0d button.colab-df-convert');\n",
              "        buttonEl.style.display =\n",
              "          google.colab.kernel.accessAllowed ? 'block' : 'none';\n",
              "\n",
              "        async function convertToInteractive(key) {\n",
              "          const element = document.querySelector('#df-0a5fb807-bcfc-4f80-99e1-0c2e32100a0d');\n",
              "          const dataTable =\n",
              "            await google.colab.kernel.invokeFunction('convertToInteractive',\n",
              "                                                     [key], {});\n",
              "          if (!dataTable) return;\n",
              "\n",
              "          const docLinkHtml = 'Like what you see? Visit the ' +\n",
              "            '<a target=\"_blank\" href=https://colab.research.google.com/notebooks/data_table.ipynb>data table notebook</a>'\n",
              "            + ' to learn more about interactive tables.';\n",
              "          element.innerHTML = '';\n",
              "          dataTable['output_type'] = 'display_data';\n",
              "          await google.colab.output.renderOutput(dataTable, element);\n",
              "          const docLink = document.createElement('div');\n",
              "          docLink.innerHTML = docLinkHtml;\n",
              "          element.appendChild(docLink);\n",
              "        }\n",
              "      </script>\n",
              "    </div>\n",
              "  </div>\n",
              "  "
            ]
          },
          "metadata": {},
          "execution_count": 31
        }
      ]
    },
    {
      "cell_type": "code",
      "source": [
        "compte = df_perf.apply(lambda x : \n",
        "                        True if x['var'] > 0 \n",
        "                        else False, axis = 1)\n",
        "# Count number of True in the series\n",
        "WR_ratio = round( len(compte[compte == True].index) / df_perf.shape[0], 2)\n",
        "print(\"Win/Loss Ratio : \",WR_ratio)"
      ],
      "metadata": {
        "colab": {
          "base_uri": "https://localhost:8080/"
        },
        "id": "hAVVu8CUsyy9",
        "outputId": "ce886914-9d44-4cea-972b-e8b1c85e2923"
      },
      "execution_count": null,
      "outputs": [
        {
          "output_type": "stream",
          "name": "stdout",
          "text": [
            "Win/Loss Ratio :  0.52\n"
          ]
        }
      ]
    },
    {
      "cell_type": "code",
      "source": [
        "# Calcul performance investissement initial\n",
        "perf_list=[1000]\n",
        "#perfs = df_perf['var_norm']\n",
        "perfs = df_perf['var']\n",
        "invest = 1000\n",
        "for i in range (0, df_perf.shape[0]):\n",
        "  invest = invest*(1+perfs[i])\n",
        "  perf_list.append(invest)\n",
        "print(\"Buy & Hold 2006-2022 : {:.0f} %\".format(bh1))\n",
        "print(\"Performance cumulée : {} %\".format(round( ((perf_list[-1]-perf_list[0])/perf_list[0])*100 ,2)) )"
      ],
      "metadata": {
        "colab": {
          "base_uri": "https://localhost:8080/"
        },
        "id": "5QkLRoh7sy89",
        "outputId": "abdb1a27-210e-49f0-977a-6c8aaa5be882"
      },
      "execution_count": null,
      "outputs": [
        {
          "output_type": "stream",
          "name": "stdout",
          "text": [
            "Buy & Hold 2006-2022 : 37 %\n",
            "Performance cumulée : 128.44 %\n"
          ]
        }
      ]
    },
    {
      "cell_type": "markdown",
      "source": [
        "<p>Résultats tests manuels, période 2006-2011</p>\n",
        "<li>ST 10/3.5, MA 21, TpSL 1.3/0.9 -> 23 trades, WR 52%, Perf 59%</li>\n",
        "<li>ST 10/3.5, MA 55, TpSL 1.3/0.9 -> 21 trades, WR 48%, Perf 53%</li>\n",
        "<li>ST 10/3.5, MA 89, TpSL 1.3/0.9 -> 18 trades, WR 50%, Perf 83%<br />Peu de pertes dans perfs négatives, principalement trailing stop supertrend, fonctionne très bien aussi pour prises profits !</li>\n",
        "<li>ST 10/3.5, MA 144, TpSL 1.3/0.9 -> 16 trades, WR 50%, Perf 29%<br />L'entrée semble trop tardive, 1 seule atteinte +30%</li>\n",
        "<li>ST 10/3.5, MA 200, TpSL 1.3/0.9 -> 16 trades, WR 44%, Perf 14%</li>\n",
        "<p>Meilleure combinaison : 13/3.5/10</p>\n",
        "<li>Perf 128%, 21 Trades à 52% </li>\n",
        "<li>Avec untop limite : Perf 83%, 21 trades à 52%. (max win +24%)</li>\n",
        "<li>Si untop stop loss, Perf 112%, 20 trades à 55% (max loss -16%)</li>\n",
        "<br/>\n",
        "Année 2011 : <b>-19 %</b> pour une année \"range\""
      ],
      "metadata": {
        "id": "BjPoEPFMLcCt"
      }
    },
    {
      "cell_type": "markdown",
      "source": [
        "### Supertrend + VWMA all Time ###"
      ],
      "metadata": {
        "id": "qhkSKm4y2wCj"
      }
    },
    {
      "cell_type": "code",
      "source": [
        "df_ta_SupertrendVWMA = generate_ta(df_source_allTime,13,3.5,10)\n",
        "entries_list = find_entries(df_ta_SupertrendVWMA)\n",
        "df_entrees_perfs = generate_future_dates(df_ta_SupertrendVWMA,entries_list)"
      ],
      "metadata": {
        "id": "5zCETDsB22PS"
      },
      "execution_count": null,
      "outputs": []
    },
    {
      "cell_type": "code",
      "source": [
        "w = calc_WinLossRatio(df_entrees_perfs)\n",
        "print(\"Win rate à 10j, all time :\",w)"
      ],
      "metadata": {
        "colab": {
          "base_uri": "https://localhost:8080/"
        },
        "outputId": "dce3fc36-7009-4333-a876-5890aa190aff",
        "id": "bbpZIDGz3Z7m"
      },
      "execution_count": null,
      "outputs": [
        {
          "output_type": "stream",
          "name": "stdout",
          "text": [
            "Win rate à 10j, all time : 0.58\n"
          ]
        }
      ]
    },
    {
      "cell_type": "code",
      "source": [
        "liste_sorties = get_exits_list(df_ta_SupertrendVWMA, entries_list, 1.3, 0.9)\n",
        "print(\"nombre de trades, avant filtrage : \",len(liste_sorties))"
      ],
      "metadata": {
        "colab": {
          "base_uri": "https://localhost:8080/"
        },
        "id": "k8Uc6JP023ck",
        "outputId": "8ac1488a-cd28-4092-e854-ecbdf972e445"
      },
      "execution_count": null,
      "outputs": [
        {
          "output_type": "stream",
          "name": "stdout",
          "text": [
            "nombre de trades, avant filtrage :  260\n"
          ]
        }
      ]
    },
    {
      "cell_type": "code",
      "source": [
        "# Préparation au merge des entrées et sorties dans un seul et même DataFrame\n",
        "df_entries = df_ta_SupertrendVWMA.filter(items = entries_list, axis=0)\n",
        "df_entries = df_entries[['Date','Close']]\n",
        "df_entries.reset_index(drop=True, inplace=True)\n",
        "\n",
        "df_exits = df_ta_SupertrendVWMA.filter(items = liste_sorties, axis=0)\n",
        "df_exits = df_exits[['Date','Close']]\n",
        "df_exits.reset_index(drop=True, inplace=True)"
      ],
      "metadata": {
        "id": "czgKnfCi3zSX"
      },
      "execution_count": null,
      "outputs": []
    },
    {
      "cell_type": "code",
      "source": [
        "# Jointure sur index réinitialisé\n",
        "df_perf = df_entries.join(df_exits, lsuffix='_entry', rsuffix='_exit')\n",
        "df_perf = df_perf[['Date_entry','Date_exit','Close_entry','Close_exit']]\n",
        "# Variation positions Long\n",
        "df_perf['var']= round( (df_perf['Close_exit']-df_perf['Close_entry'])/df_perf['Close_entry'], 2)\n",
        "# Calcul de la durée entre entrée / sortie\n",
        "df_perf['duree']= (df_perf['Date_exit']-df_perf['Date_entry'])/np.timedelta64(1,'D').astype(int)"
      ],
      "metadata": {
        "id": "JO1UsW5B3zSX"
      },
      "execution_count": null,
      "outputs": []
    },
    {
      "cell_type": "code",
      "source": [
        "# Obtention des dates de sorties, moins la dernière\n",
        "s_exit_dates = df_perf[\"Date_exit\"]\n",
        "s_exit_dates.drop(s_exit_dates.tail(1).index, inplace=True)\n",
        "\n",
        "# Obtention des index où plusieurs entrées correspondent à une même date de sortie\n",
        "doublons = []\n",
        "i=1\n",
        "for date_sortie in s_exit_dates:\n",
        "  if date_sortie > df_perf[\"Date_entry\"][i]:\n",
        "    doublons.append(i)\n",
        "  i+=1\n",
        "\n",
        "# Suppression des index identifiés comme doublons d'entrées\n",
        "df_perf.drop(index=doublons, inplace=True)\n",
        "df_perf.reset_index(drop=True, inplace=True)"
      ],
      "metadata": {
        "id": "n7TaWdUM3zSX"
      },
      "execution_count": null,
      "outputs": []
    },
    {
      "cell_type": "code",
      "source": [
        "print(\"Nombre de trades, sans doublons, Long only : \",df_perf.shape[0])"
      ],
      "metadata": {
        "colab": {
          "base_uri": "https://localhost:8080/"
        },
        "outputId": "74217f6e-54fd-4f0a-c1be-7678e28f9c6e",
        "id": "4tNCKDWz3zSY"
      },
      "execution_count": null,
      "outputs": [
        {
          "output_type": "stream",
          "name": "stdout",
          "text": [
            "Nombre de trades, sans doublons, Long only :  61\n"
          ]
        }
      ]
    },
    {
      "cell_type": "code",
      "source": [
        "df_perf"
      ],
      "metadata": {
        "colab": {
          "base_uri": "https://localhost:8080/",
          "height": 424
        },
        "id": "sTzPEBKX3945",
        "outputId": "e17e4d01-ad18-4117-be5e-a3cec9cf5ade"
      },
      "execution_count": null,
      "outputs": [
        {
          "output_type": "execute_result",
          "data": {
            "text/plain": [
              "   Date_entry  Date_exit  Close_entry  Close_exit   var    duree\n",
              "0  2006-10-23 2006-11-28        19.19       19.16 -0.00  36 days\n",
              "1  2007-01-11 2007-01-26        20.57       19.12 -0.07  15 days\n",
              "2  2007-03-22 2007-07-27        18.89       21.58  0.14 127 days\n",
              "3  2007-09-04 2007-11-08        22.27       22.90  0.03  65 days\n",
              "4  2007-12-07 2008-01-03        22.49       20.63 -0.08  27 days\n",
              "..        ...        ...          ...         ...   ...      ...\n",
              "56 2020-11-05 2021-02-23       510.00      576.40  0.13 110 days\n",
              "57 2021-04-06 2021-05-11       637.20      591.20 -0.07  35 days\n",
              "58 2021-06-10 2021-09-01       644.00      838.60  0.30  83 days\n",
              "59 2021-10-19 2021-11-26       818.50      918.40  0.12  38 days\n",
              "60 2022-03-22 2022-04-13       755.10      717.80 -0.05  22 days\n",
              "\n",
              "[61 rows x 6 columns]"
            ],
            "text/html": [
              "\n",
              "  <div id=\"df-e710fcf1-45ee-4be8-8a63-90ecac8e342e\">\n",
              "    <div class=\"colab-df-container\">\n",
              "      <div>\n",
              "<style scoped>\n",
              "    .dataframe tbody tr th:only-of-type {\n",
              "        vertical-align: middle;\n",
              "    }\n",
              "\n",
              "    .dataframe tbody tr th {\n",
              "        vertical-align: top;\n",
              "    }\n",
              "\n",
              "    .dataframe thead th {\n",
              "        text-align: right;\n",
              "    }\n",
              "</style>\n",
              "<table border=\"1\" class=\"dataframe\">\n",
              "  <thead>\n",
              "    <tr style=\"text-align: right;\">\n",
              "      <th></th>\n",
              "      <th>Date_entry</th>\n",
              "      <th>Date_exit</th>\n",
              "      <th>Close_entry</th>\n",
              "      <th>Close_exit</th>\n",
              "      <th>var</th>\n",
              "      <th>duree</th>\n",
              "    </tr>\n",
              "  </thead>\n",
              "  <tbody>\n",
              "    <tr>\n",
              "      <th>0</th>\n",
              "      <td>2006-10-23</td>\n",
              "      <td>2006-11-28</td>\n",
              "      <td>19.19</td>\n",
              "      <td>19.16</td>\n",
              "      <td>-0.00</td>\n",
              "      <td>36 days</td>\n",
              "    </tr>\n",
              "    <tr>\n",
              "      <th>1</th>\n",
              "      <td>2007-01-11</td>\n",
              "      <td>2007-01-26</td>\n",
              "      <td>20.57</td>\n",
              "      <td>19.12</td>\n",
              "      <td>-0.07</td>\n",
              "      <td>15 days</td>\n",
              "    </tr>\n",
              "    <tr>\n",
              "      <th>2</th>\n",
              "      <td>2007-03-22</td>\n",
              "      <td>2007-07-27</td>\n",
              "      <td>18.89</td>\n",
              "      <td>21.58</td>\n",
              "      <td>0.14</td>\n",
              "      <td>127 days</td>\n",
              "    </tr>\n",
              "    <tr>\n",
              "      <th>3</th>\n",
              "      <td>2007-09-04</td>\n",
              "      <td>2007-11-08</td>\n",
              "      <td>22.27</td>\n",
              "      <td>22.90</td>\n",
              "      <td>0.03</td>\n",
              "      <td>65 days</td>\n",
              "    </tr>\n",
              "    <tr>\n",
              "      <th>4</th>\n",
              "      <td>2007-12-07</td>\n",
              "      <td>2008-01-03</td>\n",
              "      <td>22.49</td>\n",
              "      <td>20.63</td>\n",
              "      <td>-0.08</td>\n",
              "      <td>27 days</td>\n",
              "    </tr>\n",
              "    <tr>\n",
              "      <th>...</th>\n",
              "      <td>...</td>\n",
              "      <td>...</td>\n",
              "      <td>...</td>\n",
              "      <td>...</td>\n",
              "      <td>...</td>\n",
              "      <td>...</td>\n",
              "    </tr>\n",
              "    <tr>\n",
              "      <th>56</th>\n",
              "      <td>2020-11-05</td>\n",
              "      <td>2021-02-23</td>\n",
              "      <td>510.00</td>\n",
              "      <td>576.40</td>\n",
              "      <td>0.13</td>\n",
              "      <td>110 days</td>\n",
              "    </tr>\n",
              "    <tr>\n",
              "      <th>57</th>\n",
              "      <td>2021-04-06</td>\n",
              "      <td>2021-05-11</td>\n",
              "      <td>637.20</td>\n",
              "      <td>591.20</td>\n",
              "      <td>-0.07</td>\n",
              "      <td>35 days</td>\n",
              "    </tr>\n",
              "    <tr>\n",
              "      <th>58</th>\n",
              "      <td>2021-06-10</td>\n",
              "      <td>2021-09-01</td>\n",
              "      <td>644.00</td>\n",
              "      <td>838.60</td>\n",
              "      <td>0.30</td>\n",
              "      <td>83 days</td>\n",
              "    </tr>\n",
              "    <tr>\n",
              "      <th>59</th>\n",
              "      <td>2021-10-19</td>\n",
              "      <td>2021-11-26</td>\n",
              "      <td>818.50</td>\n",
              "      <td>918.40</td>\n",
              "      <td>0.12</td>\n",
              "      <td>38 days</td>\n",
              "    </tr>\n",
              "    <tr>\n",
              "      <th>60</th>\n",
              "      <td>2022-03-22</td>\n",
              "      <td>2022-04-13</td>\n",
              "      <td>755.10</td>\n",
              "      <td>717.80</td>\n",
              "      <td>-0.05</td>\n",
              "      <td>22 days</td>\n",
              "    </tr>\n",
              "  </tbody>\n",
              "</table>\n",
              "<p>61 rows × 6 columns</p>\n",
              "</div>\n",
              "      <button class=\"colab-df-convert\" onclick=\"convertToInteractive('df-e710fcf1-45ee-4be8-8a63-90ecac8e342e')\"\n",
              "              title=\"Convert this dataframe to an interactive table.\"\n",
              "              style=\"display:none;\">\n",
              "        \n",
              "  <svg xmlns=\"http://www.w3.org/2000/svg\" height=\"24px\"viewBox=\"0 0 24 24\"\n",
              "       width=\"24px\">\n",
              "    <path d=\"M0 0h24v24H0V0z\" fill=\"none\"/>\n",
              "    <path d=\"M18.56 5.44l.94 2.06.94-2.06 2.06-.94-2.06-.94-.94-2.06-.94 2.06-2.06.94zm-11 1L8.5 8.5l.94-2.06 2.06-.94-2.06-.94L8.5 2.5l-.94 2.06-2.06.94zm10 10l.94 2.06.94-2.06 2.06-.94-2.06-.94-.94-2.06-.94 2.06-2.06.94z\"/><path d=\"M17.41 7.96l-1.37-1.37c-.4-.4-.92-.59-1.43-.59-.52 0-1.04.2-1.43.59L10.3 9.45l-7.72 7.72c-.78.78-.78 2.05 0 2.83L4 21.41c.39.39.9.59 1.41.59.51 0 1.02-.2 1.41-.59l7.78-7.78 2.81-2.81c.8-.78.8-2.07 0-2.86zM5.41 20L4 18.59l7.72-7.72 1.47 1.35L5.41 20z\"/>\n",
              "  </svg>\n",
              "      </button>\n",
              "      \n",
              "  <style>\n",
              "    .colab-df-container {\n",
              "      display:flex;\n",
              "      flex-wrap:wrap;\n",
              "      gap: 12px;\n",
              "    }\n",
              "\n",
              "    .colab-df-convert {\n",
              "      background-color: #E8F0FE;\n",
              "      border: none;\n",
              "      border-radius: 50%;\n",
              "      cursor: pointer;\n",
              "      display: none;\n",
              "      fill: #1967D2;\n",
              "      height: 32px;\n",
              "      padding: 0 0 0 0;\n",
              "      width: 32px;\n",
              "    }\n",
              "\n",
              "    .colab-df-convert:hover {\n",
              "      background-color: #E2EBFA;\n",
              "      box-shadow: 0px 1px 2px rgba(60, 64, 67, 0.3), 0px 1px 3px 1px rgba(60, 64, 67, 0.15);\n",
              "      fill: #174EA6;\n",
              "    }\n",
              "\n",
              "    [theme=dark] .colab-df-convert {\n",
              "      background-color: #3B4455;\n",
              "      fill: #D2E3FC;\n",
              "    }\n",
              "\n",
              "    [theme=dark] .colab-df-convert:hover {\n",
              "      background-color: #434B5C;\n",
              "      box-shadow: 0px 1px 3px 1px rgba(0, 0, 0, 0.15);\n",
              "      filter: drop-shadow(0px 1px 2px rgba(0, 0, 0, 0.3));\n",
              "      fill: #FFFFFF;\n",
              "    }\n",
              "  </style>\n",
              "\n",
              "      <script>\n",
              "        const buttonEl =\n",
              "          document.querySelector('#df-e710fcf1-45ee-4be8-8a63-90ecac8e342e button.colab-df-convert');\n",
              "        buttonEl.style.display =\n",
              "          google.colab.kernel.accessAllowed ? 'block' : 'none';\n",
              "\n",
              "        async function convertToInteractive(key) {\n",
              "          const element = document.querySelector('#df-e710fcf1-45ee-4be8-8a63-90ecac8e342e');\n",
              "          const dataTable =\n",
              "            await google.colab.kernel.invokeFunction('convertToInteractive',\n",
              "                                                     [key], {});\n",
              "          if (!dataTable) return;\n",
              "\n",
              "          const docLinkHtml = 'Like what you see? Visit the ' +\n",
              "            '<a target=\"_blank\" href=https://colab.research.google.com/notebooks/data_table.ipynb>data table notebook</a>'\n",
              "            + ' to learn more about interactive tables.';\n",
              "          element.innerHTML = '';\n",
              "          dataTable['output_type'] = 'display_data';\n",
              "          await google.colab.output.renderOutput(dataTable, element);\n",
              "          const docLink = document.createElement('div');\n",
              "          docLink.innerHTML = docLinkHtml;\n",
              "          element.appendChild(docLink);\n",
              "        }\n",
              "      </script>\n",
              "    </div>\n",
              "  </div>\n",
              "  "
            ]
          },
          "metadata": {},
          "execution_count": 42
        }
      ]
    },
    {
      "cell_type": "code",
      "source": [
        "compte = df_perf.apply(lambda x : \n",
        "                        True if x['var'] > 0 \n",
        "                        else False, axis = 1)\n",
        "# Count number of True in the series\n",
        "WR_ratio = round( len(compte[compte == True].index) / df_perf.shape[0], 2)\n",
        "print(\"Win/Loss Ratio all Time, long only : \",WR_ratio)"
      ],
      "metadata": {
        "colab": {
          "base_uri": "https://localhost:8080/"
        },
        "outputId": "a8189a9c-5693-4f3b-f04b-7fa5433ce00d",
        "id": "xnHz_7mZ3zSY"
      },
      "execution_count": null,
      "outputs": [
        {
          "output_type": "stream",
          "name": "stdout",
          "text": [
            "Win/Loss Ratio all Time, long only :  0.56\n"
          ]
        }
      ]
    },
    {
      "cell_type": "code",
      "source": [
        "# Calcul performance investissement initial\n",
        "perf_list=[1000]\n",
        "#perfs = df_perf['var_norm']\n",
        "perfs = df_perf['var']\n",
        "invest = 1000\n",
        "for i in range (0, df_perf.shape[0]):\n",
        "  invest = invest*(1+perfs[i])\n",
        "  perf_list.append(invest)\n",
        "print(\"Buy & Hold 2006-2022, Long only : {:.0f} %\".format(bh2))\n",
        "print(\"Performance cumulée, Long only : {:.0f} %\".format(round( ((perf_list[-1]-perf_list[0])/perf_list[0])*100 ,2)) )"
      ],
      "metadata": {
        "colab": {
          "base_uri": "https://localhost:8080/"
        },
        "outputId": "1bba0a03-3e28-4db7-c581-16a4bfa880a7",
        "id": "EQdB_KA73zSY"
      },
      "execution_count": null,
      "outputs": [
        {
          "output_type": "stream",
          "name": "stdout",
          "text": [
            "Buy & Hold 2006-2022, Long only : 4016 %\n",
            "Performance cumulée, Long only : 1356 %\n"
          ]
        }
      ]
    },
    {
      "cell_type": "markdown",
      "source": [
        "<p>Buy & Hold 2006-2022, Long only : 4016 %</p>\n",
        "Meilleure combinaison 2006-2011 : 13/3.5/10<br />\n",
        "Performance cumulée, Long only : 1356 %, 61 trades à 57 %<br />\n",
        "<p> Meilleure combinaison all Time : 60/3.5/21<p>\n"
      ],
      "metadata": {
        "id": "mwBS0z-rjpCh"
      }
    },
    {
      "cell_type": "markdown",
      "source": [
        "## Comparaison avec données aléatoires ##"
      ],
      "metadata": {
        "id": "BzRnBMfhlSgo"
      }
    },
    {
      "cell_type": "markdown",
      "source": [
        "### Etat à +10j ###"
      ],
      "metadata": {
        "id": "PWPxBUFWp87M"
      }
    },
    {
      "cell_type": "code",
      "source": [
        "nb_trades = df_perf.shape[0]\n",
        "index_max = df_ta_SupertrendVWMA.shape[0]\n",
        "print(\"{} trades réalisés, index dates allant jusqu'à : {}\".format(nb_trades, index_max))"
      ],
      "metadata": {
        "colab": {
          "base_uri": "https://localhost:8080/"
        },
        "id": "snd7kmsZjaTl",
        "outputId": "f665a592-3184-45de-902f-000494045230"
      },
      "execution_count": null,
      "outputs": [
        {
          "output_type": "stream",
          "name": "stdout",
          "text": [
            "18 trades réalisés, index dates allant jusqu'à : 1247\n"
          ]
        }
      ]
    },
    {
      "cell_type": "code",
      "source": [
        "i=0\n",
        "random_WinRates = []\n",
        "\n",
        "while i < 500:\n",
        "  # Liste aléatoire dans la plage 0, index_max df, \n",
        "  #avec le nombre d'entrées correspondant au nombre d'entrées trades trouvées pour la stratégie à tester\n",
        "  randomlist = random.sample(range(0, index_max-10), nb_trades)\n",
        "  randomlist.sort()\n",
        "\n",
        "  df_random_entries_perfs = generate_future_dates(df_ta_SupertrendVWMA, randomlist)\n",
        "\n",
        "  random_WinRates.append( calc_WinLossRatio(df_random_entries_perfs) )\n",
        "  i+=1"
      ],
      "metadata": {
        "id": "28YwwXn4lenj"
      },
      "execution_count": null,
      "outputs": []
    },
    {
      "cell_type": "code",
      "source": [
        "print(\"WR median de {} données d'entrées aléatoires = {}\".format(i, stats.median(random_WinRates)))"
      ],
      "metadata": {
        "colab": {
          "base_uri": "https://localhost:8080/"
        },
        "id": "mbINSmwkpRvV",
        "outputId": "d956de52-9cac-4581-d0ab-c4355698b6b5"
      },
      "execution_count": null,
      "outputs": [
        {
          "output_type": "stream",
          "name": "stdout",
          "text": [
            "WR median de 500 données d'entrées aléatoires = 0.53\n"
          ]
        }
      ]
    },
    {
      "cell_type": "code",
      "source": [
        "fig = go.Figure()\n",
        "fig.add_trace(go.Box(x=random_WinRates, name=\"Random Win Rate distribution 2006-2011\", quartilemethod=\"inclusive\"))"
      ],
      "metadata": {
        "colab": {
          "base_uri": "https://localhost:8080/",
          "height": 542
        },
        "id": "F6MwssOinn3z",
        "outputId": "44c530b5-4e34-4336-b629-60c3168fd680"
      },
      "execution_count": null,
      "outputs": [
        {
          "output_type": "display_data",
          "data": {
            "text/html": [
              "<html>\n",
              "<head><meta charset=\"utf-8\" /></head>\n",
              "<body>\n",
              "    <div>            <script src=\"https://cdnjs.cloudflare.com/ajax/libs/mathjax/2.7.5/MathJax.js?config=TeX-AMS-MML_SVG\"></script><script type=\"text/javascript\">if (window.MathJax) {MathJax.Hub.Config({SVG: {font: \"STIX-Web\"}});}</script>                <script type=\"text/javascript\">window.PlotlyConfig = {MathJaxConfig: 'local'};</script>\n",
              "        <script src=\"https://cdn.plot.ly/plotly-2.8.3.min.js\"></script>                <div id=\"bade75ca-38bb-49e8-a6ff-f80cc80d31e8\" class=\"plotly-graph-div\" style=\"height:525px; width:100%;\"></div>            <script type=\"text/javascript\">                                    window.PLOTLYENV=window.PLOTLYENV || {};                                    if (document.getElementById(\"bade75ca-38bb-49e8-a6ff-f80cc80d31e8\")) {                    Plotly.newPlot(                        \"bade75ca-38bb-49e8-a6ff-f80cc80d31e8\",                        [{\"name\":\"Random Win Rate distribution 2006-2011\",\"quartilemethod\":\"inclusive\",\"x\":[0.71,0.41,0.29,0.47,0.71,0.29,0.35,0.35,0.29,0.76,0.35,0.35,0.76,0.65,0.47,0.53,0.47,0.59,0.53,0.65,0.59,0.47,0.76,0.59,0.65,0.53,0.41,0.76,0.29,0.41,0.53,0.24,0.53,0.29,0.65,0.53,0.59,0.65,0.65,0.47,0.65,0.47,0.76,0.47,0.71,0.53,0.59,0.59,0.41,0.71,0.65,0.71,0.59,0.41,0.71,0.82,0.59,0.65,0.59,0.59,0.47,0.47,0.35,0.35,0.71,0.53,0.76,0.47,0.59,0.47,0.65,0.59,0.41,0.59,0.65,0.35,0.65,0.41,0.47,0.47,0.53,0.53,0.65,0.65,0.59,0.53,0.41,0.65,0.59,0.59,0.35,0.53,0.47,0.59,0.35,0.47,0.59,0.59,0.35,0.76,0.53,0.65,0.76,0.71,0.71,0.65,0.65,0.65,0.65,0.59,0.65,0.53,0.24,0.53,0.53,0.65,0.47,0.29,0.59,0.53,0.53,0.76,0.59,0.41,0.24,0.59,0.35,0.47,0.47,0.65,0.76,0.59,0.53,0.76,0.71,0.71,0.35,0.47,0.65,0.53,0.59,0.47,0.29,0.47,0.35,0.71,0.59,0.18,0.35,0.71,0.53,0.53,0.47,0.88,0.41,0.41,0.59,0.29,0.76,0.76,0.65,0.59,0.65,0.65,0.71,0.71,0.71,0.59,0.47,0.41,0.65,0.65,0.41,0.41,0.59,0.53,0.59,0.41,0.71,0.59,0.53,0.59,0.29,0.35,0.59,0.53,0.65,0.59,0.82,0.53,0.53,0.41,0.53,0.47,0.41,0.53,0.76,0.65,0.53,0.65,0.71,0.29,0.41,0.65,0.53,0.47,0.35,0.18,0.59,0.53,0.65,0.35,0.47,0.41,0.53,0.59,0.53,0.41,0.41,0.35,0.59,0.41,0.35,0.76,0.71,0.53,0.82,0.53,0.59,0.35,0.35,0.47,0.71,0.41,0.53,0.35,0.59,0.35,0.41,0.47,0.35,0.82,0.71,0.41,0.41,0.29,0.35,0.29,0.47,0.65,0.35,0.59,0.59,0.82,0.41,0.24,0.59,0.47,0.41,0.47,0.41,0.53,0.35,0.47,0.53,0.41,0.35,0.53,0.53,0.65,0.71,0.47,0.59,0.53,0.47,0.47,0.65,0.41,0.35,0.59,0.41,0.71,0.35,0.53,0.65,0.53,0.65,0.41,0.76,0.35,0.59,0.65,0.71,0.65,0.53,0.47,0.47,0.59,0.59,0.47,0.53,0.41,0.47,0.59,0.53,0.59,0.53,0.53,0.59,0.59,0.59,0.59,0.65,0.24,0.24,0.47,0.53,0.47,0.47,0.65,0.47,0.76,0.71,0.59,0.35,0.47,0.71,0.47,0.65,0.59,0.47,0.59,0.65,0.47,0.53,0.65,0.59,0.53,0.47,0.35,0.47,0.35,0.41,0.47,0.59,0.53,0.35,0.35,0.41,0.65,0.41,0.53,0.47,0.65,0.71,0.76,0.65,0.47,0.71,0.65,0.59,0.35,0.53,0.41,0.59,0.59,0.59,0.53,0.53,0.76,0.59,0.53,0.59,0.41,0.47,0.71,0.59,0.59,0.53,0.47,0.71,0.65,0.59,0.59,0.59,0.35,0.71,0.35,0.59,0.59,0.53,0.24,0.65,0.59,0.53,0.47,0.41,0.59,0.35,0.65,0.71,0.47,0.76,0.59,0.41,0.41,0.41,0.35,0.71,0.41,0.65,0.47,0.82,0.47,0.35,0.35,0.71,0.65,0.29,0.41,0.41,0.53,0.47,0.59,0.71,0.59,0.65,0.59,0.47,0.41,0.41,0.47,0.41,0.53,0.65,0.53,0.76,0.53,0.29,0.65,0.59,0.71,0.35,0.47,0.53,0.65,0.53,0.65,0.47,0.71,0.35,0.41,0.35,0.35,0.35,0.53,0.71,0.53,0.41,0.53,0.35,0.47,0.65,0.47,0.41,0.53,0.29,0.47,0.35,0.47,0.24,0.29,0.41,0.35,0.47,0.53,0.41,0.59,0.71,0.47,0.41,0.53,0.59,0.41,0.76,0.59,0.35,0.41,0.59,0.53,0.53,0.47,0.65,0.47,0.65,0.35,0.35,0.53,0.47,0.65],\"type\":\"box\"}],                        {\"template\":{\"data\":{\"bar\":[{\"error_x\":{\"color\":\"#2a3f5f\"},\"error_y\":{\"color\":\"#2a3f5f\"},\"marker\":{\"line\":{\"color\":\"#E5ECF6\",\"width\":0.5},\"pattern\":{\"fillmode\":\"overlay\",\"size\":10,\"solidity\":0.2}},\"type\":\"bar\"}],\"barpolar\":[{\"marker\":{\"line\":{\"color\":\"#E5ECF6\",\"width\":0.5},\"pattern\":{\"fillmode\":\"overlay\",\"size\":10,\"solidity\":0.2}},\"type\":\"barpolar\"}],\"carpet\":[{\"aaxis\":{\"endlinecolor\":\"#2a3f5f\",\"gridcolor\":\"white\",\"linecolor\":\"white\",\"minorgridcolor\":\"white\",\"startlinecolor\":\"#2a3f5f\"},\"baxis\":{\"endlinecolor\":\"#2a3f5f\",\"gridcolor\":\"white\",\"linecolor\":\"white\",\"minorgridcolor\":\"white\",\"startlinecolor\":\"#2a3f5f\"},\"type\":\"carpet\"}],\"choropleth\":[{\"colorbar\":{\"outlinewidth\":0,\"ticks\":\"\"},\"type\":\"choropleth\"}],\"contour\":[{\"colorbar\":{\"outlinewidth\":0,\"ticks\":\"\"},\"colorscale\":[[0.0,\"#0d0887\"],[0.1111111111111111,\"#46039f\"],[0.2222222222222222,\"#7201a8\"],[0.3333333333333333,\"#9c179e\"],[0.4444444444444444,\"#bd3786\"],[0.5555555555555556,\"#d8576b\"],[0.6666666666666666,\"#ed7953\"],[0.7777777777777778,\"#fb9f3a\"],[0.8888888888888888,\"#fdca26\"],[1.0,\"#f0f921\"]],\"type\":\"contour\"}],\"contourcarpet\":[{\"colorbar\":{\"outlinewidth\":0,\"ticks\":\"\"},\"type\":\"contourcarpet\"}],\"heatmap\":[{\"colorbar\":{\"outlinewidth\":0,\"ticks\":\"\"},\"colorscale\":[[0.0,\"#0d0887\"],[0.1111111111111111,\"#46039f\"],[0.2222222222222222,\"#7201a8\"],[0.3333333333333333,\"#9c179e\"],[0.4444444444444444,\"#bd3786\"],[0.5555555555555556,\"#d8576b\"],[0.6666666666666666,\"#ed7953\"],[0.7777777777777778,\"#fb9f3a\"],[0.8888888888888888,\"#fdca26\"],[1.0,\"#f0f921\"]],\"type\":\"heatmap\"}],\"heatmapgl\":[{\"colorbar\":{\"outlinewidth\":0,\"ticks\":\"\"},\"colorscale\":[[0.0,\"#0d0887\"],[0.1111111111111111,\"#46039f\"],[0.2222222222222222,\"#7201a8\"],[0.3333333333333333,\"#9c179e\"],[0.4444444444444444,\"#bd3786\"],[0.5555555555555556,\"#d8576b\"],[0.6666666666666666,\"#ed7953\"],[0.7777777777777778,\"#fb9f3a\"],[0.8888888888888888,\"#fdca26\"],[1.0,\"#f0f921\"]],\"type\":\"heatmapgl\"}],\"histogram\":[{\"marker\":{\"pattern\":{\"fillmode\":\"overlay\",\"size\":10,\"solidity\":0.2}},\"type\":\"histogram\"}],\"histogram2d\":[{\"colorbar\":{\"outlinewidth\":0,\"ticks\":\"\"},\"colorscale\":[[0.0,\"#0d0887\"],[0.1111111111111111,\"#46039f\"],[0.2222222222222222,\"#7201a8\"],[0.3333333333333333,\"#9c179e\"],[0.4444444444444444,\"#bd3786\"],[0.5555555555555556,\"#d8576b\"],[0.6666666666666666,\"#ed7953\"],[0.7777777777777778,\"#fb9f3a\"],[0.8888888888888888,\"#fdca26\"],[1.0,\"#f0f921\"]],\"type\":\"histogram2d\"}],\"histogram2dcontour\":[{\"colorbar\":{\"outlinewidth\":0,\"ticks\":\"\"},\"colorscale\":[[0.0,\"#0d0887\"],[0.1111111111111111,\"#46039f\"],[0.2222222222222222,\"#7201a8\"],[0.3333333333333333,\"#9c179e\"],[0.4444444444444444,\"#bd3786\"],[0.5555555555555556,\"#d8576b\"],[0.6666666666666666,\"#ed7953\"],[0.7777777777777778,\"#fb9f3a\"],[0.8888888888888888,\"#fdca26\"],[1.0,\"#f0f921\"]],\"type\":\"histogram2dcontour\"}],\"mesh3d\":[{\"colorbar\":{\"outlinewidth\":0,\"ticks\":\"\"},\"type\":\"mesh3d\"}],\"parcoords\":[{\"line\":{\"colorbar\":{\"outlinewidth\":0,\"ticks\":\"\"}},\"type\":\"parcoords\"}],\"pie\":[{\"automargin\":true,\"type\":\"pie\"}],\"scatter\":[{\"marker\":{\"colorbar\":{\"outlinewidth\":0,\"ticks\":\"\"}},\"type\":\"scatter\"}],\"scatter3d\":[{\"line\":{\"colorbar\":{\"outlinewidth\":0,\"ticks\":\"\"}},\"marker\":{\"colorbar\":{\"outlinewidth\":0,\"ticks\":\"\"}},\"type\":\"scatter3d\"}],\"scattercarpet\":[{\"marker\":{\"colorbar\":{\"outlinewidth\":0,\"ticks\":\"\"}},\"type\":\"scattercarpet\"}],\"scattergeo\":[{\"marker\":{\"colorbar\":{\"outlinewidth\":0,\"ticks\":\"\"}},\"type\":\"scattergeo\"}],\"scattergl\":[{\"marker\":{\"colorbar\":{\"outlinewidth\":0,\"ticks\":\"\"}},\"type\":\"scattergl\"}],\"scattermapbox\":[{\"marker\":{\"colorbar\":{\"outlinewidth\":0,\"ticks\":\"\"}},\"type\":\"scattermapbox\"}],\"scatterpolar\":[{\"marker\":{\"colorbar\":{\"outlinewidth\":0,\"ticks\":\"\"}},\"type\":\"scatterpolar\"}],\"scatterpolargl\":[{\"marker\":{\"colorbar\":{\"outlinewidth\":0,\"ticks\":\"\"}},\"type\":\"scatterpolargl\"}],\"scatterternary\":[{\"marker\":{\"colorbar\":{\"outlinewidth\":0,\"ticks\":\"\"}},\"type\":\"scatterternary\"}],\"surface\":[{\"colorbar\":{\"outlinewidth\":0,\"ticks\":\"\"},\"colorscale\":[[0.0,\"#0d0887\"],[0.1111111111111111,\"#46039f\"],[0.2222222222222222,\"#7201a8\"],[0.3333333333333333,\"#9c179e\"],[0.4444444444444444,\"#bd3786\"],[0.5555555555555556,\"#d8576b\"],[0.6666666666666666,\"#ed7953\"],[0.7777777777777778,\"#fb9f3a\"],[0.8888888888888888,\"#fdca26\"],[1.0,\"#f0f921\"]],\"type\":\"surface\"}],\"table\":[{\"cells\":{\"fill\":{\"color\":\"#EBF0F8\"},\"line\":{\"color\":\"white\"}},\"header\":{\"fill\":{\"color\":\"#C8D4E3\"},\"line\":{\"color\":\"white\"}},\"type\":\"table\"}]},\"layout\":{\"annotationdefaults\":{\"arrowcolor\":\"#2a3f5f\",\"arrowhead\":0,\"arrowwidth\":1},\"autotypenumbers\":\"strict\",\"coloraxis\":{\"colorbar\":{\"outlinewidth\":0,\"ticks\":\"\"}},\"colorscale\":{\"diverging\":[[0,\"#8e0152\"],[0.1,\"#c51b7d\"],[0.2,\"#de77ae\"],[0.3,\"#f1b6da\"],[0.4,\"#fde0ef\"],[0.5,\"#f7f7f7\"],[0.6,\"#e6f5d0\"],[0.7,\"#b8e186\"],[0.8,\"#7fbc41\"],[0.9,\"#4d9221\"],[1,\"#276419\"]],\"sequential\":[[0.0,\"#0d0887\"],[0.1111111111111111,\"#46039f\"],[0.2222222222222222,\"#7201a8\"],[0.3333333333333333,\"#9c179e\"],[0.4444444444444444,\"#bd3786\"],[0.5555555555555556,\"#d8576b\"],[0.6666666666666666,\"#ed7953\"],[0.7777777777777778,\"#fb9f3a\"],[0.8888888888888888,\"#fdca26\"],[1.0,\"#f0f921\"]],\"sequentialminus\":[[0.0,\"#0d0887\"],[0.1111111111111111,\"#46039f\"],[0.2222222222222222,\"#7201a8\"],[0.3333333333333333,\"#9c179e\"],[0.4444444444444444,\"#bd3786\"],[0.5555555555555556,\"#d8576b\"],[0.6666666666666666,\"#ed7953\"],[0.7777777777777778,\"#fb9f3a\"],[0.8888888888888888,\"#fdca26\"],[1.0,\"#f0f921\"]]},\"colorway\":[\"#636efa\",\"#EF553B\",\"#00cc96\",\"#ab63fa\",\"#FFA15A\",\"#19d3f3\",\"#FF6692\",\"#B6E880\",\"#FF97FF\",\"#FECB52\"],\"font\":{\"color\":\"#2a3f5f\"},\"geo\":{\"bgcolor\":\"white\",\"lakecolor\":\"white\",\"landcolor\":\"#E5ECF6\",\"showlakes\":true,\"showland\":true,\"subunitcolor\":\"white\"},\"hoverlabel\":{\"align\":\"left\"},\"hovermode\":\"closest\",\"mapbox\":{\"style\":\"light\"},\"paper_bgcolor\":\"white\",\"plot_bgcolor\":\"#E5ECF6\",\"polar\":{\"angularaxis\":{\"gridcolor\":\"white\",\"linecolor\":\"white\",\"ticks\":\"\"},\"bgcolor\":\"#E5ECF6\",\"radialaxis\":{\"gridcolor\":\"white\",\"linecolor\":\"white\",\"ticks\":\"\"}},\"scene\":{\"xaxis\":{\"backgroundcolor\":\"#E5ECF6\",\"gridcolor\":\"white\",\"gridwidth\":2,\"linecolor\":\"white\",\"showbackground\":true,\"ticks\":\"\",\"zerolinecolor\":\"white\"},\"yaxis\":{\"backgroundcolor\":\"#E5ECF6\",\"gridcolor\":\"white\",\"gridwidth\":2,\"linecolor\":\"white\",\"showbackground\":true,\"ticks\":\"\",\"zerolinecolor\":\"white\"},\"zaxis\":{\"backgroundcolor\":\"#E5ECF6\",\"gridcolor\":\"white\",\"gridwidth\":2,\"linecolor\":\"white\",\"showbackground\":true,\"ticks\":\"\",\"zerolinecolor\":\"white\"}},\"shapedefaults\":{\"line\":{\"color\":\"#2a3f5f\"}},\"ternary\":{\"aaxis\":{\"gridcolor\":\"white\",\"linecolor\":\"white\",\"ticks\":\"\"},\"baxis\":{\"gridcolor\":\"white\",\"linecolor\":\"white\",\"ticks\":\"\"},\"bgcolor\":\"#E5ECF6\",\"caxis\":{\"gridcolor\":\"white\",\"linecolor\":\"white\",\"ticks\":\"\"}},\"title\":{\"x\":0.05},\"xaxis\":{\"automargin\":true,\"gridcolor\":\"white\",\"linecolor\":\"white\",\"ticks\":\"\",\"title\":{\"standoff\":15},\"zerolinecolor\":\"white\",\"zerolinewidth\":2},\"yaxis\":{\"automargin\":true,\"gridcolor\":\"white\",\"linecolor\":\"white\",\"ticks\":\"\",\"title\":{\"standoff\":15},\"zerolinecolor\":\"white\",\"zerolinewidth\":2}}}},                        {\"responsive\": true}                    ).then(function(){\n",
              "                            \n",
              "var gd = document.getElementById('bade75ca-38bb-49e8-a6ff-f80cc80d31e8');\n",
              "var x = new MutationObserver(function (mutations, observer) {{\n",
              "        var display = window.getComputedStyle(gd).display;\n",
              "        if (!display || display === 'none') {{\n",
              "            console.log([gd, 'removed!']);\n",
              "            Plotly.purge(gd);\n",
              "            observer.disconnect();\n",
              "        }}\n",
              "}});\n",
              "\n",
              "// Listen for the removal of the full notebook cells\n",
              "var notebookContainer = gd.closest('#notebook-container');\n",
              "if (notebookContainer) {{\n",
              "    x.observe(notebookContainer, {childList: true});\n",
              "}}\n",
              "\n",
              "// Listen for the clearing of the current output cell\n",
              "var outputEl = gd.closest('.output');\n",
              "if (outputEl) {{\n",
              "    x.observe(outputEl, {childList: true});\n",
              "}}\n",
              "\n",
              "                        })                };                            </script>        </div>\n",
              "</body>\n",
              "</html>"
            ]
          },
          "metadata": {}
        }
      ]
    },
    {
      "cell_type": "markdown",
      "source": [
        "### Avec Risk Management ###"
      ],
      "metadata": {
        "id": "8YLk1pBttpkz"
      }
    },
    {
      "cell_type": "code",
      "source": [
        "i=0\n",
        "random_WinRates = []\n",
        "random_AggPerf = []\n",
        "\n",
        "while i < 10000:\n",
        "  # Liste aléatoire dans la plage 0, index_max df, \n",
        "  #avec le nombre d'entrées correspondant au nombre d'entrées trades trouvées pour la stratégie à tester\n",
        "  # On prévoit une marge arbitraire en vue des doublons qui baisseront le nombres de trades au final\n",
        "  randomlist = random.sample(range(0, index_max), nb_trades+6)\n",
        "  randomlist.sort()\n",
        "\n",
        "  liste_sorties = get_exits_list(df_ta_SupertrendVWMA, randomlist, 1.3, 0.9)\n",
        "\n",
        "  # Préparation au merge des entrées et sorties dans un seul et même DataFrame\n",
        "  df_entries = df_ta_SupertrendVWMA.filter(items = randomlist, axis=0)\n",
        "  df_entries = df_entries[['Date','Close']]\n",
        "  df_entries.reset_index(drop=True, inplace=True)\n",
        "\n",
        "  df_exits = df_ta_SupertrendVWMA.filter(items = liste_sorties, axis=0)\n",
        "  df_exits = df_exits[['Date','Close']]\n",
        "  df_exits.reset_index(drop=True, inplace=True)\n",
        "\n",
        "  # Jointure sur index réinitialisé\n",
        "  df_perf = df_entries.join(df_exits, lsuffix='_entry', rsuffix='_exit')\n",
        "  df_perf = df_perf[['Date_entry','Date_exit','Close_entry','Close_exit']]\n",
        "  # Variation positions Long\n",
        "  df_perf['var']= round( (df_perf['Close_exit']-df_perf['Close_entry'])/df_perf['Close_entry'], 2)\n",
        "\n",
        "  # Obtention des dates de sorties, moins la dernière\n",
        "  s_exit_dates = df_perf[\"Date_exit\"]\n",
        "  s_exit_dates.drop(s_exit_dates.tail(1).index, inplace=True)\n",
        "\n",
        "  # Obtention des index où plusieurs entrées correspondent à une même date de sortie\n",
        "  doublons = []\n",
        "  j=1\n",
        "  for date_sortie in s_exit_dates:\n",
        "    if date_sortie > df_perf[\"Date_entry\"][j]:\n",
        "      doublons.append(j)\n",
        "    j+=1\n",
        "\n",
        "  # Suppression des index identifiés comme doublons d'entrées\n",
        "  df_perf.drop(index=doublons, inplace=True)\n",
        "  df_perf.reset_index(drop=True, inplace=True)\n",
        "\n",
        "  # On ne va considérer la performance que si il y a strictement le même nombre de trades q\n",
        "  # que dans notre stratégie à comparer avec les entrées aléatoires\n",
        "  if df_perf.shape[0] == nb_trades:\n",
        "    compte = df_perf.apply(lambda x : \n",
        "                            True if x['var'] > 0 \n",
        "                            else False, axis = 1)\n",
        "    # Count number of True in the series\n",
        "    WR_ratio = round( len(compte[compte == True].index) / df_perf.shape[0], 2)\n",
        "    random_WinRates.append( WR_ratio )\n",
        "\n",
        "    # Calcul performance investissement initial\n",
        "    perf_list=[1000]\n",
        "    perfs = df_perf['var']\n",
        "    invest = 1000\n",
        "    for k in range (0, df_perf.shape[0]):\n",
        "      invest = invest*(1+perfs[k])\n",
        "      perf_list.append(invest)\n",
        "\n",
        "    random_AggPerf.append( round( ((perf_list[-1]-perf_list[0])/perf_list[0])*100 ,2) )\n",
        "\n",
        "  i+=1"
      ],
      "metadata": {
        "id": "jyY-MFo6tovO"
      },
      "execution_count": null,
      "outputs": []
    },
    {
      "cell_type": "code",
      "source": [
        "print(\"Mediane de {} données d'entrées aléatoires, avec Money Management = {}\".format(len(random_AggPerf), stats.median(random_WinRates)))"
      ],
      "metadata": {
        "colab": {
          "base_uri": "https://localhost:8080/"
        },
        "id": "ax9YuSruvmKq",
        "outputId": "520cffc2-418a-487e-8a79-53c2b244eb52"
      },
      "execution_count": null,
      "outputs": [
        {
          "output_type": "stream",
          "name": "stdout",
          "text": [
            "Mediane de 1078 données d'entrées aléatoires, avec Money Management = 0.39\n"
          ]
        }
      ]
    },
    {
      "cell_type": "code",
      "source": [
        "fig = go.Figure()\n",
        "fig.add_trace(go.Box(x=random_WinRates, name=\"Random Win Rate distribution 2006-2011, Money Management\", quartilemethod=\"inclusive\"))"
      ],
      "metadata": {
        "colab": {
          "base_uri": "https://localhost:8080/",
          "height": 542
        },
        "id": "cHLC-ma5u3Gs",
        "outputId": "0f254088-b934-4be9-8f7d-5e0e4f5a2da9"
      },
      "execution_count": null,
      "outputs": [
        {
          "output_type": "display_data",
          "data": {
            "text/html": [
              "<html>\n",
              "<head><meta charset=\"utf-8\" /></head>\n",
              "<body>\n",
              "    <div>            <script src=\"https://cdnjs.cloudflare.com/ajax/libs/mathjax/2.7.5/MathJax.js?config=TeX-AMS-MML_SVG\"></script><script type=\"text/javascript\">if (window.MathJax) {MathJax.Hub.Config({SVG: {font: \"STIX-Web\"}});}</script>                <script type=\"text/javascript\">window.PlotlyConfig = {MathJaxConfig: 'local'};</script>\n",
              "        <script src=\"https://cdn.plot.ly/plotly-2.8.3.min.js\"></script>                <div id=\"aa86cb54-a37f-480c-8913-d9f9c1bbb193\" class=\"plotly-graph-div\" style=\"height:525px; width:100%;\"></div>            <script type=\"text/javascript\">                                    window.PLOTLYENV=window.PLOTLYENV || {};                                    if (document.getElementById(\"aa86cb54-a37f-480c-8913-d9f9c1bbb193\")) {                    Plotly.newPlot(                        \"aa86cb54-a37f-480c-8913-d9f9c1bbb193\",                        [{\"name\":\"Random Win Rate distribution 2006-2011, Money Management\",\"quartilemethod\":\"inclusive\",\"x\":[0.44,0.5,0.39,0.28,0.5,0.5,0.33,0.39,0.39,0.17,0.44,0.22,0.61,0.28,0.44,0.56,0.44,0.39,0.22,0.39,0.5,0.33,0.56,0.39,0.33,0.28,0.39,0.33,0.56,0.17,0.28,0.5,0.39,0.56,0.5,0.17,0.39,0.39,0.39,0.5,0.44,0.33,0.28,0.44,0.39,0.39,0.33,0.44,0.44,0.22,0.33,0.5,0.33,0.33,0.28,0.5,0.33,0.44,0.44,0.44,0.44,0.44,0.28,0.33,0.44,0.44,0.22,0.5,0.5,0.39,0.56,0.33,0.56,0.33,0.22,0.5,0.39,0.28,0.44,0.5,0.5,0.33,0.44,0.33,0.44,0.39,0.5,0.44,0.44,0.39,0.22,0.28,0.28,0.44,0.5,0.44,0.5,0.44,0.5,0.33,0.17,0.33,0.44,0.39,0.33,0.33,0.39,0.28,0.33,0.5,0.56,0.44,0.5,0.28,0.28,0.22,0.39,0.5,0.28,0.44,0.5,0.44,0.33,0.56,0.33,0.39,0.56,0.5,0.5,0.56,0.5,0.5,0.44,0.39,0.44,0.5,0.44,0.56,0.33,0.44,0.33,0.44,0.39,0.5,0.44,0.33,0.5,0.44,0.39,0.5,0.33,0.33,0.44,0.28,0.44,0.33,0.33,0.5,0.28,0.44,0.44,0.33,0.44,0.44,0.56,0.44,0.44,0.33,0.56,0.22,0.22,0.39,0.39,0.61,0.22,0.5,0.33,0.44,0.5,0.5,0.39,0.5,0.5,0.44,0.22,0.39,0.44,0.39,0.44,0.39,0.5,0.5,0.56,0.22,0.5,0.44,0.44,0.28,0.44,0.33,0.33,0.22,0.39,0.39,0.33,0.33,0.28,0.33,0.5,0.28,0.5,0.28,0.33,0.39,0.44,0.44,0.44,0.44,0.33,0.28,0.17,0.44,0.33,0.44,0.06,0.33,0.39,0.5,0.28,0.39,0.39,0.39,0.33,0.5,0.28,0.56,0.39,0.33,0.39,0.28,0.22,0.28,0.33,0.28,0.5,0.28,0.28,0.44,0.44,0.44,0.5,0.44,0.5,0.5,0.33,0.33,0.39,0.33,0.39,0.44,0.22,0.5,0.56,0.56,0.33,0.5,0.39,0.44,0.44,0.33,0.28,0.56,0.33,0.33,0.22,0.44,0.67,0.39,0.33,0.67,0.22,0.44,0.22,0.39,0.33,0.33,0.33,0.5,0.33,0.28,0.5,0.39,0.39,0.39,0.33,0.56,0.33,0.28,0.33,0.5,0.44,0.33,0.5,0.28,0.28,0.33,0.39,0.5,0.39,0.39,0.28,0.39,0.44,0.39,0.17,0.44,0.5,0.67,0.5,0.44,0.33,0.33,0.5,0.61,0.56,0.39,0.44,0.5,0.28,0.61,0.33,0.33,0.56,0.5,0.5,0.33,0.39,0.44,0.33,0.39,0.28,0.22,0.44,0.44,0.44,0.22,0.5,0.44,0.44,0.61,0.39,0.39,0.44,0.44,0.33,0.28,0.39,0.39,0.33,0.44,0.28,0.22,0.39,0.44,0.39,0.5,0.39,0.33,0.44,0.56,0.39,0.22,0.5,0.33,0.39,0.39,0.28,0.39,0.33,0.39,0.44,0.28,0.5,0.33,0.33,0.28,0.44,0.33,0.33,0.28,0.44,0.33,0.5,0.39,0.28,0.5,0.61,0.22,0.39,0.33,0.44,0.39,0.39,0.33,0.28,0.33,0.33,0.33,0.39,0.33,0.17,0.28,0.5,0.44,0.44,0.5,0.44,0.33,0.44,0.28,0.39,0.5,0.5,0.5,0.28,0.5,0.44,0.56,0.39,0.44,0.28,0.33,0.5,0.33,0.44,0.39,0.22,0.33,0.33,0.56,0.44,0.39,0.61,0.56,0.39,0.39,0.39,0.5,0.33,0.22,0.39,0.44,0.39,0.39,0.22,0.44,0.44,0.11,0.28,0.44,0.39,0.28,0.39,0.56,0.33,0.44,0.61,0.28,0.56,0.44,0.44,0.5,0.39,0.5,0.5,0.33,0.28,0.44,0.33,0.28,0.56,0.28,0.44,0.33,0.33,0.28,0.28,0.39,0.39,0.39,0.39,0.5,0.39,0.44,0.44,0.28,0.39,0.44,0.39,0.39,0.39,0.33,0.44,0.28,0.39,0.33,0.39,0.28,0.44,0.44,0.33,0.61,0.61,0.39,0.44,0.39,0.39,0.44,0.44,0.28,0.44,0.33,0.44,0.5,0.11,0.33,0.33,0.44,0.33,0.39,0.44,0.39,0.22,0.5,0.39,0.33,0.33,0.5,0.39,0.28,0.56,0.5,0.17,0.44,0.44,0.5,0.44,0.39,0.56,0.39,0.33,0.44,0.44,0.44,0.44,0.44,0.39,0.33,0.5,0.5,0.5,0.28,0.5,0.44,0.33,0.39,0.28,0.5,0.28,0.39,0.5,0.39,0.28,0.39,0.5,0.44,0.33,0.39,0.33,0.17,0.56,0.39,0.33,0.28,0.44,0.44,0.33,0.39,0.44,0.39,0.39,0.44,0.5,0.61,0.22,0.44,0.44,0.33,0.39,0.17,0.39,0.44,0.33,0.28,0.22,0.44,0.28,0.44,0.28,0.33,0.56,0.5,0.61,0.33,0.5,0.44,0.22,0.33,0.5,0.44,0.39,0.28,0.44,0.56,0.44,0.39,0.22,0.44,0.5,0.22,0.5,0.44,0.17,0.33,0.28,0.61,0.39,0.5,0.28,0.28,0.5,0.56,0.5,0.39,0.39,0.39,0.44,0.33,0.56,0.56,0.28,0.28,0.56,0.44,0.28,0.22,0.61,0.39,0.33,0.44,0.39,0.5,0.33,0.39,0.44,0.39,0.39,0.44,0.56,0.33,0.39,0.61,0.39,0.5,0.33,0.33,0.44,0.44,0.5,0.33,0.44,0.33,0.5,0.22,0.22,0.28,0.28,0.56,0.39,0.28,0.44,0.44,0.61,0.44,0.39,0.5,0.11,0.28,0.5,0.44,0.28,0.44,0.39,0.39,0.5,0.22,0.39,0.33,0.33,0.39,0.33,0.22,0.22,0.33,0.28,0.5,0.39,0.44,0.33,0.33,0.33,0.44,0.39,0.39,0.33,0.28,0.33,0.39,0.39,0.28,0.28,0.56,0.5,0.33,0.44,0.22,0.33,0.5,0.44,0.56,0.44,0.28,0.39,0.56,0.17,0.44,0.33,0.44,0.39,0.33,0.44,0.44,0.28,0.39,0.33,0.44,0.39,0.28,0.5,0.39,0.5,0.56,0.33,0.39,0.5,0.28,0.56,0.44,0.44,0.28,0.5,0.39,0.61,0.44,0.56,0.33,0.44,0.33,0.5,0.28,0.39,0.33,0.17,0.39,0.28,0.39,0.5,0.44,0.39,0.33,0.22,0.5,0.33,0.56,0.22,0.39,0.17,0.39,0.33,0.44,0.44,0.28,0.5,0.39,0.44,0.28,0.22,0.39,0.33,0.22,0.28,0.44,0.56,0.33,0.33,0.39,0.39,0.39,0.5,0.56,0.44,0.39,0.33,0.56,0.33,0.39,0.44,0.28,0.28,0.44,0.39,0.28,0.28,0.39,0.39,0.28,0.39,0.22,0.44,0.33,0.22,0.39,0.22,0.56,0.22,0.33,0.44,0.39,0.39,0.44,0.44,0.56,0.33,0.28,0.39,0.72,0.39,0.56,0.28,0.33,0.44,0.33,0.28,0.5,0.39,0.5,0.28,0.28,0.44,0.28,0.44,0.56,0.5,0.28,0.44,0.44,0.5,0.44,0.28,0.39,0.33,0.33,0.44,0.33,0.61,0.28,0.28,0.28,0.28,0.39,0.67,0.5,0.56,0.44,0.5,0.5,0.33,0.33,0.39,0.28,0.5,0.17,0.28,0.17,0.5,0.28,0.22,0.56,0.39,0.28,0.33,0.56,0.39,0.44,0.44,0.44,0.28,0.44,0.39,0.39,0.56,0.67,0.39,0.56,0.44,0.33,0.28,0.33,0.28,0.28,0.39,0.5,0.39,0.44,0.5,0.56,0.39,0.28,0.39,0.33,0.28,0.5,0.33,0.33,0.28,0.44,0.44,0.56,0.5,0.33,0.33,0.5,0.33,0.56,0.33,0.33,0.28,0.33,0.44,0.39,0.44,0.33,0.5,0.28,0.56,0.61,0.39,0.17,0.28,0.5,0.33,0.39,0.33,0.56,0.33,0.39,0.61,0.44,0.56,0.39,0.33,0.5,0.33,0.39,0.5,0.39,0.28,0.5,0.39,0.22,0.44,0.33,0.33,0.33,0.44,0.33,0.44,0.44,0.5,0.44,0.44,0.39,0.28,0.5,0.39,0.17,0.33,0.22,0.44,0.33,0.39,0.44,0.39,0.28,0.44,0.28,0.28,0.5,0.61,0.28,0.39,0.39,0.39,0.5,0.44,0.44,0.61,0.39,0.33,0.39,0.22,0.44,0.39,0.5,0.44,0.33,0.39,0.44,0.44,0.39,0.5,0.28,0.44,0.28,0.39,0.39,0.22,0.39,0.5,0.39,0.56,0.39,0.44,0.33,0.39,0.33,0.33,0.44,0.44,0.39,0.44,0.22,0.39,0.56,0.39,0.28,0.33,0.28,0.56,0.56,0.56,0.33,0.39,0.5,0.56,0.56,0.28,0.28],\"type\":\"box\"}],                        {\"template\":{\"data\":{\"bar\":[{\"error_x\":{\"color\":\"#2a3f5f\"},\"error_y\":{\"color\":\"#2a3f5f\"},\"marker\":{\"line\":{\"color\":\"#E5ECF6\",\"width\":0.5},\"pattern\":{\"fillmode\":\"overlay\",\"size\":10,\"solidity\":0.2}},\"type\":\"bar\"}],\"barpolar\":[{\"marker\":{\"line\":{\"color\":\"#E5ECF6\",\"width\":0.5},\"pattern\":{\"fillmode\":\"overlay\",\"size\":10,\"solidity\":0.2}},\"type\":\"barpolar\"}],\"carpet\":[{\"aaxis\":{\"endlinecolor\":\"#2a3f5f\",\"gridcolor\":\"white\",\"linecolor\":\"white\",\"minorgridcolor\":\"white\",\"startlinecolor\":\"#2a3f5f\"},\"baxis\":{\"endlinecolor\":\"#2a3f5f\",\"gridcolor\":\"white\",\"linecolor\":\"white\",\"minorgridcolor\":\"white\",\"startlinecolor\":\"#2a3f5f\"},\"type\":\"carpet\"}],\"choropleth\":[{\"colorbar\":{\"outlinewidth\":0,\"ticks\":\"\"},\"type\":\"choropleth\"}],\"contour\":[{\"colorbar\":{\"outlinewidth\":0,\"ticks\":\"\"},\"colorscale\":[[0.0,\"#0d0887\"],[0.1111111111111111,\"#46039f\"],[0.2222222222222222,\"#7201a8\"],[0.3333333333333333,\"#9c179e\"],[0.4444444444444444,\"#bd3786\"],[0.5555555555555556,\"#d8576b\"],[0.6666666666666666,\"#ed7953\"],[0.7777777777777778,\"#fb9f3a\"],[0.8888888888888888,\"#fdca26\"],[1.0,\"#f0f921\"]],\"type\":\"contour\"}],\"contourcarpet\":[{\"colorbar\":{\"outlinewidth\":0,\"ticks\":\"\"},\"type\":\"contourcarpet\"}],\"heatmap\":[{\"colorbar\":{\"outlinewidth\":0,\"ticks\":\"\"},\"colorscale\":[[0.0,\"#0d0887\"],[0.1111111111111111,\"#46039f\"],[0.2222222222222222,\"#7201a8\"],[0.3333333333333333,\"#9c179e\"],[0.4444444444444444,\"#bd3786\"],[0.5555555555555556,\"#d8576b\"],[0.6666666666666666,\"#ed7953\"],[0.7777777777777778,\"#fb9f3a\"],[0.8888888888888888,\"#fdca26\"],[1.0,\"#f0f921\"]],\"type\":\"heatmap\"}],\"heatmapgl\":[{\"colorbar\":{\"outlinewidth\":0,\"ticks\":\"\"},\"colorscale\":[[0.0,\"#0d0887\"],[0.1111111111111111,\"#46039f\"],[0.2222222222222222,\"#7201a8\"],[0.3333333333333333,\"#9c179e\"],[0.4444444444444444,\"#bd3786\"],[0.5555555555555556,\"#d8576b\"],[0.6666666666666666,\"#ed7953\"],[0.7777777777777778,\"#fb9f3a\"],[0.8888888888888888,\"#fdca26\"],[1.0,\"#f0f921\"]],\"type\":\"heatmapgl\"}],\"histogram\":[{\"marker\":{\"pattern\":{\"fillmode\":\"overlay\",\"size\":10,\"solidity\":0.2}},\"type\":\"histogram\"}],\"histogram2d\":[{\"colorbar\":{\"outlinewidth\":0,\"ticks\":\"\"},\"colorscale\":[[0.0,\"#0d0887\"],[0.1111111111111111,\"#46039f\"],[0.2222222222222222,\"#7201a8\"],[0.3333333333333333,\"#9c179e\"],[0.4444444444444444,\"#bd3786\"],[0.5555555555555556,\"#d8576b\"],[0.6666666666666666,\"#ed7953\"],[0.7777777777777778,\"#fb9f3a\"],[0.8888888888888888,\"#fdca26\"],[1.0,\"#f0f921\"]],\"type\":\"histogram2d\"}],\"histogram2dcontour\":[{\"colorbar\":{\"outlinewidth\":0,\"ticks\":\"\"},\"colorscale\":[[0.0,\"#0d0887\"],[0.1111111111111111,\"#46039f\"],[0.2222222222222222,\"#7201a8\"],[0.3333333333333333,\"#9c179e\"],[0.4444444444444444,\"#bd3786\"],[0.5555555555555556,\"#d8576b\"],[0.6666666666666666,\"#ed7953\"],[0.7777777777777778,\"#fb9f3a\"],[0.8888888888888888,\"#fdca26\"],[1.0,\"#f0f921\"]],\"type\":\"histogram2dcontour\"}],\"mesh3d\":[{\"colorbar\":{\"outlinewidth\":0,\"ticks\":\"\"},\"type\":\"mesh3d\"}],\"parcoords\":[{\"line\":{\"colorbar\":{\"outlinewidth\":0,\"ticks\":\"\"}},\"type\":\"parcoords\"}],\"pie\":[{\"automargin\":true,\"type\":\"pie\"}],\"scatter\":[{\"marker\":{\"colorbar\":{\"outlinewidth\":0,\"ticks\":\"\"}},\"type\":\"scatter\"}],\"scatter3d\":[{\"line\":{\"colorbar\":{\"outlinewidth\":0,\"ticks\":\"\"}},\"marker\":{\"colorbar\":{\"outlinewidth\":0,\"ticks\":\"\"}},\"type\":\"scatter3d\"}],\"scattercarpet\":[{\"marker\":{\"colorbar\":{\"outlinewidth\":0,\"ticks\":\"\"}},\"type\":\"scattercarpet\"}],\"scattergeo\":[{\"marker\":{\"colorbar\":{\"outlinewidth\":0,\"ticks\":\"\"}},\"type\":\"scattergeo\"}],\"scattergl\":[{\"marker\":{\"colorbar\":{\"outlinewidth\":0,\"ticks\":\"\"}},\"type\":\"scattergl\"}],\"scattermapbox\":[{\"marker\":{\"colorbar\":{\"outlinewidth\":0,\"ticks\":\"\"}},\"type\":\"scattermapbox\"}],\"scatterpolar\":[{\"marker\":{\"colorbar\":{\"outlinewidth\":0,\"ticks\":\"\"}},\"type\":\"scatterpolar\"}],\"scatterpolargl\":[{\"marker\":{\"colorbar\":{\"outlinewidth\":0,\"ticks\":\"\"}},\"type\":\"scatterpolargl\"}],\"scatterternary\":[{\"marker\":{\"colorbar\":{\"outlinewidth\":0,\"ticks\":\"\"}},\"type\":\"scatterternary\"}],\"surface\":[{\"colorbar\":{\"outlinewidth\":0,\"ticks\":\"\"},\"colorscale\":[[0.0,\"#0d0887\"],[0.1111111111111111,\"#46039f\"],[0.2222222222222222,\"#7201a8\"],[0.3333333333333333,\"#9c179e\"],[0.4444444444444444,\"#bd3786\"],[0.5555555555555556,\"#d8576b\"],[0.6666666666666666,\"#ed7953\"],[0.7777777777777778,\"#fb9f3a\"],[0.8888888888888888,\"#fdca26\"],[1.0,\"#f0f921\"]],\"type\":\"surface\"}],\"table\":[{\"cells\":{\"fill\":{\"color\":\"#EBF0F8\"},\"line\":{\"color\":\"white\"}},\"header\":{\"fill\":{\"color\":\"#C8D4E3\"},\"line\":{\"color\":\"white\"}},\"type\":\"table\"}]},\"layout\":{\"annotationdefaults\":{\"arrowcolor\":\"#2a3f5f\",\"arrowhead\":0,\"arrowwidth\":1},\"autotypenumbers\":\"strict\",\"coloraxis\":{\"colorbar\":{\"outlinewidth\":0,\"ticks\":\"\"}},\"colorscale\":{\"diverging\":[[0,\"#8e0152\"],[0.1,\"#c51b7d\"],[0.2,\"#de77ae\"],[0.3,\"#f1b6da\"],[0.4,\"#fde0ef\"],[0.5,\"#f7f7f7\"],[0.6,\"#e6f5d0\"],[0.7,\"#b8e186\"],[0.8,\"#7fbc41\"],[0.9,\"#4d9221\"],[1,\"#276419\"]],\"sequential\":[[0.0,\"#0d0887\"],[0.1111111111111111,\"#46039f\"],[0.2222222222222222,\"#7201a8\"],[0.3333333333333333,\"#9c179e\"],[0.4444444444444444,\"#bd3786\"],[0.5555555555555556,\"#d8576b\"],[0.6666666666666666,\"#ed7953\"],[0.7777777777777778,\"#fb9f3a\"],[0.8888888888888888,\"#fdca26\"],[1.0,\"#f0f921\"]],\"sequentialminus\":[[0.0,\"#0d0887\"],[0.1111111111111111,\"#46039f\"],[0.2222222222222222,\"#7201a8\"],[0.3333333333333333,\"#9c179e\"],[0.4444444444444444,\"#bd3786\"],[0.5555555555555556,\"#d8576b\"],[0.6666666666666666,\"#ed7953\"],[0.7777777777777778,\"#fb9f3a\"],[0.8888888888888888,\"#fdca26\"],[1.0,\"#f0f921\"]]},\"colorway\":[\"#636efa\",\"#EF553B\",\"#00cc96\",\"#ab63fa\",\"#FFA15A\",\"#19d3f3\",\"#FF6692\",\"#B6E880\",\"#FF97FF\",\"#FECB52\"],\"font\":{\"color\":\"#2a3f5f\"},\"geo\":{\"bgcolor\":\"white\",\"lakecolor\":\"white\",\"landcolor\":\"#E5ECF6\",\"showlakes\":true,\"showland\":true,\"subunitcolor\":\"white\"},\"hoverlabel\":{\"align\":\"left\"},\"hovermode\":\"closest\",\"mapbox\":{\"style\":\"light\"},\"paper_bgcolor\":\"white\",\"plot_bgcolor\":\"#E5ECF6\",\"polar\":{\"angularaxis\":{\"gridcolor\":\"white\",\"linecolor\":\"white\",\"ticks\":\"\"},\"bgcolor\":\"#E5ECF6\",\"radialaxis\":{\"gridcolor\":\"white\",\"linecolor\":\"white\",\"ticks\":\"\"}},\"scene\":{\"xaxis\":{\"backgroundcolor\":\"#E5ECF6\",\"gridcolor\":\"white\",\"gridwidth\":2,\"linecolor\":\"white\",\"showbackground\":true,\"ticks\":\"\",\"zerolinecolor\":\"white\"},\"yaxis\":{\"backgroundcolor\":\"#E5ECF6\",\"gridcolor\":\"white\",\"gridwidth\":2,\"linecolor\":\"white\",\"showbackground\":true,\"ticks\":\"\",\"zerolinecolor\":\"white\"},\"zaxis\":{\"backgroundcolor\":\"#E5ECF6\",\"gridcolor\":\"white\",\"gridwidth\":2,\"linecolor\":\"white\",\"showbackground\":true,\"ticks\":\"\",\"zerolinecolor\":\"white\"}},\"shapedefaults\":{\"line\":{\"color\":\"#2a3f5f\"}},\"ternary\":{\"aaxis\":{\"gridcolor\":\"white\",\"linecolor\":\"white\",\"ticks\":\"\"},\"baxis\":{\"gridcolor\":\"white\",\"linecolor\":\"white\",\"ticks\":\"\"},\"bgcolor\":\"#E5ECF6\",\"caxis\":{\"gridcolor\":\"white\",\"linecolor\":\"white\",\"ticks\":\"\"}},\"title\":{\"x\":0.05},\"xaxis\":{\"automargin\":true,\"gridcolor\":\"white\",\"linecolor\":\"white\",\"ticks\":\"\",\"title\":{\"standoff\":15},\"zerolinecolor\":\"white\",\"zerolinewidth\":2},\"yaxis\":{\"automargin\":true,\"gridcolor\":\"white\",\"linecolor\":\"white\",\"ticks\":\"\",\"title\":{\"standoff\":15},\"zerolinecolor\":\"white\",\"zerolinewidth\":2}}}},                        {\"responsive\": true}                    ).then(function(){\n",
              "                            \n",
              "var gd = document.getElementById('aa86cb54-a37f-480c-8913-d9f9c1bbb193');\n",
              "var x = new MutationObserver(function (mutations, observer) {{\n",
              "        var display = window.getComputedStyle(gd).display;\n",
              "        if (!display || display === 'none') {{\n",
              "            console.log([gd, 'removed!']);\n",
              "            Plotly.purge(gd);\n",
              "            observer.disconnect();\n",
              "        }}\n",
              "}});\n",
              "\n",
              "// Listen for the removal of the full notebook cells\n",
              "var notebookContainer = gd.closest('#notebook-container');\n",
              "if (notebookContainer) {{\n",
              "    x.observe(notebookContainer, {childList: true});\n",
              "}}\n",
              "\n",
              "// Listen for the clearing of the current output cell\n",
              "var outputEl = gd.closest('.output');\n",
              "if (outputEl) {{\n",
              "    x.observe(outputEl, {childList: true});\n",
              "}}\n",
              "\n",
              "                        })                };                            </script>        </div>\n",
              "</body>\n",
              "</html>"
            ]
          },
          "metadata": {}
        }
      ]
    },
    {
      "cell_type": "code",
      "source": [
        "fig = go.Figure()\n",
        "fig.add_trace(go.Box(x=random_AggPerf, name=\"Random Perf distribution 2006-2011, Money Management\", quartilemethod=\"inclusive\"))"
      ],
      "metadata": {
        "colab": {
          "base_uri": "https://localhost:8080/",
          "height": 542
        },
        "id": "Vk4ufNd_Vj6I",
        "outputId": "bd515b23-7471-4dfc-8a70-edd4ed2d382f"
      },
      "execution_count": null,
      "outputs": [
        {
          "output_type": "display_data",
          "data": {
            "text/html": [
              "<html>\n",
              "<head><meta charset=\"utf-8\" /></head>\n",
              "<body>\n",
              "    <div>            <script src=\"https://cdnjs.cloudflare.com/ajax/libs/mathjax/2.7.5/MathJax.js?config=TeX-AMS-MML_SVG\"></script><script type=\"text/javascript\">if (window.MathJax) {MathJax.Hub.Config({SVG: {font: \"STIX-Web\"}});}</script>                <script type=\"text/javascript\">window.PlotlyConfig = {MathJaxConfig: 'local'};</script>\n",
              "        <script src=\"https://cdn.plot.ly/plotly-2.8.3.min.js\"></script>                <div id=\"8f1f0d55-5e67-4ca7-948e-31180a9274ba\" class=\"plotly-graph-div\" style=\"height:525px; width:100%;\"></div>            <script type=\"text/javascript\">                                    window.PLOTLYENV=window.PLOTLYENV || {};                                    if (document.getElementById(\"8f1f0d55-5e67-4ca7-948e-31180a9274ba\")) {                    Plotly.newPlot(                        \"8f1f0d55-5e67-4ca7-948e-31180a9274ba\",                        [{\"name\":\"Random Perf distribution 2006-2011, Money Management\",\"quartilemethod\":\"inclusive\",\"x\":[-11.56,132.05,-17.52,-39.16,-10.15,141.47,15.63,-28.23,61.95,-54.89,10.52,-25.94,63.84,-53.18,18.6,106.33,-9.79,-26.72,-23.53,-30.16,-8.61,-44.86,54.97,-3.78,-33.69,-42.61,-1.96,-35.75,36.21,-50.0,-24.88,-15.07,-10.36,36.94,-36.01,-68.85,-33.93,-11.7,-10.59,120.15,-18.21,-6.79,-63.28,14.4,-44.1,-26.31,-46.82,14.33,-29.28,-34.17,-34.48,32.24,-34.64,-34.19,-53.59,10.35,-32.47,20.68,-24.64,-12.45,-8.88,-25.31,-51.79,-44.86,51.51,-22.89,-46.38,-16.36,-9.46,-45.87,65.0,-22.86,42.31,-40.23,-35.31,23.35,-21.7,-25.87,-2.14,10.23,19.68,-42.25,-24.2,-44.47,-11.88,34.89,13.18,-9.85,-29.49,-5.36,-64.85,-39.46,-29.35,33.8,-8.44,36.69,-3.57,-11.92,75.65,-32.54,-51.96,-20.43,24.9,-33.24,2.45,-33.44,-29.07,-53.22,-41.17,27.22,-1.46,-24.27,15.75,-57.55,-58.61,-49.17,18.04,80.74,-30.81,-20.26,13.49,-3.78,-33.7,26.75,-4.19,25.14,185.16,62.2,43.42,-32.71,2.38,0.3,28.89,14.75,-49.77,0.25,-20.35,39.48,-46.21,9.24,-42.82,-11.55,-25.71,-28.46,4.27,-43.2,40.18,-12.48,8.39,55.95,-46.76,-18.73,-7.29,-20.1,42.08,-63.62,-20.04,131.4,-22.81,-0.62,1.82,-21.45,-21.09,-27.54,115.51,-41.03,0.81,26.25,86.22,-49.79,-71.83,-10.73,-15.38,58.59,-44.24,44.98,-25.61,5.42,2.59,27.92,56.43,69.55,20.76,28.93,-53.22,-47.06,-5.8,7.22,-15.23,-21.45,15.46,33.7,37.5,-64.91,33.1,41.26,-16.18,-62.74,49.72,-43.06,-40.89,-58.19,-23.32,-25.85,-35.23,-16.98,-32.41,-9.06,0.81,-20.05,16.51,-37.8,-27.27,28.63,24.01,106.53,2.83,-14.22,-20.79,-26.41,-65.18,-17.56,-40.5,-30.4,-75.76,-0.62,-9.89,107.85,-50.2,-18.46,7.19,-12.66,-45.37,9.06,4.64,229.67,-4.55,-30.47,-3.25,-18.8,-27.87,-46.94,-43.09,-24.96,32.57,-43.37,-20.46,-32.65,68.76,28.79,46.34,-3.77,-14.13,74.47,-34.74,-32.24,-43.65,-52.13,-29.97,-27.5,-62.11,37.6,60.17,15.92,-26.76,-19.97,-17.89,-7.15,12.19,-19.57,-26.52,-10.5,-56.25,-32.61,-42.57,-24.06,19.69,-9.81,-17.18,187.48,-41.11,10.53,-43.17,-21.62,8.51,-40.54,-46.69,-1.27,-48.31,-26.87,34.98,-27.24,38.64,-30.68,-56.84,8.8,-28.12,-62.4,-46.51,1.38,7.76,-15.39,146.62,-33.34,-32.82,-31.22,30.24,-8.06,-29.21,-30.1,-54.33,-3.21,-30.64,-2.2,-52.95,43.29,51.58,105.26,-6.67,-3.56,-25.22,0.56,38.52,31.37,107.09,-18.45,16.28,48.03,-55.16,61.34,-23.82,-26.53,-11.39,-24.39,52.23,-33.76,-11.64,-2.38,-18.64,-15.44,-52.8,-60.43,41.66,19.41,-25.32,-22.01,7.2,13.22,-10.15,47.38,22.4,-32.56,31.97,-9.92,-33.45,-44.01,-14.14,32.61,-21.85,-16.44,-47.16,-34.37,-25.22,-20.25,68.4,124.89,-44.31,-12.45,-8.07,2.29,-29.48,-40.28,13.92,-41.82,-29.16,-45.13,-1.23,30.41,-13.57,-36.54,-3.19,-25.66,-10.74,-0.04,13.55,-38.63,-20.78,-9.2,-29.23,-53.56,-7.62,-12.18,-17.09,0.58,-27.76,29.15,140.86,-54.72,0.15,-8.43,-0.92,-31.21,10.2,-13.12,-49.9,-31.74,-19.31,-31.54,6.16,-34.41,-51.53,-45.7,21.62,-15.52,-13.91,51.29,37.78,0.01,-8.77,-46.83,34.29,61.22,118.83,93.32,-33.45,13.51,37.93,-7.32,-14.15,2.54,-55.67,-60.93,36.97,-23.98,73.27,-20.8,-63.01,-29.86,-37.55,3.34,-0.46,-44.67,64.31,-11.71,-26.63,6.58,-16.63,38.59,-23.02,-43.53,5.77,41.02,-16.35,-10.31,-59.91,11.8,-2.84,-64.37,-59.6,40.93,-7.8,-50.17,-17.89,0.21,-28.4,16.76,206.94,-36.06,48.57,-3.81,10.56,28.27,-29.79,23.3,21.33,-18.22,-11.22,-4.48,-14.34,-56.85,106.96,-53.57,-12.51,-46.28,-36.0,-39.8,-17.37,-7.41,-47.89,32.04,12.11,4.5,-33.51,23.73,-6.22,-46.93,31.32,28.56,-9.83,-32.83,27.06,-0.99,47.86,-30.34,-24.26,-26.4,-27.45,-25.17,22.25,-8.2,-19.59,160.97,103.51,-40.37,16.61,-17.08,0.86,-24.54,-11.87,-47.07,-36.04,-28.31,-25.46,10.82,-67.86,-25.64,-34.24,39.59,7.03,-10.43,-7.2,-43.29,-46.17,41.53,10.26,-35.24,-50.03,22.62,30.15,-44.49,32.22,-13.36,-49.91,-11.92,-2.26,24.67,52.82,-32.51,69.98,-19.45,-33.76,-39.66,-7.48,-26.91,50.23,-8.03,65.58,-26.27,49.78,-2.93,9.77,-62.52,-2.3,14.27,-11.45,-20.32,-41.53,-1.65,-15.85,1.02,26.44,-26.4,-4.21,1.14,50.66,-26.2,-42.41,13.81,0.79,-63.31,39.77,-16.25,-0.62,-32.16,30.5,-1.36,-18.75,-10.45,-18.38,-25.52,-49.93,-1.0,23.7,116.65,-24.01,14.21,65.01,-11.51,-14.68,-57.59,-34.22,-6.88,-4.7,-33.64,-46.35,10.92,-50.54,4.64,-57.62,-28.42,67.27,11.2,114.52,-34.21,-16.07,9.58,-50.67,-48.63,-2.13,-41.93,-39.33,-14.93,-4.8,98.23,-0.65,5.49,-68.9,-0.26,22.04,-43.52,12.19,36.63,-61.59,-39.23,-45.31,61.28,3.62,59.5,-22.62,-40.59,84.04,119.95,31.41,60.97,-23.71,2.28,-26.33,-17.89,66.66,-2.57,-40.85,-33.65,74.98,62.95,-56.59,-36.07,82.05,-33.11,-1.2,-18.39,2.6,11.54,-14.19,-6.58,7.54,-35.16,31.66,9.44,64.77,-32.09,-45.81,72.19,-10.76,16.8,-39.87,-9.25,-24.05,36.69,10.08,-40.81,18.96,-37.46,-3.26,-38.94,-37.69,-14.86,-39.19,16.91,4.26,-49.02,15.5,-38.39,47.76,-27.9,-29.94,49.42,-76.25,-54.71,-30.86,-26.19,-39.18,35.75,-40.47,-11.15,79.77,-49.16,-46.69,-54.25,-54.92,-22.1,-29.32,-48.59,-52.36,-40.59,-49.63,46.07,-25.85,48.7,-10.1,-35.96,-39.62,52.38,19.95,-18.91,-34.79,-36.07,-27.18,-26.07,-3.77,-26.75,-46.49,-1.9,12.86,-17.61,15.55,-33.35,-6.45,63.73,19.36,72.33,20.54,-49.22,-28.78,26.18,-60.81,3.49,-11.21,38.86,-23.07,-11.83,-9.74,64.83,-53.82,-35.0,-19.96,14.43,3.1,1.76,53.54,-19.41,4.93,118.44,-49.94,-12.41,64.81,-45.69,70.92,-18.04,38.94,-10.06,24.12,9.72,109.42,12.23,26.98,5.86,-36.26,-31.35,7.79,-41.28,-16.32,-25.36,-62.8,-17.03,-23.9,36.99,-23.44,16.36,-26.77,-33.68,-23.26,51.69,-36.88,34.52,-20.98,-12.74,-51.68,-39.09,-37.59,-29.17,10.29,-26.96,-0.37,-12.17,-45.45,-22.76,-51.05,8.16,-35.26,-21.48,-30.08,12.45,11.29,-26.92,-40.91,15.94,-18.32,34.92,16.8,-5.44,-13.26,-0.09,-5.41,49.51,-52.19,37.5,-44.96,-60.65,-25.19,41.32,-15.98,-36.86,-36.05,-12.88,-11.49,4.07,-41.33,-46.02,-7.37,3.36,-58.65,-22.14,-42.91,61.8,-52.14,-8.59,-16.0,31.38,1.01,-7.97,-9.59,79.19,-40.63,-54.12,-17.33,154.51,-35.69,89.3,-35.74,-11.69,-17.63,-9.4,-41.59,-36.08,-4.65,-12.9,-56.07,-40.62,3.79,-38.34,61.79,131.82,23.42,-38.9,-45.3,5.09,-4.55,-19.57,-38.82,-2.24,-57.06,-44.59,15.9,-26.82,50.6,-51.42,-21.34,-37.63,-58.43,38.48,205.85,29.58,13.56,-39.45,77.94,86.88,-31.61,-25.18,-18.45,-48.92,60.76,-54.75,-32.13,-68.68,33.84,-16.85,-61.14,3.27,13.53,17.72,-50.46,28.97,-22.82,15.14,-19.17,-25.26,-55.53,23.27,-20.5,-20.58,-13.27,101.68,-24.32,50.3,0.22,-25.32,-32.26,-54.92,-36.59,-46.49,-16.2,53.95,-18.86,-14.48,-19.09,50.52,-16.89,-31.09,10.22,-16.62,-48.64,10.65,-55.66,-11.9,-56.14,18.33,57.51,43.2,76.49,-24.15,-25.6,1.77,-31.08,143.77,-23.58,-26.48,-54.39,-11.37,-5.66,17.37,47.57,-18.86,1.26,-25.96,188.58,86.87,-31.37,-55.36,-53.01,7.24,-4.17,7.79,-28.55,14.32,-34.84,-9.28,30.88,-41.24,26.38,-34.05,-12.76,84.07,-18.67,-15.32,-5.82,-5.39,-50.65,51.16,-40.45,-69.68,6.32,-46.74,-50.73,-12.68,-26.49,-31.76,-12.04,34.54,3.99,-20.88,-23.5,-37.28,-35.33,-29.62,-31.15,-53.92,-37.75,-33.74,-32.14,-3.42,9.56,8.54,-43.16,-43.73,-16.46,-30.42,-44.97,27.54,44.87,-51.52,-32.6,-32.04,-7.53,41.01,38.41,-9.08,36.13,-46.43,9.58,1.31,-32.09,51.76,-38.4,26.14,-7.33,-11.73,-36.94,23.79,49.58,-30.77,-2.49,-44.51,-18.48,-10.64,-32.39,5.95,-56.27,-16.96,-0.31,0.71,31.54,-4.83,-18.27,13.99,-1.62,-22.13,-45.87,-20.19,37.73,20.07,-31.6,-35.55,22.2,-10.16,-23.8,-20.37,-40.74,-38.49,22.96,93.67,95.28,-31.11,34.58,34.18,51.77,5.82,-40.29,-37.02],\"type\":\"box\"}],                        {\"template\":{\"data\":{\"bar\":[{\"error_x\":{\"color\":\"#2a3f5f\"},\"error_y\":{\"color\":\"#2a3f5f\"},\"marker\":{\"line\":{\"color\":\"#E5ECF6\",\"width\":0.5},\"pattern\":{\"fillmode\":\"overlay\",\"size\":10,\"solidity\":0.2}},\"type\":\"bar\"}],\"barpolar\":[{\"marker\":{\"line\":{\"color\":\"#E5ECF6\",\"width\":0.5},\"pattern\":{\"fillmode\":\"overlay\",\"size\":10,\"solidity\":0.2}},\"type\":\"barpolar\"}],\"carpet\":[{\"aaxis\":{\"endlinecolor\":\"#2a3f5f\",\"gridcolor\":\"white\",\"linecolor\":\"white\",\"minorgridcolor\":\"white\",\"startlinecolor\":\"#2a3f5f\"},\"baxis\":{\"endlinecolor\":\"#2a3f5f\",\"gridcolor\":\"white\",\"linecolor\":\"white\",\"minorgridcolor\":\"white\",\"startlinecolor\":\"#2a3f5f\"},\"type\":\"carpet\"}],\"choropleth\":[{\"colorbar\":{\"outlinewidth\":0,\"ticks\":\"\"},\"type\":\"choropleth\"}],\"contour\":[{\"colorbar\":{\"outlinewidth\":0,\"ticks\":\"\"},\"colorscale\":[[0.0,\"#0d0887\"],[0.1111111111111111,\"#46039f\"],[0.2222222222222222,\"#7201a8\"],[0.3333333333333333,\"#9c179e\"],[0.4444444444444444,\"#bd3786\"],[0.5555555555555556,\"#d8576b\"],[0.6666666666666666,\"#ed7953\"],[0.7777777777777778,\"#fb9f3a\"],[0.8888888888888888,\"#fdca26\"],[1.0,\"#f0f921\"]],\"type\":\"contour\"}],\"contourcarpet\":[{\"colorbar\":{\"outlinewidth\":0,\"ticks\":\"\"},\"type\":\"contourcarpet\"}],\"heatmap\":[{\"colorbar\":{\"outlinewidth\":0,\"ticks\":\"\"},\"colorscale\":[[0.0,\"#0d0887\"],[0.1111111111111111,\"#46039f\"],[0.2222222222222222,\"#7201a8\"],[0.3333333333333333,\"#9c179e\"],[0.4444444444444444,\"#bd3786\"],[0.5555555555555556,\"#d8576b\"],[0.6666666666666666,\"#ed7953\"],[0.7777777777777778,\"#fb9f3a\"],[0.8888888888888888,\"#fdca26\"],[1.0,\"#f0f921\"]],\"type\":\"heatmap\"}],\"heatmapgl\":[{\"colorbar\":{\"outlinewidth\":0,\"ticks\":\"\"},\"colorscale\":[[0.0,\"#0d0887\"],[0.1111111111111111,\"#46039f\"],[0.2222222222222222,\"#7201a8\"],[0.3333333333333333,\"#9c179e\"],[0.4444444444444444,\"#bd3786\"],[0.5555555555555556,\"#d8576b\"],[0.6666666666666666,\"#ed7953\"],[0.7777777777777778,\"#fb9f3a\"],[0.8888888888888888,\"#fdca26\"],[1.0,\"#f0f921\"]],\"type\":\"heatmapgl\"}],\"histogram\":[{\"marker\":{\"pattern\":{\"fillmode\":\"overlay\",\"size\":10,\"solidity\":0.2}},\"type\":\"histogram\"}],\"histogram2d\":[{\"colorbar\":{\"outlinewidth\":0,\"ticks\":\"\"},\"colorscale\":[[0.0,\"#0d0887\"],[0.1111111111111111,\"#46039f\"],[0.2222222222222222,\"#7201a8\"],[0.3333333333333333,\"#9c179e\"],[0.4444444444444444,\"#bd3786\"],[0.5555555555555556,\"#d8576b\"],[0.6666666666666666,\"#ed7953\"],[0.7777777777777778,\"#fb9f3a\"],[0.8888888888888888,\"#fdca26\"],[1.0,\"#f0f921\"]],\"type\":\"histogram2d\"}],\"histogram2dcontour\":[{\"colorbar\":{\"outlinewidth\":0,\"ticks\":\"\"},\"colorscale\":[[0.0,\"#0d0887\"],[0.1111111111111111,\"#46039f\"],[0.2222222222222222,\"#7201a8\"],[0.3333333333333333,\"#9c179e\"],[0.4444444444444444,\"#bd3786\"],[0.5555555555555556,\"#d8576b\"],[0.6666666666666666,\"#ed7953\"],[0.7777777777777778,\"#fb9f3a\"],[0.8888888888888888,\"#fdca26\"],[1.0,\"#f0f921\"]],\"type\":\"histogram2dcontour\"}],\"mesh3d\":[{\"colorbar\":{\"outlinewidth\":0,\"ticks\":\"\"},\"type\":\"mesh3d\"}],\"parcoords\":[{\"line\":{\"colorbar\":{\"outlinewidth\":0,\"ticks\":\"\"}},\"type\":\"parcoords\"}],\"pie\":[{\"automargin\":true,\"type\":\"pie\"}],\"scatter\":[{\"marker\":{\"colorbar\":{\"outlinewidth\":0,\"ticks\":\"\"}},\"type\":\"scatter\"}],\"scatter3d\":[{\"line\":{\"colorbar\":{\"outlinewidth\":0,\"ticks\":\"\"}},\"marker\":{\"colorbar\":{\"outlinewidth\":0,\"ticks\":\"\"}},\"type\":\"scatter3d\"}],\"scattercarpet\":[{\"marker\":{\"colorbar\":{\"outlinewidth\":0,\"ticks\":\"\"}},\"type\":\"scattercarpet\"}],\"scattergeo\":[{\"marker\":{\"colorbar\":{\"outlinewidth\":0,\"ticks\":\"\"}},\"type\":\"scattergeo\"}],\"scattergl\":[{\"marker\":{\"colorbar\":{\"outlinewidth\":0,\"ticks\":\"\"}},\"type\":\"scattergl\"}],\"scattermapbox\":[{\"marker\":{\"colorbar\":{\"outlinewidth\":0,\"ticks\":\"\"}},\"type\":\"scattermapbox\"}],\"scatterpolar\":[{\"marker\":{\"colorbar\":{\"outlinewidth\":0,\"ticks\":\"\"}},\"type\":\"scatterpolar\"}],\"scatterpolargl\":[{\"marker\":{\"colorbar\":{\"outlinewidth\":0,\"ticks\":\"\"}},\"type\":\"scatterpolargl\"}],\"scatterternary\":[{\"marker\":{\"colorbar\":{\"outlinewidth\":0,\"ticks\":\"\"}},\"type\":\"scatterternary\"}],\"surface\":[{\"colorbar\":{\"outlinewidth\":0,\"ticks\":\"\"},\"colorscale\":[[0.0,\"#0d0887\"],[0.1111111111111111,\"#46039f\"],[0.2222222222222222,\"#7201a8\"],[0.3333333333333333,\"#9c179e\"],[0.4444444444444444,\"#bd3786\"],[0.5555555555555556,\"#d8576b\"],[0.6666666666666666,\"#ed7953\"],[0.7777777777777778,\"#fb9f3a\"],[0.8888888888888888,\"#fdca26\"],[1.0,\"#f0f921\"]],\"type\":\"surface\"}],\"table\":[{\"cells\":{\"fill\":{\"color\":\"#EBF0F8\"},\"line\":{\"color\":\"white\"}},\"header\":{\"fill\":{\"color\":\"#C8D4E3\"},\"line\":{\"color\":\"white\"}},\"type\":\"table\"}]},\"layout\":{\"annotationdefaults\":{\"arrowcolor\":\"#2a3f5f\",\"arrowhead\":0,\"arrowwidth\":1},\"autotypenumbers\":\"strict\",\"coloraxis\":{\"colorbar\":{\"outlinewidth\":0,\"ticks\":\"\"}},\"colorscale\":{\"diverging\":[[0,\"#8e0152\"],[0.1,\"#c51b7d\"],[0.2,\"#de77ae\"],[0.3,\"#f1b6da\"],[0.4,\"#fde0ef\"],[0.5,\"#f7f7f7\"],[0.6,\"#e6f5d0\"],[0.7,\"#b8e186\"],[0.8,\"#7fbc41\"],[0.9,\"#4d9221\"],[1,\"#276419\"]],\"sequential\":[[0.0,\"#0d0887\"],[0.1111111111111111,\"#46039f\"],[0.2222222222222222,\"#7201a8\"],[0.3333333333333333,\"#9c179e\"],[0.4444444444444444,\"#bd3786\"],[0.5555555555555556,\"#d8576b\"],[0.6666666666666666,\"#ed7953\"],[0.7777777777777778,\"#fb9f3a\"],[0.8888888888888888,\"#fdca26\"],[1.0,\"#f0f921\"]],\"sequentialminus\":[[0.0,\"#0d0887\"],[0.1111111111111111,\"#46039f\"],[0.2222222222222222,\"#7201a8\"],[0.3333333333333333,\"#9c179e\"],[0.4444444444444444,\"#bd3786\"],[0.5555555555555556,\"#d8576b\"],[0.6666666666666666,\"#ed7953\"],[0.7777777777777778,\"#fb9f3a\"],[0.8888888888888888,\"#fdca26\"],[1.0,\"#f0f921\"]]},\"colorway\":[\"#636efa\",\"#EF553B\",\"#00cc96\",\"#ab63fa\",\"#FFA15A\",\"#19d3f3\",\"#FF6692\",\"#B6E880\",\"#FF97FF\",\"#FECB52\"],\"font\":{\"color\":\"#2a3f5f\"},\"geo\":{\"bgcolor\":\"white\",\"lakecolor\":\"white\",\"landcolor\":\"#E5ECF6\",\"showlakes\":true,\"showland\":true,\"subunitcolor\":\"white\"},\"hoverlabel\":{\"align\":\"left\"},\"hovermode\":\"closest\",\"mapbox\":{\"style\":\"light\"},\"paper_bgcolor\":\"white\",\"plot_bgcolor\":\"#E5ECF6\",\"polar\":{\"angularaxis\":{\"gridcolor\":\"white\",\"linecolor\":\"white\",\"ticks\":\"\"},\"bgcolor\":\"#E5ECF6\",\"radialaxis\":{\"gridcolor\":\"white\",\"linecolor\":\"white\",\"ticks\":\"\"}},\"scene\":{\"xaxis\":{\"backgroundcolor\":\"#E5ECF6\",\"gridcolor\":\"white\",\"gridwidth\":2,\"linecolor\":\"white\",\"showbackground\":true,\"ticks\":\"\",\"zerolinecolor\":\"white\"},\"yaxis\":{\"backgroundcolor\":\"#E5ECF6\",\"gridcolor\":\"white\",\"gridwidth\":2,\"linecolor\":\"white\",\"showbackground\":true,\"ticks\":\"\",\"zerolinecolor\":\"white\"},\"zaxis\":{\"backgroundcolor\":\"#E5ECF6\",\"gridcolor\":\"white\",\"gridwidth\":2,\"linecolor\":\"white\",\"showbackground\":true,\"ticks\":\"\",\"zerolinecolor\":\"white\"}},\"shapedefaults\":{\"line\":{\"color\":\"#2a3f5f\"}},\"ternary\":{\"aaxis\":{\"gridcolor\":\"white\",\"linecolor\":\"white\",\"ticks\":\"\"},\"baxis\":{\"gridcolor\":\"white\",\"linecolor\":\"white\",\"ticks\":\"\"},\"bgcolor\":\"#E5ECF6\",\"caxis\":{\"gridcolor\":\"white\",\"linecolor\":\"white\",\"ticks\":\"\"}},\"title\":{\"x\":0.05},\"xaxis\":{\"automargin\":true,\"gridcolor\":\"white\",\"linecolor\":\"white\",\"ticks\":\"\",\"title\":{\"standoff\":15},\"zerolinecolor\":\"white\",\"zerolinewidth\":2},\"yaxis\":{\"automargin\":true,\"gridcolor\":\"white\",\"linecolor\":\"white\",\"ticks\":\"\",\"title\":{\"standoff\":15},\"zerolinecolor\":\"white\",\"zerolinewidth\":2}}}},                        {\"responsive\": true}                    ).then(function(){\n",
              "                            \n",
              "var gd = document.getElementById('8f1f0d55-5e67-4ca7-948e-31180a9274ba');\n",
              "var x = new MutationObserver(function (mutations, observer) {{\n",
              "        var display = window.getComputedStyle(gd).display;\n",
              "        if (!display || display === 'none') {{\n",
              "            console.log([gd, 'removed!']);\n",
              "            Plotly.purge(gd);\n",
              "            observer.disconnect();\n",
              "        }}\n",
              "}});\n",
              "\n",
              "// Listen for the removal of the full notebook cells\n",
              "var notebookContainer = gd.closest('#notebook-container');\n",
              "if (notebookContainer) {{\n",
              "    x.observe(notebookContainer, {childList: true});\n",
              "}}\n",
              "\n",
              "// Listen for the clearing of the current output cell\n",
              "var outputEl = gd.closest('.output');\n",
              "if (outputEl) {{\n",
              "    x.observe(outputEl, {childList: true});\n",
              "}}\n",
              "\n",
              "                        })                };                            </script>        </div>\n",
              "</body>\n",
              "</html>"
            ]
          },
          "metadata": {}
        }
      ]
    },
    {
      "cell_type": "markdown",
      "source": [
        "## Supertrend multiples ##"
      ],
      "metadata": {
        "id": "WkxbhxWqXhyo"
      }
    },
    {
      "cell_type": "code",
      "source": [
        "# Listes ATR et Multiplier pour Supertrend, et selection de VWMA #\n",
        "\n",
        "np_list = np.arange(2.0,6.0,0.5)\n",
        "l_atr = [x for x in range(5,120)]\n",
        "\n",
        "d_vars_supertrend = {\n",
        "    \"atr\": l_atr,\n",
        "    \"multiplier\": list(np_list)\n",
        "}\n",
        "\n",
        "vwma_list = [5,10,21,34,55,70,89,144,200]"
      ],
      "metadata": {
        "id": "XHa0yDB-PvEp"
      },
      "execution_count": null,
      "outputs": []
    },
    {
      "cell_type": "code",
      "source": [
        "dict_res = {\n",
        "    \"atr_length\":[],\n",
        "    \"multiplier\":[],\n",
        "    \"vwma_length\":[],\n",
        "    \"cumulative_performance\":[]\n",
        "}\n",
        "params_test=[]\n",
        "  \n",
        "for moy in vwma_list:\n",
        "  for mult in d_vars_supertrend['multiplier']:\n",
        "    for atr in d_vars_supertrend['atr']:\n",
        "\n",
        "      # Dataframe contenant les indicateurs techniques\n",
        "      #df_ta_ST_VWMA = generate_ta(df_source,atr,mult,moy)\n",
        "      df_ta_ST_VWMA = generate_ta(df_source_allTime,atr,mult,moy)\n",
        "\n",
        "      # Entrées & Sorties correspondantes à la stratégie\n",
        "      entries_list = find_entries(df_ta_ST_VWMA)\n",
        "      exits_list = get_exits_list(df_ta_ST_VWMA, entries_list, 1.3, 0.9)\n",
        "      \n",
        "      # DataFrame entrées - sorties - variations\n",
        "      df_perf = generate_df_perf(df_ta_ST_VWMA, entries_list, exits_list)\n",
        "\n",
        "      # Obtention de la performance cumulée\n",
        "      perf = calc_performance(df_perf)\n",
        "\n",
        "      # Inscription des résultats dans le dictionnaire\n",
        "      dict_res[\"atr_length\"].append(atr)\n",
        "      dict_res[\"multiplier\"].append(mult)\n",
        "      dict_res[\"vwma_length\"].append(moy)\n",
        "      dict_res[\"cumulative_performance\"].append(perf)\n",
        "\n",
        "# Transformation en dataframe\n",
        "df_multi_ST = pd.DataFrame.from_dict(dict_res)"
      ],
      "metadata": {
        "id": "pTA0Qol7BQqq"
      },
      "execution_count": null,
      "outputs": []
    },
    {
      "cell_type": "code",
      "source": [
        "df_multi_ST.sort_values(by=[\"cumulative_performance\"], ascending=False).head(20)"
      ],
      "metadata": {
        "colab": {
          "base_uri": "https://localhost:8080/",
          "height": 677
        },
        "id": "xGJGPHrftB_l",
        "outputId": "8d20dce2-dc6e-4a3a-ba44-5856a9ab9be2"
      },
      "execution_count": null,
      "outputs": [
        {
          "output_type": "execute_result",
          "data": {
            "text/plain": [
              "      atr_length  multiplier  vwma_length  cumulative_performance\n",
              "2240          60         3.5           21                 3008.06\n",
              "2241          61         3.5           21                 2960.96\n",
              "2242          62         3.5           21                 2933.14\n",
              "2235          55         3.5           21                 2905.59\n",
              "2233          53         3.5           21                 2861.98\n",
              "2237          57         3.5           21                 2790.41\n",
              "2236          56         3.5           21                 2790.41\n",
              "2214          34         3.5           21                 2777.08\n",
              "2239          59         3.5           21                 2768.34\n",
              "2238          58         3.5           21                 2768.34\n",
              "5133          78         4.0           70                 2642.12\n",
              "2234          54         3.5           21                 2627.06\n",
              "2232          52         3.5           21                 2621.46\n",
              "2373          78         4.0           21                 2601.67\n",
              "2230          50         3.5           21                 2565.59\n",
              "2231          51         3.5           21                 2565.59\n",
              "2228          48         3.5           21                 2535.29\n",
              "2227          47         3.5           21                 2535.29\n",
              "2226          46         3.5           21                 2535.29\n",
              "2229          49         3.5           21                 2535.29"
            ],
            "text/html": [
              "\n",
              "  <div id=\"df-6d267f17-3f42-4316-8492-bee2682449ad\">\n",
              "    <div class=\"colab-df-container\">\n",
              "      <div>\n",
              "<style scoped>\n",
              "    .dataframe tbody tr th:only-of-type {\n",
              "        vertical-align: middle;\n",
              "    }\n",
              "\n",
              "    .dataframe tbody tr th {\n",
              "        vertical-align: top;\n",
              "    }\n",
              "\n",
              "    .dataframe thead th {\n",
              "        text-align: right;\n",
              "    }\n",
              "</style>\n",
              "<table border=\"1\" class=\"dataframe\">\n",
              "  <thead>\n",
              "    <tr style=\"text-align: right;\">\n",
              "      <th></th>\n",
              "      <th>atr_length</th>\n",
              "      <th>multiplier</th>\n",
              "      <th>vwma_length</th>\n",
              "      <th>cumulative_performance</th>\n",
              "    </tr>\n",
              "  </thead>\n",
              "  <tbody>\n",
              "    <tr>\n",
              "      <th>2240</th>\n",
              "      <td>60</td>\n",
              "      <td>3.5</td>\n",
              "      <td>21</td>\n",
              "      <td>3008.06</td>\n",
              "    </tr>\n",
              "    <tr>\n",
              "      <th>2241</th>\n",
              "      <td>61</td>\n",
              "      <td>3.5</td>\n",
              "      <td>21</td>\n",
              "      <td>2960.96</td>\n",
              "    </tr>\n",
              "    <tr>\n",
              "      <th>2242</th>\n",
              "      <td>62</td>\n",
              "      <td>3.5</td>\n",
              "      <td>21</td>\n",
              "      <td>2933.14</td>\n",
              "    </tr>\n",
              "    <tr>\n",
              "      <th>2235</th>\n",
              "      <td>55</td>\n",
              "      <td>3.5</td>\n",
              "      <td>21</td>\n",
              "      <td>2905.59</td>\n",
              "    </tr>\n",
              "    <tr>\n",
              "      <th>2233</th>\n",
              "      <td>53</td>\n",
              "      <td>3.5</td>\n",
              "      <td>21</td>\n",
              "      <td>2861.98</td>\n",
              "    </tr>\n",
              "    <tr>\n",
              "      <th>2237</th>\n",
              "      <td>57</td>\n",
              "      <td>3.5</td>\n",
              "      <td>21</td>\n",
              "      <td>2790.41</td>\n",
              "    </tr>\n",
              "    <tr>\n",
              "      <th>2236</th>\n",
              "      <td>56</td>\n",
              "      <td>3.5</td>\n",
              "      <td>21</td>\n",
              "      <td>2790.41</td>\n",
              "    </tr>\n",
              "    <tr>\n",
              "      <th>2214</th>\n",
              "      <td>34</td>\n",
              "      <td>3.5</td>\n",
              "      <td>21</td>\n",
              "      <td>2777.08</td>\n",
              "    </tr>\n",
              "    <tr>\n",
              "      <th>2239</th>\n",
              "      <td>59</td>\n",
              "      <td>3.5</td>\n",
              "      <td>21</td>\n",
              "      <td>2768.34</td>\n",
              "    </tr>\n",
              "    <tr>\n",
              "      <th>2238</th>\n",
              "      <td>58</td>\n",
              "      <td>3.5</td>\n",
              "      <td>21</td>\n",
              "      <td>2768.34</td>\n",
              "    </tr>\n",
              "    <tr>\n",
              "      <th>5133</th>\n",
              "      <td>78</td>\n",
              "      <td>4.0</td>\n",
              "      <td>70</td>\n",
              "      <td>2642.12</td>\n",
              "    </tr>\n",
              "    <tr>\n",
              "      <th>2234</th>\n",
              "      <td>54</td>\n",
              "      <td>3.5</td>\n",
              "      <td>21</td>\n",
              "      <td>2627.06</td>\n",
              "    </tr>\n",
              "    <tr>\n",
              "      <th>2232</th>\n",
              "      <td>52</td>\n",
              "      <td>3.5</td>\n",
              "      <td>21</td>\n",
              "      <td>2621.46</td>\n",
              "    </tr>\n",
              "    <tr>\n",
              "      <th>2373</th>\n",
              "      <td>78</td>\n",
              "      <td>4.0</td>\n",
              "      <td>21</td>\n",
              "      <td>2601.67</td>\n",
              "    </tr>\n",
              "    <tr>\n",
              "      <th>2230</th>\n",
              "      <td>50</td>\n",
              "      <td>3.5</td>\n",
              "      <td>21</td>\n",
              "      <td>2565.59</td>\n",
              "    </tr>\n",
              "    <tr>\n",
              "      <th>2231</th>\n",
              "      <td>51</td>\n",
              "      <td>3.5</td>\n",
              "      <td>21</td>\n",
              "      <td>2565.59</td>\n",
              "    </tr>\n",
              "    <tr>\n",
              "      <th>2228</th>\n",
              "      <td>48</td>\n",
              "      <td>3.5</td>\n",
              "      <td>21</td>\n",
              "      <td>2535.29</td>\n",
              "    </tr>\n",
              "    <tr>\n",
              "      <th>2227</th>\n",
              "      <td>47</td>\n",
              "      <td>3.5</td>\n",
              "      <td>21</td>\n",
              "      <td>2535.29</td>\n",
              "    </tr>\n",
              "    <tr>\n",
              "      <th>2226</th>\n",
              "      <td>46</td>\n",
              "      <td>3.5</td>\n",
              "      <td>21</td>\n",
              "      <td>2535.29</td>\n",
              "    </tr>\n",
              "    <tr>\n",
              "      <th>2229</th>\n",
              "      <td>49</td>\n",
              "      <td>3.5</td>\n",
              "      <td>21</td>\n",
              "      <td>2535.29</td>\n",
              "    </tr>\n",
              "  </tbody>\n",
              "</table>\n",
              "</div>\n",
              "      <button class=\"colab-df-convert\" onclick=\"convertToInteractive('df-6d267f17-3f42-4316-8492-bee2682449ad')\"\n",
              "              title=\"Convert this dataframe to an interactive table.\"\n",
              "              style=\"display:none;\">\n",
              "        \n",
              "  <svg xmlns=\"http://www.w3.org/2000/svg\" height=\"24px\"viewBox=\"0 0 24 24\"\n",
              "       width=\"24px\">\n",
              "    <path d=\"M0 0h24v24H0V0z\" fill=\"none\"/>\n",
              "    <path d=\"M18.56 5.44l.94 2.06.94-2.06 2.06-.94-2.06-.94-.94-2.06-.94 2.06-2.06.94zm-11 1L8.5 8.5l.94-2.06 2.06-.94-2.06-.94L8.5 2.5l-.94 2.06-2.06.94zm10 10l.94 2.06.94-2.06 2.06-.94-2.06-.94-.94-2.06-.94 2.06-2.06.94z\"/><path d=\"M17.41 7.96l-1.37-1.37c-.4-.4-.92-.59-1.43-.59-.52 0-1.04.2-1.43.59L10.3 9.45l-7.72 7.72c-.78.78-.78 2.05 0 2.83L4 21.41c.39.39.9.59 1.41.59.51 0 1.02-.2 1.41-.59l7.78-7.78 2.81-2.81c.8-.78.8-2.07 0-2.86zM5.41 20L4 18.59l7.72-7.72 1.47 1.35L5.41 20z\"/>\n",
              "  </svg>\n",
              "      </button>\n",
              "      \n",
              "  <style>\n",
              "    .colab-df-container {\n",
              "      display:flex;\n",
              "      flex-wrap:wrap;\n",
              "      gap: 12px;\n",
              "    }\n",
              "\n",
              "    .colab-df-convert {\n",
              "      background-color: #E8F0FE;\n",
              "      border: none;\n",
              "      border-radius: 50%;\n",
              "      cursor: pointer;\n",
              "      display: none;\n",
              "      fill: #1967D2;\n",
              "      height: 32px;\n",
              "      padding: 0 0 0 0;\n",
              "      width: 32px;\n",
              "    }\n",
              "\n",
              "    .colab-df-convert:hover {\n",
              "      background-color: #E2EBFA;\n",
              "      box-shadow: 0px 1px 2px rgba(60, 64, 67, 0.3), 0px 1px 3px 1px rgba(60, 64, 67, 0.15);\n",
              "      fill: #174EA6;\n",
              "    }\n",
              "\n",
              "    [theme=dark] .colab-df-convert {\n",
              "      background-color: #3B4455;\n",
              "      fill: #D2E3FC;\n",
              "    }\n",
              "\n",
              "    [theme=dark] .colab-df-convert:hover {\n",
              "      background-color: #434B5C;\n",
              "      box-shadow: 0px 1px 3px 1px rgba(0, 0, 0, 0.15);\n",
              "      filter: drop-shadow(0px 1px 2px rgba(0, 0, 0, 0.3));\n",
              "      fill: #FFFFFF;\n",
              "    }\n",
              "  </style>\n",
              "\n",
              "      <script>\n",
              "        const buttonEl =\n",
              "          document.querySelector('#df-6d267f17-3f42-4316-8492-bee2682449ad button.colab-df-convert');\n",
              "        buttonEl.style.display =\n",
              "          google.colab.kernel.accessAllowed ? 'block' : 'none';\n",
              "\n",
              "        async function convertToInteractive(key) {\n",
              "          const element = document.querySelector('#df-6d267f17-3f42-4316-8492-bee2682449ad');\n",
              "          const dataTable =\n",
              "            await google.colab.kernel.invokeFunction('convertToInteractive',\n",
              "                                                     [key], {});\n",
              "          if (!dataTable) return;\n",
              "\n",
              "          const docLinkHtml = 'Like what you see? Visit the ' +\n",
              "            '<a target=\"_blank\" href=https://colab.research.google.com/notebooks/data_table.ipynb>data table notebook</a>'\n",
              "            + ' to learn more about interactive tables.';\n",
              "          element.innerHTML = '';\n",
              "          dataTable['output_type'] = 'display_data';\n",
              "          await google.colab.output.renderOutput(dataTable, element);\n",
              "          const docLink = document.createElement('div');\n",
              "          docLink.innerHTML = docLinkHtml;\n",
              "          element.appendChild(docLink);\n",
              "        }\n",
              "      </script>\n",
              "    </div>\n",
              "  </div>\n",
              "  "
            ]
          },
          "metadata": {},
          "execution_count": 50
        }
      ]
    },
    {
      "cell_type": "code",
      "source": [
        "df_export = df_multi_ST.sort_values(by=[\"cumulative_performance\"], ascending=False)\n",
        "df_export.reset_index(drop=True, inplace=True)\n",
        "#df_export.to_excel(\"/content/drive/MyDrive/Colab Notebooks/Perf_SuperTrend_VWMA.xlsx\", index=False, header=True)\n",
        "df_export.to_excel(\"/content/drive/MyDrive/Colab Notebooks/Perf_SuperTrend_VWMA_allTime.xlsx\", index=False, header=True)"
      ],
      "metadata": {
        "id": "hNNCFbPqLMfb"
      },
      "execution_count": null,
      "outputs": []
    },
    {
      "cell_type": "code",
      "source": [
        "fig = px.scatter_3d(df_multi_ST, x='vwma_length', y='atr_length', z='multiplier',\n",
        "              color='cumulative_performance', title=\"Performances période 2006-2011. Supertrend + VWMA\")\n",
        "fig.show()"
      ],
      "metadata": {
        "colab": {
          "base_uri": "https://localhost:8080/",
          "height": 542
        },
        "id": "1AkJHcf8VEdI",
        "outputId": "9d40d553-e560-4dcc-fbba-ca61711aa37d"
      },
      "execution_count": null,
      "outputs": [
        {
          "output_type": "display_data",
          "data": {
            "text/html": [
              "<html>\n",
              "<head><meta charset=\"utf-8\" /></head>\n",
              "<body>\n",
              "    <div>            <script src=\"https://cdnjs.cloudflare.com/ajax/libs/mathjax/2.7.5/MathJax.js?config=TeX-AMS-MML_SVG\"></script><script type=\"text/javascript\">if (window.MathJax) {MathJax.Hub.Config({SVG: {font: \"STIX-Web\"}});}</script>                <script type=\"text/javascript\">window.PlotlyConfig = {MathJaxConfig: 'local'};</script>\n",
              "        <script src=\"https://cdn.plot.ly/plotly-2.8.3.min.js\"></script>                <div id=\"a84f84be-b2de-4168-baa8-87cebf3fe564\" class=\"plotly-graph-div\" style=\"height:525px; width:100%;\"></div>            <script type=\"text/javascript\">                                    window.PLOTLYENV=window.PLOTLYENV || {};                                    if (document.getElementById(\"a84f84be-b2de-4168-baa8-87cebf3fe564\")) {                    Plotly.newPlot(                        \"a84f84be-b2de-4168-baa8-87cebf3fe564\",                        [{\"hovertemplate\":\"vwma_length=%{x}<br>atr_length=%{y}<br>multiplier=%{z}<br>cumulative_performance=%{marker.color}<extra></extra>\",\"legendgroup\":\"\",\"marker\":{\"color\":[-31.75,-34.38,-22.79,-19.28,-10.58,-9.63,-28.07,-27.43,-32.99,-27.41,-29.65,-26.01,-32.67,-27.75,-32.13,-32.13,-30.79,-30.02,-27.81,-29.91,-30.54,-30.54,-29.84,-37.56,-36.24,-35.63,-36.33,-36.33,-36.33,-34.96,-34.96,-30.23,-29.7,-30.33,-29.66,-32.48,-28.18,-27.44,-27.44,-27.44,-28.18,-28.18,-28.18,-28.18,-24.33,-25.11,-25.11,-20.39,-25.37,-25.37,-25.37,28.34,6.1,-8.99,-17.23,-12.33,-6.73,-9.56,-11.25,-13.06,-12.14,-14.46,-9.68,-11.06,-20.84,-21.27,-25.1,-25.1,-25.1,-19.03,-15.31,-13.65,-0.05,-11.04,-15.06,-15.06,-15.06,-15.06,-14.15,-10.5,-8.69,3.67,3.67,1.63,1.63,-2.44,-1.42,-1.42,-7.36,-5.52,-5.52,-6.49,-6.49,-0.76,1.35,1.35,0.3,5.64,5.64,7.68,7.68,7.68,-18.97,-14.76,-7.42,-3.63,15.03,-13.77,-11.39,-11.39,-4.3,0.65,3.85,13.18,45.14,21.4,21.4,19.38,20.44,28.2,28.2,28.2,25.67,29.37,54.92,58.25,61.69,65.01,43.56,27.77,27.77,27.77,29.07,26.29,26.29,26.29,21.24,19.98,21.18,25.15,25.15,25.15,23.94,13.41,17.28,17.28,17.28,16.05,16.05,25.17,37.6,37.6,37.6,35.83,54.11,47.36,58.84,73.14,74.67,102.48,102.48,73.06,60.91,45.19,46.53,50.79,17.53,4.34,3.25,3.25,-3.97,-2.87,-2.87,-6.66,12.77,12.77,12.77,19.25,22.73,22.73,22.73,77.27,56.14,40.63,39.57,25.36,26.72,20.38,20.38,22.97,24.27,24.27,24.27,22.98,24.32,24.32,28.04,28.04,26.7,26.7,26.7,36.84,36.84,36.84,13.28,8.71,6.59,5.36,2.23,-3.43,-1.64,-1.64,-1.64,-0.86,6.61,29.95,33.55,32.54,28.9,28.9,30.3,13.36,13.36,14.92,11.47,13.95,17.51,2.23,2.23,9.99,7.79,10.1,10.1,7.79,7.79,3.64,4.83,4.83,-2.13,14.27,14.27,15.44,15.44,18.12,16.93,16.93,22.24,21.31,-16.95,-16.25,-16.25,-16.25,-11.93,-10.94,-10.94,-0.61,-4.66,-23.42,-8.64,-10.56,12.64,13.67,13.81,16.75,14.42,16.75,17.98,11.77,13.01,14.3,14.3,16.84,16.84,16.84,16.84,13.33,13.33,15.43,15.43,15.43,14.24,17.63,17.63,3.45,3.45,3.45,3.45,2.67,2.67,12.76,12.76,-1.9,2.21,0.66,0.66,-0.37,-0.37,0.4,0.4,0.4,0.47,0.47,2.63,-7.14,-7.14,-7.14,-16.22,-17.0,3.74,1.38,1.38,1.38,15.26,13.95,28.91,28.91,34.43,31.66,31.66,21.9,21.9,24.67,24.67,24.67,25.03,25.03,21.21,0.95,-0.58,-0.58,-1.69,-1.69,-1.69,0.5,0.5,-0.43,0.68,0.68,0.68,0.68,11.94,11.94,11.94,13.13,13.13,13.13,11.94,11.94,16.16,16.16,17.47,16.22,17.48,2.21,7.7,7.7,7.7,10.96,7.85,16.13,15.48,11.63,11.63,11.63,23.53,24.87,24.87,27.47,26.13,26.13,25.98,34.08,37.2,37.2,40.15,40.15,40.15,33.55,29.54,29.54,29.54,32.49,32.49,32.49,33.88,32.47,17.9,17.9,17.9,17.9,17.9,48.81,51.1,51.1,52.7,52.7,45.38,43.85,19.8,22.47,22.47,22.47,18.64,19.99,19.99,26.44,26.44,26.44,-33.25,-35.19,-23.73,-23.33,-15.07,-14.16,-30.3,-31.83,-37.06,-31.81,-33.92,-30.5,-36.75,-32.85,-36.92,-36.92,-35.67,-34.95,-32.87,-34.82,-35.41,-35.41,-35.41,-42.52,-41.31,-40.74,-41.39,-41.39,-41.39,-40.12,-40.12,-35.77,-35.28,-35.87,-35.25,-37.84,-33.89,-33.2,-33.2,-33.2,-33.89,-33.89,-33.89,-33.89,-30.34,-31.06,-31.06,-26.71,-31.29,-31.29,-31.29,19.05,-1.58,-15.58,-23.22,-9.56,-3.79,-7.66,-11.25,-13.06,-12.14,-14.46,-9.68,-11.06,-20.84,-21.27,-25.1,-25.1,-25.1,-19.03,-16.24,-14.6,-1.15,-12.02,-16.0,-16.0,-16.0,-16.0,-15.09,-15.09,-13.38,-1.66,-1.66,-4.61,-4.61,-8.42,-7.47,-7.47,-13.04,-11.32,-11.32,-12.22,-12.22,-6.62,-4.63,-4.63,-5.62,-0.55,-0.55,1.36,1.36,1.36,-16.42,-12.06,-5.47,-1.6,17.45,-11.95,-8.76,-11.39,-4.3,0.65,3.85,13.18,45.14,21.4,21.4,19.38,20.44,28.2,28.2,28.2,26.94,30.68,56.49,59.85,63.33,65.01,43.56,27.77,27.77,27.77,29.07,26.29,26.29,26.29,21.24,19.98,21.18,34.57,34.57,34.57,33.27,21.95,26.11,26.11,26.11,24.78,24.78,33.12,46.33,46.33,46.33,38.69,58.73,51.78,63.61,78.33,79.91,108.55,102.48,128.44,112.41,91.66,93.41,99.05,55.14,37.73,36.29,36.29,36.29,37.86,37.86,33.82,50.36,50.36,50.36,59.0,62.0,62.0,62.0,77.27,56.14,40.63,39.57,25.36,26.72,20.38,20.38,22.97,24.27,24.27,24.27,22.98,24.32,24.32,28.04,28.04,26.7,26.7,26.7,36.84,36.84,36.84,16.68,11.97,9.79,16.69,13.29,7.02,9.0,5.76,5.76,6.6,14.63,29.95,33.55,32.54,28.9,28.9,30.3,13.36,13.36,14.92,10.32,12.77,16.3,1.18,1.18,9.99,7.79,10.1,10.1,7.79,7.79,3.64,4.83,4.83,-2.13,14.27,14.27,15.44,15.44,18.12,16.93,16.93,22.24,21.31,9.63,10.56,10.56,10.56,16.26,17.56,17.56,2.38,5.65,-15.14,1.24,-0.88,16.08,17.15,13.81,16.75,14.42,16.75,17.98,11.77,13.01,14.3,14.3,16.84,16.84,16.84,16.84,12.16,12.16,14.24,14.24,14.24,14.24,17.63,17.63,3.45,3.45,3.45,3.45,2.67,2.67,12.76,12.76,-1.9,2.21,0.66,0.66,-0.37,-0.37,0.4,0.4,0.4,0.47,0.47,2.63,-7.14,-7.14,-7.14,-2.99,-3.89,-0.65,-2.91,-2.91,-2.91,10.39,5.89,19.71,19.71,24.83,22.25,22.25,13.19,13.19,15.76,15.76,15.76,16.1,16.1,12.55,0.95,-0.58,-0.58,-1.69,-1.69,-1.69,0.5,0.5,-0.43,0.68,0.68,0.68,0.68,11.94,11.94,11.94,13.13,13.13,13.13,11.94,11.94,16.16,16.16,17.47,16.22,17.48,2.21,7.7,7.7,7.7,6.19,3.21,11.2,10.58,6.9,6.9,6.9,14.7,15.95,15.95,18.37,17.12,17.12,16.98,24.5,27.4,27.4,30.14,30.14,30.14,24.01,20.29,20.29,20.29,23.02,23.02,23.02,24.32,23.01,9.48,9.48,9.48,9.48,9.48,38.18,40.3,40.3,41.8,41.8,34.99,33.57,19.8,22.47,22.47,22.47,18.64,19.99,19.99,26.44,26.44,26.44,-25.0,-27.9,-15.15,-4.16,6.17,7.3,-3.2,-5.32,-12.58,-6.24,-11.87,-7.31,-15.65,-10.44,-15.86,-16.73,-11.54,-10.56,-7.7,-10.38,-11.2,-11.2,-11.2,-20.96,-19.3,-18.52,-19.41,-19.41,-19.41,-17.67,-17.67,-11.69,-11.02,-11.82,-10.97,-10.97,-9.1,-9.1,-9.1,-9.1,-9.1,-8.16,-8.16,-8.16,-3.24,-3.24,-3.24,4.96,-5.53,-5.53,-5.53,32.43,9.48,-6.1,-14.6,-10.47,-4.75,-8.58,-12.14,-13.93,-13.02,-18.7,-14.16,-15.47,-15.47,-15.93,-16.69,-16.69,-16.69,-9.93,-10.65,-8.9,5.44,5.44,4.87,4.87,4.87,4.87,6.0,6.0,8.14,20.32,20.32,15.41,15.41,15.41,11.95,11.95,4.13,6.19,6.19,6.19,7.29,14.14,16.57,16.57,16.57,22.82,25.33,22.63,22.63,22.63,-16.42,-12.06,-5.47,-1.6,17.45,-11.95,-8.76,-11.39,-4.3,0.65,3.85,9.68,45.14,21.4,21.4,19.38,20.44,28.2,28.2,28.2,26.94,30.68,56.49,59.85,63.33,65.01,43.56,43.56,43.56,43.56,45.02,41.9,41.9,41.9,41.9,34.81,36.16,49.62,49.62,49.62,49.74,38.47,43.19,43.19,43.19,43.19,43.19,57.35,62.59,62.59,62.59,38.69,58.73,51.78,58.55,72.82,74.34,108.55,102.48,128.44,112.41,91.66,93.41,99.05,55.14,37.73,36.29,36.29,36.29,37.86,37.86,33.82,50.36,50.36,50.36,59.0,62.0,62.0,62.0,77.27,56.14,40.63,39.57,25.36,26.72,20.38,20.38,22.97,22.97,22.97,22.98,22.98,25.62,25.62,29.39,29.39,29.39,29.39,34.78,36.84,36.84,36.84,12.92,8.35,6.25,16.69,13.29,7.02,9.0,5.76,5.76,6.6,14.63,29.95,33.55,32.54,28.9,28.9,30.3,13.36,13.36,14.92,14.92,17.47,21.14,5.39,5.39,14.57,12.28,14.69,14.69,12.28,12.28,7.96,9.2,9.2,-2.13,14.27,14.27,14.27,14.27,16.93,16.93,18.12,23.49,22.55,10.75,12.84,12.84,13.98,13.98,15.26,15.26,-0.93,5.65,-15.14,1.24,-0.88,16.08,17.15,13.81,16.75,14.42,16.75,17.98,11.77,13.01,14.3,14.3,16.84,16.84,16.84,16.84,16.84,16.84,19.0,19.0,19.0,19.0,22.53,22.53,7.76,7.76,7.76,7.76,6.95,6.95,12.76,12.76,-1.9,1.17,-0.37,-0.37,-0.37,0.66,1.43,1.43,1.43,2.56,2.56,5.84,-8.98,-8.98,-8.98,-2.99,-3.89,-0.65,-2.91,-2.91,-2.91,10.39,5.89,19.71,19.71,24.83,22.25,22.25,13.19,13.19,15.76,15.76,15.76,16.1,16.1,12.55,0.95,-0.58,-0.58,-1.69,-1.69,-1.69,0.5,0.5,-0.43,0.68,0.68,0.68,0.68,11.94,11.94,11.94,11.94,11.94,11.94,11.94,13.13,17.4,17.4,18.72,18.72,20.01,5.51,5.51,5.51,5.51,6.19,3.21,11.2,10.58,6.9,6.9,6.9,14.7,15.95,15.95,18.37,17.12,17.12,16.98,24.5,27.4,27.4,30.14,30.14,30.14,24.01,24.01,24.01,24.01,26.83,26.83,26.83,28.16,26.81,12.86,12.86,12.86,12.86,12.86,37.12,39.23,39.23,39.23,39.23,32.55,32.55,20.15,22.83,22.83,22.83,20.27,21.63,22.91,22.91,22.91,22.91,-28.5,-26.16,-25.38,-17.36,-10.38,-10.38,-16.65,-20.14,-20.14,-17.01,-23.65,-21.31,-28.39,-26.78,-26.78,-26.78,-25.33,-25.33,-23.75,-29.67,-31.72,-31.72,-31.72,-31.72,-31.72,-30.36,-30.36,-30.36,-30.36,-30.36,-30.36,-28.29,-27.75,-27.75,-27.75,-27.75,-26.99,-26.99,-26.99,-26.99,-26.99,-26.99,-26.99,-26.99,-24.61,-24.61,-24.61,-19.85,-24.86,-24.86,-24.86,2.88,-5.68,-15.63,-23.27,-9.39,-7.66,-10.17,-11.84,-13.64,-12.73,-19.54,-19.54,-22.99,-22.99,-23.41,-27.13,-27.13,-27.13,-21.23,-21.09,-19.5,-8.77,-8.77,-12.89,-12.89,-12.89,-12.89,-12.89,-12.89,-11.13,-11.13,-11.13,-11.13,-11.13,-11.13,-14.69,-14.69,-20.69,-19.12,-19.12,-19.12,-19.12,-13.96,-13.96,-13.96,-13.96,-9.27,-9.27,-7.52,-7.52,-7.52,-19.83,-15.65,-8.4,-4.65,13.82,-14.67,-15.06,-15.06,-8.24,-3.49,-2.38,-2.38,36.43,25.41,25.41,23.32,24.42,26.85,26.85,26.85,25.61,25.61,50.41,53.65,53.65,55.23,35.05,35.05,35.05,35.05,36.43,33.5,33.5,33.5,33.5,25.49,26.74,43.72,43.72,43.72,43.83,29.83,29.83,29.83,29.83,29.83,29.83,38.68,52.45,52.45,52.45,38.69,52.47,45.8,44.2,57.17,58.56,100.33,100.33,71.22,59.21,40.84,42.13,46.27,14.01,1.21,0.16,0.16,0.16,1.31,1.31,-1.66,10.49,10.49,10.49,16.84,19.05,19.05,19.05,71.96,102.99,82.82,81.44,62.96,64.73,54.85,54.85,58.18,58.18,58.18,58.19,58.19,59.91,59.91,59.91,59.91,59.91,59.91,59.91,74.04,74.04,74.04,43.75,37.94,35.27,50.23,45.82,37.75,40.3,40.3,40.3,41.41,49.02,68.93,73.61,72.31,67.56,67.56,69.39,47.37,47.37,49.39,49.39,52.71,57.49,37.01,37.01,50.09,47.08,50.25,50.25,47.08,47.08,41.43,43.05,43.05,26.86,48.17,48.17,48.17,48.17,51.61,51.61,51.61,58.51,57.3,7.69,9.72,9.72,9.72,13.11,14.38,14.38,27.1,37.04,10.07,31.32,28.56,50.56,51.95,52.14,56.07,52.95,52.95,54.56,46.42,48.05,49.73,49.73,53.06,53.06,53.06,53.06,53.06,53.06,55.89,55.89,55.89,55.89,60.51,60.51,41.16,41.16,41.16,41.16,40.1,40.1,46.19,46.19,27.19,31.16,-1.39,-1.39,-1.39,-1.39,-0.64,-0.64,-0.64,0.47,0.47,2.63,-8.98,-8.98,-8.98,25.83,24.66,28.86,25.94,25.94,25.94,43.18,41.61,60.08,60.08,63.52,60.15,60.15,48.28,48.28,51.65,51.65,51.65,52.1,52.1,45.89,25.91,-5.34,-5.34,-6.39,-6.39,-6.39,-4.31,-4.31,-5.2,-4.13,-4.13,-4.13,-4.13,6.57,6.57,6.57,6.57,6.57,6.57,6.57,6.57,10.59,10.59,11.83,11.83,13.05,-1.65,1.52,1.52,1.52,5.14,2.19,10.08,43.4,38.62,38.62,38.62,17.09,18.37,18.37,18.37,17.12,17.12,16.98,24.5,27.4,27.4,30.14,30.14,30.14,22.7,22.7,22.7,22.7,25.49,25.49,25.49,26.81,25.46,11.66,11.66,11.66,11.66,11.66,36.71,38.81,38.81,38.81,38.81,32.15,32.15,14.06,16.59,16.59,16.59,14.16,15.46,15.46,19.18,19.18,19.18,-20.42,-22.75,-21.93,-8.3,1.62,2.7,-5.49,-8.48,-8.48,7.31,-1.27,10.54,0.59,2.85,-3.38,-3.38,-3.38,-3.38,-0.38,-3.27,-3.27,-3.27,-3.27,-3.27,-3.27,-2.34,-2.34,-2.34,-2.34,-2.34,-2.34,-2.34,-2.34,-2.34,-1.4,-5.34,0.68,0.68,0.68,0.68,0.68,0.68,0.68,0.68,2.87,1.81,1.81,8.23,12.74,12.74,12.74,45.84,33.71,-0.27,-9.33,-4.82,-3.0,-3.0,-4.82,-6.82,-5.83,-2.92,-0.81,-5.05,-5.05,-6.29,-11.91,-11.91,-11.91,-4.77,-4.77,0.07,13.41,13.41,5.47,5.47,5.47,5.47,6.61,11.14,13.39,13.39,13.39,13.39,13.39,8.85,9.99,9.99,1.19,3.19,3.19,3.19,3.19,9.51,9.51,9.51,8.38,14.19,14.19,16.39,16.39,16.39,-20.51,-14.65,-7.3,-3.51,15.17,-14.6,-18.36,-18.36,-10.94,-6.33,-5.25,-5.25,32.42,21.72,20.41,18.4,20.76,23.12,23.12,23.12,24.36,24.36,48.92,50.53,53.81,55.39,55.39,55.39,55.39,55.39,56.98,53.6,53.6,53.6,47.46,45.92,47.38,57.1,57.1,57.1,57.22,57.22,57.22,57.22,57.22,55.56,55.56,66.17,78.56,78.56,78.56,37.2,43.44,37.16,35.66,49.45,50.78,90.49,90.49,62.81,51.39,33.92,35.15,39.08,5.15,-8.52,-9.47,-9.47,-9.47,-8.43,-8.43,-8.43,2.89,2.89,2.89,8.8,10.86,10.86,10.86,60.13,89.02,70.24,68.96,51.75,53.4,45.73,45.73,48.86,48.86,48.86,47.74,47.74,47.74,47.74,47.74,47.74,46.18,46.18,46.18,21.45,20.15,20.15,35.35,29.88,27.36,41.45,35.79,28.27,30.65,30.65,30.65,31.68,38.77,57.31,61.67,60.45,56.04,56.04,56.04,35.75,35.75,37.62,37.62,40.68,45.07,26.21,26.21,5.54,3.43,3.43,3.43,1.25,1.25,-2.64,-1.52,-1.52,-8.07,6.41,6.41,6.41,6.41,8.88,8.88,8.88,13.83,12.96,-22.66,-22.01,-22.01,-22.01,-20.4,-19.5,-19.5,-5.83,-0.58,-20.15,-4.73,-6.73,9.23,10.24,10.38,13.23,10.96,10.96,12.13,6.23,7.41,8.63,8.63,11.04,11.04,11.04,11.04,11.04,11.04,13.1,13.1,13.1,13.1,16.45,16.45,1.31,1.31,1.31,1.31,0.55,0.55,10.43,10.43,-3.92,-0.92,-2.42,-2.42,-2.42,-2.42,-1.67,-1.67,-1.67,-1.61,-1.61,-1.61,-13.62,-13.62,-13.62,-8.71,-9.56,-2.45,-4.66,-4.66,-4.66,8.39,8.25,21.78,21.78,24.4,21.84,21.84,12.81,12.81,15.37,15.37,15.37,15.71,15.71,15.71,-4.78,-6.22,-6.22,-7.26,-7.26,-7.26,-5.2,-5.2,-6.08,-5.02,-5.02,-5.02,-5.02,5.59,5.59,5.59,5.59,5.59,5.59,5.59,5.59,9.58,9.58,10.81,9.63,9.63,-4.62,-2.57,-2.57,-2.57,3.77,0.86,9.7,7.99,3.33,3.33,3.33,14.34,15.58,15.58,15.58,14.37,14.37,14.23,21.58,24.4,24.4,27.08,27.08,27.08,24.92,24.92,24.92,24.92,27.75,27.75,27.75,29.1,27.74,13.69,13.69,13.69,13.69,13.69,-3.31,-1.82,-1.82,-1.82,-1.82,-6.53,-6.53,-23.08,-21.37,-21.37,-21.37,-23.83,-22.96,-22.96,-21.31,-21.31,-21.31,-16.16,-21.84,-21.02,-7.36,1.65,2.73,-5.48,-8.46,-8.46,10.65,1.8,7.07,-2.57,0.68,-5.42,-5.42,-5.42,-5.42,-2.54,-5.38,-5.38,-5.38,-4.42,-4.42,-4.42,-3.49,-3.49,-3.49,-3.49,-3.49,-3.49,-3.49,-3.49,-3.49,-2.57,-2.57,-2.57,-2.57,-2.57,-2.57,-2.57,-2.57,-2.57,-2.57,-0.43,-0.43,-0.43,5.85,5.85,5.85,5.85,31.83,20.84,-9.88,-16.36,-12.29,-10.62,-10.62,-12.29,-12.29,-11.36,-8.62,-6.63,-9.67,-9.67,-8.06,-13.57,-13.57,-13.57,-6.57,-6.57,-1.82,10.49,10.49,2.75,2.75,2.75,2.75,3.86,8.28,10.46,16.67,16.67,14.15,14.15,14.15,14.15,14.15,5.02,7.1,7.1,7.1,7.1,13.65,13.65,13.65,13.65,18.44,18.44,15.89,15.89,15.89,-23.1,-15.52,-8.25,-4.49,14.0,-15.52,-16.43,-16.43,-9.82,-7.86,-6.8,-4.71,29.06,18.63,17.33,15.37,19.05,21.38,21.38,21.38,22.6,22.6,46.81,48.41,51.63,53.2,53.2,53.2,53.2,53.2,54.76,51.43,51.43,51.43,51.43,51.43,52.94,56.31,56.31,56.31,56.43,56.43,56.43,56.43,56.43,56.43,56.43,67.09,68.81,68.81,68.81,32.61,38.64,35.69,37.22,51.17,52.51,75.25,75.25,81.24,68.53,49.08,50.45,54.83,29.66,12.8,11.63,11.63,11.63,12.91,12.91,12.91,26.86,26.86,26.86,34.15,36.69,36.69,36.69,36.69,62.8,46.63,45.52,30.7,30.7,30.7,30.7,33.51,33.51,33.51,32.5,32.5,32.5,32.5,32.5,32.5,32.5,32.5,32.5,34.52,34.52,34.52,36.02,21.39,19.03,35.24,35.24,27.89,30.26,30.26,30.26,31.29,38.35,56.84,61.19,59.98,55.57,55.57,55.57,35.35,35.35,37.21,37.21,40.26,44.64,25.84,25.84,36.8,36.8,36.8,36.8,33.92,33.92,28.76,30.24,30.24,44.86,62.69,62.69,62.69,62.69,64.56,64.56,64.56,72.04,70.72,51.94,54.81,54.81,54.81,54.81,56.55,56.55,13.4,29.06,24.4,46.71,43.62,65.26,66.78,66.99,71.3,71.3,71.3,73.1,63.99,65.81,67.7,67.7,67.7,67.7,67.7,67.7,67.7,67.7,70.8,70.8,70.8,70.8,75.86,75.86,53.0,53.0,53.0,53.0,51.85,51.85,63.4,63.4,42.16,46.6,10.22,10.22,10.22,10.22,11.06,11.06,11.06,12.3,12.3,12.3,-2.3,-2.3,-2.3,43.44,42.11,50.6,47.18,47.18,47.18,67.34,68.88,89.99,89.99,94.07,90.07,90.07,75.98,75.98,79.98,79.98,79.98,77.29,77.29,77.29,47.34,10.77,10.77,9.54,9.54,9.54,9.54,9.54,8.53,9.74,9.74,9.74,9.74,18.38,18.38,18.38,18.38,18.38,18.38,18.38,18.38,22.84,22.84,24.22,24.22,24.22,8.07,8.07,8.07,8.07,22.28,18.85,30.64,63.38,56.29,56.29,56.29,29.66,31.07,31.07,31.07,29.69,29.69,29.54,37.87,41.08,41.08,44.11,44.11,44.11,41.66,41.66,41.66,41.66,44.88,44.88,44.88,46.4,40.54,25.08,25.08,25.08,25.08,25.08,39.22,41.36,41.36,41.36,41.36,34.58,34.58,11.85,11.85,11.85,11.85,9.52,10.76,10.76,10.76,10.76,10.76,-15.37,-21.11,-20.28,-3.75,5.7,6.82,-0.66,-2.87,-2.87,16.54,7.22,12.77,2.62,6.04,6.04,6.04,6.04,6.04,11.67,8.39,8.39,8.39,9.48,9.48,9.48,10.54,10.54,10.54,10.54,10.54,10.54,10.54,10.54,10.54,11.61,11.61,11.61,11.61,11.61,11.61,11.61,11.61,11.61,11.61,11.61,11.61,11.61,18.64,18.64,18.64,18.64,48.24,35.88,10.27,2.35,7.2,9.25,9.25,7.2,4.92,6.04,9.32,11.7,8.05,8.05,9.99,3.39,3.39,3.39,11.77,11.77,16.36,17.55,17.55,9.32,9.32,9.32,9.32,10.49,10.49,12.73,12.73,12.73,13.92,13.92,13.92,13.92,13.92,4.81,6.89,6.89,6.89,6.89,13.71,13.71,13.71,13.71,18.5,18.5,15.95,15.95,15.95,-1.17,-4.53,-4.61,-0.71,17.42,-12.99,-13.92,-13.92,-7.12,-5.1,-4.01,-4.01,13.97,4.76,4.76,3.01,6.3,8.38,8.38,8.38,9.47,9.47,28.46,29.86,32.68,34.05,34.05,34.05,34.05,34.05,35.42,32.51,32.51,32.51,32.51,32.51,33.83,47.07,47.07,47.07,47.18,47.18,47.18,47.18,47.18,47.18,47.18,57.21,58.83,58.83,58.83,50.94,57.8,53.08,53.08,65.27,65.27,80.78,80.78,83.87,68.88,49.4,50.77,55.16,38.32,20.34,19.08,19.08,19.08,20.45,20.45,20.45,35.34,35.34,35.34,43.12,45.82,45.82,45.82,45.82,63.21,46.99,45.88,31.03,31.03,31.03,31.03,33.84,33.84,33.84,32.83,32.83,32.83,32.83,32.83,32.83,32.83,32.83,32.83,34.86,34.86,34.86,40.3,40.28,37.56,29.86,29.86,22.74,25.01,25.01,25.01,23.75,25.14,41.88,44.54,43.45,39.5,39.5,39.5,21.37,21.37,23.04,23.04,25.77,29.7,12.84,12.84,22.66,22.66,22.66,22.66,20.08,20.08,15.37,16.7,16.7,29.59,45.54,45.54,45.54,45.54,47.21,47.21,47.21,53.9,52.72,53.9,56.8,56.8,56.8,56.8,56.8,56.8,30.96,23.77,20.29,43.51,40.49,61.68,63.17,65.04,69.3,69.3,69.3,71.08,62.08,63.88,65.74,65.74,65.74,65.74,65.74,65.74,65.74,65.74,68.81,68.81,68.81,68.81,70.71,70.71,48.52,48.52,48.52,48.52,47.4,47.4,60.22,60.22,39.39,43.74,8.07,8.07,8.07,8.07,8.9,8.9,8.9,10.11,10.11,10.11,-5.31,-5.31,-5.31,41.75,40.44,42.64,39.4,39.4,39.4,58.49,59.95,80.82,80.82,84.7,80.9,80.9,67.49,67.49,71.29,71.29,71.29,68.76,68.76,68.76,51.36,13.79,13.79,12.53,12.53,12.53,12.53,12.53,13.81,15.09,15.09,15.09,15.09,20.26,20.26,20.26,20.26,20.26,20.26,20.26,20.26,24.8,24.8,26.2,26.2,26.2,9.79,9.79,9.79,9.79,16.38,13.12,24.34,58.74,50.31,50.31,50.31,24.72,26.08,26.08,26.08,24.75,24.75,27.2,35.38,38.53,38.53,41.51,41.51,41.51,39.1,39.1,39.1,39.1,42.26,42.26,42.26,43.76,33.69,18.99,18.99,18.99,18.99,18.99,31.24,33.26,33.26,33.26,33.26,26.87,26.87,13.79,13.79,13.79,13.79,11.42,12.68,12.68,12.68,12.68,12.68,-21.13,-26.48,-25.71,-10.3,-1.5,-0.45,-7.42,-6.59,-6.59,12.08,3.18,8.52,-1.24,2.05,2.05,2.05,2.05,2.05,7.47,3.08,2.02,2.02,3.05,3.05,3.05,4.05,4.05,4.05,4.05,4.05,4.05,4.05,4.05,4.05,5.05,5.05,5.05,5.05,5.05,5.05,5.05,5.05,5.05,5.05,5.05,5.05,5.05,15.44,15.44,15.44,15.44,36.59,25.2,5.84,-0.72,3.99,5.97,5.97,3.99,0.78,1.85,5.0,7.28,7.28,7.28,9.2,2.65,2.65,2.65,10.97,10.97,16.65,20.35,20.35,11.92,11.92,11.92,11.92,13.13,13.13,15.41,16.61,16.61,17.85,17.85,17.85,17.85,17.85,8.5,10.65,10.65,10.65,10.65,17.71,17.71,17.71,17.71,22.67,22.67,20.03,20.03,20.03,-2.0,-6.26,1.8,5.97,26.54,-8.21,-9.19,-9.19,-0.71,1.45,2.62,2.62,21.83,11.98,11.98,10.11,13.63,15.85,15.85,15.85,17.01,17.01,40.12,43.13,46.24,47.75,47.75,47.75,47.75,47.75,49.26,46.05,46.05,46.05,46.05,46.05,47.51,62.1,62.1,62.1,63.74,63.74,69.32,69.32,69.32,69.32,69.32,78.62,80.46,80.46,80.46,65.71,73.25,68.06,68.06,83.19,83.19,100.4,100.4,100.4,86.08,64.61,66.12,70.96,49.19,29.79,28.44,28.44,28.44,29.92,29.92,29.92,45.98,45.98,45.98,54.36,57.28,57.28,57.28,57.28,38.53,24.77,23.83,11.22,12.42,12.42,12.42,14.84,14.84,14.84,13.97,13.97,15.21,15.21,15.21,15.21,15.21,15.21,15.21,16.97,16.97,16.97,20.13,18.84,16.53,10.01,10.01,3.91,5.84,5.84,5.84,4.77,5.95,21.21,23.47,22.54,19.17,19.17,19.17,3.68,3.68,5.11,5.11,7.44,10.8,-3.6,-3.6,4.79,4.79,4.79,4.79,2.58,2.58,-1.48,-0.35,-0.35,7.17,11.93,11.93,11.93,11.93,14.54,14.54,14.54,19.74,18.83,18.83,21.07,21.07,21.07,21.07,21.07,21.07,8.89,1.79,-3.38,15.27,12.85,28.78,29.96,31.46,40.27,40.27,40.27,41.75,34.29,35.78,37.32,37.32,37.32,37.32,37.32,37.32,37.32,37.32,39.87,39.87,39.87,39.87,41.44,41.44,23.05,23.05,23.05,23.05,22.13,22.13,22.13,22.13,6.25,9.57,7.91,7.91,7.91,7.91,8.74,8.74,8.74,9.95,9.95,9.95,-5.44,-5.44,-5.44,13.86,12.81,13.62,11.04,11.04,11.04,26.24,28.72,45.51,45.51,48.64,45.57,45.57,34.78,34.78,37.85,37.85,37.85,37.04,37.04,37.04,22.91,21.05,21.05,19.7,19.7,19.7,19.7,19.7,21.06,22.42,22.42,22.42,22.42,22.42,22.42,22.42,22.42,22.42,22.42,22.42,22.42,27.04,27.04,28.47,28.47,28.47,11.77,11.77,11.77,11.77,22.69,19.25,31.07,30.35,26.0,26.0,26.0,32.26,33.7,33.7,33.7,32.29,32.29,34.89,43.56,46.9,46.9,50.06,50.06,50.06,47.51,46.2,46.2,46.2,49.52,49.52,49.52,51.1,40.52,25.06,25.06,25.06,25.06,25.06,38.8,40.93,40.93,40.93,40.93,34.17,34.17,20.34,20.34,20.34,20.34,17.83,19.17,19.17,19.17,19.17,19.17,-8.39,-14.6,-13.7,4.2,15.53,16.76,8.59,9.56,9.56,6.66,-1.81,0.17,-8.84,-7.87,-7.87,-7.87,-7.87,-7.87,-2.98,-4.9,-2.94,-2.94,-1.96,-1.96,0.1,1.07,1.07,1.07,1.07,1.07,1.07,1.07,1.07,1.07,2.05,2.05,2.05,2.05,2.05,2.05,2.05,2.05,2.05,2.05,2.05,2.05,2.05,12.14,12.14,12.14,12.14,11.31,15.81,-2.1,-9.1,-4.67,-2.86,-2.86,-4.67,-6.62,-5.63,-2.71,-0.59,-1.64,-1.64,0.12,-5.88,-5.88,-5.88,1.75,-1.05,2.01,4.18,4.18,-3.11,-3.11,-3.11,-3.11,-2.07,-2.07,-0.09,0.95,0.95,2.02,2.02,2.02,2.02,2.02,-6.08,-4.22,-4.22,-4.22,-4.22,1.9,1.9,1.9,1.9,7.32,7.32,5.01,5.01,5.01,-22.43,-27.22,-20.96,-17.73,-3.65,-30.2,-30.95,-30.95,-24.87,-23.23,-22.35,-22.35,-7.92,-4.91,-4.91,-6.49,-3.37,-1.48,-1.48,-1.48,-0.5,-0.5,19.15,21.72,24.36,25.65,25.65,25.65,25.65,25.65,26.93,24.2,24.2,24.2,24.2,24.2,25.44,43.05,43.05,43.05,49.61,49.61,54.71,54.71,54.71,54.71,54.71,63.21,64.96,64.96,64.96,23.13,22.29,18.63,18.63,29.3,29.3,41.45,41.45,41.45,41.45,25.13,26.28,29.96,17.29,2.04,0.98,0.98,0.98,2.14,2.14,2.14,2.14,2.14,2.14,8.01,10.05,10.05,10.05,10.05,14.55,3.17,3.17,-7.34,-6.33,-6.33,-6.33,-4.32,-4.32,-4.32,-4.32,-4.32,-3.28,-3.28,-3.28,-3.28,-3.28,-3.28,-3.28,-3.28,-3.28,-3.28,4.51,-0.79,-2.72,-8.16,-8.16,-13.25,-11.64,-11.64,-11.64,-12.53,-7.83,-7.83,-6.1,-6.1,-8.69,-8.69,-8.69,-20.56,-20.56,-18.85,-18.85,-17.05,-14.45,-25.57,-25.57,-20.31,-20.31,-20.31,-20.31,-21.99,-21.99,-21.99,-21.09,-21.09,-25.56,-22.1,-22.1,-22.1,-22.1,-20.29,-20.29,-20.29,-16.66,-16.66,-16.66,-15.09,-15.09,-15.09,-15.09,-15.09,-15.09,7.65,0.63,-18.36,-7.06,-9.02,-5.16,-5.16,-4.07,-4.07,-4.07,-4.07,-3.06,-8.16,-7.14,-6.09,-6.09,-6.09,-6.09,-6.09,-6.09,-6.09,-6.09,-4.35,-4.35,-4.35,-4.35,-3.27,-3.27,-15.85,-15.85,-15.85,-15.85,-15.85,-15.85,-15.85,-15.85,-26.79,-24.5,-24.5,-24.5,-24.5,-24.5,-24.5,-24.5,-24.5,-23.66,-23.66,-23.66,-34.35,-34.35,-34.35,1.1,0.16,-7.85,-7.85,-7.85,-7.85,2.39,2.39,15.74,15.74,18.23,18.23,18.23,7.4,7.4,7.4,7.4,7.4,8.53,8.53,8.53,-6.33,-6.33,-6.33,-7.37,-7.37,-7.37,-7.37,-7.37,-6.32,-5.26,-5.26,-5.26,-5.26,-5.26,-5.26,-5.26,-5.26,-5.26,-5.26,-5.26,-5.26,-5.26,-5.26,-4.2,-4.2,-4.2,-16.65,-16.65,-16.65,-16.65,4.17,1.25,11.29,11.29,7.58,7.58,7.58,7.58,8.75,8.75,8.75,8.75,8.75,8.75,15.74,15.74,15.74,18.23,18.23,18.23,20.05,20.05,20.05,20.05,20.05,20.05,20.05,21.31,21.31,7.97,7.97,7.97,7.97,7.97,0.91,2.46,2.46,2.46,2.46,-2.46,-2.46,-15.81,-15.81,-15.81,-15.81,-18.47,-17.55,-17.55,-17.55,-17.55,-17.55,-3.55,-11.89,-10.96,8.34,18.93,20.2,10.63,14.0,14.0,10.98,2.17,4.23,4.23,5.34,5.34,5.34,5.34,5.34,8.62,6.53,8.73,8.73,9.83,9.83,12.14,13.23,13.23,13.23,13.23,13.23,13.23,13.23,13.23,13.23,14.32,14.32,14.32,14.32,14.32,14.32,14.32,14.32,14.32,14.32,16.75,16.75,16.75,28.29,28.29,28.29,28.29,14.63,19.27,-1.27,-8.32,-5.06,-3.25,-3.25,-5.06,-7.0,-6.01,-3.1,-1.0,-2.04,-2.04,-0.28,-6.39,-6.39,-6.39,1.2,-1.77,-1.77,0.32,0.32,-6.71,-6.71,-6.71,-6.71,-5.7,-5.7,-3.8,-2.8,-2.8,-1.76,-1.76,-1.76,-1.76,-1.76,-8.62,-6.81,-6.81,-6.81,-6.81,-0.73,-0.73,-0.73,-0.73,4.55,4.55,4.55,4.55,4.55,-23.87,-24.75,-19.08,-19.88,-8.99,-32.61,-33.34,-33.34,-27.1,-27.1,-26.27,-26.27,-20.45,-17.85,-17.85,-19.22,-18.32,-11.57,-11.57,-11.57,-10.68,-10.68,6.96,9.26,11.63,12.78,12.78,12.78,12.78,12.78,13.93,11.48,11.48,11.48,11.48,11.48,11.48,27.46,27.46,27.46,28.75,30.16,34.6,34.6,34.6,34.6,34.6,41.99,45.08,45.08,45.08,9.96,9.21,5.94,4.78,14.21,14.21,24.94,24.94,24.94,24.94,10.52,11.54,14.79,3.13,-10.27,-11.21,-11.21,-11.21,-10.19,-10.19,-10.19,-10.19,-10.19,-10.19,-5.03,-3.24,-3.24,-3.24,7.52,18.78,6.98,6.98,-3.92,-2.87,-2.87,-2.87,-0.78,-0.78,-0.78,-0.02,-0.02,1.07,1.07,1.07,1.07,1.07,1.07,1.07,1.07,1.07,1.07,11.58,10.38,8.24,2.18,2.18,-3.48,-1.69,-1.69,-1.69,-2.69,-1.59,-1.59,0.25,0.25,-2.51,-2.51,-2.51,-15.19,-15.19,-13.36,-13.36,-11.44,-8.67,-20.54,-20.54,-14.92,-14.92,-14.92,-14.92,-16.71,-16.71,-16.71,-15.76,-15.76,-20.53,-16.83,-16.83,-16.83,-16.83,-14.9,-14.9,-14.9,-11.03,-11.71,-21.42,-19.94,-19.94,-19.94,-19.94,-19.04,-19.04,19.77,11.96,-9.16,3.4,1.23,5.51,5.51,6.73,5.91,5.91,5.91,7.03,1.21,2.34,3.5,3.5,3.5,3.5,3.5,3.5,3.5,3.5,5.41,5.41,5.41,5.41,6.6,6.6,-7.26,-7.26,-7.26,-7.26,-7.26,-7.26,-7.26,-7.26,-19.32,-16.79,-16.79,-16.79,-16.79,-16.79,-16.15,-16.15,-16.15,-15.22,-15.22,-15.22,-27.09,-27.09,-27.09,11.42,10.39,-0.65,-0.65,-0.65,-0.65,10.39,10.39,12.59,12.59,15.02,15.02,15.02,4.48,4.48,4.48,4.48,4.48,5.58,5.58,5.58,3.23,3.23,3.23,2.09,2.09,2.09,2.09,2.09,3.25,4.41,4.41,4.41,4.41,4.41,4.41,4.41,4.41,4.41,4.41,4.41,4.41,4.41,4.41,5.58,5.58,5.58,-8.14,-8.14,-8.14,-8.14,1.33,-1.51,8.26,8.26,8.26,8.26,8.26,8.26,9.44,9.44,9.44,9.44,9.44,9.44,12.59,12.59,12.59,15.02,15.02,15.02,16.78,16.78,16.78,16.78,16.78,16.78,16.78,18.01,18.01,5.03,5.03,5.03,5.03,5.03,-1.84,-1.84,-1.84,-1.84,-1.84,-3.33,-3.33,-5.47,-5.47,-5.47,-5.47,-7.44,-6.39,-6.39,-6.39,-6.39,-6.39],\"coloraxis\":\"coloraxis\",\"symbol\":\"circle\"},\"mode\":\"markers\",\"name\":\"\",\"scene\":\"scene\",\"showlegend\":false,\"x\":[5,5,5,5,5,5,5,5,5,5,5,5,5,5,5,5,5,5,5,5,5,5,5,5,5,5,5,5,5,5,5,5,5,5,5,5,5,5,5,5,5,5,5,5,5,5,5,5,5,5,5,5,5,5,5,5,5,5,5,5,5,5,5,5,5,5,5,5,5,5,5,5,5,5,5,5,5,5,5,5,5,5,5,5,5,5,5,5,5,5,5,5,5,5,5,5,5,5,5,5,5,5,5,5,5,5,5,5,5,5,5,5,5,5,5,5,5,5,5,5,5,5,5,5,5,5,5,5,5,5,5,5,5,5,5,5,5,5,5,5,5,5,5,5,5,5,5,5,5,5,5,5,5,5,5,5,5,5,5,5,5,5,5,5,5,5,5,5,5,5,5,5,5,5,5,5,5,5,5,5,5,5,5,5,5,5,5,5,5,5,5,5,5,5,5,5,5,5,5,5,5,5,5,5,5,5,5,5,5,5,5,5,5,5,5,5,5,5,5,5,5,5,5,5,5,5,5,5,5,5,5,5,5,5,5,5,5,5,5,5,5,5,5,5,5,5,5,5,5,5,5,5,5,5,5,5,5,5,5,5,5,5,5,5,5,5,5,5,5,5,5,5,5,5,5,5,5,5,5,5,5,5,5,5,5,5,5,5,5,5,5,5,5,5,5,5,5,5,5,5,5,5,5,5,5,5,5,5,5,5,5,5,5,5,5,5,5,5,5,5,5,5,5,5,5,5,5,5,5,5,5,5,5,5,5,5,5,5,5,5,5,5,5,5,5,5,5,5,5,5,5,5,5,5,5,5,5,5,5,5,5,5,5,5,5,5,5,5,5,5,5,5,5,5,5,5,5,5,5,5,5,5,5,5,5,5,5,5,5,5,5,5,5,5,5,5,5,5,5,5,5,5,5,5,5,5,5,5,8,8,8,8,8,8,8,8,8,8,8,8,8,8,8,8,8,8,8,8,8,8,8,8,8,8,8,8,8,8,8,8,8,8,8,8,8,8,8,8,8,8,8,8,8,8,8,8,8,8,8,8,8,8,8,8,8,8,8,8,8,8,8,8,8,8,8,8,8,8,8,8,8,8,8,8,8,8,8,8,8,8,8,8,8,8,8,8,8,8,8,8,8,8,8,8,8,8,8,8,8,8,8,8,8,8,8,8,8,8,8,8,8,8,8,8,8,8,8,8,8,8,8,8,8,8,8,8,8,8,8,8,8,8,8,8,8,8,8,8,8,8,8,8,8,8,8,8,8,8,8,8,8,8,8,8,8,8,8,8,8,8,8,8,8,8,8,8,8,8,8,8,8,8,8,8,8,8,8,8,8,8,8,8,8,8,8,8,8,8,8,8,8,8,8,8,8,8,8,8,8,8,8,8,8,8,8,8,8,8,8,8,8,8,8,8,8,8,8,8,8,8,8,8,8,8,8,8,8,8,8,8,8,8,8,8,8,8,8,8,8,8,8,8,8,8,8,8,8,8,8,8,8,8,8,8,8,8,8,8,8,8,8,8,8,8,8,8,8,8,8,8,8,8,8,8,8,8,8,8,8,8,8,8,8,8,8,8,8,8,8,8,8,8,8,8,8,8,8,8,8,8,8,8,8,8,8,8,8,8,8,8,8,8,8,8,8,8,8,8,8,8,8,8,8,8,8,8,8,8,8,8,8,8,8,8,8,8,8,8,8,8,8,8,8,8,8,8,8,8,8,8,8,8,8,8,8,8,8,8,8,8,8,8,8,8,8,8,8,8,8,8,8,8,8,8,8,8,8,8,8,8,8,8,8,8,8,8,8,8,8,8,8,8,8,8,8,8,8,8,8,8,8,8,8,8,8,8,10,10,10,10,10,10,10,10,10,10,10,10,10,10,10,10,10,10,10,10,10,10,10,10,10,10,10,10,10,10,10,10,10,10,10,10,10,10,10,10,10,10,10,10,10,10,10,10,10,10,10,10,10,10,10,10,10,10,10,10,10,10,10,10,10,10,10,10,10,10,10,10,10,10,10,10,10,10,10,10,10,10,10,10,10,10,10,10,10,10,10,10,10,10,10,10,10,10,10,10,10,10,10,10,10,10,10,10,10,10,10,10,10,10,10,10,10,10,10,10,10,10,10,10,10,10,10,10,10,10,10,10,10,10,10,10,10,10,10,10,10,10,10,10,10,10,10,10,10,10,10,10,10,10,10,10,10,10,10,10,10,10,10,10,10,10,10,10,10,10,10,10,10,10,10,10,10,10,10,10,10,10,10,10,10,10,10,10,10,10,10,10,10,10,10,10,10,10,10,10,10,10,10,10,10,10,10,10,10,10,10,10,10,10,10,10,10,10,10,10,10,10,10,10,10,10,10,10,10,10,10,10,10,10,10,10,10,10,10,10,10,10,10,10,10,10,10,10,10,10,10,10,10,10,10,10,10,10,10,10,10,10,10,10,10,10,10,10,10,10,10,10,10,10,10,10,10,10,10,10,10,10,10,10,10,10,10,10,10,10,10,10,10,10,10,10,10,10,10,10,10,10,10,10,10,10,10,10,10,10,10,10,10,10,10,10,10,10,10,10,10,10,10,10,10,10,10,10,10,10,10,10,10,10,10,10,10,10,10,10,10,10,10,10,10,10,10,10,10,10,10,10,10,10,10,10,10,10,10,10,10,10,10,10,10,10,10,10,10,10,10,10,10,10,10,10,10,10,10,10,10,10,10,10,10,10,10,10,10,10,10,10,10,10,10,10,10,10,10,10,10,10,10,10,10,10,10,10,21,21,21,21,21,21,21,21,21,21,21,21,21,21,21,21,21,21,21,21,21,21,21,21,21,21,21,21,21,21,21,21,21,21,21,21,21,21,21,21,21,21,21,21,21,21,21,21,21,21,21,21,21,21,21,21,21,21,21,21,21,21,21,21,21,21,21,21,21,21,21,21,21,21,21,21,21,21,21,21,21,21,21,21,21,21,21,21,21,21,21,21,21,21,21,21,21,21,21,21,21,21,21,21,21,21,21,21,21,21,21,21,21,21,21,21,21,21,21,21,21,21,21,21,21,21,21,21,21,21,21,21,21,21,21,21,21,21,21,21,21,21,21,21,21,21,21,21,21,21,21,21,21,21,21,21,21,21,21,21,21,21,21,21,21,21,21,21,21,21,21,21,21,21,21,21,21,21,21,21,21,21,21,21,21,21,21,21,21,21,21,21,21,21,21,21,21,21,21,21,21,21,21,21,21,21,21,21,21,21,21,21,21,21,21,21,21,21,21,21,21,21,21,21,21,21,21,21,21,21,21,21,21,21,21,21,21,21,21,21,21,21,21,21,21,21,21,21,21,21,21,21,21,21,21,21,21,21,21,21,21,21,21,21,21,21,21,21,21,21,21,21,21,21,21,21,21,21,21,21,21,21,21,21,21,21,21,21,21,21,21,21,21,21,21,21,21,21,21,21,21,21,21,21,21,21,21,21,21,21,21,21,21,21,21,21,21,21,21,21,21,21,21,21,21,21,21,21,21,21,21,21,21,21,21,21,21,21,21,21,21,21,21,21,21,21,21,21,21,21,21,21,21,21,21,21,21,21,21,21,21,21,21,21,21,21,21,21,21,21,21,21,21,21,21,21,21,21,21,21,21,21,21,21,21,21,21,21,21,21,21,21,21,21,21,21,21,21,21,21,21,21,21,21,21,21,21,21,34,34,34,34,34,34,34,34,34,34,34,34,34,34,34,34,34,34,34,34,34,34,34,34,34,34,34,34,34,34,34,34,34,34,34,34,34,34,34,34,34,34,34,34,34,34,34,34,34,34,34,34,34,34,34,34,34,34,34,34,34,34,34,34,34,34,34,34,34,34,34,34,34,34,34,34,34,34,34,34,34,34,34,34,34,34,34,34,34,34,34,34,34,34,34,34,34,34,34,34,34,34,34,34,34,34,34,34,34,34,34,34,34,34,34,34,34,34,34,34,34,34,34,34,34,34,34,34,34,34,34,34,34,34,34,34,34,34,34,34,34,34,34,34,34,34,34,34,34,34,34,34,34,34,34,34,34,34,34,34,34,34,34,34,34,34,34,34,34,34,34,34,34,34,34,34,34,34,34,34,34,34,34,34,34,34,34,34,34,34,34,34,34,34,34,34,34,34,34,34,34,34,34,34,34,34,34,34,34,34,34,34,34,34,34,34,34,34,34,34,34,34,34,34,34,34,34,34,34,34,34,34,34,34,34,34,34,34,34,34,34,34,34,34,34,34,34,34,34,34,34,34,34,34,34,34,34,34,34,34,34,34,34,34,34,34,34,34,34,34,34,34,34,34,34,34,34,34,34,34,34,34,34,34,34,34,34,34,34,34,34,34,34,34,34,34,34,34,34,34,34,34,34,34,34,34,34,34,34,34,34,34,34,34,34,34,34,34,34,34,34,34,34,34,34,34,34,34,34,34,34,34,34,34,34,34,34,34,34,34,34,34,34,34,34,34,34,34,34,34,34,34,34,34,34,34,34,34,34,34,34,34,34,34,34,34,34,34,34,34,34,34,34,34,34,34,34,34,34,34,34,34,34,34,34,34,34,34,34,34,34,34,34,34,34,34,34,34,34,34,34,34,34,34,34,34,34,34,55,55,55,55,55,55,55,55,55,55,55,55,55,55,55,55,55,55,55,55,55,55,55,55,55,55,55,55,55,55,55,55,55,55,55,55,55,55,55,55,55,55,55,55,55,55,55,55,55,55,55,55,55,55,55,55,55,55,55,55,55,55,55,55,55,55,55,55,55,55,55,55,55,55,55,55,55,55,55,55,55,55,55,55,55,55,55,55,55,55,55,55,55,55,55,55,55,55,55,55,55,55,55,55,55,55,55,55,55,55,55,55,55,55,55,55,55,55,55,55,55,55,55,55,55,55,55,55,55,55,55,55,55,55,55,55,55,55,55,55,55,55,55,55,55,55,55,55,55,55,55,55,55,55,55,55,55,55,55,55,55,55,55,55,55,55,55,55,55,55,55,55,55,55,55,55,55,55,55,55,55,55,55,55,55,55,55,55,55,55,55,55,55,55,55,55,55,55,55,55,55,55,55,55,55,55,55,55,55,55,55,55,55,55,55,55,55,55,55,55,55,55,55,55,55,55,55,55,55,55,55,55,55,55,55,55,55,55,55,55,55,55,55,55,55,55,55,55,55,55,55,55,55,55,55,55,55,55,55,55,55,55,55,55,55,55,55,55,55,55,55,55,55,55,55,55,55,55,55,55,55,55,55,55,55,55,55,55,55,55,55,55,55,55,55,55,55,55,55,55,55,55,55,55,55,55,55,55,55,55,55,55,55,55,55,55,55,55,55,55,55,55,55,55,55,55,55,55,55,55,55,55,55,55,55,55,55,55,55,55,55,55,55,55,55,55,55,55,55,55,55,55,55,55,55,55,55,55,55,55,55,55,55,55,55,55,55,55,55,55,55,55,55,55,55,55,55,55,55,55,55,55,55,55,55,55,55,55,55,55,55,55,55,55,55,55,55,55,55,55,55,55,55,55,55,55,55,55,70,70,70,70,70,70,70,70,70,70,70,70,70,70,70,70,70,70,70,70,70,70,70,70,70,70,70,70,70,70,70,70,70,70,70,70,70,70,70,70,70,70,70,70,70,70,70,70,70,70,70,70,70,70,70,70,70,70,70,70,70,70,70,70,70,70,70,70,70,70,70,70,70,70,70,70,70,70,70,70,70,70,70,70,70,70,70,70,70,70,70,70,70,70,70,70,70,70,70,70,70,70,70,70,70,70,70,70,70,70,70,70,70,70,70,70,70,70,70,70,70,70,70,70,70,70,70,70,70,70,70,70,70,70,70,70,70,70,70,70,70,70,70,70,70,70,70,70,70,70,70,70,70,70,70,70,70,70,70,70,70,70,70,70,70,70,70,70,70,70,70,70,70,70,70,70,70,70,70,70,70,70,70,70,70,70,70,70,70,70,70,70,70,70,70,70,70,70,70,70,70,70,70,70,70,70,70,70,70,70,70,70,70,70,70,70,70,70,70,70,70,70,70,70,70,70,70,70,70,70,70,70,70,70,70,70,70,70,70,70,70,70,70,70,70,70,70,70,70,70,70,70,70,70,70,70,70,70,70,70,70,70,70,70,70,70,70,70,70,70,70,70,70,70,70,70,70,70,70,70,70,70,70,70,70,70,70,70,70,70,70,70,70,70,70,70,70,70,70,70,70,70,70,70,70,70,70,70,70,70,70,70,70,70,70,70,70,70,70,70,70,70,70,70,70,70,70,70,70,70,70,70,70,70,70,70,70,70,70,70,70,70,70,70,70,70,70,70,70,70,70,70,70,70,70,70,70,70,70,70,70,70,70,70,70,70,70,70,70,70,70,70,70,70,70,70,70,70,70,70,70,70,70,70,70,70,70,70,70,70,70,70,70,70,70,70,70,70,70,70,70,70,70,70,70,70,70,70,89,89,89,89,89,89,89,89,89,89,89,89,89,89,89,89,89,89,89,89,89,89,89,89,89,89,89,89,89,89,89,89,89,89,89,89,89,89,89,89,89,89,89,89,89,89,89,89,89,89,89,89,89,89,89,89,89,89,89,89,89,89,89,89,89,89,89,89,89,89,89,89,89,89,89,89,89,89,89,89,89,89,89,89,89,89,89,89,89,89,89,89,89,89,89,89,89,89,89,89,89,89,89,89,89,89,89,89,89,89,89,89,89,89,89,89,89,89,89,89,89,89,89,89,89,89,89,89,89,89,89,89,89,89,89,89,89,89,89,89,89,89,89,89,89,89,89,89,89,89,89,89,89,89,89,89,89,89,89,89,89,89,89,89,89,89,89,89,89,89,89,89,89,89,89,89,89,89,89,89,89,89,89,89,89,89,89,89,89,89,89,89,89,89,89,89,89,89,89,89,89,89,89,89,89,89,89,89,89,89,89,89,89,89,89,89,89,89,89,89,89,89,89,89,89,89,89,89,89,89,89,89,89,89,89,89,89,89,89,89,89,89,89,89,89,89,89,89,89,89,89,89,89,89,89,89,89,89,89,89,89,89,89,89,89,89,89,89,89,89,89,89,89,89,89,89,89,89,89,89,89,89,89,89,89,89,89,89,89,89,89,89,89,89,89,89,89,89,89,89,89,89,89,89,89,89,89,89,89,89,89,89,89,89,89,89,89,89,89,89,89,89,89,89,89,89,89,89,89,89,89,89,89,89,89,89,89,89,89,89,89,89,89,89,89,89,89,89,89,89,89,89,89,89,89,89,89,89,89,89,89,89,89,89,89,89,89,89,89,89,89,89,89,89,89,89,89,89,89,89,89,89,89,89,89,89,89,89,89,89,89,89,89,89,89,89,89,89,89,89,89,89,89,89,89,89,89,89,144,144,144,144,144,144,144,144,144,144,144,144,144,144,144,144,144,144,144,144,144,144,144,144,144,144,144,144,144,144,144,144,144,144,144,144,144,144,144,144,144,144,144,144,144,144,144,144,144,144,144,144,144,144,144,144,144,144,144,144,144,144,144,144,144,144,144,144,144,144,144,144,144,144,144,144,144,144,144,144,144,144,144,144,144,144,144,144,144,144,144,144,144,144,144,144,144,144,144,144,144,144,144,144,144,144,144,144,144,144,144,144,144,144,144,144,144,144,144,144,144,144,144,144,144,144,144,144,144,144,144,144,144,144,144,144,144,144,144,144,144,144,144,144,144,144,144,144,144,144,144,144,144,144,144,144,144,144,144,144,144,144,144,144,144,144,144,144,144,144,144,144,144,144,144,144,144,144,144,144,144,144,144,144,144,144,144,144,144,144,144,144,144,144,144,144,144,144,144,144,144,144,144,144,144,144,144,144,144,144,144,144,144,144,144,144,144,144,144,144,144,144,144,144,144,144,144,144,144,144,144,144,144,144,144,144,144,144,144,144,144,144,144,144,144,144,144,144,144,144,144,144,144,144,144,144,144,144,144,144,144,144,144,144,144,144,144,144,144,144,144,144,144,144,144,144,144,144,144,144,144,144,144,144,144,144,144,144,144,144,144,144,144,144,144,144,144,144,144,144,144,144,144,144,144,144,144,144,144,144,144,144,144,144,144,144,144,144,144,144,144,144,144,144,144,144,144,144,144,144,144,144,144,144,144,144,144,144,144,144,144,144,144,144,144,144,144,144,144,144,144,144,144,144,144,144,144,144,144,144,144,144,144,144,144,144,144,144,144,144,144,144,144,144,144,144,144,144,144,144,144,144,144,144,144,144,144,144,144,144,144,144,144,144,144,144,144,144,144,144,144,144,144,144,144,144,144,144,200,200,200,200,200,200,200,200,200,200,200,200,200,200,200,200,200,200,200,200,200,200,200,200,200,200,200,200,200,200,200,200,200,200,200,200,200,200,200,200,200,200,200,200,200,200,200,200,200,200,200,200,200,200,200,200,200,200,200,200,200,200,200,200,200,200,200,200,200,200,200,200,200,200,200,200,200,200,200,200,200,200,200,200,200,200,200,200,200,200,200,200,200,200,200,200,200,200,200,200,200,200,200,200,200,200,200,200,200,200,200,200,200,200,200,200,200,200,200,200,200,200,200,200,200,200,200,200,200,200,200,200,200,200,200,200,200,200,200,200,200,200,200,200,200,200,200,200,200,200,200,200,200,200,200,200,200,200,200,200,200,200,200,200,200,200,200,200,200,200,200,200,200,200,200,200,200,200,200,200,200,200,200,200,200,200,200,200,200,200,200,200,200,200,200,200,200,200,200,200,200,200,200,200,200,200,200,200,200,200,200,200,200,200,200,200,200,200,200,200,200,200,200,200,200,200,200,200,200,200,200,200,200,200,200,200,200,200,200,200,200,200,200,200,200,200,200,200,200,200,200,200,200,200,200,200,200,200,200,200,200,200,200,200,200,200,200,200,200,200,200,200,200,200,200,200,200,200,200,200,200,200,200,200,200,200,200,200,200,200,200,200,200,200,200,200,200,200,200,200,200,200,200,200,200,200,200,200,200,200,200,200,200,200,200,200,200,200,200,200,200,200,200,200,200,200,200,200,200,200,200,200,200,200,200,200,200,200,200,200,200,200,200,200,200,200,200,200,200,200,200,200,200,200,200,200,200,200,200,200,200,200,200,200,200,200,200,200,200,200,200,200,200,200,200,200,200,200,200,200,200,200,200,200,200,200,200,200,200,200,200,200,200,200,200,200,200,200,200,200,200,200,200,200,200,200,200,200],\"y\":[5,6,7,8,9,10,11,12,13,14,15,16,17,18,19,20,21,22,23,24,25,26,27,28,29,30,31,32,33,34,35,36,37,38,39,40,41,42,43,44,45,46,47,48,49,50,51,52,53,54,55,5,6,7,8,9,10,11,12,13,14,15,16,17,18,19,20,21,22,23,24,25,26,27,28,29,30,31,32,33,34,35,36,37,38,39,40,41,42,43,44,45,46,47,48,49,50,51,52,53,54,55,5,6,7,8,9,10,11,12,13,14,15,16,17,18,19,20,21,22,23,24,25,26,27,28,29,30,31,32,33,34,35,36,37,38,39,40,41,42,43,44,45,46,47,48,49,50,51,52,53,54,55,5,6,7,8,9,10,11,12,13,14,15,16,17,18,19,20,21,22,23,24,25,26,27,28,29,30,31,32,33,34,35,36,37,38,39,40,41,42,43,44,45,46,47,48,49,50,51,52,53,54,55,5,6,7,8,9,10,11,12,13,14,15,16,17,18,19,20,21,22,23,24,25,26,27,28,29,30,31,32,33,34,35,36,37,38,39,40,41,42,43,44,45,46,47,48,49,50,51,52,53,54,55,5,6,7,8,9,10,11,12,13,14,15,16,17,18,19,20,21,22,23,24,25,26,27,28,29,30,31,32,33,34,35,36,37,38,39,40,41,42,43,44,45,46,47,48,49,50,51,52,53,54,55,5,6,7,8,9,10,11,12,13,14,15,16,17,18,19,20,21,22,23,24,25,26,27,28,29,30,31,32,33,34,35,36,37,38,39,40,41,42,43,44,45,46,47,48,49,50,51,52,53,54,55,5,6,7,8,9,10,11,12,13,14,15,16,17,18,19,20,21,22,23,24,25,26,27,28,29,30,31,32,33,34,35,36,37,38,39,40,41,42,43,44,45,46,47,48,49,50,51,52,53,54,55,5,6,7,8,9,10,11,12,13,14,15,16,17,18,19,20,21,22,23,24,25,26,27,28,29,30,31,32,33,34,35,36,37,38,39,40,41,42,43,44,45,46,47,48,49,50,51,52,53,54,55,5,6,7,8,9,10,11,12,13,14,15,16,17,18,19,20,21,22,23,24,25,26,27,28,29,30,31,32,33,34,35,36,37,38,39,40,41,42,43,44,45,46,47,48,49,50,51,52,53,54,55,5,6,7,8,9,10,11,12,13,14,15,16,17,18,19,20,21,22,23,24,25,26,27,28,29,30,31,32,33,34,35,36,37,38,39,40,41,42,43,44,45,46,47,48,49,50,51,52,53,54,55,5,6,7,8,9,10,11,12,13,14,15,16,17,18,19,20,21,22,23,24,25,26,27,28,29,30,31,32,33,34,35,36,37,38,39,40,41,42,43,44,45,46,47,48,49,50,51,52,53,54,55,5,6,7,8,9,10,11,12,13,14,15,16,17,18,19,20,21,22,23,24,25,26,27,28,29,30,31,32,33,34,35,36,37,38,39,40,41,42,43,44,45,46,47,48,49,50,51,52,53,54,55,5,6,7,8,9,10,11,12,13,14,15,16,17,18,19,20,21,22,23,24,25,26,27,28,29,30,31,32,33,34,35,36,37,38,39,40,41,42,43,44,45,46,47,48,49,50,51,52,53,54,55,5,6,7,8,9,10,11,12,13,14,15,16,17,18,19,20,21,22,23,24,25,26,27,28,29,30,31,32,33,34,35,36,37,38,39,40,41,42,43,44,45,46,47,48,49,50,51,52,53,54,55,5,6,7,8,9,10,11,12,13,14,15,16,17,18,19,20,21,22,23,24,25,26,27,28,29,30,31,32,33,34,35,36,37,38,39,40,41,42,43,44,45,46,47,48,49,50,51,52,53,54,55,5,6,7,8,9,10,11,12,13,14,15,16,17,18,19,20,21,22,23,24,25,26,27,28,29,30,31,32,33,34,35,36,37,38,39,40,41,42,43,44,45,46,47,48,49,50,51,52,53,54,55,5,6,7,8,9,10,11,12,13,14,15,16,17,18,19,20,21,22,23,24,25,26,27,28,29,30,31,32,33,34,35,36,37,38,39,40,41,42,43,44,45,46,47,48,49,50,51,52,53,54,55,5,6,7,8,9,10,11,12,13,14,15,16,17,18,19,20,21,22,23,24,25,26,27,28,29,30,31,32,33,34,35,36,37,38,39,40,41,42,43,44,45,46,47,48,49,50,51,52,53,54,55,5,6,7,8,9,10,11,12,13,14,15,16,17,18,19,20,21,22,23,24,25,26,27,28,29,30,31,32,33,34,35,36,37,38,39,40,41,42,43,44,45,46,47,48,49,50,51,52,53,54,55,5,6,7,8,9,10,11,12,13,14,15,16,17,18,19,20,21,22,23,24,25,26,27,28,29,30,31,32,33,34,35,36,37,38,39,40,41,42,43,44,45,46,47,48,49,50,51,52,53,54,55,5,6,7,8,9,10,11,12,13,14,15,16,17,18,19,20,21,22,23,24,25,26,27,28,29,30,31,32,33,34,35,36,37,38,39,40,41,42,43,44,45,46,47,48,49,50,51,52,53,54,55,5,6,7,8,9,10,11,12,13,14,15,16,17,18,19,20,21,22,23,24,25,26,27,28,29,30,31,32,33,34,35,36,37,38,39,40,41,42,43,44,45,46,47,48,49,50,51,52,53,54,55,5,6,7,8,9,10,11,12,13,14,15,16,17,18,19,20,21,22,23,24,25,26,27,28,29,30,31,32,33,34,35,36,37,38,39,40,41,42,43,44,45,46,47,48,49,50,51,52,53,54,55,5,6,7,8,9,10,11,12,13,14,15,16,17,18,19,20,21,22,23,24,25,26,27,28,29,30,31,32,33,34,35,36,37,38,39,40,41,42,43,44,45,46,47,48,49,50,51,52,53,54,55,5,6,7,8,9,10,11,12,13,14,15,16,17,18,19,20,21,22,23,24,25,26,27,28,29,30,31,32,33,34,35,36,37,38,39,40,41,42,43,44,45,46,47,48,49,50,51,52,53,54,55,5,6,7,8,9,10,11,12,13,14,15,16,17,18,19,20,21,22,23,24,25,26,27,28,29,30,31,32,33,34,35,36,37,38,39,40,41,42,43,44,45,46,47,48,49,50,51,52,53,54,55,5,6,7,8,9,10,11,12,13,14,15,16,17,18,19,20,21,22,23,24,25,26,27,28,29,30,31,32,33,34,35,36,37,38,39,40,41,42,43,44,45,46,47,48,49,50,51,52,53,54,55,5,6,7,8,9,10,11,12,13,14,15,16,17,18,19,20,21,22,23,24,25,26,27,28,29,30,31,32,33,34,35,36,37,38,39,40,41,42,43,44,45,46,47,48,49,50,51,52,53,54,55,5,6,7,8,9,10,11,12,13,14,15,16,17,18,19,20,21,22,23,24,25,26,27,28,29,30,31,32,33,34,35,36,37,38,39,40,41,42,43,44,45,46,47,48,49,50,51,52,53,54,55,5,6,7,8,9,10,11,12,13,14,15,16,17,18,19,20,21,22,23,24,25,26,27,28,29,30,31,32,33,34,35,36,37,38,39,40,41,42,43,44,45,46,47,48,49,50,51,52,53,54,55,5,6,7,8,9,10,11,12,13,14,15,16,17,18,19,20,21,22,23,24,25,26,27,28,29,30,31,32,33,34,35,36,37,38,39,40,41,42,43,44,45,46,47,48,49,50,51,52,53,54,55,5,6,7,8,9,10,11,12,13,14,15,16,17,18,19,20,21,22,23,24,25,26,27,28,29,30,31,32,33,34,35,36,37,38,39,40,41,42,43,44,45,46,47,48,49,50,51,52,53,54,55,5,6,7,8,9,10,11,12,13,14,15,16,17,18,19,20,21,22,23,24,25,26,27,28,29,30,31,32,33,34,35,36,37,38,39,40,41,42,43,44,45,46,47,48,49,50,51,52,53,54,55,5,6,7,8,9,10,11,12,13,14,15,16,17,18,19,20,21,22,23,24,25,26,27,28,29,30,31,32,33,34,35,36,37,38,39,40,41,42,43,44,45,46,47,48,49,50,51,52,53,54,55,5,6,7,8,9,10,11,12,13,14,15,16,17,18,19,20,21,22,23,24,25,26,27,28,29,30,31,32,33,34,35,36,37,38,39,40,41,42,43,44,45,46,47,48,49,50,51,52,53,54,55,5,6,7,8,9,10,11,12,13,14,15,16,17,18,19,20,21,22,23,24,25,26,27,28,29,30,31,32,33,34,35,36,37,38,39,40,41,42,43,44,45,46,47,48,49,50,51,52,53,54,55,5,6,7,8,9,10,11,12,13,14,15,16,17,18,19,20,21,22,23,24,25,26,27,28,29,30,31,32,33,34,35,36,37,38,39,40,41,42,43,44,45,46,47,48,49,50,51,52,53,54,55,5,6,7,8,9,10,11,12,13,14,15,16,17,18,19,20,21,22,23,24,25,26,27,28,29,30,31,32,33,34,35,36,37,38,39,40,41,42,43,44,45,46,47,48,49,50,51,52,53,54,55,5,6,7,8,9,10,11,12,13,14,15,16,17,18,19,20,21,22,23,24,25,26,27,28,29,30,31,32,33,34,35,36,37,38,39,40,41,42,43,44,45,46,47,48,49,50,51,52,53,54,55,5,6,7,8,9,10,11,12,13,14,15,16,17,18,19,20,21,22,23,24,25,26,27,28,29,30,31,32,33,34,35,36,37,38,39,40,41,42,43,44,45,46,47,48,49,50,51,52,53,54,55,5,6,7,8,9,10,11,12,13,14,15,16,17,18,19,20,21,22,23,24,25,26,27,28,29,30,31,32,33,34,35,36,37,38,39,40,41,42,43,44,45,46,47,48,49,50,51,52,53,54,55,5,6,7,8,9,10,11,12,13,14,15,16,17,18,19,20,21,22,23,24,25,26,27,28,29,30,31,32,33,34,35,36,37,38,39,40,41,42,43,44,45,46,47,48,49,50,51,52,53,54,55,5,6,7,8,9,10,11,12,13,14,15,16,17,18,19,20,21,22,23,24,25,26,27,28,29,30,31,32,33,34,35,36,37,38,39,40,41,42,43,44,45,46,47,48,49,50,51,52,53,54,55,5,6,7,8,9,10,11,12,13,14,15,16,17,18,19,20,21,22,23,24,25,26,27,28,29,30,31,32,33,34,35,36,37,38,39,40,41,42,43,44,45,46,47,48,49,50,51,52,53,54,55,5,6,7,8,9,10,11,12,13,14,15,16,17,18,19,20,21,22,23,24,25,26,27,28,29,30,31,32,33,34,35,36,37,38,39,40,41,42,43,44,45,46,47,48,49,50,51,52,53,54,55,5,6,7,8,9,10,11,12,13,14,15,16,17,18,19,20,21,22,23,24,25,26,27,28,29,30,31,32,33,34,35,36,37,38,39,40,41,42,43,44,45,46,47,48,49,50,51,52,53,54,55,5,6,7,8,9,10,11,12,13,14,15,16,17,18,19,20,21,22,23,24,25,26,27,28,29,30,31,32,33,34,35,36,37,38,39,40,41,42,43,44,45,46,47,48,49,50,51,52,53,54,55,5,6,7,8,9,10,11,12,13,14,15,16,17,18,19,20,21,22,23,24,25,26,27,28,29,30,31,32,33,34,35,36,37,38,39,40,41,42,43,44,45,46,47,48,49,50,51,52,53,54,55,5,6,7,8,9,10,11,12,13,14,15,16,17,18,19,20,21,22,23,24,25,26,27,28,29,30,31,32,33,34,35,36,37,38,39,40,41,42,43,44,45,46,47,48,49,50,51,52,53,54,55,5,6,7,8,9,10,11,12,13,14,15,16,17,18,19,20,21,22,23,24,25,26,27,28,29,30,31,32,33,34,35,36,37,38,39,40,41,42,43,44,45,46,47,48,49,50,51,52,53,54,55,5,6,7,8,9,10,11,12,13,14,15,16,17,18,19,20,21,22,23,24,25,26,27,28,29,30,31,32,33,34,35,36,37,38,39,40,41,42,43,44,45,46,47,48,49,50,51,52,53,54,55,5,6,7,8,9,10,11,12,13,14,15,16,17,18,19,20,21,22,23,24,25,26,27,28,29,30,31,32,33,34,35,36,37,38,39,40,41,42,43,44,45,46,47,48,49,50,51,52,53,54,55,5,6,7,8,9,10,11,12,13,14,15,16,17,18,19,20,21,22,23,24,25,26,27,28,29,30,31,32,33,34,35,36,37,38,39,40,41,42,43,44,45,46,47,48,49,50,51,52,53,54,55,5,6,7,8,9,10,11,12,13,14,15,16,17,18,19,20,21,22,23,24,25,26,27,28,29,30,31,32,33,34,35,36,37,38,39,40,41,42,43,44,45,46,47,48,49,50,51,52,53,54,55,5,6,7,8,9,10,11,12,13,14,15,16,17,18,19,20,21,22,23,24,25,26,27,28,29,30,31,32,33,34,35,36,37,38,39,40,41,42,43,44,45,46,47,48,49,50,51,52,53,54,55,5,6,7,8,9,10,11,12,13,14,15,16,17,18,19,20,21,22,23,24,25,26,27,28,29,30,31,32,33,34,35,36,37,38,39,40,41,42,43,44,45,46,47,48,49,50,51,52,53,54,55,5,6,7,8,9,10,11,12,13,14,15,16,17,18,19,20,21,22,23,24,25,26,27,28,29,30,31,32,33,34,35,36,37,38,39,40,41,42,43,44,45,46,47,48,49,50,51,52,53,54,55,5,6,7,8,9,10,11,12,13,14,15,16,17,18,19,20,21,22,23,24,25,26,27,28,29,30,31,32,33,34,35,36,37,38,39,40,41,42,43,44,45,46,47,48,49,50,51,52,53,54,55,5,6,7,8,9,10,11,12,13,14,15,16,17,18,19,20,21,22,23,24,25,26,27,28,29,30,31,32,33,34,35,36,37,38,39,40,41,42,43,44,45,46,47,48,49,50,51,52,53,54,55,5,6,7,8,9,10,11,12,13,14,15,16,17,18,19,20,21,22,23,24,25,26,27,28,29,30,31,32,33,34,35,36,37,38,39,40,41,42,43,44,45,46,47,48,49,50,51,52,53,54,55,5,6,7,8,9,10,11,12,13,14,15,16,17,18,19,20,21,22,23,24,25,26,27,28,29,30,31,32,33,34,35,36,37,38,39,40,41,42,43,44,45,46,47,48,49,50,51,52,53,54,55,5,6,7,8,9,10,11,12,13,14,15,16,17,18,19,20,21,22,23,24,25,26,27,28,29,30,31,32,33,34,35,36,37,38,39,40,41,42,43,44,45,46,47,48,49,50,51,52,53,54,55,5,6,7,8,9,10,11,12,13,14,15,16,17,18,19,20,21,22,23,24,25,26,27,28,29,30,31,32,33,34,35,36,37,38,39,40,41,42,43,44,45,46,47,48,49,50,51,52,53,54,55,5,6,7,8,9,10,11,12,13,14,15,16,17,18,19,20,21,22,23,24,25,26,27,28,29,30,31,32,33,34,35,36,37,38,39,40,41,42,43,44,45,46,47,48,49,50,51,52,53,54,55,5,6,7,8,9,10,11,12,13,14,15,16,17,18,19,20,21,22,23,24,25,26,27,28,29,30,31,32,33,34,35,36,37,38,39,40,41,42,43,44,45,46,47,48,49,50,51,52,53,54,55,5,6,7,8,9,10,11,12,13,14,15,16,17,18,19,20,21,22,23,24,25,26,27,28,29,30,31,32,33,34,35,36,37,38,39,40,41,42,43,44,45,46,47,48,49,50,51,52,53,54,55,5,6,7,8,9,10,11,12,13,14,15,16,17,18,19,20,21,22,23,24,25,26,27,28,29,30,31,32,33,34,35,36,37,38,39,40,41,42,43,44,45,46,47,48,49,50,51,52,53,54,55,5,6,7,8,9,10,11,12,13,14,15,16,17,18,19,20,21,22,23,24,25,26,27,28,29,30,31,32,33,34,35,36,37,38,39,40,41,42,43,44,45,46,47,48,49,50,51,52,53,54,55,5,6,7,8,9,10,11,12,13,14,15,16,17,18,19,20,21,22,23,24,25,26,27,28,29,30,31,32,33,34,35,36,37,38,39,40,41,42,43,44,45,46,47,48,49,50,51,52,53,54,55,5,6,7,8,9,10,11,12,13,14,15,16,17,18,19,20,21,22,23,24,25,26,27,28,29,30,31,32,33,34,35,36,37,38,39,40,41,42,43,44,45,46,47,48,49,50,51,52,53,54,55,5,6,7,8,9,10,11,12,13,14,15,16,17,18,19,20,21,22,23,24,25,26,27,28,29,30,31,32,33,34,35,36,37,38,39,40,41,42,43,44,45,46,47,48,49,50,51,52,53,54,55,5,6,7,8,9,10,11,12,13,14,15,16,17,18,19,20,21,22,23,24,25,26,27,28,29,30,31,32,33,34,35,36,37,38,39,40,41,42,43,44,45,46,47,48,49,50,51,52,53,54,55,5,6,7,8,9,10,11,12,13,14,15,16,17,18,19,20,21,22,23,24,25,26,27,28,29,30,31,32,33,34,35,36,37,38,39,40,41,42,43,44,45,46,47,48,49,50,51,52,53,54,55,5,6,7,8,9,10,11,12,13,14,15,16,17,18,19,20,21,22,23,24,25,26,27,28,29,30,31,32,33,34,35,36,37,38,39,40,41,42,43,44,45,46,47,48,49,50,51,52,53,54,55,5,6,7,8,9,10,11,12,13,14,15,16,17,18,19,20,21,22,23,24,25,26,27,28,29,30,31,32,33,34,35,36,37,38,39,40,41,42,43,44,45,46,47,48,49,50,51,52,53,54,55,5,6,7,8,9,10,11,12,13,14,15,16,17,18,19,20,21,22,23,24,25,26,27,28,29,30,31,32,33,34,35,36,37,38,39,40,41,42,43,44,45,46,47,48,49,50,51,52,53,54,55,5,6,7,8,9,10,11,12,13,14,15,16,17,18,19,20,21,22,23,24,25,26,27,28,29,30,31,32,33,34,35,36,37,38,39,40,41,42,43,44,45,46,47,48,49,50,51,52,53,54,55,5,6,7,8,9,10,11,12,13,14,15,16,17,18,19,20,21,22,23,24,25,26,27,28,29,30,31,32,33,34,35,36,37,38,39,40,41,42,43,44,45,46,47,48,49,50,51,52,53,54,55,5,6,7,8,9,10,11,12,13,14,15,16,17,18,19,20,21,22,23,24,25,26,27,28,29,30,31,32,33,34,35,36,37,38,39,40,41,42,43,44,45,46,47,48,49,50,51,52,53,54,55],\"z\":[2.0,2.0,2.0,2.0,2.0,2.0,2.0,2.0,2.0,2.0,2.0,2.0,2.0,2.0,2.0,2.0,2.0,2.0,2.0,2.0,2.0,2.0,2.0,2.0,2.0,2.0,2.0,2.0,2.0,2.0,2.0,2.0,2.0,2.0,2.0,2.0,2.0,2.0,2.0,2.0,2.0,2.0,2.0,2.0,2.0,2.0,2.0,2.0,2.0,2.0,2.0,2.5,2.5,2.5,2.5,2.5,2.5,2.5,2.5,2.5,2.5,2.5,2.5,2.5,2.5,2.5,2.5,2.5,2.5,2.5,2.5,2.5,2.5,2.5,2.5,2.5,2.5,2.5,2.5,2.5,2.5,2.5,2.5,2.5,2.5,2.5,2.5,2.5,2.5,2.5,2.5,2.5,2.5,2.5,2.5,2.5,2.5,2.5,2.5,2.5,2.5,2.5,3.0,3.0,3.0,3.0,3.0,3.0,3.0,3.0,3.0,3.0,3.0,3.0,3.0,3.0,3.0,3.0,3.0,3.0,3.0,3.0,3.0,3.0,3.0,3.0,3.0,3.0,3.0,3.0,3.0,3.0,3.0,3.0,3.0,3.0,3.0,3.0,3.0,3.0,3.0,3.0,3.0,3.0,3.0,3.0,3.0,3.0,3.0,3.0,3.0,3.0,3.0,3.5,3.5,3.5,3.5,3.5,3.5,3.5,3.5,3.5,3.5,3.5,3.5,3.5,3.5,3.5,3.5,3.5,3.5,3.5,3.5,3.5,3.5,3.5,3.5,3.5,3.5,3.5,3.5,3.5,3.5,3.5,3.5,3.5,3.5,3.5,3.5,3.5,3.5,3.5,3.5,3.5,3.5,3.5,3.5,3.5,3.5,3.5,3.5,3.5,3.5,3.5,4.0,4.0,4.0,4.0,4.0,4.0,4.0,4.0,4.0,4.0,4.0,4.0,4.0,4.0,4.0,4.0,4.0,4.0,4.0,4.0,4.0,4.0,4.0,4.0,4.0,4.0,4.0,4.0,4.0,4.0,4.0,4.0,4.0,4.0,4.0,4.0,4.0,4.0,4.0,4.0,4.0,4.0,4.0,4.0,4.0,4.0,4.0,4.0,4.0,4.0,4.0,4.5,4.5,4.5,4.5,4.5,4.5,4.5,4.5,4.5,4.5,4.5,4.5,4.5,4.5,4.5,4.5,4.5,4.5,4.5,4.5,4.5,4.5,4.5,4.5,4.5,4.5,4.5,4.5,4.5,4.5,4.5,4.5,4.5,4.5,4.5,4.5,4.5,4.5,4.5,4.5,4.5,4.5,4.5,4.5,4.5,4.5,4.5,4.5,4.5,4.5,4.5,5.0,5.0,5.0,5.0,5.0,5.0,5.0,5.0,5.0,5.0,5.0,5.0,5.0,5.0,5.0,5.0,5.0,5.0,5.0,5.0,5.0,5.0,5.0,5.0,5.0,5.0,5.0,5.0,5.0,5.0,5.0,5.0,5.0,5.0,5.0,5.0,5.0,5.0,5.0,5.0,5.0,5.0,5.0,5.0,5.0,5.0,5.0,5.0,5.0,5.0,5.0,5.5,5.5,5.5,5.5,5.5,5.5,5.5,5.5,5.5,5.5,5.5,5.5,5.5,5.5,5.5,5.5,5.5,5.5,5.5,5.5,5.5,5.5,5.5,5.5,5.5,5.5,5.5,5.5,5.5,5.5,5.5,5.5,5.5,5.5,5.5,5.5,5.5,5.5,5.5,5.5,5.5,5.5,5.5,5.5,5.5,5.5,5.5,5.5,5.5,5.5,5.5,2.0,2.0,2.0,2.0,2.0,2.0,2.0,2.0,2.0,2.0,2.0,2.0,2.0,2.0,2.0,2.0,2.0,2.0,2.0,2.0,2.0,2.0,2.0,2.0,2.0,2.0,2.0,2.0,2.0,2.0,2.0,2.0,2.0,2.0,2.0,2.0,2.0,2.0,2.0,2.0,2.0,2.0,2.0,2.0,2.0,2.0,2.0,2.0,2.0,2.0,2.0,2.5,2.5,2.5,2.5,2.5,2.5,2.5,2.5,2.5,2.5,2.5,2.5,2.5,2.5,2.5,2.5,2.5,2.5,2.5,2.5,2.5,2.5,2.5,2.5,2.5,2.5,2.5,2.5,2.5,2.5,2.5,2.5,2.5,2.5,2.5,2.5,2.5,2.5,2.5,2.5,2.5,2.5,2.5,2.5,2.5,2.5,2.5,2.5,2.5,2.5,2.5,3.0,3.0,3.0,3.0,3.0,3.0,3.0,3.0,3.0,3.0,3.0,3.0,3.0,3.0,3.0,3.0,3.0,3.0,3.0,3.0,3.0,3.0,3.0,3.0,3.0,3.0,3.0,3.0,3.0,3.0,3.0,3.0,3.0,3.0,3.0,3.0,3.0,3.0,3.0,3.0,3.0,3.0,3.0,3.0,3.0,3.0,3.0,3.0,3.0,3.0,3.0,3.5,3.5,3.5,3.5,3.5,3.5,3.5,3.5,3.5,3.5,3.5,3.5,3.5,3.5,3.5,3.5,3.5,3.5,3.5,3.5,3.5,3.5,3.5,3.5,3.5,3.5,3.5,3.5,3.5,3.5,3.5,3.5,3.5,3.5,3.5,3.5,3.5,3.5,3.5,3.5,3.5,3.5,3.5,3.5,3.5,3.5,3.5,3.5,3.5,3.5,3.5,4.0,4.0,4.0,4.0,4.0,4.0,4.0,4.0,4.0,4.0,4.0,4.0,4.0,4.0,4.0,4.0,4.0,4.0,4.0,4.0,4.0,4.0,4.0,4.0,4.0,4.0,4.0,4.0,4.0,4.0,4.0,4.0,4.0,4.0,4.0,4.0,4.0,4.0,4.0,4.0,4.0,4.0,4.0,4.0,4.0,4.0,4.0,4.0,4.0,4.0,4.0,4.5,4.5,4.5,4.5,4.5,4.5,4.5,4.5,4.5,4.5,4.5,4.5,4.5,4.5,4.5,4.5,4.5,4.5,4.5,4.5,4.5,4.5,4.5,4.5,4.5,4.5,4.5,4.5,4.5,4.5,4.5,4.5,4.5,4.5,4.5,4.5,4.5,4.5,4.5,4.5,4.5,4.5,4.5,4.5,4.5,4.5,4.5,4.5,4.5,4.5,4.5,5.0,5.0,5.0,5.0,5.0,5.0,5.0,5.0,5.0,5.0,5.0,5.0,5.0,5.0,5.0,5.0,5.0,5.0,5.0,5.0,5.0,5.0,5.0,5.0,5.0,5.0,5.0,5.0,5.0,5.0,5.0,5.0,5.0,5.0,5.0,5.0,5.0,5.0,5.0,5.0,5.0,5.0,5.0,5.0,5.0,5.0,5.0,5.0,5.0,5.0,5.0,5.5,5.5,5.5,5.5,5.5,5.5,5.5,5.5,5.5,5.5,5.5,5.5,5.5,5.5,5.5,5.5,5.5,5.5,5.5,5.5,5.5,5.5,5.5,5.5,5.5,5.5,5.5,5.5,5.5,5.5,5.5,5.5,5.5,5.5,5.5,5.5,5.5,5.5,5.5,5.5,5.5,5.5,5.5,5.5,5.5,5.5,5.5,5.5,5.5,5.5,5.5,2.0,2.0,2.0,2.0,2.0,2.0,2.0,2.0,2.0,2.0,2.0,2.0,2.0,2.0,2.0,2.0,2.0,2.0,2.0,2.0,2.0,2.0,2.0,2.0,2.0,2.0,2.0,2.0,2.0,2.0,2.0,2.0,2.0,2.0,2.0,2.0,2.0,2.0,2.0,2.0,2.0,2.0,2.0,2.0,2.0,2.0,2.0,2.0,2.0,2.0,2.0,2.5,2.5,2.5,2.5,2.5,2.5,2.5,2.5,2.5,2.5,2.5,2.5,2.5,2.5,2.5,2.5,2.5,2.5,2.5,2.5,2.5,2.5,2.5,2.5,2.5,2.5,2.5,2.5,2.5,2.5,2.5,2.5,2.5,2.5,2.5,2.5,2.5,2.5,2.5,2.5,2.5,2.5,2.5,2.5,2.5,2.5,2.5,2.5,2.5,2.5,2.5,3.0,3.0,3.0,3.0,3.0,3.0,3.0,3.0,3.0,3.0,3.0,3.0,3.0,3.0,3.0,3.0,3.0,3.0,3.0,3.0,3.0,3.0,3.0,3.0,3.0,3.0,3.0,3.0,3.0,3.0,3.0,3.0,3.0,3.0,3.0,3.0,3.0,3.0,3.0,3.0,3.0,3.0,3.0,3.0,3.0,3.0,3.0,3.0,3.0,3.0,3.0,3.5,3.5,3.5,3.5,3.5,3.5,3.5,3.5,3.5,3.5,3.5,3.5,3.5,3.5,3.5,3.5,3.5,3.5,3.5,3.5,3.5,3.5,3.5,3.5,3.5,3.5,3.5,3.5,3.5,3.5,3.5,3.5,3.5,3.5,3.5,3.5,3.5,3.5,3.5,3.5,3.5,3.5,3.5,3.5,3.5,3.5,3.5,3.5,3.5,3.5,3.5,4.0,4.0,4.0,4.0,4.0,4.0,4.0,4.0,4.0,4.0,4.0,4.0,4.0,4.0,4.0,4.0,4.0,4.0,4.0,4.0,4.0,4.0,4.0,4.0,4.0,4.0,4.0,4.0,4.0,4.0,4.0,4.0,4.0,4.0,4.0,4.0,4.0,4.0,4.0,4.0,4.0,4.0,4.0,4.0,4.0,4.0,4.0,4.0,4.0,4.0,4.0,4.5,4.5,4.5,4.5,4.5,4.5,4.5,4.5,4.5,4.5,4.5,4.5,4.5,4.5,4.5,4.5,4.5,4.5,4.5,4.5,4.5,4.5,4.5,4.5,4.5,4.5,4.5,4.5,4.5,4.5,4.5,4.5,4.5,4.5,4.5,4.5,4.5,4.5,4.5,4.5,4.5,4.5,4.5,4.5,4.5,4.5,4.5,4.5,4.5,4.5,4.5,5.0,5.0,5.0,5.0,5.0,5.0,5.0,5.0,5.0,5.0,5.0,5.0,5.0,5.0,5.0,5.0,5.0,5.0,5.0,5.0,5.0,5.0,5.0,5.0,5.0,5.0,5.0,5.0,5.0,5.0,5.0,5.0,5.0,5.0,5.0,5.0,5.0,5.0,5.0,5.0,5.0,5.0,5.0,5.0,5.0,5.0,5.0,5.0,5.0,5.0,5.0,5.5,5.5,5.5,5.5,5.5,5.5,5.5,5.5,5.5,5.5,5.5,5.5,5.5,5.5,5.5,5.5,5.5,5.5,5.5,5.5,5.5,5.5,5.5,5.5,5.5,5.5,5.5,5.5,5.5,5.5,5.5,5.5,5.5,5.5,5.5,5.5,5.5,5.5,5.5,5.5,5.5,5.5,5.5,5.5,5.5,5.5,5.5,5.5,5.5,5.5,5.5,2.0,2.0,2.0,2.0,2.0,2.0,2.0,2.0,2.0,2.0,2.0,2.0,2.0,2.0,2.0,2.0,2.0,2.0,2.0,2.0,2.0,2.0,2.0,2.0,2.0,2.0,2.0,2.0,2.0,2.0,2.0,2.0,2.0,2.0,2.0,2.0,2.0,2.0,2.0,2.0,2.0,2.0,2.0,2.0,2.0,2.0,2.0,2.0,2.0,2.0,2.0,2.5,2.5,2.5,2.5,2.5,2.5,2.5,2.5,2.5,2.5,2.5,2.5,2.5,2.5,2.5,2.5,2.5,2.5,2.5,2.5,2.5,2.5,2.5,2.5,2.5,2.5,2.5,2.5,2.5,2.5,2.5,2.5,2.5,2.5,2.5,2.5,2.5,2.5,2.5,2.5,2.5,2.5,2.5,2.5,2.5,2.5,2.5,2.5,2.5,2.5,2.5,3.0,3.0,3.0,3.0,3.0,3.0,3.0,3.0,3.0,3.0,3.0,3.0,3.0,3.0,3.0,3.0,3.0,3.0,3.0,3.0,3.0,3.0,3.0,3.0,3.0,3.0,3.0,3.0,3.0,3.0,3.0,3.0,3.0,3.0,3.0,3.0,3.0,3.0,3.0,3.0,3.0,3.0,3.0,3.0,3.0,3.0,3.0,3.0,3.0,3.0,3.0,3.5,3.5,3.5,3.5,3.5,3.5,3.5,3.5,3.5,3.5,3.5,3.5,3.5,3.5,3.5,3.5,3.5,3.5,3.5,3.5,3.5,3.5,3.5,3.5,3.5,3.5,3.5,3.5,3.5,3.5,3.5,3.5,3.5,3.5,3.5,3.5,3.5,3.5,3.5,3.5,3.5,3.5,3.5,3.5,3.5,3.5,3.5,3.5,3.5,3.5,3.5,4.0,4.0,4.0,4.0,4.0,4.0,4.0,4.0,4.0,4.0,4.0,4.0,4.0,4.0,4.0,4.0,4.0,4.0,4.0,4.0,4.0,4.0,4.0,4.0,4.0,4.0,4.0,4.0,4.0,4.0,4.0,4.0,4.0,4.0,4.0,4.0,4.0,4.0,4.0,4.0,4.0,4.0,4.0,4.0,4.0,4.0,4.0,4.0,4.0,4.0,4.0,4.5,4.5,4.5,4.5,4.5,4.5,4.5,4.5,4.5,4.5,4.5,4.5,4.5,4.5,4.5,4.5,4.5,4.5,4.5,4.5,4.5,4.5,4.5,4.5,4.5,4.5,4.5,4.5,4.5,4.5,4.5,4.5,4.5,4.5,4.5,4.5,4.5,4.5,4.5,4.5,4.5,4.5,4.5,4.5,4.5,4.5,4.5,4.5,4.5,4.5,4.5,5.0,5.0,5.0,5.0,5.0,5.0,5.0,5.0,5.0,5.0,5.0,5.0,5.0,5.0,5.0,5.0,5.0,5.0,5.0,5.0,5.0,5.0,5.0,5.0,5.0,5.0,5.0,5.0,5.0,5.0,5.0,5.0,5.0,5.0,5.0,5.0,5.0,5.0,5.0,5.0,5.0,5.0,5.0,5.0,5.0,5.0,5.0,5.0,5.0,5.0,5.0,5.5,5.5,5.5,5.5,5.5,5.5,5.5,5.5,5.5,5.5,5.5,5.5,5.5,5.5,5.5,5.5,5.5,5.5,5.5,5.5,5.5,5.5,5.5,5.5,5.5,5.5,5.5,5.5,5.5,5.5,5.5,5.5,5.5,5.5,5.5,5.5,5.5,5.5,5.5,5.5,5.5,5.5,5.5,5.5,5.5,5.5,5.5,5.5,5.5,5.5,5.5,2.0,2.0,2.0,2.0,2.0,2.0,2.0,2.0,2.0,2.0,2.0,2.0,2.0,2.0,2.0,2.0,2.0,2.0,2.0,2.0,2.0,2.0,2.0,2.0,2.0,2.0,2.0,2.0,2.0,2.0,2.0,2.0,2.0,2.0,2.0,2.0,2.0,2.0,2.0,2.0,2.0,2.0,2.0,2.0,2.0,2.0,2.0,2.0,2.0,2.0,2.0,2.5,2.5,2.5,2.5,2.5,2.5,2.5,2.5,2.5,2.5,2.5,2.5,2.5,2.5,2.5,2.5,2.5,2.5,2.5,2.5,2.5,2.5,2.5,2.5,2.5,2.5,2.5,2.5,2.5,2.5,2.5,2.5,2.5,2.5,2.5,2.5,2.5,2.5,2.5,2.5,2.5,2.5,2.5,2.5,2.5,2.5,2.5,2.5,2.5,2.5,2.5,3.0,3.0,3.0,3.0,3.0,3.0,3.0,3.0,3.0,3.0,3.0,3.0,3.0,3.0,3.0,3.0,3.0,3.0,3.0,3.0,3.0,3.0,3.0,3.0,3.0,3.0,3.0,3.0,3.0,3.0,3.0,3.0,3.0,3.0,3.0,3.0,3.0,3.0,3.0,3.0,3.0,3.0,3.0,3.0,3.0,3.0,3.0,3.0,3.0,3.0,3.0,3.5,3.5,3.5,3.5,3.5,3.5,3.5,3.5,3.5,3.5,3.5,3.5,3.5,3.5,3.5,3.5,3.5,3.5,3.5,3.5,3.5,3.5,3.5,3.5,3.5,3.5,3.5,3.5,3.5,3.5,3.5,3.5,3.5,3.5,3.5,3.5,3.5,3.5,3.5,3.5,3.5,3.5,3.5,3.5,3.5,3.5,3.5,3.5,3.5,3.5,3.5,4.0,4.0,4.0,4.0,4.0,4.0,4.0,4.0,4.0,4.0,4.0,4.0,4.0,4.0,4.0,4.0,4.0,4.0,4.0,4.0,4.0,4.0,4.0,4.0,4.0,4.0,4.0,4.0,4.0,4.0,4.0,4.0,4.0,4.0,4.0,4.0,4.0,4.0,4.0,4.0,4.0,4.0,4.0,4.0,4.0,4.0,4.0,4.0,4.0,4.0,4.0,4.5,4.5,4.5,4.5,4.5,4.5,4.5,4.5,4.5,4.5,4.5,4.5,4.5,4.5,4.5,4.5,4.5,4.5,4.5,4.5,4.5,4.5,4.5,4.5,4.5,4.5,4.5,4.5,4.5,4.5,4.5,4.5,4.5,4.5,4.5,4.5,4.5,4.5,4.5,4.5,4.5,4.5,4.5,4.5,4.5,4.5,4.5,4.5,4.5,4.5,4.5,5.0,5.0,5.0,5.0,5.0,5.0,5.0,5.0,5.0,5.0,5.0,5.0,5.0,5.0,5.0,5.0,5.0,5.0,5.0,5.0,5.0,5.0,5.0,5.0,5.0,5.0,5.0,5.0,5.0,5.0,5.0,5.0,5.0,5.0,5.0,5.0,5.0,5.0,5.0,5.0,5.0,5.0,5.0,5.0,5.0,5.0,5.0,5.0,5.0,5.0,5.0,5.5,5.5,5.5,5.5,5.5,5.5,5.5,5.5,5.5,5.5,5.5,5.5,5.5,5.5,5.5,5.5,5.5,5.5,5.5,5.5,5.5,5.5,5.5,5.5,5.5,5.5,5.5,5.5,5.5,5.5,5.5,5.5,5.5,5.5,5.5,5.5,5.5,5.5,5.5,5.5,5.5,5.5,5.5,5.5,5.5,5.5,5.5,5.5,5.5,5.5,5.5,2.0,2.0,2.0,2.0,2.0,2.0,2.0,2.0,2.0,2.0,2.0,2.0,2.0,2.0,2.0,2.0,2.0,2.0,2.0,2.0,2.0,2.0,2.0,2.0,2.0,2.0,2.0,2.0,2.0,2.0,2.0,2.0,2.0,2.0,2.0,2.0,2.0,2.0,2.0,2.0,2.0,2.0,2.0,2.0,2.0,2.0,2.0,2.0,2.0,2.0,2.0,2.5,2.5,2.5,2.5,2.5,2.5,2.5,2.5,2.5,2.5,2.5,2.5,2.5,2.5,2.5,2.5,2.5,2.5,2.5,2.5,2.5,2.5,2.5,2.5,2.5,2.5,2.5,2.5,2.5,2.5,2.5,2.5,2.5,2.5,2.5,2.5,2.5,2.5,2.5,2.5,2.5,2.5,2.5,2.5,2.5,2.5,2.5,2.5,2.5,2.5,2.5,3.0,3.0,3.0,3.0,3.0,3.0,3.0,3.0,3.0,3.0,3.0,3.0,3.0,3.0,3.0,3.0,3.0,3.0,3.0,3.0,3.0,3.0,3.0,3.0,3.0,3.0,3.0,3.0,3.0,3.0,3.0,3.0,3.0,3.0,3.0,3.0,3.0,3.0,3.0,3.0,3.0,3.0,3.0,3.0,3.0,3.0,3.0,3.0,3.0,3.0,3.0,3.5,3.5,3.5,3.5,3.5,3.5,3.5,3.5,3.5,3.5,3.5,3.5,3.5,3.5,3.5,3.5,3.5,3.5,3.5,3.5,3.5,3.5,3.5,3.5,3.5,3.5,3.5,3.5,3.5,3.5,3.5,3.5,3.5,3.5,3.5,3.5,3.5,3.5,3.5,3.5,3.5,3.5,3.5,3.5,3.5,3.5,3.5,3.5,3.5,3.5,3.5,4.0,4.0,4.0,4.0,4.0,4.0,4.0,4.0,4.0,4.0,4.0,4.0,4.0,4.0,4.0,4.0,4.0,4.0,4.0,4.0,4.0,4.0,4.0,4.0,4.0,4.0,4.0,4.0,4.0,4.0,4.0,4.0,4.0,4.0,4.0,4.0,4.0,4.0,4.0,4.0,4.0,4.0,4.0,4.0,4.0,4.0,4.0,4.0,4.0,4.0,4.0,4.5,4.5,4.5,4.5,4.5,4.5,4.5,4.5,4.5,4.5,4.5,4.5,4.5,4.5,4.5,4.5,4.5,4.5,4.5,4.5,4.5,4.5,4.5,4.5,4.5,4.5,4.5,4.5,4.5,4.5,4.5,4.5,4.5,4.5,4.5,4.5,4.5,4.5,4.5,4.5,4.5,4.5,4.5,4.5,4.5,4.5,4.5,4.5,4.5,4.5,4.5,5.0,5.0,5.0,5.0,5.0,5.0,5.0,5.0,5.0,5.0,5.0,5.0,5.0,5.0,5.0,5.0,5.0,5.0,5.0,5.0,5.0,5.0,5.0,5.0,5.0,5.0,5.0,5.0,5.0,5.0,5.0,5.0,5.0,5.0,5.0,5.0,5.0,5.0,5.0,5.0,5.0,5.0,5.0,5.0,5.0,5.0,5.0,5.0,5.0,5.0,5.0,5.5,5.5,5.5,5.5,5.5,5.5,5.5,5.5,5.5,5.5,5.5,5.5,5.5,5.5,5.5,5.5,5.5,5.5,5.5,5.5,5.5,5.5,5.5,5.5,5.5,5.5,5.5,5.5,5.5,5.5,5.5,5.5,5.5,5.5,5.5,5.5,5.5,5.5,5.5,5.5,5.5,5.5,5.5,5.5,5.5,5.5,5.5,5.5,5.5,5.5,5.5,2.0,2.0,2.0,2.0,2.0,2.0,2.0,2.0,2.0,2.0,2.0,2.0,2.0,2.0,2.0,2.0,2.0,2.0,2.0,2.0,2.0,2.0,2.0,2.0,2.0,2.0,2.0,2.0,2.0,2.0,2.0,2.0,2.0,2.0,2.0,2.0,2.0,2.0,2.0,2.0,2.0,2.0,2.0,2.0,2.0,2.0,2.0,2.0,2.0,2.0,2.0,2.5,2.5,2.5,2.5,2.5,2.5,2.5,2.5,2.5,2.5,2.5,2.5,2.5,2.5,2.5,2.5,2.5,2.5,2.5,2.5,2.5,2.5,2.5,2.5,2.5,2.5,2.5,2.5,2.5,2.5,2.5,2.5,2.5,2.5,2.5,2.5,2.5,2.5,2.5,2.5,2.5,2.5,2.5,2.5,2.5,2.5,2.5,2.5,2.5,2.5,2.5,3.0,3.0,3.0,3.0,3.0,3.0,3.0,3.0,3.0,3.0,3.0,3.0,3.0,3.0,3.0,3.0,3.0,3.0,3.0,3.0,3.0,3.0,3.0,3.0,3.0,3.0,3.0,3.0,3.0,3.0,3.0,3.0,3.0,3.0,3.0,3.0,3.0,3.0,3.0,3.0,3.0,3.0,3.0,3.0,3.0,3.0,3.0,3.0,3.0,3.0,3.0,3.5,3.5,3.5,3.5,3.5,3.5,3.5,3.5,3.5,3.5,3.5,3.5,3.5,3.5,3.5,3.5,3.5,3.5,3.5,3.5,3.5,3.5,3.5,3.5,3.5,3.5,3.5,3.5,3.5,3.5,3.5,3.5,3.5,3.5,3.5,3.5,3.5,3.5,3.5,3.5,3.5,3.5,3.5,3.5,3.5,3.5,3.5,3.5,3.5,3.5,3.5,4.0,4.0,4.0,4.0,4.0,4.0,4.0,4.0,4.0,4.0,4.0,4.0,4.0,4.0,4.0,4.0,4.0,4.0,4.0,4.0,4.0,4.0,4.0,4.0,4.0,4.0,4.0,4.0,4.0,4.0,4.0,4.0,4.0,4.0,4.0,4.0,4.0,4.0,4.0,4.0,4.0,4.0,4.0,4.0,4.0,4.0,4.0,4.0,4.0,4.0,4.0,4.5,4.5,4.5,4.5,4.5,4.5,4.5,4.5,4.5,4.5,4.5,4.5,4.5,4.5,4.5,4.5,4.5,4.5,4.5,4.5,4.5,4.5,4.5,4.5,4.5,4.5,4.5,4.5,4.5,4.5,4.5,4.5,4.5,4.5,4.5,4.5,4.5,4.5,4.5,4.5,4.5,4.5,4.5,4.5,4.5,4.5,4.5,4.5,4.5,4.5,4.5,5.0,5.0,5.0,5.0,5.0,5.0,5.0,5.0,5.0,5.0,5.0,5.0,5.0,5.0,5.0,5.0,5.0,5.0,5.0,5.0,5.0,5.0,5.0,5.0,5.0,5.0,5.0,5.0,5.0,5.0,5.0,5.0,5.0,5.0,5.0,5.0,5.0,5.0,5.0,5.0,5.0,5.0,5.0,5.0,5.0,5.0,5.0,5.0,5.0,5.0,5.0,5.5,5.5,5.5,5.5,5.5,5.5,5.5,5.5,5.5,5.5,5.5,5.5,5.5,5.5,5.5,5.5,5.5,5.5,5.5,5.5,5.5,5.5,5.5,5.5,5.5,5.5,5.5,5.5,5.5,5.5,5.5,5.5,5.5,5.5,5.5,5.5,5.5,5.5,5.5,5.5,5.5,5.5,5.5,5.5,5.5,5.5,5.5,5.5,5.5,5.5,5.5,2.0,2.0,2.0,2.0,2.0,2.0,2.0,2.0,2.0,2.0,2.0,2.0,2.0,2.0,2.0,2.0,2.0,2.0,2.0,2.0,2.0,2.0,2.0,2.0,2.0,2.0,2.0,2.0,2.0,2.0,2.0,2.0,2.0,2.0,2.0,2.0,2.0,2.0,2.0,2.0,2.0,2.0,2.0,2.0,2.0,2.0,2.0,2.0,2.0,2.0,2.0,2.5,2.5,2.5,2.5,2.5,2.5,2.5,2.5,2.5,2.5,2.5,2.5,2.5,2.5,2.5,2.5,2.5,2.5,2.5,2.5,2.5,2.5,2.5,2.5,2.5,2.5,2.5,2.5,2.5,2.5,2.5,2.5,2.5,2.5,2.5,2.5,2.5,2.5,2.5,2.5,2.5,2.5,2.5,2.5,2.5,2.5,2.5,2.5,2.5,2.5,2.5,3.0,3.0,3.0,3.0,3.0,3.0,3.0,3.0,3.0,3.0,3.0,3.0,3.0,3.0,3.0,3.0,3.0,3.0,3.0,3.0,3.0,3.0,3.0,3.0,3.0,3.0,3.0,3.0,3.0,3.0,3.0,3.0,3.0,3.0,3.0,3.0,3.0,3.0,3.0,3.0,3.0,3.0,3.0,3.0,3.0,3.0,3.0,3.0,3.0,3.0,3.0,3.5,3.5,3.5,3.5,3.5,3.5,3.5,3.5,3.5,3.5,3.5,3.5,3.5,3.5,3.5,3.5,3.5,3.5,3.5,3.5,3.5,3.5,3.5,3.5,3.5,3.5,3.5,3.5,3.5,3.5,3.5,3.5,3.5,3.5,3.5,3.5,3.5,3.5,3.5,3.5,3.5,3.5,3.5,3.5,3.5,3.5,3.5,3.5,3.5,3.5,3.5,4.0,4.0,4.0,4.0,4.0,4.0,4.0,4.0,4.0,4.0,4.0,4.0,4.0,4.0,4.0,4.0,4.0,4.0,4.0,4.0,4.0,4.0,4.0,4.0,4.0,4.0,4.0,4.0,4.0,4.0,4.0,4.0,4.0,4.0,4.0,4.0,4.0,4.0,4.0,4.0,4.0,4.0,4.0,4.0,4.0,4.0,4.0,4.0,4.0,4.0,4.0,4.5,4.5,4.5,4.5,4.5,4.5,4.5,4.5,4.5,4.5,4.5,4.5,4.5,4.5,4.5,4.5,4.5,4.5,4.5,4.5,4.5,4.5,4.5,4.5,4.5,4.5,4.5,4.5,4.5,4.5,4.5,4.5,4.5,4.5,4.5,4.5,4.5,4.5,4.5,4.5,4.5,4.5,4.5,4.5,4.5,4.5,4.5,4.5,4.5,4.5,4.5,5.0,5.0,5.0,5.0,5.0,5.0,5.0,5.0,5.0,5.0,5.0,5.0,5.0,5.0,5.0,5.0,5.0,5.0,5.0,5.0,5.0,5.0,5.0,5.0,5.0,5.0,5.0,5.0,5.0,5.0,5.0,5.0,5.0,5.0,5.0,5.0,5.0,5.0,5.0,5.0,5.0,5.0,5.0,5.0,5.0,5.0,5.0,5.0,5.0,5.0,5.0,5.5,5.5,5.5,5.5,5.5,5.5,5.5,5.5,5.5,5.5,5.5,5.5,5.5,5.5,5.5,5.5,5.5,5.5,5.5,5.5,5.5,5.5,5.5,5.5,5.5,5.5,5.5,5.5,5.5,5.5,5.5,5.5,5.5,5.5,5.5,5.5,5.5,5.5,5.5,5.5,5.5,5.5,5.5,5.5,5.5,5.5,5.5,5.5,5.5,5.5,5.5,2.0,2.0,2.0,2.0,2.0,2.0,2.0,2.0,2.0,2.0,2.0,2.0,2.0,2.0,2.0,2.0,2.0,2.0,2.0,2.0,2.0,2.0,2.0,2.0,2.0,2.0,2.0,2.0,2.0,2.0,2.0,2.0,2.0,2.0,2.0,2.0,2.0,2.0,2.0,2.0,2.0,2.0,2.0,2.0,2.0,2.0,2.0,2.0,2.0,2.0,2.0,2.5,2.5,2.5,2.5,2.5,2.5,2.5,2.5,2.5,2.5,2.5,2.5,2.5,2.5,2.5,2.5,2.5,2.5,2.5,2.5,2.5,2.5,2.5,2.5,2.5,2.5,2.5,2.5,2.5,2.5,2.5,2.5,2.5,2.5,2.5,2.5,2.5,2.5,2.5,2.5,2.5,2.5,2.5,2.5,2.5,2.5,2.5,2.5,2.5,2.5,2.5,3.0,3.0,3.0,3.0,3.0,3.0,3.0,3.0,3.0,3.0,3.0,3.0,3.0,3.0,3.0,3.0,3.0,3.0,3.0,3.0,3.0,3.0,3.0,3.0,3.0,3.0,3.0,3.0,3.0,3.0,3.0,3.0,3.0,3.0,3.0,3.0,3.0,3.0,3.0,3.0,3.0,3.0,3.0,3.0,3.0,3.0,3.0,3.0,3.0,3.0,3.0,3.5,3.5,3.5,3.5,3.5,3.5,3.5,3.5,3.5,3.5,3.5,3.5,3.5,3.5,3.5,3.5,3.5,3.5,3.5,3.5,3.5,3.5,3.5,3.5,3.5,3.5,3.5,3.5,3.5,3.5,3.5,3.5,3.5,3.5,3.5,3.5,3.5,3.5,3.5,3.5,3.5,3.5,3.5,3.5,3.5,3.5,3.5,3.5,3.5,3.5,3.5,4.0,4.0,4.0,4.0,4.0,4.0,4.0,4.0,4.0,4.0,4.0,4.0,4.0,4.0,4.0,4.0,4.0,4.0,4.0,4.0,4.0,4.0,4.0,4.0,4.0,4.0,4.0,4.0,4.0,4.0,4.0,4.0,4.0,4.0,4.0,4.0,4.0,4.0,4.0,4.0,4.0,4.0,4.0,4.0,4.0,4.0,4.0,4.0,4.0,4.0,4.0,4.5,4.5,4.5,4.5,4.5,4.5,4.5,4.5,4.5,4.5,4.5,4.5,4.5,4.5,4.5,4.5,4.5,4.5,4.5,4.5,4.5,4.5,4.5,4.5,4.5,4.5,4.5,4.5,4.5,4.5,4.5,4.5,4.5,4.5,4.5,4.5,4.5,4.5,4.5,4.5,4.5,4.5,4.5,4.5,4.5,4.5,4.5,4.5,4.5,4.5,4.5,5.0,5.0,5.0,5.0,5.0,5.0,5.0,5.0,5.0,5.0,5.0,5.0,5.0,5.0,5.0,5.0,5.0,5.0,5.0,5.0,5.0,5.0,5.0,5.0,5.0,5.0,5.0,5.0,5.0,5.0,5.0,5.0,5.0,5.0,5.0,5.0,5.0,5.0,5.0,5.0,5.0,5.0,5.0,5.0,5.0,5.0,5.0,5.0,5.0,5.0,5.0,5.5,5.5,5.5,5.5,5.5,5.5,5.5,5.5,5.5,5.5,5.5,5.5,5.5,5.5,5.5,5.5,5.5,5.5,5.5,5.5,5.5,5.5,5.5,5.5,5.5,5.5,5.5,5.5,5.5,5.5,5.5,5.5,5.5,5.5,5.5,5.5,5.5,5.5,5.5,5.5,5.5,5.5,5.5,5.5,5.5,5.5,5.5,5.5,5.5,5.5,5.5,2.0,2.0,2.0,2.0,2.0,2.0,2.0,2.0,2.0,2.0,2.0,2.0,2.0,2.0,2.0,2.0,2.0,2.0,2.0,2.0,2.0,2.0,2.0,2.0,2.0,2.0,2.0,2.0,2.0,2.0,2.0,2.0,2.0,2.0,2.0,2.0,2.0,2.0,2.0,2.0,2.0,2.0,2.0,2.0,2.0,2.0,2.0,2.0,2.0,2.0,2.0,2.5,2.5,2.5,2.5,2.5,2.5,2.5,2.5,2.5,2.5,2.5,2.5,2.5,2.5,2.5,2.5,2.5,2.5,2.5,2.5,2.5,2.5,2.5,2.5,2.5,2.5,2.5,2.5,2.5,2.5,2.5,2.5,2.5,2.5,2.5,2.5,2.5,2.5,2.5,2.5,2.5,2.5,2.5,2.5,2.5,2.5,2.5,2.5,2.5,2.5,2.5,3.0,3.0,3.0,3.0,3.0,3.0,3.0,3.0,3.0,3.0,3.0,3.0,3.0,3.0,3.0,3.0,3.0,3.0,3.0,3.0,3.0,3.0,3.0,3.0,3.0,3.0,3.0,3.0,3.0,3.0,3.0,3.0,3.0,3.0,3.0,3.0,3.0,3.0,3.0,3.0,3.0,3.0,3.0,3.0,3.0,3.0,3.0,3.0,3.0,3.0,3.0,3.5,3.5,3.5,3.5,3.5,3.5,3.5,3.5,3.5,3.5,3.5,3.5,3.5,3.5,3.5,3.5,3.5,3.5,3.5,3.5,3.5,3.5,3.5,3.5,3.5,3.5,3.5,3.5,3.5,3.5,3.5,3.5,3.5,3.5,3.5,3.5,3.5,3.5,3.5,3.5,3.5,3.5,3.5,3.5,3.5,3.5,3.5,3.5,3.5,3.5,3.5,4.0,4.0,4.0,4.0,4.0,4.0,4.0,4.0,4.0,4.0,4.0,4.0,4.0,4.0,4.0,4.0,4.0,4.0,4.0,4.0,4.0,4.0,4.0,4.0,4.0,4.0,4.0,4.0,4.0,4.0,4.0,4.0,4.0,4.0,4.0,4.0,4.0,4.0,4.0,4.0,4.0,4.0,4.0,4.0,4.0,4.0,4.0,4.0,4.0,4.0,4.0,4.5,4.5,4.5,4.5,4.5,4.5,4.5,4.5,4.5,4.5,4.5,4.5,4.5,4.5,4.5,4.5,4.5,4.5,4.5,4.5,4.5,4.5,4.5,4.5,4.5,4.5,4.5,4.5,4.5,4.5,4.5,4.5,4.5,4.5,4.5,4.5,4.5,4.5,4.5,4.5,4.5,4.5,4.5,4.5,4.5,4.5,4.5,4.5,4.5,4.5,4.5,5.0,5.0,5.0,5.0,5.0,5.0,5.0,5.0,5.0,5.0,5.0,5.0,5.0,5.0,5.0,5.0,5.0,5.0,5.0,5.0,5.0,5.0,5.0,5.0,5.0,5.0,5.0,5.0,5.0,5.0,5.0,5.0,5.0,5.0,5.0,5.0,5.0,5.0,5.0,5.0,5.0,5.0,5.0,5.0,5.0,5.0,5.0,5.0,5.0,5.0,5.0,5.5,5.5,5.5,5.5,5.5,5.5,5.5,5.5,5.5,5.5,5.5,5.5,5.5,5.5,5.5,5.5,5.5,5.5,5.5,5.5,5.5,5.5,5.5,5.5,5.5,5.5,5.5,5.5,5.5,5.5,5.5,5.5,5.5,5.5,5.5,5.5,5.5,5.5,5.5,5.5,5.5,5.5,5.5,5.5,5.5,5.5,5.5,5.5,5.5,5.5,5.5],\"type\":\"scatter3d\"}],                        {\"template\":{\"data\":{\"bar\":[{\"error_x\":{\"color\":\"#2a3f5f\"},\"error_y\":{\"color\":\"#2a3f5f\"},\"marker\":{\"line\":{\"color\":\"#E5ECF6\",\"width\":0.5},\"pattern\":{\"fillmode\":\"overlay\",\"size\":10,\"solidity\":0.2}},\"type\":\"bar\"}],\"barpolar\":[{\"marker\":{\"line\":{\"color\":\"#E5ECF6\",\"width\":0.5},\"pattern\":{\"fillmode\":\"overlay\",\"size\":10,\"solidity\":0.2}},\"type\":\"barpolar\"}],\"carpet\":[{\"aaxis\":{\"endlinecolor\":\"#2a3f5f\",\"gridcolor\":\"white\",\"linecolor\":\"white\",\"minorgridcolor\":\"white\",\"startlinecolor\":\"#2a3f5f\"},\"baxis\":{\"endlinecolor\":\"#2a3f5f\",\"gridcolor\":\"white\",\"linecolor\":\"white\",\"minorgridcolor\":\"white\",\"startlinecolor\":\"#2a3f5f\"},\"type\":\"carpet\"}],\"choropleth\":[{\"colorbar\":{\"outlinewidth\":0,\"ticks\":\"\"},\"type\":\"choropleth\"}],\"contour\":[{\"colorbar\":{\"outlinewidth\":0,\"ticks\":\"\"},\"colorscale\":[[0.0,\"#0d0887\"],[0.1111111111111111,\"#46039f\"],[0.2222222222222222,\"#7201a8\"],[0.3333333333333333,\"#9c179e\"],[0.4444444444444444,\"#bd3786\"],[0.5555555555555556,\"#d8576b\"],[0.6666666666666666,\"#ed7953\"],[0.7777777777777778,\"#fb9f3a\"],[0.8888888888888888,\"#fdca26\"],[1.0,\"#f0f921\"]],\"type\":\"contour\"}],\"contourcarpet\":[{\"colorbar\":{\"outlinewidth\":0,\"ticks\":\"\"},\"type\":\"contourcarpet\"}],\"heatmap\":[{\"colorbar\":{\"outlinewidth\":0,\"ticks\":\"\"},\"colorscale\":[[0.0,\"#0d0887\"],[0.1111111111111111,\"#46039f\"],[0.2222222222222222,\"#7201a8\"],[0.3333333333333333,\"#9c179e\"],[0.4444444444444444,\"#bd3786\"],[0.5555555555555556,\"#d8576b\"],[0.6666666666666666,\"#ed7953\"],[0.7777777777777778,\"#fb9f3a\"],[0.8888888888888888,\"#fdca26\"],[1.0,\"#f0f921\"]],\"type\":\"heatmap\"}],\"heatmapgl\":[{\"colorbar\":{\"outlinewidth\":0,\"ticks\":\"\"},\"colorscale\":[[0.0,\"#0d0887\"],[0.1111111111111111,\"#46039f\"],[0.2222222222222222,\"#7201a8\"],[0.3333333333333333,\"#9c179e\"],[0.4444444444444444,\"#bd3786\"],[0.5555555555555556,\"#d8576b\"],[0.6666666666666666,\"#ed7953\"],[0.7777777777777778,\"#fb9f3a\"],[0.8888888888888888,\"#fdca26\"],[1.0,\"#f0f921\"]],\"type\":\"heatmapgl\"}],\"histogram\":[{\"marker\":{\"pattern\":{\"fillmode\":\"overlay\",\"size\":10,\"solidity\":0.2}},\"type\":\"histogram\"}],\"histogram2d\":[{\"colorbar\":{\"outlinewidth\":0,\"ticks\":\"\"},\"colorscale\":[[0.0,\"#0d0887\"],[0.1111111111111111,\"#46039f\"],[0.2222222222222222,\"#7201a8\"],[0.3333333333333333,\"#9c179e\"],[0.4444444444444444,\"#bd3786\"],[0.5555555555555556,\"#d8576b\"],[0.6666666666666666,\"#ed7953\"],[0.7777777777777778,\"#fb9f3a\"],[0.8888888888888888,\"#fdca26\"],[1.0,\"#f0f921\"]],\"type\":\"histogram2d\"}],\"histogram2dcontour\":[{\"colorbar\":{\"outlinewidth\":0,\"ticks\":\"\"},\"colorscale\":[[0.0,\"#0d0887\"],[0.1111111111111111,\"#46039f\"],[0.2222222222222222,\"#7201a8\"],[0.3333333333333333,\"#9c179e\"],[0.4444444444444444,\"#bd3786\"],[0.5555555555555556,\"#d8576b\"],[0.6666666666666666,\"#ed7953\"],[0.7777777777777778,\"#fb9f3a\"],[0.8888888888888888,\"#fdca26\"],[1.0,\"#f0f921\"]],\"type\":\"histogram2dcontour\"}],\"mesh3d\":[{\"colorbar\":{\"outlinewidth\":0,\"ticks\":\"\"},\"type\":\"mesh3d\"}],\"parcoords\":[{\"line\":{\"colorbar\":{\"outlinewidth\":0,\"ticks\":\"\"}},\"type\":\"parcoords\"}],\"pie\":[{\"automargin\":true,\"type\":\"pie\"}],\"scatter\":[{\"marker\":{\"colorbar\":{\"outlinewidth\":0,\"ticks\":\"\"}},\"type\":\"scatter\"}],\"scatter3d\":[{\"line\":{\"colorbar\":{\"outlinewidth\":0,\"ticks\":\"\"}},\"marker\":{\"colorbar\":{\"outlinewidth\":0,\"ticks\":\"\"}},\"type\":\"scatter3d\"}],\"scattercarpet\":[{\"marker\":{\"colorbar\":{\"outlinewidth\":0,\"ticks\":\"\"}},\"type\":\"scattercarpet\"}],\"scattergeo\":[{\"marker\":{\"colorbar\":{\"outlinewidth\":0,\"ticks\":\"\"}},\"type\":\"scattergeo\"}],\"scattergl\":[{\"marker\":{\"colorbar\":{\"outlinewidth\":0,\"ticks\":\"\"}},\"type\":\"scattergl\"}],\"scattermapbox\":[{\"marker\":{\"colorbar\":{\"outlinewidth\":0,\"ticks\":\"\"}},\"type\":\"scattermapbox\"}],\"scatterpolar\":[{\"marker\":{\"colorbar\":{\"outlinewidth\":0,\"ticks\":\"\"}},\"type\":\"scatterpolar\"}],\"scatterpolargl\":[{\"marker\":{\"colorbar\":{\"outlinewidth\":0,\"ticks\":\"\"}},\"type\":\"scatterpolargl\"}],\"scatterternary\":[{\"marker\":{\"colorbar\":{\"outlinewidth\":0,\"ticks\":\"\"}},\"type\":\"scatterternary\"}],\"surface\":[{\"colorbar\":{\"outlinewidth\":0,\"ticks\":\"\"},\"colorscale\":[[0.0,\"#0d0887\"],[0.1111111111111111,\"#46039f\"],[0.2222222222222222,\"#7201a8\"],[0.3333333333333333,\"#9c179e\"],[0.4444444444444444,\"#bd3786\"],[0.5555555555555556,\"#d8576b\"],[0.6666666666666666,\"#ed7953\"],[0.7777777777777778,\"#fb9f3a\"],[0.8888888888888888,\"#fdca26\"],[1.0,\"#f0f921\"]],\"type\":\"surface\"}],\"table\":[{\"cells\":{\"fill\":{\"color\":\"#EBF0F8\"},\"line\":{\"color\":\"white\"}},\"header\":{\"fill\":{\"color\":\"#C8D4E3\"},\"line\":{\"color\":\"white\"}},\"type\":\"table\"}]},\"layout\":{\"annotationdefaults\":{\"arrowcolor\":\"#2a3f5f\",\"arrowhead\":0,\"arrowwidth\":1},\"autotypenumbers\":\"strict\",\"coloraxis\":{\"colorbar\":{\"outlinewidth\":0,\"ticks\":\"\"}},\"colorscale\":{\"diverging\":[[0,\"#8e0152\"],[0.1,\"#c51b7d\"],[0.2,\"#de77ae\"],[0.3,\"#f1b6da\"],[0.4,\"#fde0ef\"],[0.5,\"#f7f7f7\"],[0.6,\"#e6f5d0\"],[0.7,\"#b8e186\"],[0.8,\"#7fbc41\"],[0.9,\"#4d9221\"],[1,\"#276419\"]],\"sequential\":[[0.0,\"#0d0887\"],[0.1111111111111111,\"#46039f\"],[0.2222222222222222,\"#7201a8\"],[0.3333333333333333,\"#9c179e\"],[0.4444444444444444,\"#bd3786\"],[0.5555555555555556,\"#d8576b\"],[0.6666666666666666,\"#ed7953\"],[0.7777777777777778,\"#fb9f3a\"],[0.8888888888888888,\"#fdca26\"],[1.0,\"#f0f921\"]],\"sequentialminus\":[[0.0,\"#0d0887\"],[0.1111111111111111,\"#46039f\"],[0.2222222222222222,\"#7201a8\"],[0.3333333333333333,\"#9c179e\"],[0.4444444444444444,\"#bd3786\"],[0.5555555555555556,\"#d8576b\"],[0.6666666666666666,\"#ed7953\"],[0.7777777777777778,\"#fb9f3a\"],[0.8888888888888888,\"#fdca26\"],[1.0,\"#f0f921\"]]},\"colorway\":[\"#636efa\",\"#EF553B\",\"#00cc96\",\"#ab63fa\",\"#FFA15A\",\"#19d3f3\",\"#FF6692\",\"#B6E880\",\"#FF97FF\",\"#FECB52\"],\"font\":{\"color\":\"#2a3f5f\"},\"geo\":{\"bgcolor\":\"white\",\"lakecolor\":\"white\",\"landcolor\":\"#E5ECF6\",\"showlakes\":true,\"showland\":true,\"subunitcolor\":\"white\"},\"hoverlabel\":{\"align\":\"left\"},\"hovermode\":\"closest\",\"mapbox\":{\"style\":\"light\"},\"paper_bgcolor\":\"white\",\"plot_bgcolor\":\"#E5ECF6\",\"polar\":{\"angularaxis\":{\"gridcolor\":\"white\",\"linecolor\":\"white\",\"ticks\":\"\"},\"bgcolor\":\"#E5ECF6\",\"radialaxis\":{\"gridcolor\":\"white\",\"linecolor\":\"white\",\"ticks\":\"\"}},\"scene\":{\"xaxis\":{\"backgroundcolor\":\"#E5ECF6\",\"gridcolor\":\"white\",\"gridwidth\":2,\"linecolor\":\"white\",\"showbackground\":true,\"ticks\":\"\",\"zerolinecolor\":\"white\"},\"yaxis\":{\"backgroundcolor\":\"#E5ECF6\",\"gridcolor\":\"white\",\"gridwidth\":2,\"linecolor\":\"white\",\"showbackground\":true,\"ticks\":\"\",\"zerolinecolor\":\"white\"},\"zaxis\":{\"backgroundcolor\":\"#E5ECF6\",\"gridcolor\":\"white\",\"gridwidth\":2,\"linecolor\":\"white\",\"showbackground\":true,\"ticks\":\"\",\"zerolinecolor\":\"white\"}},\"shapedefaults\":{\"line\":{\"color\":\"#2a3f5f\"}},\"ternary\":{\"aaxis\":{\"gridcolor\":\"white\",\"linecolor\":\"white\",\"ticks\":\"\"},\"baxis\":{\"gridcolor\":\"white\",\"linecolor\":\"white\",\"ticks\":\"\"},\"bgcolor\":\"#E5ECF6\",\"caxis\":{\"gridcolor\":\"white\",\"linecolor\":\"white\",\"ticks\":\"\"}},\"title\":{\"x\":0.05},\"xaxis\":{\"automargin\":true,\"gridcolor\":\"white\",\"linecolor\":\"white\",\"ticks\":\"\",\"title\":{\"standoff\":15},\"zerolinecolor\":\"white\",\"zerolinewidth\":2},\"yaxis\":{\"automargin\":true,\"gridcolor\":\"white\",\"linecolor\":\"white\",\"ticks\":\"\",\"title\":{\"standoff\":15},\"zerolinecolor\":\"white\",\"zerolinewidth\":2}}},\"scene\":{\"domain\":{\"x\":[0.0,1.0],\"y\":[0.0,1.0]},\"xaxis\":{\"title\":{\"text\":\"vwma_length\"}},\"yaxis\":{\"title\":{\"text\":\"atr_length\"}},\"zaxis\":{\"title\":{\"text\":\"multiplier\"}}},\"coloraxis\":{\"colorbar\":{\"title\":{\"text\":\"cumulative_performance\"}},\"colorscale\":[[0.0,\"#0d0887\"],[0.1111111111111111,\"#46039f\"],[0.2222222222222222,\"#7201a8\"],[0.3333333333333333,\"#9c179e\"],[0.4444444444444444,\"#bd3786\"],[0.5555555555555556,\"#d8576b\"],[0.6666666666666666,\"#ed7953\"],[0.7777777777777778,\"#fb9f3a\"],[0.8888888888888888,\"#fdca26\"],[1.0,\"#f0f921\"]]},\"legend\":{\"tracegroupgap\":0},\"title\":{\"text\":\"Performances p\\u00e9riode 2006-2001. Supertrend + VWMA\"}},                        {\"responsive\": true}                    ).then(function(){\n",
              "                            \n",
              "var gd = document.getElementById('a84f84be-b2de-4168-baa8-87cebf3fe564');\n",
              "var x = new MutationObserver(function (mutations, observer) {{\n",
              "        var display = window.getComputedStyle(gd).display;\n",
              "        if (!display || display === 'none') {{\n",
              "            console.log([gd, 'removed!']);\n",
              "            Plotly.purge(gd);\n",
              "            observer.disconnect();\n",
              "        }}\n",
              "}});\n",
              "\n",
              "// Listen for the removal of the full notebook cells\n",
              "var notebookContainer = gd.closest('#notebook-container');\n",
              "if (notebookContainer) {{\n",
              "    x.observe(notebookContainer, {childList: true});\n",
              "}}\n",
              "\n",
              "// Listen for the clearing of the current output cell\n",
              "var outputEl = gd.closest('.output');\n",
              "if (outputEl) {{\n",
              "    x.observe(outputEl, {childList: true});\n",
              "}}\n",
              "\n",
              "                        })                };                            </script>        </div>\n",
              "</body>\n",
              "</html>"
            ]
          },
          "metadata": {}
        }
      ]
    },
    {
      "cell_type": "code",
      "source": [
        "df_multi_ST.sort_values(by=[\"cumulative_performance\"], ascending=False).head(20)"
      ],
      "metadata": {
        "id": "JZhBOLpe7A4p",
        "outputId": "897f46ea-c648-4971-fd58-30e1cf0d2c51",
        "colab": {
          "base_uri": "https://localhost:8080/",
          "height": 677
        }
      },
      "execution_count": null,
      "outputs": [
        {
          "output_type": "execute_result",
          "data": {
            "text/plain": [
              "      atr_length  multiplier  vwma_length  cumulative_performance\n",
              "2240          60         3.5           21                 3008.06\n",
              "2241          61         3.5           21                 2960.96\n",
              "2242          62         3.5           21                 2933.14\n",
              "2235          55         3.5           21                 2905.59\n",
              "2233          53         3.5           21                 2861.98\n",
              "2237          57         3.5           21                 2790.41\n",
              "2236          56         3.5           21                 2790.41\n",
              "2214          34         3.5           21                 2777.08\n",
              "2239          59         3.5           21                 2768.34\n",
              "2238          58         3.5           21                 2768.34\n",
              "5133          78         4.0           70                 2642.12\n",
              "2234          54         3.5           21                 2627.06\n",
              "2232          52         3.5           21                 2621.46\n",
              "2373          78         4.0           21                 2601.67\n",
              "2230          50         3.5           21                 2565.59\n",
              "2231          51         3.5           21                 2565.59\n",
              "2228          48         3.5           21                 2535.29\n",
              "2227          47         3.5           21                 2535.29\n",
              "2226          46         3.5           21                 2535.29\n",
              "2229          49         3.5           21                 2535.29"
            ],
            "text/html": [
              "\n",
              "  <div id=\"df-3dd98925-5f4c-4358-af44-c4aff703501f\">\n",
              "    <div class=\"colab-df-container\">\n",
              "      <div>\n",
              "<style scoped>\n",
              "    .dataframe tbody tr th:only-of-type {\n",
              "        vertical-align: middle;\n",
              "    }\n",
              "\n",
              "    .dataframe tbody tr th {\n",
              "        vertical-align: top;\n",
              "    }\n",
              "\n",
              "    .dataframe thead th {\n",
              "        text-align: right;\n",
              "    }\n",
              "</style>\n",
              "<table border=\"1\" class=\"dataframe\">\n",
              "  <thead>\n",
              "    <tr style=\"text-align: right;\">\n",
              "      <th></th>\n",
              "      <th>atr_length</th>\n",
              "      <th>multiplier</th>\n",
              "      <th>vwma_length</th>\n",
              "      <th>cumulative_performance</th>\n",
              "    </tr>\n",
              "  </thead>\n",
              "  <tbody>\n",
              "    <tr>\n",
              "      <th>2240</th>\n",
              "      <td>60</td>\n",
              "      <td>3.5</td>\n",
              "      <td>21</td>\n",
              "      <td>3008.06</td>\n",
              "    </tr>\n",
              "    <tr>\n",
              "      <th>2241</th>\n",
              "      <td>61</td>\n",
              "      <td>3.5</td>\n",
              "      <td>21</td>\n",
              "      <td>2960.96</td>\n",
              "    </tr>\n",
              "    <tr>\n",
              "      <th>2242</th>\n",
              "      <td>62</td>\n",
              "      <td>3.5</td>\n",
              "      <td>21</td>\n",
              "      <td>2933.14</td>\n",
              "    </tr>\n",
              "    <tr>\n",
              "      <th>2235</th>\n",
              "      <td>55</td>\n",
              "      <td>3.5</td>\n",
              "      <td>21</td>\n",
              "      <td>2905.59</td>\n",
              "    </tr>\n",
              "    <tr>\n",
              "      <th>2233</th>\n",
              "      <td>53</td>\n",
              "      <td>3.5</td>\n",
              "      <td>21</td>\n",
              "      <td>2861.98</td>\n",
              "    </tr>\n",
              "    <tr>\n",
              "      <th>2237</th>\n",
              "      <td>57</td>\n",
              "      <td>3.5</td>\n",
              "      <td>21</td>\n",
              "      <td>2790.41</td>\n",
              "    </tr>\n",
              "    <tr>\n",
              "      <th>2236</th>\n",
              "      <td>56</td>\n",
              "      <td>3.5</td>\n",
              "      <td>21</td>\n",
              "      <td>2790.41</td>\n",
              "    </tr>\n",
              "    <tr>\n",
              "      <th>2214</th>\n",
              "      <td>34</td>\n",
              "      <td>3.5</td>\n",
              "      <td>21</td>\n",
              "      <td>2777.08</td>\n",
              "    </tr>\n",
              "    <tr>\n",
              "      <th>2239</th>\n",
              "      <td>59</td>\n",
              "      <td>3.5</td>\n",
              "      <td>21</td>\n",
              "      <td>2768.34</td>\n",
              "    </tr>\n",
              "    <tr>\n",
              "      <th>2238</th>\n",
              "      <td>58</td>\n",
              "      <td>3.5</td>\n",
              "      <td>21</td>\n",
              "      <td>2768.34</td>\n",
              "    </tr>\n",
              "    <tr>\n",
              "      <th>5133</th>\n",
              "      <td>78</td>\n",
              "      <td>4.0</td>\n",
              "      <td>70</td>\n",
              "      <td>2642.12</td>\n",
              "    </tr>\n",
              "    <tr>\n",
              "      <th>2234</th>\n",
              "      <td>54</td>\n",
              "      <td>3.5</td>\n",
              "      <td>21</td>\n",
              "      <td>2627.06</td>\n",
              "    </tr>\n",
              "    <tr>\n",
              "      <th>2232</th>\n",
              "      <td>52</td>\n",
              "      <td>3.5</td>\n",
              "      <td>21</td>\n",
              "      <td>2621.46</td>\n",
              "    </tr>\n",
              "    <tr>\n",
              "      <th>2373</th>\n",
              "      <td>78</td>\n",
              "      <td>4.0</td>\n",
              "      <td>21</td>\n",
              "      <td>2601.67</td>\n",
              "    </tr>\n",
              "    <tr>\n",
              "      <th>2230</th>\n",
              "      <td>50</td>\n",
              "      <td>3.5</td>\n",
              "      <td>21</td>\n",
              "      <td>2565.59</td>\n",
              "    </tr>\n",
              "    <tr>\n",
              "      <th>2231</th>\n",
              "      <td>51</td>\n",
              "      <td>3.5</td>\n",
              "      <td>21</td>\n",
              "      <td>2565.59</td>\n",
              "    </tr>\n",
              "    <tr>\n",
              "      <th>2228</th>\n",
              "      <td>48</td>\n",
              "      <td>3.5</td>\n",
              "      <td>21</td>\n",
              "      <td>2535.29</td>\n",
              "    </tr>\n",
              "    <tr>\n",
              "      <th>2227</th>\n",
              "      <td>47</td>\n",
              "      <td>3.5</td>\n",
              "      <td>21</td>\n",
              "      <td>2535.29</td>\n",
              "    </tr>\n",
              "    <tr>\n",
              "      <th>2226</th>\n",
              "      <td>46</td>\n",
              "      <td>3.5</td>\n",
              "      <td>21</td>\n",
              "      <td>2535.29</td>\n",
              "    </tr>\n",
              "    <tr>\n",
              "      <th>2229</th>\n",
              "      <td>49</td>\n",
              "      <td>3.5</td>\n",
              "      <td>21</td>\n",
              "      <td>2535.29</td>\n",
              "    </tr>\n",
              "  </tbody>\n",
              "</table>\n",
              "</div>\n",
              "      <button class=\"colab-df-convert\" onclick=\"convertToInteractive('df-3dd98925-5f4c-4358-af44-c4aff703501f')\"\n",
              "              title=\"Convert this dataframe to an interactive table.\"\n",
              "              style=\"display:none;\">\n",
              "        \n",
              "  <svg xmlns=\"http://www.w3.org/2000/svg\" height=\"24px\"viewBox=\"0 0 24 24\"\n",
              "       width=\"24px\">\n",
              "    <path d=\"M0 0h24v24H0V0z\" fill=\"none\"/>\n",
              "    <path d=\"M18.56 5.44l.94 2.06.94-2.06 2.06-.94-2.06-.94-.94-2.06-.94 2.06-2.06.94zm-11 1L8.5 8.5l.94-2.06 2.06-.94-2.06-.94L8.5 2.5l-.94 2.06-2.06.94zm10 10l.94 2.06.94-2.06 2.06-.94-2.06-.94-.94-2.06-.94 2.06-2.06.94z\"/><path d=\"M17.41 7.96l-1.37-1.37c-.4-.4-.92-.59-1.43-.59-.52 0-1.04.2-1.43.59L10.3 9.45l-7.72 7.72c-.78.78-.78 2.05 0 2.83L4 21.41c.39.39.9.59 1.41.59.51 0 1.02-.2 1.41-.59l7.78-7.78 2.81-2.81c.8-.78.8-2.07 0-2.86zM5.41 20L4 18.59l7.72-7.72 1.47 1.35L5.41 20z\"/>\n",
              "  </svg>\n",
              "      </button>\n",
              "      \n",
              "  <style>\n",
              "    .colab-df-container {\n",
              "      display:flex;\n",
              "      flex-wrap:wrap;\n",
              "      gap: 12px;\n",
              "    }\n",
              "\n",
              "    .colab-df-convert {\n",
              "      background-color: #E8F0FE;\n",
              "      border: none;\n",
              "      border-radius: 50%;\n",
              "      cursor: pointer;\n",
              "      display: none;\n",
              "      fill: #1967D2;\n",
              "      height: 32px;\n",
              "      padding: 0 0 0 0;\n",
              "      width: 32px;\n",
              "    }\n",
              "\n",
              "    .colab-df-convert:hover {\n",
              "      background-color: #E2EBFA;\n",
              "      box-shadow: 0px 1px 2px rgba(60, 64, 67, 0.3), 0px 1px 3px 1px rgba(60, 64, 67, 0.15);\n",
              "      fill: #174EA6;\n",
              "    }\n",
              "\n",
              "    [theme=dark] .colab-df-convert {\n",
              "      background-color: #3B4455;\n",
              "      fill: #D2E3FC;\n",
              "    }\n",
              "\n",
              "    [theme=dark] .colab-df-convert:hover {\n",
              "      background-color: #434B5C;\n",
              "      box-shadow: 0px 1px 3px 1px rgba(0, 0, 0, 0.15);\n",
              "      filter: drop-shadow(0px 1px 2px rgba(0, 0, 0, 0.3));\n",
              "      fill: #FFFFFF;\n",
              "    }\n",
              "  </style>\n",
              "\n",
              "      <script>\n",
              "        const buttonEl =\n",
              "          document.querySelector('#df-3dd98925-5f4c-4358-af44-c4aff703501f button.colab-df-convert');\n",
              "        buttonEl.style.display =\n",
              "          google.colab.kernel.accessAllowed ? 'block' : 'none';\n",
              "\n",
              "        async function convertToInteractive(key) {\n",
              "          const element = document.querySelector('#df-3dd98925-5f4c-4358-af44-c4aff703501f');\n",
              "          const dataTable =\n",
              "            await google.colab.kernel.invokeFunction('convertToInteractive',\n",
              "                                                     [key], {});\n",
              "          if (!dataTable) return;\n",
              "\n",
              "          const docLinkHtml = 'Like what you see? Visit the ' +\n",
              "            '<a target=\"_blank\" href=https://colab.research.google.com/notebooks/data_table.ipynb>data table notebook</a>'\n",
              "            + ' to learn more about interactive tables.';\n",
              "          element.innerHTML = '';\n",
              "          dataTable['output_type'] = 'display_data';\n",
              "          await google.colab.output.renderOutput(dataTable, element);\n",
              "          const docLink = document.createElement('div');\n",
              "          docLink.innerHTML = docLinkHtml;\n",
              "          element.appendChild(docLink);\n",
              "        }\n",
              "      </script>\n",
              "    </div>\n",
              "  </div>\n",
              "  "
            ]
          },
          "metadata": {},
          "execution_count": 52
        }
      ]
    },
    {
      "cell_type": "code",
      "source": [
        "fig = px.scatter_3d(df_multi_ST, x='vwma_length', y='atr_length', z='multiplier',\n",
        "              color='cumulative_performance', title=\"Performances période 2006-2022. Supertrend + VWMA\")\n",
        "fig.show()"
      ],
      "metadata": {
        "colab": {
          "base_uri": "https://localhost:8080/",
          "height": 542
        },
        "id": "VUc9MqPe3tQo",
        "outputId": "746053d3-7b2b-4817-bfa5-f7972a086881"
      },
      "execution_count": null,
      "outputs": [
        {
          "output_type": "display_data",
          "data": {
            "text/html": [
              "<html>\n",
              "<head><meta charset=\"utf-8\" /></head>\n",
              "<body>\n",
              "    <div>            <script src=\"https://cdnjs.cloudflare.com/ajax/libs/mathjax/2.7.5/MathJax.js?config=TeX-AMS-MML_SVG\"></script><script type=\"text/javascript\">if (window.MathJax) {MathJax.Hub.Config({SVG: {font: \"STIX-Web\"}});}</script>                <script type=\"text/javascript\">window.PlotlyConfig = {MathJaxConfig: 'local'};</script>\n",
              "        <script src=\"https://cdn.plot.ly/plotly-2.8.3.min.js\"></script>                <div id=\"7996ffb0-cb2a-4035-b3c4-857c7ced63fb\" class=\"plotly-graph-div\" style=\"height:525px; width:100%;\"></div>            <script type=\"text/javascript\">                                    window.PLOTLYENV=window.PLOTLYENV || {};                                    if (document.getElementById(\"7996ffb0-cb2a-4035-b3c4-857c7ced63fb\")) {                    Plotly.newPlot(                        \"7996ffb0-cb2a-4035-b3c4-857c7ced63fb\",                        [{\"hovertemplate\":\"vwma_length=%{x}<br>atr_length=%{y}<br>multiplier=%{z}<br>cumulative_performance=%{marker.color}<extra></extra>\",\"legendgroup\":\"\",\"marker\":{\"color\":[294.95,405.68,395.84,350.83,454.04,428.89,245.07,268.79,149.92,187.81,190.69,221.63,211.68,269.59,243.24,215.78,235.53,256.58,264.01,215.56,212.69,212.69,257.48,224.93,252.15,273.98,273.72,278.81,278.81,311.9,311.9,351.59,391.95,392.54,382.51,373.06,372.96,377.83,387.27,387.27,382.3,402.4,531.68,527.52,514.87,508.53,503.24,554.51,476.78,442.18,446.93,468.38,432.76,456.7,468.06,468.06,439.66,397.71,397.71,394.8,369.64,296.18,305.32,305.32,305.32,292.65,292.65,288.84,266.24,275.55,272.23,272.23,254.84,295.38,311.81,311.81,320.39,334.54,339.07,343.06,334.11,313.25,321.77,304.25,308.42,308.42,316.93,324.95,339.11,352.84,316.61,316.61,333.32,333.32,328.81,314.95,266.43,237.12,237.12,244.37,255.24,281.74,312.69,312.69,312.69,338.79,342.75,351.69,351.69,351.69,351.69,351.79,347.32,329.89,329.89,743.21,531.54,417.92,397.69,505.69,544.36,557.78,520.47,529.17,506.13,431.75,579.36,502.82,448.17,412.42,371.17,260.1,221.79,302.16,333.02,341.51,418.9,371.76,412.42,412.42,404.65,421.91,393.29,344.16,353.13,449.54,372.56,394.36,394.36,370.15,390.7,390.7,361.16,317.87,331.03,346.04,346.04,373.35,388.4,378.43,340.36,355.64,360.25,369.11,369.11,369.11,429.13,429.13,439.12,439.12,420.15,419.41,346.18,341.48,328.63,336.28,329.21,338.06,346.24,355.45,361.79,371.32,380.56,385.41,350.85,374.74,384.52,394.94,394.94,405.7,405.7,375.36,375.36,377.18,369.98,385.35,535.8,535.8,535.8,569.84,562.71,562.71,490.23,501.87,520.35,506.72,517.62,523.99,600.99,608.87,616.41,616.41,616.41,616.41,670.33,670.33,678.35,678.35,718.07,727.16,735.95,760.78,760.78,760.78,823.4,823.4,853.0,844.04,858.45,877.62,398.89,470.5,645.53,666.83,873.37,617.64,656.06,673.05,734.64,777.87,687.4,764.32,1287.75,1072.88,969.89,945.7,951.84,1041.18,1113.06,1241.08,1189.79,1237.86,1529.71,1564.75,1535.18,1568.73,1144.12,854.05,854.05,854.05,894.88,776.14,723.57,732.33,736.79,728.07,736.35,763.73,866.75,852.1,821.64,751.9,798.11,819.16,860.47,779.33,779.33,848.49,1011.91,904.93,904.93,1000.13,1085.25,1085.25,1025.98,1038.22,1038.22,1039.84,891.66,872.21,777.84,815.59,815.59,815.59,666.35,701.58,725.39,760.52,760.52,769.12,717.2,717.2,711.06,765.74,787.85,796.47,861.88,861.88,881.32,992.37,1061.6,984.16,898.1,889.57,918.63,918.63,939.63,852.49,852.49,864.56,826.4,826.4,826.4,826.4,826.4,826.4,826.4,826.4,752.29,655.53,672.23,672.23,610.45,624.52,566.43,597.17,619.98,619.98,627.72,627.72,622.21,549.99,538.28,551.86,551.86,629.63,695.77,689.4,773.81,966.4,1059.63,1141.88,1191.71,1002.92,969.63,892.51,899.42,1231.39,965.43,865.96,855.9,865.56,797.97,851.93,762.62,728.96,966.55,1159.8,1159.8,1115.24,1266.29,1266.29,1294.46,1950.85,1689.04,1511.27,1511.36,1347.24,1327.13,1244.08,1254.34,1283.47,1470.69,1470.69,1523.73,1506.81,1556.13,1556.13,1315.82,1315.82,1317.02,1317.02,1346.73,1462.57,1338.63,1485.57,1491.77,1491.77,1479.62,1479.62,1611.63,1585.69,1537.62,1553.99,1223.23,1223.23,1413.52,1124.83,1124.83,1124.83,1124.83,1137.33,1146.77,968.45,854.81,807.07,807.07,807.07,807.07,833.75,904.8,882.22,891.94,891.94,891.94,942.42,942.42,854.39,892.2,902.87,902.87,913.65,913.65,913.65,990.2,990.2,1004.19,924.46,903.97,903.97,996.78,1026.97,1026.97,1026.97,958.5,958.5,871.1,871.1,893.43,893.43,911.66,866.01,905.9,905.9,775.14,676.44,676.44,662.45,662.45,662.45,439.42,506.45,688.08,577.81,654.36,638.01,545.06,680.94,638.11,683.25,639.73,830.12,843.95,897.98,870.51,880.94,946.49,810.45,806.65,847.71,829.06,1218.86,1274.75,1108.49,1108.49,1200.15,1203.7,1287.81,1287.81,1239.54,1129.45,1118.72,1132.73,1262.74,1172.21,1222.04,1233.74,1238.63,1238.63,1269.76,1165.73,1185.2,1253.88,1229.69,810.33,818.04,811.08,840.16,899.03,910.26,778.92,794.9,794.9,838.63,838.63,838.63,866.36,847.41,882.58,930.6,930.6,963.03,974.46,1428.48,1428.48,1440.23,1445.01,1445.01,1445.01,1182.36,1142.13,1142.13,1221.41,1343.56,1321.69,1176.89,1176.89,1199.93,1199.93,1186.54,1159.45,1049.73,1049.73,1049.73,1062.1,1062.1,1062.1,1062.1,1062.1,1161.76,1161.76,1161.76,1161.76,1199.62,1030.78,1050.97,1050.97,1077.58,1077.58,1202.01,1202.01,1256.83,1423.57,1423.57,1423.57,1449.39,1449.39,1449.39,1449.39,1461.31,1461.31,1507.41,1527.76,1527.76,1527.76,375.86,326.15,279.49,378.83,395.63,508.01,473.02,686.44,759.92,738.18,768.34,895.5,872.53,853.98,923.29,1077.85,909.33,919.45,910.88,882.85,853.36,846.08,873.97,873.97,881.46,927.77,959.77,959.77,848.97,859.06,888.94,888.94,881.51,881.51,997.75,1256.77,1080.39,1129.82,1121.72,1134.86,1133.17,1133.17,1142.66,1142.66,1142.66,1143.51,1209.66,1249.98,1138.55,1138.55,1138.55,1138.55,1156.18,1156.18,1156.18,1169.55,1371.69,1342.55,1042.64,1079.0,1079.0,1091.96,1091.96,1193.28,1221.77,1221.77,1244.37,1244.37,1186.97,1186.97,1350.49,1350.49,1350.49,1350.49,1350.49,1350.49,1372.81,1419.17,1419.17,1423.44,928.81,939.31,978.97,962.63,1005.77,1005.77,1056.03,1056.03,1056.03,1129.82,1143.64,1143.64,1134.15,1134.15,1134.15,1134.15,1057.5,907.02,907.02,942.99,942.99,942.99,976.63,960.32,960.32,978.6,1039.89,964.06,984.92,984.92,984.92,1004.47,985.75,985.75,985.75,150.96,356.76,493.3,459.92,491.18,496.21,589.21,644.06,631.69,702.76,850.13,830.54,781.7,731.75,756.46,699.33,731.2,740.24,829.38,625.71,603.5,540.4,528.0,547.69,552.36,459.16,459.16,475.99,475.99,464.3,481.22,481.22,491.11,495.62,562.19,575.45,575.45,590.14,590.14,608.96,601.5,596.15,630.1,630.1,638.3,630.45,624.84,524.55,558.13,558.13,588.04,608.16,608.16,758.55,646.94,646.94,646.94,631.69,922.82,912.17,919.89,1036.76,1001.6,1013.44,1028.44,1028.44,1028.44,1069.11,1069.11,1079.55,1129.21,1129.21,1138.59,1148.12,1148.12,1148.12,1148.12,1148.12,1102.73,1283.68,1254.55,1283.99,1283.99,1308.27,1323.42,1350.02,1350.02,1381.21,1396.96,1527.34,1515.01,1515.01,1320.96,1320.96,1198.37,1212.18,1080.82,1080.82,950.93,1010.41,1010.41,1010.41,1010.41,1031.97,1023.4,1043.46,1043.46,1043.46,1043.46,1009.16,1009.16,1009.16,989.7,998.02,998.02,630.21,496.04,517.66,499.01,514.83,514.83,431.56,506.43,518.32,461.3,487.35,473.75,614.17,673.67,741.87,758.35,763.28,788.63,788.63,778.03,760.14,764.4,784.05,765.68,785.35,792.16,786.7,809.72,690.48,603.53,634.2,666.92,630.4,611.51,798.05,957.12,978.05,958.39,740.49,700.16,697.83,607.49,445.61,445.61,449.8,426.7,480.63,480.63,511.85,511.85,661.41,661.41,667.27,682.02,703.35,703.35,703.35,717.37,726.07,717.46,723.71,723.71,723.71,731.26,731.26,740.4,749.43,742.95,752.42,752.42,563.73,637.48,637.48,637.48,626.39,626.39,632.87,641.11,641.11,683.21,680.49,680.49,680.49,680.74,697.71,594.01,594.01,594.01,594.01,638.31,664.97,670.81,852.69,852.69,852.69,852.69,852.69,852.69,906.62,906.62,949.0,949.0,949.0,1074.29,1074.29,1095.26,1287.35,1370.59,1370.59,1370.59,1381.82,1381.82,1386.8,1386.8,1386.8,325.5,428.12,423.07,413.81,531.45,502.78,395.36,413.21,319.02,377.73,363.35,417.84,352.74,431.19,393.32,349.18,397.16,428.35,439.59,367.77,363.51,363.51,398.38,353.0,390.96,421.38,421.02,428.12,428.12,474.25,474.25,529.58,585.85,586.68,572.69,594.23,566.32,566.32,579.48,790.11,790.11,836.76,846.42,840.19,821.23,821.23,813.22,911.05,755.35,669.82,676.57,691.8,642.17,675.52,691.85,691.85,652.26,607.12,607.12,602.99,567.25,462.87,475.86,475.86,475.86,457.87,457.87,452.45,420.34,433.57,428.85,428.85,404.14,456.48,479.61,479.61,491.69,500.78,507.04,512.56,512.56,477.17,489.07,507.11,513.37,513.37,526.14,526.14,547.02,560.22,507.4,507.4,531.76,531.76,525.18,504.98,434.24,434.24,434.24,434.24,451.11,492.21,540.23,540.23,540.23,573.92,579.99,593.73,593.73,593.73,586.86,587.02,587.02,560.25,560.25,770.01,551.61,434.38,413.51,518.57,558.06,564.91,514.27,522.88,500.07,392.52,529.25,455.38,467.45,430.44,464.51,419.81,364.5,480.52,492.81,504.43,610.39,625.66,640.73,640.73,629.51,654.45,613.08,515.85,528.29,646.73,542.12,557.27,557.27,551.13,552.4,552.4,506.87,449.91,467.22,493.02,499.14,537.38,557.65,544.23,499.13,520.2,539.25,525.5,525.5,525.5,592.08,592.08,569.89,569.89,546.32,545.4,470.89,464.88,448.42,458.22,472.54,484.34,495.26,501.46,509.85,522.42,731.36,739.76,679.96,721.29,729.75,747.6,747.6,766.02,766.02,714.06,714.06,717.17,704.85,748.3,739.64,739.64,739.64,784.58,775.17,775.17,679.45,694.82,719.24,701.23,715.64,724.04,825.73,836.13,846.09,846.09,846.09,846.09,917.3,917.3,927.9,927.9,980.34,992.34,1003.96,1036.75,1036.75,1036.75,1119.44,1119.44,1158.54,1169.58,1130.9,1155.52,414.64,488.52,661.22,682.98,893.86,632.75,678.52,673.05,734.64,777.87,687.4,737.58,1287.75,1072.88,969.89,945.7,951.84,1041.18,1113.06,1241.08,1202.82,1251.38,1546.17,1581.57,1551.7,1568.73,1144.12,1191.52,1191.52,1191.52,1246.8,1217.84,1138.77,1151.95,1177.76,1113.87,1126.01,1247.27,1260.44,1239.83,1210.61,1124.19,1190.59,1220.85,1280.21,1172.19,1172.19,1298.02,1440.56,1290.2,1290.2,1392.64,1508.12,1508.12,1427.71,1444.32,1444.32,1476.83,1271.84,1244.94,1114.39,1166.61,1166.61,1166.61,960.15,1008.9,1041.84,1041.84,1041.84,1053.25,973.41,973.41,965.34,1037.17,1066.21,1077.53,1163.45,1163.45,1188.98,1334.85,1457.24,1338.59,1224.4,1213.08,1251.64,1251.64,1279.51,1320.09,1320.09,1338.09,1281.19,1281.19,1281.19,1281.19,1281.19,1281.19,1281.19,1281.19,1170.7,1026.43,1051.33,1051.33,959.22,980.2,893.59,939.42,1306.2,1306.2,1321.32,1321.32,1310.55,1169.5,1169.5,1138.11,1138.11,644.99,719.65,713.08,772.19,964.43,1057.48,1179.14,1191.71,1355.86,1311.92,1210.11,1219.24,1657.43,1306.36,1175.07,1161.79,1174.53,1174.53,1251.12,1124.36,1088.47,1322.07,1579.74,1579.74,1520.32,1703.5,1703.5,1740.68,1950.85,1689.04,1511.27,1511.36,1347.24,1327.13,1244.08,1254.34,1283.47,1454.33,1454.33,1506.81,1506.81,1573.56,1573.56,1623.77,1623.77,1643.58,1643.58,1754.3,1782.61,1633.3,1810.33,1780.19,1780.19,1765.83,1765.83,1921.77,1891.13,1873.03,1892.76,1494.25,1494.25,1545.13,1562.09,1562.09,1562.09,1562.09,1579.05,1591.87,1349.88,1195.68,1117.94,1117.94,1117.94,1117.94,1153.76,1203.03,1173.75,1186.36,1186.36,1186.36,1280.89,1266.2,1157.39,1207.2,1221.25,1221.25,1235.46,1235.46,1235.46,1336.32,1336.32,1354.74,1249.7,1222.71,1222.71,1344.98,1384.75,1384.75,1384.75,1292.42,1292.42,1177.45,1177.45,1206.81,1206.81,1230.79,1170.74,1223.22,1223.22,1051.21,921.38,921.38,921.38,875.37,875.37,437.68,504.5,685.54,650.69,735.97,717.85,614.85,739.72,693.66,742.2,695.41,830.12,843.95,897.98,870.51,880.94,946.49,810.45,806.65,847.71,857.8,1259.65,1317.27,1145.86,1145.86,1254.32,1258.02,1345.64,1345.64,1295.35,1180.67,1169.5,1184.09,1319.52,1172.21,1222.04,1233.74,1225.11,1225.11,1255.93,1165.73,1198.32,1267.69,1243.26,1113.89,1136.8,1127.43,1179.4,1192.86,1207.39,1037.43,1058.11,1058.11,1114.7,1114.7,1114.7,1150.58,1150.58,1197.0,1260.39,1260.39,1303.19,1318.28,1428.48,1428.48,1440.23,1445.01,1445.01,1445.01,1445.01,1380.79,1380.79,1475.3,1620.92,1594.85,1422.22,1422.22,1449.69,1449.69,1433.73,1433.73,1285.22,1285.22,1285.22,1300.12,1300.12,1300.12,1300.12,1300.12,1420.2,1420.2,1420.2,1420.2,1465.8,1262.38,1286.71,1286.71,1318.77,1318.77,1468.68,1468.68,1534.73,1556.05,1556.05,1556.05,1584.12,1584.12,1584.12,1584.12,1597.08,1582.93,1632.63,1684.3,1624.32,1624.32,410.03,407.8,352.2,470.57,490.59,573.78,535.02,686.44,759.92,738.18,768.34,895.5,872.53,853.98,923.29,1077.85,909.33,919.45,910.88,882.85,882.85,875.34,904.09,904.09,911.81,970.59,1003.93,1003.93,888.51,899.03,930.15,930.15,922.4,922.4,997.75,1256.77,1080.39,1117.27,1109.26,1122.26,1133.17,1145.88,1155.47,1155.47,1155.47,1169.42,1236.94,1292.17,1114.03,1114.03,1114.03,1114.03,1131.31,1131.31,1131.31,1144.41,1342.55,1342.55,1042.64,1079.0,1079.0,1091.96,1091.96,1193.28,1221.77,1221.77,1244.37,1244.37,1173.42,1173.42,1335.23,1335.23,1335.23,1335.23,1335.23,1335.23,1357.31,1403.18,1403.18,1407.4,1272.63,1271.88,1324.25,1302.67,1359.62,1359.62,1425.96,1425.96,1425.96,1523.37,1541.61,1541.61,1529.08,1529.08,1529.08,1529.08,1427.9,1229.27,1229.27,1276.74,1276.74,1276.74,1321.15,1299.62,1299.62,1323.75,1404.65,1304.56,1332.1,1332.1,1332.1,1357.9,1357.9,1296.13,1296.13,212.49,424.89,463.89,432.17,461.88,466.65,555.05,586.17,642.86,715.01,864.64,844.75,832.46,779.64,805.76,745.35,779.05,788.61,882.88,905.42,874.64,767.21,750.41,777.08,783.4,657.2,657.2,679.98,679.98,664.16,687.06,687.06,700.46,706.57,796.72,814.68,814.68,824.73,824.73,849.95,849.95,852.73,899.2,899.2,910.42,910.42,902.66,773.02,773.02,773.02,812.71,839.4,839.4,1038.89,890.84,890.84,890.84,890.84,1285.07,1256.22,1266.57,1024.79,990.0,1001.72,1016.56,1016.56,1016.56,1056.8,1056.8,1067.13,1116.27,1116.27,1125.56,1134.98,1134.98,1134.98,1134.98,1134.98,1090.07,1269.11,1269.11,1283.99,1283.99,1308.27,1323.42,1350.02,1350.02,1381.21,1396.96,1527.34,1515.01,1515.01,1320.96,1320.96,1198.37,1212.18,1080.82,1080.82,950.93,1010.41,1010.41,1010.41,1010.41,1031.97,1023.4,1043.46,1043.46,1043.46,1043.46,1043.46,1033.43,1033.43,1033.43,1001.65,1001.65,669.93,528.46,551.66,531.98,548.68,548.68,460.83,520.42,532.59,646.53,681.17,655.3,903.21,986.78,1082.58,1105.73,1112.66,1148.27,1148.27,1133.38,1108.25,1151.79,1180.24,1153.63,1182.12,1191.99,1184.08,1217.41,1044.74,918.82,974.2,1022.08,968.64,941.01,1164.77,1388.8,1418.28,1374.9,1201.38,1138.94,1148.47,993.65,1004.86,1004.86,1013.36,978.05,1088.43,1100.94,1100.94,1100.94,1394.5,1394.5,1406.0,1434.96,1476.82,1476.82,1476.82,1537.78,1555.2,1520.72,1533.09,1533.09,1533.09,1548.07,1548.07,1566.18,1584.1,1571.24,1590.02,1590.02,1229.91,1229.91,1229.91,1229.91,1209.92,1209.92,1221.61,1236.46,1236.46,1312.4,1338.08,1307.48,1307.48,1307.94,1338.54,1151.53,1151.53,1151.53,1151.53,1231.42,1279.5,1290.03,1618.02,1618.02,1618.02,1618.02,1618.02,1618.02,1715.27,1715.27,1791.7,1791.7,1791.7,1414.92,1414.92,1441.97,1689.79,1359.37,1359.37,1359.37,1357.61,1357.61,1388.62,1335.93,1335.93,304.18,438.92,349.19,370.3,453.1,493.67,402.91,410.41,351.32,377.25,348.42,377.91,324.71,366.27,390.4,390.4,411.24,416.46,416.51,376.42,362.55,362.55,362.55,372.39,401.41,437.81,437.81,449.13,449.13,484.58,484.58,496.04,535.92,549.17,529.89,540.66,508.56,508.56,520.58,520.58,520.58,546.43,545.59,528.52,549.01,549.01,543.37,598.04,515.15,453.64,458.49,469.44,433.75,433.75,444.99,444.99,417.74,386.68,386.68,403.18,377.6,330.44,330.44,330.44,330.44,316.99,316.99,316.99,292.75,292.75,289.28,289.28,270.89,305.31,322.16,322.16,322.16,324.36,324.36,328.22,328.22,310.49,310.23,310.23,310.23,310.23,319.05,319.05,333.02,341.86,306.51,306.51,322.81,322.81,318.41,293.21,293.21,293.21,293.21,293.21,305.63,335.88,371.22,371.22,371.22,375.98,380.27,380.27,380.27,380.27,380.27,375.27,375.27,356.75,356.75,536.17,434.08,396.62,413.54,596.81,610.08,627.28,586.03,595.65,570.18,442.53,556.52,463.2,475.45,437.91,449.57,406.05,391.53,514.3,533.43,546.19,643.63,659.63,644.38,644.38,633.11,658.17,608.97,512.31,524.68,567.3,469.44,494.74,494.74,489.19,461.23,461.23,421.71,437.21,448.48,473.42,473.42,510.02,516.31,503.73,461.47,481.73,487.61,498.93,498.93,498.93,562.68,562.68,503.04,503.04,463.94,475.94,399.26,394.0,394.0,402.82,349.06,358.32,358.32,358.32,354.26,363.63,363.63,368.31,388.9,414.8,420.11,431.29,431.29,442.97,442.97,442.97,442.97,445.04,436.83,447.35,456.58,456.58,456.58,468.29,462.25,462.25,400.75,410.63,426.31,420.46,429.82,435.28,539.72,546.9,553.79,553.79,553.79,553.79,640.39,640.39,640.39,640.39,678.16,678.16,672.27,695.21,695.21,695.21,733.81,733.81,717.24,724.41,737.0,753.74,411.8,485.27,608.17,636.5,909.78,644.49,659.89,659.89,720.59,763.08,658.96,664.39,1228.76,1134.1,980.94,1007.61,1014.12,1057.86,1130.79,1260.68,1221.86,1231.95,1522.5,1557.39,1493.32,1509.74,1100.15,1145.87,1145.87,1145.87,1199.2,1171.26,1094.98,1107.7,1132.6,1058.64,1070.23,1227.01,1239.98,1219.68,1190.9,1077.0,1100.07,1128.21,1183.41,1082.97,1082.97,1163.63,1381.35,1236.77,1236.77,1335.27,1446.31,1446.31,1369.0,1385.14,1385.14,1416.4,1219.27,1232.21,1102.89,1118.07,1118.07,1118.07,919.53,966.4,966.4,966.4,966.4,977.07,902.5,902.5,894.96,950.5,977.33,987.79,1067.16,1067.16,1090.74,1211.83,1323.73,1228.81,1122.51,1112.06,1134.93,1134.93,1160.39,1197.46,1197.46,1203.88,1125.65,1148.34,1148.34,1148.34,1148.34,1148.34,1148.34,1148.34,1048.48,1226.89,1242.4,1242.4,1242.4,1268.98,1146.25,1180.23,1208.07,1208.07,1222.13,1222.13,1212.11,1080.9,1080.9,1080.9,1080.9,615.19,655.85,649.79,661.52,829.36,910.61,1079.57,1457.75,1230.08,1189.93,1073.45,1176.16,1227.23,962.1,862.94,852.91,1058.61,1058.61,1128.23,1013.0,980.38,1192.73,1426.96,1426.96,1372.95,1539.46,1539.46,1573.27,2360.9,2777.08,2491.19,2491.34,2227.4,2195.06,2038.76,2055.08,2101.43,2373.31,2373.31,2456.82,2456.82,2535.29,2535.29,2535.29,2535.29,2565.59,2565.59,2621.46,2861.98,2627.06,2905.59,2790.41,2790.41,2768.34,2768.34,3008.06,2960.96,2933.14,2445.04,1936.08,1936.08,2001.07,2022.73,2022.73,2022.73,2022.73,2044.39,2060.76,1751.7,1554.76,1455.47,1455.47,1455.47,1455.47,1501.22,1564.15,1526.76,1542.86,1542.86,1542.86,1605.45,1605.45,1469.61,1531.8,1531.8,1531.8,1549.34,1549.34,1549.34,1674.11,1674.11,1710.69,1549.01,1516.03,1516.03,1665.42,1714.01,1714.01,1714.01,1554.38,1554.38,1417.78,1417.78,1452.67,1452.67,1452.67,1397.07,1458.9,1458.9,1256.24,1103.3,1103.3,1103.3,1103.3,1103.3,536.59,615.7,830.05,798.78,900.68,878.99,755.69,935.94,879.12,939.0,861.65,1024.51,1348.99,1431.92,1389.75,1405.77,1506.38,1297.55,1709.24,1791.19,1811.31,2018.22,2107.98,1840.95,1840.95,2026.15,2031.96,2169.5,2169.5,2090.56,1910.53,1892.99,1915.89,2128.5,1876.22,1954.29,1972.47,1959.06,1959.06,2006.95,1866.79,1897.05,2003.76,1966.18,1314.54,1341.23,1330.31,1375.96,1437.62,1454.9,1252.76,1277.36,1277.36,1344.66,1344.66,1344.66,1387.34,1387.34,1442.54,1517.93,1517.93,1568.84,1586.79,2299.55,2299.55,2318.01,2325.51,2325.51,2325.51,2325.51,2224.68,2224.68,2373.06,2601.67,1931.09,1724.22,1724.22,1757.14,1757.14,1738.01,1738.01,1577.89,1577.89,1577.89,1577.89,1577.89,1577.89,1577.89,1577.89,1721.79,1721.79,1721.79,1721.79,1721.79,1481.58,1509.82,1509.82,1547.04,1547.04,1659.34,1659.34,1733.41,1757.32,1757.32,1757.32,1757.32,1757.32,1757.32,1757.32,1771.61,1771.61,1826.88,1885.47,1885.47,1885.47,508.5,512.53,445.46,588.24,612.39,712.74,665.98,877.67,969.03,941.99,957.9,1112.81,1084.83,1062.23,1146.68,1334.98,1129.67,1141.99,1131.55,1366.48,1366.48,1355.29,1398.17,1398.17,1862.61,1976.63,2041.29,2041.29,1817.41,1837.81,1898.18,1898.18,1883.15,1883.15,2007.35,2007.35,1733.39,1790.69,1333.76,1349.18,1362.12,1362.12,1373.37,1373.37,1373.37,1389.74,1468.98,1517.29,1354.41,1354.41,1354.41,1354.41,1375.12,1375.12,1375.12,1390.81,1628.18,1628.18,1268.89,1298.33,1298.33,1327.98,1327.98,1449.36,1483.49,1483.49,1510.56,1510.56,1425.57,1425.57,1619.41,1619.41,1619.41,1619.41,1619.41,1619.41,1645.87,1700.82,1700.82,1705.88,1145.77,1158.49,1206.52,1186.72,1224.72,1224.72,1284.94,1284.94,1284.94,1373.34,1389.89,1389.89,1378.52,1378.52,1378.52,1378.52,1286.69,1106.42,1106.42,1117.19,1117.19,1117.19,1156.46,1137.42,1137.42,1137.42,1207.73,1120.74,1144.67,1144.67,1144.67,1167.1,1167.1,1167.1,1167.1,276.93,533.14,580.18,541.92,577.76,583.52,690.14,753.38,823.88,913.62,1075.22,1050.99,1036.02,971.66,1003.49,929.89,970.95,982.59,1097.44,1124.9,1074.9,937.42,676.58,700.94,706.71,591.46,591.46,612.27,612.27,754.63,780.25,780.25,1063.8,1072.69,1203.61,1229.71,1229.71,1244.32,1244.32,1280.99,1280.99,1270.45,1337.29,1337.29,1353.44,1353.44,1342.28,1142.72,1182.81,1182.81,1241.12,1280.34,1280.34,1573.47,1355.92,1355.92,1355.92,1355.92,1546.66,1546.66,1571.99,1247.51,1205.83,1219.88,1237.65,1237.65,1237.65,1285.86,1285.86,1298.23,1357.1,1357.1,1368.23,1379.52,1379.52,1379.52,1379.52,1379.52,1325.72,1540.21,1540.21,1575.87,1575.87,1605.27,1605.27,1637.14,1637.14,1674.5,1693.38,1849.57,1834.8,1834.8,1602.32,1602.32,1455.46,1472.0,1314.63,1314.63,1159.02,1194.65,1194.65,1194.65,1194.65,1219.79,1209.79,1209.79,1209.79,1209.79,1209.79,1209.79,1209.79,1209.79,1209.79,1219.79,1219.79,608.95,478.68,499.93,662.16,682.3,682.3,576.35,489.01,500.56,608.73,626.49,573.46,794.51,869.02,954.45,975.09,981.27,1013.02,1013.02,999.74,966.0,1004.41,1029.51,1006.03,1031.17,1039.87,1032.9,1062.3,909.85,798.77,888.38,932.43,883.27,857.84,1072.68,1280.39,1307.73,1267.5,1106.62,1048.73,1404.83,1194.38,1207.66,1179.53,1189.38,1148.49,1523.74,1523.74,1576.12,1576.12,1985.84,1985.84,2001.88,2042.3,2100.73,2100.73,2100.73,2185.8,2210.12,2210.12,2227.75,2179.26,2179.26,2200.17,2200.17,2225.44,2250.45,2232.51,2258.72,2258.72,1756.13,1826.84,1826.84,1826.84,1797.86,1797.86,1814.81,1836.32,1836.32,1946.34,1983.55,1983.55,1983.55,1984.22,1984.22,1713.27,1713.27,1713.27,1713.27,1829.01,1898.68,1913.94,1913.94,1913.94,1913.94,1913.94,1913.94,1913.94,1970.94,1970.94,2058.14,2058.14,2058.14,1628.29,1628.29,1628.29,1906.05,1535.71,1535.71,1535.71,1560.87,1560.87,1596.21,1596.21,1596.21,240.45,368.97,298.46,302.77,370.2,394.91,355.86,368.02,313.84,393.77,368.68,442.58,402.18,451.04,427.41,427.41,439.15,444.65,450.02,376.81,376.81,376.81,372.27,372.27,401.29,432.35,437.9,449.22,449.22,472.11,472.11,460.43,460.43,466.21,483.56,469.8,469.67,469.67,469.19,469.19,469.19,493.41,441.19,437.63,449.32,443.65,438.93,484.73,472.55,415.29,419.81,424.91,395.76,395.76,405.88,405.88,380.59,351.75,351.75,352.63,329.85,302.9,291.16,291.16,291.16,278.94,282.58,282.58,282.58,282.58,279.2,279.2,261.0,294.46,310.85,310.85,310.85,306.78,311.02,314.76,314.76,293.98,302.48,302.48,302.48,302.48,302.48,302.48,302.48,302.48,270.29,270.29,285.14,297.05,292.91,297.09,297.09,297.09,297.09,297.09,309.63,340.18,375.87,375.87,375.87,380.68,385.01,385.01,385.01,385.01,385.01,379.95,379.95,390.28,390.28,761.3,614.84,449.04,415.91,522.32,534.17,561.96,517.32,525.57,508.29,465.04,572.74,561.62,576.0,527.12,516.59,467.77,393.39,521.9,521.9,553.46,640.61,656.54,622.1,622.1,622.1,646.79,604.67,590.51,604.45,619.44,523.13,550.82,550.82,518.78,508.33,508.33,459.66,476.39,488.61,494.33,494.33,530.72,537.22,524.21,474.53,494.73,494.73,506.19,506.19,506.19,564.2,564.2,504.43,504.43,467.14,479.2,407.21,401.87,401.87,410.83,422.85,423.16,423.16,423.16,418.53,429.69,429.69,435.04,458.55,489.49,489.49,502.17,502.17,502.17,502.17,466.04,466.04,468.21,459.64,470.61,447.79,447.79,447.79,459.32,453.37,453.37,392.85,402.56,407.64,407.64,416.77,422.09,543.25,543.25,550.1,550.1,550.1,550.1,592.04,592.04,592.04,592.04,592.04,592.04,586.8,586.8,586.8,586.8,614.83,614.83,600.62,606.77,617.56,631.91,389.44,471.22,646.47,676.34,885.55,611.29,597.19,597.19,660.26,699.64,603.17,613.65,1094.22,1009.14,852.53,876.04,892.48,931.45,996.41,1112.12,1053.19,1053.19,1304.75,1320.02,1294.79,1309.17,1094.47,1094.47,1094.47,1094.47,1145.6,1118.81,1045.68,1057.87,1064.07,1051.95,1063.46,1140.18,1152.3,1152.3,1124.99,1124.99,1138.6,1168.28,1225.28,1113.31,1113.31,1196.04,1385.2,1242.3,1242.3,1327.08,1437.49,1437.49,1360.61,1376.84,1376.84,1407.93,1407.93,1407.93,1447.61,1480.54,1464.89,1464.89,1209.82,1209.82,1209.82,1265.55,1265.55,1279.21,1170.62,1170.62,1161.06,1185.55,1185.55,1198.03,1218.66,1218.66,1245.3,1382.11,1461.68,1357.57,1240.96,1229.5,1254.59,1254.59,1282.52,1282.52,1282.52,1282.52,1199.57,1199.57,1199.57,1239.76,1239.76,1239.76,1239.76,1239.76,1132.58,1324.06,1340.87,1340.87,1340.87,1340.87,1216.08,1251.98,1296.55,1296.55,1311.56,1311.56,1300.87,1160.78,1160.78,1160.78,1160.78,636.98,640.7,634.76,646.25,820.53,901.0,1366.94,1442.94,1217.43,1177.67,1062.3,1070.4,1117.23,844.85,739.51,730.77,739.16,739.16,789.59,706.13,706.13,864.58,1039.35,1039.35,999.05,1123.29,1123.29,1148.51,1736.21,2046.74,1833.42,1818.89,1623.45,1549.51,1453.52,1465.38,1499.05,1696.53,1696.53,1743.02,1743.02,1780.25,1780.25,1780.25,1780.25,1760.46,1760.46,1799.46,1478.12,1336.06,1482.73,1456.59,1456.59,1456.59,1456.59,1586.68,1586.68,1571.35,1588.06,1452.28,1452.28,1501.82,1534.69,1534.69,1534.69,1534.69,1551.37,1563.97,1325.97,1174.31,1085.11,1085.11,1085.11,1085.11,1119.96,1212.79,1183.29,1196.0,1196.0,1196.0,1196.0,1196.0,1086.56,1133.56,1133.56,1133.56,1146.97,1146.97,1146.97,1160.83,1160.83,1186.82,1058.14,1120.41,1120.41,1233.89,1270.6,1270.6,1270.6,1151.9,1151.9,1048.54,1048.54,1074.94,1074.94,1074.94,1155.05,1206.88,1206.88,1206.88,1232.76,1232.76,1232.76,1232.76,1232.76,512.29,588.37,794.53,764.46,851.87,831.24,713.96,885.41,831.37,888.33,1048.52,1243.03,1278.31,1357.2,1317.09,1332.33,1411.6,1215.09,1209.61,1268.93,1283.49,1433.26,1498.23,1304.95,1304.95,1074.81,1078.02,1127.62,1127.62,1084.92,987.53,978.05,990.44,1105.44,1025.36,1059.27,1069.53,1061.96,1061.96,1088.99,1009.89,1026.97,1078.19,1057.15,692.2,698.91,692.86,718.16,743.82,753.3,642.37,655.87,655.87,669.49,669.49,669.49,692.22,692.22,721.63,761.78,761.78,788.9,807.53,1191.02,1191.02,1200.95,1126.68,1126.68,1126.68,1126.68,1063.86,1063.86,1163.68,1280.49,1259.57,1121.1,1121.1,1162.26,1162.26,1139.72,1139.72,1030.72,1030.72,1030.72,1030.72,1030.72,1030.72,1030.72,1030.72,1054.03,1054.03,1054.03,1054.03,1140.9,977.27,996.51,996.51,996.51,996.51,1072.0,1072.0,1121.34,1146.79,1146.79,1146.79,1146.79,1146.79,1146.79,1146.79,1156.38,1156.38,1193.48,1247.51,1247.51,1247.51,328.3,322.17,275.94,374.35,390.99,460.16,427.93,624.55,692.25,672.22,684.01,798.81,778.07,761.33,823.91,963.46,1044.19,1014.75,1005.38,986.81,986.81,978.51,1010.29,1010.29,1018.84,1083.84,1120.7,1120.7,981.31,992.82,1026.86,1026.86,1018.39,1018.39,1150.84,1150.84,988.23,1022.24,1014.85,1026.84,1036.9,1036.9,1045.64,1045.64,1045.64,1046.43,1107.41,1118.39,984.61,984.61,984.61,984.61,1000.05,1000.05,1000.05,1011.76,1179.01,1179.01,913.11,934.89,934.89,946.27,967.62,1058.37,1083.89,1083.89,1104.13,1104.13,1028.45,1028.45,1160.77,1160.77,1160.77,1160.77,1160.77,1160.77,1180.17,1220.46,1220.46,1224.18,813.47,822.79,829.84,815.75,842.79,842.79,885.65,885.65,885.65,885.65,896.72,896.72,889.11,963.56,963.56,963.56,897.51,767.83,767.83,775.58,775.58,775.58,803.82,803.82,803.82,803.82,855.18,791.64,809.65,809.65,809.65,826.04,826.04,826.04,826.04,159.79,372.83,430.04,400.23,428.16,432.64,515.73,571.51,580.99,647.13,766.25,748.39,737.35,689.91,713.38,659.12,689.39,697.97,782.63,589.21,589.21,522.6,510.54,529.69,534.23,558.39,558.39,578.2,578.2,571.9,592.04,592.04,603.82,609.2,688.46,704.25,704.25,713.09,713.09,735.26,735.26,728.89,769.32,769.32,779.09,769.73,753.78,635.64,651.46,651.46,685.62,708.6,708.6,880.31,752.87,752.87,752.87,752.87,864.61,864.61,879.45,948.01,894.22,904.91,918.44,918.44,918.44,955.14,955.14,964.56,1009.39,1009.39,1009.39,1017.92,1017.92,1017.92,1017.92,1017.92,977.27,1139.34,1139.34,1166.28,1166.28,1188.49,1188.49,1212.58,1212.58,1212.58,1226.54,1255.55,1245.28,1245.28,1083.64,1172.73,1062.93,1075.3,957.64,957.64,841.3,867.94,867.94,867.94,867.94,886.73,879.26,879.26,879.26,879.26,879.26,879.26,879.26,879.26,879.26,886.73,886.73,539.11,449.14,474.86,451.86,460.66,460.66,384.73,453.0,463.85,525.48,541.15,468.79,661.29,724.71,797.41,814.97,820.24,847.26,847.26,835.95,845.84,879.92,902.2,881.37,903.67,911.39,905.2,931.29,796.13,697.55,806.74,847.15,802.05,778.72,647.32,779.69,797.11,771.48,797.11,754.07,760.64,657.36,484.07,465.62,469.98,452.16,508.7,508.7,521.79,521.79,673.78,673.78,679.73,694.73,716.4,716.4,716.4,747.96,756.98,756.98,763.52,763.52,745.34,753.1,753.1,762.47,771.75,765.09,774.81,774.81,581.01,606.95,606.95,606.95,596.32,596.32,572.32,579.88,579.88,610.78,623.7,623.7,623.7,623.94,623.94,529.82,529.82,529.82,529.82,529.82,552.57,552.57,552.57,609.32,609.32,609.32,609.32,609.32,629.39,629.39,660.1,660.1,660.1,691.32,691.32,691.32,818.5,741.5,741.5,741.5,754.44,754.44,772.62,772.62,772.62,258.49,332.43,267.18,270.6,328.39,364.7,285.19,295.46,246.66,319.05,293.44,327.87,321.62,367.41,347.37,311.58,328.83,333.21,337.18,328.43,328.43,328.43,333.29,342.51,369.7,398.81,404.01,414.62,414.62,436.06,436.06,447.76,459.29,465.06,470.49,480.24,445.43,445.43,456.2,456.2,456.2,479.38,415.53,412.14,386.76,386.76,382.45,423.45,392.05,413.91,418.42,428.59,399.24,399.24,409.43,409.43,383.96,354.92,354.92,351.42,328.87,301.98,290.27,290.27,290.27,278.08,281.71,281.71,281.71,291.42,287.95,287.95,269.33,303.57,320.34,320.34,329.1,324.85,329.27,333.18,333.18,328.62,337.87,337.87,342.39,342.39,342.39,342.39,342.39,351.41,315.3,315.3,331.96,331.96,327.46,332.05,310.45,310.45,310.45,310.45,323.41,354.99,391.88,391.88,391.88,396.85,401.32,401.32,401.32,401.32,401.32,401.44,401.44,412.22,412.22,554.5,486.6,386.2,421.85,528.8,540.77,562.84,518.14,528.54,511.09,467.64,561.06,557.33,571.62,536.64,438.6,395.95,330.98,438.63,438.63,465.96,536.92,550.62,521.0,521.0,521.0,542.23,510.89,525.51,538.14,588.34,495.93,508.96,508.96,503.1,498.42,498.42,450.55,466.9,472.63,478.19,478.19,513.59,519.91,507.26,464.75,488.53,488.53,475.88,475.88,475.88,537.17,537.17,479.83,479.83,444.06,455.63,386.56,381.44,376.77,376.77,347.96,348.23,348.23,352.76,352.76,352.76,361.64,366.3,371.26,397.36,397.36,408.06,408.06,408.06,408.06,377.58,377.58,379.4,372.17,381.25,346.16,346.16,346.16,360.25,355.35,355.35,304.9,312.88,325.56,325.56,333.55,338.02,423.48,423.48,429.05,429.05,429.05,429.05,468.87,468.87,468.87,468.87,468.87,468.87,464.56,464.56,464.56,464.56,488.59,488.59,483.16,488.28,497.26,509.2,340.58,410.05,571.65,667.61,877.78,605.22,615.29,615.29,671.61,688.39,688.12,717.83,1051.34,969.31,957.56,983.66,1014.88,1058.65,1131.63,1238.72,1211.46,1211.46,1497.55,1514.91,1486.23,1502.58,1259.61,1259.61,1259.61,1259.61,1303.34,1135.85,1061.7,1074.05,1129.52,1129.52,1141.82,1169.11,1181.52,1181.52,1153.57,1153.57,1153.57,1127.18,1127.18,1035.45,1035.45,1112.87,1171.77,1049.4,1049.4,1134.1,1229.57,1229.57,1163.1,1163.1,1163.1,1189.69,1189.69,1177.04,1225.21,1253.41,1240.01,1240.01,1021.59,1021.59,1021.59,1069.31,1069.31,1081.25,1020.25,1020.25,1011.83,1033.41,1033.41,1044.42,1114.86,1114.86,1139.4,1265.44,1338.75,1242.83,1135.4,1124.85,1160.82,1160.82,1186.82,1186.82,1186.82,1213.08,1134.29,1134.29,1134.29,1134.29,1134.29,1134.29,1134.29,1134.29,1035.55,1223.76,1224.83,1224.83,1224.83,1251.06,1134.05,1167.71,1195.27,1195.27,1209.19,1209.19,1199.28,1069.35,1069.35,1069.35,1069.35,617.74,621.36,632.42,660.59,838.21,898.53,1183.86,1250.37,1295.14,1253.03,1130.86,1129.97,1179.19,999.8,877.18,867.0,876.77,876.77,924.9,812.16,812.16,991.45,1189.21,1189.21,1328.72,1490.24,1490.24,1523.02,1552.55,1849.39,1655.68,1642.48,1465.01,1426.66,1413.5,1425.06,1457.85,1650.25,1650.25,1695.54,1695.54,1730.75,1730.75,1730.75,1730.75,1730.75,1730.75,1769.12,1797.66,1632.34,1787.08,2060.79,2060.79,2060.79,2060.79,2146.78,2146.78,2126.35,2148.61,1925.75,1925.75,1990.4,1819.95,1819.95,1819.95,1819.95,1839.54,1854.35,1574.82,1384.01,1280.13,1280.13,1280.13,1280.13,1320.72,1413.53,1379.52,1394.17,1394.17,1394.17,1394.17,1394.17,1267.99,1322.19,1337.48,1337.48,1462.48,1462.48,1462.48,1562.21,1562.21,1596.48,1596.48,1578.62,1578.62,1578.62,1578.62,1578.62,1578.62,1433.25,1433.25,1587.98,1587.98,1626.79,1626.79,1626.79,1744.52,1820.71,1820.71,1820.71,1858.74,1858.74,1858.74,1858.74,1858.74,547.72,577.23,780.05,770.02,897.91,877.35,754.26,934.2,877.48,937.26,1062.71,1259.62,1295.35,1375.21,1334.6,1350.03,1430.29,1231.35,1215.67,1275.27,1289.9,1452.12,1517.89,1322.23,1322.23,1446.04,1481.9,1548.5,1548.5,1491.17,1360.39,1347.65,1364.29,1518.73,1700.37,1699.51,1715.43,1703.69,1703.69,1724.42,1603.05,1629.26,1707.86,1675.56,1480.25,1510.07,1497.87,1548.86,1566.22,1584.94,1584.94,1615.58,1615.58,1699.41,1699.41,1699.41,1752.57,1752.57,1821.33,1895.07,1895.07,1915.85,1958.11,1926.93,1926.93,1942.52,1866.9,1866.9,1866.9,1866.9,1765.08,1765.08,1884.13,2067.54,1529.54,1363.57,1363.57,1412.9,1412.9,1385.88,1385.88,1256.44,1256.44,1256.44,1271.03,1271.03,1271.03,1271.03,1271.03,1388.61,1388.61,1388.61,1388.61,1388.61,1388.61,1415.19,1415.19,1415.19,1415.19,1519.5,1519.5,1519.5,1553.24,1553.24,1553.24,1553.24,1553.24,1553.24,1553.24,1565.96,1565.96,1583.68,1637.42,1637.42,1637.42,442.92,476.9,516.47,668.9,695.88,784.63,733.73,1053.86,1161.68,1154.87,1174.03,1360.59,1326.89,1299.68,1401.37,1628.15,1654.53,1607.09,1592.74,1564.29,1564.29,1551.59,1600.26,1600.26,1600.26,1699.04,1755.05,1755.05,1543.24,1560.72,1612.46,1612.46,1599.58,1599.58,1762.46,1762.46,1520.34,1570.97,1167.15,1180.77,1192.21,1192.21,1202.15,1202.15,1202.15,1216.62,1286.65,1299.26,1134.39,1134.39,1134.39,1134.39,1161.52,1161.52,1161.52,1174.94,1366.75,1366.75,1061.81,1074.81,1074.81,1087.72,1111.96,1214.98,1243.95,1243.95,1266.92,1266.92,1181.02,1181.02,1332.55,1332.55,1332.55,1332.55,1332.55,1332.55,1354.59,1400.38,1400.38,1404.6,1249.31,1263.08,1315.11,1293.67,1333.58,1333.58,1398.75,1398.75,1398.75,1494.41,1512.33,1512.33,1500.02,1500.02,1500.02,1500.02,1400.64,1400.64,1400.64,1400.64,1400.64,1400.64,1449.05,1449.05,1449.05,1449.05,1537.07,1428.17,1430.31,1430.31,1430.31,1457.88,1457.88,1457.88,1457.88,329.7,682.08,761.33,712.88,758.27,748.25,870.56,969.63,984.72,1090.07,1279.81,1251.36,1245.28,1169.07,1206.77,1119.6,1168.23,1182.01,1236.99,944.01,944.01,843.11,605.99,628.13,633.37,633.37,633.37,639.02,639.02,632.16,654.1,654.1,661.09,666.9,727.21,743.78,743.78,753.05,753.05,776.32,776.32,769.63,812.05,812.05,860.72,860.72,843.09,712.6,712.6,712.6,749.54,774.39,774.39,960.07,822.26,822.26,822.26,822.26,943.09,932.22,948.1,1056.16,996.81,1008.6,1023.54,1023.54,1023.54,1064.02,1064.02,1074.42,1123.87,1123.87,1123.87,1133.28,1133.28,1133.28,1133.28,1133.28,1088.43,1267.23,1267.23,1296.95,1296.95,1321.46,1336.74,1363.6,1363.6,1363.6,1379.17,1507.99,1507.99,1507.99,1331.24,1331.24,1207.76,1221.67,1089.35,1089.35,958.53,978.5,978.5,978.5,978.5,999.44,991.11,991.11,991.11,991.11,991.11,991.11,991.11,991.11,991.11,999.44,999.44,734.53,581.19,620.61,778.86,792.68,792.68,671.79,533.72,546.14,668.39,687.64,614.44,780.42,853.76,937.83,958.15,964.23,995.48,995.48,982.41,993.85,1033.26,1059.02,1034.93,1060.72,1069.65,1062.5,1092.67,905.48,794.88,895.26,939.61,890.11,864.5,973.49,1163.63,1188.65,1151.83,1151.83,1091.77,1091.77,948.76,691.21,643.73,649.45,633.84,717.15,717.15,717.15,717.15,916.9,916.9,924.72,944.42,972.91,972.91,972.91,1014.38,1026.24,1014.5,1023.01,1023.01,999.37,1009.46,1009.46,1021.65,1033.71,1025.05,1037.7,1037.7,785.65,811.7,811.7,811.7,797.99,797.99,777.4,787.26,787.26,827.59,844.45,844.45,844.45,844.76,865.3,739.81,739.81,739.81,739.81,793.41,825.68,825.68,825.68,825.68,825.68,825.68,825.68,825.68,843.14,843.14,882.86,882.86,882.86,1000.24,1000.24,1000.24,1177.07,978.28,978.28,945.93,962.02,962.02,984.62,984.62,984.62,304.04,395.65,317.01,333.27,415.97,459.71,368.93,385.67,325.74,410.84,379.61,421.58,419.88,492.37,503.55,455.27,478.54,484.45,502.78,490.49,490.49,490.49,502.94,515.77,553.61,594.11,601.34,623.27,623.27,653.4,653.4,670.08,686.29,694.4,678.21,691.52,644.03,644.03,643.39,643.39,643.39,674.37,589.03,584.5,536.59,536.59,530.95,584.58,543.5,572.1,572.1,572.1,534.79,534.79,547.74,547.74,515.35,478.43,478.43,479.55,450.66,416.14,416.14,416.14,416.14,400.01,400.01,395.15,395.15,407.74,403.25,403.25,379.73,424.6,446.4,446.4,457.78,452.26,458.01,463.09,463.09,457.16,469.19,469.19,475.06,475.06,475.06,475.06,475.06,475.06,439.85,439.85,461.5,461.5,455.65,455.65,427.87,427.87,427.87,427.87,444.54,485.15,532.59,532.59,532.59,538.98,544.74,544.74,544.74,544.74,544.74,544.88,544.88,558.75,558.75,683.33,654.91,587.49,637.58,787.71,804.62,835.77,772.67,768.47,736.54,677.06,805.36,800.25,819.82,771.61,649.88,590.51,500.05,649.93,671.98,703.66,711.86,729.32,691.57,691.57,691.57,718.63,677.87,663.98,679.41,696.0,589.14,627.42,627.42,620.62,615.03,615.03,557.83,577.37,584.21,590.67,590.67,634.75,642.32,627.17,576.27,604.75,604.75,589.59,589.59,589.59,640.77,640.77,574.1,574.1,532.51,545.97,465.67,459.72,459.72,459.72,425.9,436.74,446.77,452.3,447.09,458.98,469.94,475.7,481.82,487.64,487.64,500.28,500.28,500.28,500.28,464.26,464.26,466.42,457.88,468.61,427.14,427.14,427.14,443.79,438.0,438.0,438.0,448.61,454.15,465.46,476.28,482.22,581.89,581.89,589.15,589.15,589.15,589.15,641.02,641.02,641.02,641.02,641.02,641.02,635.41,635.41,635.41,635.41,667.04,667.04,659.97,659.97,671.57,687.0,558.53,570.31,697.17,828.09,1041.24,723.12,734.86,734.86,784.08,803.3,802.06,815.5,1029.81,949.32,949.32,975.21,1006.19,1049.62,1122.02,1240.7,1213.4,1213.4,1467.91,1484.95,1456.8,1472.85,1234.39,1285.22,1285.22,1285.22,1329.78,1159.12,1083.58,1096.17,1152.68,1152.68,1165.21,1290.34,1303.93,1303.93,1273.31,1273.31,1273.31,1244.4,1244.4,1143.91,1143.91,1228.73,1293.25,1159.2,1159.2,1225.47,1328.02,1328.02,1256.62,1256.62,1256.62,1285.18,1285.18,1285.18,1321.63,1351.88,1351.88,1351.88,1140.02,1140.02,1140.02,1140.02,1140.02,1152.67,1076.99,1076.99,1068.14,1090.82,1090.82,1102.38,1176.39,1176.39,1202.18,1334.6,1411.62,1310.85,1197.98,1186.88,1224.68,1224.68,1252.0,1291.76,1291.76,1291.76,1234.95,1234.95,1234.95,1234.95,1234.95,1234.95,1234.95,1234.95,1234.95,1362.35,1363.53,1363.53,1363.53,1392.51,1263.25,1300.43,1300.43,1300.43,1315.49,1315.49,1304.77,1164.29,1164.29,1164.29,1164.29,869.95,874.33,880.52,906.92,1082.57,1147.55,1441.28,1521.14,1547.2,1477.96,1335.47,1334.44,1391.84,1265.44,1113.21,1100.57,1112.7,1112.7,1139.83,1003.45,1003.45,1220.34,1459.57,1459.57,1628.33,1823.72,1823.72,1863.38,1899.09,2115.96,1895.77,1880.76,1679.02,1635.43,1620.47,1633.6,1670.88,1889.59,1889.59,1941.07,1941.07,1981.09,1981.09,1981.09,1981.09,1981.09,1981.09,2024.72,2057.15,1869.23,2101.58,2420.91,2420.91,2420.91,2420.91,2447.73,2447.73,2424.57,2449.81,2220.55,2220.55,2294.61,2077.37,2077.37,2077.37,2077.37,2099.58,2116.37,1799.37,1539.82,1425.03,1425.03,1425.03,1425.03,1469.88,1572.44,1534.86,1551.05,1551.05,1551.05,1613.94,1613.94,1469.21,1531.37,1548.92,1548.92,1567.04,1567.04,1567.04,1567.04,1673.44,1710.01,1696.19,1677.08,1677.08,1677.08,1677.08,1677.08,1677.08,1523.18,1523.18,1683.89,1683.89,1724.9,1724.9,1724.9,1849.32,1929.83,1929.83,1929.83,1970.03,1970.03,1970.03,1970.03,1970.03,620.67,753.21,1008.75,810.75,944.63,922.57,793.78,982.05,913.33,956.1,1036.0,1200.92,1223.39,1299.13,1260.62,1275.25,1351.37,1162.69,1134.69,1190.61,1204.34,1356.58,1418.3,1234.68,1234.68,1350.87,1384.52,1447.03,1447.03,1393.22,1424.01,1409.53,1426.88,1587.92,1774.36,1773.46,1790.04,1777.81,1777.81,1799.39,1673.04,1673.04,1753.63,1720.12,1734.12,1768.73,1783.1,1843.2,1863.66,1863.66,1863.66,1899.36,1899.36,1997.06,1997.06,1997.06,2059.01,2059.01,2233.42,2347.46,2347.46,2372.95,2399.54,2361.67,2361.67,2380.61,2388.3,2388.3,2388.3,2388.3,2259.49,2259.49,2410.1,2642.12,1961.51,1751.54,1751.54,1813.95,1813.95,1779.77,1779.77,1616.02,1616.02,1616.02,1634.47,1634.47,1634.47,1634.47,1634.47,1670.23,1783.22,1783.22,1783.22,1783.22,1783.22,1816.85,1816.85,1816.85,1816.85,1950.11,1950.11,1950.11,1992.82,1992.82,1992.82,1992.82,1992.82,1992.82,1992.82,2008.92,2008.92,2031.35,2099.37,2099.37,2099.37,567.7,489.14,535.59,701.96,730.1,815.82,763.12,1022.25,1127.12,1120.5,1139.13,1320.58,1275.07,1248.85,1346.85,1565.39,1590.81,1544.51,1530.69,1520.11,1520.11,1507.74,1537.7,1537.7,1537.7,1632.84,1654.89,1654.89,1454.51,1471.05,1520.0,1520.0,1507.82,1507.82,1679.69,1679.69,1448.33,1496.72,1110.84,1110.84,1121.65,1121.65,1131.05,1131.05,1131.05,1144.73,1210.93,1222.85,1053.58,1053.58,1053.58,1053.58,1078.93,1078.93,1078.93,1078.93,1256.29,1256.29,1107.1,1133.06,1133.06,1146.61,1146.61,1252.57,1282.37,1282.37,1306.0,1306.0,1217.64,1217.64,1373.51,1373.51,1373.51,1373.51,1373.51,1373.51,1373.51,1403.89,1403.89,1408.12,1431.32,1431.32,1489.77,1489.77,1535.3,1535.3,1609.64,1609.64,1609.64,1609.64,1718.76,1718.76,1704.88,1704.88,1704.88,1704.88,1592.78,1592.78,1592.78,1592.78,1592.78,1592.78,1647.39,1647.39,1647.39,1647.39,1746.67,1623.83,1626.52,1626.52,1626.52,1657.63,1657.63,1657.63,1657.63,356.59,666.94,709.59,664.05,706.71,713.56,840.47,936.47,1022.1,1131.09,1327.36,1297.93,1279.75,1201.58,1240.24,1150.85,1200.72,1214.86,1328.61,1347.45,1347.45,1187.91,864.09,894.33,901.49,901.49,901.49,909.19,909.19,920.66,951.25,951.25,960.99,960.99,1008.67,1030.87,1030.87,1043.3,1043.3,1074.48,1074.48,1065.51,1122.36,1122.36,1136.1,1136.1,1113.42,945.52,945.52,945.52,993.05,1025.02,1025.02,1275.68,1096.84,1096.84,1096.84,1096.84,1253.64,1253.64,1263.98,1022.66,987.94,999.63,1014.61,1014.61,1014.61,1054.78,1054.78,1065.09,1114.15,1114.15,1114.15,1123.49,1123.49,1123.49,1123.49,1123.49,1079.0,1256.37,1256.37,1285.85,1285.85,1285.85,1300.75,1326.94,1326.94,1326.94,1342.12,1358.14,1451.21,1451.21,1264.83,1264.83,1147.08,1160.35,1174.35,1174.35,1034.17,1034.17,1034.17,1034.17,1034.17,1056.19,1047.43,1047.43,1047.43,1047.43,1047.43,1047.43,1047.43,1047.43,1047.43,1056.19,1056.19,743.83,588.78,628.64,807.17,812.13,812.13,688.6,574.62,587.84,711.73,732.07,704.51,1000.63,1117.15,1224.45,1250.37,1258.14,1298.02,1298.02,1281.34,1295.94,1346.24,1379.11,1348.36,1381.28,1392.68,1383.55,1422.05,1131.23,995.79,1055.36,1106.85,1049.38,1019.65,1134.95,1353.69,1382.48,1325.46,1325.46,1257.06,1257.06,1076.26,1062.49,1062.49,1071.43,1047.02,1127.63,1127.63,1127.63,1127.63,1427.72,1427.72,1439.47,1469.08,1511.87,1511.87,1511.87,1574.18,1591.99,1591.99,1591.99,1591.99,1591.99,1607.51,1607.51,1626.28,1644.84,1631.52,1650.97,1650.97,1263.07,1317.59,1317.59,1317.59,1296.27,1296.27,1308.74,1324.57,1324.57,1389.32,1416.4,1416.4,1416.4,1416.89,1433.38,1234.04,1234.04,1234.04,1234.04,1234.04,1386.26,1386.26,1386.26,1386.26,1386.26,1399.29,1399.29,1399.29,1399.29,1399.29,1462.42,1462.42,1462.42,1151.23,1151.23,1151.23,1352.32,1084.2,1084.2,1073.9,1082.86,1082.86,1108.03,1108.03,1108.03,265.84,348.79,277.55,296.44,372.12,412.14,329.08,358.57,301.99,382.34,353.16,392.81,369.47,434.53,444.62,401.05,422.05,427.38,443.92,426.6,421.17,421.17,432.15,443.48,476.87,512.62,519.0,538.35,538.35,564.95,564.95,579.67,593.98,601.13,586.85,598.59,556.68,556.68,550.36,550.36,550.36,577.46,502.81,498.84,456.92,456.92,451.99,519.09,481.95,507.81,507.81,507.81,474.06,474.06,485.78,485.78,456.49,423.1,423.1,424.12,398.27,367.02,367.02,367.02,367.02,352.43,352.43,348.04,348.04,359.43,355.36,355.36,334.08,374.68,394.41,394.41,404.71,399.71,404.92,409.51,409.51,404.14,415.03,378.98,383.92,383.92,383.92,383.92,383.92,393.79,354.29,354.29,372.51,372.51,367.59,380.95,356.9,356.9,356.9,366.72,381.46,417.37,459.32,459.32,459.32,464.97,470.06,470.06,470.06,470.06,470.06,470.18,470.18,447.62,447.62,570.1,545.79,512.63,569.82,706.15,721.51,742.3,685.5,674.01,645.55,592.55,706.52,729.0,747.02,702.35,597.27,542.06,457.95,597.31,612.03,648.44,672.17,688.77,652.86,652.86,652.86,678.6,639.44,626.24,640.91,664.56,561.92,598.69,598.69,592.16,586.79,586.79,532.27,551.05,557.56,563.76,563.76,606.13,613.41,598.85,549.93,577.3,549.76,535.79,535.79,535.79,555.66,555.66,496.65,496.65,459.84,471.75,400.68,395.41,395.41,395.41,365.47,375.07,383.95,388.84,384.18,399.64,409.43,414.58,420.05,425.25,425.25,436.55,436.55,436.55,436.55,404.36,404.36,406.29,398.65,408.24,371.18,371.18,371.18,386.06,380.89,380.89,380.89,390.42,405.48,405.48,415.33,420.64,516.76,516.76,523.32,523.32,523.32,523.32,570.24,570.24,570.24,570.24,570.24,570.24,565.16,565.16,565.16,565.16,595.39,595.39,588.98,588.98,599.5,613.49,429.95,451.88,613.15,730.27,957.99,647.01,657.67,657.67,713.06,696.97,695.45,707.3,944.09,869.71,916.63,893.64,922.26,962.39,1029.31,1127.51,1102.51,1102.51,1364.83,1396.33,1369.76,1384.91,1159.78,1207.77,1207.77,1207.77,1249.83,1088.72,1017.4,1029.29,1082.64,1082.64,1094.47,1212.6,1225.44,1225.44,1208.62,1221.84,1266.91,1238.13,1238.13,1138.11,1138.11,1206.14,1269.57,1137.79,1137.79,1137.79,1233.56,1233.56,1166.88,1166.88,1166.88,1193.55,1193.55,1193.55,1227.59,1255.84,1255.84,1255.84,1034.83,1034.83,1034.83,1034.83,1034.83,1046.41,987.22,987.22,979.04,999.99,999.99,1010.67,1079.04,1079.04,1102.85,1238.98,1310.87,1216.81,1112.28,1101.92,1137.22,1137.22,1162.73,1199.87,1199.87,1226.4,1146.81,1146.81,1146.81,1146.81,1146.81,1146.81,1146.81,1146.81,1047.07,888.85,889.65,889.65,889.65,909.25,821.84,846.98,867.57,867.57,877.97,877.97,870.57,773.51,773.51,773.51,773.51,772.65,776.13,781.69,788.5,953.46,1011.35,1245.99,1315.73,1314.31,1269.78,1146.09,1145.19,1195.02,1060.24,930.89,920.15,930.46,930.46,981.23,862.3,862.3,1051.44,1260.07,1260.07,1407.25,1577.64,1577.64,1612.23,1643.37,1420.38,1269.3,1259.0,1120.59,1103.62,1093.25,1102.36,1128.21,1279.9,1279.9,1315.6,1315.6,1359.05,1359.05,1359.05,1359.05,1359.05,1359.05,1389.64,1412.38,1280.63,1403.95,1501.54,1501.54,1501.54,1501.54,1518.58,1518.58,1503.87,1519.91,1389.61,1389.61,1437.15,1297.7,1297.7,1297.7,1297.7,1311.96,1322.74,1119.24,980.33,904.71,904.71,904.71,904.71,934.26,1001.83,977.07,987.73,987.73,987.73,1067.66,1067.66,969.06,1011.41,1023.36,1023.36,1035.44,1035.44,1035.44,1107.92,1107.92,1132.82,1132.82,1132.82,1132.82,1132.82,1132.82,1132.82,1132.82,1026.06,1026.06,1108.7,1108.7,1136.49,1136.49,1136.49,1204.43,1258.3,1258.3,1258.3,1285.2,1285.2,1285.2,1285.2,1285.2,416.31,498.23,660.86,524.99,616.86,601.33,495.97,621.51,575.68,604.2,657.48,775.26,790.38,841.34,815.43,825.27,876.49,749.54,730.7,768.33,777.57,879.99,921.52,797.98,797.98,876.15,898.79,940.85,940.85,904.65,925.36,915.21,926.88,1035.18,1120.85,1034.85,1044.89,1037.48,1037.48,1063.94,986.51,1003.23,1053.37,1032.39,1032.39,1053.76,1045.02,1081.56,1094.0,1094.0,1094.0,1115.71,1115.71,1175.11,1175.11,1175.11,1212.78,1212.78,1324.24,1393.85,1393.85,1409.41,1425.64,1402.52,1402.52,1414.08,1418.77,1418.77,1418.77,1418.77,1340.16,1340.16,1432.08,1573.7,1548.34,1380.45,1380.45,1430.36,1430.36,1403.03,1403.03,1272.09,1272.09,1272.09,1286.85,1286.85,1286.85,1286.85,1286.85,1405.79,1405.79,1405.79,1405.79,1405.79,1405.79,1432.68,1432.68,1450.29,1450.29,1556.0,1556.0,1556.0,1590.5,1590.5,1590.5,1590.5,1590.5,1590.5,1590.5,1603.5,1603.5,1621.62,1676.57,1676.57,1676.57,366.09,306.78,330.26,442.88,461.93,514.75,479.38,653.32,756.84,728.54,741.19,864.37,833.47,815.67,882.2,981.4,997.91,966.67,957.71,939.31,939.31,931.38,950.48,950.48,950.48,1011.51,1025.65,1025.65,897.12,907.73,939.0,939.0,931.19,931.19,950.11,950.11,813.6,842.15,835.94,835.94,844.3,844.3,851.56,851.56,851.56,862.13,913.31,905.19,757.92,757.92,757.92,757.92,776.77,776.77,776.77,776.77,848.16,848.16,743.86,762.01,762.01,771.48,771.48,845.56,866.39,866.39,882.91,882.91,821.13,821.13,930.1,930.1,973.02,973.02,973.02,973.02,989.53,1011.99,1011.99,1015.12,1023.63,1023.63,1066.52,1048.84,1095.49,1095.49,1149.83,1149.83,1149.83,1229.61,1229.61,1229.61,1219.46,1219.46,1219.46,1219.46,1137.51,1137.51,1137.51,1137.51,1137.51,1137.51,1177.43,1177.43,1177.43,1177.43,1250.01,1160.2,1173.64,1173.64,1173.64,1196.59,1196.59,1196.59,1196.59,252.09,520.79,549.81,513.26,547.5,536.11,635.34,718.75,786.4,872.49,915.64,894.7,881.76,826.15,826.15,764.37,798.83,808.6,896.18,909.32,909.32,798.07,780.67,808.29,799.33,799.33,799.33,806.24,806.24,816.54,844.01,844.01,852.75,852.75,852.75,871.83,871.83,882.51,882.51,909.31,909.31,901.6,950.46,950.46,962.26,962.26,942.77,798.49,798.49,798.49,798.49,814.82,814.82,1011.48,866.99,866.99,866.99,866.99,993.68,993.68,1002.03,764.12,737.4,746.4,757.67,757.67,735.49,765.6,765.6,773.33,810.1,810.1,810.1,817.1,817.1,817.1,817.1,817.1,783.75,855.7,855.7,855.7,855.7,855.7,865.98,884.03,884.03,884.03,894.5,969.74,969.74,969.74,841.2,841.2,760.0,760.0,769.56,769.56,673.91,673.91,673.91,673.91,673.91,688.93,682.96,682.96,682.96,682.96,682.96,676.03,676.03,676.03,676.03,681.95,681.95,789.56,633.37,675.81,652.37,672.25,672.25,567.66,622.54,636.71,769.4,791.18,743.89,1018.21,1136.6,1245.61,1271.95,1266.18,1306.29,1306.29,1289.51,1263.69,1300.33,1332.15,1302.38,1334.26,1345.29,1336.45,1373.73,1092.14,961.01,1042.23,1093.14,1036.32,1006.93,1128.49,1147.39,1172.09,1134.3,1134.3,1075.08,1075.08,918.52,906.6,906.6,914.34,893.21,1005.96,1005.96,1005.96,1005.96,1276.3,1276.3,1286.89,1313.56,1352.11,1352.11,1352.11,1408.25,1424.29,1424.29,1424.29,1424.29,1424.29,1438.28,1438.28,1455.18,1471.9,1459.9,1477.43,1477.43,1127.97,1165.56,1165.56,1165.56,1146.53,1146.53,1157.66,1171.79,1171.79,1171.79,1194.91,1194.91,1194.91,1195.33,1223.49,1051.44,1051.44,1051.44,1051.44,1124.93,1124.93,1124.93,1124.93,1124.93,1124.93,1124.93,1124.93,1124.93,1124.93,1124.93,1176.51,1176.51,1176.51,873.88,873.88,873.88,962.58,766.41,766.41,766.41,773.02,773.02,791.6,791.6,791.6,252.83,340.48,273.9,292.62,372.09,412.11,329.05,358.54,233.63,224.8,208.5,225.43,246.72,285.85,281.46,250.95,265.66,284.32,296.38,292.15,300.23,300.23,357.57,367.3,406.46,437.85,455.26,472.62,472.62,496.48,496.48,503.16,515.85,522.2,528.19,528.19,490.49,490.49,502.16,502.16,502.16,527.25,458.13,454.46,415.64,415.64,411.16,473.3,438.9,462.85,467.79,467.79,436.26,436.26,447.21,447.21,419.85,388.65,388.65,405.23,380.31,350.19,350.19,350.19,350.19,336.13,336.13,331.89,306.79,317.13,313.44,313.44,294.12,330.6,348.5,348.5,357.84,353.31,358.03,362.2,362.2,357.33,353.92,322.14,322.14,322.14,322.14,330.26,330.26,334.84,300.05,300.05,316.09,316.09,311.76,323.52,302.35,270.16,270.16,278.12,290.06,319.15,353.13,353.13,353.13,357.71,361.84,361.84,361.84,361.84,361.84,361.94,361.94,343.85,343.85,424.2,398.87,335.39,375.33,472.74,483.65,509.01,462.03,459.82,439.32,400.98,488.29,502.84,515.95,483.46,430.36,305.34,252.24,340.22,337.0,350.51,360.1,369.99,397.24,397.24,397.24,414.24,387.56,378.86,388.53,404.12,336.81,361.08,361.08,356.77,366.68,366.68,329.64,342.4,351.73,372.28,372.28,402.43,407.6,402.32,367.15,383.37,367.57,357.51,357.51,357.51,371.81,382.06,391.17,391.17,373.88,383.97,323.81,319.35,319.35,319.35,294.01,302.13,309.65,313.79,313.79,322.41,330.69,335.04,339.67,344.06,344.06,353.61,353.61,353.61,353.61,326.4,326.4,328.03,321.57,329.68,298.35,298.35,298.35,306.73,302.41,302.41,302.41,306.47,310.58,310.58,318.58,322.89,375.07,375.07,380.13,380.13,380.13,380.13,450.36,450.36,450.36,450.36,450.36,450.36,446.19,446.19,446.19,446.19,471.02,471.02,465.75,470.71,479.43,491.02,293.72,298.51,414.97,499.54,649.29,428.32,435.86,435.86,472.2,459.87,385.35,392.58,536.33,564.04,596.17,580.43,608.14,635.94,682.29,764.85,747.24,747.24,932.06,954.26,935.53,946.21,796.55,672.49,672.49,672.49,697.34,602.17,560.04,567.06,598.58,598.58,605.56,704.6,810.05,810.05,830.31,839.71,879.91,903.38,903.38,828.39,828.39,879.4,927.41,828.55,828.55,828.55,900.39,900.39,850.37,850.37,850.37,870.38,870.38,870.38,895.92,938.75,938.75,938.75,769.43,769.43,795.26,795.26,795.26,795.26,740.28,740.28,740.28,787.18,796.06,804.76,860.44,860.44,879.85,990.74,1049.29,972.67,887.52,879.08,897.56,897.56,918.12,948.07,948.07,948.07,885.19,885.19,885.19,885.19,885.19,885.19,885.19,885.19,806.37,823.42,834.32,834.32,759.58,776.6,706.32,728.31,746.32,746.32,774.01,774.01,774.01,686.61,686.61,686.61,686.61,489.81,461.62,465.18,469.55,575.29,619.67,771.61,816.77,815.85,855.24,768.99,768.36,803.11,745.62,651.35,643.52,651.03,651.03,688.04,614.1,614.1,660.47,798.26,798.26,766.49,864.45,864.45,884.33,902.24,932.95,830.31,830.31,735.56,723.95,716.84,723.08,740.78,844.61,844.61,876.46,876.46,906.42,906.42,735.33,735.33,735.33,735.33,752.84,752.84,685.2,748.09,804.36,804.36,804.36,804.36,813.99,813.99,805.68,814.73,741.16,741.16,862.12,774.84,774.84,774.84,774.84,783.76,790.51,663.14,581.98,581.98,581.98,581.98,581.98,602.03,647.9,631.09,638.33,638.33,638.33,692.58,692.58,625.65,654.4,654.4,654.4,662.51,662.51,662.51,662.51,662.51,678.24,684.83,684.83,684.83,720.91,720.91,720.91,720.91,649.82,649.82,587.91,587.91,603.72,603.72,603.72,642.39,673.05,673.05,673.05,688.36,688.36,688.36,688.36,688.36,316.43,363.01,488.88,383.72,454.83,442.8,361.26,458.42,422.95,445.03,510.95,517.07,527.73,568.68,550.28,557.27,593.65,503.48,490.09,521.53,528.14,601.45,631.18,542.75,542.75,588.2,604.16,633.81,633.81,608.29,622.89,645.25,653.82,733.32,686.15,632.22,638.69,633.91,633.91,650.98,601.03,611.81,644.17,644.17,644.17,658.21,652.46,676.48,684.65,684.65,582.65,595.06,595.06,629.02,629.02,629.02,650.56,650.56,681.38,725.78,725.78,734.38,743.35,730.58,730.58,736.97,739.56,739.56,739.56,596.83,610.5,610.5,655.85,725.72,725.72,641.62,641.62,666.61,666.61,652.93,652.93,587.33,587.33,587.33,587.33,587.33,587.33,587.33,587.33,601.51,601.51,601.51,601.51,601.51,601.51,614.03,614.03,622.24,622.24,671.48,671.48,671.48,772.95,772.95,772.95,772.95,772.95,772.95,772.95,779.67,779.67,805.64,835.83,835.83,835.83,359.65,301.16,258.72,331.86,347.01,346.69,317.16,442.4,478.16,459.07,467.6,550.72,516.47,504.72,548.65,614.17,625.07,604.44,598.52,586.37,586.37,581.13,601.2,601.2,601.2,641.94,651.38,651.38,565.59,572.67,593.38,593.38,593.38,593.38,606.1,606.1,514.31,533.5,539.01,539.01,544.72,544.72,544.72,544.72,544.72,551.88,586.56,580.54,480.83,480.83,480.83,480.83,493.59,493.59,493.59,493.59,582.89,582.89,507.78,520.85,520.85,527.67,527.67,581.02,596.03,596.03,607.92,607.92,613.37,613.37,699.34,699.34,699.34,699.34,699.34,699.34,711.63,728.37,728.37,737.09,743.48,743.48,775.67,762.4,787.87,787.87,828.23,828.23,828.23,828.23,828.23,828.23,821.14,821.14,821.14,821.14,763.93,651.62,651.62,651.62,651.62,651.62,675.87,675.87,675.87,675.87,719.95,665.41,680.42,680.42,680.42,694.48,694.48,694.48,694.48,219.99,302.94,285.26,272.04,292.82,285.91,335.97,376.09,415.42,465.48,490.58,490.58,482.89,439.5,439.5,392.32,411.95,417.52,476.76,484.36,484.36,410.31,408.13,424.06,418.49,418.49,418.49,422.48,422.48,428.42,444.26,444.26,449.3,449.3,449.3,460.3,460.3,460.3,460.3,475.58,475.58,471.18,477.26,477.26,483.75,483.75,473.04,393.75,393.75,393.75,393.75,402.73,402.73,388.64,325.11,325.11,325.11,325.11,370.9,370.9,378.14,411.61,411.61,417.11,433.27,433.27,418.86,437.56,437.56,442.36,465.19,465.19,465.19,465.19,465.19,465.19,465.19,465.19,465.19,550.22,550.22,550.22,550.22,550.22,550.22,562.37,562.37,562.37,569.42,576.86,576.86,576.86,495.53,495.53,444.15,444.15,450.2,450.2,389.68,389.68,389.68,389.68,389.68,399.18,395.4,395.4,395.4,395.4,395.4,395.4,395.4,395.4,395.4,399.18,399.18,641.91,505.59,535.02,519.27,535.63,535.63,449.55,466.57,477.68,424.4,437.54,381.94,392.41,434.07,481.15,479.06,482.39,499.49,499.49,492.34,490.14,511.4,525.3,512.3,512.3,517.01,513.24,529.16,447.25,387.05,459.69,484.63,456.79,441.74,406.3,414.09,424.27,408.7,408.7,384.29,384.29,316.56,311.68,311.68,314.85,301.75,342.88,342.88,342.88,342.88,342.88,342.88,346.29,346.29,358.46,358.46,358.46,376.19,381.25,381.25,381.25,381.25,381.25,385.67,385.67,385.67,390.89,387.14,392.61,392.61,287.65,299.52,299.52,299.52,293.51,293.51,293.51,297.93,297.93,297.93,305.17,305.17,305.17,305.3,305.3,252.61,252.61,252.61,252.61,252.61,252.61,252.61,252.61,252.61,252.61,252.61,252.61,252.61,252.61,252.61,267.46,267.46,267.46,282.55,282.55,282.55,344.03,370.67,370.67,370.67,377.91,377.91,388.08,388.08,388.08,268.72,377.63,305.55,329.15,410.91,454.22,318.19,356.44,234.99,233.21,219.71,237.26,295.53,340.18,335.17,300.36,317.14,338.44,347.38,291.76,299.84,299.84,357.12,366.85,405.97,437.32,454.72,472.06,472.06,508.99,508.99,522.29,535.39,541.94,548.11,548.11,509.23,509.23,521.26,521.26,521.26,547.14,496.28,492.36,462.61,462.61,457.59,525.37,487.85,513.97,519.36,519.36,484.97,484.97,496.91,496.91,467.06,433.04,433.04,439.27,412.67,380.53,380.53,380.53,380.53,365.51,365.51,360.99,334.2,345.24,341.3,341.3,320.68,355.2,374.12,374.12,384.0,379.21,384.2,388.6,388.6,383.46,378.91,345.39,345.39,345.39,354.97,363.72,363.72,368.65,331.16,331.16,348.45,348.45,343.78,329.07,283.16,252.51,252.51,260.09,271.46,299.16,331.52,331.52,331.52,335.88,339.81,339.81,339.81,339.81,339.81,339.91,339.91,322.77,322.77,435.02,414.7,325.66,315.8,394.75,404.17,421.53,391.95,390.02,371.97,338.41,414.81,427.55,439.02,410.94,363.6,254.32,207.91,284.81,281.22,281.22,289.33,297.7,320.76,320.76,320.76,335.15,312.57,252.53,259.65,288.19,236.36,262.76,262.76,259.37,267.18,267.18,241.55,251.7,262.77,279.27,279.27,304.01,308.17,299.84,271.85,291.63,278.68,278.68,278.68,278.68,290.52,299.0,346.75,346.75,331.03,340.2,285.45,281.39,281.39,281.39,258.34,265.73,272.57,280.25,280.25,288.09,295.7,299.7,317.12,340.23,340.23,349.7,349.7,359.58,359.58,332.01,332.01,333.66,327.12,335.33,317.92,317.92,317.92,326.72,322.18,322.18,322.18,326.44,330.75,330.75,338.84,343.37,398.07,398.07,403.37,403.37,403.37,403.37,474.07,474.07,474.07,474.07,474.07,474.07,469.72,469.72,469.72,469.72,495.61,495.61,490.12,495.3,504.39,516.47,260.73,292.38,407.68,392.26,494.65,328.56,334.67,344.44,385.84,365.08,303.18,309.19,452.71,476.78,426.13,414.24,418.38,472.06,508.09,572.27,566.15,566.15,711.46,728.91,714.12,722.52,604.86,507.32,507.32,507.32,526.86,452.04,418.91,424.44,449.21,449.21,449.21,527.91,602.81,602.81,593.89,608.6,647.04,664.55,664.55,607.41,607.41,646.27,691.37,615.23,615.23,615.23,670.86,670.86,632.32,640.28,640.28,655.86,655.86,655.86,574.91,603.93,603.93,603.93,489.19,516.28,534.59,534.59,534.59,534.59,495.61,495.61,495.61,528.86,535.15,541.32,541.32,541.32,554.27,628.32,667.42,616.26,559.4,553.77,566.1,566.1,579.83,599.83,599.83,599.83,572.14,572.14,572.14,572.14,572.14,572.14,572.14,572.14,518.37,583.17,605.05,605.05,548.64,561.49,508.45,525.05,545.5,545.5,566.63,566.63,566.63,499.97,499.97,499.97,499.97,388.41,365.07,368.02,375.34,474.13,505.67,560.2,529.99,523.69,550.51,491.77,495.89,693.83,632.28,550.64,543.86,550.36,550.36,582.41,518.39,518.39,558.54,677.86,677.86,650.64,735.5,735.5,752.73,864.71,955.55,850.66,850.66,753.84,741.97,741.97,748.4,766.64,873.67,873.67,914.24,914.24,945.36,945.36,767.65,767.65,777.62,777.62,796.02,796.02,724.96,791.03,717.83,717.83,717.83,717.83,726.53,726.53,719.01,727.2,660.67,660.67,770.06,691.13,691.13,691.13,691.13,699.2,705.3,590.12,516.72,516.72,516.72,516.72,516.72,534.86,576.33,561.13,567.68,567.68,567.68,616.74,616.74,556.22,582.21,582.21,582.21,589.55,589.55,589.55,597.13,597.13,606.07,555.09,555.09,555.09,584.87,584.87,584.87,584.87,525.55,525.55,473.9,473.9,487.1,487.1,487.1,519.35,544.94,544.94,461.09,472.2,472.2,472.2,472.2,472.2,353.75,425.89,568.85,449.41,530.18,516.52,438.87,552.38,516.6,542.63,522.12,528.36,479.92,517.75,500.75,507.21,540.82,457.51,449.34,478.61,484.76,736.44,771.89,666.44,666.44,720.64,739.67,775.03,775.03,744.59,667.18,690.91,700.0,784.38,734.32,677.08,683.96,678.88,678.88,697.0,643.98,655.42,689.76,675.12,589.86,602.87,597.55,619.81,627.39,635.56,539.94,551.57,551.57,583.41,583.41,583.41,588.63,588.63,644.26,686.55,686.55,694.74,703.29,779.02,779.02,785.78,788.53,788.53,788.53,637.48,651.94,651.94,699.93,773.88,773.88,684.87,684.87,711.33,711.33,702.97,702.97,633.02,633.02,633.02,633.02,633.02,633.02,633.02,633.02,648.13,648.13,648.13,648.13,648.13,550.94,562.56,562.56,577.88,577.88,624.1,624.1,624.1,719.34,719.34,719.34,719.34,719.34,719.34,719.34,725.64,725.64,750.02,768.91,768.91,768.91,422.08,355.64,305.89,388.65,405.79,405.43,372.02,513.73,549.19,545.69,555.55,651.54,617.28,603.6,654.72,730.94,659.27,638.74,632.53,578.2,578.2,573.02,585.24,585.24,590.52,630.63,639.93,639.93,555.44,562.41,528.26,528.26,528.26,528.26,539.79,690.75,587.95,609.45,615.62,615.62,622.01,622.01,627.56,627.56,627.56,635.65,674.78,667.86,555.36,555.36,555.36,555.36,569.76,569.76,569.76,569.76,670.52,670.52,510.33,523.45,523.45,530.31,530.31,583.88,598.95,598.95,610.9,610.9,616.37,616.37,702.69,702.69,702.69,702.69,702.69,702.69,715.04,731.85,731.85,734.19,648.09,648.09,676.65,664.88,687.47,687.47,723.26,723.26,723.26,723.26,732.51,732.51,726.16,726.16,726.16,726.16,658.36,559.77,559.77,559.77,559.77,559.77,581.06,581.06,581.06,581.06,619.75,571.87,585.05,585.05,585.05,597.39,597.39,597.39,597.39,249.53,340.14,311.68,297.56,319.76,323.32,378.23,422.24,408.43,457.81,482.56,482.56,474.98,426.33,441.96,394.57,414.29,419.88,433.1,445.33,445.33,441.35,439.03,455.94,449.94,394.95,394.95,398.75,398.75,375.06,389.3,389.3,397.63,397.63,397.63,407.6,407.6,407.6,407.6,421.44,421.44,417.46,422.96,422.96,428.84,428.84,419.14,347.31,347.31,347.31,347.31,355.44,355.44,454.56,382.47,382.47,382.47,382.47,550.52,550.52,560.53,606.76,606.76,614.36,623.76,623.76,604.02,629.39,629.39,635.91,666.89,666.89,666.89,672.79,672.79,672.79,672.79,672.79,672.79,789.05,789.05,789.05,789.05,789.05,789.05,805.67,805.67,805.67,815.31,825.48,825.48,825.48,714.28,714.28,644.02,644.02,569.54,569.54,495.89,495.89,495.89,495.89,495.89,507.46,502.86,502.86,502.86,502.86,502.86,502.86,502.86,502.86,502.86,507.46,507.46,612.8,481.83,510.1,494.97,531.75,531.75,446.19,463.11,474.15,421.2,434.26,389.76,400.4,442.74,470.89,468.84,472.11,488.91,488.91,481.88,496.94,518.45,532.51,519.36,519.36,524.13,520.31,536.41,458.88,397.41,408.71,431.38,522.86,505.88,466.24,466.24,477.45,460.95,404.86,397.21,401.03,389.9,384.16,384.16,387.89,372.42,410.57,410.57,410.57,410.57,410.57,410.57,414.5,414.5,428.53,428.53,428.53,448.96,454.8,454.8,454.8,454.8,454.8,459.89,459.89,459.89,465.91,461.59,467.9,467.9,346.9,346.9,346.9,346.9,340.18,340.18,340.18,345.12,345.12,345.12,353.22,353.22,353.22,353.36,353.36,294.43,294.43,294.43,294.43,294.43,305.09,305.09,400.67,400.67,400.67,400.67,400.67,400.67,400.67,400.67,421.75,421.75,421.75,443.18,443.18,443.18,530.48,568.3,568.3,562.34,572.53,572.53,586.84,586.84,586.84],\"coloraxis\":\"coloraxis\",\"symbol\":\"circle\"},\"mode\":\"markers\",\"name\":\"\",\"scene\":\"scene\",\"showlegend\":false,\"x\":[5,5,5,5,5,5,5,5,5,5,5,5,5,5,5,5,5,5,5,5,5,5,5,5,5,5,5,5,5,5,5,5,5,5,5,5,5,5,5,5,5,5,5,5,5,5,5,5,5,5,5,5,5,5,5,5,5,5,5,5,5,5,5,5,5,5,5,5,5,5,5,5,5,5,5,5,5,5,5,5,5,5,5,5,5,5,5,5,5,5,5,5,5,5,5,5,5,5,5,5,5,5,5,5,5,5,5,5,5,5,5,5,5,5,5,5,5,5,5,5,5,5,5,5,5,5,5,5,5,5,5,5,5,5,5,5,5,5,5,5,5,5,5,5,5,5,5,5,5,5,5,5,5,5,5,5,5,5,5,5,5,5,5,5,5,5,5,5,5,5,5,5,5,5,5,5,5,5,5,5,5,5,5,5,5,5,5,5,5,5,5,5,5,5,5,5,5,5,5,5,5,5,5,5,5,5,5,5,5,5,5,5,5,5,5,5,5,5,5,5,5,5,5,5,5,5,5,5,5,5,5,5,5,5,5,5,5,5,5,5,5,5,5,5,5,5,5,5,5,5,5,5,5,5,5,5,5,5,5,5,5,5,5,5,5,5,5,5,5,5,5,5,5,5,5,5,5,5,5,5,5,5,5,5,5,5,5,5,5,5,5,5,5,5,5,5,5,5,5,5,5,5,5,5,5,5,5,5,5,5,5,5,5,5,5,5,5,5,5,5,5,5,5,5,5,5,5,5,5,5,5,5,5,5,5,5,5,5,5,5,5,5,5,5,5,5,5,5,5,5,5,5,5,5,5,5,5,5,5,5,5,5,5,5,5,5,5,5,5,5,5,5,5,5,5,5,5,5,5,5,5,5,5,5,5,5,5,5,5,5,5,5,5,5,5,5,5,5,5,5,5,5,5,5,5,5,5,5,5,5,5,5,5,5,5,5,5,5,5,5,5,5,5,5,5,5,5,5,5,5,5,5,5,5,5,5,5,5,5,5,5,5,5,5,5,5,5,5,5,5,5,5,5,5,5,5,5,5,5,5,5,5,5,5,5,5,5,5,5,5,5,5,5,5,5,5,5,5,5,5,5,5,5,5,5,5,5,5,5,5,5,5,5,5,5,5,5,5,5,5,5,5,5,5,5,5,5,5,5,5,5,5,5,5,5,5,5,5,5,5,5,5,5,5,5,5,5,5,5,5,5,5,5,5,5,5,5,5,5,5,5,5,5,5,5,5,5,5,5,5,5,5,5,5,5,5,5,5,5,5,5,5,5,5,5,5,5,5,5,5,5,5,5,5,5,5,5,5,5,5,5,5,5,5,5,5,5,5,5,5,5,5,5,5,5,5,5,5,5,5,5,5,5,5,5,5,5,5,5,5,5,5,5,5,5,5,5,5,5,5,5,5,5,5,5,5,5,5,5,5,5,5,5,5,5,5,5,5,5,5,5,5,5,5,5,5,5,5,5,5,5,5,5,5,5,5,5,5,5,5,5,5,5,5,5,5,5,5,5,5,5,5,5,5,5,5,5,5,5,5,5,5,5,5,5,5,5,5,5,5,5,5,5,5,5,5,5,5,5,5,5,5,5,5,5,5,5,5,5,5,5,5,5,5,5,5,5,5,5,5,5,5,5,5,5,5,5,5,5,5,5,5,5,5,5,5,5,5,5,5,5,5,5,5,5,5,5,5,5,5,5,5,5,5,5,5,5,5,5,5,5,5,5,5,5,5,5,5,5,5,5,5,5,5,5,5,5,5,5,5,5,5,5,5,5,5,5,5,5,5,5,5,5,5,5,5,5,5,5,5,5,5,5,5,5,5,5,5,5,5,5,5,5,5,5,5,5,5,5,5,5,5,5,5,5,5,5,5,5,5,5,5,5,5,5,5,5,5,5,5,5,5,5,5,5,5,5,5,5,5,5,5,5,5,5,5,5,5,5,5,5,5,5,5,5,5,5,5,5,5,5,5,5,5,5,5,5,5,5,5,5,5,5,5,5,5,5,5,5,5,5,5,5,5,5,5,5,5,5,5,5,5,5,5,5,5,5,5,5,5,5,5,5,5,5,5,5,5,5,5,10,10,10,10,10,10,10,10,10,10,10,10,10,10,10,10,10,10,10,10,10,10,10,10,10,10,10,10,10,10,10,10,10,10,10,10,10,10,10,10,10,10,10,10,10,10,10,10,10,10,10,10,10,10,10,10,10,10,10,10,10,10,10,10,10,10,10,10,10,10,10,10,10,10,10,10,10,10,10,10,10,10,10,10,10,10,10,10,10,10,10,10,10,10,10,10,10,10,10,10,10,10,10,10,10,10,10,10,10,10,10,10,10,10,10,10,10,10,10,10,10,10,10,10,10,10,10,10,10,10,10,10,10,10,10,10,10,10,10,10,10,10,10,10,10,10,10,10,10,10,10,10,10,10,10,10,10,10,10,10,10,10,10,10,10,10,10,10,10,10,10,10,10,10,10,10,10,10,10,10,10,10,10,10,10,10,10,10,10,10,10,10,10,10,10,10,10,10,10,10,10,10,10,10,10,10,10,10,10,10,10,10,10,10,10,10,10,10,10,10,10,10,10,10,10,10,10,10,10,10,10,10,10,10,10,10,10,10,10,10,10,10,10,10,10,10,10,10,10,10,10,10,10,10,10,10,10,10,10,10,10,10,10,10,10,10,10,10,10,10,10,10,10,10,10,10,10,10,10,10,10,10,10,10,10,10,10,10,10,10,10,10,10,10,10,10,10,10,10,10,10,10,10,10,10,10,10,10,10,10,10,10,10,10,10,10,10,10,10,10,10,10,10,10,10,10,10,10,10,10,10,10,10,10,10,10,10,10,10,10,10,10,10,10,10,10,10,10,10,10,10,10,10,10,10,10,10,10,10,10,10,10,10,10,10,10,10,10,10,10,10,10,10,10,10,10,10,10,10,10,10,10,10,10,10,10,10,10,10,10,10,10,10,10,10,10,10,10,10,10,10,10,10,10,10,10,10,10,10,10,10,10,10,10,10,10,10,10,10,10,10,10,10,10,10,10,10,10,10,10,10,10,10,10,10,10,10,10,10,10,10,10,10,10,10,10,10,10,10,10,10,10,10,10,10,10,10,10,10,10,10,10,10,10,10,10,10,10,10,10,10,10,10,10,10,10,10,10,10,10,10,10,10,10,10,10,10,10,10,10,10,10,10,10,10,10,10,10,10,10,10,10,10,10,10,10,10,10,10,10,10,10,10,10,10,10,10,10,10,10,10,10,10,10,10,10,10,10,10,10,10,10,10,10,10,10,10,10,10,10,10,10,10,10,10,10,10,10,10,10,10,10,10,10,10,10,10,10,10,10,10,10,10,10,10,10,10,10,10,10,10,10,10,10,10,10,10,10,10,10,10,10,10,10,10,10,10,10,10,10,10,10,10,10,10,10,10,10,10,10,10,10,10,10,10,10,10,10,10,10,10,10,10,10,10,10,10,10,10,10,10,10,10,10,10,10,10,10,10,10,10,10,10,10,10,10,10,10,10,10,10,10,10,10,10,10,10,10,10,10,10,10,10,10,10,10,10,10,10,10,10,10,10,10,10,10,10,10,10,10,10,10,10,10,10,10,10,10,10,10,10,10,10,10,10,10,10,10,10,10,10,10,10,10,10,10,10,10,10,10,10,10,10,10,10,10,10,10,10,10,10,10,10,10,10,10,10,10,10,10,10,10,10,10,10,10,10,10,10,10,10,10,10,10,10,10,10,10,10,10,10,10,10,10,10,10,10,10,10,10,10,10,10,10,10,10,10,10,10,10,10,10,10,10,10,10,10,10,10,10,10,10,10,10,10,10,10,10,10,10,10,10,10,10,10,10,10,10,10,10,10,10,10,10,10,10,10,10,10,10,10,10,10,10,10,10,10,10,10,10,10,10,10,10,10,10,10,10,10,10,10,10,10,10,10,10,10,10,10,10,10,10,10,10,10,10,10,10,10,10,10,10,10,10,10,10,10,10,10,10,10,10,10,10,10,10,10,10,10,10,10,10,10,10,10,10,10,10,10,10,10,10,10,10,10,10,10,10,10,10,10,10,10,10,10,10,10,10,10,10,10,10,10,10,10,10,10,10,10,10,10,10,10,10,10,10,10,10,10,10,10,10,10,10,10,10,10,10,10,10,21,21,21,21,21,21,21,21,21,21,21,21,21,21,21,21,21,21,21,21,21,21,21,21,21,21,21,21,21,21,21,21,21,21,21,21,21,21,21,21,21,21,21,21,21,21,21,21,21,21,21,21,21,21,21,21,21,21,21,21,21,21,21,21,21,21,21,21,21,21,21,21,21,21,21,21,21,21,21,21,21,21,21,21,21,21,21,21,21,21,21,21,21,21,21,21,21,21,21,21,21,21,21,21,21,21,21,21,21,21,21,21,21,21,21,21,21,21,21,21,21,21,21,21,21,21,21,21,21,21,21,21,21,21,21,21,21,21,21,21,21,21,21,21,21,21,21,21,21,21,21,21,21,21,21,21,21,21,21,21,21,21,21,21,21,21,21,21,21,21,21,21,21,21,21,21,21,21,21,21,21,21,21,21,21,21,21,21,21,21,21,21,21,21,21,21,21,21,21,21,21,21,21,21,21,21,21,21,21,21,21,21,21,21,21,21,21,21,21,21,21,21,21,21,21,21,21,21,21,21,21,21,21,21,21,21,21,21,21,21,21,21,21,21,21,21,21,21,21,21,21,21,21,21,21,21,21,21,21,21,21,21,21,21,21,21,21,21,21,21,21,21,21,21,21,21,21,21,21,21,21,21,21,21,21,21,21,21,21,21,21,21,21,21,21,21,21,21,21,21,21,21,21,21,21,21,21,21,21,21,21,21,21,21,21,21,21,21,21,21,21,21,21,21,21,21,21,21,21,21,21,21,21,21,21,21,21,21,21,21,21,21,21,21,21,21,21,21,21,21,21,21,21,21,21,21,21,21,21,21,21,21,21,21,21,21,21,21,21,21,21,21,21,21,21,21,21,21,21,21,21,21,21,21,21,21,21,21,21,21,21,21,21,21,21,21,21,21,21,21,21,21,21,21,21,21,21,21,21,21,21,21,21,21,21,21,21,21,21,21,21,21,21,21,21,21,21,21,21,21,21,21,21,21,21,21,21,21,21,21,21,21,21,21,21,21,21,21,21,21,21,21,21,21,21,21,21,21,21,21,21,21,21,21,21,21,21,21,21,21,21,21,21,21,21,21,21,21,21,21,21,21,21,21,21,21,21,21,21,21,21,21,21,21,21,21,21,21,21,21,21,21,21,21,21,21,21,21,21,21,21,21,21,21,21,21,21,21,21,21,21,21,21,21,21,21,21,21,21,21,21,21,21,21,21,21,21,21,21,21,21,21,21,21,21,21,21,21,21,21,21,21,21,21,21,21,21,21,21,21,21,21,21,21,21,21,21,21,21,21,21,21,21,21,21,21,21,21,21,21,21,21,21,21,21,21,21,21,21,21,21,21,21,21,21,21,21,21,21,21,21,21,21,21,21,21,21,21,21,21,21,21,21,21,21,21,21,21,21,21,21,21,21,21,21,21,21,21,21,21,21,21,21,21,21,21,21,21,21,21,21,21,21,21,21,21,21,21,21,21,21,21,21,21,21,21,21,21,21,21,21,21,21,21,21,21,21,21,21,21,21,21,21,21,21,21,21,21,21,21,21,21,21,21,21,21,21,21,21,21,21,21,21,21,21,21,21,21,21,21,21,21,21,21,21,21,21,21,21,21,21,21,21,21,21,21,21,21,21,21,21,21,21,21,21,21,21,21,21,21,21,21,21,21,21,21,21,21,21,21,21,21,21,21,21,21,21,21,21,21,21,21,21,21,21,21,21,21,21,21,21,21,21,21,21,21,21,21,21,21,21,21,21,21,21,21,21,21,21,21,21,21,21,21,21,21,21,21,21,21,21,21,21,21,21,21,21,21,21,21,21,21,21,21,21,21,21,21,21,21,21,21,21,21,21,21,21,21,21,21,21,21,21,21,21,21,21,21,21,21,21,21,21,21,21,21,21,21,21,21,21,21,21,21,21,21,21,21,21,21,21,21,21,21,21,21,21,21,21,21,21,21,21,21,21,21,21,21,21,21,21,21,21,21,21,21,21,21,21,21,21,21,21,21,21,21,21,21,21,21,21,21,21,21,21,21,21,21,21,21,21,21,21,21,21,21,21,21,21,21,21,21,21,21,21,21,21,21,21,21,34,34,34,34,34,34,34,34,34,34,34,34,34,34,34,34,34,34,34,34,34,34,34,34,34,34,34,34,34,34,34,34,34,34,34,34,34,34,34,34,34,34,34,34,34,34,34,34,34,34,34,34,34,34,34,34,34,34,34,34,34,34,34,34,34,34,34,34,34,34,34,34,34,34,34,34,34,34,34,34,34,34,34,34,34,34,34,34,34,34,34,34,34,34,34,34,34,34,34,34,34,34,34,34,34,34,34,34,34,34,34,34,34,34,34,34,34,34,34,34,34,34,34,34,34,34,34,34,34,34,34,34,34,34,34,34,34,34,34,34,34,34,34,34,34,34,34,34,34,34,34,34,34,34,34,34,34,34,34,34,34,34,34,34,34,34,34,34,34,34,34,34,34,34,34,34,34,34,34,34,34,34,34,34,34,34,34,34,34,34,34,34,34,34,34,34,34,34,34,34,34,34,34,34,34,34,34,34,34,34,34,34,34,34,34,34,34,34,34,34,34,34,34,34,34,34,34,34,34,34,34,34,34,34,34,34,34,34,34,34,34,34,34,34,34,34,34,34,34,34,34,34,34,34,34,34,34,34,34,34,34,34,34,34,34,34,34,34,34,34,34,34,34,34,34,34,34,34,34,34,34,34,34,34,34,34,34,34,34,34,34,34,34,34,34,34,34,34,34,34,34,34,34,34,34,34,34,34,34,34,34,34,34,34,34,34,34,34,34,34,34,34,34,34,34,34,34,34,34,34,34,34,34,34,34,34,34,34,34,34,34,34,34,34,34,34,34,34,34,34,34,34,34,34,34,34,34,34,34,34,34,34,34,34,34,34,34,34,34,34,34,34,34,34,34,34,34,34,34,34,34,34,34,34,34,34,34,34,34,34,34,34,34,34,34,34,34,34,34,34,34,34,34,34,34,34,34,34,34,34,34,34,34,34,34,34,34,34,34,34,34,34,34,34,34,34,34,34,34,34,34,34,34,34,34,34,34,34,34,34,34,34,34,34,34,34,34,34,34,34,34,34,34,34,34,34,34,34,34,34,34,34,34,34,34,34,34,34,34,34,34,34,34,34,34,34,34,34,34,34,34,34,34,34,34,34,34,34,34,34,34,34,34,34,34,34,34,34,34,34,34,34,34,34,34,34,34,34,34,34,34,34,34,34,34,34,34,34,34,34,34,34,34,34,34,34,34,34,34,34,34,34,34,34,34,34,34,34,34,34,34,34,34,34,34,34,34,34,34,34,34,34,34,34,34,34,34,34,34,34,34,34,34,34,34,34,34,34,34,34,34,34,34,34,34,34,34,34,34,34,34,34,34,34,34,34,34,34,34,34,34,34,34,34,34,34,34,34,34,34,34,34,34,34,34,34,34,34,34,34,34,34,34,34,34,34,34,34,34,34,34,34,34,34,34,34,34,34,34,34,34,34,34,34,34,34,34,34,34,34,34,34,34,34,34,34,34,34,34,34,34,34,34,34,34,34,34,34,34,34,34,34,34,34,34,34,34,34,34,34,34,34,34,34,34,34,34,34,34,34,34,34,34,34,34,34,34,34,34,34,34,34,34,34,34,34,34,34,34,34,34,34,34,34,34,34,34,34,34,34,34,34,34,34,34,34,34,34,34,34,34,34,34,34,34,34,34,34,34,34,34,34,34,34,34,34,34,34,34,34,34,34,34,34,34,34,34,34,34,34,34,34,34,34,34,34,34,34,34,34,34,34,34,34,34,34,34,34,34,34,34,34,34,34,34,34,34,34,34,34,34,34,34,34,34,34,34,34,34,34,34,34,34,34,34,34,34,34,34,34,34,34,34,34,34,34,34,34,34,34,34,34,34,34,34,34,34,34,34,34,34,34,34,34,34,34,34,34,34,34,34,34,34,34,34,34,34,34,34,34,34,34,34,34,34,34,34,34,34,34,34,34,34,34,34,34,34,34,34,34,34,34,34,34,34,34,34,34,34,34,34,34,34,34,34,34,34,34,34,34,34,34,34,34,34,34,34,34,34,34,34,34,34,34,34,34,34,34,34,34,34,34,34,34,34,34,34,34,34,34,34,34,34,34,34,34,34,34,34,34,55,55,55,55,55,55,55,55,55,55,55,55,55,55,55,55,55,55,55,55,55,55,55,55,55,55,55,55,55,55,55,55,55,55,55,55,55,55,55,55,55,55,55,55,55,55,55,55,55,55,55,55,55,55,55,55,55,55,55,55,55,55,55,55,55,55,55,55,55,55,55,55,55,55,55,55,55,55,55,55,55,55,55,55,55,55,55,55,55,55,55,55,55,55,55,55,55,55,55,55,55,55,55,55,55,55,55,55,55,55,55,55,55,55,55,55,55,55,55,55,55,55,55,55,55,55,55,55,55,55,55,55,55,55,55,55,55,55,55,55,55,55,55,55,55,55,55,55,55,55,55,55,55,55,55,55,55,55,55,55,55,55,55,55,55,55,55,55,55,55,55,55,55,55,55,55,55,55,55,55,55,55,55,55,55,55,55,55,55,55,55,55,55,55,55,55,55,55,55,55,55,55,55,55,55,55,55,55,55,55,55,55,55,55,55,55,55,55,55,55,55,55,55,55,55,55,55,55,55,55,55,55,55,55,55,55,55,55,55,55,55,55,55,55,55,55,55,55,55,55,55,55,55,55,55,55,55,55,55,55,55,55,55,55,55,55,55,55,55,55,55,55,55,55,55,55,55,55,55,55,55,55,55,55,55,55,55,55,55,55,55,55,55,55,55,55,55,55,55,55,55,55,55,55,55,55,55,55,55,55,55,55,55,55,55,55,55,55,55,55,55,55,55,55,55,55,55,55,55,55,55,55,55,55,55,55,55,55,55,55,55,55,55,55,55,55,55,55,55,55,55,55,55,55,55,55,55,55,55,55,55,55,55,55,55,55,55,55,55,55,55,55,55,55,55,55,55,55,55,55,55,55,55,55,55,55,55,55,55,55,55,55,55,55,55,55,55,55,55,55,55,55,55,55,55,55,55,55,55,55,55,55,55,55,55,55,55,55,55,55,55,55,55,55,55,55,55,55,55,55,55,55,55,55,55,55,55,55,55,55,55,55,55,55,55,55,55,55,55,55,55,55,55,55,55,55,55,55,55,55,55,55,55,55,55,55,55,55,55,55,55,55,55,55,55,55,55,55,55,55,55,55,55,55,55,55,55,55,55,55,55,55,55,55,55,55,55,55,55,55,55,55,55,55,55,55,55,55,55,55,55,55,55,55,55,55,55,55,55,55,55,55,55,55,55,55,55,55,55,55,55,55,55,55,55,55,55,55,55,55,55,55,55,55,55,55,55,55,55,55,55,55,55,55,55,55,55,55,55,55,55,55,55,55,55,55,55,55,55,55,55,55,55,55,55,55,55,55,55,55,55,55,55,55,55,55,55,55,55,55,55,55,55,55,55,55,55,55,55,55,55,55,55,55,55,55,55,55,55,55,55,55,55,55,55,55,55,55,55,55,55,55,55,55,55,55,55,55,55,55,55,55,55,55,55,55,55,55,55,55,55,55,55,55,55,55,55,55,55,55,55,55,55,55,55,55,55,55,55,55,55,55,55,55,55,55,55,55,55,55,55,55,55,55,55,55,55,55,55,55,55,55,55,55,55,55,55,55,55,55,55,55,55,55,55,55,55,55,55,55,55,55,55,55,55,55,55,55,55,55,55,55,55,55,55,55,55,55,55,55,55,55,55,55,55,55,55,55,55,55,55,55,55,55,55,55,55,55,55,55,55,55,55,55,55,55,55,55,55,55,55,55,55,55,55,55,55,55,55,55,55,55,55,55,55,55,55,55,55,55,55,55,55,55,55,55,55,55,55,55,55,55,55,55,55,55,55,55,55,55,55,55,55,55,55,55,55,55,55,55,55,55,55,55,55,55,55,55,55,55,55,55,55,55,55,55,55,55,55,55,55,55,55,55,55,55,55,55,55,55,55,55,55,55,55,55,55,55,55,55,55,55,55,55,55,55,55,55,55,55,55,55,55,55,55,55,55,55,55,55,55,55,55,55,55,55,55,55,55,55,55,55,55,55,55,55,55,55,55,55,55,55,55,55,55,55,55,55,55,55,55,55,55,55,55,55,55,55,55,55,55,55,55,55,55,55,55,55,55,55,55,55,55,55,55,55,55,55,55,55,70,70,70,70,70,70,70,70,70,70,70,70,70,70,70,70,70,70,70,70,70,70,70,70,70,70,70,70,70,70,70,70,70,70,70,70,70,70,70,70,70,70,70,70,70,70,70,70,70,70,70,70,70,70,70,70,70,70,70,70,70,70,70,70,70,70,70,70,70,70,70,70,70,70,70,70,70,70,70,70,70,70,70,70,70,70,70,70,70,70,70,70,70,70,70,70,70,70,70,70,70,70,70,70,70,70,70,70,70,70,70,70,70,70,70,70,70,70,70,70,70,70,70,70,70,70,70,70,70,70,70,70,70,70,70,70,70,70,70,70,70,70,70,70,70,70,70,70,70,70,70,70,70,70,70,70,70,70,70,70,70,70,70,70,70,70,70,70,70,70,70,70,70,70,70,70,70,70,70,70,70,70,70,70,70,70,70,70,70,70,70,70,70,70,70,70,70,70,70,70,70,70,70,70,70,70,70,70,70,70,70,70,70,70,70,70,70,70,70,70,70,70,70,70,70,70,70,70,70,70,70,70,70,70,70,70,70,70,70,70,70,70,70,70,70,70,70,70,70,70,70,70,70,70,70,70,70,70,70,70,70,70,70,70,70,70,70,70,70,70,70,70,70,70,70,70,70,70,70,70,70,70,70,70,70,70,70,70,70,70,70,70,70,70,70,70,70,70,70,70,70,70,70,70,70,70,70,70,70,70,70,70,70,70,70,70,70,70,70,70,70,70,70,70,70,70,70,70,70,70,70,70,70,70,70,70,70,70,70,70,70,70,70,70,70,70,70,70,70,70,70,70,70,70,70,70,70,70,70,70,70,70,70,70,70,70,70,70,70,70,70,70,70,70,70,70,70,70,70,70,70,70,70,70,70,70,70,70,70,70,70,70,70,70,70,70,70,70,70,70,70,70,70,70,70,70,70,70,70,70,70,70,70,70,70,70,70,70,70,70,70,70,70,70,70,70,70,70,70,70,70,70,70,70,70,70,70,70,70,70,70,70,70,70,70,70,70,70,70,70,70,70,70,70,70,70,70,70,70,70,70,70,70,70,70,70,70,70,70,70,70,70,70,70,70,70,70,70,70,70,70,70,70,70,70,70,70,70,70,70,70,70,70,70,70,70,70,70,70,70,70,70,70,70,70,70,70,70,70,70,70,70,70,70,70,70,70,70,70,70,70,70,70,70,70,70,70,70,70,70,70,70,70,70,70,70,70,70,70,70,70,70,70,70,70,70,70,70,70,70,70,70,70,70,70,70,70,70,70,70,70,70,70,70,70,70,70,70,70,70,70,70,70,70,70,70,70,70,70,70,70,70,70,70,70,70,70,70,70,70,70,70,70,70,70,70,70,70,70,70,70,70,70,70,70,70,70,70,70,70,70,70,70,70,70,70,70,70,70,70,70,70,70,70,70,70,70,70,70,70,70,70,70,70,70,70,70,70,70,70,70,70,70,70,70,70,70,70,70,70,70,70,70,70,70,70,70,70,70,70,70,70,70,70,70,70,70,70,70,70,70,70,70,70,70,70,70,70,70,70,70,70,70,70,70,70,70,70,70,70,70,70,70,70,70,70,70,70,70,70,70,70,70,70,70,70,70,70,70,70,70,70,70,70,70,70,70,70,70,70,70,70,70,70,70,70,70,70,70,70,70,70,70,70,70,70,70,70,70,70,70,70,70,70,70,70,70,70,70,70,70,70,70,70,70,70,70,70,70,70,70,70,70,70,70,70,70,70,70,70,70,70,70,70,70,70,70,70,70,70,70,70,70,70,70,70,70,70,70,70,70,70,70,70,70,70,70,70,70,70,70,70,70,70,70,70,70,70,70,70,70,70,70,70,70,70,70,70,70,70,70,70,70,70,70,70,70,70,70,70,70,70,70,70,70,70,70,70,70,70,70,70,70,70,70,70,70,70,70,70,70,70,70,70,70,70,70,70,70,70,70,70,70,70,70,70,70,70,70,70,70,70,70,70,70,70,70,70,70,70,70,70,70,70,70,70,70,70,70,70,70,70,70,70,70,70,70,70,70,70,70,70,70,70,70,70,70,70,70,70,70,70,70,70,70,70,70,70,70,70,89,89,89,89,89,89,89,89,89,89,89,89,89,89,89,89,89,89,89,89,89,89,89,89,89,89,89,89,89,89,89,89,89,89,89,89,89,89,89,89,89,89,89,89,89,89,89,89,89,89,89,89,89,89,89,89,89,89,89,89,89,89,89,89,89,89,89,89,89,89,89,89,89,89,89,89,89,89,89,89,89,89,89,89,89,89,89,89,89,89,89,89,89,89,89,89,89,89,89,89,89,89,89,89,89,89,89,89,89,89,89,89,89,89,89,89,89,89,89,89,89,89,89,89,89,89,89,89,89,89,89,89,89,89,89,89,89,89,89,89,89,89,89,89,89,89,89,89,89,89,89,89,89,89,89,89,89,89,89,89,89,89,89,89,89,89,89,89,89,89,89,89,89,89,89,89,89,89,89,89,89,89,89,89,89,89,89,89,89,89,89,89,89,89,89,89,89,89,89,89,89,89,89,89,89,89,89,89,89,89,89,89,89,89,89,89,89,89,89,89,89,89,89,89,89,89,89,89,89,89,89,89,89,89,89,89,89,89,89,89,89,89,89,89,89,89,89,89,89,89,89,89,89,89,89,89,89,89,89,89,89,89,89,89,89,89,89,89,89,89,89,89,89,89,89,89,89,89,89,89,89,89,89,89,89,89,89,89,89,89,89,89,89,89,89,89,89,89,89,89,89,89,89,89,89,89,89,89,89,89,89,89,89,89,89,89,89,89,89,89,89,89,89,89,89,89,89,89,89,89,89,89,89,89,89,89,89,89,89,89,89,89,89,89,89,89,89,89,89,89,89,89,89,89,89,89,89,89,89,89,89,89,89,89,89,89,89,89,89,89,89,89,89,89,89,89,89,89,89,89,89,89,89,89,89,89,89,89,89,89,89,89,89,89,89,89,89,89,89,89,89,89,89,89,89,89,89,89,89,89,89,89,89,89,89,89,89,89,89,89,89,89,89,89,89,89,89,89,89,89,89,89,89,89,89,89,89,89,89,89,89,89,89,89,89,89,89,89,89,89,89,89,89,89,89,89,89,89,89,89,89,89,89,89,89,89,89,89,89,89,89,89,89,89,89,89,89,89,89,89,89,89,89,89,89,89,89,89,89,89,89,89,89,89,89,89,89,89,89,89,89,89,89,89,89,89,89,89,89,89,89,89,89,89,89,89,89,89,89,89,89,89,89,89,89,89,89,89,89,89,89,89,89,89,89,89,89,89,89,89,89,89,89,89,89,89,89,89,89,89,89,89,89,89,89,89,89,89,89,89,89,89,89,89,89,89,89,89,89,89,89,89,89,89,89,89,89,89,89,89,89,89,89,89,89,89,89,89,89,89,89,89,89,89,89,89,89,89,89,89,89,89,89,89,89,89,89,89,89,89,89,89,89,89,89,89,89,89,89,89,89,89,89,89,89,89,89,89,89,89,89,89,89,89,89,89,89,89,89,89,89,89,89,89,89,89,89,89,89,89,89,89,89,89,89,89,89,89,89,89,89,89,89,89,89,89,89,89,89,89,89,89,89,89,89,89,89,89,89,89,89,89,89,89,89,89,89,89,89,89,89,89,89,89,89,89,89,89,89,89,89,89,89,89,89,89,89,89,89,89,89,89,89,89,89,89,89,89,89,89,89,89,89,89,89,89,89,89,89,89,89,89,89,89,89,89,89,89,89,89,89,89,89,89,89,89,89,89,89,89,89,89,89,89,89,89,89,89,89,89,89,89,89,89,89,89,89,89,89,89,89,89,89,89,89,89,89,89,89,89,89,89,89,89,89,89,89,89,89,89,89,89,89,89,89,89,89,89,89,89,89,89,89,89,89,89,89,89,89,89,89,89,89,89,89,89,89,89,89,89,89,89,89,89,89,89,89,89,89,89,89,89,89,89,89,89,89,89,89,89,89,89,89,89,89,89,89,89,89,89,89,89,89,89,89,89,89,89,89,89,89,89,89,89,89,89,89,89,89,89,89,89,89,89,89,89,89,89,89,89,89,89,89,89,89,89,89,89,89,89,89,89,89,89,89,89,89,89,89,89,89,89,89,89,89,89,89,89,89,89,89,89,89,89,89,89,89,89,89,89,144,144,144,144,144,144,144,144,144,144,144,144,144,144,144,144,144,144,144,144,144,144,144,144,144,144,144,144,144,144,144,144,144,144,144,144,144,144,144,144,144,144,144,144,144,144,144,144,144,144,144,144,144,144,144,144,144,144,144,144,144,144,144,144,144,144,144,144,144,144,144,144,144,144,144,144,144,144,144,144,144,144,144,144,144,144,144,144,144,144,144,144,144,144,144,144,144,144,144,144,144,144,144,144,144,144,144,144,144,144,144,144,144,144,144,144,144,144,144,144,144,144,144,144,144,144,144,144,144,144,144,144,144,144,144,144,144,144,144,144,144,144,144,144,144,144,144,144,144,144,144,144,144,144,144,144,144,144,144,144,144,144,144,144,144,144,144,144,144,144,144,144,144,144,144,144,144,144,144,144,144,144,144,144,144,144,144,144,144,144,144,144,144,144,144,144,144,144,144,144,144,144,144,144,144,144,144,144,144,144,144,144,144,144,144,144,144,144,144,144,144,144,144,144,144,144,144,144,144,144,144,144,144,144,144,144,144,144,144,144,144,144,144,144,144,144,144,144,144,144,144,144,144,144,144,144,144,144,144,144,144,144,144,144,144,144,144,144,144,144,144,144,144,144,144,144,144,144,144,144,144,144,144,144,144,144,144,144,144,144,144,144,144,144,144,144,144,144,144,144,144,144,144,144,144,144,144,144,144,144,144,144,144,144,144,144,144,144,144,144,144,144,144,144,144,144,144,144,144,144,144,144,144,144,144,144,144,144,144,144,144,144,144,144,144,144,144,144,144,144,144,144,144,144,144,144,144,144,144,144,144,144,144,144,144,144,144,144,144,144,144,144,144,144,144,144,144,144,144,144,144,144,144,144,144,144,144,144,144,144,144,144,144,144,144,144,144,144,144,144,144,144,144,144,144,144,144,144,144,144,144,144,144,144,144,144,144,144,144,144,144,144,144,144,144,144,144,144,144,144,144,144,144,144,144,144,144,144,144,144,144,144,144,144,144,144,144,144,144,144,144,144,144,144,144,144,144,144,144,144,144,144,144,144,144,144,144,144,144,144,144,144,144,144,144,144,144,144,144,144,144,144,144,144,144,144,144,144,144,144,144,144,144,144,144,144,144,144,144,144,144,144,144,144,144,144,144,144,144,144,144,144,144,144,144,144,144,144,144,144,144,144,144,144,144,144,144,144,144,144,144,144,144,144,144,144,144,144,144,144,144,144,144,144,144,144,144,144,144,144,144,144,144,144,144,144,144,144,144,144,144,144,144,144,144,144,144,144,144,144,144,144,144,144,144,144,144,144,144,144,144,144,144,144,144,144,144,144,144,144,144,144,144,144,144,144,144,144,144,144,144,144,144,144,144,144,144,144,144,144,144,144,144,144,144,144,144,144,144,144,144,144,144,144,144,144,144,144,144,144,144,144,144,144,144,144,144,144,144,144,144,144,144,144,144,144,144,144,144,144,144,144,144,144,144,144,144,144,144,144,144,144,144,144,144,144,144,144,144,144,144,144,144,144,144,144,144,144,144,144,144,144,144,144,144,144,144,144,144,144,144,144,144,144,144,144,144,144,144,144,144,144,144,144,144,144,144,144,144,144,144,144,144,144,144,144,144,144,144,144,144,144,144,144,144,144,144,144,144,144,144,144,144,144,144,144,144,144,144,144,144,144,144,144,144,144,144,144,144,144,144,144,144,144,144,144,144,144,144,144,144,144,144,144,144,144,144,144,144,144,144,144,144,144,144,144,144,144,144,144,144,144,144,144,144,144,144,144,144,144,144,144,144,144,144,144,144,144,144,144,144,144,144,144,144,144,144,144,144,144,144,144,144,144,144,144,144,144,144,144,144,144,144,144,144,144,144,144,144,144,144,144,144,144,144,144,144,144,144,144,144,144,144,144,144,144,144,144,144,144,144,144,144,144,144,144,144,144,144,144,144,144,144,144,144,144,144,144,144,144,144,144,144,144,144,144,144,144,144,144,144,144,144,144,144,144,144,144,144,144,144,144,144,144,144,144,144,144,144,144,144,144,144,144,144,144,144,144,144,144,144,144,144,144,144,144,144,144,144,144,200,200,200,200,200,200,200,200,200,200,200,200,200,200,200,200,200,200,200,200,200,200,200,200,200,200,200,200,200,200,200,200,200,200,200,200,200,200,200,200,200,200,200,200,200,200,200,200,200,200,200,200,200,200,200,200,200,200,200,200,200,200,200,200,200,200,200,200,200,200,200,200,200,200,200,200,200,200,200,200,200,200,200,200,200,200,200,200,200,200,200,200,200,200,200,200,200,200,200,200,200,200,200,200,200,200,200,200,200,200,200,200,200,200,200,200,200,200,200,200,200,200,200,200,200,200,200,200,200,200,200,200,200,200,200,200,200,200,200,200,200,200,200,200,200,200,200,200,200,200,200,200,200,200,200,200,200,200,200,200,200,200,200,200,200,200,200,200,200,200,200,200,200,200,200,200,200,200,200,200,200,200,200,200,200,200,200,200,200,200,200,200,200,200,200,200,200,200,200,200,200,200,200,200,200,200,200,200,200,200,200,200,200,200,200,200,200,200,200,200,200,200,200,200,200,200,200,200,200,200,200,200,200,200,200,200,200,200,200,200,200,200,200,200,200,200,200,200,200,200,200,200,200,200,200,200,200,200,200,200,200,200,200,200,200,200,200,200,200,200,200,200,200,200,200,200,200,200,200,200,200,200,200,200,200,200,200,200,200,200,200,200,200,200,200,200,200,200,200,200,200,200,200,200,200,200,200,200,200,200,200,200,200,200,200,200,200,200,200,200,200,200,200,200,200,200,200,200,200,200,200,200,200,200,200,200,200,200,200,200,200,200,200,200,200,200,200,200,200,200,200,200,200,200,200,200,200,200,200,200,200,200,200,200,200,200,200,200,200,200,200,200,200,200,200,200,200,200,200,200,200,200,200,200,200,200,200,200,200,200,200,200,200,200,200,200,200,200,200,200,200,200,200,200,200,200,200,200,200,200,200,200,200,200,200,200,200,200,200,200,200,200,200,200,200,200,200,200,200,200,200,200,200,200,200,200,200,200,200,200,200,200,200,200,200,200,200,200,200,200,200,200,200,200,200,200,200,200,200,200,200,200,200,200,200,200,200,200,200,200,200,200,200,200,200,200,200,200,200,200,200,200,200,200,200,200,200,200,200,200,200,200,200,200,200,200,200,200,200,200,200,200,200,200,200,200,200,200,200,200,200,200,200,200,200,200,200,200,200,200,200,200,200,200,200,200,200,200,200,200,200,200,200,200,200,200,200,200,200,200,200,200,200,200,200,200,200,200,200,200,200,200,200,200,200,200,200,200,200,200,200,200,200,200,200,200,200,200,200,200,200,200,200,200,200,200,200,200,200,200,200,200,200,200,200,200,200,200,200,200,200,200,200,200,200,200,200,200,200,200,200,200,200,200,200,200,200,200,200,200,200,200,200,200,200,200,200,200,200,200,200,200,200,200,200,200,200,200,200,200,200,200,200,200,200,200,200,200,200,200,200,200,200,200,200,200,200,200,200,200,200,200,200,200,200,200,200,200,200,200,200,200,200,200,200,200,200,200,200,200,200,200,200,200,200,200,200,200,200,200,200,200,200,200,200,200,200,200,200,200,200,200,200,200,200,200,200,200,200,200,200,200,200,200,200,200,200,200,200,200,200,200,200,200,200,200,200,200,200,200,200,200,200,200,200,200,200,200,200,200,200,200,200,200,200,200,200,200,200,200,200,200,200,200,200,200,200,200,200,200,200,200,200,200,200,200,200,200,200,200,200,200,200,200,200,200,200,200,200,200,200,200,200,200,200,200,200,200,200,200,200,200,200,200,200,200,200,200,200,200,200,200,200,200,200,200,200,200,200,200,200,200,200,200,200,200,200,200,200,200,200,200,200,200,200,200,200,200,200,200,200,200,200,200,200,200,200,200,200,200,200,200,200,200,200,200,200,200,200,200,200,200,200,200,200,200,200,200,200,200,200,200,200,200,200,200,200,200,200,200,200,200,200,200,200,200,200,200,200,200,200,200,200,200,200,200,200,200,200,200,200,200,200,200,200,200,200,200,200,200,200,200,200,200,200,200,200,200,200,200,200,200,200,200,200,200,200,200,200,200,200,200,200,200,200,200,200,200,200,200],\"y\":[5,6,7,8,9,10,11,12,13,14,15,16,17,18,19,20,21,22,23,24,25,26,27,28,29,30,31,32,33,34,35,36,37,38,39,40,41,42,43,44,45,46,47,48,49,50,51,52,53,54,55,56,57,58,59,60,61,62,63,64,65,66,67,68,69,70,71,72,73,74,75,76,77,78,79,80,81,82,83,84,85,86,87,88,89,90,91,92,93,94,95,96,97,98,99,100,101,102,103,104,105,106,107,108,109,110,111,112,113,114,115,116,117,118,119,5,6,7,8,9,10,11,12,13,14,15,16,17,18,19,20,21,22,23,24,25,26,27,28,29,30,31,32,33,34,35,36,37,38,39,40,41,42,43,44,45,46,47,48,49,50,51,52,53,54,55,56,57,58,59,60,61,62,63,64,65,66,67,68,69,70,71,72,73,74,75,76,77,78,79,80,81,82,83,84,85,86,87,88,89,90,91,92,93,94,95,96,97,98,99,100,101,102,103,104,105,106,107,108,109,110,111,112,113,114,115,116,117,118,119,5,6,7,8,9,10,11,12,13,14,15,16,17,18,19,20,21,22,23,24,25,26,27,28,29,30,31,32,33,34,35,36,37,38,39,40,41,42,43,44,45,46,47,48,49,50,51,52,53,54,55,56,57,58,59,60,61,62,63,64,65,66,67,68,69,70,71,72,73,74,75,76,77,78,79,80,81,82,83,84,85,86,87,88,89,90,91,92,93,94,95,96,97,98,99,100,101,102,103,104,105,106,107,108,109,110,111,112,113,114,115,116,117,118,119,5,6,7,8,9,10,11,12,13,14,15,16,17,18,19,20,21,22,23,24,25,26,27,28,29,30,31,32,33,34,35,36,37,38,39,40,41,42,43,44,45,46,47,48,49,50,51,52,53,54,55,56,57,58,59,60,61,62,63,64,65,66,67,68,69,70,71,72,73,74,75,76,77,78,79,80,81,82,83,84,85,86,87,88,89,90,91,92,93,94,95,96,97,98,99,100,101,102,103,104,105,106,107,108,109,110,111,112,113,114,115,116,117,118,119,5,6,7,8,9,10,11,12,13,14,15,16,17,18,19,20,21,22,23,24,25,26,27,28,29,30,31,32,33,34,35,36,37,38,39,40,41,42,43,44,45,46,47,48,49,50,51,52,53,54,55,56,57,58,59,60,61,62,63,64,65,66,67,68,69,70,71,72,73,74,75,76,77,78,79,80,81,82,83,84,85,86,87,88,89,90,91,92,93,94,95,96,97,98,99,100,101,102,103,104,105,106,107,108,109,110,111,112,113,114,115,116,117,118,119,5,6,7,8,9,10,11,12,13,14,15,16,17,18,19,20,21,22,23,24,25,26,27,28,29,30,31,32,33,34,35,36,37,38,39,40,41,42,43,44,45,46,47,48,49,50,51,52,53,54,55,56,57,58,59,60,61,62,63,64,65,66,67,68,69,70,71,72,73,74,75,76,77,78,79,80,81,82,83,84,85,86,87,88,89,90,91,92,93,94,95,96,97,98,99,100,101,102,103,104,105,106,107,108,109,110,111,112,113,114,115,116,117,118,119,5,6,7,8,9,10,11,12,13,14,15,16,17,18,19,20,21,22,23,24,25,26,27,28,29,30,31,32,33,34,35,36,37,38,39,40,41,42,43,44,45,46,47,48,49,50,51,52,53,54,55,56,57,58,59,60,61,62,63,64,65,66,67,68,69,70,71,72,73,74,75,76,77,78,79,80,81,82,83,84,85,86,87,88,89,90,91,92,93,94,95,96,97,98,99,100,101,102,103,104,105,106,107,108,109,110,111,112,113,114,115,116,117,118,119,5,6,7,8,9,10,11,12,13,14,15,16,17,18,19,20,21,22,23,24,25,26,27,28,29,30,31,32,33,34,35,36,37,38,39,40,41,42,43,44,45,46,47,48,49,50,51,52,53,54,55,56,57,58,59,60,61,62,63,64,65,66,67,68,69,70,71,72,73,74,75,76,77,78,79,80,81,82,83,84,85,86,87,88,89,90,91,92,93,94,95,96,97,98,99,100,101,102,103,104,105,106,107,108,109,110,111,112,113,114,115,116,117,118,119,5,6,7,8,9,10,11,12,13,14,15,16,17,18,19,20,21,22,23,24,25,26,27,28,29,30,31,32,33,34,35,36,37,38,39,40,41,42,43,44,45,46,47,48,49,50,51,52,53,54,55,56,57,58,59,60,61,62,63,64,65,66,67,68,69,70,71,72,73,74,75,76,77,78,79,80,81,82,83,84,85,86,87,88,89,90,91,92,93,94,95,96,97,98,99,100,101,102,103,104,105,106,107,108,109,110,111,112,113,114,115,116,117,118,119,5,6,7,8,9,10,11,12,13,14,15,16,17,18,19,20,21,22,23,24,25,26,27,28,29,30,31,32,33,34,35,36,37,38,39,40,41,42,43,44,45,46,47,48,49,50,51,52,53,54,55,56,57,58,59,60,61,62,63,64,65,66,67,68,69,70,71,72,73,74,75,76,77,78,79,80,81,82,83,84,85,86,87,88,89,90,91,92,93,94,95,96,97,98,99,100,101,102,103,104,105,106,107,108,109,110,111,112,113,114,115,116,117,118,119,5,6,7,8,9,10,11,12,13,14,15,16,17,18,19,20,21,22,23,24,25,26,27,28,29,30,31,32,33,34,35,36,37,38,39,40,41,42,43,44,45,46,47,48,49,50,51,52,53,54,55,56,57,58,59,60,61,62,63,64,65,66,67,68,69,70,71,72,73,74,75,76,77,78,79,80,81,82,83,84,85,86,87,88,89,90,91,92,93,94,95,96,97,98,99,100,101,102,103,104,105,106,107,108,109,110,111,112,113,114,115,116,117,118,119,5,6,7,8,9,10,11,12,13,14,15,16,17,18,19,20,21,22,23,24,25,26,27,28,29,30,31,32,33,34,35,36,37,38,39,40,41,42,43,44,45,46,47,48,49,50,51,52,53,54,55,56,57,58,59,60,61,62,63,64,65,66,67,68,69,70,71,72,73,74,75,76,77,78,79,80,81,82,83,84,85,86,87,88,89,90,91,92,93,94,95,96,97,98,99,100,101,102,103,104,105,106,107,108,109,110,111,112,113,114,115,116,117,118,119,5,6,7,8,9,10,11,12,13,14,15,16,17,18,19,20,21,22,23,24,25,26,27,28,29,30,31,32,33,34,35,36,37,38,39,40,41,42,43,44,45,46,47,48,49,50,51,52,53,54,55,56,57,58,59,60,61,62,63,64,65,66,67,68,69,70,71,72,73,74,75,76,77,78,79,80,81,82,83,84,85,86,87,88,89,90,91,92,93,94,95,96,97,98,99,100,101,102,103,104,105,106,107,108,109,110,111,112,113,114,115,116,117,118,119,5,6,7,8,9,10,11,12,13,14,15,16,17,18,19,20,21,22,23,24,25,26,27,28,29,30,31,32,33,34,35,36,37,38,39,40,41,42,43,44,45,46,47,48,49,50,51,52,53,54,55,56,57,58,59,60,61,62,63,64,65,66,67,68,69,70,71,72,73,74,75,76,77,78,79,80,81,82,83,84,85,86,87,88,89,90,91,92,93,94,95,96,97,98,99,100,101,102,103,104,105,106,107,108,109,110,111,112,113,114,115,116,117,118,119,5,6,7,8,9,10,11,12,13,14,15,16,17,18,19,20,21,22,23,24,25,26,27,28,29,30,31,32,33,34,35,36,37,38,39,40,41,42,43,44,45,46,47,48,49,50,51,52,53,54,55,56,57,58,59,60,61,62,63,64,65,66,67,68,69,70,71,72,73,74,75,76,77,78,79,80,81,82,83,84,85,86,87,88,89,90,91,92,93,94,95,96,97,98,99,100,101,102,103,104,105,106,107,108,109,110,111,112,113,114,115,116,117,118,119,5,6,7,8,9,10,11,12,13,14,15,16,17,18,19,20,21,22,23,24,25,26,27,28,29,30,31,32,33,34,35,36,37,38,39,40,41,42,43,44,45,46,47,48,49,50,51,52,53,54,55,56,57,58,59,60,61,62,63,64,65,66,67,68,69,70,71,72,73,74,75,76,77,78,79,80,81,82,83,84,85,86,87,88,89,90,91,92,93,94,95,96,97,98,99,100,101,102,103,104,105,106,107,108,109,110,111,112,113,114,115,116,117,118,119,5,6,7,8,9,10,11,12,13,14,15,16,17,18,19,20,21,22,23,24,25,26,27,28,29,30,31,32,33,34,35,36,37,38,39,40,41,42,43,44,45,46,47,48,49,50,51,52,53,54,55,56,57,58,59,60,61,62,63,64,65,66,67,68,69,70,71,72,73,74,75,76,77,78,79,80,81,82,83,84,85,86,87,88,89,90,91,92,93,94,95,96,97,98,99,100,101,102,103,104,105,106,107,108,109,110,111,112,113,114,115,116,117,118,119,5,6,7,8,9,10,11,12,13,14,15,16,17,18,19,20,21,22,23,24,25,26,27,28,29,30,31,32,33,34,35,36,37,38,39,40,41,42,43,44,45,46,47,48,49,50,51,52,53,54,55,56,57,58,59,60,61,62,63,64,65,66,67,68,69,70,71,72,73,74,75,76,77,78,79,80,81,82,83,84,85,86,87,88,89,90,91,92,93,94,95,96,97,98,99,100,101,102,103,104,105,106,107,108,109,110,111,112,113,114,115,116,117,118,119,5,6,7,8,9,10,11,12,13,14,15,16,17,18,19,20,21,22,23,24,25,26,27,28,29,30,31,32,33,34,35,36,37,38,39,40,41,42,43,44,45,46,47,48,49,50,51,52,53,54,55,56,57,58,59,60,61,62,63,64,65,66,67,68,69,70,71,72,73,74,75,76,77,78,79,80,81,82,83,84,85,86,87,88,89,90,91,92,93,94,95,96,97,98,99,100,101,102,103,104,105,106,107,108,109,110,111,112,113,114,115,116,117,118,119,5,6,7,8,9,10,11,12,13,14,15,16,17,18,19,20,21,22,23,24,25,26,27,28,29,30,31,32,33,34,35,36,37,38,39,40,41,42,43,44,45,46,47,48,49,50,51,52,53,54,55,56,57,58,59,60,61,62,63,64,65,66,67,68,69,70,71,72,73,74,75,76,77,78,79,80,81,82,83,84,85,86,87,88,89,90,91,92,93,94,95,96,97,98,99,100,101,102,103,104,105,106,107,108,109,110,111,112,113,114,115,116,117,118,119,5,6,7,8,9,10,11,12,13,14,15,16,17,18,19,20,21,22,23,24,25,26,27,28,29,30,31,32,33,34,35,36,37,38,39,40,41,42,43,44,45,46,47,48,49,50,51,52,53,54,55,56,57,58,59,60,61,62,63,64,65,66,67,68,69,70,71,72,73,74,75,76,77,78,79,80,81,82,83,84,85,86,87,88,89,90,91,92,93,94,95,96,97,98,99,100,101,102,103,104,105,106,107,108,109,110,111,112,113,114,115,116,117,118,119,5,6,7,8,9,10,11,12,13,14,15,16,17,18,19,20,21,22,23,24,25,26,27,28,29,30,31,32,33,34,35,36,37,38,39,40,41,42,43,44,45,46,47,48,49,50,51,52,53,54,55,56,57,58,59,60,61,62,63,64,65,66,67,68,69,70,71,72,73,74,75,76,77,78,79,80,81,82,83,84,85,86,87,88,89,90,91,92,93,94,95,96,97,98,99,100,101,102,103,104,105,106,107,108,109,110,111,112,113,114,115,116,117,118,119,5,6,7,8,9,10,11,12,13,14,15,16,17,18,19,20,21,22,23,24,25,26,27,28,29,30,31,32,33,34,35,36,37,38,39,40,41,42,43,44,45,46,47,48,49,50,51,52,53,54,55,56,57,58,59,60,61,62,63,64,65,66,67,68,69,70,71,72,73,74,75,76,77,78,79,80,81,82,83,84,85,86,87,88,89,90,91,92,93,94,95,96,97,98,99,100,101,102,103,104,105,106,107,108,109,110,111,112,113,114,115,116,117,118,119,5,6,7,8,9,10,11,12,13,14,15,16,17,18,19,20,21,22,23,24,25,26,27,28,29,30,31,32,33,34,35,36,37,38,39,40,41,42,43,44,45,46,47,48,49,50,51,52,53,54,55,56,57,58,59,60,61,62,63,64,65,66,67,68,69,70,71,72,73,74,75,76,77,78,79,80,81,82,83,84,85,86,87,88,89,90,91,92,93,94,95,96,97,98,99,100,101,102,103,104,105,106,107,108,109,110,111,112,113,114,115,116,117,118,119,5,6,7,8,9,10,11,12,13,14,15,16,17,18,19,20,21,22,23,24,25,26,27,28,29,30,31,32,33,34,35,36,37,38,39,40,41,42,43,44,45,46,47,48,49,50,51,52,53,54,55,56,57,58,59,60,61,62,63,64,65,66,67,68,69,70,71,72,73,74,75,76,77,78,79,80,81,82,83,84,85,86,87,88,89,90,91,92,93,94,95,96,97,98,99,100,101,102,103,104,105,106,107,108,109,110,111,112,113,114,115,116,117,118,119,5,6,7,8,9,10,11,12,13,14,15,16,17,18,19,20,21,22,23,24,25,26,27,28,29,30,31,32,33,34,35,36,37,38,39,40,41,42,43,44,45,46,47,48,49,50,51,52,53,54,55,56,57,58,59,60,61,62,63,64,65,66,67,68,69,70,71,72,73,74,75,76,77,78,79,80,81,82,83,84,85,86,87,88,89,90,91,92,93,94,95,96,97,98,99,100,101,102,103,104,105,106,107,108,109,110,111,112,113,114,115,116,117,118,119,5,6,7,8,9,10,11,12,13,14,15,16,17,18,19,20,21,22,23,24,25,26,27,28,29,30,31,32,33,34,35,36,37,38,39,40,41,42,43,44,45,46,47,48,49,50,51,52,53,54,55,56,57,58,59,60,61,62,63,64,65,66,67,68,69,70,71,72,73,74,75,76,77,78,79,80,81,82,83,84,85,86,87,88,89,90,91,92,93,94,95,96,97,98,99,100,101,102,103,104,105,106,107,108,109,110,111,112,113,114,115,116,117,118,119,5,6,7,8,9,10,11,12,13,14,15,16,17,18,19,20,21,22,23,24,25,26,27,28,29,30,31,32,33,34,35,36,37,38,39,40,41,42,43,44,45,46,47,48,49,50,51,52,53,54,55,56,57,58,59,60,61,62,63,64,65,66,67,68,69,70,71,72,73,74,75,76,77,78,79,80,81,82,83,84,85,86,87,88,89,90,91,92,93,94,95,96,97,98,99,100,101,102,103,104,105,106,107,108,109,110,111,112,113,114,115,116,117,118,119,5,6,7,8,9,10,11,12,13,14,15,16,17,18,19,20,21,22,23,24,25,26,27,28,29,30,31,32,33,34,35,36,37,38,39,40,41,42,43,44,45,46,47,48,49,50,51,52,53,54,55,56,57,58,59,60,61,62,63,64,65,66,67,68,69,70,71,72,73,74,75,76,77,78,79,80,81,82,83,84,85,86,87,88,89,90,91,92,93,94,95,96,97,98,99,100,101,102,103,104,105,106,107,108,109,110,111,112,113,114,115,116,117,118,119,5,6,7,8,9,10,11,12,13,14,15,16,17,18,19,20,21,22,23,24,25,26,27,28,29,30,31,32,33,34,35,36,37,38,39,40,41,42,43,44,45,46,47,48,49,50,51,52,53,54,55,56,57,58,59,60,61,62,63,64,65,66,67,68,69,70,71,72,73,74,75,76,77,78,79,80,81,82,83,84,85,86,87,88,89,90,91,92,93,94,95,96,97,98,99,100,101,102,103,104,105,106,107,108,109,110,111,112,113,114,115,116,117,118,119,5,6,7,8,9,10,11,12,13,14,15,16,17,18,19,20,21,22,23,24,25,26,27,28,29,30,31,32,33,34,35,36,37,38,39,40,41,42,43,44,45,46,47,48,49,50,51,52,53,54,55,56,57,58,59,60,61,62,63,64,65,66,67,68,69,70,71,72,73,74,75,76,77,78,79,80,81,82,83,84,85,86,87,88,89,90,91,92,93,94,95,96,97,98,99,100,101,102,103,104,105,106,107,108,109,110,111,112,113,114,115,116,117,118,119,5,6,7,8,9,10,11,12,13,14,15,16,17,18,19,20,21,22,23,24,25,26,27,28,29,30,31,32,33,34,35,36,37,38,39,40,41,42,43,44,45,46,47,48,49,50,51,52,53,54,55,56,57,58,59,60,61,62,63,64,65,66,67,68,69,70,71,72,73,74,75,76,77,78,79,80,81,82,83,84,85,86,87,88,89,90,91,92,93,94,95,96,97,98,99,100,101,102,103,104,105,106,107,108,109,110,111,112,113,114,115,116,117,118,119,5,6,7,8,9,10,11,12,13,14,15,16,17,18,19,20,21,22,23,24,25,26,27,28,29,30,31,32,33,34,35,36,37,38,39,40,41,42,43,44,45,46,47,48,49,50,51,52,53,54,55,56,57,58,59,60,61,62,63,64,65,66,67,68,69,70,71,72,73,74,75,76,77,78,79,80,81,82,83,84,85,86,87,88,89,90,91,92,93,94,95,96,97,98,99,100,101,102,103,104,105,106,107,108,109,110,111,112,113,114,115,116,117,118,119,5,6,7,8,9,10,11,12,13,14,15,16,17,18,19,20,21,22,23,24,25,26,27,28,29,30,31,32,33,34,35,36,37,38,39,40,41,42,43,44,45,46,47,48,49,50,51,52,53,54,55,56,57,58,59,60,61,62,63,64,65,66,67,68,69,70,71,72,73,74,75,76,77,78,79,80,81,82,83,84,85,86,87,88,89,90,91,92,93,94,95,96,97,98,99,100,101,102,103,104,105,106,107,108,109,110,111,112,113,114,115,116,117,118,119,5,6,7,8,9,10,11,12,13,14,15,16,17,18,19,20,21,22,23,24,25,26,27,28,29,30,31,32,33,34,35,36,37,38,39,40,41,42,43,44,45,46,47,48,49,50,51,52,53,54,55,56,57,58,59,60,61,62,63,64,65,66,67,68,69,70,71,72,73,74,75,76,77,78,79,80,81,82,83,84,85,86,87,88,89,90,91,92,93,94,95,96,97,98,99,100,101,102,103,104,105,106,107,108,109,110,111,112,113,114,115,116,117,118,119,5,6,7,8,9,10,11,12,13,14,15,16,17,18,19,20,21,22,23,24,25,26,27,28,29,30,31,32,33,34,35,36,37,38,39,40,41,42,43,44,45,46,47,48,49,50,51,52,53,54,55,56,57,58,59,60,61,62,63,64,65,66,67,68,69,70,71,72,73,74,75,76,77,78,79,80,81,82,83,84,85,86,87,88,89,90,91,92,93,94,95,96,97,98,99,100,101,102,103,104,105,106,107,108,109,110,111,112,113,114,115,116,117,118,119,5,6,7,8,9,10,11,12,13,14,15,16,17,18,19,20,21,22,23,24,25,26,27,28,29,30,31,32,33,34,35,36,37,38,39,40,41,42,43,44,45,46,47,48,49,50,51,52,53,54,55,56,57,58,59,60,61,62,63,64,65,66,67,68,69,70,71,72,73,74,75,76,77,78,79,80,81,82,83,84,85,86,87,88,89,90,91,92,93,94,95,96,97,98,99,100,101,102,103,104,105,106,107,108,109,110,111,112,113,114,115,116,117,118,119,5,6,7,8,9,10,11,12,13,14,15,16,17,18,19,20,21,22,23,24,25,26,27,28,29,30,31,32,33,34,35,36,37,38,39,40,41,42,43,44,45,46,47,48,49,50,51,52,53,54,55,56,57,58,59,60,61,62,63,64,65,66,67,68,69,70,71,72,73,74,75,76,77,78,79,80,81,82,83,84,85,86,87,88,89,90,91,92,93,94,95,96,97,98,99,100,101,102,103,104,105,106,107,108,109,110,111,112,113,114,115,116,117,118,119,5,6,7,8,9,10,11,12,13,14,15,16,17,18,19,20,21,22,23,24,25,26,27,28,29,30,31,32,33,34,35,36,37,38,39,40,41,42,43,44,45,46,47,48,49,50,51,52,53,54,55,56,57,58,59,60,61,62,63,64,65,66,67,68,69,70,71,72,73,74,75,76,77,78,79,80,81,82,83,84,85,86,87,88,89,90,91,92,93,94,95,96,97,98,99,100,101,102,103,104,105,106,107,108,109,110,111,112,113,114,115,116,117,118,119,5,6,7,8,9,10,11,12,13,14,15,16,17,18,19,20,21,22,23,24,25,26,27,28,29,30,31,32,33,34,35,36,37,38,39,40,41,42,43,44,45,46,47,48,49,50,51,52,53,54,55,56,57,58,59,60,61,62,63,64,65,66,67,68,69,70,71,72,73,74,75,76,77,78,79,80,81,82,83,84,85,86,87,88,89,90,91,92,93,94,95,96,97,98,99,100,101,102,103,104,105,106,107,108,109,110,111,112,113,114,115,116,117,118,119,5,6,7,8,9,10,11,12,13,14,15,16,17,18,19,20,21,22,23,24,25,26,27,28,29,30,31,32,33,34,35,36,37,38,39,40,41,42,43,44,45,46,47,48,49,50,51,52,53,54,55,56,57,58,59,60,61,62,63,64,65,66,67,68,69,70,71,72,73,74,75,76,77,78,79,80,81,82,83,84,85,86,87,88,89,90,91,92,93,94,95,96,97,98,99,100,101,102,103,104,105,106,107,108,109,110,111,112,113,114,115,116,117,118,119,5,6,7,8,9,10,11,12,13,14,15,16,17,18,19,20,21,22,23,24,25,26,27,28,29,30,31,32,33,34,35,36,37,38,39,40,41,42,43,44,45,46,47,48,49,50,51,52,53,54,55,56,57,58,59,60,61,62,63,64,65,66,67,68,69,70,71,72,73,74,75,76,77,78,79,80,81,82,83,84,85,86,87,88,89,90,91,92,93,94,95,96,97,98,99,100,101,102,103,104,105,106,107,108,109,110,111,112,113,114,115,116,117,118,119,5,6,7,8,9,10,11,12,13,14,15,16,17,18,19,20,21,22,23,24,25,26,27,28,29,30,31,32,33,34,35,36,37,38,39,40,41,42,43,44,45,46,47,48,49,50,51,52,53,54,55,56,57,58,59,60,61,62,63,64,65,66,67,68,69,70,71,72,73,74,75,76,77,78,79,80,81,82,83,84,85,86,87,88,89,90,91,92,93,94,95,96,97,98,99,100,101,102,103,104,105,106,107,108,109,110,111,112,113,114,115,116,117,118,119,5,6,7,8,9,10,11,12,13,14,15,16,17,18,19,20,21,22,23,24,25,26,27,28,29,30,31,32,33,34,35,36,37,38,39,40,41,42,43,44,45,46,47,48,49,50,51,52,53,54,55,56,57,58,59,60,61,62,63,64,65,66,67,68,69,70,71,72,73,74,75,76,77,78,79,80,81,82,83,84,85,86,87,88,89,90,91,92,93,94,95,96,97,98,99,100,101,102,103,104,105,106,107,108,109,110,111,112,113,114,115,116,117,118,119,5,6,7,8,9,10,11,12,13,14,15,16,17,18,19,20,21,22,23,24,25,26,27,28,29,30,31,32,33,34,35,36,37,38,39,40,41,42,43,44,45,46,47,48,49,50,51,52,53,54,55,56,57,58,59,60,61,62,63,64,65,66,67,68,69,70,71,72,73,74,75,76,77,78,79,80,81,82,83,84,85,86,87,88,89,90,91,92,93,94,95,96,97,98,99,100,101,102,103,104,105,106,107,108,109,110,111,112,113,114,115,116,117,118,119,5,6,7,8,9,10,11,12,13,14,15,16,17,18,19,20,21,22,23,24,25,26,27,28,29,30,31,32,33,34,35,36,37,38,39,40,41,42,43,44,45,46,47,48,49,50,51,52,53,54,55,56,57,58,59,60,61,62,63,64,65,66,67,68,69,70,71,72,73,74,75,76,77,78,79,80,81,82,83,84,85,86,87,88,89,90,91,92,93,94,95,96,97,98,99,100,101,102,103,104,105,106,107,108,109,110,111,112,113,114,115,116,117,118,119,5,6,7,8,9,10,11,12,13,14,15,16,17,18,19,20,21,22,23,24,25,26,27,28,29,30,31,32,33,34,35,36,37,38,39,40,41,42,43,44,45,46,47,48,49,50,51,52,53,54,55,56,57,58,59,60,61,62,63,64,65,66,67,68,69,70,71,72,73,74,75,76,77,78,79,80,81,82,83,84,85,86,87,88,89,90,91,92,93,94,95,96,97,98,99,100,101,102,103,104,105,106,107,108,109,110,111,112,113,114,115,116,117,118,119,5,6,7,8,9,10,11,12,13,14,15,16,17,18,19,20,21,22,23,24,25,26,27,28,29,30,31,32,33,34,35,36,37,38,39,40,41,42,43,44,45,46,47,48,49,50,51,52,53,54,55,56,57,58,59,60,61,62,63,64,65,66,67,68,69,70,71,72,73,74,75,76,77,78,79,80,81,82,83,84,85,86,87,88,89,90,91,92,93,94,95,96,97,98,99,100,101,102,103,104,105,106,107,108,109,110,111,112,113,114,115,116,117,118,119,5,6,7,8,9,10,11,12,13,14,15,16,17,18,19,20,21,22,23,24,25,26,27,28,29,30,31,32,33,34,35,36,37,38,39,40,41,42,43,44,45,46,47,48,49,50,51,52,53,54,55,56,57,58,59,60,61,62,63,64,65,66,67,68,69,70,71,72,73,74,75,76,77,78,79,80,81,82,83,84,85,86,87,88,89,90,91,92,93,94,95,96,97,98,99,100,101,102,103,104,105,106,107,108,109,110,111,112,113,114,115,116,117,118,119,5,6,7,8,9,10,11,12,13,14,15,16,17,18,19,20,21,22,23,24,25,26,27,28,29,30,31,32,33,34,35,36,37,38,39,40,41,42,43,44,45,46,47,48,49,50,51,52,53,54,55,56,57,58,59,60,61,62,63,64,65,66,67,68,69,70,71,72,73,74,75,76,77,78,79,80,81,82,83,84,85,86,87,88,89,90,91,92,93,94,95,96,97,98,99,100,101,102,103,104,105,106,107,108,109,110,111,112,113,114,115,116,117,118,119,5,6,7,8,9,10,11,12,13,14,15,16,17,18,19,20,21,22,23,24,25,26,27,28,29,30,31,32,33,34,35,36,37,38,39,40,41,42,43,44,45,46,47,48,49,50,51,52,53,54,55,56,57,58,59,60,61,62,63,64,65,66,67,68,69,70,71,72,73,74,75,76,77,78,79,80,81,82,83,84,85,86,87,88,89,90,91,92,93,94,95,96,97,98,99,100,101,102,103,104,105,106,107,108,109,110,111,112,113,114,115,116,117,118,119,5,6,7,8,9,10,11,12,13,14,15,16,17,18,19,20,21,22,23,24,25,26,27,28,29,30,31,32,33,34,35,36,37,38,39,40,41,42,43,44,45,46,47,48,49,50,51,52,53,54,55,56,57,58,59,60,61,62,63,64,65,66,67,68,69,70,71,72,73,74,75,76,77,78,79,80,81,82,83,84,85,86,87,88,89,90,91,92,93,94,95,96,97,98,99,100,101,102,103,104,105,106,107,108,109,110,111,112,113,114,115,116,117,118,119,5,6,7,8,9,10,11,12,13,14,15,16,17,18,19,20,21,22,23,24,25,26,27,28,29,30,31,32,33,34,35,36,37,38,39,40,41,42,43,44,45,46,47,48,49,50,51,52,53,54,55,56,57,58,59,60,61,62,63,64,65,66,67,68,69,70,71,72,73,74,75,76,77,78,79,80,81,82,83,84,85,86,87,88,89,90,91,92,93,94,95,96,97,98,99,100,101,102,103,104,105,106,107,108,109,110,111,112,113,114,115,116,117,118,119,5,6,7,8,9,10,11,12,13,14,15,16,17,18,19,20,21,22,23,24,25,26,27,28,29,30,31,32,33,34,35,36,37,38,39,40,41,42,43,44,45,46,47,48,49,50,51,52,53,54,55,56,57,58,59,60,61,62,63,64,65,66,67,68,69,70,71,72,73,74,75,76,77,78,79,80,81,82,83,84,85,86,87,88,89,90,91,92,93,94,95,96,97,98,99,100,101,102,103,104,105,106,107,108,109,110,111,112,113,114,115,116,117,118,119,5,6,7,8,9,10,11,12,13,14,15,16,17,18,19,20,21,22,23,24,25,26,27,28,29,30,31,32,33,34,35,36,37,38,39,40,41,42,43,44,45,46,47,48,49,50,51,52,53,54,55,56,57,58,59,60,61,62,63,64,65,66,67,68,69,70,71,72,73,74,75,76,77,78,79,80,81,82,83,84,85,86,87,88,89,90,91,92,93,94,95,96,97,98,99,100,101,102,103,104,105,106,107,108,109,110,111,112,113,114,115,116,117,118,119,5,6,7,8,9,10,11,12,13,14,15,16,17,18,19,20,21,22,23,24,25,26,27,28,29,30,31,32,33,34,35,36,37,38,39,40,41,42,43,44,45,46,47,48,49,50,51,52,53,54,55,56,57,58,59,60,61,62,63,64,65,66,67,68,69,70,71,72,73,74,75,76,77,78,79,80,81,82,83,84,85,86,87,88,89,90,91,92,93,94,95,96,97,98,99,100,101,102,103,104,105,106,107,108,109,110,111,112,113,114,115,116,117,118,119,5,6,7,8,9,10,11,12,13,14,15,16,17,18,19,20,21,22,23,24,25,26,27,28,29,30,31,32,33,34,35,36,37,38,39,40,41,42,43,44,45,46,47,48,49,50,51,52,53,54,55,56,57,58,59,60,61,62,63,64,65,66,67,68,69,70,71,72,73,74,75,76,77,78,79,80,81,82,83,84,85,86,87,88,89,90,91,92,93,94,95,96,97,98,99,100,101,102,103,104,105,106,107,108,109,110,111,112,113,114,115,116,117,118,119,5,6,7,8,9,10,11,12,13,14,15,16,17,18,19,20,21,22,23,24,25,26,27,28,29,30,31,32,33,34,35,36,37,38,39,40,41,42,43,44,45,46,47,48,49,50,51,52,53,54,55,56,57,58,59,60,61,62,63,64,65,66,67,68,69,70,71,72,73,74,75,76,77,78,79,80,81,82,83,84,85,86,87,88,89,90,91,92,93,94,95,96,97,98,99,100,101,102,103,104,105,106,107,108,109,110,111,112,113,114,115,116,117,118,119,5,6,7,8,9,10,11,12,13,14,15,16,17,18,19,20,21,22,23,24,25,26,27,28,29,30,31,32,33,34,35,36,37,38,39,40,41,42,43,44,45,46,47,48,49,50,51,52,53,54,55,56,57,58,59,60,61,62,63,64,65,66,67,68,69,70,71,72,73,74,75,76,77,78,79,80,81,82,83,84,85,86,87,88,89,90,91,92,93,94,95,96,97,98,99,100,101,102,103,104,105,106,107,108,109,110,111,112,113,114,115,116,117,118,119,5,6,7,8,9,10,11,12,13,14,15,16,17,18,19,20,21,22,23,24,25,26,27,28,29,30,31,32,33,34,35,36,37,38,39,40,41,42,43,44,45,46,47,48,49,50,51,52,53,54,55,56,57,58,59,60,61,62,63,64,65,66,67,68,69,70,71,72,73,74,75,76,77,78,79,80,81,82,83,84,85,86,87,88,89,90,91,92,93,94,95,96,97,98,99,100,101,102,103,104,105,106,107,108,109,110,111,112,113,114,115,116,117,118,119,5,6,7,8,9,10,11,12,13,14,15,16,17,18,19,20,21,22,23,24,25,26,27,28,29,30,31,32,33,34,35,36,37,38,39,40,41,42,43,44,45,46,47,48,49,50,51,52,53,54,55,56,57,58,59,60,61,62,63,64,65,66,67,68,69,70,71,72,73,74,75,76,77,78,79,80,81,82,83,84,85,86,87,88,89,90,91,92,93,94,95,96,97,98,99,100,101,102,103,104,105,106,107,108,109,110,111,112,113,114,115,116,117,118,119,5,6,7,8,9,10,11,12,13,14,15,16,17,18,19,20,21,22,23,24,25,26,27,28,29,30,31,32,33,34,35,36,37,38,39,40,41,42,43,44,45,46,47,48,49,50,51,52,53,54,55,56,57,58,59,60,61,62,63,64,65,66,67,68,69,70,71,72,73,74,75,76,77,78,79,80,81,82,83,84,85,86,87,88,89,90,91,92,93,94,95,96,97,98,99,100,101,102,103,104,105,106,107,108,109,110,111,112,113,114,115,116,117,118,119,5,6,7,8,9,10,11,12,13,14,15,16,17,18,19,20,21,22,23,24,25,26,27,28,29,30,31,32,33,34,35,36,37,38,39,40,41,42,43,44,45,46,47,48,49,50,51,52,53,54,55,56,57,58,59,60,61,62,63,64,65,66,67,68,69,70,71,72,73,74,75,76,77,78,79,80,81,82,83,84,85,86,87,88,89,90,91,92,93,94,95,96,97,98,99,100,101,102,103,104,105,106,107,108,109,110,111,112,113,114,115,116,117,118,119,5,6,7,8,9,10,11,12,13,14,15,16,17,18,19,20,21,22,23,24,25,26,27,28,29,30,31,32,33,34,35,36,37,38,39,40,41,42,43,44,45,46,47,48,49,50,51,52,53,54,55,56,57,58,59,60,61,62,63,64,65,66,67,68,69,70,71,72,73,74,75,76,77,78,79,80,81,82,83,84,85,86,87,88,89,90,91,92,93,94,95,96,97,98,99,100,101,102,103,104,105,106,107,108,109,110,111,112,113,114,115,116,117,118,119,5,6,7,8,9,10,11,12,13,14,15,16,17,18,19,20,21,22,23,24,25,26,27,28,29,30,31,32,33,34,35,36,37,38,39,40,41,42,43,44,45,46,47,48,49,50,51,52,53,54,55,56,57,58,59,60,61,62,63,64,65,66,67,68,69,70,71,72,73,74,75,76,77,78,79,80,81,82,83,84,85,86,87,88,89,90,91,92,93,94,95,96,97,98,99,100,101,102,103,104,105,106,107,108,109,110,111,112,113,114,115,116,117,118,119,5,6,7,8,9,10,11,12,13,14,15,16,17,18,19,20,21,22,23,24,25,26,27,28,29,30,31,32,33,34,35,36,37,38,39,40,41,42,43,44,45,46,47,48,49,50,51,52,53,54,55,56,57,58,59,60,61,62,63,64,65,66,67,68,69,70,71,72,73,74,75,76,77,78,79,80,81,82,83,84,85,86,87,88,89,90,91,92,93,94,95,96,97,98,99,100,101,102,103,104,105,106,107,108,109,110,111,112,113,114,115,116,117,118,119,5,6,7,8,9,10,11,12,13,14,15,16,17,18,19,20,21,22,23,24,25,26,27,28,29,30,31,32,33,34,35,36,37,38,39,40,41,42,43,44,45,46,47,48,49,50,51,52,53,54,55,56,57,58,59,60,61,62,63,64,65,66,67,68,69,70,71,72,73,74,75,76,77,78,79,80,81,82,83,84,85,86,87,88,89,90,91,92,93,94,95,96,97,98,99,100,101,102,103,104,105,106,107,108,109,110,111,112,113,114,115,116,117,118,119,5,6,7,8,9,10,11,12,13,14,15,16,17,18,19,20,21,22,23,24,25,26,27,28,29,30,31,32,33,34,35,36,37,38,39,40,41,42,43,44,45,46,47,48,49,50,51,52,53,54,55,56,57,58,59,60,61,62,63,64,65,66,67,68,69,70,71,72,73,74,75,76,77,78,79,80,81,82,83,84,85,86,87,88,89,90,91,92,93,94,95,96,97,98,99,100,101,102,103,104,105,106,107,108,109,110,111,112,113,114,115,116,117,118,119,5,6,7,8,9,10,11,12,13,14,15,16,17,18,19,20,21,22,23,24,25,26,27,28,29,30,31,32,33,34,35,36,37,38,39,40,41,42,43,44,45,46,47,48,49,50,51,52,53,54,55,56,57,58,59,60,61,62,63,64,65,66,67,68,69,70,71,72,73,74,75,76,77,78,79,80,81,82,83,84,85,86,87,88,89,90,91,92,93,94,95,96,97,98,99,100,101,102,103,104,105,106,107,108,109,110,111,112,113,114,115,116,117,118,119,5,6,7,8,9,10,11,12,13,14,15,16,17,18,19,20,21,22,23,24,25,26,27,28,29,30,31,32,33,34,35,36,37,38,39,40,41,42,43,44,45,46,47,48,49,50,51,52,53,54,55,56,57,58,59,60,61,62,63,64,65,66,67,68,69,70,71,72,73,74,75,76,77,78,79,80,81,82,83,84,85,86,87,88,89,90,91,92,93,94,95,96,97,98,99,100,101,102,103,104,105,106,107,108,109,110,111,112,113,114,115,116,117,118,119,5,6,7,8,9,10,11,12,13,14,15,16,17,18,19,20,21,22,23,24,25,26,27,28,29,30,31,32,33,34,35,36,37,38,39,40,41,42,43,44,45,46,47,48,49,50,51,52,53,54,55,56,57,58,59,60,61,62,63,64,65,66,67,68,69,70,71,72,73,74,75,76,77,78,79,80,81,82,83,84,85,86,87,88,89,90,91,92,93,94,95,96,97,98,99,100,101,102,103,104,105,106,107,108,109,110,111,112,113,114,115,116,117,118,119,5,6,7,8,9,10,11,12,13,14,15,16,17,18,19,20,21,22,23,24,25,26,27,28,29,30,31,32,33,34,35,36,37,38,39,40,41,42,43,44,45,46,47,48,49,50,51,52,53,54,55,56,57,58,59,60,61,62,63,64,65,66,67,68,69,70,71,72,73,74,75,76,77,78,79,80,81,82,83,84,85,86,87,88,89,90,91,92,93,94,95,96,97,98,99,100,101,102,103,104,105,106,107,108,109,110,111,112,113,114,115,116,117,118,119],\"z\":[2.0,2.0,2.0,2.0,2.0,2.0,2.0,2.0,2.0,2.0,2.0,2.0,2.0,2.0,2.0,2.0,2.0,2.0,2.0,2.0,2.0,2.0,2.0,2.0,2.0,2.0,2.0,2.0,2.0,2.0,2.0,2.0,2.0,2.0,2.0,2.0,2.0,2.0,2.0,2.0,2.0,2.0,2.0,2.0,2.0,2.0,2.0,2.0,2.0,2.0,2.0,2.0,2.0,2.0,2.0,2.0,2.0,2.0,2.0,2.0,2.0,2.0,2.0,2.0,2.0,2.0,2.0,2.0,2.0,2.0,2.0,2.0,2.0,2.0,2.0,2.0,2.0,2.0,2.0,2.0,2.0,2.0,2.0,2.0,2.0,2.0,2.0,2.0,2.0,2.0,2.0,2.0,2.0,2.0,2.0,2.0,2.0,2.0,2.0,2.0,2.0,2.0,2.0,2.0,2.0,2.0,2.0,2.0,2.0,2.0,2.0,2.0,2.0,2.0,2.0,2.5,2.5,2.5,2.5,2.5,2.5,2.5,2.5,2.5,2.5,2.5,2.5,2.5,2.5,2.5,2.5,2.5,2.5,2.5,2.5,2.5,2.5,2.5,2.5,2.5,2.5,2.5,2.5,2.5,2.5,2.5,2.5,2.5,2.5,2.5,2.5,2.5,2.5,2.5,2.5,2.5,2.5,2.5,2.5,2.5,2.5,2.5,2.5,2.5,2.5,2.5,2.5,2.5,2.5,2.5,2.5,2.5,2.5,2.5,2.5,2.5,2.5,2.5,2.5,2.5,2.5,2.5,2.5,2.5,2.5,2.5,2.5,2.5,2.5,2.5,2.5,2.5,2.5,2.5,2.5,2.5,2.5,2.5,2.5,2.5,2.5,2.5,2.5,2.5,2.5,2.5,2.5,2.5,2.5,2.5,2.5,2.5,2.5,2.5,2.5,2.5,2.5,2.5,2.5,2.5,2.5,2.5,2.5,2.5,2.5,2.5,2.5,2.5,2.5,2.5,3.0,3.0,3.0,3.0,3.0,3.0,3.0,3.0,3.0,3.0,3.0,3.0,3.0,3.0,3.0,3.0,3.0,3.0,3.0,3.0,3.0,3.0,3.0,3.0,3.0,3.0,3.0,3.0,3.0,3.0,3.0,3.0,3.0,3.0,3.0,3.0,3.0,3.0,3.0,3.0,3.0,3.0,3.0,3.0,3.0,3.0,3.0,3.0,3.0,3.0,3.0,3.0,3.0,3.0,3.0,3.0,3.0,3.0,3.0,3.0,3.0,3.0,3.0,3.0,3.0,3.0,3.0,3.0,3.0,3.0,3.0,3.0,3.0,3.0,3.0,3.0,3.0,3.0,3.0,3.0,3.0,3.0,3.0,3.0,3.0,3.0,3.0,3.0,3.0,3.0,3.0,3.0,3.0,3.0,3.0,3.0,3.0,3.0,3.0,3.0,3.0,3.0,3.0,3.0,3.0,3.0,3.0,3.0,3.0,3.0,3.0,3.0,3.0,3.0,3.0,3.5,3.5,3.5,3.5,3.5,3.5,3.5,3.5,3.5,3.5,3.5,3.5,3.5,3.5,3.5,3.5,3.5,3.5,3.5,3.5,3.5,3.5,3.5,3.5,3.5,3.5,3.5,3.5,3.5,3.5,3.5,3.5,3.5,3.5,3.5,3.5,3.5,3.5,3.5,3.5,3.5,3.5,3.5,3.5,3.5,3.5,3.5,3.5,3.5,3.5,3.5,3.5,3.5,3.5,3.5,3.5,3.5,3.5,3.5,3.5,3.5,3.5,3.5,3.5,3.5,3.5,3.5,3.5,3.5,3.5,3.5,3.5,3.5,3.5,3.5,3.5,3.5,3.5,3.5,3.5,3.5,3.5,3.5,3.5,3.5,3.5,3.5,3.5,3.5,3.5,3.5,3.5,3.5,3.5,3.5,3.5,3.5,3.5,3.5,3.5,3.5,3.5,3.5,3.5,3.5,3.5,3.5,3.5,3.5,3.5,3.5,3.5,3.5,3.5,3.5,4.0,4.0,4.0,4.0,4.0,4.0,4.0,4.0,4.0,4.0,4.0,4.0,4.0,4.0,4.0,4.0,4.0,4.0,4.0,4.0,4.0,4.0,4.0,4.0,4.0,4.0,4.0,4.0,4.0,4.0,4.0,4.0,4.0,4.0,4.0,4.0,4.0,4.0,4.0,4.0,4.0,4.0,4.0,4.0,4.0,4.0,4.0,4.0,4.0,4.0,4.0,4.0,4.0,4.0,4.0,4.0,4.0,4.0,4.0,4.0,4.0,4.0,4.0,4.0,4.0,4.0,4.0,4.0,4.0,4.0,4.0,4.0,4.0,4.0,4.0,4.0,4.0,4.0,4.0,4.0,4.0,4.0,4.0,4.0,4.0,4.0,4.0,4.0,4.0,4.0,4.0,4.0,4.0,4.0,4.0,4.0,4.0,4.0,4.0,4.0,4.0,4.0,4.0,4.0,4.0,4.0,4.0,4.0,4.0,4.0,4.0,4.0,4.0,4.0,4.0,4.5,4.5,4.5,4.5,4.5,4.5,4.5,4.5,4.5,4.5,4.5,4.5,4.5,4.5,4.5,4.5,4.5,4.5,4.5,4.5,4.5,4.5,4.5,4.5,4.5,4.5,4.5,4.5,4.5,4.5,4.5,4.5,4.5,4.5,4.5,4.5,4.5,4.5,4.5,4.5,4.5,4.5,4.5,4.5,4.5,4.5,4.5,4.5,4.5,4.5,4.5,4.5,4.5,4.5,4.5,4.5,4.5,4.5,4.5,4.5,4.5,4.5,4.5,4.5,4.5,4.5,4.5,4.5,4.5,4.5,4.5,4.5,4.5,4.5,4.5,4.5,4.5,4.5,4.5,4.5,4.5,4.5,4.5,4.5,4.5,4.5,4.5,4.5,4.5,4.5,4.5,4.5,4.5,4.5,4.5,4.5,4.5,4.5,4.5,4.5,4.5,4.5,4.5,4.5,4.5,4.5,4.5,4.5,4.5,4.5,4.5,4.5,4.5,4.5,4.5,5.0,5.0,5.0,5.0,5.0,5.0,5.0,5.0,5.0,5.0,5.0,5.0,5.0,5.0,5.0,5.0,5.0,5.0,5.0,5.0,5.0,5.0,5.0,5.0,5.0,5.0,5.0,5.0,5.0,5.0,5.0,5.0,5.0,5.0,5.0,5.0,5.0,5.0,5.0,5.0,5.0,5.0,5.0,5.0,5.0,5.0,5.0,5.0,5.0,5.0,5.0,5.0,5.0,5.0,5.0,5.0,5.0,5.0,5.0,5.0,5.0,5.0,5.0,5.0,5.0,5.0,5.0,5.0,5.0,5.0,5.0,5.0,5.0,5.0,5.0,5.0,5.0,5.0,5.0,5.0,5.0,5.0,5.0,5.0,5.0,5.0,5.0,5.0,5.0,5.0,5.0,5.0,5.0,5.0,5.0,5.0,5.0,5.0,5.0,5.0,5.0,5.0,5.0,5.0,5.0,5.0,5.0,5.0,5.0,5.0,5.0,5.0,5.0,5.0,5.0,5.5,5.5,5.5,5.5,5.5,5.5,5.5,5.5,5.5,5.5,5.5,5.5,5.5,5.5,5.5,5.5,5.5,5.5,5.5,5.5,5.5,5.5,5.5,5.5,5.5,5.5,5.5,5.5,5.5,5.5,5.5,5.5,5.5,5.5,5.5,5.5,5.5,5.5,5.5,5.5,5.5,5.5,5.5,5.5,5.5,5.5,5.5,5.5,5.5,5.5,5.5,5.5,5.5,5.5,5.5,5.5,5.5,5.5,5.5,5.5,5.5,5.5,5.5,5.5,5.5,5.5,5.5,5.5,5.5,5.5,5.5,5.5,5.5,5.5,5.5,5.5,5.5,5.5,5.5,5.5,5.5,5.5,5.5,5.5,5.5,5.5,5.5,5.5,5.5,5.5,5.5,5.5,5.5,5.5,5.5,5.5,5.5,5.5,5.5,5.5,5.5,5.5,5.5,5.5,5.5,5.5,5.5,5.5,5.5,5.5,5.5,5.5,5.5,5.5,5.5,2.0,2.0,2.0,2.0,2.0,2.0,2.0,2.0,2.0,2.0,2.0,2.0,2.0,2.0,2.0,2.0,2.0,2.0,2.0,2.0,2.0,2.0,2.0,2.0,2.0,2.0,2.0,2.0,2.0,2.0,2.0,2.0,2.0,2.0,2.0,2.0,2.0,2.0,2.0,2.0,2.0,2.0,2.0,2.0,2.0,2.0,2.0,2.0,2.0,2.0,2.0,2.0,2.0,2.0,2.0,2.0,2.0,2.0,2.0,2.0,2.0,2.0,2.0,2.0,2.0,2.0,2.0,2.0,2.0,2.0,2.0,2.0,2.0,2.0,2.0,2.0,2.0,2.0,2.0,2.0,2.0,2.0,2.0,2.0,2.0,2.0,2.0,2.0,2.0,2.0,2.0,2.0,2.0,2.0,2.0,2.0,2.0,2.0,2.0,2.0,2.0,2.0,2.0,2.0,2.0,2.0,2.0,2.0,2.0,2.0,2.0,2.0,2.0,2.0,2.0,2.5,2.5,2.5,2.5,2.5,2.5,2.5,2.5,2.5,2.5,2.5,2.5,2.5,2.5,2.5,2.5,2.5,2.5,2.5,2.5,2.5,2.5,2.5,2.5,2.5,2.5,2.5,2.5,2.5,2.5,2.5,2.5,2.5,2.5,2.5,2.5,2.5,2.5,2.5,2.5,2.5,2.5,2.5,2.5,2.5,2.5,2.5,2.5,2.5,2.5,2.5,2.5,2.5,2.5,2.5,2.5,2.5,2.5,2.5,2.5,2.5,2.5,2.5,2.5,2.5,2.5,2.5,2.5,2.5,2.5,2.5,2.5,2.5,2.5,2.5,2.5,2.5,2.5,2.5,2.5,2.5,2.5,2.5,2.5,2.5,2.5,2.5,2.5,2.5,2.5,2.5,2.5,2.5,2.5,2.5,2.5,2.5,2.5,2.5,2.5,2.5,2.5,2.5,2.5,2.5,2.5,2.5,2.5,2.5,2.5,2.5,2.5,2.5,2.5,2.5,3.0,3.0,3.0,3.0,3.0,3.0,3.0,3.0,3.0,3.0,3.0,3.0,3.0,3.0,3.0,3.0,3.0,3.0,3.0,3.0,3.0,3.0,3.0,3.0,3.0,3.0,3.0,3.0,3.0,3.0,3.0,3.0,3.0,3.0,3.0,3.0,3.0,3.0,3.0,3.0,3.0,3.0,3.0,3.0,3.0,3.0,3.0,3.0,3.0,3.0,3.0,3.0,3.0,3.0,3.0,3.0,3.0,3.0,3.0,3.0,3.0,3.0,3.0,3.0,3.0,3.0,3.0,3.0,3.0,3.0,3.0,3.0,3.0,3.0,3.0,3.0,3.0,3.0,3.0,3.0,3.0,3.0,3.0,3.0,3.0,3.0,3.0,3.0,3.0,3.0,3.0,3.0,3.0,3.0,3.0,3.0,3.0,3.0,3.0,3.0,3.0,3.0,3.0,3.0,3.0,3.0,3.0,3.0,3.0,3.0,3.0,3.0,3.0,3.0,3.0,3.5,3.5,3.5,3.5,3.5,3.5,3.5,3.5,3.5,3.5,3.5,3.5,3.5,3.5,3.5,3.5,3.5,3.5,3.5,3.5,3.5,3.5,3.5,3.5,3.5,3.5,3.5,3.5,3.5,3.5,3.5,3.5,3.5,3.5,3.5,3.5,3.5,3.5,3.5,3.5,3.5,3.5,3.5,3.5,3.5,3.5,3.5,3.5,3.5,3.5,3.5,3.5,3.5,3.5,3.5,3.5,3.5,3.5,3.5,3.5,3.5,3.5,3.5,3.5,3.5,3.5,3.5,3.5,3.5,3.5,3.5,3.5,3.5,3.5,3.5,3.5,3.5,3.5,3.5,3.5,3.5,3.5,3.5,3.5,3.5,3.5,3.5,3.5,3.5,3.5,3.5,3.5,3.5,3.5,3.5,3.5,3.5,3.5,3.5,3.5,3.5,3.5,3.5,3.5,3.5,3.5,3.5,3.5,3.5,3.5,3.5,3.5,3.5,3.5,3.5,4.0,4.0,4.0,4.0,4.0,4.0,4.0,4.0,4.0,4.0,4.0,4.0,4.0,4.0,4.0,4.0,4.0,4.0,4.0,4.0,4.0,4.0,4.0,4.0,4.0,4.0,4.0,4.0,4.0,4.0,4.0,4.0,4.0,4.0,4.0,4.0,4.0,4.0,4.0,4.0,4.0,4.0,4.0,4.0,4.0,4.0,4.0,4.0,4.0,4.0,4.0,4.0,4.0,4.0,4.0,4.0,4.0,4.0,4.0,4.0,4.0,4.0,4.0,4.0,4.0,4.0,4.0,4.0,4.0,4.0,4.0,4.0,4.0,4.0,4.0,4.0,4.0,4.0,4.0,4.0,4.0,4.0,4.0,4.0,4.0,4.0,4.0,4.0,4.0,4.0,4.0,4.0,4.0,4.0,4.0,4.0,4.0,4.0,4.0,4.0,4.0,4.0,4.0,4.0,4.0,4.0,4.0,4.0,4.0,4.0,4.0,4.0,4.0,4.0,4.0,4.5,4.5,4.5,4.5,4.5,4.5,4.5,4.5,4.5,4.5,4.5,4.5,4.5,4.5,4.5,4.5,4.5,4.5,4.5,4.5,4.5,4.5,4.5,4.5,4.5,4.5,4.5,4.5,4.5,4.5,4.5,4.5,4.5,4.5,4.5,4.5,4.5,4.5,4.5,4.5,4.5,4.5,4.5,4.5,4.5,4.5,4.5,4.5,4.5,4.5,4.5,4.5,4.5,4.5,4.5,4.5,4.5,4.5,4.5,4.5,4.5,4.5,4.5,4.5,4.5,4.5,4.5,4.5,4.5,4.5,4.5,4.5,4.5,4.5,4.5,4.5,4.5,4.5,4.5,4.5,4.5,4.5,4.5,4.5,4.5,4.5,4.5,4.5,4.5,4.5,4.5,4.5,4.5,4.5,4.5,4.5,4.5,4.5,4.5,4.5,4.5,4.5,4.5,4.5,4.5,4.5,4.5,4.5,4.5,4.5,4.5,4.5,4.5,4.5,4.5,5.0,5.0,5.0,5.0,5.0,5.0,5.0,5.0,5.0,5.0,5.0,5.0,5.0,5.0,5.0,5.0,5.0,5.0,5.0,5.0,5.0,5.0,5.0,5.0,5.0,5.0,5.0,5.0,5.0,5.0,5.0,5.0,5.0,5.0,5.0,5.0,5.0,5.0,5.0,5.0,5.0,5.0,5.0,5.0,5.0,5.0,5.0,5.0,5.0,5.0,5.0,5.0,5.0,5.0,5.0,5.0,5.0,5.0,5.0,5.0,5.0,5.0,5.0,5.0,5.0,5.0,5.0,5.0,5.0,5.0,5.0,5.0,5.0,5.0,5.0,5.0,5.0,5.0,5.0,5.0,5.0,5.0,5.0,5.0,5.0,5.0,5.0,5.0,5.0,5.0,5.0,5.0,5.0,5.0,5.0,5.0,5.0,5.0,5.0,5.0,5.0,5.0,5.0,5.0,5.0,5.0,5.0,5.0,5.0,5.0,5.0,5.0,5.0,5.0,5.0,5.5,5.5,5.5,5.5,5.5,5.5,5.5,5.5,5.5,5.5,5.5,5.5,5.5,5.5,5.5,5.5,5.5,5.5,5.5,5.5,5.5,5.5,5.5,5.5,5.5,5.5,5.5,5.5,5.5,5.5,5.5,5.5,5.5,5.5,5.5,5.5,5.5,5.5,5.5,5.5,5.5,5.5,5.5,5.5,5.5,5.5,5.5,5.5,5.5,5.5,5.5,5.5,5.5,5.5,5.5,5.5,5.5,5.5,5.5,5.5,5.5,5.5,5.5,5.5,5.5,5.5,5.5,5.5,5.5,5.5,5.5,5.5,5.5,5.5,5.5,5.5,5.5,5.5,5.5,5.5,5.5,5.5,5.5,5.5,5.5,5.5,5.5,5.5,5.5,5.5,5.5,5.5,5.5,5.5,5.5,5.5,5.5,5.5,5.5,5.5,5.5,5.5,5.5,5.5,5.5,5.5,5.5,5.5,5.5,5.5,5.5,5.5,5.5,5.5,5.5,2.0,2.0,2.0,2.0,2.0,2.0,2.0,2.0,2.0,2.0,2.0,2.0,2.0,2.0,2.0,2.0,2.0,2.0,2.0,2.0,2.0,2.0,2.0,2.0,2.0,2.0,2.0,2.0,2.0,2.0,2.0,2.0,2.0,2.0,2.0,2.0,2.0,2.0,2.0,2.0,2.0,2.0,2.0,2.0,2.0,2.0,2.0,2.0,2.0,2.0,2.0,2.0,2.0,2.0,2.0,2.0,2.0,2.0,2.0,2.0,2.0,2.0,2.0,2.0,2.0,2.0,2.0,2.0,2.0,2.0,2.0,2.0,2.0,2.0,2.0,2.0,2.0,2.0,2.0,2.0,2.0,2.0,2.0,2.0,2.0,2.0,2.0,2.0,2.0,2.0,2.0,2.0,2.0,2.0,2.0,2.0,2.0,2.0,2.0,2.0,2.0,2.0,2.0,2.0,2.0,2.0,2.0,2.0,2.0,2.0,2.0,2.0,2.0,2.0,2.0,2.5,2.5,2.5,2.5,2.5,2.5,2.5,2.5,2.5,2.5,2.5,2.5,2.5,2.5,2.5,2.5,2.5,2.5,2.5,2.5,2.5,2.5,2.5,2.5,2.5,2.5,2.5,2.5,2.5,2.5,2.5,2.5,2.5,2.5,2.5,2.5,2.5,2.5,2.5,2.5,2.5,2.5,2.5,2.5,2.5,2.5,2.5,2.5,2.5,2.5,2.5,2.5,2.5,2.5,2.5,2.5,2.5,2.5,2.5,2.5,2.5,2.5,2.5,2.5,2.5,2.5,2.5,2.5,2.5,2.5,2.5,2.5,2.5,2.5,2.5,2.5,2.5,2.5,2.5,2.5,2.5,2.5,2.5,2.5,2.5,2.5,2.5,2.5,2.5,2.5,2.5,2.5,2.5,2.5,2.5,2.5,2.5,2.5,2.5,2.5,2.5,2.5,2.5,2.5,2.5,2.5,2.5,2.5,2.5,2.5,2.5,2.5,2.5,2.5,2.5,3.0,3.0,3.0,3.0,3.0,3.0,3.0,3.0,3.0,3.0,3.0,3.0,3.0,3.0,3.0,3.0,3.0,3.0,3.0,3.0,3.0,3.0,3.0,3.0,3.0,3.0,3.0,3.0,3.0,3.0,3.0,3.0,3.0,3.0,3.0,3.0,3.0,3.0,3.0,3.0,3.0,3.0,3.0,3.0,3.0,3.0,3.0,3.0,3.0,3.0,3.0,3.0,3.0,3.0,3.0,3.0,3.0,3.0,3.0,3.0,3.0,3.0,3.0,3.0,3.0,3.0,3.0,3.0,3.0,3.0,3.0,3.0,3.0,3.0,3.0,3.0,3.0,3.0,3.0,3.0,3.0,3.0,3.0,3.0,3.0,3.0,3.0,3.0,3.0,3.0,3.0,3.0,3.0,3.0,3.0,3.0,3.0,3.0,3.0,3.0,3.0,3.0,3.0,3.0,3.0,3.0,3.0,3.0,3.0,3.0,3.0,3.0,3.0,3.0,3.0,3.5,3.5,3.5,3.5,3.5,3.5,3.5,3.5,3.5,3.5,3.5,3.5,3.5,3.5,3.5,3.5,3.5,3.5,3.5,3.5,3.5,3.5,3.5,3.5,3.5,3.5,3.5,3.5,3.5,3.5,3.5,3.5,3.5,3.5,3.5,3.5,3.5,3.5,3.5,3.5,3.5,3.5,3.5,3.5,3.5,3.5,3.5,3.5,3.5,3.5,3.5,3.5,3.5,3.5,3.5,3.5,3.5,3.5,3.5,3.5,3.5,3.5,3.5,3.5,3.5,3.5,3.5,3.5,3.5,3.5,3.5,3.5,3.5,3.5,3.5,3.5,3.5,3.5,3.5,3.5,3.5,3.5,3.5,3.5,3.5,3.5,3.5,3.5,3.5,3.5,3.5,3.5,3.5,3.5,3.5,3.5,3.5,3.5,3.5,3.5,3.5,3.5,3.5,3.5,3.5,3.5,3.5,3.5,3.5,3.5,3.5,3.5,3.5,3.5,3.5,4.0,4.0,4.0,4.0,4.0,4.0,4.0,4.0,4.0,4.0,4.0,4.0,4.0,4.0,4.0,4.0,4.0,4.0,4.0,4.0,4.0,4.0,4.0,4.0,4.0,4.0,4.0,4.0,4.0,4.0,4.0,4.0,4.0,4.0,4.0,4.0,4.0,4.0,4.0,4.0,4.0,4.0,4.0,4.0,4.0,4.0,4.0,4.0,4.0,4.0,4.0,4.0,4.0,4.0,4.0,4.0,4.0,4.0,4.0,4.0,4.0,4.0,4.0,4.0,4.0,4.0,4.0,4.0,4.0,4.0,4.0,4.0,4.0,4.0,4.0,4.0,4.0,4.0,4.0,4.0,4.0,4.0,4.0,4.0,4.0,4.0,4.0,4.0,4.0,4.0,4.0,4.0,4.0,4.0,4.0,4.0,4.0,4.0,4.0,4.0,4.0,4.0,4.0,4.0,4.0,4.0,4.0,4.0,4.0,4.0,4.0,4.0,4.0,4.0,4.0,4.5,4.5,4.5,4.5,4.5,4.5,4.5,4.5,4.5,4.5,4.5,4.5,4.5,4.5,4.5,4.5,4.5,4.5,4.5,4.5,4.5,4.5,4.5,4.5,4.5,4.5,4.5,4.5,4.5,4.5,4.5,4.5,4.5,4.5,4.5,4.5,4.5,4.5,4.5,4.5,4.5,4.5,4.5,4.5,4.5,4.5,4.5,4.5,4.5,4.5,4.5,4.5,4.5,4.5,4.5,4.5,4.5,4.5,4.5,4.5,4.5,4.5,4.5,4.5,4.5,4.5,4.5,4.5,4.5,4.5,4.5,4.5,4.5,4.5,4.5,4.5,4.5,4.5,4.5,4.5,4.5,4.5,4.5,4.5,4.5,4.5,4.5,4.5,4.5,4.5,4.5,4.5,4.5,4.5,4.5,4.5,4.5,4.5,4.5,4.5,4.5,4.5,4.5,4.5,4.5,4.5,4.5,4.5,4.5,4.5,4.5,4.5,4.5,4.5,4.5,5.0,5.0,5.0,5.0,5.0,5.0,5.0,5.0,5.0,5.0,5.0,5.0,5.0,5.0,5.0,5.0,5.0,5.0,5.0,5.0,5.0,5.0,5.0,5.0,5.0,5.0,5.0,5.0,5.0,5.0,5.0,5.0,5.0,5.0,5.0,5.0,5.0,5.0,5.0,5.0,5.0,5.0,5.0,5.0,5.0,5.0,5.0,5.0,5.0,5.0,5.0,5.0,5.0,5.0,5.0,5.0,5.0,5.0,5.0,5.0,5.0,5.0,5.0,5.0,5.0,5.0,5.0,5.0,5.0,5.0,5.0,5.0,5.0,5.0,5.0,5.0,5.0,5.0,5.0,5.0,5.0,5.0,5.0,5.0,5.0,5.0,5.0,5.0,5.0,5.0,5.0,5.0,5.0,5.0,5.0,5.0,5.0,5.0,5.0,5.0,5.0,5.0,5.0,5.0,5.0,5.0,5.0,5.0,5.0,5.0,5.0,5.0,5.0,5.0,5.0,5.5,5.5,5.5,5.5,5.5,5.5,5.5,5.5,5.5,5.5,5.5,5.5,5.5,5.5,5.5,5.5,5.5,5.5,5.5,5.5,5.5,5.5,5.5,5.5,5.5,5.5,5.5,5.5,5.5,5.5,5.5,5.5,5.5,5.5,5.5,5.5,5.5,5.5,5.5,5.5,5.5,5.5,5.5,5.5,5.5,5.5,5.5,5.5,5.5,5.5,5.5,5.5,5.5,5.5,5.5,5.5,5.5,5.5,5.5,5.5,5.5,5.5,5.5,5.5,5.5,5.5,5.5,5.5,5.5,5.5,5.5,5.5,5.5,5.5,5.5,5.5,5.5,5.5,5.5,5.5,5.5,5.5,5.5,5.5,5.5,5.5,5.5,5.5,5.5,5.5,5.5,5.5,5.5,5.5,5.5,5.5,5.5,5.5,5.5,5.5,5.5,5.5,5.5,5.5,5.5,5.5,5.5,5.5,5.5,5.5,5.5,5.5,5.5,5.5,5.5,2.0,2.0,2.0,2.0,2.0,2.0,2.0,2.0,2.0,2.0,2.0,2.0,2.0,2.0,2.0,2.0,2.0,2.0,2.0,2.0,2.0,2.0,2.0,2.0,2.0,2.0,2.0,2.0,2.0,2.0,2.0,2.0,2.0,2.0,2.0,2.0,2.0,2.0,2.0,2.0,2.0,2.0,2.0,2.0,2.0,2.0,2.0,2.0,2.0,2.0,2.0,2.0,2.0,2.0,2.0,2.0,2.0,2.0,2.0,2.0,2.0,2.0,2.0,2.0,2.0,2.0,2.0,2.0,2.0,2.0,2.0,2.0,2.0,2.0,2.0,2.0,2.0,2.0,2.0,2.0,2.0,2.0,2.0,2.0,2.0,2.0,2.0,2.0,2.0,2.0,2.0,2.0,2.0,2.0,2.0,2.0,2.0,2.0,2.0,2.0,2.0,2.0,2.0,2.0,2.0,2.0,2.0,2.0,2.0,2.0,2.0,2.0,2.0,2.0,2.0,2.5,2.5,2.5,2.5,2.5,2.5,2.5,2.5,2.5,2.5,2.5,2.5,2.5,2.5,2.5,2.5,2.5,2.5,2.5,2.5,2.5,2.5,2.5,2.5,2.5,2.5,2.5,2.5,2.5,2.5,2.5,2.5,2.5,2.5,2.5,2.5,2.5,2.5,2.5,2.5,2.5,2.5,2.5,2.5,2.5,2.5,2.5,2.5,2.5,2.5,2.5,2.5,2.5,2.5,2.5,2.5,2.5,2.5,2.5,2.5,2.5,2.5,2.5,2.5,2.5,2.5,2.5,2.5,2.5,2.5,2.5,2.5,2.5,2.5,2.5,2.5,2.5,2.5,2.5,2.5,2.5,2.5,2.5,2.5,2.5,2.5,2.5,2.5,2.5,2.5,2.5,2.5,2.5,2.5,2.5,2.5,2.5,2.5,2.5,2.5,2.5,2.5,2.5,2.5,2.5,2.5,2.5,2.5,2.5,2.5,2.5,2.5,2.5,2.5,2.5,3.0,3.0,3.0,3.0,3.0,3.0,3.0,3.0,3.0,3.0,3.0,3.0,3.0,3.0,3.0,3.0,3.0,3.0,3.0,3.0,3.0,3.0,3.0,3.0,3.0,3.0,3.0,3.0,3.0,3.0,3.0,3.0,3.0,3.0,3.0,3.0,3.0,3.0,3.0,3.0,3.0,3.0,3.0,3.0,3.0,3.0,3.0,3.0,3.0,3.0,3.0,3.0,3.0,3.0,3.0,3.0,3.0,3.0,3.0,3.0,3.0,3.0,3.0,3.0,3.0,3.0,3.0,3.0,3.0,3.0,3.0,3.0,3.0,3.0,3.0,3.0,3.0,3.0,3.0,3.0,3.0,3.0,3.0,3.0,3.0,3.0,3.0,3.0,3.0,3.0,3.0,3.0,3.0,3.0,3.0,3.0,3.0,3.0,3.0,3.0,3.0,3.0,3.0,3.0,3.0,3.0,3.0,3.0,3.0,3.0,3.0,3.0,3.0,3.0,3.0,3.5,3.5,3.5,3.5,3.5,3.5,3.5,3.5,3.5,3.5,3.5,3.5,3.5,3.5,3.5,3.5,3.5,3.5,3.5,3.5,3.5,3.5,3.5,3.5,3.5,3.5,3.5,3.5,3.5,3.5,3.5,3.5,3.5,3.5,3.5,3.5,3.5,3.5,3.5,3.5,3.5,3.5,3.5,3.5,3.5,3.5,3.5,3.5,3.5,3.5,3.5,3.5,3.5,3.5,3.5,3.5,3.5,3.5,3.5,3.5,3.5,3.5,3.5,3.5,3.5,3.5,3.5,3.5,3.5,3.5,3.5,3.5,3.5,3.5,3.5,3.5,3.5,3.5,3.5,3.5,3.5,3.5,3.5,3.5,3.5,3.5,3.5,3.5,3.5,3.5,3.5,3.5,3.5,3.5,3.5,3.5,3.5,3.5,3.5,3.5,3.5,3.5,3.5,3.5,3.5,3.5,3.5,3.5,3.5,3.5,3.5,3.5,3.5,3.5,3.5,4.0,4.0,4.0,4.0,4.0,4.0,4.0,4.0,4.0,4.0,4.0,4.0,4.0,4.0,4.0,4.0,4.0,4.0,4.0,4.0,4.0,4.0,4.0,4.0,4.0,4.0,4.0,4.0,4.0,4.0,4.0,4.0,4.0,4.0,4.0,4.0,4.0,4.0,4.0,4.0,4.0,4.0,4.0,4.0,4.0,4.0,4.0,4.0,4.0,4.0,4.0,4.0,4.0,4.0,4.0,4.0,4.0,4.0,4.0,4.0,4.0,4.0,4.0,4.0,4.0,4.0,4.0,4.0,4.0,4.0,4.0,4.0,4.0,4.0,4.0,4.0,4.0,4.0,4.0,4.0,4.0,4.0,4.0,4.0,4.0,4.0,4.0,4.0,4.0,4.0,4.0,4.0,4.0,4.0,4.0,4.0,4.0,4.0,4.0,4.0,4.0,4.0,4.0,4.0,4.0,4.0,4.0,4.0,4.0,4.0,4.0,4.0,4.0,4.0,4.0,4.5,4.5,4.5,4.5,4.5,4.5,4.5,4.5,4.5,4.5,4.5,4.5,4.5,4.5,4.5,4.5,4.5,4.5,4.5,4.5,4.5,4.5,4.5,4.5,4.5,4.5,4.5,4.5,4.5,4.5,4.5,4.5,4.5,4.5,4.5,4.5,4.5,4.5,4.5,4.5,4.5,4.5,4.5,4.5,4.5,4.5,4.5,4.5,4.5,4.5,4.5,4.5,4.5,4.5,4.5,4.5,4.5,4.5,4.5,4.5,4.5,4.5,4.5,4.5,4.5,4.5,4.5,4.5,4.5,4.5,4.5,4.5,4.5,4.5,4.5,4.5,4.5,4.5,4.5,4.5,4.5,4.5,4.5,4.5,4.5,4.5,4.5,4.5,4.5,4.5,4.5,4.5,4.5,4.5,4.5,4.5,4.5,4.5,4.5,4.5,4.5,4.5,4.5,4.5,4.5,4.5,4.5,4.5,4.5,4.5,4.5,4.5,4.5,4.5,4.5,5.0,5.0,5.0,5.0,5.0,5.0,5.0,5.0,5.0,5.0,5.0,5.0,5.0,5.0,5.0,5.0,5.0,5.0,5.0,5.0,5.0,5.0,5.0,5.0,5.0,5.0,5.0,5.0,5.0,5.0,5.0,5.0,5.0,5.0,5.0,5.0,5.0,5.0,5.0,5.0,5.0,5.0,5.0,5.0,5.0,5.0,5.0,5.0,5.0,5.0,5.0,5.0,5.0,5.0,5.0,5.0,5.0,5.0,5.0,5.0,5.0,5.0,5.0,5.0,5.0,5.0,5.0,5.0,5.0,5.0,5.0,5.0,5.0,5.0,5.0,5.0,5.0,5.0,5.0,5.0,5.0,5.0,5.0,5.0,5.0,5.0,5.0,5.0,5.0,5.0,5.0,5.0,5.0,5.0,5.0,5.0,5.0,5.0,5.0,5.0,5.0,5.0,5.0,5.0,5.0,5.0,5.0,5.0,5.0,5.0,5.0,5.0,5.0,5.0,5.0,5.5,5.5,5.5,5.5,5.5,5.5,5.5,5.5,5.5,5.5,5.5,5.5,5.5,5.5,5.5,5.5,5.5,5.5,5.5,5.5,5.5,5.5,5.5,5.5,5.5,5.5,5.5,5.5,5.5,5.5,5.5,5.5,5.5,5.5,5.5,5.5,5.5,5.5,5.5,5.5,5.5,5.5,5.5,5.5,5.5,5.5,5.5,5.5,5.5,5.5,5.5,5.5,5.5,5.5,5.5,5.5,5.5,5.5,5.5,5.5,5.5,5.5,5.5,5.5,5.5,5.5,5.5,5.5,5.5,5.5,5.5,5.5,5.5,5.5,5.5,5.5,5.5,5.5,5.5,5.5,5.5,5.5,5.5,5.5,5.5,5.5,5.5,5.5,5.5,5.5,5.5,5.5,5.5,5.5,5.5,5.5,5.5,5.5,5.5,5.5,5.5,5.5,5.5,5.5,5.5,5.5,5.5,5.5,5.5,5.5,5.5,5.5,5.5,5.5,5.5,2.0,2.0,2.0,2.0,2.0,2.0,2.0,2.0,2.0,2.0,2.0,2.0,2.0,2.0,2.0,2.0,2.0,2.0,2.0,2.0,2.0,2.0,2.0,2.0,2.0,2.0,2.0,2.0,2.0,2.0,2.0,2.0,2.0,2.0,2.0,2.0,2.0,2.0,2.0,2.0,2.0,2.0,2.0,2.0,2.0,2.0,2.0,2.0,2.0,2.0,2.0,2.0,2.0,2.0,2.0,2.0,2.0,2.0,2.0,2.0,2.0,2.0,2.0,2.0,2.0,2.0,2.0,2.0,2.0,2.0,2.0,2.0,2.0,2.0,2.0,2.0,2.0,2.0,2.0,2.0,2.0,2.0,2.0,2.0,2.0,2.0,2.0,2.0,2.0,2.0,2.0,2.0,2.0,2.0,2.0,2.0,2.0,2.0,2.0,2.0,2.0,2.0,2.0,2.0,2.0,2.0,2.0,2.0,2.0,2.0,2.0,2.0,2.0,2.0,2.0,2.5,2.5,2.5,2.5,2.5,2.5,2.5,2.5,2.5,2.5,2.5,2.5,2.5,2.5,2.5,2.5,2.5,2.5,2.5,2.5,2.5,2.5,2.5,2.5,2.5,2.5,2.5,2.5,2.5,2.5,2.5,2.5,2.5,2.5,2.5,2.5,2.5,2.5,2.5,2.5,2.5,2.5,2.5,2.5,2.5,2.5,2.5,2.5,2.5,2.5,2.5,2.5,2.5,2.5,2.5,2.5,2.5,2.5,2.5,2.5,2.5,2.5,2.5,2.5,2.5,2.5,2.5,2.5,2.5,2.5,2.5,2.5,2.5,2.5,2.5,2.5,2.5,2.5,2.5,2.5,2.5,2.5,2.5,2.5,2.5,2.5,2.5,2.5,2.5,2.5,2.5,2.5,2.5,2.5,2.5,2.5,2.5,2.5,2.5,2.5,2.5,2.5,2.5,2.5,2.5,2.5,2.5,2.5,2.5,2.5,2.5,2.5,2.5,2.5,2.5,3.0,3.0,3.0,3.0,3.0,3.0,3.0,3.0,3.0,3.0,3.0,3.0,3.0,3.0,3.0,3.0,3.0,3.0,3.0,3.0,3.0,3.0,3.0,3.0,3.0,3.0,3.0,3.0,3.0,3.0,3.0,3.0,3.0,3.0,3.0,3.0,3.0,3.0,3.0,3.0,3.0,3.0,3.0,3.0,3.0,3.0,3.0,3.0,3.0,3.0,3.0,3.0,3.0,3.0,3.0,3.0,3.0,3.0,3.0,3.0,3.0,3.0,3.0,3.0,3.0,3.0,3.0,3.0,3.0,3.0,3.0,3.0,3.0,3.0,3.0,3.0,3.0,3.0,3.0,3.0,3.0,3.0,3.0,3.0,3.0,3.0,3.0,3.0,3.0,3.0,3.0,3.0,3.0,3.0,3.0,3.0,3.0,3.0,3.0,3.0,3.0,3.0,3.0,3.0,3.0,3.0,3.0,3.0,3.0,3.0,3.0,3.0,3.0,3.0,3.0,3.5,3.5,3.5,3.5,3.5,3.5,3.5,3.5,3.5,3.5,3.5,3.5,3.5,3.5,3.5,3.5,3.5,3.5,3.5,3.5,3.5,3.5,3.5,3.5,3.5,3.5,3.5,3.5,3.5,3.5,3.5,3.5,3.5,3.5,3.5,3.5,3.5,3.5,3.5,3.5,3.5,3.5,3.5,3.5,3.5,3.5,3.5,3.5,3.5,3.5,3.5,3.5,3.5,3.5,3.5,3.5,3.5,3.5,3.5,3.5,3.5,3.5,3.5,3.5,3.5,3.5,3.5,3.5,3.5,3.5,3.5,3.5,3.5,3.5,3.5,3.5,3.5,3.5,3.5,3.5,3.5,3.5,3.5,3.5,3.5,3.5,3.5,3.5,3.5,3.5,3.5,3.5,3.5,3.5,3.5,3.5,3.5,3.5,3.5,3.5,3.5,3.5,3.5,3.5,3.5,3.5,3.5,3.5,3.5,3.5,3.5,3.5,3.5,3.5,3.5,4.0,4.0,4.0,4.0,4.0,4.0,4.0,4.0,4.0,4.0,4.0,4.0,4.0,4.0,4.0,4.0,4.0,4.0,4.0,4.0,4.0,4.0,4.0,4.0,4.0,4.0,4.0,4.0,4.0,4.0,4.0,4.0,4.0,4.0,4.0,4.0,4.0,4.0,4.0,4.0,4.0,4.0,4.0,4.0,4.0,4.0,4.0,4.0,4.0,4.0,4.0,4.0,4.0,4.0,4.0,4.0,4.0,4.0,4.0,4.0,4.0,4.0,4.0,4.0,4.0,4.0,4.0,4.0,4.0,4.0,4.0,4.0,4.0,4.0,4.0,4.0,4.0,4.0,4.0,4.0,4.0,4.0,4.0,4.0,4.0,4.0,4.0,4.0,4.0,4.0,4.0,4.0,4.0,4.0,4.0,4.0,4.0,4.0,4.0,4.0,4.0,4.0,4.0,4.0,4.0,4.0,4.0,4.0,4.0,4.0,4.0,4.0,4.0,4.0,4.0,4.5,4.5,4.5,4.5,4.5,4.5,4.5,4.5,4.5,4.5,4.5,4.5,4.5,4.5,4.5,4.5,4.5,4.5,4.5,4.5,4.5,4.5,4.5,4.5,4.5,4.5,4.5,4.5,4.5,4.5,4.5,4.5,4.5,4.5,4.5,4.5,4.5,4.5,4.5,4.5,4.5,4.5,4.5,4.5,4.5,4.5,4.5,4.5,4.5,4.5,4.5,4.5,4.5,4.5,4.5,4.5,4.5,4.5,4.5,4.5,4.5,4.5,4.5,4.5,4.5,4.5,4.5,4.5,4.5,4.5,4.5,4.5,4.5,4.5,4.5,4.5,4.5,4.5,4.5,4.5,4.5,4.5,4.5,4.5,4.5,4.5,4.5,4.5,4.5,4.5,4.5,4.5,4.5,4.5,4.5,4.5,4.5,4.5,4.5,4.5,4.5,4.5,4.5,4.5,4.5,4.5,4.5,4.5,4.5,4.5,4.5,4.5,4.5,4.5,4.5,5.0,5.0,5.0,5.0,5.0,5.0,5.0,5.0,5.0,5.0,5.0,5.0,5.0,5.0,5.0,5.0,5.0,5.0,5.0,5.0,5.0,5.0,5.0,5.0,5.0,5.0,5.0,5.0,5.0,5.0,5.0,5.0,5.0,5.0,5.0,5.0,5.0,5.0,5.0,5.0,5.0,5.0,5.0,5.0,5.0,5.0,5.0,5.0,5.0,5.0,5.0,5.0,5.0,5.0,5.0,5.0,5.0,5.0,5.0,5.0,5.0,5.0,5.0,5.0,5.0,5.0,5.0,5.0,5.0,5.0,5.0,5.0,5.0,5.0,5.0,5.0,5.0,5.0,5.0,5.0,5.0,5.0,5.0,5.0,5.0,5.0,5.0,5.0,5.0,5.0,5.0,5.0,5.0,5.0,5.0,5.0,5.0,5.0,5.0,5.0,5.0,5.0,5.0,5.0,5.0,5.0,5.0,5.0,5.0,5.0,5.0,5.0,5.0,5.0,5.0,5.5,5.5,5.5,5.5,5.5,5.5,5.5,5.5,5.5,5.5,5.5,5.5,5.5,5.5,5.5,5.5,5.5,5.5,5.5,5.5,5.5,5.5,5.5,5.5,5.5,5.5,5.5,5.5,5.5,5.5,5.5,5.5,5.5,5.5,5.5,5.5,5.5,5.5,5.5,5.5,5.5,5.5,5.5,5.5,5.5,5.5,5.5,5.5,5.5,5.5,5.5,5.5,5.5,5.5,5.5,5.5,5.5,5.5,5.5,5.5,5.5,5.5,5.5,5.5,5.5,5.5,5.5,5.5,5.5,5.5,5.5,5.5,5.5,5.5,5.5,5.5,5.5,5.5,5.5,5.5,5.5,5.5,5.5,5.5,5.5,5.5,5.5,5.5,5.5,5.5,5.5,5.5,5.5,5.5,5.5,5.5,5.5,5.5,5.5,5.5,5.5,5.5,5.5,5.5,5.5,5.5,5.5,5.5,5.5,5.5,5.5,5.5,5.5,5.5,5.5,2.0,2.0,2.0,2.0,2.0,2.0,2.0,2.0,2.0,2.0,2.0,2.0,2.0,2.0,2.0,2.0,2.0,2.0,2.0,2.0,2.0,2.0,2.0,2.0,2.0,2.0,2.0,2.0,2.0,2.0,2.0,2.0,2.0,2.0,2.0,2.0,2.0,2.0,2.0,2.0,2.0,2.0,2.0,2.0,2.0,2.0,2.0,2.0,2.0,2.0,2.0,2.0,2.0,2.0,2.0,2.0,2.0,2.0,2.0,2.0,2.0,2.0,2.0,2.0,2.0,2.0,2.0,2.0,2.0,2.0,2.0,2.0,2.0,2.0,2.0,2.0,2.0,2.0,2.0,2.0,2.0,2.0,2.0,2.0,2.0,2.0,2.0,2.0,2.0,2.0,2.0,2.0,2.0,2.0,2.0,2.0,2.0,2.0,2.0,2.0,2.0,2.0,2.0,2.0,2.0,2.0,2.0,2.0,2.0,2.0,2.0,2.0,2.0,2.0,2.0,2.5,2.5,2.5,2.5,2.5,2.5,2.5,2.5,2.5,2.5,2.5,2.5,2.5,2.5,2.5,2.5,2.5,2.5,2.5,2.5,2.5,2.5,2.5,2.5,2.5,2.5,2.5,2.5,2.5,2.5,2.5,2.5,2.5,2.5,2.5,2.5,2.5,2.5,2.5,2.5,2.5,2.5,2.5,2.5,2.5,2.5,2.5,2.5,2.5,2.5,2.5,2.5,2.5,2.5,2.5,2.5,2.5,2.5,2.5,2.5,2.5,2.5,2.5,2.5,2.5,2.5,2.5,2.5,2.5,2.5,2.5,2.5,2.5,2.5,2.5,2.5,2.5,2.5,2.5,2.5,2.5,2.5,2.5,2.5,2.5,2.5,2.5,2.5,2.5,2.5,2.5,2.5,2.5,2.5,2.5,2.5,2.5,2.5,2.5,2.5,2.5,2.5,2.5,2.5,2.5,2.5,2.5,2.5,2.5,2.5,2.5,2.5,2.5,2.5,2.5,3.0,3.0,3.0,3.0,3.0,3.0,3.0,3.0,3.0,3.0,3.0,3.0,3.0,3.0,3.0,3.0,3.0,3.0,3.0,3.0,3.0,3.0,3.0,3.0,3.0,3.0,3.0,3.0,3.0,3.0,3.0,3.0,3.0,3.0,3.0,3.0,3.0,3.0,3.0,3.0,3.0,3.0,3.0,3.0,3.0,3.0,3.0,3.0,3.0,3.0,3.0,3.0,3.0,3.0,3.0,3.0,3.0,3.0,3.0,3.0,3.0,3.0,3.0,3.0,3.0,3.0,3.0,3.0,3.0,3.0,3.0,3.0,3.0,3.0,3.0,3.0,3.0,3.0,3.0,3.0,3.0,3.0,3.0,3.0,3.0,3.0,3.0,3.0,3.0,3.0,3.0,3.0,3.0,3.0,3.0,3.0,3.0,3.0,3.0,3.0,3.0,3.0,3.0,3.0,3.0,3.0,3.0,3.0,3.0,3.0,3.0,3.0,3.0,3.0,3.0,3.5,3.5,3.5,3.5,3.5,3.5,3.5,3.5,3.5,3.5,3.5,3.5,3.5,3.5,3.5,3.5,3.5,3.5,3.5,3.5,3.5,3.5,3.5,3.5,3.5,3.5,3.5,3.5,3.5,3.5,3.5,3.5,3.5,3.5,3.5,3.5,3.5,3.5,3.5,3.5,3.5,3.5,3.5,3.5,3.5,3.5,3.5,3.5,3.5,3.5,3.5,3.5,3.5,3.5,3.5,3.5,3.5,3.5,3.5,3.5,3.5,3.5,3.5,3.5,3.5,3.5,3.5,3.5,3.5,3.5,3.5,3.5,3.5,3.5,3.5,3.5,3.5,3.5,3.5,3.5,3.5,3.5,3.5,3.5,3.5,3.5,3.5,3.5,3.5,3.5,3.5,3.5,3.5,3.5,3.5,3.5,3.5,3.5,3.5,3.5,3.5,3.5,3.5,3.5,3.5,3.5,3.5,3.5,3.5,3.5,3.5,3.5,3.5,3.5,3.5,4.0,4.0,4.0,4.0,4.0,4.0,4.0,4.0,4.0,4.0,4.0,4.0,4.0,4.0,4.0,4.0,4.0,4.0,4.0,4.0,4.0,4.0,4.0,4.0,4.0,4.0,4.0,4.0,4.0,4.0,4.0,4.0,4.0,4.0,4.0,4.0,4.0,4.0,4.0,4.0,4.0,4.0,4.0,4.0,4.0,4.0,4.0,4.0,4.0,4.0,4.0,4.0,4.0,4.0,4.0,4.0,4.0,4.0,4.0,4.0,4.0,4.0,4.0,4.0,4.0,4.0,4.0,4.0,4.0,4.0,4.0,4.0,4.0,4.0,4.0,4.0,4.0,4.0,4.0,4.0,4.0,4.0,4.0,4.0,4.0,4.0,4.0,4.0,4.0,4.0,4.0,4.0,4.0,4.0,4.0,4.0,4.0,4.0,4.0,4.0,4.0,4.0,4.0,4.0,4.0,4.0,4.0,4.0,4.0,4.0,4.0,4.0,4.0,4.0,4.0,4.5,4.5,4.5,4.5,4.5,4.5,4.5,4.5,4.5,4.5,4.5,4.5,4.5,4.5,4.5,4.5,4.5,4.5,4.5,4.5,4.5,4.5,4.5,4.5,4.5,4.5,4.5,4.5,4.5,4.5,4.5,4.5,4.5,4.5,4.5,4.5,4.5,4.5,4.5,4.5,4.5,4.5,4.5,4.5,4.5,4.5,4.5,4.5,4.5,4.5,4.5,4.5,4.5,4.5,4.5,4.5,4.5,4.5,4.5,4.5,4.5,4.5,4.5,4.5,4.5,4.5,4.5,4.5,4.5,4.5,4.5,4.5,4.5,4.5,4.5,4.5,4.5,4.5,4.5,4.5,4.5,4.5,4.5,4.5,4.5,4.5,4.5,4.5,4.5,4.5,4.5,4.5,4.5,4.5,4.5,4.5,4.5,4.5,4.5,4.5,4.5,4.5,4.5,4.5,4.5,4.5,4.5,4.5,4.5,4.5,4.5,4.5,4.5,4.5,4.5,5.0,5.0,5.0,5.0,5.0,5.0,5.0,5.0,5.0,5.0,5.0,5.0,5.0,5.0,5.0,5.0,5.0,5.0,5.0,5.0,5.0,5.0,5.0,5.0,5.0,5.0,5.0,5.0,5.0,5.0,5.0,5.0,5.0,5.0,5.0,5.0,5.0,5.0,5.0,5.0,5.0,5.0,5.0,5.0,5.0,5.0,5.0,5.0,5.0,5.0,5.0,5.0,5.0,5.0,5.0,5.0,5.0,5.0,5.0,5.0,5.0,5.0,5.0,5.0,5.0,5.0,5.0,5.0,5.0,5.0,5.0,5.0,5.0,5.0,5.0,5.0,5.0,5.0,5.0,5.0,5.0,5.0,5.0,5.0,5.0,5.0,5.0,5.0,5.0,5.0,5.0,5.0,5.0,5.0,5.0,5.0,5.0,5.0,5.0,5.0,5.0,5.0,5.0,5.0,5.0,5.0,5.0,5.0,5.0,5.0,5.0,5.0,5.0,5.0,5.0,5.5,5.5,5.5,5.5,5.5,5.5,5.5,5.5,5.5,5.5,5.5,5.5,5.5,5.5,5.5,5.5,5.5,5.5,5.5,5.5,5.5,5.5,5.5,5.5,5.5,5.5,5.5,5.5,5.5,5.5,5.5,5.5,5.5,5.5,5.5,5.5,5.5,5.5,5.5,5.5,5.5,5.5,5.5,5.5,5.5,5.5,5.5,5.5,5.5,5.5,5.5,5.5,5.5,5.5,5.5,5.5,5.5,5.5,5.5,5.5,5.5,5.5,5.5,5.5,5.5,5.5,5.5,5.5,5.5,5.5,5.5,5.5,5.5,5.5,5.5,5.5,5.5,5.5,5.5,5.5,5.5,5.5,5.5,5.5,5.5,5.5,5.5,5.5,5.5,5.5,5.5,5.5,5.5,5.5,5.5,5.5,5.5,5.5,5.5,5.5,5.5,5.5,5.5,5.5,5.5,5.5,5.5,5.5,5.5,5.5,5.5,5.5,5.5,5.5,5.5,2.0,2.0,2.0,2.0,2.0,2.0,2.0,2.0,2.0,2.0,2.0,2.0,2.0,2.0,2.0,2.0,2.0,2.0,2.0,2.0,2.0,2.0,2.0,2.0,2.0,2.0,2.0,2.0,2.0,2.0,2.0,2.0,2.0,2.0,2.0,2.0,2.0,2.0,2.0,2.0,2.0,2.0,2.0,2.0,2.0,2.0,2.0,2.0,2.0,2.0,2.0,2.0,2.0,2.0,2.0,2.0,2.0,2.0,2.0,2.0,2.0,2.0,2.0,2.0,2.0,2.0,2.0,2.0,2.0,2.0,2.0,2.0,2.0,2.0,2.0,2.0,2.0,2.0,2.0,2.0,2.0,2.0,2.0,2.0,2.0,2.0,2.0,2.0,2.0,2.0,2.0,2.0,2.0,2.0,2.0,2.0,2.0,2.0,2.0,2.0,2.0,2.0,2.0,2.0,2.0,2.0,2.0,2.0,2.0,2.0,2.0,2.0,2.0,2.0,2.0,2.5,2.5,2.5,2.5,2.5,2.5,2.5,2.5,2.5,2.5,2.5,2.5,2.5,2.5,2.5,2.5,2.5,2.5,2.5,2.5,2.5,2.5,2.5,2.5,2.5,2.5,2.5,2.5,2.5,2.5,2.5,2.5,2.5,2.5,2.5,2.5,2.5,2.5,2.5,2.5,2.5,2.5,2.5,2.5,2.5,2.5,2.5,2.5,2.5,2.5,2.5,2.5,2.5,2.5,2.5,2.5,2.5,2.5,2.5,2.5,2.5,2.5,2.5,2.5,2.5,2.5,2.5,2.5,2.5,2.5,2.5,2.5,2.5,2.5,2.5,2.5,2.5,2.5,2.5,2.5,2.5,2.5,2.5,2.5,2.5,2.5,2.5,2.5,2.5,2.5,2.5,2.5,2.5,2.5,2.5,2.5,2.5,2.5,2.5,2.5,2.5,2.5,2.5,2.5,2.5,2.5,2.5,2.5,2.5,2.5,2.5,2.5,2.5,2.5,2.5,3.0,3.0,3.0,3.0,3.0,3.0,3.0,3.0,3.0,3.0,3.0,3.0,3.0,3.0,3.0,3.0,3.0,3.0,3.0,3.0,3.0,3.0,3.0,3.0,3.0,3.0,3.0,3.0,3.0,3.0,3.0,3.0,3.0,3.0,3.0,3.0,3.0,3.0,3.0,3.0,3.0,3.0,3.0,3.0,3.0,3.0,3.0,3.0,3.0,3.0,3.0,3.0,3.0,3.0,3.0,3.0,3.0,3.0,3.0,3.0,3.0,3.0,3.0,3.0,3.0,3.0,3.0,3.0,3.0,3.0,3.0,3.0,3.0,3.0,3.0,3.0,3.0,3.0,3.0,3.0,3.0,3.0,3.0,3.0,3.0,3.0,3.0,3.0,3.0,3.0,3.0,3.0,3.0,3.0,3.0,3.0,3.0,3.0,3.0,3.0,3.0,3.0,3.0,3.0,3.0,3.0,3.0,3.0,3.0,3.0,3.0,3.0,3.0,3.0,3.0,3.5,3.5,3.5,3.5,3.5,3.5,3.5,3.5,3.5,3.5,3.5,3.5,3.5,3.5,3.5,3.5,3.5,3.5,3.5,3.5,3.5,3.5,3.5,3.5,3.5,3.5,3.5,3.5,3.5,3.5,3.5,3.5,3.5,3.5,3.5,3.5,3.5,3.5,3.5,3.5,3.5,3.5,3.5,3.5,3.5,3.5,3.5,3.5,3.5,3.5,3.5,3.5,3.5,3.5,3.5,3.5,3.5,3.5,3.5,3.5,3.5,3.5,3.5,3.5,3.5,3.5,3.5,3.5,3.5,3.5,3.5,3.5,3.5,3.5,3.5,3.5,3.5,3.5,3.5,3.5,3.5,3.5,3.5,3.5,3.5,3.5,3.5,3.5,3.5,3.5,3.5,3.5,3.5,3.5,3.5,3.5,3.5,3.5,3.5,3.5,3.5,3.5,3.5,3.5,3.5,3.5,3.5,3.5,3.5,3.5,3.5,3.5,3.5,3.5,3.5,4.0,4.0,4.0,4.0,4.0,4.0,4.0,4.0,4.0,4.0,4.0,4.0,4.0,4.0,4.0,4.0,4.0,4.0,4.0,4.0,4.0,4.0,4.0,4.0,4.0,4.0,4.0,4.0,4.0,4.0,4.0,4.0,4.0,4.0,4.0,4.0,4.0,4.0,4.0,4.0,4.0,4.0,4.0,4.0,4.0,4.0,4.0,4.0,4.0,4.0,4.0,4.0,4.0,4.0,4.0,4.0,4.0,4.0,4.0,4.0,4.0,4.0,4.0,4.0,4.0,4.0,4.0,4.0,4.0,4.0,4.0,4.0,4.0,4.0,4.0,4.0,4.0,4.0,4.0,4.0,4.0,4.0,4.0,4.0,4.0,4.0,4.0,4.0,4.0,4.0,4.0,4.0,4.0,4.0,4.0,4.0,4.0,4.0,4.0,4.0,4.0,4.0,4.0,4.0,4.0,4.0,4.0,4.0,4.0,4.0,4.0,4.0,4.0,4.0,4.0,4.5,4.5,4.5,4.5,4.5,4.5,4.5,4.5,4.5,4.5,4.5,4.5,4.5,4.5,4.5,4.5,4.5,4.5,4.5,4.5,4.5,4.5,4.5,4.5,4.5,4.5,4.5,4.5,4.5,4.5,4.5,4.5,4.5,4.5,4.5,4.5,4.5,4.5,4.5,4.5,4.5,4.5,4.5,4.5,4.5,4.5,4.5,4.5,4.5,4.5,4.5,4.5,4.5,4.5,4.5,4.5,4.5,4.5,4.5,4.5,4.5,4.5,4.5,4.5,4.5,4.5,4.5,4.5,4.5,4.5,4.5,4.5,4.5,4.5,4.5,4.5,4.5,4.5,4.5,4.5,4.5,4.5,4.5,4.5,4.5,4.5,4.5,4.5,4.5,4.5,4.5,4.5,4.5,4.5,4.5,4.5,4.5,4.5,4.5,4.5,4.5,4.5,4.5,4.5,4.5,4.5,4.5,4.5,4.5,4.5,4.5,4.5,4.5,4.5,4.5,5.0,5.0,5.0,5.0,5.0,5.0,5.0,5.0,5.0,5.0,5.0,5.0,5.0,5.0,5.0,5.0,5.0,5.0,5.0,5.0,5.0,5.0,5.0,5.0,5.0,5.0,5.0,5.0,5.0,5.0,5.0,5.0,5.0,5.0,5.0,5.0,5.0,5.0,5.0,5.0,5.0,5.0,5.0,5.0,5.0,5.0,5.0,5.0,5.0,5.0,5.0,5.0,5.0,5.0,5.0,5.0,5.0,5.0,5.0,5.0,5.0,5.0,5.0,5.0,5.0,5.0,5.0,5.0,5.0,5.0,5.0,5.0,5.0,5.0,5.0,5.0,5.0,5.0,5.0,5.0,5.0,5.0,5.0,5.0,5.0,5.0,5.0,5.0,5.0,5.0,5.0,5.0,5.0,5.0,5.0,5.0,5.0,5.0,5.0,5.0,5.0,5.0,5.0,5.0,5.0,5.0,5.0,5.0,5.0,5.0,5.0,5.0,5.0,5.0,5.0,5.5,5.5,5.5,5.5,5.5,5.5,5.5,5.5,5.5,5.5,5.5,5.5,5.5,5.5,5.5,5.5,5.5,5.5,5.5,5.5,5.5,5.5,5.5,5.5,5.5,5.5,5.5,5.5,5.5,5.5,5.5,5.5,5.5,5.5,5.5,5.5,5.5,5.5,5.5,5.5,5.5,5.5,5.5,5.5,5.5,5.5,5.5,5.5,5.5,5.5,5.5,5.5,5.5,5.5,5.5,5.5,5.5,5.5,5.5,5.5,5.5,5.5,5.5,5.5,5.5,5.5,5.5,5.5,5.5,5.5,5.5,5.5,5.5,5.5,5.5,5.5,5.5,5.5,5.5,5.5,5.5,5.5,5.5,5.5,5.5,5.5,5.5,5.5,5.5,5.5,5.5,5.5,5.5,5.5,5.5,5.5,5.5,5.5,5.5,5.5,5.5,5.5,5.5,5.5,5.5,5.5,5.5,5.5,5.5,5.5,5.5,5.5,5.5,5.5,5.5,2.0,2.0,2.0,2.0,2.0,2.0,2.0,2.0,2.0,2.0,2.0,2.0,2.0,2.0,2.0,2.0,2.0,2.0,2.0,2.0,2.0,2.0,2.0,2.0,2.0,2.0,2.0,2.0,2.0,2.0,2.0,2.0,2.0,2.0,2.0,2.0,2.0,2.0,2.0,2.0,2.0,2.0,2.0,2.0,2.0,2.0,2.0,2.0,2.0,2.0,2.0,2.0,2.0,2.0,2.0,2.0,2.0,2.0,2.0,2.0,2.0,2.0,2.0,2.0,2.0,2.0,2.0,2.0,2.0,2.0,2.0,2.0,2.0,2.0,2.0,2.0,2.0,2.0,2.0,2.0,2.0,2.0,2.0,2.0,2.0,2.0,2.0,2.0,2.0,2.0,2.0,2.0,2.0,2.0,2.0,2.0,2.0,2.0,2.0,2.0,2.0,2.0,2.0,2.0,2.0,2.0,2.0,2.0,2.0,2.0,2.0,2.0,2.0,2.0,2.0,2.5,2.5,2.5,2.5,2.5,2.5,2.5,2.5,2.5,2.5,2.5,2.5,2.5,2.5,2.5,2.5,2.5,2.5,2.5,2.5,2.5,2.5,2.5,2.5,2.5,2.5,2.5,2.5,2.5,2.5,2.5,2.5,2.5,2.5,2.5,2.5,2.5,2.5,2.5,2.5,2.5,2.5,2.5,2.5,2.5,2.5,2.5,2.5,2.5,2.5,2.5,2.5,2.5,2.5,2.5,2.5,2.5,2.5,2.5,2.5,2.5,2.5,2.5,2.5,2.5,2.5,2.5,2.5,2.5,2.5,2.5,2.5,2.5,2.5,2.5,2.5,2.5,2.5,2.5,2.5,2.5,2.5,2.5,2.5,2.5,2.5,2.5,2.5,2.5,2.5,2.5,2.5,2.5,2.5,2.5,2.5,2.5,2.5,2.5,2.5,2.5,2.5,2.5,2.5,2.5,2.5,2.5,2.5,2.5,2.5,2.5,2.5,2.5,2.5,2.5,3.0,3.0,3.0,3.0,3.0,3.0,3.0,3.0,3.0,3.0,3.0,3.0,3.0,3.0,3.0,3.0,3.0,3.0,3.0,3.0,3.0,3.0,3.0,3.0,3.0,3.0,3.0,3.0,3.0,3.0,3.0,3.0,3.0,3.0,3.0,3.0,3.0,3.0,3.0,3.0,3.0,3.0,3.0,3.0,3.0,3.0,3.0,3.0,3.0,3.0,3.0,3.0,3.0,3.0,3.0,3.0,3.0,3.0,3.0,3.0,3.0,3.0,3.0,3.0,3.0,3.0,3.0,3.0,3.0,3.0,3.0,3.0,3.0,3.0,3.0,3.0,3.0,3.0,3.0,3.0,3.0,3.0,3.0,3.0,3.0,3.0,3.0,3.0,3.0,3.0,3.0,3.0,3.0,3.0,3.0,3.0,3.0,3.0,3.0,3.0,3.0,3.0,3.0,3.0,3.0,3.0,3.0,3.0,3.0,3.0,3.0,3.0,3.0,3.0,3.0,3.5,3.5,3.5,3.5,3.5,3.5,3.5,3.5,3.5,3.5,3.5,3.5,3.5,3.5,3.5,3.5,3.5,3.5,3.5,3.5,3.5,3.5,3.5,3.5,3.5,3.5,3.5,3.5,3.5,3.5,3.5,3.5,3.5,3.5,3.5,3.5,3.5,3.5,3.5,3.5,3.5,3.5,3.5,3.5,3.5,3.5,3.5,3.5,3.5,3.5,3.5,3.5,3.5,3.5,3.5,3.5,3.5,3.5,3.5,3.5,3.5,3.5,3.5,3.5,3.5,3.5,3.5,3.5,3.5,3.5,3.5,3.5,3.5,3.5,3.5,3.5,3.5,3.5,3.5,3.5,3.5,3.5,3.5,3.5,3.5,3.5,3.5,3.5,3.5,3.5,3.5,3.5,3.5,3.5,3.5,3.5,3.5,3.5,3.5,3.5,3.5,3.5,3.5,3.5,3.5,3.5,3.5,3.5,3.5,3.5,3.5,3.5,3.5,3.5,3.5,4.0,4.0,4.0,4.0,4.0,4.0,4.0,4.0,4.0,4.0,4.0,4.0,4.0,4.0,4.0,4.0,4.0,4.0,4.0,4.0,4.0,4.0,4.0,4.0,4.0,4.0,4.0,4.0,4.0,4.0,4.0,4.0,4.0,4.0,4.0,4.0,4.0,4.0,4.0,4.0,4.0,4.0,4.0,4.0,4.0,4.0,4.0,4.0,4.0,4.0,4.0,4.0,4.0,4.0,4.0,4.0,4.0,4.0,4.0,4.0,4.0,4.0,4.0,4.0,4.0,4.0,4.0,4.0,4.0,4.0,4.0,4.0,4.0,4.0,4.0,4.0,4.0,4.0,4.0,4.0,4.0,4.0,4.0,4.0,4.0,4.0,4.0,4.0,4.0,4.0,4.0,4.0,4.0,4.0,4.0,4.0,4.0,4.0,4.0,4.0,4.0,4.0,4.0,4.0,4.0,4.0,4.0,4.0,4.0,4.0,4.0,4.0,4.0,4.0,4.0,4.5,4.5,4.5,4.5,4.5,4.5,4.5,4.5,4.5,4.5,4.5,4.5,4.5,4.5,4.5,4.5,4.5,4.5,4.5,4.5,4.5,4.5,4.5,4.5,4.5,4.5,4.5,4.5,4.5,4.5,4.5,4.5,4.5,4.5,4.5,4.5,4.5,4.5,4.5,4.5,4.5,4.5,4.5,4.5,4.5,4.5,4.5,4.5,4.5,4.5,4.5,4.5,4.5,4.5,4.5,4.5,4.5,4.5,4.5,4.5,4.5,4.5,4.5,4.5,4.5,4.5,4.5,4.5,4.5,4.5,4.5,4.5,4.5,4.5,4.5,4.5,4.5,4.5,4.5,4.5,4.5,4.5,4.5,4.5,4.5,4.5,4.5,4.5,4.5,4.5,4.5,4.5,4.5,4.5,4.5,4.5,4.5,4.5,4.5,4.5,4.5,4.5,4.5,4.5,4.5,4.5,4.5,4.5,4.5,4.5,4.5,4.5,4.5,4.5,4.5,5.0,5.0,5.0,5.0,5.0,5.0,5.0,5.0,5.0,5.0,5.0,5.0,5.0,5.0,5.0,5.0,5.0,5.0,5.0,5.0,5.0,5.0,5.0,5.0,5.0,5.0,5.0,5.0,5.0,5.0,5.0,5.0,5.0,5.0,5.0,5.0,5.0,5.0,5.0,5.0,5.0,5.0,5.0,5.0,5.0,5.0,5.0,5.0,5.0,5.0,5.0,5.0,5.0,5.0,5.0,5.0,5.0,5.0,5.0,5.0,5.0,5.0,5.0,5.0,5.0,5.0,5.0,5.0,5.0,5.0,5.0,5.0,5.0,5.0,5.0,5.0,5.0,5.0,5.0,5.0,5.0,5.0,5.0,5.0,5.0,5.0,5.0,5.0,5.0,5.0,5.0,5.0,5.0,5.0,5.0,5.0,5.0,5.0,5.0,5.0,5.0,5.0,5.0,5.0,5.0,5.0,5.0,5.0,5.0,5.0,5.0,5.0,5.0,5.0,5.0,5.5,5.5,5.5,5.5,5.5,5.5,5.5,5.5,5.5,5.5,5.5,5.5,5.5,5.5,5.5,5.5,5.5,5.5,5.5,5.5,5.5,5.5,5.5,5.5,5.5,5.5,5.5,5.5,5.5,5.5,5.5,5.5,5.5,5.5,5.5,5.5,5.5,5.5,5.5,5.5,5.5,5.5,5.5,5.5,5.5,5.5,5.5,5.5,5.5,5.5,5.5,5.5,5.5,5.5,5.5,5.5,5.5,5.5,5.5,5.5,5.5,5.5,5.5,5.5,5.5,5.5,5.5,5.5,5.5,5.5,5.5,5.5,5.5,5.5,5.5,5.5,5.5,5.5,5.5,5.5,5.5,5.5,5.5,5.5,5.5,5.5,5.5,5.5,5.5,5.5,5.5,5.5,5.5,5.5,5.5,5.5,5.5,5.5,5.5,5.5,5.5,5.5,5.5,5.5,5.5,5.5,5.5,5.5,5.5,5.5,5.5,5.5,5.5,5.5,5.5,2.0,2.0,2.0,2.0,2.0,2.0,2.0,2.0,2.0,2.0,2.0,2.0,2.0,2.0,2.0,2.0,2.0,2.0,2.0,2.0,2.0,2.0,2.0,2.0,2.0,2.0,2.0,2.0,2.0,2.0,2.0,2.0,2.0,2.0,2.0,2.0,2.0,2.0,2.0,2.0,2.0,2.0,2.0,2.0,2.0,2.0,2.0,2.0,2.0,2.0,2.0,2.0,2.0,2.0,2.0,2.0,2.0,2.0,2.0,2.0,2.0,2.0,2.0,2.0,2.0,2.0,2.0,2.0,2.0,2.0,2.0,2.0,2.0,2.0,2.0,2.0,2.0,2.0,2.0,2.0,2.0,2.0,2.0,2.0,2.0,2.0,2.0,2.0,2.0,2.0,2.0,2.0,2.0,2.0,2.0,2.0,2.0,2.0,2.0,2.0,2.0,2.0,2.0,2.0,2.0,2.0,2.0,2.0,2.0,2.0,2.0,2.0,2.0,2.0,2.0,2.5,2.5,2.5,2.5,2.5,2.5,2.5,2.5,2.5,2.5,2.5,2.5,2.5,2.5,2.5,2.5,2.5,2.5,2.5,2.5,2.5,2.5,2.5,2.5,2.5,2.5,2.5,2.5,2.5,2.5,2.5,2.5,2.5,2.5,2.5,2.5,2.5,2.5,2.5,2.5,2.5,2.5,2.5,2.5,2.5,2.5,2.5,2.5,2.5,2.5,2.5,2.5,2.5,2.5,2.5,2.5,2.5,2.5,2.5,2.5,2.5,2.5,2.5,2.5,2.5,2.5,2.5,2.5,2.5,2.5,2.5,2.5,2.5,2.5,2.5,2.5,2.5,2.5,2.5,2.5,2.5,2.5,2.5,2.5,2.5,2.5,2.5,2.5,2.5,2.5,2.5,2.5,2.5,2.5,2.5,2.5,2.5,2.5,2.5,2.5,2.5,2.5,2.5,2.5,2.5,2.5,2.5,2.5,2.5,2.5,2.5,2.5,2.5,2.5,2.5,3.0,3.0,3.0,3.0,3.0,3.0,3.0,3.0,3.0,3.0,3.0,3.0,3.0,3.0,3.0,3.0,3.0,3.0,3.0,3.0,3.0,3.0,3.0,3.0,3.0,3.0,3.0,3.0,3.0,3.0,3.0,3.0,3.0,3.0,3.0,3.0,3.0,3.0,3.0,3.0,3.0,3.0,3.0,3.0,3.0,3.0,3.0,3.0,3.0,3.0,3.0,3.0,3.0,3.0,3.0,3.0,3.0,3.0,3.0,3.0,3.0,3.0,3.0,3.0,3.0,3.0,3.0,3.0,3.0,3.0,3.0,3.0,3.0,3.0,3.0,3.0,3.0,3.0,3.0,3.0,3.0,3.0,3.0,3.0,3.0,3.0,3.0,3.0,3.0,3.0,3.0,3.0,3.0,3.0,3.0,3.0,3.0,3.0,3.0,3.0,3.0,3.0,3.0,3.0,3.0,3.0,3.0,3.0,3.0,3.0,3.0,3.0,3.0,3.0,3.0,3.5,3.5,3.5,3.5,3.5,3.5,3.5,3.5,3.5,3.5,3.5,3.5,3.5,3.5,3.5,3.5,3.5,3.5,3.5,3.5,3.5,3.5,3.5,3.5,3.5,3.5,3.5,3.5,3.5,3.5,3.5,3.5,3.5,3.5,3.5,3.5,3.5,3.5,3.5,3.5,3.5,3.5,3.5,3.5,3.5,3.5,3.5,3.5,3.5,3.5,3.5,3.5,3.5,3.5,3.5,3.5,3.5,3.5,3.5,3.5,3.5,3.5,3.5,3.5,3.5,3.5,3.5,3.5,3.5,3.5,3.5,3.5,3.5,3.5,3.5,3.5,3.5,3.5,3.5,3.5,3.5,3.5,3.5,3.5,3.5,3.5,3.5,3.5,3.5,3.5,3.5,3.5,3.5,3.5,3.5,3.5,3.5,3.5,3.5,3.5,3.5,3.5,3.5,3.5,3.5,3.5,3.5,3.5,3.5,3.5,3.5,3.5,3.5,3.5,3.5,4.0,4.0,4.0,4.0,4.0,4.0,4.0,4.0,4.0,4.0,4.0,4.0,4.0,4.0,4.0,4.0,4.0,4.0,4.0,4.0,4.0,4.0,4.0,4.0,4.0,4.0,4.0,4.0,4.0,4.0,4.0,4.0,4.0,4.0,4.0,4.0,4.0,4.0,4.0,4.0,4.0,4.0,4.0,4.0,4.0,4.0,4.0,4.0,4.0,4.0,4.0,4.0,4.0,4.0,4.0,4.0,4.0,4.0,4.0,4.0,4.0,4.0,4.0,4.0,4.0,4.0,4.0,4.0,4.0,4.0,4.0,4.0,4.0,4.0,4.0,4.0,4.0,4.0,4.0,4.0,4.0,4.0,4.0,4.0,4.0,4.0,4.0,4.0,4.0,4.0,4.0,4.0,4.0,4.0,4.0,4.0,4.0,4.0,4.0,4.0,4.0,4.0,4.0,4.0,4.0,4.0,4.0,4.0,4.0,4.0,4.0,4.0,4.0,4.0,4.0,4.5,4.5,4.5,4.5,4.5,4.5,4.5,4.5,4.5,4.5,4.5,4.5,4.5,4.5,4.5,4.5,4.5,4.5,4.5,4.5,4.5,4.5,4.5,4.5,4.5,4.5,4.5,4.5,4.5,4.5,4.5,4.5,4.5,4.5,4.5,4.5,4.5,4.5,4.5,4.5,4.5,4.5,4.5,4.5,4.5,4.5,4.5,4.5,4.5,4.5,4.5,4.5,4.5,4.5,4.5,4.5,4.5,4.5,4.5,4.5,4.5,4.5,4.5,4.5,4.5,4.5,4.5,4.5,4.5,4.5,4.5,4.5,4.5,4.5,4.5,4.5,4.5,4.5,4.5,4.5,4.5,4.5,4.5,4.5,4.5,4.5,4.5,4.5,4.5,4.5,4.5,4.5,4.5,4.5,4.5,4.5,4.5,4.5,4.5,4.5,4.5,4.5,4.5,4.5,4.5,4.5,4.5,4.5,4.5,4.5,4.5,4.5,4.5,4.5,4.5,5.0,5.0,5.0,5.0,5.0,5.0,5.0,5.0,5.0,5.0,5.0,5.0,5.0,5.0,5.0,5.0,5.0,5.0,5.0,5.0,5.0,5.0,5.0,5.0,5.0,5.0,5.0,5.0,5.0,5.0,5.0,5.0,5.0,5.0,5.0,5.0,5.0,5.0,5.0,5.0,5.0,5.0,5.0,5.0,5.0,5.0,5.0,5.0,5.0,5.0,5.0,5.0,5.0,5.0,5.0,5.0,5.0,5.0,5.0,5.0,5.0,5.0,5.0,5.0,5.0,5.0,5.0,5.0,5.0,5.0,5.0,5.0,5.0,5.0,5.0,5.0,5.0,5.0,5.0,5.0,5.0,5.0,5.0,5.0,5.0,5.0,5.0,5.0,5.0,5.0,5.0,5.0,5.0,5.0,5.0,5.0,5.0,5.0,5.0,5.0,5.0,5.0,5.0,5.0,5.0,5.0,5.0,5.0,5.0,5.0,5.0,5.0,5.0,5.0,5.0,5.5,5.5,5.5,5.5,5.5,5.5,5.5,5.5,5.5,5.5,5.5,5.5,5.5,5.5,5.5,5.5,5.5,5.5,5.5,5.5,5.5,5.5,5.5,5.5,5.5,5.5,5.5,5.5,5.5,5.5,5.5,5.5,5.5,5.5,5.5,5.5,5.5,5.5,5.5,5.5,5.5,5.5,5.5,5.5,5.5,5.5,5.5,5.5,5.5,5.5,5.5,5.5,5.5,5.5,5.5,5.5,5.5,5.5,5.5,5.5,5.5,5.5,5.5,5.5,5.5,5.5,5.5,5.5,5.5,5.5,5.5,5.5,5.5,5.5,5.5,5.5,5.5,5.5,5.5,5.5,5.5,5.5,5.5,5.5,5.5,5.5,5.5,5.5,5.5,5.5,5.5,5.5,5.5,5.5,5.5,5.5,5.5,5.5,5.5,5.5,5.5,5.5,5.5,5.5,5.5,5.5,5.5,5.5,5.5,5.5,5.5,5.5,5.5,5.5,5.5],\"type\":\"scatter3d\"}],                        {\"template\":{\"data\":{\"bar\":[{\"error_x\":{\"color\":\"#2a3f5f\"},\"error_y\":{\"color\":\"#2a3f5f\"},\"marker\":{\"line\":{\"color\":\"#E5ECF6\",\"width\":0.5},\"pattern\":{\"fillmode\":\"overlay\",\"size\":10,\"solidity\":0.2}},\"type\":\"bar\"}],\"barpolar\":[{\"marker\":{\"line\":{\"color\":\"#E5ECF6\",\"width\":0.5},\"pattern\":{\"fillmode\":\"overlay\",\"size\":10,\"solidity\":0.2}},\"type\":\"barpolar\"}],\"carpet\":[{\"aaxis\":{\"endlinecolor\":\"#2a3f5f\",\"gridcolor\":\"white\",\"linecolor\":\"white\",\"minorgridcolor\":\"white\",\"startlinecolor\":\"#2a3f5f\"},\"baxis\":{\"endlinecolor\":\"#2a3f5f\",\"gridcolor\":\"white\",\"linecolor\":\"white\",\"minorgridcolor\":\"white\",\"startlinecolor\":\"#2a3f5f\"},\"type\":\"carpet\"}],\"choropleth\":[{\"colorbar\":{\"outlinewidth\":0,\"ticks\":\"\"},\"type\":\"choropleth\"}],\"contour\":[{\"colorbar\":{\"outlinewidth\":0,\"ticks\":\"\"},\"colorscale\":[[0.0,\"#0d0887\"],[0.1111111111111111,\"#46039f\"],[0.2222222222222222,\"#7201a8\"],[0.3333333333333333,\"#9c179e\"],[0.4444444444444444,\"#bd3786\"],[0.5555555555555556,\"#d8576b\"],[0.6666666666666666,\"#ed7953\"],[0.7777777777777778,\"#fb9f3a\"],[0.8888888888888888,\"#fdca26\"],[1.0,\"#f0f921\"]],\"type\":\"contour\"}],\"contourcarpet\":[{\"colorbar\":{\"outlinewidth\":0,\"ticks\":\"\"},\"type\":\"contourcarpet\"}],\"heatmap\":[{\"colorbar\":{\"outlinewidth\":0,\"ticks\":\"\"},\"colorscale\":[[0.0,\"#0d0887\"],[0.1111111111111111,\"#46039f\"],[0.2222222222222222,\"#7201a8\"],[0.3333333333333333,\"#9c179e\"],[0.4444444444444444,\"#bd3786\"],[0.5555555555555556,\"#d8576b\"],[0.6666666666666666,\"#ed7953\"],[0.7777777777777778,\"#fb9f3a\"],[0.8888888888888888,\"#fdca26\"],[1.0,\"#f0f921\"]],\"type\":\"heatmap\"}],\"heatmapgl\":[{\"colorbar\":{\"outlinewidth\":0,\"ticks\":\"\"},\"colorscale\":[[0.0,\"#0d0887\"],[0.1111111111111111,\"#46039f\"],[0.2222222222222222,\"#7201a8\"],[0.3333333333333333,\"#9c179e\"],[0.4444444444444444,\"#bd3786\"],[0.5555555555555556,\"#d8576b\"],[0.6666666666666666,\"#ed7953\"],[0.7777777777777778,\"#fb9f3a\"],[0.8888888888888888,\"#fdca26\"],[1.0,\"#f0f921\"]],\"type\":\"heatmapgl\"}],\"histogram\":[{\"marker\":{\"pattern\":{\"fillmode\":\"overlay\",\"size\":10,\"solidity\":0.2}},\"type\":\"histogram\"}],\"histogram2d\":[{\"colorbar\":{\"outlinewidth\":0,\"ticks\":\"\"},\"colorscale\":[[0.0,\"#0d0887\"],[0.1111111111111111,\"#46039f\"],[0.2222222222222222,\"#7201a8\"],[0.3333333333333333,\"#9c179e\"],[0.4444444444444444,\"#bd3786\"],[0.5555555555555556,\"#d8576b\"],[0.6666666666666666,\"#ed7953\"],[0.7777777777777778,\"#fb9f3a\"],[0.8888888888888888,\"#fdca26\"],[1.0,\"#f0f921\"]],\"type\":\"histogram2d\"}],\"histogram2dcontour\":[{\"colorbar\":{\"outlinewidth\":0,\"ticks\":\"\"},\"colorscale\":[[0.0,\"#0d0887\"],[0.1111111111111111,\"#46039f\"],[0.2222222222222222,\"#7201a8\"],[0.3333333333333333,\"#9c179e\"],[0.4444444444444444,\"#bd3786\"],[0.5555555555555556,\"#d8576b\"],[0.6666666666666666,\"#ed7953\"],[0.7777777777777778,\"#fb9f3a\"],[0.8888888888888888,\"#fdca26\"],[1.0,\"#f0f921\"]],\"type\":\"histogram2dcontour\"}],\"mesh3d\":[{\"colorbar\":{\"outlinewidth\":0,\"ticks\":\"\"},\"type\":\"mesh3d\"}],\"parcoords\":[{\"line\":{\"colorbar\":{\"outlinewidth\":0,\"ticks\":\"\"}},\"type\":\"parcoords\"}],\"pie\":[{\"automargin\":true,\"type\":\"pie\"}],\"scatter\":[{\"marker\":{\"colorbar\":{\"outlinewidth\":0,\"ticks\":\"\"}},\"type\":\"scatter\"}],\"scatter3d\":[{\"line\":{\"colorbar\":{\"outlinewidth\":0,\"ticks\":\"\"}},\"marker\":{\"colorbar\":{\"outlinewidth\":0,\"ticks\":\"\"}},\"type\":\"scatter3d\"}],\"scattercarpet\":[{\"marker\":{\"colorbar\":{\"outlinewidth\":0,\"ticks\":\"\"}},\"type\":\"scattercarpet\"}],\"scattergeo\":[{\"marker\":{\"colorbar\":{\"outlinewidth\":0,\"ticks\":\"\"}},\"type\":\"scattergeo\"}],\"scattergl\":[{\"marker\":{\"colorbar\":{\"outlinewidth\":0,\"ticks\":\"\"}},\"type\":\"scattergl\"}],\"scattermapbox\":[{\"marker\":{\"colorbar\":{\"outlinewidth\":0,\"ticks\":\"\"}},\"type\":\"scattermapbox\"}],\"scatterpolar\":[{\"marker\":{\"colorbar\":{\"outlinewidth\":0,\"ticks\":\"\"}},\"type\":\"scatterpolar\"}],\"scatterpolargl\":[{\"marker\":{\"colorbar\":{\"outlinewidth\":0,\"ticks\":\"\"}},\"type\":\"scatterpolargl\"}],\"scatterternary\":[{\"marker\":{\"colorbar\":{\"outlinewidth\":0,\"ticks\":\"\"}},\"type\":\"scatterternary\"}],\"surface\":[{\"colorbar\":{\"outlinewidth\":0,\"ticks\":\"\"},\"colorscale\":[[0.0,\"#0d0887\"],[0.1111111111111111,\"#46039f\"],[0.2222222222222222,\"#7201a8\"],[0.3333333333333333,\"#9c179e\"],[0.4444444444444444,\"#bd3786\"],[0.5555555555555556,\"#d8576b\"],[0.6666666666666666,\"#ed7953\"],[0.7777777777777778,\"#fb9f3a\"],[0.8888888888888888,\"#fdca26\"],[1.0,\"#f0f921\"]],\"type\":\"surface\"}],\"table\":[{\"cells\":{\"fill\":{\"color\":\"#EBF0F8\"},\"line\":{\"color\":\"white\"}},\"header\":{\"fill\":{\"color\":\"#C8D4E3\"},\"line\":{\"color\":\"white\"}},\"type\":\"table\"}]},\"layout\":{\"annotationdefaults\":{\"arrowcolor\":\"#2a3f5f\",\"arrowhead\":0,\"arrowwidth\":1},\"autotypenumbers\":\"strict\",\"coloraxis\":{\"colorbar\":{\"outlinewidth\":0,\"ticks\":\"\"}},\"colorscale\":{\"diverging\":[[0,\"#8e0152\"],[0.1,\"#c51b7d\"],[0.2,\"#de77ae\"],[0.3,\"#f1b6da\"],[0.4,\"#fde0ef\"],[0.5,\"#f7f7f7\"],[0.6,\"#e6f5d0\"],[0.7,\"#b8e186\"],[0.8,\"#7fbc41\"],[0.9,\"#4d9221\"],[1,\"#276419\"]],\"sequential\":[[0.0,\"#0d0887\"],[0.1111111111111111,\"#46039f\"],[0.2222222222222222,\"#7201a8\"],[0.3333333333333333,\"#9c179e\"],[0.4444444444444444,\"#bd3786\"],[0.5555555555555556,\"#d8576b\"],[0.6666666666666666,\"#ed7953\"],[0.7777777777777778,\"#fb9f3a\"],[0.8888888888888888,\"#fdca26\"],[1.0,\"#f0f921\"]],\"sequentialminus\":[[0.0,\"#0d0887\"],[0.1111111111111111,\"#46039f\"],[0.2222222222222222,\"#7201a8\"],[0.3333333333333333,\"#9c179e\"],[0.4444444444444444,\"#bd3786\"],[0.5555555555555556,\"#d8576b\"],[0.6666666666666666,\"#ed7953\"],[0.7777777777777778,\"#fb9f3a\"],[0.8888888888888888,\"#fdca26\"],[1.0,\"#f0f921\"]]},\"colorway\":[\"#636efa\",\"#EF553B\",\"#00cc96\",\"#ab63fa\",\"#FFA15A\",\"#19d3f3\",\"#FF6692\",\"#B6E880\",\"#FF97FF\",\"#FECB52\"],\"font\":{\"color\":\"#2a3f5f\"},\"geo\":{\"bgcolor\":\"white\",\"lakecolor\":\"white\",\"landcolor\":\"#E5ECF6\",\"showlakes\":true,\"showland\":true,\"subunitcolor\":\"white\"},\"hoverlabel\":{\"align\":\"left\"},\"hovermode\":\"closest\",\"mapbox\":{\"style\":\"light\"},\"paper_bgcolor\":\"white\",\"plot_bgcolor\":\"#E5ECF6\",\"polar\":{\"angularaxis\":{\"gridcolor\":\"white\",\"linecolor\":\"white\",\"ticks\":\"\"},\"bgcolor\":\"#E5ECF6\",\"radialaxis\":{\"gridcolor\":\"white\",\"linecolor\":\"white\",\"ticks\":\"\"}},\"scene\":{\"xaxis\":{\"backgroundcolor\":\"#E5ECF6\",\"gridcolor\":\"white\",\"gridwidth\":2,\"linecolor\":\"white\",\"showbackground\":true,\"ticks\":\"\",\"zerolinecolor\":\"white\"},\"yaxis\":{\"backgroundcolor\":\"#E5ECF6\",\"gridcolor\":\"white\",\"gridwidth\":2,\"linecolor\":\"white\",\"showbackground\":true,\"ticks\":\"\",\"zerolinecolor\":\"white\"},\"zaxis\":{\"backgroundcolor\":\"#E5ECF6\",\"gridcolor\":\"white\",\"gridwidth\":2,\"linecolor\":\"white\",\"showbackground\":true,\"ticks\":\"\",\"zerolinecolor\":\"white\"}},\"shapedefaults\":{\"line\":{\"color\":\"#2a3f5f\"}},\"ternary\":{\"aaxis\":{\"gridcolor\":\"white\",\"linecolor\":\"white\",\"ticks\":\"\"},\"baxis\":{\"gridcolor\":\"white\",\"linecolor\":\"white\",\"ticks\":\"\"},\"bgcolor\":\"#E5ECF6\",\"caxis\":{\"gridcolor\":\"white\",\"linecolor\":\"white\",\"ticks\":\"\"}},\"title\":{\"x\":0.05},\"xaxis\":{\"automargin\":true,\"gridcolor\":\"white\",\"linecolor\":\"white\",\"ticks\":\"\",\"title\":{\"standoff\":15},\"zerolinecolor\":\"white\",\"zerolinewidth\":2},\"yaxis\":{\"automargin\":true,\"gridcolor\":\"white\",\"linecolor\":\"white\",\"ticks\":\"\",\"title\":{\"standoff\":15},\"zerolinecolor\":\"white\",\"zerolinewidth\":2}}},\"scene\":{\"domain\":{\"x\":[0.0,1.0],\"y\":[0.0,1.0]},\"xaxis\":{\"title\":{\"text\":\"vwma_length\"}},\"yaxis\":{\"title\":{\"text\":\"atr_length\"}},\"zaxis\":{\"title\":{\"text\":\"multiplier\"}}},\"coloraxis\":{\"colorbar\":{\"title\":{\"text\":\"cumulative_performance\"}},\"colorscale\":[[0.0,\"#0d0887\"],[0.1111111111111111,\"#46039f\"],[0.2222222222222222,\"#7201a8\"],[0.3333333333333333,\"#9c179e\"],[0.4444444444444444,\"#bd3786\"],[0.5555555555555556,\"#d8576b\"],[0.6666666666666666,\"#ed7953\"],[0.7777777777777778,\"#fb9f3a\"],[0.8888888888888888,\"#fdca26\"],[1.0,\"#f0f921\"]]},\"legend\":{\"tracegroupgap\":0},\"title\":{\"text\":\"Performances p\\u00e9riode 2006-2022. Supertrend + VWMA\"}},                        {\"responsive\": true}                    ).then(function(){\n",
              "                            \n",
              "var gd = document.getElementById('7996ffb0-cb2a-4035-b3c4-857c7ced63fb');\n",
              "var x = new MutationObserver(function (mutations, observer) {{\n",
              "        var display = window.getComputedStyle(gd).display;\n",
              "        if (!display || display === 'none') {{\n",
              "            console.log([gd, 'removed!']);\n",
              "            Plotly.purge(gd);\n",
              "            observer.disconnect();\n",
              "        }}\n",
              "}});\n",
              "\n",
              "// Listen for the removal of the full notebook cells\n",
              "var notebookContainer = gd.closest('#notebook-container');\n",
              "if (notebookContainer) {{\n",
              "    x.observe(notebookContainer, {childList: true});\n",
              "}}\n",
              "\n",
              "// Listen for the clearing of the current output cell\n",
              "var outputEl = gd.closest('.output');\n",
              "if (outputEl) {{\n",
              "    x.observe(outputEl, {childList: true});\n",
              "}}\n",
              "\n",
              "                        })                };                            </script>        </div>\n",
              "</body>\n",
              "</html>"
            ]
          },
          "metadata": {}
        }
      ]
    },
    {
      "cell_type": "markdown",
      "source": [
        "Performance très intéressante pour vwma length 21<br/>\n",
        "2 combinaisons de Supertrend :\n",
        "<li> atr 34, multiplier 3.5 (meilleur en All Time également)</li>\n",
        "<li> atr 17, multiplier 4</li>"
      ],
      "metadata": {
        "id": "OQmrQZhPYOla"
      }
    },
    {
      "cell_type": "code",
      "source": [
        "fig = px.scatter_3d(df_multi_ST, x='multiplier', y='atr_length', z='cumulative_performance',\n",
        "              color='vwma_length')\n",
        "fig.show()"
      ],
      "metadata": {
        "colab": {
          "base_uri": "https://localhost:8080/",
          "height": 542
        },
        "id": "SyCFcN7lYqDx",
        "outputId": "5e16fecc-29a4-419c-8d2d-9c74e17476e2"
      },
      "execution_count": null,
      "outputs": [
        {
          "output_type": "display_data",
          "data": {
            "text/html": [
              "<html>\n",
              "<head><meta charset=\"utf-8\" /></head>\n",
              "<body>\n",
              "    <div>            <script src=\"https://cdnjs.cloudflare.com/ajax/libs/mathjax/2.7.5/MathJax.js?config=TeX-AMS-MML_SVG\"></script><script type=\"text/javascript\">if (window.MathJax) {MathJax.Hub.Config({SVG: {font: \"STIX-Web\"}});}</script>                <script type=\"text/javascript\">window.PlotlyConfig = {MathJaxConfig: 'local'};</script>\n",
              "        <script src=\"https://cdn.plot.ly/plotly-2.8.3.min.js\"></script>                <div id=\"810f69ab-756e-4a69-9fbd-be447f812978\" class=\"plotly-graph-div\" style=\"height:525px; width:100%;\"></div>            <script type=\"text/javascript\">                                    window.PLOTLYENV=window.PLOTLYENV || {};                                    if (document.getElementById(\"810f69ab-756e-4a69-9fbd-be447f812978\")) {                    Plotly.newPlot(                        \"810f69ab-756e-4a69-9fbd-be447f812978\",                        [{\"hovertemplate\":\"multiplier=%{x}<br>atr_length=%{y}<br>cumulative_performance=%{z}<br>vwma_length=%{marker.color}<extra></extra>\",\"legendgroup\":\"\",\"marker\":{\"color\":[5,5,5,5,5,5,5,5,5,5,5,5,5,5,5,5,5,5,5,5,5,5,5,5,5,5,5,5,5,5,5,5,5,5,5,5,5,5,5,5,5,5,5,5,5,5,5,5,5,5,5,5,5,5,5,5,5,5,5,5,5,5,5,5,5,5,5,5,5,5,5,5,5,5,5,5,5,5,5,5,5,5,5,5,5,5,5,5,5,5,5,5,5,5,5,5,5,5,5,5,5,5,5,5,5,5,5,5,5,5,5,5,5,5,5,5,5,5,5,5,5,5,5,5,5,5,5,5,5,5,5,5,5,5,5,5,5,5,5,5,5,5,5,5,5,5,5,5,5,5,5,5,5,5,5,5,5,5,5,5,5,5,5,5,5,5,5,5,5,5,5,5,5,5,5,5,5,5,5,5,5,5,5,5,5,5,5,5,5,5,5,5,5,5,5,5,5,5,5,5,5,5,5,5,5,5,5,5,5,5,5,5,5,5,5,5,5,5,5,5,5,5,5,5,5,5,5,5,5,5,5,5,5,5,5,5,5,5,5,5,5,5,5,5,5,5,5,5,5,5,5,5,5,5,5,5,5,5,5,5,5,5,5,5,5,5,5,5,5,5,5,5,5,5,5,5,5,5,5,5,5,5,5,5,5,5,5,5,5,5,5,5,5,5,5,5,5,5,5,5,5,5,5,5,5,5,5,5,5,5,5,5,5,5,5,5,5,5,5,5,5,5,5,5,5,5,5,5,5,5,5,5,5,5,5,5,5,5,5,5,5,5,5,5,5,5,5,5,5,5,5,5,5,5,5,5,5,5,5,5,5,5,5,5,5,5,5,5,5,5,5,5,5,5,5,5,5,5,5,5,5,5,5,5,5,5,5,5,5,5,5,5,5,5,5,5,5,5,5,5,5,5,5,5,5,5,5,5,5,5,5,5,5,5,5,5,5,5,5,5,5,5,5,5,5,5,5,5,5,5,5,5,5,5,5,5,5,5,5,5,5,5,5,5,5,5,5,5,5,5,5,5,5,5,5,5,5,5,5,5,5,5,5,5,5,5,5,5,5,5,5,5,5,5,5,5,5,5,5,5,5,5,5,5,5,5,5,5,5,5,5,5,5,5,5,5,5,5,5,5,5,5,5,5,5,5,5,5,5,5,5,5,5,5,5,5,5,5,5,5,5,5,5,5,5,5,5,5,5,5,5,5,5,5,5,5,5,5,5,5,5,5,5,5,5,5,5,5,5,5,5,5,5,5,5,5,5,5,5,5,5,5,5,5,5,5,5,5,5,5,5,5,5,5,5,5,5,5,5,5,5,5,5,5,5,5,5,5,5,5,5,5,5,5,5,5,5,5,5,5,5,5,5,5,5,5,5,5,5,5,5,5,5,5,5,5,5,5,5,5,5,5,5,5,5,5,5,5,5,5,5,5,5,5,5,5,5,5,5,5,5,5,5,5,5,5,5,5,5,5,5,5,5,5,5,5,5,5,5,5,5,5,5,5,5,5,5,5,5,5,5,5,5,5,5,5,5,5,5,5,5,5,5,5,5,5,5,5,5,5,5,5,5,5,5,5,5,5,5,5,5,5,5,5,5,5,5,5,5,5,5,5,5,5,5,5,5,5,5,5,5,5,5,5,5,5,5,5,5,5,5,5,5,5,5,5,5,5,5,5,5,5,5,5,5,5,5,5,5,5,5,5,5,5,5,5,5,5,5,5,5,5,5,5,5,5,5,5,5,5,5,5,5,5,5,5,5,5,5,5,5,5,5,5,5,5,5,5,5,5,5,5,5,5,5,5,5,5,5,5,5,5,5,5,5,5,5,5,5,5,5,5,5,5,5,5,5,5,5,5,5,5,5,5,5,5,5,5,5,5,5,5,5,5,5,5,5,5,5,5,5,5,5,5,5,5,5,5,5,5,5,5,5,5,5,5,5,5,5,5,5,5,5,5,5,5,5,5,5,5,5,5,5,5,5,5,5,5,5,5,5,5,5,5,5,5,5,5,5,5,5,5,5,5,5,5,5,5,5,5,5,5,5,5,5,5,5,5,5,5,5,5,5,5,5,5,5,5,5,5,10,10,10,10,10,10,10,10,10,10,10,10,10,10,10,10,10,10,10,10,10,10,10,10,10,10,10,10,10,10,10,10,10,10,10,10,10,10,10,10,10,10,10,10,10,10,10,10,10,10,10,10,10,10,10,10,10,10,10,10,10,10,10,10,10,10,10,10,10,10,10,10,10,10,10,10,10,10,10,10,10,10,10,10,10,10,10,10,10,10,10,10,10,10,10,10,10,10,10,10,10,10,10,10,10,10,10,10,10,10,10,10,10,10,10,10,10,10,10,10,10,10,10,10,10,10,10,10,10,10,10,10,10,10,10,10,10,10,10,10,10,10,10,10,10,10,10,10,10,10,10,10,10,10,10,10,10,10,10,10,10,10,10,10,10,10,10,10,10,10,10,10,10,10,10,10,10,10,10,10,10,10,10,10,10,10,10,10,10,10,10,10,10,10,10,10,10,10,10,10,10,10,10,10,10,10,10,10,10,10,10,10,10,10,10,10,10,10,10,10,10,10,10,10,10,10,10,10,10,10,10,10,10,10,10,10,10,10,10,10,10,10,10,10,10,10,10,10,10,10,10,10,10,10,10,10,10,10,10,10,10,10,10,10,10,10,10,10,10,10,10,10,10,10,10,10,10,10,10,10,10,10,10,10,10,10,10,10,10,10,10,10,10,10,10,10,10,10,10,10,10,10,10,10,10,10,10,10,10,10,10,10,10,10,10,10,10,10,10,10,10,10,10,10,10,10,10,10,10,10,10,10,10,10,10,10,10,10,10,10,10,10,10,10,10,10,10,10,10,10,10,10,10,10,10,10,10,10,10,10,10,10,10,10,10,10,10,10,10,10,10,10,10,10,10,10,10,10,10,10,10,10,10,10,10,10,10,10,10,10,10,10,10,10,10,10,10,10,10,10,10,10,10,10,10,10,10,10,10,10,10,10,10,10,10,10,10,10,10,10,10,10,10,10,10,10,10,10,10,10,10,10,10,10,10,10,10,10,10,10,10,10,10,10,10,10,10,10,10,10,10,10,10,10,10,10,10,10,10,10,10,10,10,10,10,10,10,10,10,10,10,10,10,10,10,10,10,10,10,10,10,10,10,10,10,10,10,10,10,10,10,10,10,10,10,10,10,10,10,10,10,10,10,10,10,10,10,10,10,10,10,10,10,10,10,10,10,10,10,10,10,10,10,10,10,10,10,10,10,10,10,10,10,10,10,10,10,10,10,10,10,10,10,10,10,10,10,10,10,10,10,10,10,10,10,10,10,10,10,10,10,10,10,10,10,10,10,10,10,10,10,10,10,10,10,10,10,10,10,10,10,10,10,10,10,10,10,10,10,10,10,10,10,10,10,10,10,10,10,10,10,10,10,10,10,10,10,10,10,10,10,10,10,10,10,10,10,10,10,10,10,10,10,10,10,10,10,10,10,10,10,10,10,10,10,10,10,10,10,10,10,10,10,10,10,10,10,10,10,10,10,10,10,10,10,10,10,10,10,10,10,10,10,10,10,10,10,10,10,10,10,10,10,10,10,10,10,10,10,10,10,10,10,10,10,10,10,10,10,10,10,10,10,10,10,10,10,10,10,10,10,10,10,10,10,10,10,10,10,10,10,10,10,10,10,10,10,10,10,10,10,10,10,10,10,10,10,10,10,10,10,10,10,10,10,10,10,10,10,10,10,10,10,10,10,10,10,10,10,10,10,10,10,10,10,10,10,10,10,10,10,10,10,10,10,10,10,10,10,10,10,10,10,10,10,10,10,10,10,10,10,10,10,10,10,10,10,10,10,10,10,10,10,10,10,10,10,10,10,10,10,10,10,10,10,10,10,10,10,10,10,10,10,10,10,10,10,10,10,10,10,10,10,10,10,10,10,10,10,10,10,10,10,10,10,10,10,10,10,10,10,10,10,10,10,10,10,10,10,10,10,10,10,10,10,10,10,10,10,10,10,10,10,10,10,10,10,10,10,10,10,10,10,10,10,10,10,10,10,10,10,10,10,10,10,10,10,10,10,10,10,10,10,10,10,10,10,10,10,10,10,10,10,10,10,10,10,10,10,10,10,10,10,10,10,10,10,10,10,10,21,21,21,21,21,21,21,21,21,21,21,21,21,21,21,21,21,21,21,21,21,21,21,21,21,21,21,21,21,21,21,21,21,21,21,21,21,21,21,21,21,21,21,21,21,21,21,21,21,21,21,21,21,21,21,21,21,21,21,21,21,21,21,21,21,21,21,21,21,21,21,21,21,21,21,21,21,21,21,21,21,21,21,21,21,21,21,21,21,21,21,21,21,21,21,21,21,21,21,21,21,21,21,21,21,21,21,21,21,21,21,21,21,21,21,21,21,21,21,21,21,21,21,21,21,21,21,21,21,21,21,21,21,21,21,21,21,21,21,21,21,21,21,21,21,21,21,21,21,21,21,21,21,21,21,21,21,21,21,21,21,21,21,21,21,21,21,21,21,21,21,21,21,21,21,21,21,21,21,21,21,21,21,21,21,21,21,21,21,21,21,21,21,21,21,21,21,21,21,21,21,21,21,21,21,21,21,21,21,21,21,21,21,21,21,21,21,21,21,21,21,21,21,21,21,21,21,21,21,21,21,21,21,21,21,21,21,21,21,21,21,21,21,21,21,21,21,21,21,21,21,21,21,21,21,21,21,21,21,21,21,21,21,21,21,21,21,21,21,21,21,21,21,21,21,21,21,21,21,21,21,21,21,21,21,21,21,21,21,21,21,21,21,21,21,21,21,21,21,21,21,21,21,21,21,21,21,21,21,21,21,21,21,21,21,21,21,21,21,21,21,21,21,21,21,21,21,21,21,21,21,21,21,21,21,21,21,21,21,21,21,21,21,21,21,21,21,21,21,21,21,21,21,21,21,21,21,21,21,21,21,21,21,21,21,21,21,21,21,21,21,21,21,21,21,21,21,21,21,21,21,21,21,21,21,21,21,21,21,21,21,21,21,21,21,21,21,21,21,21,21,21,21,21,21,21,21,21,21,21,21,21,21,21,21,21,21,21,21,21,21,21,21,21,21,21,21,21,21,21,21,21,21,21,21,21,21,21,21,21,21,21,21,21,21,21,21,21,21,21,21,21,21,21,21,21,21,21,21,21,21,21,21,21,21,21,21,21,21,21,21,21,21,21,21,21,21,21,21,21,21,21,21,21,21,21,21,21,21,21,21,21,21,21,21,21,21,21,21,21,21,21,21,21,21,21,21,21,21,21,21,21,21,21,21,21,21,21,21,21,21,21,21,21,21,21,21,21,21,21,21,21,21,21,21,21,21,21,21,21,21,21,21,21,21,21,21,21,21,21,21,21,21,21,21,21,21,21,21,21,21,21,21,21,21,21,21,21,21,21,21,21,21,21,21,21,21,21,21,21,21,21,21,21,21,21,21,21,21,21,21,21,21,21,21,21,21,21,21,21,21,21,21,21,21,21,21,21,21,21,21,21,21,21,21,21,21,21,21,21,21,21,21,21,21,21,21,21,21,21,21,21,21,21,21,21,21,21,21,21,21,21,21,21,21,21,21,21,21,21,21,21,21,21,21,21,21,21,21,21,21,21,21,21,21,21,21,21,21,21,21,21,21,21,21,21,21,21,21,21,21,21,21,21,21,21,21,21,21,21,21,21,21,21,21,21,21,21,21,21,21,21,21,21,21,21,21,21,21,21,21,21,21,21,21,21,21,21,21,21,21,21,21,21,21,21,21,21,21,21,21,21,21,21,21,21,21,21,21,21,21,21,21,21,21,21,21,21,21,21,21,21,21,21,21,21,21,21,21,21,21,21,21,21,21,21,21,21,21,21,21,21,21,21,21,21,21,21,21,21,21,21,21,21,21,21,21,21,21,21,21,21,21,21,21,21,21,21,21,21,21,21,21,21,21,21,21,21,21,21,21,21,21,21,21,21,21,21,21,21,21,21,21,21,21,21,21,21,21,21,21,21,21,21,21,21,21,21,21,21,21,21,21,21,21,21,21,21,21,21,21,21,21,21,21,21,21,21,21,21,21,21,21,21,21,21,21,21,21,21,21,21,21,21,21,21,21,21,21,21,21,21,21,21,21,21,21,21,21,21,21,21,21,21,21,21,21,21,21,21,21,21,21,21,21,21,21,21,21,21,21,21,21,21,21,21,21,21,21,21,34,34,34,34,34,34,34,34,34,34,34,34,34,34,34,34,34,34,34,34,34,34,34,34,34,34,34,34,34,34,34,34,34,34,34,34,34,34,34,34,34,34,34,34,34,34,34,34,34,34,34,34,34,34,34,34,34,34,34,34,34,34,34,34,34,34,34,34,34,34,34,34,34,34,34,34,34,34,34,34,34,34,34,34,34,34,34,34,34,34,34,34,34,34,34,34,34,34,34,34,34,34,34,34,34,34,34,34,34,34,34,34,34,34,34,34,34,34,34,34,34,34,34,34,34,34,34,34,34,34,34,34,34,34,34,34,34,34,34,34,34,34,34,34,34,34,34,34,34,34,34,34,34,34,34,34,34,34,34,34,34,34,34,34,34,34,34,34,34,34,34,34,34,34,34,34,34,34,34,34,34,34,34,34,34,34,34,34,34,34,34,34,34,34,34,34,34,34,34,34,34,34,34,34,34,34,34,34,34,34,34,34,34,34,34,34,34,34,34,34,34,34,34,34,34,34,34,34,34,34,34,34,34,34,34,34,34,34,34,34,34,34,34,34,34,34,34,34,34,34,34,34,34,34,34,34,34,34,34,34,34,34,34,34,34,34,34,34,34,34,34,34,34,34,34,34,34,34,34,34,34,34,34,34,34,34,34,34,34,34,34,34,34,34,34,34,34,34,34,34,34,34,34,34,34,34,34,34,34,34,34,34,34,34,34,34,34,34,34,34,34,34,34,34,34,34,34,34,34,34,34,34,34,34,34,34,34,34,34,34,34,34,34,34,34,34,34,34,34,34,34,34,34,34,34,34,34,34,34,34,34,34,34,34,34,34,34,34,34,34,34,34,34,34,34,34,34,34,34,34,34,34,34,34,34,34,34,34,34,34,34,34,34,34,34,34,34,34,34,34,34,34,34,34,34,34,34,34,34,34,34,34,34,34,34,34,34,34,34,34,34,34,34,34,34,34,34,34,34,34,34,34,34,34,34,34,34,34,34,34,34,34,34,34,34,34,34,34,34,34,34,34,34,34,34,34,34,34,34,34,34,34,34,34,34,34,34,34,34,34,34,34,34,34,34,34,34,34,34,34,34,34,34,34,34,34,34,34,34,34,34,34,34,34,34,34,34,34,34,34,34,34,34,34,34,34,34,34,34,34,34,34,34,34,34,34,34,34,34,34,34,34,34,34,34,34,34,34,34,34,34,34,34,34,34,34,34,34,34,34,34,34,34,34,34,34,34,34,34,34,34,34,34,34,34,34,34,34,34,34,34,34,34,34,34,34,34,34,34,34,34,34,34,34,34,34,34,34,34,34,34,34,34,34,34,34,34,34,34,34,34,34,34,34,34,34,34,34,34,34,34,34,34,34,34,34,34,34,34,34,34,34,34,34,34,34,34,34,34,34,34,34,34,34,34,34,34,34,34,34,34,34,34,34,34,34,34,34,34,34,34,34,34,34,34,34,34,34,34,34,34,34,34,34,34,34,34,34,34,34,34,34,34,34,34,34,34,34,34,34,34,34,34,34,34,34,34,34,34,34,34,34,34,34,34,34,34,34,34,34,34,34,34,34,34,34,34,34,34,34,34,34,34,34,34,34,34,34,34,34,34,34,34,34,34,34,34,34,34,34,34,34,34,34,34,34,34,34,34,34,34,34,34,34,34,34,34,34,34,34,34,34,34,34,34,34,34,34,34,34,34,34,34,34,34,34,34,34,34,34,34,34,34,34,34,34,34,34,34,34,34,34,34,34,34,34,34,34,34,34,34,34,34,34,34,34,34,34,34,34,34,34,34,34,34,34,34,34,34,34,34,34,34,34,34,34,34,34,34,34,34,34,34,34,34,34,34,34,34,34,34,34,34,34,34,34,34,34,34,34,34,34,34,34,34,34,34,34,34,34,34,34,34,34,34,34,34,34,34,34,34,34,34,34,34,34,34,34,34,34,34,34,34,34,34,34,34,34,34,34,34,34,34,34,34,34,34,34,34,34,34,34,34,34,34,34,34,34,34,34,34,34,34,34,34,34,34,34,34,34,34,34,34,34,34,34,34,34,34,34,34,34,34,34,34,34,34,34,34,34,55,55,55,55,55,55,55,55,55,55,55,55,55,55,55,55,55,55,55,55,55,55,55,55,55,55,55,55,55,55,55,55,55,55,55,55,55,55,55,55,55,55,55,55,55,55,55,55,55,55,55,55,55,55,55,55,55,55,55,55,55,55,55,55,55,55,55,55,55,55,55,55,55,55,55,55,55,55,55,55,55,55,55,55,55,55,55,55,55,55,55,55,55,55,55,55,55,55,55,55,55,55,55,55,55,55,55,55,55,55,55,55,55,55,55,55,55,55,55,55,55,55,55,55,55,55,55,55,55,55,55,55,55,55,55,55,55,55,55,55,55,55,55,55,55,55,55,55,55,55,55,55,55,55,55,55,55,55,55,55,55,55,55,55,55,55,55,55,55,55,55,55,55,55,55,55,55,55,55,55,55,55,55,55,55,55,55,55,55,55,55,55,55,55,55,55,55,55,55,55,55,55,55,55,55,55,55,55,55,55,55,55,55,55,55,55,55,55,55,55,55,55,55,55,55,55,55,55,55,55,55,55,55,55,55,55,55,55,55,55,55,55,55,55,55,55,55,55,55,55,55,55,55,55,55,55,55,55,55,55,55,55,55,55,55,55,55,55,55,55,55,55,55,55,55,55,55,55,55,55,55,55,55,55,55,55,55,55,55,55,55,55,55,55,55,55,55,55,55,55,55,55,55,55,55,55,55,55,55,55,55,55,55,55,55,55,55,55,55,55,55,55,55,55,55,55,55,55,55,55,55,55,55,55,55,55,55,55,55,55,55,55,55,55,55,55,55,55,55,55,55,55,55,55,55,55,55,55,55,55,55,55,55,55,55,55,55,55,55,55,55,55,55,55,55,55,55,55,55,55,55,55,55,55,55,55,55,55,55,55,55,55,55,55,55,55,55,55,55,55,55,55,55,55,55,55,55,55,55,55,55,55,55,55,55,55,55,55,55,55,55,55,55,55,55,55,55,55,55,55,55,55,55,55,55,55,55,55,55,55,55,55,55,55,55,55,55,55,55,55,55,55,55,55,55,55,55,55,55,55,55,55,55,55,55,55,55,55,55,55,55,55,55,55,55,55,55,55,55,55,55,55,55,55,55,55,55,55,55,55,55,55,55,55,55,55,55,55,55,55,55,55,55,55,55,55,55,55,55,55,55,55,55,55,55,55,55,55,55,55,55,55,55,55,55,55,55,55,55,55,55,55,55,55,55,55,55,55,55,55,55,55,55,55,55,55,55,55,55,55,55,55,55,55,55,55,55,55,55,55,55,55,55,55,55,55,55,55,55,55,55,55,55,55,55,55,55,55,55,55,55,55,55,55,55,55,55,55,55,55,55,55,55,55,55,55,55,55,55,55,55,55,55,55,55,55,55,55,55,55,55,55,55,55,55,55,55,55,55,55,55,55,55,55,55,55,55,55,55,55,55,55,55,55,55,55,55,55,55,55,55,55,55,55,55,55,55,55,55,55,55,55,55,55,55,55,55,55,55,55,55,55,55,55,55,55,55,55,55,55,55,55,55,55,55,55,55,55,55,55,55,55,55,55,55,55,55,55,55,55,55,55,55,55,55,55,55,55,55,55,55,55,55,55,55,55,55,55,55,55,55,55,55,55,55,55,55,55,55,55,55,55,55,55,55,55,55,55,55,55,55,55,55,55,55,55,55,55,55,55,55,55,55,55,55,55,55,55,55,55,55,55,55,55,55,55,55,55,55,55,55,55,55,55,55,55,55,55,55,55,55,55,55,55,55,55,55,55,55,55,55,55,55,55,55,55,55,55,55,55,55,55,55,55,55,55,55,55,55,55,55,55,55,55,55,55,55,55,55,55,55,55,55,55,55,55,55,55,55,55,55,55,55,55,55,55,55,55,55,55,55,55,55,55,55,55,55,55,55,55,55,55,55,55,55,55,55,55,55,55,55,55,55,55,55,55,55,55,55,55,55,55,55,55,55,55,55,55,55,55,55,55,55,55,55,55,55,55,55,55,55,55,55,55,55,55,55,55,55,55,55,55,55,55,55,55,55,55,55,55,55,55,55,55,55,55,55,55,55,55,55,55,55,55,55,55,55,55,55,55,70,70,70,70,70,70,70,70,70,70,70,70,70,70,70,70,70,70,70,70,70,70,70,70,70,70,70,70,70,70,70,70,70,70,70,70,70,70,70,70,70,70,70,70,70,70,70,70,70,70,70,70,70,70,70,70,70,70,70,70,70,70,70,70,70,70,70,70,70,70,70,70,70,70,70,70,70,70,70,70,70,70,70,70,70,70,70,70,70,70,70,70,70,70,70,70,70,70,70,70,70,70,70,70,70,70,70,70,70,70,70,70,70,70,70,70,70,70,70,70,70,70,70,70,70,70,70,70,70,70,70,70,70,70,70,70,70,70,70,70,70,70,70,70,70,70,70,70,70,70,70,70,70,70,70,70,70,70,70,70,70,70,70,70,70,70,70,70,70,70,70,70,70,70,70,70,70,70,70,70,70,70,70,70,70,70,70,70,70,70,70,70,70,70,70,70,70,70,70,70,70,70,70,70,70,70,70,70,70,70,70,70,70,70,70,70,70,70,70,70,70,70,70,70,70,70,70,70,70,70,70,70,70,70,70,70,70,70,70,70,70,70,70,70,70,70,70,70,70,70,70,70,70,70,70,70,70,70,70,70,70,70,70,70,70,70,70,70,70,70,70,70,70,70,70,70,70,70,70,70,70,70,70,70,70,70,70,70,70,70,70,70,70,70,70,70,70,70,70,70,70,70,70,70,70,70,70,70,70,70,70,70,70,70,70,70,70,70,70,70,70,70,70,70,70,70,70,70,70,70,70,70,70,70,70,70,70,70,70,70,70,70,70,70,70,70,70,70,70,70,70,70,70,70,70,70,70,70,70,70,70,70,70,70,70,70,70,70,70,70,70,70,70,70,70,70,70,70,70,70,70,70,70,70,70,70,70,70,70,70,70,70,70,70,70,70,70,70,70,70,70,70,70,70,70,70,70,70,70,70,70,70,70,70,70,70,70,70,70,70,70,70,70,70,70,70,70,70,70,70,70,70,70,70,70,70,70,70,70,70,70,70,70,70,70,70,70,70,70,70,70,70,70,70,70,70,70,70,70,70,70,70,70,70,70,70,70,70,70,70,70,70,70,70,70,70,70,70,70,70,70,70,70,70,70,70,70,70,70,70,70,70,70,70,70,70,70,70,70,70,70,70,70,70,70,70,70,70,70,70,70,70,70,70,70,70,70,70,70,70,70,70,70,70,70,70,70,70,70,70,70,70,70,70,70,70,70,70,70,70,70,70,70,70,70,70,70,70,70,70,70,70,70,70,70,70,70,70,70,70,70,70,70,70,70,70,70,70,70,70,70,70,70,70,70,70,70,70,70,70,70,70,70,70,70,70,70,70,70,70,70,70,70,70,70,70,70,70,70,70,70,70,70,70,70,70,70,70,70,70,70,70,70,70,70,70,70,70,70,70,70,70,70,70,70,70,70,70,70,70,70,70,70,70,70,70,70,70,70,70,70,70,70,70,70,70,70,70,70,70,70,70,70,70,70,70,70,70,70,70,70,70,70,70,70,70,70,70,70,70,70,70,70,70,70,70,70,70,70,70,70,70,70,70,70,70,70,70,70,70,70,70,70,70,70,70,70,70,70,70,70,70,70,70,70,70,70,70,70,70,70,70,70,70,70,70,70,70,70,70,70,70,70,70,70,70,70,70,70,70,70,70,70,70,70,70,70,70,70,70,70,70,70,70,70,70,70,70,70,70,70,70,70,70,70,70,70,70,70,70,70,70,70,70,70,70,70,70,70,70,70,70,70,70,70,70,70,70,70,70,70,70,70,70,70,70,70,70,70,70,70,70,70,70,70,70,70,70,70,70,70,70,70,70,70,70,70,70,70,70,70,70,70,70,70,70,70,70,70,70,70,70,70,70,70,70,70,70,70,70,70,70,70,70,70,70,70,70,70,70,70,70,70,70,70,70,70,70,70,70,70,70,70,70,70,70,70,70,70,70,70,70,70,70,70,70,70,70,70,70,70,70,70,70,70,70,70,70,70,70,70,70,70,70,70,70,70,70,70,70,70,70,70,70,70,70,70,70,70,70,70,70,70,70,70,70,70,70,70,70,70,70,70,70,70,70,70,70,70,70,89,89,89,89,89,89,89,89,89,89,89,89,89,89,89,89,89,89,89,89,89,89,89,89,89,89,89,89,89,89,89,89,89,89,89,89,89,89,89,89,89,89,89,89,89,89,89,89,89,89,89,89,89,89,89,89,89,89,89,89,89,89,89,89,89,89,89,89,89,89,89,89,89,89,89,89,89,89,89,89,89,89,89,89,89,89,89,89,89,89,89,89,89,89,89,89,89,89,89,89,89,89,89,89,89,89,89,89,89,89,89,89,89,89,89,89,89,89,89,89,89,89,89,89,89,89,89,89,89,89,89,89,89,89,89,89,89,89,89,89,89,89,89,89,89,89,89,89,89,89,89,89,89,89,89,89,89,89,89,89,89,89,89,89,89,89,89,89,89,89,89,89,89,89,89,89,89,89,89,89,89,89,89,89,89,89,89,89,89,89,89,89,89,89,89,89,89,89,89,89,89,89,89,89,89,89,89,89,89,89,89,89,89,89,89,89,89,89,89,89,89,89,89,89,89,89,89,89,89,89,89,89,89,89,89,89,89,89,89,89,89,89,89,89,89,89,89,89,89,89,89,89,89,89,89,89,89,89,89,89,89,89,89,89,89,89,89,89,89,89,89,89,89,89,89,89,89,89,89,89,89,89,89,89,89,89,89,89,89,89,89,89,89,89,89,89,89,89,89,89,89,89,89,89,89,89,89,89,89,89,89,89,89,89,89,89,89,89,89,89,89,89,89,89,89,89,89,89,89,89,89,89,89,89,89,89,89,89,89,89,89,89,89,89,89,89,89,89,89,89,89,89,89,89,89,89,89,89,89,89,89,89,89,89,89,89,89,89,89,89,89,89,89,89,89,89,89,89,89,89,89,89,89,89,89,89,89,89,89,89,89,89,89,89,89,89,89,89,89,89,89,89,89,89,89,89,89,89,89,89,89,89,89,89,89,89,89,89,89,89,89,89,89,89,89,89,89,89,89,89,89,89,89,89,89,89,89,89,89,89,89,89,89,89,89,89,89,89,89,89,89,89,89,89,89,89,89,89,89,89,89,89,89,89,89,89,89,89,89,89,89,89,89,89,89,89,89,89,89,89,89,89,89,89,89,89,89,89,89,89,89,89,89,89,89,89,89,89,89,89,89,89,89,89,89,89,89,89,89,89,89,89,89,89,89,89,89,89,89,89,89,89,89,89,89,89,89,89,89,89,89,89,89,89,89,89,89,89,89,89,89,89,89,89,89,89,89,89,89,89,89,89,89,89,89,89,89,89,89,89,89,89,89,89,89,89,89,89,89,89,89,89,89,89,89,89,89,89,89,89,89,89,89,89,89,89,89,89,89,89,89,89,89,89,89,89,89,89,89,89,89,89,89,89,89,89,89,89,89,89,89,89,89,89,89,89,89,89,89,89,89,89,89,89,89,89,89,89,89,89,89,89,89,89,89,89,89,89,89,89,89,89,89,89,89,89,89,89,89,89,89,89,89,89,89,89,89,89,89,89,89,89,89,89,89,89,89,89,89,89,89,89,89,89,89,89,89,89,89,89,89,89,89,89,89,89,89,89,89,89,89,89,89,89,89,89,89,89,89,89,89,89,89,89,89,89,89,89,89,89,89,89,89,89,89,89,89,89,89,89,89,89,89,89,89,89,89,89,89,89,89,89,89,89,89,89,89,89,89,89,89,89,89,89,89,89,89,89,89,89,89,89,89,89,89,89,89,89,89,89,89,89,89,89,89,89,89,89,89,89,89,89,89,89,89,89,89,89,89,89,89,89,89,89,89,89,89,89,89,89,89,89,89,89,89,89,89,89,89,89,89,89,89,89,89,89,89,89,89,89,89,89,89,89,89,89,89,89,89,89,89,89,89,89,89,89,89,89,89,89,89,89,89,89,89,89,89,89,89,89,89,89,89,89,89,89,89,89,89,89,89,89,89,89,89,89,89,89,89,89,89,89,89,89,89,89,89,89,89,89,89,89,89,89,89,89,89,89,89,89,89,89,89,89,89,89,89,89,89,89,89,89,89,89,89,89,89,89,89,89,89,89,89,89,89,89,89,89,89,89,89,89,89,89,89,89,89,89,89,89,144,144,144,144,144,144,144,144,144,144,144,144,144,144,144,144,144,144,144,144,144,144,144,144,144,144,144,144,144,144,144,144,144,144,144,144,144,144,144,144,144,144,144,144,144,144,144,144,144,144,144,144,144,144,144,144,144,144,144,144,144,144,144,144,144,144,144,144,144,144,144,144,144,144,144,144,144,144,144,144,144,144,144,144,144,144,144,144,144,144,144,144,144,144,144,144,144,144,144,144,144,144,144,144,144,144,144,144,144,144,144,144,144,144,144,144,144,144,144,144,144,144,144,144,144,144,144,144,144,144,144,144,144,144,144,144,144,144,144,144,144,144,144,144,144,144,144,144,144,144,144,144,144,144,144,144,144,144,144,144,144,144,144,144,144,144,144,144,144,144,144,144,144,144,144,144,144,144,144,144,144,144,144,144,144,144,144,144,144,144,144,144,144,144,144,144,144,144,144,144,144,144,144,144,144,144,144,144,144,144,144,144,144,144,144,144,144,144,144,144,144,144,144,144,144,144,144,144,144,144,144,144,144,144,144,144,144,144,144,144,144,144,144,144,144,144,144,144,144,144,144,144,144,144,144,144,144,144,144,144,144,144,144,144,144,144,144,144,144,144,144,144,144,144,144,144,144,144,144,144,144,144,144,144,144,144,144,144,144,144,144,144,144,144,144,144,144,144,144,144,144,144,144,144,144,144,144,144,144,144,144,144,144,144,144,144,144,144,144,144,144,144,144,144,144,144,144,144,144,144,144,144,144,144,144,144,144,144,144,144,144,144,144,144,144,144,144,144,144,144,144,144,144,144,144,144,144,144,144,144,144,144,144,144,144,144,144,144,144,144,144,144,144,144,144,144,144,144,144,144,144,144,144,144,144,144,144,144,144,144,144,144,144,144,144,144,144,144,144,144,144,144,144,144,144,144,144,144,144,144,144,144,144,144,144,144,144,144,144,144,144,144,144,144,144,144,144,144,144,144,144,144,144,144,144,144,144,144,144,144,144,144,144,144,144,144,144,144,144,144,144,144,144,144,144,144,144,144,144,144,144,144,144,144,144,144,144,144,144,144,144,144,144,144,144,144,144,144,144,144,144,144,144,144,144,144,144,144,144,144,144,144,144,144,144,144,144,144,144,144,144,144,144,144,144,144,144,144,144,144,144,144,144,144,144,144,144,144,144,144,144,144,144,144,144,144,144,144,144,144,144,144,144,144,144,144,144,144,144,144,144,144,144,144,144,144,144,144,144,144,144,144,144,144,144,144,144,144,144,144,144,144,144,144,144,144,144,144,144,144,144,144,144,144,144,144,144,144,144,144,144,144,144,144,144,144,144,144,144,144,144,144,144,144,144,144,144,144,144,144,144,144,144,144,144,144,144,144,144,144,144,144,144,144,144,144,144,144,144,144,144,144,144,144,144,144,144,144,144,144,144,144,144,144,144,144,144,144,144,144,144,144,144,144,144,144,144,144,144,144,144,144,144,144,144,144,144,144,144,144,144,144,144,144,144,144,144,144,144,144,144,144,144,144,144,144,144,144,144,144,144,144,144,144,144,144,144,144,144,144,144,144,144,144,144,144,144,144,144,144,144,144,144,144,144,144,144,144,144,144,144,144,144,144,144,144,144,144,144,144,144,144,144,144,144,144,144,144,144,144,144,144,144,144,144,144,144,144,144,144,144,144,144,144,144,144,144,144,144,144,144,144,144,144,144,144,144,144,144,144,144,144,144,144,144,144,144,144,144,144,144,144,144,144,144,144,144,144,144,144,144,144,144,144,144,144,144,144,144,144,144,144,144,144,144,144,144,144,144,144,144,144,144,144,144,144,144,144,144,144,144,144,144,144,144,144,144,144,144,144,144,144,144,144,144,144,144,144,144,144,144,144,144,144,144,144,144,144,144,144,144,144,144,144,144,144,144,144,144,144,144,144,144,144,144,144,144,144,144,144,144,144,144,144,144,144,144,144,144,144,144,144,144,144,144,144,144,144,144,144,144,144,144,144,144,144,144,144,144,144,144,144,144,144,144,144,144,144,144,144,144,144,144,144,144,144,144,144,144,144,144,144,144,144,144,144,144,144,144,144,200,200,200,200,200,200,200,200,200,200,200,200,200,200,200,200,200,200,200,200,200,200,200,200,200,200,200,200,200,200,200,200,200,200,200,200,200,200,200,200,200,200,200,200,200,200,200,200,200,200,200,200,200,200,200,200,200,200,200,200,200,200,200,200,200,200,200,200,200,200,200,200,200,200,200,200,200,200,200,200,200,200,200,200,200,200,200,200,200,200,200,200,200,200,200,200,200,200,200,200,200,200,200,200,200,200,200,200,200,200,200,200,200,200,200,200,200,200,200,200,200,200,200,200,200,200,200,200,200,200,200,200,200,200,200,200,200,200,200,200,200,200,200,200,200,200,200,200,200,200,200,200,200,200,200,200,200,200,200,200,200,200,200,200,200,200,200,200,200,200,200,200,200,200,200,200,200,200,200,200,200,200,200,200,200,200,200,200,200,200,200,200,200,200,200,200,200,200,200,200,200,200,200,200,200,200,200,200,200,200,200,200,200,200,200,200,200,200,200,200,200,200,200,200,200,200,200,200,200,200,200,200,200,200,200,200,200,200,200,200,200,200,200,200,200,200,200,200,200,200,200,200,200,200,200,200,200,200,200,200,200,200,200,200,200,200,200,200,200,200,200,200,200,200,200,200,200,200,200,200,200,200,200,200,200,200,200,200,200,200,200,200,200,200,200,200,200,200,200,200,200,200,200,200,200,200,200,200,200,200,200,200,200,200,200,200,200,200,200,200,200,200,200,200,200,200,200,200,200,200,200,200,200,200,200,200,200,200,200,200,200,200,200,200,200,200,200,200,200,200,200,200,200,200,200,200,200,200,200,200,200,200,200,200,200,200,200,200,200,200,200,200,200,200,200,200,200,200,200,200,200,200,200,200,200,200,200,200,200,200,200,200,200,200,200,200,200,200,200,200,200,200,200,200,200,200,200,200,200,200,200,200,200,200,200,200,200,200,200,200,200,200,200,200,200,200,200,200,200,200,200,200,200,200,200,200,200,200,200,200,200,200,200,200,200,200,200,200,200,200,200,200,200,200,200,200,200,200,200,200,200,200,200,200,200,200,200,200,200,200,200,200,200,200,200,200,200,200,200,200,200,200,200,200,200,200,200,200,200,200,200,200,200,200,200,200,200,200,200,200,200,200,200,200,200,200,200,200,200,200,200,200,200,200,200,200,200,200,200,200,200,200,200,200,200,200,200,200,200,200,200,200,200,200,200,200,200,200,200,200,200,200,200,200,200,200,200,200,200,200,200,200,200,200,200,200,200,200,200,200,200,200,200,200,200,200,200,200,200,200,200,200,200,200,200,200,200,200,200,200,200,200,200,200,200,200,200,200,200,200,200,200,200,200,200,200,200,200,200,200,200,200,200,200,200,200,200,200,200,200,200,200,200,200,200,200,200,200,200,200,200,200,200,200,200,200,200,200,200,200,200,200,200,200,200,200,200,200,200,200,200,200,200,200,200,200,200,200,200,200,200,200,200,200,200,200,200,200,200,200,200,200,200,200,200,200,200,200,200,200,200,200,200,200,200,200,200,200,200,200,200,200,200,200,200,200,200,200,200,200,200,200,200,200,200,200,200,200,200,200,200,200,200,200,200,200,200,200,200,200,200,200,200,200,200,200,200,200,200,200,200,200,200,200,200,200,200,200,200,200,200,200,200,200,200,200,200,200,200,200,200,200,200,200,200,200,200,200,200,200,200,200,200,200,200,200,200,200,200,200,200,200,200,200,200,200,200,200,200,200,200,200,200,200,200,200,200,200,200,200,200,200,200,200,200,200,200,200,200,200,200,200,200,200,200,200,200,200,200,200,200,200,200,200,200,200,200,200,200,200,200,200,200,200,200,200,200,200,200,200,200,200,200,200,200,200,200,200,200,200,200,200,200,200,200,200,200,200,200,200,200,200,200,200,200,200,200,200,200,200,200,200,200,200,200,200,200,200,200,200,200,200,200,200,200,200,200,200,200,200,200,200,200,200,200,200,200,200,200,200,200,200,200,200,200,200,200,200,200,200,200,200,200,200,200,200,200,200,200,200,200,200,200,200,200,200,200,200,200,200,200,200,200,200,200,200,200,200,200,200],\"coloraxis\":\"coloraxis\",\"symbol\":\"circle\"},\"mode\":\"markers\",\"name\":\"\",\"scene\":\"scene\",\"showlegend\":false,\"x\":[2.0,2.0,2.0,2.0,2.0,2.0,2.0,2.0,2.0,2.0,2.0,2.0,2.0,2.0,2.0,2.0,2.0,2.0,2.0,2.0,2.0,2.0,2.0,2.0,2.0,2.0,2.0,2.0,2.0,2.0,2.0,2.0,2.0,2.0,2.0,2.0,2.0,2.0,2.0,2.0,2.0,2.0,2.0,2.0,2.0,2.0,2.0,2.0,2.0,2.0,2.0,2.0,2.0,2.0,2.0,2.0,2.0,2.0,2.0,2.0,2.0,2.0,2.0,2.0,2.0,2.0,2.0,2.0,2.0,2.0,2.0,2.0,2.0,2.0,2.0,2.0,2.0,2.0,2.0,2.0,2.0,2.0,2.0,2.0,2.0,2.0,2.0,2.0,2.0,2.0,2.0,2.0,2.0,2.0,2.0,2.0,2.0,2.0,2.0,2.0,2.0,2.0,2.0,2.0,2.0,2.0,2.0,2.0,2.0,2.0,2.0,2.0,2.0,2.0,2.0,2.5,2.5,2.5,2.5,2.5,2.5,2.5,2.5,2.5,2.5,2.5,2.5,2.5,2.5,2.5,2.5,2.5,2.5,2.5,2.5,2.5,2.5,2.5,2.5,2.5,2.5,2.5,2.5,2.5,2.5,2.5,2.5,2.5,2.5,2.5,2.5,2.5,2.5,2.5,2.5,2.5,2.5,2.5,2.5,2.5,2.5,2.5,2.5,2.5,2.5,2.5,2.5,2.5,2.5,2.5,2.5,2.5,2.5,2.5,2.5,2.5,2.5,2.5,2.5,2.5,2.5,2.5,2.5,2.5,2.5,2.5,2.5,2.5,2.5,2.5,2.5,2.5,2.5,2.5,2.5,2.5,2.5,2.5,2.5,2.5,2.5,2.5,2.5,2.5,2.5,2.5,2.5,2.5,2.5,2.5,2.5,2.5,2.5,2.5,2.5,2.5,2.5,2.5,2.5,2.5,2.5,2.5,2.5,2.5,2.5,2.5,2.5,2.5,2.5,2.5,3.0,3.0,3.0,3.0,3.0,3.0,3.0,3.0,3.0,3.0,3.0,3.0,3.0,3.0,3.0,3.0,3.0,3.0,3.0,3.0,3.0,3.0,3.0,3.0,3.0,3.0,3.0,3.0,3.0,3.0,3.0,3.0,3.0,3.0,3.0,3.0,3.0,3.0,3.0,3.0,3.0,3.0,3.0,3.0,3.0,3.0,3.0,3.0,3.0,3.0,3.0,3.0,3.0,3.0,3.0,3.0,3.0,3.0,3.0,3.0,3.0,3.0,3.0,3.0,3.0,3.0,3.0,3.0,3.0,3.0,3.0,3.0,3.0,3.0,3.0,3.0,3.0,3.0,3.0,3.0,3.0,3.0,3.0,3.0,3.0,3.0,3.0,3.0,3.0,3.0,3.0,3.0,3.0,3.0,3.0,3.0,3.0,3.0,3.0,3.0,3.0,3.0,3.0,3.0,3.0,3.0,3.0,3.0,3.0,3.0,3.0,3.0,3.0,3.0,3.0,3.5,3.5,3.5,3.5,3.5,3.5,3.5,3.5,3.5,3.5,3.5,3.5,3.5,3.5,3.5,3.5,3.5,3.5,3.5,3.5,3.5,3.5,3.5,3.5,3.5,3.5,3.5,3.5,3.5,3.5,3.5,3.5,3.5,3.5,3.5,3.5,3.5,3.5,3.5,3.5,3.5,3.5,3.5,3.5,3.5,3.5,3.5,3.5,3.5,3.5,3.5,3.5,3.5,3.5,3.5,3.5,3.5,3.5,3.5,3.5,3.5,3.5,3.5,3.5,3.5,3.5,3.5,3.5,3.5,3.5,3.5,3.5,3.5,3.5,3.5,3.5,3.5,3.5,3.5,3.5,3.5,3.5,3.5,3.5,3.5,3.5,3.5,3.5,3.5,3.5,3.5,3.5,3.5,3.5,3.5,3.5,3.5,3.5,3.5,3.5,3.5,3.5,3.5,3.5,3.5,3.5,3.5,3.5,3.5,3.5,3.5,3.5,3.5,3.5,3.5,4.0,4.0,4.0,4.0,4.0,4.0,4.0,4.0,4.0,4.0,4.0,4.0,4.0,4.0,4.0,4.0,4.0,4.0,4.0,4.0,4.0,4.0,4.0,4.0,4.0,4.0,4.0,4.0,4.0,4.0,4.0,4.0,4.0,4.0,4.0,4.0,4.0,4.0,4.0,4.0,4.0,4.0,4.0,4.0,4.0,4.0,4.0,4.0,4.0,4.0,4.0,4.0,4.0,4.0,4.0,4.0,4.0,4.0,4.0,4.0,4.0,4.0,4.0,4.0,4.0,4.0,4.0,4.0,4.0,4.0,4.0,4.0,4.0,4.0,4.0,4.0,4.0,4.0,4.0,4.0,4.0,4.0,4.0,4.0,4.0,4.0,4.0,4.0,4.0,4.0,4.0,4.0,4.0,4.0,4.0,4.0,4.0,4.0,4.0,4.0,4.0,4.0,4.0,4.0,4.0,4.0,4.0,4.0,4.0,4.0,4.0,4.0,4.0,4.0,4.0,4.5,4.5,4.5,4.5,4.5,4.5,4.5,4.5,4.5,4.5,4.5,4.5,4.5,4.5,4.5,4.5,4.5,4.5,4.5,4.5,4.5,4.5,4.5,4.5,4.5,4.5,4.5,4.5,4.5,4.5,4.5,4.5,4.5,4.5,4.5,4.5,4.5,4.5,4.5,4.5,4.5,4.5,4.5,4.5,4.5,4.5,4.5,4.5,4.5,4.5,4.5,4.5,4.5,4.5,4.5,4.5,4.5,4.5,4.5,4.5,4.5,4.5,4.5,4.5,4.5,4.5,4.5,4.5,4.5,4.5,4.5,4.5,4.5,4.5,4.5,4.5,4.5,4.5,4.5,4.5,4.5,4.5,4.5,4.5,4.5,4.5,4.5,4.5,4.5,4.5,4.5,4.5,4.5,4.5,4.5,4.5,4.5,4.5,4.5,4.5,4.5,4.5,4.5,4.5,4.5,4.5,4.5,4.5,4.5,4.5,4.5,4.5,4.5,4.5,4.5,5.0,5.0,5.0,5.0,5.0,5.0,5.0,5.0,5.0,5.0,5.0,5.0,5.0,5.0,5.0,5.0,5.0,5.0,5.0,5.0,5.0,5.0,5.0,5.0,5.0,5.0,5.0,5.0,5.0,5.0,5.0,5.0,5.0,5.0,5.0,5.0,5.0,5.0,5.0,5.0,5.0,5.0,5.0,5.0,5.0,5.0,5.0,5.0,5.0,5.0,5.0,5.0,5.0,5.0,5.0,5.0,5.0,5.0,5.0,5.0,5.0,5.0,5.0,5.0,5.0,5.0,5.0,5.0,5.0,5.0,5.0,5.0,5.0,5.0,5.0,5.0,5.0,5.0,5.0,5.0,5.0,5.0,5.0,5.0,5.0,5.0,5.0,5.0,5.0,5.0,5.0,5.0,5.0,5.0,5.0,5.0,5.0,5.0,5.0,5.0,5.0,5.0,5.0,5.0,5.0,5.0,5.0,5.0,5.0,5.0,5.0,5.0,5.0,5.0,5.0,5.5,5.5,5.5,5.5,5.5,5.5,5.5,5.5,5.5,5.5,5.5,5.5,5.5,5.5,5.5,5.5,5.5,5.5,5.5,5.5,5.5,5.5,5.5,5.5,5.5,5.5,5.5,5.5,5.5,5.5,5.5,5.5,5.5,5.5,5.5,5.5,5.5,5.5,5.5,5.5,5.5,5.5,5.5,5.5,5.5,5.5,5.5,5.5,5.5,5.5,5.5,5.5,5.5,5.5,5.5,5.5,5.5,5.5,5.5,5.5,5.5,5.5,5.5,5.5,5.5,5.5,5.5,5.5,5.5,5.5,5.5,5.5,5.5,5.5,5.5,5.5,5.5,5.5,5.5,5.5,5.5,5.5,5.5,5.5,5.5,5.5,5.5,5.5,5.5,5.5,5.5,5.5,5.5,5.5,5.5,5.5,5.5,5.5,5.5,5.5,5.5,5.5,5.5,5.5,5.5,5.5,5.5,5.5,5.5,5.5,5.5,5.5,5.5,5.5,5.5,2.0,2.0,2.0,2.0,2.0,2.0,2.0,2.0,2.0,2.0,2.0,2.0,2.0,2.0,2.0,2.0,2.0,2.0,2.0,2.0,2.0,2.0,2.0,2.0,2.0,2.0,2.0,2.0,2.0,2.0,2.0,2.0,2.0,2.0,2.0,2.0,2.0,2.0,2.0,2.0,2.0,2.0,2.0,2.0,2.0,2.0,2.0,2.0,2.0,2.0,2.0,2.0,2.0,2.0,2.0,2.0,2.0,2.0,2.0,2.0,2.0,2.0,2.0,2.0,2.0,2.0,2.0,2.0,2.0,2.0,2.0,2.0,2.0,2.0,2.0,2.0,2.0,2.0,2.0,2.0,2.0,2.0,2.0,2.0,2.0,2.0,2.0,2.0,2.0,2.0,2.0,2.0,2.0,2.0,2.0,2.0,2.0,2.0,2.0,2.0,2.0,2.0,2.0,2.0,2.0,2.0,2.0,2.0,2.0,2.0,2.0,2.0,2.0,2.0,2.0,2.5,2.5,2.5,2.5,2.5,2.5,2.5,2.5,2.5,2.5,2.5,2.5,2.5,2.5,2.5,2.5,2.5,2.5,2.5,2.5,2.5,2.5,2.5,2.5,2.5,2.5,2.5,2.5,2.5,2.5,2.5,2.5,2.5,2.5,2.5,2.5,2.5,2.5,2.5,2.5,2.5,2.5,2.5,2.5,2.5,2.5,2.5,2.5,2.5,2.5,2.5,2.5,2.5,2.5,2.5,2.5,2.5,2.5,2.5,2.5,2.5,2.5,2.5,2.5,2.5,2.5,2.5,2.5,2.5,2.5,2.5,2.5,2.5,2.5,2.5,2.5,2.5,2.5,2.5,2.5,2.5,2.5,2.5,2.5,2.5,2.5,2.5,2.5,2.5,2.5,2.5,2.5,2.5,2.5,2.5,2.5,2.5,2.5,2.5,2.5,2.5,2.5,2.5,2.5,2.5,2.5,2.5,2.5,2.5,2.5,2.5,2.5,2.5,2.5,2.5,3.0,3.0,3.0,3.0,3.0,3.0,3.0,3.0,3.0,3.0,3.0,3.0,3.0,3.0,3.0,3.0,3.0,3.0,3.0,3.0,3.0,3.0,3.0,3.0,3.0,3.0,3.0,3.0,3.0,3.0,3.0,3.0,3.0,3.0,3.0,3.0,3.0,3.0,3.0,3.0,3.0,3.0,3.0,3.0,3.0,3.0,3.0,3.0,3.0,3.0,3.0,3.0,3.0,3.0,3.0,3.0,3.0,3.0,3.0,3.0,3.0,3.0,3.0,3.0,3.0,3.0,3.0,3.0,3.0,3.0,3.0,3.0,3.0,3.0,3.0,3.0,3.0,3.0,3.0,3.0,3.0,3.0,3.0,3.0,3.0,3.0,3.0,3.0,3.0,3.0,3.0,3.0,3.0,3.0,3.0,3.0,3.0,3.0,3.0,3.0,3.0,3.0,3.0,3.0,3.0,3.0,3.0,3.0,3.0,3.0,3.0,3.0,3.0,3.0,3.0,3.5,3.5,3.5,3.5,3.5,3.5,3.5,3.5,3.5,3.5,3.5,3.5,3.5,3.5,3.5,3.5,3.5,3.5,3.5,3.5,3.5,3.5,3.5,3.5,3.5,3.5,3.5,3.5,3.5,3.5,3.5,3.5,3.5,3.5,3.5,3.5,3.5,3.5,3.5,3.5,3.5,3.5,3.5,3.5,3.5,3.5,3.5,3.5,3.5,3.5,3.5,3.5,3.5,3.5,3.5,3.5,3.5,3.5,3.5,3.5,3.5,3.5,3.5,3.5,3.5,3.5,3.5,3.5,3.5,3.5,3.5,3.5,3.5,3.5,3.5,3.5,3.5,3.5,3.5,3.5,3.5,3.5,3.5,3.5,3.5,3.5,3.5,3.5,3.5,3.5,3.5,3.5,3.5,3.5,3.5,3.5,3.5,3.5,3.5,3.5,3.5,3.5,3.5,3.5,3.5,3.5,3.5,3.5,3.5,3.5,3.5,3.5,3.5,3.5,3.5,4.0,4.0,4.0,4.0,4.0,4.0,4.0,4.0,4.0,4.0,4.0,4.0,4.0,4.0,4.0,4.0,4.0,4.0,4.0,4.0,4.0,4.0,4.0,4.0,4.0,4.0,4.0,4.0,4.0,4.0,4.0,4.0,4.0,4.0,4.0,4.0,4.0,4.0,4.0,4.0,4.0,4.0,4.0,4.0,4.0,4.0,4.0,4.0,4.0,4.0,4.0,4.0,4.0,4.0,4.0,4.0,4.0,4.0,4.0,4.0,4.0,4.0,4.0,4.0,4.0,4.0,4.0,4.0,4.0,4.0,4.0,4.0,4.0,4.0,4.0,4.0,4.0,4.0,4.0,4.0,4.0,4.0,4.0,4.0,4.0,4.0,4.0,4.0,4.0,4.0,4.0,4.0,4.0,4.0,4.0,4.0,4.0,4.0,4.0,4.0,4.0,4.0,4.0,4.0,4.0,4.0,4.0,4.0,4.0,4.0,4.0,4.0,4.0,4.0,4.0,4.5,4.5,4.5,4.5,4.5,4.5,4.5,4.5,4.5,4.5,4.5,4.5,4.5,4.5,4.5,4.5,4.5,4.5,4.5,4.5,4.5,4.5,4.5,4.5,4.5,4.5,4.5,4.5,4.5,4.5,4.5,4.5,4.5,4.5,4.5,4.5,4.5,4.5,4.5,4.5,4.5,4.5,4.5,4.5,4.5,4.5,4.5,4.5,4.5,4.5,4.5,4.5,4.5,4.5,4.5,4.5,4.5,4.5,4.5,4.5,4.5,4.5,4.5,4.5,4.5,4.5,4.5,4.5,4.5,4.5,4.5,4.5,4.5,4.5,4.5,4.5,4.5,4.5,4.5,4.5,4.5,4.5,4.5,4.5,4.5,4.5,4.5,4.5,4.5,4.5,4.5,4.5,4.5,4.5,4.5,4.5,4.5,4.5,4.5,4.5,4.5,4.5,4.5,4.5,4.5,4.5,4.5,4.5,4.5,4.5,4.5,4.5,4.5,4.5,4.5,5.0,5.0,5.0,5.0,5.0,5.0,5.0,5.0,5.0,5.0,5.0,5.0,5.0,5.0,5.0,5.0,5.0,5.0,5.0,5.0,5.0,5.0,5.0,5.0,5.0,5.0,5.0,5.0,5.0,5.0,5.0,5.0,5.0,5.0,5.0,5.0,5.0,5.0,5.0,5.0,5.0,5.0,5.0,5.0,5.0,5.0,5.0,5.0,5.0,5.0,5.0,5.0,5.0,5.0,5.0,5.0,5.0,5.0,5.0,5.0,5.0,5.0,5.0,5.0,5.0,5.0,5.0,5.0,5.0,5.0,5.0,5.0,5.0,5.0,5.0,5.0,5.0,5.0,5.0,5.0,5.0,5.0,5.0,5.0,5.0,5.0,5.0,5.0,5.0,5.0,5.0,5.0,5.0,5.0,5.0,5.0,5.0,5.0,5.0,5.0,5.0,5.0,5.0,5.0,5.0,5.0,5.0,5.0,5.0,5.0,5.0,5.0,5.0,5.0,5.0,5.5,5.5,5.5,5.5,5.5,5.5,5.5,5.5,5.5,5.5,5.5,5.5,5.5,5.5,5.5,5.5,5.5,5.5,5.5,5.5,5.5,5.5,5.5,5.5,5.5,5.5,5.5,5.5,5.5,5.5,5.5,5.5,5.5,5.5,5.5,5.5,5.5,5.5,5.5,5.5,5.5,5.5,5.5,5.5,5.5,5.5,5.5,5.5,5.5,5.5,5.5,5.5,5.5,5.5,5.5,5.5,5.5,5.5,5.5,5.5,5.5,5.5,5.5,5.5,5.5,5.5,5.5,5.5,5.5,5.5,5.5,5.5,5.5,5.5,5.5,5.5,5.5,5.5,5.5,5.5,5.5,5.5,5.5,5.5,5.5,5.5,5.5,5.5,5.5,5.5,5.5,5.5,5.5,5.5,5.5,5.5,5.5,5.5,5.5,5.5,5.5,5.5,5.5,5.5,5.5,5.5,5.5,5.5,5.5,5.5,5.5,5.5,5.5,5.5,5.5,2.0,2.0,2.0,2.0,2.0,2.0,2.0,2.0,2.0,2.0,2.0,2.0,2.0,2.0,2.0,2.0,2.0,2.0,2.0,2.0,2.0,2.0,2.0,2.0,2.0,2.0,2.0,2.0,2.0,2.0,2.0,2.0,2.0,2.0,2.0,2.0,2.0,2.0,2.0,2.0,2.0,2.0,2.0,2.0,2.0,2.0,2.0,2.0,2.0,2.0,2.0,2.0,2.0,2.0,2.0,2.0,2.0,2.0,2.0,2.0,2.0,2.0,2.0,2.0,2.0,2.0,2.0,2.0,2.0,2.0,2.0,2.0,2.0,2.0,2.0,2.0,2.0,2.0,2.0,2.0,2.0,2.0,2.0,2.0,2.0,2.0,2.0,2.0,2.0,2.0,2.0,2.0,2.0,2.0,2.0,2.0,2.0,2.0,2.0,2.0,2.0,2.0,2.0,2.0,2.0,2.0,2.0,2.0,2.0,2.0,2.0,2.0,2.0,2.0,2.0,2.5,2.5,2.5,2.5,2.5,2.5,2.5,2.5,2.5,2.5,2.5,2.5,2.5,2.5,2.5,2.5,2.5,2.5,2.5,2.5,2.5,2.5,2.5,2.5,2.5,2.5,2.5,2.5,2.5,2.5,2.5,2.5,2.5,2.5,2.5,2.5,2.5,2.5,2.5,2.5,2.5,2.5,2.5,2.5,2.5,2.5,2.5,2.5,2.5,2.5,2.5,2.5,2.5,2.5,2.5,2.5,2.5,2.5,2.5,2.5,2.5,2.5,2.5,2.5,2.5,2.5,2.5,2.5,2.5,2.5,2.5,2.5,2.5,2.5,2.5,2.5,2.5,2.5,2.5,2.5,2.5,2.5,2.5,2.5,2.5,2.5,2.5,2.5,2.5,2.5,2.5,2.5,2.5,2.5,2.5,2.5,2.5,2.5,2.5,2.5,2.5,2.5,2.5,2.5,2.5,2.5,2.5,2.5,2.5,2.5,2.5,2.5,2.5,2.5,2.5,3.0,3.0,3.0,3.0,3.0,3.0,3.0,3.0,3.0,3.0,3.0,3.0,3.0,3.0,3.0,3.0,3.0,3.0,3.0,3.0,3.0,3.0,3.0,3.0,3.0,3.0,3.0,3.0,3.0,3.0,3.0,3.0,3.0,3.0,3.0,3.0,3.0,3.0,3.0,3.0,3.0,3.0,3.0,3.0,3.0,3.0,3.0,3.0,3.0,3.0,3.0,3.0,3.0,3.0,3.0,3.0,3.0,3.0,3.0,3.0,3.0,3.0,3.0,3.0,3.0,3.0,3.0,3.0,3.0,3.0,3.0,3.0,3.0,3.0,3.0,3.0,3.0,3.0,3.0,3.0,3.0,3.0,3.0,3.0,3.0,3.0,3.0,3.0,3.0,3.0,3.0,3.0,3.0,3.0,3.0,3.0,3.0,3.0,3.0,3.0,3.0,3.0,3.0,3.0,3.0,3.0,3.0,3.0,3.0,3.0,3.0,3.0,3.0,3.0,3.0,3.5,3.5,3.5,3.5,3.5,3.5,3.5,3.5,3.5,3.5,3.5,3.5,3.5,3.5,3.5,3.5,3.5,3.5,3.5,3.5,3.5,3.5,3.5,3.5,3.5,3.5,3.5,3.5,3.5,3.5,3.5,3.5,3.5,3.5,3.5,3.5,3.5,3.5,3.5,3.5,3.5,3.5,3.5,3.5,3.5,3.5,3.5,3.5,3.5,3.5,3.5,3.5,3.5,3.5,3.5,3.5,3.5,3.5,3.5,3.5,3.5,3.5,3.5,3.5,3.5,3.5,3.5,3.5,3.5,3.5,3.5,3.5,3.5,3.5,3.5,3.5,3.5,3.5,3.5,3.5,3.5,3.5,3.5,3.5,3.5,3.5,3.5,3.5,3.5,3.5,3.5,3.5,3.5,3.5,3.5,3.5,3.5,3.5,3.5,3.5,3.5,3.5,3.5,3.5,3.5,3.5,3.5,3.5,3.5,3.5,3.5,3.5,3.5,3.5,3.5,4.0,4.0,4.0,4.0,4.0,4.0,4.0,4.0,4.0,4.0,4.0,4.0,4.0,4.0,4.0,4.0,4.0,4.0,4.0,4.0,4.0,4.0,4.0,4.0,4.0,4.0,4.0,4.0,4.0,4.0,4.0,4.0,4.0,4.0,4.0,4.0,4.0,4.0,4.0,4.0,4.0,4.0,4.0,4.0,4.0,4.0,4.0,4.0,4.0,4.0,4.0,4.0,4.0,4.0,4.0,4.0,4.0,4.0,4.0,4.0,4.0,4.0,4.0,4.0,4.0,4.0,4.0,4.0,4.0,4.0,4.0,4.0,4.0,4.0,4.0,4.0,4.0,4.0,4.0,4.0,4.0,4.0,4.0,4.0,4.0,4.0,4.0,4.0,4.0,4.0,4.0,4.0,4.0,4.0,4.0,4.0,4.0,4.0,4.0,4.0,4.0,4.0,4.0,4.0,4.0,4.0,4.0,4.0,4.0,4.0,4.0,4.0,4.0,4.0,4.0,4.5,4.5,4.5,4.5,4.5,4.5,4.5,4.5,4.5,4.5,4.5,4.5,4.5,4.5,4.5,4.5,4.5,4.5,4.5,4.5,4.5,4.5,4.5,4.5,4.5,4.5,4.5,4.5,4.5,4.5,4.5,4.5,4.5,4.5,4.5,4.5,4.5,4.5,4.5,4.5,4.5,4.5,4.5,4.5,4.5,4.5,4.5,4.5,4.5,4.5,4.5,4.5,4.5,4.5,4.5,4.5,4.5,4.5,4.5,4.5,4.5,4.5,4.5,4.5,4.5,4.5,4.5,4.5,4.5,4.5,4.5,4.5,4.5,4.5,4.5,4.5,4.5,4.5,4.5,4.5,4.5,4.5,4.5,4.5,4.5,4.5,4.5,4.5,4.5,4.5,4.5,4.5,4.5,4.5,4.5,4.5,4.5,4.5,4.5,4.5,4.5,4.5,4.5,4.5,4.5,4.5,4.5,4.5,4.5,4.5,4.5,4.5,4.5,4.5,4.5,5.0,5.0,5.0,5.0,5.0,5.0,5.0,5.0,5.0,5.0,5.0,5.0,5.0,5.0,5.0,5.0,5.0,5.0,5.0,5.0,5.0,5.0,5.0,5.0,5.0,5.0,5.0,5.0,5.0,5.0,5.0,5.0,5.0,5.0,5.0,5.0,5.0,5.0,5.0,5.0,5.0,5.0,5.0,5.0,5.0,5.0,5.0,5.0,5.0,5.0,5.0,5.0,5.0,5.0,5.0,5.0,5.0,5.0,5.0,5.0,5.0,5.0,5.0,5.0,5.0,5.0,5.0,5.0,5.0,5.0,5.0,5.0,5.0,5.0,5.0,5.0,5.0,5.0,5.0,5.0,5.0,5.0,5.0,5.0,5.0,5.0,5.0,5.0,5.0,5.0,5.0,5.0,5.0,5.0,5.0,5.0,5.0,5.0,5.0,5.0,5.0,5.0,5.0,5.0,5.0,5.0,5.0,5.0,5.0,5.0,5.0,5.0,5.0,5.0,5.0,5.5,5.5,5.5,5.5,5.5,5.5,5.5,5.5,5.5,5.5,5.5,5.5,5.5,5.5,5.5,5.5,5.5,5.5,5.5,5.5,5.5,5.5,5.5,5.5,5.5,5.5,5.5,5.5,5.5,5.5,5.5,5.5,5.5,5.5,5.5,5.5,5.5,5.5,5.5,5.5,5.5,5.5,5.5,5.5,5.5,5.5,5.5,5.5,5.5,5.5,5.5,5.5,5.5,5.5,5.5,5.5,5.5,5.5,5.5,5.5,5.5,5.5,5.5,5.5,5.5,5.5,5.5,5.5,5.5,5.5,5.5,5.5,5.5,5.5,5.5,5.5,5.5,5.5,5.5,5.5,5.5,5.5,5.5,5.5,5.5,5.5,5.5,5.5,5.5,5.5,5.5,5.5,5.5,5.5,5.5,5.5,5.5,5.5,5.5,5.5,5.5,5.5,5.5,5.5,5.5,5.5,5.5,5.5,5.5,5.5,5.5,5.5,5.5,5.5,5.5,2.0,2.0,2.0,2.0,2.0,2.0,2.0,2.0,2.0,2.0,2.0,2.0,2.0,2.0,2.0,2.0,2.0,2.0,2.0,2.0,2.0,2.0,2.0,2.0,2.0,2.0,2.0,2.0,2.0,2.0,2.0,2.0,2.0,2.0,2.0,2.0,2.0,2.0,2.0,2.0,2.0,2.0,2.0,2.0,2.0,2.0,2.0,2.0,2.0,2.0,2.0,2.0,2.0,2.0,2.0,2.0,2.0,2.0,2.0,2.0,2.0,2.0,2.0,2.0,2.0,2.0,2.0,2.0,2.0,2.0,2.0,2.0,2.0,2.0,2.0,2.0,2.0,2.0,2.0,2.0,2.0,2.0,2.0,2.0,2.0,2.0,2.0,2.0,2.0,2.0,2.0,2.0,2.0,2.0,2.0,2.0,2.0,2.0,2.0,2.0,2.0,2.0,2.0,2.0,2.0,2.0,2.0,2.0,2.0,2.0,2.0,2.0,2.0,2.0,2.0,2.5,2.5,2.5,2.5,2.5,2.5,2.5,2.5,2.5,2.5,2.5,2.5,2.5,2.5,2.5,2.5,2.5,2.5,2.5,2.5,2.5,2.5,2.5,2.5,2.5,2.5,2.5,2.5,2.5,2.5,2.5,2.5,2.5,2.5,2.5,2.5,2.5,2.5,2.5,2.5,2.5,2.5,2.5,2.5,2.5,2.5,2.5,2.5,2.5,2.5,2.5,2.5,2.5,2.5,2.5,2.5,2.5,2.5,2.5,2.5,2.5,2.5,2.5,2.5,2.5,2.5,2.5,2.5,2.5,2.5,2.5,2.5,2.5,2.5,2.5,2.5,2.5,2.5,2.5,2.5,2.5,2.5,2.5,2.5,2.5,2.5,2.5,2.5,2.5,2.5,2.5,2.5,2.5,2.5,2.5,2.5,2.5,2.5,2.5,2.5,2.5,2.5,2.5,2.5,2.5,2.5,2.5,2.5,2.5,2.5,2.5,2.5,2.5,2.5,2.5,3.0,3.0,3.0,3.0,3.0,3.0,3.0,3.0,3.0,3.0,3.0,3.0,3.0,3.0,3.0,3.0,3.0,3.0,3.0,3.0,3.0,3.0,3.0,3.0,3.0,3.0,3.0,3.0,3.0,3.0,3.0,3.0,3.0,3.0,3.0,3.0,3.0,3.0,3.0,3.0,3.0,3.0,3.0,3.0,3.0,3.0,3.0,3.0,3.0,3.0,3.0,3.0,3.0,3.0,3.0,3.0,3.0,3.0,3.0,3.0,3.0,3.0,3.0,3.0,3.0,3.0,3.0,3.0,3.0,3.0,3.0,3.0,3.0,3.0,3.0,3.0,3.0,3.0,3.0,3.0,3.0,3.0,3.0,3.0,3.0,3.0,3.0,3.0,3.0,3.0,3.0,3.0,3.0,3.0,3.0,3.0,3.0,3.0,3.0,3.0,3.0,3.0,3.0,3.0,3.0,3.0,3.0,3.0,3.0,3.0,3.0,3.0,3.0,3.0,3.0,3.5,3.5,3.5,3.5,3.5,3.5,3.5,3.5,3.5,3.5,3.5,3.5,3.5,3.5,3.5,3.5,3.5,3.5,3.5,3.5,3.5,3.5,3.5,3.5,3.5,3.5,3.5,3.5,3.5,3.5,3.5,3.5,3.5,3.5,3.5,3.5,3.5,3.5,3.5,3.5,3.5,3.5,3.5,3.5,3.5,3.5,3.5,3.5,3.5,3.5,3.5,3.5,3.5,3.5,3.5,3.5,3.5,3.5,3.5,3.5,3.5,3.5,3.5,3.5,3.5,3.5,3.5,3.5,3.5,3.5,3.5,3.5,3.5,3.5,3.5,3.5,3.5,3.5,3.5,3.5,3.5,3.5,3.5,3.5,3.5,3.5,3.5,3.5,3.5,3.5,3.5,3.5,3.5,3.5,3.5,3.5,3.5,3.5,3.5,3.5,3.5,3.5,3.5,3.5,3.5,3.5,3.5,3.5,3.5,3.5,3.5,3.5,3.5,3.5,3.5,4.0,4.0,4.0,4.0,4.0,4.0,4.0,4.0,4.0,4.0,4.0,4.0,4.0,4.0,4.0,4.0,4.0,4.0,4.0,4.0,4.0,4.0,4.0,4.0,4.0,4.0,4.0,4.0,4.0,4.0,4.0,4.0,4.0,4.0,4.0,4.0,4.0,4.0,4.0,4.0,4.0,4.0,4.0,4.0,4.0,4.0,4.0,4.0,4.0,4.0,4.0,4.0,4.0,4.0,4.0,4.0,4.0,4.0,4.0,4.0,4.0,4.0,4.0,4.0,4.0,4.0,4.0,4.0,4.0,4.0,4.0,4.0,4.0,4.0,4.0,4.0,4.0,4.0,4.0,4.0,4.0,4.0,4.0,4.0,4.0,4.0,4.0,4.0,4.0,4.0,4.0,4.0,4.0,4.0,4.0,4.0,4.0,4.0,4.0,4.0,4.0,4.0,4.0,4.0,4.0,4.0,4.0,4.0,4.0,4.0,4.0,4.0,4.0,4.0,4.0,4.5,4.5,4.5,4.5,4.5,4.5,4.5,4.5,4.5,4.5,4.5,4.5,4.5,4.5,4.5,4.5,4.5,4.5,4.5,4.5,4.5,4.5,4.5,4.5,4.5,4.5,4.5,4.5,4.5,4.5,4.5,4.5,4.5,4.5,4.5,4.5,4.5,4.5,4.5,4.5,4.5,4.5,4.5,4.5,4.5,4.5,4.5,4.5,4.5,4.5,4.5,4.5,4.5,4.5,4.5,4.5,4.5,4.5,4.5,4.5,4.5,4.5,4.5,4.5,4.5,4.5,4.5,4.5,4.5,4.5,4.5,4.5,4.5,4.5,4.5,4.5,4.5,4.5,4.5,4.5,4.5,4.5,4.5,4.5,4.5,4.5,4.5,4.5,4.5,4.5,4.5,4.5,4.5,4.5,4.5,4.5,4.5,4.5,4.5,4.5,4.5,4.5,4.5,4.5,4.5,4.5,4.5,4.5,4.5,4.5,4.5,4.5,4.5,4.5,4.5,5.0,5.0,5.0,5.0,5.0,5.0,5.0,5.0,5.0,5.0,5.0,5.0,5.0,5.0,5.0,5.0,5.0,5.0,5.0,5.0,5.0,5.0,5.0,5.0,5.0,5.0,5.0,5.0,5.0,5.0,5.0,5.0,5.0,5.0,5.0,5.0,5.0,5.0,5.0,5.0,5.0,5.0,5.0,5.0,5.0,5.0,5.0,5.0,5.0,5.0,5.0,5.0,5.0,5.0,5.0,5.0,5.0,5.0,5.0,5.0,5.0,5.0,5.0,5.0,5.0,5.0,5.0,5.0,5.0,5.0,5.0,5.0,5.0,5.0,5.0,5.0,5.0,5.0,5.0,5.0,5.0,5.0,5.0,5.0,5.0,5.0,5.0,5.0,5.0,5.0,5.0,5.0,5.0,5.0,5.0,5.0,5.0,5.0,5.0,5.0,5.0,5.0,5.0,5.0,5.0,5.0,5.0,5.0,5.0,5.0,5.0,5.0,5.0,5.0,5.0,5.5,5.5,5.5,5.5,5.5,5.5,5.5,5.5,5.5,5.5,5.5,5.5,5.5,5.5,5.5,5.5,5.5,5.5,5.5,5.5,5.5,5.5,5.5,5.5,5.5,5.5,5.5,5.5,5.5,5.5,5.5,5.5,5.5,5.5,5.5,5.5,5.5,5.5,5.5,5.5,5.5,5.5,5.5,5.5,5.5,5.5,5.5,5.5,5.5,5.5,5.5,5.5,5.5,5.5,5.5,5.5,5.5,5.5,5.5,5.5,5.5,5.5,5.5,5.5,5.5,5.5,5.5,5.5,5.5,5.5,5.5,5.5,5.5,5.5,5.5,5.5,5.5,5.5,5.5,5.5,5.5,5.5,5.5,5.5,5.5,5.5,5.5,5.5,5.5,5.5,5.5,5.5,5.5,5.5,5.5,5.5,5.5,5.5,5.5,5.5,5.5,5.5,5.5,5.5,5.5,5.5,5.5,5.5,5.5,5.5,5.5,5.5,5.5,5.5,5.5,2.0,2.0,2.0,2.0,2.0,2.0,2.0,2.0,2.0,2.0,2.0,2.0,2.0,2.0,2.0,2.0,2.0,2.0,2.0,2.0,2.0,2.0,2.0,2.0,2.0,2.0,2.0,2.0,2.0,2.0,2.0,2.0,2.0,2.0,2.0,2.0,2.0,2.0,2.0,2.0,2.0,2.0,2.0,2.0,2.0,2.0,2.0,2.0,2.0,2.0,2.0,2.0,2.0,2.0,2.0,2.0,2.0,2.0,2.0,2.0,2.0,2.0,2.0,2.0,2.0,2.0,2.0,2.0,2.0,2.0,2.0,2.0,2.0,2.0,2.0,2.0,2.0,2.0,2.0,2.0,2.0,2.0,2.0,2.0,2.0,2.0,2.0,2.0,2.0,2.0,2.0,2.0,2.0,2.0,2.0,2.0,2.0,2.0,2.0,2.0,2.0,2.0,2.0,2.0,2.0,2.0,2.0,2.0,2.0,2.0,2.0,2.0,2.0,2.0,2.0,2.5,2.5,2.5,2.5,2.5,2.5,2.5,2.5,2.5,2.5,2.5,2.5,2.5,2.5,2.5,2.5,2.5,2.5,2.5,2.5,2.5,2.5,2.5,2.5,2.5,2.5,2.5,2.5,2.5,2.5,2.5,2.5,2.5,2.5,2.5,2.5,2.5,2.5,2.5,2.5,2.5,2.5,2.5,2.5,2.5,2.5,2.5,2.5,2.5,2.5,2.5,2.5,2.5,2.5,2.5,2.5,2.5,2.5,2.5,2.5,2.5,2.5,2.5,2.5,2.5,2.5,2.5,2.5,2.5,2.5,2.5,2.5,2.5,2.5,2.5,2.5,2.5,2.5,2.5,2.5,2.5,2.5,2.5,2.5,2.5,2.5,2.5,2.5,2.5,2.5,2.5,2.5,2.5,2.5,2.5,2.5,2.5,2.5,2.5,2.5,2.5,2.5,2.5,2.5,2.5,2.5,2.5,2.5,2.5,2.5,2.5,2.5,2.5,2.5,2.5,3.0,3.0,3.0,3.0,3.0,3.0,3.0,3.0,3.0,3.0,3.0,3.0,3.0,3.0,3.0,3.0,3.0,3.0,3.0,3.0,3.0,3.0,3.0,3.0,3.0,3.0,3.0,3.0,3.0,3.0,3.0,3.0,3.0,3.0,3.0,3.0,3.0,3.0,3.0,3.0,3.0,3.0,3.0,3.0,3.0,3.0,3.0,3.0,3.0,3.0,3.0,3.0,3.0,3.0,3.0,3.0,3.0,3.0,3.0,3.0,3.0,3.0,3.0,3.0,3.0,3.0,3.0,3.0,3.0,3.0,3.0,3.0,3.0,3.0,3.0,3.0,3.0,3.0,3.0,3.0,3.0,3.0,3.0,3.0,3.0,3.0,3.0,3.0,3.0,3.0,3.0,3.0,3.0,3.0,3.0,3.0,3.0,3.0,3.0,3.0,3.0,3.0,3.0,3.0,3.0,3.0,3.0,3.0,3.0,3.0,3.0,3.0,3.0,3.0,3.0,3.5,3.5,3.5,3.5,3.5,3.5,3.5,3.5,3.5,3.5,3.5,3.5,3.5,3.5,3.5,3.5,3.5,3.5,3.5,3.5,3.5,3.5,3.5,3.5,3.5,3.5,3.5,3.5,3.5,3.5,3.5,3.5,3.5,3.5,3.5,3.5,3.5,3.5,3.5,3.5,3.5,3.5,3.5,3.5,3.5,3.5,3.5,3.5,3.5,3.5,3.5,3.5,3.5,3.5,3.5,3.5,3.5,3.5,3.5,3.5,3.5,3.5,3.5,3.5,3.5,3.5,3.5,3.5,3.5,3.5,3.5,3.5,3.5,3.5,3.5,3.5,3.5,3.5,3.5,3.5,3.5,3.5,3.5,3.5,3.5,3.5,3.5,3.5,3.5,3.5,3.5,3.5,3.5,3.5,3.5,3.5,3.5,3.5,3.5,3.5,3.5,3.5,3.5,3.5,3.5,3.5,3.5,3.5,3.5,3.5,3.5,3.5,3.5,3.5,3.5,4.0,4.0,4.0,4.0,4.0,4.0,4.0,4.0,4.0,4.0,4.0,4.0,4.0,4.0,4.0,4.0,4.0,4.0,4.0,4.0,4.0,4.0,4.0,4.0,4.0,4.0,4.0,4.0,4.0,4.0,4.0,4.0,4.0,4.0,4.0,4.0,4.0,4.0,4.0,4.0,4.0,4.0,4.0,4.0,4.0,4.0,4.0,4.0,4.0,4.0,4.0,4.0,4.0,4.0,4.0,4.0,4.0,4.0,4.0,4.0,4.0,4.0,4.0,4.0,4.0,4.0,4.0,4.0,4.0,4.0,4.0,4.0,4.0,4.0,4.0,4.0,4.0,4.0,4.0,4.0,4.0,4.0,4.0,4.0,4.0,4.0,4.0,4.0,4.0,4.0,4.0,4.0,4.0,4.0,4.0,4.0,4.0,4.0,4.0,4.0,4.0,4.0,4.0,4.0,4.0,4.0,4.0,4.0,4.0,4.0,4.0,4.0,4.0,4.0,4.0,4.5,4.5,4.5,4.5,4.5,4.5,4.5,4.5,4.5,4.5,4.5,4.5,4.5,4.5,4.5,4.5,4.5,4.5,4.5,4.5,4.5,4.5,4.5,4.5,4.5,4.5,4.5,4.5,4.5,4.5,4.5,4.5,4.5,4.5,4.5,4.5,4.5,4.5,4.5,4.5,4.5,4.5,4.5,4.5,4.5,4.5,4.5,4.5,4.5,4.5,4.5,4.5,4.5,4.5,4.5,4.5,4.5,4.5,4.5,4.5,4.5,4.5,4.5,4.5,4.5,4.5,4.5,4.5,4.5,4.5,4.5,4.5,4.5,4.5,4.5,4.5,4.5,4.5,4.5,4.5,4.5,4.5,4.5,4.5,4.5,4.5,4.5,4.5,4.5,4.5,4.5,4.5,4.5,4.5,4.5,4.5,4.5,4.5,4.5,4.5,4.5,4.5,4.5,4.5,4.5,4.5,4.5,4.5,4.5,4.5,4.5,4.5,4.5,4.5,4.5,5.0,5.0,5.0,5.0,5.0,5.0,5.0,5.0,5.0,5.0,5.0,5.0,5.0,5.0,5.0,5.0,5.0,5.0,5.0,5.0,5.0,5.0,5.0,5.0,5.0,5.0,5.0,5.0,5.0,5.0,5.0,5.0,5.0,5.0,5.0,5.0,5.0,5.0,5.0,5.0,5.0,5.0,5.0,5.0,5.0,5.0,5.0,5.0,5.0,5.0,5.0,5.0,5.0,5.0,5.0,5.0,5.0,5.0,5.0,5.0,5.0,5.0,5.0,5.0,5.0,5.0,5.0,5.0,5.0,5.0,5.0,5.0,5.0,5.0,5.0,5.0,5.0,5.0,5.0,5.0,5.0,5.0,5.0,5.0,5.0,5.0,5.0,5.0,5.0,5.0,5.0,5.0,5.0,5.0,5.0,5.0,5.0,5.0,5.0,5.0,5.0,5.0,5.0,5.0,5.0,5.0,5.0,5.0,5.0,5.0,5.0,5.0,5.0,5.0,5.0,5.5,5.5,5.5,5.5,5.5,5.5,5.5,5.5,5.5,5.5,5.5,5.5,5.5,5.5,5.5,5.5,5.5,5.5,5.5,5.5,5.5,5.5,5.5,5.5,5.5,5.5,5.5,5.5,5.5,5.5,5.5,5.5,5.5,5.5,5.5,5.5,5.5,5.5,5.5,5.5,5.5,5.5,5.5,5.5,5.5,5.5,5.5,5.5,5.5,5.5,5.5,5.5,5.5,5.5,5.5,5.5,5.5,5.5,5.5,5.5,5.5,5.5,5.5,5.5,5.5,5.5,5.5,5.5,5.5,5.5,5.5,5.5,5.5,5.5,5.5,5.5,5.5,5.5,5.5,5.5,5.5,5.5,5.5,5.5,5.5,5.5,5.5,5.5,5.5,5.5,5.5,5.5,5.5,5.5,5.5,5.5,5.5,5.5,5.5,5.5,5.5,5.5,5.5,5.5,5.5,5.5,5.5,5.5,5.5,5.5,5.5,5.5,5.5,5.5,5.5,2.0,2.0,2.0,2.0,2.0,2.0,2.0,2.0,2.0,2.0,2.0,2.0,2.0,2.0,2.0,2.0,2.0,2.0,2.0,2.0,2.0,2.0,2.0,2.0,2.0,2.0,2.0,2.0,2.0,2.0,2.0,2.0,2.0,2.0,2.0,2.0,2.0,2.0,2.0,2.0,2.0,2.0,2.0,2.0,2.0,2.0,2.0,2.0,2.0,2.0,2.0,2.0,2.0,2.0,2.0,2.0,2.0,2.0,2.0,2.0,2.0,2.0,2.0,2.0,2.0,2.0,2.0,2.0,2.0,2.0,2.0,2.0,2.0,2.0,2.0,2.0,2.0,2.0,2.0,2.0,2.0,2.0,2.0,2.0,2.0,2.0,2.0,2.0,2.0,2.0,2.0,2.0,2.0,2.0,2.0,2.0,2.0,2.0,2.0,2.0,2.0,2.0,2.0,2.0,2.0,2.0,2.0,2.0,2.0,2.0,2.0,2.0,2.0,2.0,2.0,2.5,2.5,2.5,2.5,2.5,2.5,2.5,2.5,2.5,2.5,2.5,2.5,2.5,2.5,2.5,2.5,2.5,2.5,2.5,2.5,2.5,2.5,2.5,2.5,2.5,2.5,2.5,2.5,2.5,2.5,2.5,2.5,2.5,2.5,2.5,2.5,2.5,2.5,2.5,2.5,2.5,2.5,2.5,2.5,2.5,2.5,2.5,2.5,2.5,2.5,2.5,2.5,2.5,2.5,2.5,2.5,2.5,2.5,2.5,2.5,2.5,2.5,2.5,2.5,2.5,2.5,2.5,2.5,2.5,2.5,2.5,2.5,2.5,2.5,2.5,2.5,2.5,2.5,2.5,2.5,2.5,2.5,2.5,2.5,2.5,2.5,2.5,2.5,2.5,2.5,2.5,2.5,2.5,2.5,2.5,2.5,2.5,2.5,2.5,2.5,2.5,2.5,2.5,2.5,2.5,2.5,2.5,2.5,2.5,2.5,2.5,2.5,2.5,2.5,2.5,3.0,3.0,3.0,3.0,3.0,3.0,3.0,3.0,3.0,3.0,3.0,3.0,3.0,3.0,3.0,3.0,3.0,3.0,3.0,3.0,3.0,3.0,3.0,3.0,3.0,3.0,3.0,3.0,3.0,3.0,3.0,3.0,3.0,3.0,3.0,3.0,3.0,3.0,3.0,3.0,3.0,3.0,3.0,3.0,3.0,3.0,3.0,3.0,3.0,3.0,3.0,3.0,3.0,3.0,3.0,3.0,3.0,3.0,3.0,3.0,3.0,3.0,3.0,3.0,3.0,3.0,3.0,3.0,3.0,3.0,3.0,3.0,3.0,3.0,3.0,3.0,3.0,3.0,3.0,3.0,3.0,3.0,3.0,3.0,3.0,3.0,3.0,3.0,3.0,3.0,3.0,3.0,3.0,3.0,3.0,3.0,3.0,3.0,3.0,3.0,3.0,3.0,3.0,3.0,3.0,3.0,3.0,3.0,3.0,3.0,3.0,3.0,3.0,3.0,3.0,3.5,3.5,3.5,3.5,3.5,3.5,3.5,3.5,3.5,3.5,3.5,3.5,3.5,3.5,3.5,3.5,3.5,3.5,3.5,3.5,3.5,3.5,3.5,3.5,3.5,3.5,3.5,3.5,3.5,3.5,3.5,3.5,3.5,3.5,3.5,3.5,3.5,3.5,3.5,3.5,3.5,3.5,3.5,3.5,3.5,3.5,3.5,3.5,3.5,3.5,3.5,3.5,3.5,3.5,3.5,3.5,3.5,3.5,3.5,3.5,3.5,3.5,3.5,3.5,3.5,3.5,3.5,3.5,3.5,3.5,3.5,3.5,3.5,3.5,3.5,3.5,3.5,3.5,3.5,3.5,3.5,3.5,3.5,3.5,3.5,3.5,3.5,3.5,3.5,3.5,3.5,3.5,3.5,3.5,3.5,3.5,3.5,3.5,3.5,3.5,3.5,3.5,3.5,3.5,3.5,3.5,3.5,3.5,3.5,3.5,3.5,3.5,3.5,3.5,3.5,4.0,4.0,4.0,4.0,4.0,4.0,4.0,4.0,4.0,4.0,4.0,4.0,4.0,4.0,4.0,4.0,4.0,4.0,4.0,4.0,4.0,4.0,4.0,4.0,4.0,4.0,4.0,4.0,4.0,4.0,4.0,4.0,4.0,4.0,4.0,4.0,4.0,4.0,4.0,4.0,4.0,4.0,4.0,4.0,4.0,4.0,4.0,4.0,4.0,4.0,4.0,4.0,4.0,4.0,4.0,4.0,4.0,4.0,4.0,4.0,4.0,4.0,4.0,4.0,4.0,4.0,4.0,4.0,4.0,4.0,4.0,4.0,4.0,4.0,4.0,4.0,4.0,4.0,4.0,4.0,4.0,4.0,4.0,4.0,4.0,4.0,4.0,4.0,4.0,4.0,4.0,4.0,4.0,4.0,4.0,4.0,4.0,4.0,4.0,4.0,4.0,4.0,4.0,4.0,4.0,4.0,4.0,4.0,4.0,4.0,4.0,4.0,4.0,4.0,4.0,4.5,4.5,4.5,4.5,4.5,4.5,4.5,4.5,4.5,4.5,4.5,4.5,4.5,4.5,4.5,4.5,4.5,4.5,4.5,4.5,4.5,4.5,4.5,4.5,4.5,4.5,4.5,4.5,4.5,4.5,4.5,4.5,4.5,4.5,4.5,4.5,4.5,4.5,4.5,4.5,4.5,4.5,4.5,4.5,4.5,4.5,4.5,4.5,4.5,4.5,4.5,4.5,4.5,4.5,4.5,4.5,4.5,4.5,4.5,4.5,4.5,4.5,4.5,4.5,4.5,4.5,4.5,4.5,4.5,4.5,4.5,4.5,4.5,4.5,4.5,4.5,4.5,4.5,4.5,4.5,4.5,4.5,4.5,4.5,4.5,4.5,4.5,4.5,4.5,4.5,4.5,4.5,4.5,4.5,4.5,4.5,4.5,4.5,4.5,4.5,4.5,4.5,4.5,4.5,4.5,4.5,4.5,4.5,4.5,4.5,4.5,4.5,4.5,4.5,4.5,5.0,5.0,5.0,5.0,5.0,5.0,5.0,5.0,5.0,5.0,5.0,5.0,5.0,5.0,5.0,5.0,5.0,5.0,5.0,5.0,5.0,5.0,5.0,5.0,5.0,5.0,5.0,5.0,5.0,5.0,5.0,5.0,5.0,5.0,5.0,5.0,5.0,5.0,5.0,5.0,5.0,5.0,5.0,5.0,5.0,5.0,5.0,5.0,5.0,5.0,5.0,5.0,5.0,5.0,5.0,5.0,5.0,5.0,5.0,5.0,5.0,5.0,5.0,5.0,5.0,5.0,5.0,5.0,5.0,5.0,5.0,5.0,5.0,5.0,5.0,5.0,5.0,5.0,5.0,5.0,5.0,5.0,5.0,5.0,5.0,5.0,5.0,5.0,5.0,5.0,5.0,5.0,5.0,5.0,5.0,5.0,5.0,5.0,5.0,5.0,5.0,5.0,5.0,5.0,5.0,5.0,5.0,5.0,5.0,5.0,5.0,5.0,5.0,5.0,5.0,5.5,5.5,5.5,5.5,5.5,5.5,5.5,5.5,5.5,5.5,5.5,5.5,5.5,5.5,5.5,5.5,5.5,5.5,5.5,5.5,5.5,5.5,5.5,5.5,5.5,5.5,5.5,5.5,5.5,5.5,5.5,5.5,5.5,5.5,5.5,5.5,5.5,5.5,5.5,5.5,5.5,5.5,5.5,5.5,5.5,5.5,5.5,5.5,5.5,5.5,5.5,5.5,5.5,5.5,5.5,5.5,5.5,5.5,5.5,5.5,5.5,5.5,5.5,5.5,5.5,5.5,5.5,5.5,5.5,5.5,5.5,5.5,5.5,5.5,5.5,5.5,5.5,5.5,5.5,5.5,5.5,5.5,5.5,5.5,5.5,5.5,5.5,5.5,5.5,5.5,5.5,5.5,5.5,5.5,5.5,5.5,5.5,5.5,5.5,5.5,5.5,5.5,5.5,5.5,5.5,5.5,5.5,5.5,5.5,5.5,5.5,5.5,5.5,5.5,5.5,2.0,2.0,2.0,2.0,2.0,2.0,2.0,2.0,2.0,2.0,2.0,2.0,2.0,2.0,2.0,2.0,2.0,2.0,2.0,2.0,2.0,2.0,2.0,2.0,2.0,2.0,2.0,2.0,2.0,2.0,2.0,2.0,2.0,2.0,2.0,2.0,2.0,2.0,2.0,2.0,2.0,2.0,2.0,2.0,2.0,2.0,2.0,2.0,2.0,2.0,2.0,2.0,2.0,2.0,2.0,2.0,2.0,2.0,2.0,2.0,2.0,2.0,2.0,2.0,2.0,2.0,2.0,2.0,2.0,2.0,2.0,2.0,2.0,2.0,2.0,2.0,2.0,2.0,2.0,2.0,2.0,2.0,2.0,2.0,2.0,2.0,2.0,2.0,2.0,2.0,2.0,2.0,2.0,2.0,2.0,2.0,2.0,2.0,2.0,2.0,2.0,2.0,2.0,2.0,2.0,2.0,2.0,2.0,2.0,2.0,2.0,2.0,2.0,2.0,2.0,2.5,2.5,2.5,2.5,2.5,2.5,2.5,2.5,2.5,2.5,2.5,2.5,2.5,2.5,2.5,2.5,2.5,2.5,2.5,2.5,2.5,2.5,2.5,2.5,2.5,2.5,2.5,2.5,2.5,2.5,2.5,2.5,2.5,2.5,2.5,2.5,2.5,2.5,2.5,2.5,2.5,2.5,2.5,2.5,2.5,2.5,2.5,2.5,2.5,2.5,2.5,2.5,2.5,2.5,2.5,2.5,2.5,2.5,2.5,2.5,2.5,2.5,2.5,2.5,2.5,2.5,2.5,2.5,2.5,2.5,2.5,2.5,2.5,2.5,2.5,2.5,2.5,2.5,2.5,2.5,2.5,2.5,2.5,2.5,2.5,2.5,2.5,2.5,2.5,2.5,2.5,2.5,2.5,2.5,2.5,2.5,2.5,2.5,2.5,2.5,2.5,2.5,2.5,2.5,2.5,2.5,2.5,2.5,2.5,2.5,2.5,2.5,2.5,2.5,2.5,3.0,3.0,3.0,3.0,3.0,3.0,3.0,3.0,3.0,3.0,3.0,3.0,3.0,3.0,3.0,3.0,3.0,3.0,3.0,3.0,3.0,3.0,3.0,3.0,3.0,3.0,3.0,3.0,3.0,3.0,3.0,3.0,3.0,3.0,3.0,3.0,3.0,3.0,3.0,3.0,3.0,3.0,3.0,3.0,3.0,3.0,3.0,3.0,3.0,3.0,3.0,3.0,3.0,3.0,3.0,3.0,3.0,3.0,3.0,3.0,3.0,3.0,3.0,3.0,3.0,3.0,3.0,3.0,3.0,3.0,3.0,3.0,3.0,3.0,3.0,3.0,3.0,3.0,3.0,3.0,3.0,3.0,3.0,3.0,3.0,3.0,3.0,3.0,3.0,3.0,3.0,3.0,3.0,3.0,3.0,3.0,3.0,3.0,3.0,3.0,3.0,3.0,3.0,3.0,3.0,3.0,3.0,3.0,3.0,3.0,3.0,3.0,3.0,3.0,3.0,3.5,3.5,3.5,3.5,3.5,3.5,3.5,3.5,3.5,3.5,3.5,3.5,3.5,3.5,3.5,3.5,3.5,3.5,3.5,3.5,3.5,3.5,3.5,3.5,3.5,3.5,3.5,3.5,3.5,3.5,3.5,3.5,3.5,3.5,3.5,3.5,3.5,3.5,3.5,3.5,3.5,3.5,3.5,3.5,3.5,3.5,3.5,3.5,3.5,3.5,3.5,3.5,3.5,3.5,3.5,3.5,3.5,3.5,3.5,3.5,3.5,3.5,3.5,3.5,3.5,3.5,3.5,3.5,3.5,3.5,3.5,3.5,3.5,3.5,3.5,3.5,3.5,3.5,3.5,3.5,3.5,3.5,3.5,3.5,3.5,3.5,3.5,3.5,3.5,3.5,3.5,3.5,3.5,3.5,3.5,3.5,3.5,3.5,3.5,3.5,3.5,3.5,3.5,3.5,3.5,3.5,3.5,3.5,3.5,3.5,3.5,3.5,3.5,3.5,3.5,4.0,4.0,4.0,4.0,4.0,4.0,4.0,4.0,4.0,4.0,4.0,4.0,4.0,4.0,4.0,4.0,4.0,4.0,4.0,4.0,4.0,4.0,4.0,4.0,4.0,4.0,4.0,4.0,4.0,4.0,4.0,4.0,4.0,4.0,4.0,4.0,4.0,4.0,4.0,4.0,4.0,4.0,4.0,4.0,4.0,4.0,4.0,4.0,4.0,4.0,4.0,4.0,4.0,4.0,4.0,4.0,4.0,4.0,4.0,4.0,4.0,4.0,4.0,4.0,4.0,4.0,4.0,4.0,4.0,4.0,4.0,4.0,4.0,4.0,4.0,4.0,4.0,4.0,4.0,4.0,4.0,4.0,4.0,4.0,4.0,4.0,4.0,4.0,4.0,4.0,4.0,4.0,4.0,4.0,4.0,4.0,4.0,4.0,4.0,4.0,4.0,4.0,4.0,4.0,4.0,4.0,4.0,4.0,4.0,4.0,4.0,4.0,4.0,4.0,4.0,4.5,4.5,4.5,4.5,4.5,4.5,4.5,4.5,4.5,4.5,4.5,4.5,4.5,4.5,4.5,4.5,4.5,4.5,4.5,4.5,4.5,4.5,4.5,4.5,4.5,4.5,4.5,4.5,4.5,4.5,4.5,4.5,4.5,4.5,4.5,4.5,4.5,4.5,4.5,4.5,4.5,4.5,4.5,4.5,4.5,4.5,4.5,4.5,4.5,4.5,4.5,4.5,4.5,4.5,4.5,4.5,4.5,4.5,4.5,4.5,4.5,4.5,4.5,4.5,4.5,4.5,4.5,4.5,4.5,4.5,4.5,4.5,4.5,4.5,4.5,4.5,4.5,4.5,4.5,4.5,4.5,4.5,4.5,4.5,4.5,4.5,4.5,4.5,4.5,4.5,4.5,4.5,4.5,4.5,4.5,4.5,4.5,4.5,4.5,4.5,4.5,4.5,4.5,4.5,4.5,4.5,4.5,4.5,4.5,4.5,4.5,4.5,4.5,4.5,4.5,5.0,5.0,5.0,5.0,5.0,5.0,5.0,5.0,5.0,5.0,5.0,5.0,5.0,5.0,5.0,5.0,5.0,5.0,5.0,5.0,5.0,5.0,5.0,5.0,5.0,5.0,5.0,5.0,5.0,5.0,5.0,5.0,5.0,5.0,5.0,5.0,5.0,5.0,5.0,5.0,5.0,5.0,5.0,5.0,5.0,5.0,5.0,5.0,5.0,5.0,5.0,5.0,5.0,5.0,5.0,5.0,5.0,5.0,5.0,5.0,5.0,5.0,5.0,5.0,5.0,5.0,5.0,5.0,5.0,5.0,5.0,5.0,5.0,5.0,5.0,5.0,5.0,5.0,5.0,5.0,5.0,5.0,5.0,5.0,5.0,5.0,5.0,5.0,5.0,5.0,5.0,5.0,5.0,5.0,5.0,5.0,5.0,5.0,5.0,5.0,5.0,5.0,5.0,5.0,5.0,5.0,5.0,5.0,5.0,5.0,5.0,5.0,5.0,5.0,5.0,5.5,5.5,5.5,5.5,5.5,5.5,5.5,5.5,5.5,5.5,5.5,5.5,5.5,5.5,5.5,5.5,5.5,5.5,5.5,5.5,5.5,5.5,5.5,5.5,5.5,5.5,5.5,5.5,5.5,5.5,5.5,5.5,5.5,5.5,5.5,5.5,5.5,5.5,5.5,5.5,5.5,5.5,5.5,5.5,5.5,5.5,5.5,5.5,5.5,5.5,5.5,5.5,5.5,5.5,5.5,5.5,5.5,5.5,5.5,5.5,5.5,5.5,5.5,5.5,5.5,5.5,5.5,5.5,5.5,5.5,5.5,5.5,5.5,5.5,5.5,5.5,5.5,5.5,5.5,5.5,5.5,5.5,5.5,5.5,5.5,5.5,5.5,5.5,5.5,5.5,5.5,5.5,5.5,5.5,5.5,5.5,5.5,5.5,5.5,5.5,5.5,5.5,5.5,5.5,5.5,5.5,5.5,5.5,5.5,5.5,5.5,5.5,5.5,5.5,5.5,2.0,2.0,2.0,2.0,2.0,2.0,2.0,2.0,2.0,2.0,2.0,2.0,2.0,2.0,2.0,2.0,2.0,2.0,2.0,2.0,2.0,2.0,2.0,2.0,2.0,2.0,2.0,2.0,2.0,2.0,2.0,2.0,2.0,2.0,2.0,2.0,2.0,2.0,2.0,2.0,2.0,2.0,2.0,2.0,2.0,2.0,2.0,2.0,2.0,2.0,2.0,2.0,2.0,2.0,2.0,2.0,2.0,2.0,2.0,2.0,2.0,2.0,2.0,2.0,2.0,2.0,2.0,2.0,2.0,2.0,2.0,2.0,2.0,2.0,2.0,2.0,2.0,2.0,2.0,2.0,2.0,2.0,2.0,2.0,2.0,2.0,2.0,2.0,2.0,2.0,2.0,2.0,2.0,2.0,2.0,2.0,2.0,2.0,2.0,2.0,2.0,2.0,2.0,2.0,2.0,2.0,2.0,2.0,2.0,2.0,2.0,2.0,2.0,2.0,2.0,2.5,2.5,2.5,2.5,2.5,2.5,2.5,2.5,2.5,2.5,2.5,2.5,2.5,2.5,2.5,2.5,2.5,2.5,2.5,2.5,2.5,2.5,2.5,2.5,2.5,2.5,2.5,2.5,2.5,2.5,2.5,2.5,2.5,2.5,2.5,2.5,2.5,2.5,2.5,2.5,2.5,2.5,2.5,2.5,2.5,2.5,2.5,2.5,2.5,2.5,2.5,2.5,2.5,2.5,2.5,2.5,2.5,2.5,2.5,2.5,2.5,2.5,2.5,2.5,2.5,2.5,2.5,2.5,2.5,2.5,2.5,2.5,2.5,2.5,2.5,2.5,2.5,2.5,2.5,2.5,2.5,2.5,2.5,2.5,2.5,2.5,2.5,2.5,2.5,2.5,2.5,2.5,2.5,2.5,2.5,2.5,2.5,2.5,2.5,2.5,2.5,2.5,2.5,2.5,2.5,2.5,2.5,2.5,2.5,2.5,2.5,2.5,2.5,2.5,2.5,3.0,3.0,3.0,3.0,3.0,3.0,3.0,3.0,3.0,3.0,3.0,3.0,3.0,3.0,3.0,3.0,3.0,3.0,3.0,3.0,3.0,3.0,3.0,3.0,3.0,3.0,3.0,3.0,3.0,3.0,3.0,3.0,3.0,3.0,3.0,3.0,3.0,3.0,3.0,3.0,3.0,3.0,3.0,3.0,3.0,3.0,3.0,3.0,3.0,3.0,3.0,3.0,3.0,3.0,3.0,3.0,3.0,3.0,3.0,3.0,3.0,3.0,3.0,3.0,3.0,3.0,3.0,3.0,3.0,3.0,3.0,3.0,3.0,3.0,3.0,3.0,3.0,3.0,3.0,3.0,3.0,3.0,3.0,3.0,3.0,3.0,3.0,3.0,3.0,3.0,3.0,3.0,3.0,3.0,3.0,3.0,3.0,3.0,3.0,3.0,3.0,3.0,3.0,3.0,3.0,3.0,3.0,3.0,3.0,3.0,3.0,3.0,3.0,3.0,3.0,3.5,3.5,3.5,3.5,3.5,3.5,3.5,3.5,3.5,3.5,3.5,3.5,3.5,3.5,3.5,3.5,3.5,3.5,3.5,3.5,3.5,3.5,3.5,3.5,3.5,3.5,3.5,3.5,3.5,3.5,3.5,3.5,3.5,3.5,3.5,3.5,3.5,3.5,3.5,3.5,3.5,3.5,3.5,3.5,3.5,3.5,3.5,3.5,3.5,3.5,3.5,3.5,3.5,3.5,3.5,3.5,3.5,3.5,3.5,3.5,3.5,3.5,3.5,3.5,3.5,3.5,3.5,3.5,3.5,3.5,3.5,3.5,3.5,3.5,3.5,3.5,3.5,3.5,3.5,3.5,3.5,3.5,3.5,3.5,3.5,3.5,3.5,3.5,3.5,3.5,3.5,3.5,3.5,3.5,3.5,3.5,3.5,3.5,3.5,3.5,3.5,3.5,3.5,3.5,3.5,3.5,3.5,3.5,3.5,3.5,3.5,3.5,3.5,3.5,3.5,4.0,4.0,4.0,4.0,4.0,4.0,4.0,4.0,4.0,4.0,4.0,4.0,4.0,4.0,4.0,4.0,4.0,4.0,4.0,4.0,4.0,4.0,4.0,4.0,4.0,4.0,4.0,4.0,4.0,4.0,4.0,4.0,4.0,4.0,4.0,4.0,4.0,4.0,4.0,4.0,4.0,4.0,4.0,4.0,4.0,4.0,4.0,4.0,4.0,4.0,4.0,4.0,4.0,4.0,4.0,4.0,4.0,4.0,4.0,4.0,4.0,4.0,4.0,4.0,4.0,4.0,4.0,4.0,4.0,4.0,4.0,4.0,4.0,4.0,4.0,4.0,4.0,4.0,4.0,4.0,4.0,4.0,4.0,4.0,4.0,4.0,4.0,4.0,4.0,4.0,4.0,4.0,4.0,4.0,4.0,4.0,4.0,4.0,4.0,4.0,4.0,4.0,4.0,4.0,4.0,4.0,4.0,4.0,4.0,4.0,4.0,4.0,4.0,4.0,4.0,4.5,4.5,4.5,4.5,4.5,4.5,4.5,4.5,4.5,4.5,4.5,4.5,4.5,4.5,4.5,4.5,4.5,4.5,4.5,4.5,4.5,4.5,4.5,4.5,4.5,4.5,4.5,4.5,4.5,4.5,4.5,4.5,4.5,4.5,4.5,4.5,4.5,4.5,4.5,4.5,4.5,4.5,4.5,4.5,4.5,4.5,4.5,4.5,4.5,4.5,4.5,4.5,4.5,4.5,4.5,4.5,4.5,4.5,4.5,4.5,4.5,4.5,4.5,4.5,4.5,4.5,4.5,4.5,4.5,4.5,4.5,4.5,4.5,4.5,4.5,4.5,4.5,4.5,4.5,4.5,4.5,4.5,4.5,4.5,4.5,4.5,4.5,4.5,4.5,4.5,4.5,4.5,4.5,4.5,4.5,4.5,4.5,4.5,4.5,4.5,4.5,4.5,4.5,4.5,4.5,4.5,4.5,4.5,4.5,4.5,4.5,4.5,4.5,4.5,4.5,5.0,5.0,5.0,5.0,5.0,5.0,5.0,5.0,5.0,5.0,5.0,5.0,5.0,5.0,5.0,5.0,5.0,5.0,5.0,5.0,5.0,5.0,5.0,5.0,5.0,5.0,5.0,5.0,5.0,5.0,5.0,5.0,5.0,5.0,5.0,5.0,5.0,5.0,5.0,5.0,5.0,5.0,5.0,5.0,5.0,5.0,5.0,5.0,5.0,5.0,5.0,5.0,5.0,5.0,5.0,5.0,5.0,5.0,5.0,5.0,5.0,5.0,5.0,5.0,5.0,5.0,5.0,5.0,5.0,5.0,5.0,5.0,5.0,5.0,5.0,5.0,5.0,5.0,5.0,5.0,5.0,5.0,5.0,5.0,5.0,5.0,5.0,5.0,5.0,5.0,5.0,5.0,5.0,5.0,5.0,5.0,5.0,5.0,5.0,5.0,5.0,5.0,5.0,5.0,5.0,5.0,5.0,5.0,5.0,5.0,5.0,5.0,5.0,5.0,5.0,5.5,5.5,5.5,5.5,5.5,5.5,5.5,5.5,5.5,5.5,5.5,5.5,5.5,5.5,5.5,5.5,5.5,5.5,5.5,5.5,5.5,5.5,5.5,5.5,5.5,5.5,5.5,5.5,5.5,5.5,5.5,5.5,5.5,5.5,5.5,5.5,5.5,5.5,5.5,5.5,5.5,5.5,5.5,5.5,5.5,5.5,5.5,5.5,5.5,5.5,5.5,5.5,5.5,5.5,5.5,5.5,5.5,5.5,5.5,5.5,5.5,5.5,5.5,5.5,5.5,5.5,5.5,5.5,5.5,5.5,5.5,5.5,5.5,5.5,5.5,5.5,5.5,5.5,5.5,5.5,5.5,5.5,5.5,5.5,5.5,5.5,5.5,5.5,5.5,5.5,5.5,5.5,5.5,5.5,5.5,5.5,5.5,5.5,5.5,5.5,5.5,5.5,5.5,5.5,5.5,5.5,5.5,5.5,5.5,5.5,5.5,5.5,5.5,5.5,5.5,2.0,2.0,2.0,2.0,2.0,2.0,2.0,2.0,2.0,2.0,2.0,2.0,2.0,2.0,2.0,2.0,2.0,2.0,2.0,2.0,2.0,2.0,2.0,2.0,2.0,2.0,2.0,2.0,2.0,2.0,2.0,2.0,2.0,2.0,2.0,2.0,2.0,2.0,2.0,2.0,2.0,2.0,2.0,2.0,2.0,2.0,2.0,2.0,2.0,2.0,2.0,2.0,2.0,2.0,2.0,2.0,2.0,2.0,2.0,2.0,2.0,2.0,2.0,2.0,2.0,2.0,2.0,2.0,2.0,2.0,2.0,2.0,2.0,2.0,2.0,2.0,2.0,2.0,2.0,2.0,2.0,2.0,2.0,2.0,2.0,2.0,2.0,2.0,2.0,2.0,2.0,2.0,2.0,2.0,2.0,2.0,2.0,2.0,2.0,2.0,2.0,2.0,2.0,2.0,2.0,2.0,2.0,2.0,2.0,2.0,2.0,2.0,2.0,2.0,2.0,2.5,2.5,2.5,2.5,2.5,2.5,2.5,2.5,2.5,2.5,2.5,2.5,2.5,2.5,2.5,2.5,2.5,2.5,2.5,2.5,2.5,2.5,2.5,2.5,2.5,2.5,2.5,2.5,2.5,2.5,2.5,2.5,2.5,2.5,2.5,2.5,2.5,2.5,2.5,2.5,2.5,2.5,2.5,2.5,2.5,2.5,2.5,2.5,2.5,2.5,2.5,2.5,2.5,2.5,2.5,2.5,2.5,2.5,2.5,2.5,2.5,2.5,2.5,2.5,2.5,2.5,2.5,2.5,2.5,2.5,2.5,2.5,2.5,2.5,2.5,2.5,2.5,2.5,2.5,2.5,2.5,2.5,2.5,2.5,2.5,2.5,2.5,2.5,2.5,2.5,2.5,2.5,2.5,2.5,2.5,2.5,2.5,2.5,2.5,2.5,2.5,2.5,2.5,2.5,2.5,2.5,2.5,2.5,2.5,2.5,2.5,2.5,2.5,2.5,2.5,3.0,3.0,3.0,3.0,3.0,3.0,3.0,3.0,3.0,3.0,3.0,3.0,3.0,3.0,3.0,3.0,3.0,3.0,3.0,3.0,3.0,3.0,3.0,3.0,3.0,3.0,3.0,3.0,3.0,3.0,3.0,3.0,3.0,3.0,3.0,3.0,3.0,3.0,3.0,3.0,3.0,3.0,3.0,3.0,3.0,3.0,3.0,3.0,3.0,3.0,3.0,3.0,3.0,3.0,3.0,3.0,3.0,3.0,3.0,3.0,3.0,3.0,3.0,3.0,3.0,3.0,3.0,3.0,3.0,3.0,3.0,3.0,3.0,3.0,3.0,3.0,3.0,3.0,3.0,3.0,3.0,3.0,3.0,3.0,3.0,3.0,3.0,3.0,3.0,3.0,3.0,3.0,3.0,3.0,3.0,3.0,3.0,3.0,3.0,3.0,3.0,3.0,3.0,3.0,3.0,3.0,3.0,3.0,3.0,3.0,3.0,3.0,3.0,3.0,3.0,3.5,3.5,3.5,3.5,3.5,3.5,3.5,3.5,3.5,3.5,3.5,3.5,3.5,3.5,3.5,3.5,3.5,3.5,3.5,3.5,3.5,3.5,3.5,3.5,3.5,3.5,3.5,3.5,3.5,3.5,3.5,3.5,3.5,3.5,3.5,3.5,3.5,3.5,3.5,3.5,3.5,3.5,3.5,3.5,3.5,3.5,3.5,3.5,3.5,3.5,3.5,3.5,3.5,3.5,3.5,3.5,3.5,3.5,3.5,3.5,3.5,3.5,3.5,3.5,3.5,3.5,3.5,3.5,3.5,3.5,3.5,3.5,3.5,3.5,3.5,3.5,3.5,3.5,3.5,3.5,3.5,3.5,3.5,3.5,3.5,3.5,3.5,3.5,3.5,3.5,3.5,3.5,3.5,3.5,3.5,3.5,3.5,3.5,3.5,3.5,3.5,3.5,3.5,3.5,3.5,3.5,3.5,3.5,3.5,3.5,3.5,3.5,3.5,3.5,3.5,4.0,4.0,4.0,4.0,4.0,4.0,4.0,4.0,4.0,4.0,4.0,4.0,4.0,4.0,4.0,4.0,4.0,4.0,4.0,4.0,4.0,4.0,4.0,4.0,4.0,4.0,4.0,4.0,4.0,4.0,4.0,4.0,4.0,4.0,4.0,4.0,4.0,4.0,4.0,4.0,4.0,4.0,4.0,4.0,4.0,4.0,4.0,4.0,4.0,4.0,4.0,4.0,4.0,4.0,4.0,4.0,4.0,4.0,4.0,4.0,4.0,4.0,4.0,4.0,4.0,4.0,4.0,4.0,4.0,4.0,4.0,4.0,4.0,4.0,4.0,4.0,4.0,4.0,4.0,4.0,4.0,4.0,4.0,4.0,4.0,4.0,4.0,4.0,4.0,4.0,4.0,4.0,4.0,4.0,4.0,4.0,4.0,4.0,4.0,4.0,4.0,4.0,4.0,4.0,4.0,4.0,4.0,4.0,4.0,4.0,4.0,4.0,4.0,4.0,4.0,4.5,4.5,4.5,4.5,4.5,4.5,4.5,4.5,4.5,4.5,4.5,4.5,4.5,4.5,4.5,4.5,4.5,4.5,4.5,4.5,4.5,4.5,4.5,4.5,4.5,4.5,4.5,4.5,4.5,4.5,4.5,4.5,4.5,4.5,4.5,4.5,4.5,4.5,4.5,4.5,4.5,4.5,4.5,4.5,4.5,4.5,4.5,4.5,4.5,4.5,4.5,4.5,4.5,4.5,4.5,4.5,4.5,4.5,4.5,4.5,4.5,4.5,4.5,4.5,4.5,4.5,4.5,4.5,4.5,4.5,4.5,4.5,4.5,4.5,4.5,4.5,4.5,4.5,4.5,4.5,4.5,4.5,4.5,4.5,4.5,4.5,4.5,4.5,4.5,4.5,4.5,4.5,4.5,4.5,4.5,4.5,4.5,4.5,4.5,4.5,4.5,4.5,4.5,4.5,4.5,4.5,4.5,4.5,4.5,4.5,4.5,4.5,4.5,4.5,4.5,5.0,5.0,5.0,5.0,5.0,5.0,5.0,5.0,5.0,5.0,5.0,5.0,5.0,5.0,5.0,5.0,5.0,5.0,5.0,5.0,5.0,5.0,5.0,5.0,5.0,5.0,5.0,5.0,5.0,5.0,5.0,5.0,5.0,5.0,5.0,5.0,5.0,5.0,5.0,5.0,5.0,5.0,5.0,5.0,5.0,5.0,5.0,5.0,5.0,5.0,5.0,5.0,5.0,5.0,5.0,5.0,5.0,5.0,5.0,5.0,5.0,5.0,5.0,5.0,5.0,5.0,5.0,5.0,5.0,5.0,5.0,5.0,5.0,5.0,5.0,5.0,5.0,5.0,5.0,5.0,5.0,5.0,5.0,5.0,5.0,5.0,5.0,5.0,5.0,5.0,5.0,5.0,5.0,5.0,5.0,5.0,5.0,5.0,5.0,5.0,5.0,5.0,5.0,5.0,5.0,5.0,5.0,5.0,5.0,5.0,5.0,5.0,5.0,5.0,5.0,5.5,5.5,5.5,5.5,5.5,5.5,5.5,5.5,5.5,5.5,5.5,5.5,5.5,5.5,5.5,5.5,5.5,5.5,5.5,5.5,5.5,5.5,5.5,5.5,5.5,5.5,5.5,5.5,5.5,5.5,5.5,5.5,5.5,5.5,5.5,5.5,5.5,5.5,5.5,5.5,5.5,5.5,5.5,5.5,5.5,5.5,5.5,5.5,5.5,5.5,5.5,5.5,5.5,5.5,5.5,5.5,5.5,5.5,5.5,5.5,5.5,5.5,5.5,5.5,5.5,5.5,5.5,5.5,5.5,5.5,5.5,5.5,5.5,5.5,5.5,5.5,5.5,5.5,5.5,5.5,5.5,5.5,5.5,5.5,5.5,5.5,5.5,5.5,5.5,5.5,5.5,5.5,5.5,5.5,5.5,5.5,5.5,5.5,5.5,5.5,5.5,5.5,5.5,5.5,5.5,5.5,5.5,5.5,5.5,5.5,5.5,5.5,5.5,5.5,5.5],\"y\":[5,6,7,8,9,10,11,12,13,14,15,16,17,18,19,20,21,22,23,24,25,26,27,28,29,30,31,32,33,34,35,36,37,38,39,40,41,42,43,44,45,46,47,48,49,50,51,52,53,54,55,56,57,58,59,60,61,62,63,64,65,66,67,68,69,70,71,72,73,74,75,76,77,78,79,80,81,82,83,84,85,86,87,88,89,90,91,92,93,94,95,96,97,98,99,100,101,102,103,104,105,106,107,108,109,110,111,112,113,114,115,116,117,118,119,5,6,7,8,9,10,11,12,13,14,15,16,17,18,19,20,21,22,23,24,25,26,27,28,29,30,31,32,33,34,35,36,37,38,39,40,41,42,43,44,45,46,47,48,49,50,51,52,53,54,55,56,57,58,59,60,61,62,63,64,65,66,67,68,69,70,71,72,73,74,75,76,77,78,79,80,81,82,83,84,85,86,87,88,89,90,91,92,93,94,95,96,97,98,99,100,101,102,103,104,105,106,107,108,109,110,111,112,113,114,115,116,117,118,119,5,6,7,8,9,10,11,12,13,14,15,16,17,18,19,20,21,22,23,24,25,26,27,28,29,30,31,32,33,34,35,36,37,38,39,40,41,42,43,44,45,46,47,48,49,50,51,52,53,54,55,56,57,58,59,60,61,62,63,64,65,66,67,68,69,70,71,72,73,74,75,76,77,78,79,80,81,82,83,84,85,86,87,88,89,90,91,92,93,94,95,96,97,98,99,100,101,102,103,104,105,106,107,108,109,110,111,112,113,114,115,116,117,118,119,5,6,7,8,9,10,11,12,13,14,15,16,17,18,19,20,21,22,23,24,25,26,27,28,29,30,31,32,33,34,35,36,37,38,39,40,41,42,43,44,45,46,47,48,49,50,51,52,53,54,55,56,57,58,59,60,61,62,63,64,65,66,67,68,69,70,71,72,73,74,75,76,77,78,79,80,81,82,83,84,85,86,87,88,89,90,91,92,93,94,95,96,97,98,99,100,101,102,103,104,105,106,107,108,109,110,111,112,113,114,115,116,117,118,119,5,6,7,8,9,10,11,12,13,14,15,16,17,18,19,20,21,22,23,24,25,26,27,28,29,30,31,32,33,34,35,36,37,38,39,40,41,42,43,44,45,46,47,48,49,50,51,52,53,54,55,56,57,58,59,60,61,62,63,64,65,66,67,68,69,70,71,72,73,74,75,76,77,78,79,80,81,82,83,84,85,86,87,88,89,90,91,92,93,94,95,96,97,98,99,100,101,102,103,104,105,106,107,108,109,110,111,112,113,114,115,116,117,118,119,5,6,7,8,9,10,11,12,13,14,15,16,17,18,19,20,21,22,23,24,25,26,27,28,29,30,31,32,33,34,35,36,37,38,39,40,41,42,43,44,45,46,47,48,49,50,51,52,53,54,55,56,57,58,59,60,61,62,63,64,65,66,67,68,69,70,71,72,73,74,75,76,77,78,79,80,81,82,83,84,85,86,87,88,89,90,91,92,93,94,95,96,97,98,99,100,101,102,103,104,105,106,107,108,109,110,111,112,113,114,115,116,117,118,119,5,6,7,8,9,10,11,12,13,14,15,16,17,18,19,20,21,22,23,24,25,26,27,28,29,30,31,32,33,34,35,36,37,38,39,40,41,42,43,44,45,46,47,48,49,50,51,52,53,54,55,56,57,58,59,60,61,62,63,64,65,66,67,68,69,70,71,72,73,74,75,76,77,78,79,80,81,82,83,84,85,86,87,88,89,90,91,92,93,94,95,96,97,98,99,100,101,102,103,104,105,106,107,108,109,110,111,112,113,114,115,116,117,118,119,5,6,7,8,9,10,11,12,13,14,15,16,17,18,19,20,21,22,23,24,25,26,27,28,29,30,31,32,33,34,35,36,37,38,39,40,41,42,43,44,45,46,47,48,49,50,51,52,53,54,55,56,57,58,59,60,61,62,63,64,65,66,67,68,69,70,71,72,73,74,75,76,77,78,79,80,81,82,83,84,85,86,87,88,89,90,91,92,93,94,95,96,97,98,99,100,101,102,103,104,105,106,107,108,109,110,111,112,113,114,115,116,117,118,119,5,6,7,8,9,10,11,12,13,14,15,16,17,18,19,20,21,22,23,24,25,26,27,28,29,30,31,32,33,34,35,36,37,38,39,40,41,42,43,44,45,46,47,48,49,50,51,52,53,54,55,56,57,58,59,60,61,62,63,64,65,66,67,68,69,70,71,72,73,74,75,76,77,78,79,80,81,82,83,84,85,86,87,88,89,90,91,92,93,94,95,96,97,98,99,100,101,102,103,104,105,106,107,108,109,110,111,112,113,114,115,116,117,118,119,5,6,7,8,9,10,11,12,13,14,15,16,17,18,19,20,21,22,23,24,25,26,27,28,29,30,31,32,33,34,35,36,37,38,39,40,41,42,43,44,45,46,47,48,49,50,51,52,53,54,55,56,57,58,59,60,61,62,63,64,65,66,67,68,69,70,71,72,73,74,75,76,77,78,79,80,81,82,83,84,85,86,87,88,89,90,91,92,93,94,95,96,97,98,99,100,101,102,103,104,105,106,107,108,109,110,111,112,113,114,115,116,117,118,119,5,6,7,8,9,10,11,12,13,14,15,16,17,18,19,20,21,22,23,24,25,26,27,28,29,30,31,32,33,34,35,36,37,38,39,40,41,42,43,44,45,46,47,48,49,50,51,52,53,54,55,56,57,58,59,60,61,62,63,64,65,66,67,68,69,70,71,72,73,74,75,76,77,78,79,80,81,82,83,84,85,86,87,88,89,90,91,92,93,94,95,96,97,98,99,100,101,102,103,104,105,106,107,108,109,110,111,112,113,114,115,116,117,118,119,5,6,7,8,9,10,11,12,13,14,15,16,17,18,19,20,21,22,23,24,25,26,27,28,29,30,31,32,33,34,35,36,37,38,39,40,41,42,43,44,45,46,47,48,49,50,51,52,53,54,55,56,57,58,59,60,61,62,63,64,65,66,67,68,69,70,71,72,73,74,75,76,77,78,79,80,81,82,83,84,85,86,87,88,89,90,91,92,93,94,95,96,97,98,99,100,101,102,103,104,105,106,107,108,109,110,111,112,113,114,115,116,117,118,119,5,6,7,8,9,10,11,12,13,14,15,16,17,18,19,20,21,22,23,24,25,26,27,28,29,30,31,32,33,34,35,36,37,38,39,40,41,42,43,44,45,46,47,48,49,50,51,52,53,54,55,56,57,58,59,60,61,62,63,64,65,66,67,68,69,70,71,72,73,74,75,76,77,78,79,80,81,82,83,84,85,86,87,88,89,90,91,92,93,94,95,96,97,98,99,100,101,102,103,104,105,106,107,108,109,110,111,112,113,114,115,116,117,118,119,5,6,7,8,9,10,11,12,13,14,15,16,17,18,19,20,21,22,23,24,25,26,27,28,29,30,31,32,33,34,35,36,37,38,39,40,41,42,43,44,45,46,47,48,49,50,51,52,53,54,55,56,57,58,59,60,61,62,63,64,65,66,67,68,69,70,71,72,73,74,75,76,77,78,79,80,81,82,83,84,85,86,87,88,89,90,91,92,93,94,95,96,97,98,99,100,101,102,103,104,105,106,107,108,109,110,111,112,113,114,115,116,117,118,119,5,6,7,8,9,10,11,12,13,14,15,16,17,18,19,20,21,22,23,24,25,26,27,28,29,30,31,32,33,34,35,36,37,38,39,40,41,42,43,44,45,46,47,48,49,50,51,52,53,54,55,56,57,58,59,60,61,62,63,64,65,66,67,68,69,70,71,72,73,74,75,76,77,78,79,80,81,82,83,84,85,86,87,88,89,90,91,92,93,94,95,96,97,98,99,100,101,102,103,104,105,106,107,108,109,110,111,112,113,114,115,116,117,118,119,5,6,7,8,9,10,11,12,13,14,15,16,17,18,19,20,21,22,23,24,25,26,27,28,29,30,31,32,33,34,35,36,37,38,39,40,41,42,43,44,45,46,47,48,49,50,51,52,53,54,55,56,57,58,59,60,61,62,63,64,65,66,67,68,69,70,71,72,73,74,75,76,77,78,79,80,81,82,83,84,85,86,87,88,89,90,91,92,93,94,95,96,97,98,99,100,101,102,103,104,105,106,107,108,109,110,111,112,113,114,115,116,117,118,119,5,6,7,8,9,10,11,12,13,14,15,16,17,18,19,20,21,22,23,24,25,26,27,28,29,30,31,32,33,34,35,36,37,38,39,40,41,42,43,44,45,46,47,48,49,50,51,52,53,54,55,56,57,58,59,60,61,62,63,64,65,66,67,68,69,70,71,72,73,74,75,76,77,78,79,80,81,82,83,84,85,86,87,88,89,90,91,92,93,94,95,96,97,98,99,100,101,102,103,104,105,106,107,108,109,110,111,112,113,114,115,116,117,118,119,5,6,7,8,9,10,11,12,13,14,15,16,17,18,19,20,21,22,23,24,25,26,27,28,29,30,31,32,33,34,35,36,37,38,39,40,41,42,43,44,45,46,47,48,49,50,51,52,53,54,55,56,57,58,59,60,61,62,63,64,65,66,67,68,69,70,71,72,73,74,75,76,77,78,79,80,81,82,83,84,85,86,87,88,89,90,91,92,93,94,95,96,97,98,99,100,101,102,103,104,105,106,107,108,109,110,111,112,113,114,115,116,117,118,119,5,6,7,8,9,10,11,12,13,14,15,16,17,18,19,20,21,22,23,24,25,26,27,28,29,30,31,32,33,34,35,36,37,38,39,40,41,42,43,44,45,46,47,48,49,50,51,52,53,54,55,56,57,58,59,60,61,62,63,64,65,66,67,68,69,70,71,72,73,74,75,76,77,78,79,80,81,82,83,84,85,86,87,88,89,90,91,92,93,94,95,96,97,98,99,100,101,102,103,104,105,106,107,108,109,110,111,112,113,114,115,116,117,118,119,5,6,7,8,9,10,11,12,13,14,15,16,17,18,19,20,21,22,23,24,25,26,27,28,29,30,31,32,33,34,35,36,37,38,39,40,41,42,43,44,45,46,47,48,49,50,51,52,53,54,55,56,57,58,59,60,61,62,63,64,65,66,67,68,69,70,71,72,73,74,75,76,77,78,79,80,81,82,83,84,85,86,87,88,89,90,91,92,93,94,95,96,97,98,99,100,101,102,103,104,105,106,107,108,109,110,111,112,113,114,115,116,117,118,119,5,6,7,8,9,10,11,12,13,14,15,16,17,18,19,20,21,22,23,24,25,26,27,28,29,30,31,32,33,34,35,36,37,38,39,40,41,42,43,44,45,46,47,48,49,50,51,52,53,54,55,56,57,58,59,60,61,62,63,64,65,66,67,68,69,70,71,72,73,74,75,76,77,78,79,80,81,82,83,84,85,86,87,88,89,90,91,92,93,94,95,96,97,98,99,100,101,102,103,104,105,106,107,108,109,110,111,112,113,114,115,116,117,118,119,5,6,7,8,9,10,11,12,13,14,15,16,17,18,19,20,21,22,23,24,25,26,27,28,29,30,31,32,33,34,35,36,37,38,39,40,41,42,43,44,45,46,47,48,49,50,51,52,53,54,55,56,57,58,59,60,61,62,63,64,65,66,67,68,69,70,71,72,73,74,75,76,77,78,79,80,81,82,83,84,85,86,87,88,89,90,91,92,93,94,95,96,97,98,99,100,101,102,103,104,105,106,107,108,109,110,111,112,113,114,115,116,117,118,119,5,6,7,8,9,10,11,12,13,14,15,16,17,18,19,20,21,22,23,24,25,26,27,28,29,30,31,32,33,34,35,36,37,38,39,40,41,42,43,44,45,46,47,48,49,50,51,52,53,54,55,56,57,58,59,60,61,62,63,64,65,66,67,68,69,70,71,72,73,74,75,76,77,78,79,80,81,82,83,84,85,86,87,88,89,90,91,92,93,94,95,96,97,98,99,100,101,102,103,104,105,106,107,108,109,110,111,112,113,114,115,116,117,118,119,5,6,7,8,9,10,11,12,13,14,15,16,17,18,19,20,21,22,23,24,25,26,27,28,29,30,31,32,33,34,35,36,37,38,39,40,41,42,43,44,45,46,47,48,49,50,51,52,53,54,55,56,57,58,59,60,61,62,63,64,65,66,67,68,69,70,71,72,73,74,75,76,77,78,79,80,81,82,83,84,85,86,87,88,89,90,91,92,93,94,95,96,97,98,99,100,101,102,103,104,105,106,107,108,109,110,111,112,113,114,115,116,117,118,119,5,6,7,8,9,10,11,12,13,14,15,16,17,18,19,20,21,22,23,24,25,26,27,28,29,30,31,32,33,34,35,36,37,38,39,40,41,42,43,44,45,46,47,48,49,50,51,52,53,54,55,56,57,58,59,60,61,62,63,64,65,66,67,68,69,70,71,72,73,74,75,76,77,78,79,80,81,82,83,84,85,86,87,88,89,90,91,92,93,94,95,96,97,98,99,100,101,102,103,104,105,106,107,108,109,110,111,112,113,114,115,116,117,118,119,5,6,7,8,9,10,11,12,13,14,15,16,17,18,19,20,21,22,23,24,25,26,27,28,29,30,31,32,33,34,35,36,37,38,39,40,41,42,43,44,45,46,47,48,49,50,51,52,53,54,55,56,57,58,59,60,61,62,63,64,65,66,67,68,69,70,71,72,73,74,75,76,77,78,79,80,81,82,83,84,85,86,87,88,89,90,91,92,93,94,95,96,97,98,99,100,101,102,103,104,105,106,107,108,109,110,111,112,113,114,115,116,117,118,119,5,6,7,8,9,10,11,12,13,14,15,16,17,18,19,20,21,22,23,24,25,26,27,28,29,30,31,32,33,34,35,36,37,38,39,40,41,42,43,44,45,46,47,48,49,50,51,52,53,54,55,56,57,58,59,60,61,62,63,64,65,66,67,68,69,70,71,72,73,74,75,76,77,78,79,80,81,82,83,84,85,86,87,88,89,90,91,92,93,94,95,96,97,98,99,100,101,102,103,104,105,106,107,108,109,110,111,112,113,114,115,116,117,118,119,5,6,7,8,9,10,11,12,13,14,15,16,17,18,19,20,21,22,23,24,25,26,27,28,29,30,31,32,33,34,35,36,37,38,39,40,41,42,43,44,45,46,47,48,49,50,51,52,53,54,55,56,57,58,59,60,61,62,63,64,65,66,67,68,69,70,71,72,73,74,75,76,77,78,79,80,81,82,83,84,85,86,87,88,89,90,91,92,93,94,95,96,97,98,99,100,101,102,103,104,105,106,107,108,109,110,111,112,113,114,115,116,117,118,119,5,6,7,8,9,10,11,12,13,14,15,16,17,18,19,20,21,22,23,24,25,26,27,28,29,30,31,32,33,34,35,36,37,38,39,40,41,42,43,44,45,46,47,48,49,50,51,52,53,54,55,56,57,58,59,60,61,62,63,64,65,66,67,68,69,70,71,72,73,74,75,76,77,78,79,80,81,82,83,84,85,86,87,88,89,90,91,92,93,94,95,96,97,98,99,100,101,102,103,104,105,106,107,108,109,110,111,112,113,114,115,116,117,118,119,5,6,7,8,9,10,11,12,13,14,15,16,17,18,19,20,21,22,23,24,25,26,27,28,29,30,31,32,33,34,35,36,37,38,39,40,41,42,43,44,45,46,47,48,49,50,51,52,53,54,55,56,57,58,59,60,61,62,63,64,65,66,67,68,69,70,71,72,73,74,75,76,77,78,79,80,81,82,83,84,85,86,87,88,89,90,91,92,93,94,95,96,97,98,99,100,101,102,103,104,105,106,107,108,109,110,111,112,113,114,115,116,117,118,119,5,6,7,8,9,10,11,12,13,14,15,16,17,18,19,20,21,22,23,24,25,26,27,28,29,30,31,32,33,34,35,36,37,38,39,40,41,42,43,44,45,46,47,48,49,50,51,52,53,54,55,56,57,58,59,60,61,62,63,64,65,66,67,68,69,70,71,72,73,74,75,76,77,78,79,80,81,82,83,84,85,86,87,88,89,90,91,92,93,94,95,96,97,98,99,100,101,102,103,104,105,106,107,108,109,110,111,112,113,114,115,116,117,118,119,5,6,7,8,9,10,11,12,13,14,15,16,17,18,19,20,21,22,23,24,25,26,27,28,29,30,31,32,33,34,35,36,37,38,39,40,41,42,43,44,45,46,47,48,49,50,51,52,53,54,55,56,57,58,59,60,61,62,63,64,65,66,67,68,69,70,71,72,73,74,75,76,77,78,79,80,81,82,83,84,85,86,87,88,89,90,91,92,93,94,95,96,97,98,99,100,101,102,103,104,105,106,107,108,109,110,111,112,113,114,115,116,117,118,119,5,6,7,8,9,10,11,12,13,14,15,16,17,18,19,20,21,22,23,24,25,26,27,28,29,30,31,32,33,34,35,36,37,38,39,40,41,42,43,44,45,46,47,48,49,50,51,52,53,54,55,56,57,58,59,60,61,62,63,64,65,66,67,68,69,70,71,72,73,74,75,76,77,78,79,80,81,82,83,84,85,86,87,88,89,90,91,92,93,94,95,96,97,98,99,100,101,102,103,104,105,106,107,108,109,110,111,112,113,114,115,116,117,118,119,5,6,7,8,9,10,11,12,13,14,15,16,17,18,19,20,21,22,23,24,25,26,27,28,29,30,31,32,33,34,35,36,37,38,39,40,41,42,43,44,45,46,47,48,49,50,51,52,53,54,55,56,57,58,59,60,61,62,63,64,65,66,67,68,69,70,71,72,73,74,75,76,77,78,79,80,81,82,83,84,85,86,87,88,89,90,91,92,93,94,95,96,97,98,99,100,101,102,103,104,105,106,107,108,109,110,111,112,113,114,115,116,117,118,119,5,6,7,8,9,10,11,12,13,14,15,16,17,18,19,20,21,22,23,24,25,26,27,28,29,30,31,32,33,34,35,36,37,38,39,40,41,42,43,44,45,46,47,48,49,50,51,52,53,54,55,56,57,58,59,60,61,62,63,64,65,66,67,68,69,70,71,72,73,74,75,76,77,78,79,80,81,82,83,84,85,86,87,88,89,90,91,92,93,94,95,96,97,98,99,100,101,102,103,104,105,106,107,108,109,110,111,112,113,114,115,116,117,118,119,5,6,7,8,9,10,11,12,13,14,15,16,17,18,19,20,21,22,23,24,25,26,27,28,29,30,31,32,33,34,35,36,37,38,39,40,41,42,43,44,45,46,47,48,49,50,51,52,53,54,55,56,57,58,59,60,61,62,63,64,65,66,67,68,69,70,71,72,73,74,75,76,77,78,79,80,81,82,83,84,85,86,87,88,89,90,91,92,93,94,95,96,97,98,99,100,101,102,103,104,105,106,107,108,109,110,111,112,113,114,115,116,117,118,119,5,6,7,8,9,10,11,12,13,14,15,16,17,18,19,20,21,22,23,24,25,26,27,28,29,30,31,32,33,34,35,36,37,38,39,40,41,42,43,44,45,46,47,48,49,50,51,52,53,54,55,56,57,58,59,60,61,62,63,64,65,66,67,68,69,70,71,72,73,74,75,76,77,78,79,80,81,82,83,84,85,86,87,88,89,90,91,92,93,94,95,96,97,98,99,100,101,102,103,104,105,106,107,108,109,110,111,112,113,114,115,116,117,118,119,5,6,7,8,9,10,11,12,13,14,15,16,17,18,19,20,21,22,23,24,25,26,27,28,29,30,31,32,33,34,35,36,37,38,39,40,41,42,43,44,45,46,47,48,49,50,51,52,53,54,55,56,57,58,59,60,61,62,63,64,65,66,67,68,69,70,71,72,73,74,75,76,77,78,79,80,81,82,83,84,85,86,87,88,89,90,91,92,93,94,95,96,97,98,99,100,101,102,103,104,105,106,107,108,109,110,111,112,113,114,115,116,117,118,119,5,6,7,8,9,10,11,12,13,14,15,16,17,18,19,20,21,22,23,24,25,26,27,28,29,30,31,32,33,34,35,36,37,38,39,40,41,42,43,44,45,46,47,48,49,50,51,52,53,54,55,56,57,58,59,60,61,62,63,64,65,66,67,68,69,70,71,72,73,74,75,76,77,78,79,80,81,82,83,84,85,86,87,88,89,90,91,92,93,94,95,96,97,98,99,100,101,102,103,104,105,106,107,108,109,110,111,112,113,114,115,116,117,118,119,5,6,7,8,9,10,11,12,13,14,15,16,17,18,19,20,21,22,23,24,25,26,27,28,29,30,31,32,33,34,35,36,37,38,39,40,41,42,43,44,45,46,47,48,49,50,51,52,53,54,55,56,57,58,59,60,61,62,63,64,65,66,67,68,69,70,71,72,73,74,75,76,77,78,79,80,81,82,83,84,85,86,87,88,89,90,91,92,93,94,95,96,97,98,99,100,101,102,103,104,105,106,107,108,109,110,111,112,113,114,115,116,117,118,119,5,6,7,8,9,10,11,12,13,14,15,16,17,18,19,20,21,22,23,24,25,26,27,28,29,30,31,32,33,34,35,36,37,38,39,40,41,42,43,44,45,46,47,48,49,50,51,52,53,54,55,56,57,58,59,60,61,62,63,64,65,66,67,68,69,70,71,72,73,74,75,76,77,78,79,80,81,82,83,84,85,86,87,88,89,90,91,92,93,94,95,96,97,98,99,100,101,102,103,104,105,106,107,108,109,110,111,112,113,114,115,116,117,118,119,5,6,7,8,9,10,11,12,13,14,15,16,17,18,19,20,21,22,23,24,25,26,27,28,29,30,31,32,33,34,35,36,37,38,39,40,41,42,43,44,45,46,47,48,49,50,51,52,53,54,55,56,57,58,59,60,61,62,63,64,65,66,67,68,69,70,71,72,73,74,75,76,77,78,79,80,81,82,83,84,85,86,87,88,89,90,91,92,93,94,95,96,97,98,99,100,101,102,103,104,105,106,107,108,109,110,111,112,113,114,115,116,117,118,119,5,6,7,8,9,10,11,12,13,14,15,16,17,18,19,20,21,22,23,24,25,26,27,28,29,30,31,32,33,34,35,36,37,38,39,40,41,42,43,44,45,46,47,48,49,50,51,52,53,54,55,56,57,58,59,60,61,62,63,64,65,66,67,68,69,70,71,72,73,74,75,76,77,78,79,80,81,82,83,84,85,86,87,88,89,90,91,92,93,94,95,96,97,98,99,100,101,102,103,104,105,106,107,108,109,110,111,112,113,114,115,116,117,118,119,5,6,7,8,9,10,11,12,13,14,15,16,17,18,19,20,21,22,23,24,25,26,27,28,29,30,31,32,33,34,35,36,37,38,39,40,41,42,43,44,45,46,47,48,49,50,51,52,53,54,55,56,57,58,59,60,61,62,63,64,65,66,67,68,69,70,71,72,73,74,75,76,77,78,79,80,81,82,83,84,85,86,87,88,89,90,91,92,93,94,95,96,97,98,99,100,101,102,103,104,105,106,107,108,109,110,111,112,113,114,115,116,117,118,119,5,6,7,8,9,10,11,12,13,14,15,16,17,18,19,20,21,22,23,24,25,26,27,28,29,30,31,32,33,34,35,36,37,38,39,40,41,42,43,44,45,46,47,48,49,50,51,52,53,54,55,56,57,58,59,60,61,62,63,64,65,66,67,68,69,70,71,72,73,74,75,76,77,78,79,80,81,82,83,84,85,86,87,88,89,90,91,92,93,94,95,96,97,98,99,100,101,102,103,104,105,106,107,108,109,110,111,112,113,114,115,116,117,118,119,5,6,7,8,9,10,11,12,13,14,15,16,17,18,19,20,21,22,23,24,25,26,27,28,29,30,31,32,33,34,35,36,37,38,39,40,41,42,43,44,45,46,47,48,49,50,51,52,53,54,55,56,57,58,59,60,61,62,63,64,65,66,67,68,69,70,71,72,73,74,75,76,77,78,79,80,81,82,83,84,85,86,87,88,89,90,91,92,93,94,95,96,97,98,99,100,101,102,103,104,105,106,107,108,109,110,111,112,113,114,115,116,117,118,119,5,6,7,8,9,10,11,12,13,14,15,16,17,18,19,20,21,22,23,24,25,26,27,28,29,30,31,32,33,34,35,36,37,38,39,40,41,42,43,44,45,46,47,48,49,50,51,52,53,54,55,56,57,58,59,60,61,62,63,64,65,66,67,68,69,70,71,72,73,74,75,76,77,78,79,80,81,82,83,84,85,86,87,88,89,90,91,92,93,94,95,96,97,98,99,100,101,102,103,104,105,106,107,108,109,110,111,112,113,114,115,116,117,118,119,5,6,7,8,9,10,11,12,13,14,15,16,17,18,19,20,21,22,23,24,25,26,27,28,29,30,31,32,33,34,35,36,37,38,39,40,41,42,43,44,45,46,47,48,49,50,51,52,53,54,55,56,57,58,59,60,61,62,63,64,65,66,67,68,69,70,71,72,73,74,75,76,77,78,79,80,81,82,83,84,85,86,87,88,89,90,91,92,93,94,95,96,97,98,99,100,101,102,103,104,105,106,107,108,109,110,111,112,113,114,115,116,117,118,119,5,6,7,8,9,10,11,12,13,14,15,16,17,18,19,20,21,22,23,24,25,26,27,28,29,30,31,32,33,34,35,36,37,38,39,40,41,42,43,44,45,46,47,48,49,50,51,52,53,54,55,56,57,58,59,60,61,62,63,64,65,66,67,68,69,70,71,72,73,74,75,76,77,78,79,80,81,82,83,84,85,86,87,88,89,90,91,92,93,94,95,96,97,98,99,100,101,102,103,104,105,106,107,108,109,110,111,112,113,114,115,116,117,118,119,5,6,7,8,9,10,11,12,13,14,15,16,17,18,19,20,21,22,23,24,25,26,27,28,29,30,31,32,33,34,35,36,37,38,39,40,41,42,43,44,45,46,47,48,49,50,51,52,53,54,55,56,57,58,59,60,61,62,63,64,65,66,67,68,69,70,71,72,73,74,75,76,77,78,79,80,81,82,83,84,85,86,87,88,89,90,91,92,93,94,95,96,97,98,99,100,101,102,103,104,105,106,107,108,109,110,111,112,113,114,115,116,117,118,119,5,6,7,8,9,10,11,12,13,14,15,16,17,18,19,20,21,22,23,24,25,26,27,28,29,30,31,32,33,34,35,36,37,38,39,40,41,42,43,44,45,46,47,48,49,50,51,52,53,54,55,56,57,58,59,60,61,62,63,64,65,66,67,68,69,70,71,72,73,74,75,76,77,78,79,80,81,82,83,84,85,86,87,88,89,90,91,92,93,94,95,96,97,98,99,100,101,102,103,104,105,106,107,108,109,110,111,112,113,114,115,116,117,118,119,5,6,7,8,9,10,11,12,13,14,15,16,17,18,19,20,21,22,23,24,25,26,27,28,29,30,31,32,33,34,35,36,37,38,39,40,41,42,43,44,45,46,47,48,49,50,51,52,53,54,55,56,57,58,59,60,61,62,63,64,65,66,67,68,69,70,71,72,73,74,75,76,77,78,79,80,81,82,83,84,85,86,87,88,89,90,91,92,93,94,95,96,97,98,99,100,101,102,103,104,105,106,107,108,109,110,111,112,113,114,115,116,117,118,119,5,6,7,8,9,10,11,12,13,14,15,16,17,18,19,20,21,22,23,24,25,26,27,28,29,30,31,32,33,34,35,36,37,38,39,40,41,42,43,44,45,46,47,48,49,50,51,52,53,54,55,56,57,58,59,60,61,62,63,64,65,66,67,68,69,70,71,72,73,74,75,76,77,78,79,80,81,82,83,84,85,86,87,88,89,90,91,92,93,94,95,96,97,98,99,100,101,102,103,104,105,106,107,108,109,110,111,112,113,114,115,116,117,118,119,5,6,7,8,9,10,11,12,13,14,15,16,17,18,19,20,21,22,23,24,25,26,27,28,29,30,31,32,33,34,35,36,37,38,39,40,41,42,43,44,45,46,47,48,49,50,51,52,53,54,55,56,57,58,59,60,61,62,63,64,65,66,67,68,69,70,71,72,73,74,75,76,77,78,79,80,81,82,83,84,85,86,87,88,89,90,91,92,93,94,95,96,97,98,99,100,101,102,103,104,105,106,107,108,109,110,111,112,113,114,115,116,117,118,119,5,6,7,8,9,10,11,12,13,14,15,16,17,18,19,20,21,22,23,24,25,26,27,28,29,30,31,32,33,34,35,36,37,38,39,40,41,42,43,44,45,46,47,48,49,50,51,52,53,54,55,56,57,58,59,60,61,62,63,64,65,66,67,68,69,70,71,72,73,74,75,76,77,78,79,80,81,82,83,84,85,86,87,88,89,90,91,92,93,94,95,96,97,98,99,100,101,102,103,104,105,106,107,108,109,110,111,112,113,114,115,116,117,118,119,5,6,7,8,9,10,11,12,13,14,15,16,17,18,19,20,21,22,23,24,25,26,27,28,29,30,31,32,33,34,35,36,37,38,39,40,41,42,43,44,45,46,47,48,49,50,51,52,53,54,55,56,57,58,59,60,61,62,63,64,65,66,67,68,69,70,71,72,73,74,75,76,77,78,79,80,81,82,83,84,85,86,87,88,89,90,91,92,93,94,95,96,97,98,99,100,101,102,103,104,105,106,107,108,109,110,111,112,113,114,115,116,117,118,119,5,6,7,8,9,10,11,12,13,14,15,16,17,18,19,20,21,22,23,24,25,26,27,28,29,30,31,32,33,34,35,36,37,38,39,40,41,42,43,44,45,46,47,48,49,50,51,52,53,54,55,56,57,58,59,60,61,62,63,64,65,66,67,68,69,70,71,72,73,74,75,76,77,78,79,80,81,82,83,84,85,86,87,88,89,90,91,92,93,94,95,96,97,98,99,100,101,102,103,104,105,106,107,108,109,110,111,112,113,114,115,116,117,118,119,5,6,7,8,9,10,11,12,13,14,15,16,17,18,19,20,21,22,23,24,25,26,27,28,29,30,31,32,33,34,35,36,37,38,39,40,41,42,43,44,45,46,47,48,49,50,51,52,53,54,55,56,57,58,59,60,61,62,63,64,65,66,67,68,69,70,71,72,73,74,75,76,77,78,79,80,81,82,83,84,85,86,87,88,89,90,91,92,93,94,95,96,97,98,99,100,101,102,103,104,105,106,107,108,109,110,111,112,113,114,115,116,117,118,119,5,6,7,8,9,10,11,12,13,14,15,16,17,18,19,20,21,22,23,24,25,26,27,28,29,30,31,32,33,34,35,36,37,38,39,40,41,42,43,44,45,46,47,48,49,50,51,52,53,54,55,56,57,58,59,60,61,62,63,64,65,66,67,68,69,70,71,72,73,74,75,76,77,78,79,80,81,82,83,84,85,86,87,88,89,90,91,92,93,94,95,96,97,98,99,100,101,102,103,104,105,106,107,108,109,110,111,112,113,114,115,116,117,118,119,5,6,7,8,9,10,11,12,13,14,15,16,17,18,19,20,21,22,23,24,25,26,27,28,29,30,31,32,33,34,35,36,37,38,39,40,41,42,43,44,45,46,47,48,49,50,51,52,53,54,55,56,57,58,59,60,61,62,63,64,65,66,67,68,69,70,71,72,73,74,75,76,77,78,79,80,81,82,83,84,85,86,87,88,89,90,91,92,93,94,95,96,97,98,99,100,101,102,103,104,105,106,107,108,109,110,111,112,113,114,115,116,117,118,119,5,6,7,8,9,10,11,12,13,14,15,16,17,18,19,20,21,22,23,24,25,26,27,28,29,30,31,32,33,34,35,36,37,38,39,40,41,42,43,44,45,46,47,48,49,50,51,52,53,54,55,56,57,58,59,60,61,62,63,64,65,66,67,68,69,70,71,72,73,74,75,76,77,78,79,80,81,82,83,84,85,86,87,88,89,90,91,92,93,94,95,96,97,98,99,100,101,102,103,104,105,106,107,108,109,110,111,112,113,114,115,116,117,118,119,5,6,7,8,9,10,11,12,13,14,15,16,17,18,19,20,21,22,23,24,25,26,27,28,29,30,31,32,33,34,35,36,37,38,39,40,41,42,43,44,45,46,47,48,49,50,51,52,53,54,55,56,57,58,59,60,61,62,63,64,65,66,67,68,69,70,71,72,73,74,75,76,77,78,79,80,81,82,83,84,85,86,87,88,89,90,91,92,93,94,95,96,97,98,99,100,101,102,103,104,105,106,107,108,109,110,111,112,113,114,115,116,117,118,119,5,6,7,8,9,10,11,12,13,14,15,16,17,18,19,20,21,22,23,24,25,26,27,28,29,30,31,32,33,34,35,36,37,38,39,40,41,42,43,44,45,46,47,48,49,50,51,52,53,54,55,56,57,58,59,60,61,62,63,64,65,66,67,68,69,70,71,72,73,74,75,76,77,78,79,80,81,82,83,84,85,86,87,88,89,90,91,92,93,94,95,96,97,98,99,100,101,102,103,104,105,106,107,108,109,110,111,112,113,114,115,116,117,118,119,5,6,7,8,9,10,11,12,13,14,15,16,17,18,19,20,21,22,23,24,25,26,27,28,29,30,31,32,33,34,35,36,37,38,39,40,41,42,43,44,45,46,47,48,49,50,51,52,53,54,55,56,57,58,59,60,61,62,63,64,65,66,67,68,69,70,71,72,73,74,75,76,77,78,79,80,81,82,83,84,85,86,87,88,89,90,91,92,93,94,95,96,97,98,99,100,101,102,103,104,105,106,107,108,109,110,111,112,113,114,115,116,117,118,119,5,6,7,8,9,10,11,12,13,14,15,16,17,18,19,20,21,22,23,24,25,26,27,28,29,30,31,32,33,34,35,36,37,38,39,40,41,42,43,44,45,46,47,48,49,50,51,52,53,54,55,56,57,58,59,60,61,62,63,64,65,66,67,68,69,70,71,72,73,74,75,76,77,78,79,80,81,82,83,84,85,86,87,88,89,90,91,92,93,94,95,96,97,98,99,100,101,102,103,104,105,106,107,108,109,110,111,112,113,114,115,116,117,118,119,5,6,7,8,9,10,11,12,13,14,15,16,17,18,19,20,21,22,23,24,25,26,27,28,29,30,31,32,33,34,35,36,37,38,39,40,41,42,43,44,45,46,47,48,49,50,51,52,53,54,55,56,57,58,59,60,61,62,63,64,65,66,67,68,69,70,71,72,73,74,75,76,77,78,79,80,81,82,83,84,85,86,87,88,89,90,91,92,93,94,95,96,97,98,99,100,101,102,103,104,105,106,107,108,109,110,111,112,113,114,115,116,117,118,119,5,6,7,8,9,10,11,12,13,14,15,16,17,18,19,20,21,22,23,24,25,26,27,28,29,30,31,32,33,34,35,36,37,38,39,40,41,42,43,44,45,46,47,48,49,50,51,52,53,54,55,56,57,58,59,60,61,62,63,64,65,66,67,68,69,70,71,72,73,74,75,76,77,78,79,80,81,82,83,84,85,86,87,88,89,90,91,92,93,94,95,96,97,98,99,100,101,102,103,104,105,106,107,108,109,110,111,112,113,114,115,116,117,118,119,5,6,7,8,9,10,11,12,13,14,15,16,17,18,19,20,21,22,23,24,25,26,27,28,29,30,31,32,33,34,35,36,37,38,39,40,41,42,43,44,45,46,47,48,49,50,51,52,53,54,55,56,57,58,59,60,61,62,63,64,65,66,67,68,69,70,71,72,73,74,75,76,77,78,79,80,81,82,83,84,85,86,87,88,89,90,91,92,93,94,95,96,97,98,99,100,101,102,103,104,105,106,107,108,109,110,111,112,113,114,115,116,117,118,119,5,6,7,8,9,10,11,12,13,14,15,16,17,18,19,20,21,22,23,24,25,26,27,28,29,30,31,32,33,34,35,36,37,38,39,40,41,42,43,44,45,46,47,48,49,50,51,52,53,54,55,56,57,58,59,60,61,62,63,64,65,66,67,68,69,70,71,72,73,74,75,76,77,78,79,80,81,82,83,84,85,86,87,88,89,90,91,92,93,94,95,96,97,98,99,100,101,102,103,104,105,106,107,108,109,110,111,112,113,114,115,116,117,118,119,5,6,7,8,9,10,11,12,13,14,15,16,17,18,19,20,21,22,23,24,25,26,27,28,29,30,31,32,33,34,35,36,37,38,39,40,41,42,43,44,45,46,47,48,49,50,51,52,53,54,55,56,57,58,59,60,61,62,63,64,65,66,67,68,69,70,71,72,73,74,75,76,77,78,79,80,81,82,83,84,85,86,87,88,89,90,91,92,93,94,95,96,97,98,99,100,101,102,103,104,105,106,107,108,109,110,111,112,113,114,115,116,117,118,119,5,6,7,8,9,10,11,12,13,14,15,16,17,18,19,20,21,22,23,24,25,26,27,28,29,30,31,32,33,34,35,36,37,38,39,40,41,42,43,44,45,46,47,48,49,50,51,52,53,54,55,56,57,58,59,60,61,62,63,64,65,66,67,68,69,70,71,72,73,74,75,76,77,78,79,80,81,82,83,84,85,86,87,88,89,90,91,92,93,94,95,96,97,98,99,100,101,102,103,104,105,106,107,108,109,110,111,112,113,114,115,116,117,118,119,5,6,7,8,9,10,11,12,13,14,15,16,17,18,19,20,21,22,23,24,25,26,27,28,29,30,31,32,33,34,35,36,37,38,39,40,41,42,43,44,45,46,47,48,49,50,51,52,53,54,55,56,57,58,59,60,61,62,63,64,65,66,67,68,69,70,71,72,73,74,75,76,77,78,79,80,81,82,83,84,85,86,87,88,89,90,91,92,93,94,95,96,97,98,99,100,101,102,103,104,105,106,107,108,109,110,111,112,113,114,115,116,117,118,119],\"z\":[294.95,405.68,395.84,350.83,454.04,428.89,245.07,268.79,149.92,187.81,190.69,221.63,211.68,269.59,243.24,215.78,235.53,256.58,264.01,215.56,212.69,212.69,257.48,224.93,252.15,273.98,273.72,278.81,278.81,311.9,311.9,351.59,391.95,392.54,382.51,373.06,372.96,377.83,387.27,387.27,382.3,402.4,531.68,527.52,514.87,508.53,503.24,554.51,476.78,442.18,446.93,468.38,432.76,456.7,468.06,468.06,439.66,397.71,397.71,394.8,369.64,296.18,305.32,305.32,305.32,292.65,292.65,288.84,266.24,275.55,272.23,272.23,254.84,295.38,311.81,311.81,320.39,334.54,339.07,343.06,334.11,313.25,321.77,304.25,308.42,308.42,316.93,324.95,339.11,352.84,316.61,316.61,333.32,333.32,328.81,314.95,266.43,237.12,237.12,244.37,255.24,281.74,312.69,312.69,312.69,338.79,342.75,351.69,351.69,351.69,351.69,351.79,347.32,329.89,329.89,743.21,531.54,417.92,397.69,505.69,544.36,557.78,520.47,529.17,506.13,431.75,579.36,502.82,448.17,412.42,371.17,260.1,221.79,302.16,333.02,341.51,418.9,371.76,412.42,412.42,404.65,421.91,393.29,344.16,353.13,449.54,372.56,394.36,394.36,370.15,390.7,390.7,361.16,317.87,331.03,346.04,346.04,373.35,388.4,378.43,340.36,355.64,360.25,369.11,369.11,369.11,429.13,429.13,439.12,439.12,420.15,419.41,346.18,341.48,328.63,336.28,329.21,338.06,346.24,355.45,361.79,371.32,380.56,385.41,350.85,374.74,384.52,394.94,394.94,405.7,405.7,375.36,375.36,377.18,369.98,385.35,535.8,535.8,535.8,569.84,562.71,562.71,490.23,501.87,520.35,506.72,517.62,523.99,600.99,608.87,616.41,616.41,616.41,616.41,670.33,670.33,678.35,678.35,718.07,727.16,735.95,760.78,760.78,760.78,823.4,823.4,853.0,844.04,858.45,877.62,398.89,470.5,645.53,666.83,873.37,617.64,656.06,673.05,734.64,777.87,687.4,764.32,1287.75,1072.88,969.89,945.7,951.84,1041.18,1113.06,1241.08,1189.79,1237.86,1529.71,1564.75,1535.18,1568.73,1144.12,854.05,854.05,854.05,894.88,776.14,723.57,732.33,736.79,728.07,736.35,763.73,866.75,852.1,821.64,751.9,798.11,819.16,860.47,779.33,779.33,848.49,1011.91,904.93,904.93,1000.13,1085.25,1085.25,1025.98,1038.22,1038.22,1039.84,891.66,872.21,777.84,815.59,815.59,815.59,666.35,701.58,725.39,760.52,760.52,769.12,717.2,717.2,711.06,765.74,787.85,796.47,861.88,861.88,881.32,992.37,1061.6,984.16,898.1,889.57,918.63,918.63,939.63,852.49,852.49,864.56,826.4,826.4,826.4,826.4,826.4,826.4,826.4,826.4,752.29,655.53,672.23,672.23,610.45,624.52,566.43,597.17,619.98,619.98,627.72,627.72,622.21,549.99,538.28,551.86,551.86,629.63,695.77,689.4,773.81,966.4,1059.63,1141.88,1191.71,1002.92,969.63,892.51,899.42,1231.39,965.43,865.96,855.9,865.56,797.97,851.93,762.62,728.96,966.55,1159.8,1159.8,1115.24,1266.29,1266.29,1294.46,1950.85,1689.04,1511.27,1511.36,1347.24,1327.13,1244.08,1254.34,1283.47,1470.69,1470.69,1523.73,1506.81,1556.13,1556.13,1315.82,1315.82,1317.02,1317.02,1346.73,1462.57,1338.63,1485.57,1491.77,1491.77,1479.62,1479.62,1611.63,1585.69,1537.62,1553.99,1223.23,1223.23,1413.52,1124.83,1124.83,1124.83,1124.83,1137.33,1146.77,968.45,854.81,807.07,807.07,807.07,807.07,833.75,904.8,882.22,891.94,891.94,891.94,942.42,942.42,854.39,892.2,902.87,902.87,913.65,913.65,913.65,990.2,990.2,1004.19,924.46,903.97,903.97,996.78,1026.97,1026.97,1026.97,958.5,958.5,871.1,871.1,893.43,893.43,911.66,866.01,905.9,905.9,775.14,676.44,676.44,662.45,662.45,662.45,439.42,506.45,688.08,577.81,654.36,638.01,545.06,680.94,638.11,683.25,639.73,830.12,843.95,897.98,870.51,880.94,946.49,810.45,806.65,847.71,829.06,1218.86,1274.75,1108.49,1108.49,1200.15,1203.7,1287.81,1287.81,1239.54,1129.45,1118.72,1132.73,1262.74,1172.21,1222.04,1233.74,1238.63,1238.63,1269.76,1165.73,1185.2,1253.88,1229.69,810.33,818.04,811.08,840.16,899.03,910.26,778.92,794.9,794.9,838.63,838.63,838.63,866.36,847.41,882.58,930.6,930.6,963.03,974.46,1428.48,1428.48,1440.23,1445.01,1445.01,1445.01,1182.36,1142.13,1142.13,1221.41,1343.56,1321.69,1176.89,1176.89,1199.93,1199.93,1186.54,1159.45,1049.73,1049.73,1049.73,1062.1,1062.1,1062.1,1062.1,1062.1,1161.76,1161.76,1161.76,1161.76,1199.62,1030.78,1050.97,1050.97,1077.58,1077.58,1202.01,1202.01,1256.83,1423.57,1423.57,1423.57,1449.39,1449.39,1449.39,1449.39,1461.31,1461.31,1507.41,1527.76,1527.76,1527.76,375.86,326.15,279.49,378.83,395.63,508.01,473.02,686.44,759.92,738.18,768.34,895.5,872.53,853.98,923.29,1077.85,909.33,919.45,910.88,882.85,853.36,846.08,873.97,873.97,881.46,927.77,959.77,959.77,848.97,859.06,888.94,888.94,881.51,881.51,997.75,1256.77,1080.39,1129.82,1121.72,1134.86,1133.17,1133.17,1142.66,1142.66,1142.66,1143.51,1209.66,1249.98,1138.55,1138.55,1138.55,1138.55,1156.18,1156.18,1156.18,1169.55,1371.69,1342.55,1042.64,1079.0,1079.0,1091.96,1091.96,1193.28,1221.77,1221.77,1244.37,1244.37,1186.97,1186.97,1350.49,1350.49,1350.49,1350.49,1350.49,1350.49,1372.81,1419.17,1419.17,1423.44,928.81,939.31,978.97,962.63,1005.77,1005.77,1056.03,1056.03,1056.03,1129.82,1143.64,1143.64,1134.15,1134.15,1134.15,1134.15,1057.5,907.02,907.02,942.99,942.99,942.99,976.63,960.32,960.32,978.6,1039.89,964.06,984.92,984.92,984.92,1004.47,985.75,985.75,985.75,150.96,356.76,493.3,459.92,491.18,496.21,589.21,644.06,631.69,702.76,850.13,830.54,781.7,731.75,756.46,699.33,731.2,740.24,829.38,625.71,603.5,540.4,528.0,547.69,552.36,459.16,459.16,475.99,475.99,464.3,481.22,481.22,491.11,495.62,562.19,575.45,575.45,590.14,590.14,608.96,601.5,596.15,630.1,630.1,638.3,630.45,624.84,524.55,558.13,558.13,588.04,608.16,608.16,758.55,646.94,646.94,646.94,631.69,922.82,912.17,919.89,1036.76,1001.6,1013.44,1028.44,1028.44,1028.44,1069.11,1069.11,1079.55,1129.21,1129.21,1138.59,1148.12,1148.12,1148.12,1148.12,1148.12,1102.73,1283.68,1254.55,1283.99,1283.99,1308.27,1323.42,1350.02,1350.02,1381.21,1396.96,1527.34,1515.01,1515.01,1320.96,1320.96,1198.37,1212.18,1080.82,1080.82,950.93,1010.41,1010.41,1010.41,1010.41,1031.97,1023.4,1043.46,1043.46,1043.46,1043.46,1009.16,1009.16,1009.16,989.7,998.02,998.02,630.21,496.04,517.66,499.01,514.83,514.83,431.56,506.43,518.32,461.3,487.35,473.75,614.17,673.67,741.87,758.35,763.28,788.63,788.63,778.03,760.14,764.4,784.05,765.68,785.35,792.16,786.7,809.72,690.48,603.53,634.2,666.92,630.4,611.51,798.05,957.12,978.05,958.39,740.49,700.16,697.83,607.49,445.61,445.61,449.8,426.7,480.63,480.63,511.85,511.85,661.41,661.41,667.27,682.02,703.35,703.35,703.35,717.37,726.07,717.46,723.71,723.71,723.71,731.26,731.26,740.4,749.43,742.95,752.42,752.42,563.73,637.48,637.48,637.48,626.39,626.39,632.87,641.11,641.11,683.21,680.49,680.49,680.49,680.74,697.71,594.01,594.01,594.01,594.01,638.31,664.97,670.81,852.69,852.69,852.69,852.69,852.69,852.69,906.62,906.62,949.0,949.0,949.0,1074.29,1074.29,1095.26,1287.35,1370.59,1370.59,1370.59,1381.82,1381.82,1386.8,1386.8,1386.8,325.5,428.12,423.07,413.81,531.45,502.78,395.36,413.21,319.02,377.73,363.35,417.84,352.74,431.19,393.32,349.18,397.16,428.35,439.59,367.77,363.51,363.51,398.38,353.0,390.96,421.38,421.02,428.12,428.12,474.25,474.25,529.58,585.85,586.68,572.69,594.23,566.32,566.32,579.48,790.11,790.11,836.76,846.42,840.19,821.23,821.23,813.22,911.05,755.35,669.82,676.57,691.8,642.17,675.52,691.85,691.85,652.26,607.12,607.12,602.99,567.25,462.87,475.86,475.86,475.86,457.87,457.87,452.45,420.34,433.57,428.85,428.85,404.14,456.48,479.61,479.61,491.69,500.78,507.04,512.56,512.56,477.17,489.07,507.11,513.37,513.37,526.14,526.14,547.02,560.22,507.4,507.4,531.76,531.76,525.18,504.98,434.24,434.24,434.24,434.24,451.11,492.21,540.23,540.23,540.23,573.92,579.99,593.73,593.73,593.73,586.86,587.02,587.02,560.25,560.25,770.01,551.61,434.38,413.51,518.57,558.06,564.91,514.27,522.88,500.07,392.52,529.25,455.38,467.45,430.44,464.51,419.81,364.5,480.52,492.81,504.43,610.39,625.66,640.73,640.73,629.51,654.45,613.08,515.85,528.29,646.73,542.12,557.27,557.27,551.13,552.4,552.4,506.87,449.91,467.22,493.02,499.14,537.38,557.65,544.23,499.13,520.2,539.25,525.5,525.5,525.5,592.08,592.08,569.89,569.89,546.32,545.4,470.89,464.88,448.42,458.22,472.54,484.34,495.26,501.46,509.85,522.42,731.36,739.76,679.96,721.29,729.75,747.6,747.6,766.02,766.02,714.06,714.06,717.17,704.85,748.3,739.64,739.64,739.64,784.58,775.17,775.17,679.45,694.82,719.24,701.23,715.64,724.04,825.73,836.13,846.09,846.09,846.09,846.09,917.3,917.3,927.9,927.9,980.34,992.34,1003.96,1036.75,1036.75,1036.75,1119.44,1119.44,1158.54,1169.58,1130.9,1155.52,414.64,488.52,661.22,682.98,893.86,632.75,678.52,673.05,734.64,777.87,687.4,737.58,1287.75,1072.88,969.89,945.7,951.84,1041.18,1113.06,1241.08,1202.82,1251.38,1546.17,1581.57,1551.7,1568.73,1144.12,1191.52,1191.52,1191.52,1246.8,1217.84,1138.77,1151.95,1177.76,1113.87,1126.01,1247.27,1260.44,1239.83,1210.61,1124.19,1190.59,1220.85,1280.21,1172.19,1172.19,1298.02,1440.56,1290.2,1290.2,1392.64,1508.12,1508.12,1427.71,1444.32,1444.32,1476.83,1271.84,1244.94,1114.39,1166.61,1166.61,1166.61,960.15,1008.9,1041.84,1041.84,1041.84,1053.25,973.41,973.41,965.34,1037.17,1066.21,1077.53,1163.45,1163.45,1188.98,1334.85,1457.24,1338.59,1224.4,1213.08,1251.64,1251.64,1279.51,1320.09,1320.09,1338.09,1281.19,1281.19,1281.19,1281.19,1281.19,1281.19,1281.19,1281.19,1170.7,1026.43,1051.33,1051.33,959.22,980.2,893.59,939.42,1306.2,1306.2,1321.32,1321.32,1310.55,1169.5,1169.5,1138.11,1138.11,644.99,719.65,713.08,772.19,964.43,1057.48,1179.14,1191.71,1355.86,1311.92,1210.11,1219.24,1657.43,1306.36,1175.07,1161.79,1174.53,1174.53,1251.12,1124.36,1088.47,1322.07,1579.74,1579.74,1520.32,1703.5,1703.5,1740.68,1950.85,1689.04,1511.27,1511.36,1347.24,1327.13,1244.08,1254.34,1283.47,1454.33,1454.33,1506.81,1506.81,1573.56,1573.56,1623.77,1623.77,1643.58,1643.58,1754.3,1782.61,1633.3,1810.33,1780.19,1780.19,1765.83,1765.83,1921.77,1891.13,1873.03,1892.76,1494.25,1494.25,1545.13,1562.09,1562.09,1562.09,1562.09,1579.05,1591.87,1349.88,1195.68,1117.94,1117.94,1117.94,1117.94,1153.76,1203.03,1173.75,1186.36,1186.36,1186.36,1280.89,1266.2,1157.39,1207.2,1221.25,1221.25,1235.46,1235.46,1235.46,1336.32,1336.32,1354.74,1249.7,1222.71,1222.71,1344.98,1384.75,1384.75,1384.75,1292.42,1292.42,1177.45,1177.45,1206.81,1206.81,1230.79,1170.74,1223.22,1223.22,1051.21,921.38,921.38,921.38,875.37,875.37,437.68,504.5,685.54,650.69,735.97,717.85,614.85,739.72,693.66,742.2,695.41,830.12,843.95,897.98,870.51,880.94,946.49,810.45,806.65,847.71,857.8,1259.65,1317.27,1145.86,1145.86,1254.32,1258.02,1345.64,1345.64,1295.35,1180.67,1169.5,1184.09,1319.52,1172.21,1222.04,1233.74,1225.11,1225.11,1255.93,1165.73,1198.32,1267.69,1243.26,1113.89,1136.8,1127.43,1179.4,1192.86,1207.39,1037.43,1058.11,1058.11,1114.7,1114.7,1114.7,1150.58,1150.58,1197.0,1260.39,1260.39,1303.19,1318.28,1428.48,1428.48,1440.23,1445.01,1445.01,1445.01,1445.01,1380.79,1380.79,1475.3,1620.92,1594.85,1422.22,1422.22,1449.69,1449.69,1433.73,1433.73,1285.22,1285.22,1285.22,1300.12,1300.12,1300.12,1300.12,1300.12,1420.2,1420.2,1420.2,1420.2,1465.8,1262.38,1286.71,1286.71,1318.77,1318.77,1468.68,1468.68,1534.73,1556.05,1556.05,1556.05,1584.12,1584.12,1584.12,1584.12,1597.08,1582.93,1632.63,1684.3,1624.32,1624.32,410.03,407.8,352.2,470.57,490.59,573.78,535.02,686.44,759.92,738.18,768.34,895.5,872.53,853.98,923.29,1077.85,909.33,919.45,910.88,882.85,882.85,875.34,904.09,904.09,911.81,970.59,1003.93,1003.93,888.51,899.03,930.15,930.15,922.4,922.4,997.75,1256.77,1080.39,1117.27,1109.26,1122.26,1133.17,1145.88,1155.47,1155.47,1155.47,1169.42,1236.94,1292.17,1114.03,1114.03,1114.03,1114.03,1131.31,1131.31,1131.31,1144.41,1342.55,1342.55,1042.64,1079.0,1079.0,1091.96,1091.96,1193.28,1221.77,1221.77,1244.37,1244.37,1173.42,1173.42,1335.23,1335.23,1335.23,1335.23,1335.23,1335.23,1357.31,1403.18,1403.18,1407.4,1272.63,1271.88,1324.25,1302.67,1359.62,1359.62,1425.96,1425.96,1425.96,1523.37,1541.61,1541.61,1529.08,1529.08,1529.08,1529.08,1427.9,1229.27,1229.27,1276.74,1276.74,1276.74,1321.15,1299.62,1299.62,1323.75,1404.65,1304.56,1332.1,1332.1,1332.1,1357.9,1357.9,1296.13,1296.13,212.49,424.89,463.89,432.17,461.88,466.65,555.05,586.17,642.86,715.01,864.64,844.75,832.46,779.64,805.76,745.35,779.05,788.61,882.88,905.42,874.64,767.21,750.41,777.08,783.4,657.2,657.2,679.98,679.98,664.16,687.06,687.06,700.46,706.57,796.72,814.68,814.68,824.73,824.73,849.95,849.95,852.73,899.2,899.2,910.42,910.42,902.66,773.02,773.02,773.02,812.71,839.4,839.4,1038.89,890.84,890.84,890.84,890.84,1285.07,1256.22,1266.57,1024.79,990.0,1001.72,1016.56,1016.56,1016.56,1056.8,1056.8,1067.13,1116.27,1116.27,1125.56,1134.98,1134.98,1134.98,1134.98,1134.98,1090.07,1269.11,1269.11,1283.99,1283.99,1308.27,1323.42,1350.02,1350.02,1381.21,1396.96,1527.34,1515.01,1515.01,1320.96,1320.96,1198.37,1212.18,1080.82,1080.82,950.93,1010.41,1010.41,1010.41,1010.41,1031.97,1023.4,1043.46,1043.46,1043.46,1043.46,1043.46,1033.43,1033.43,1033.43,1001.65,1001.65,669.93,528.46,551.66,531.98,548.68,548.68,460.83,520.42,532.59,646.53,681.17,655.3,903.21,986.78,1082.58,1105.73,1112.66,1148.27,1148.27,1133.38,1108.25,1151.79,1180.24,1153.63,1182.12,1191.99,1184.08,1217.41,1044.74,918.82,974.2,1022.08,968.64,941.01,1164.77,1388.8,1418.28,1374.9,1201.38,1138.94,1148.47,993.65,1004.86,1004.86,1013.36,978.05,1088.43,1100.94,1100.94,1100.94,1394.5,1394.5,1406.0,1434.96,1476.82,1476.82,1476.82,1537.78,1555.2,1520.72,1533.09,1533.09,1533.09,1548.07,1548.07,1566.18,1584.1,1571.24,1590.02,1590.02,1229.91,1229.91,1229.91,1229.91,1209.92,1209.92,1221.61,1236.46,1236.46,1312.4,1338.08,1307.48,1307.48,1307.94,1338.54,1151.53,1151.53,1151.53,1151.53,1231.42,1279.5,1290.03,1618.02,1618.02,1618.02,1618.02,1618.02,1618.02,1715.27,1715.27,1791.7,1791.7,1791.7,1414.92,1414.92,1441.97,1689.79,1359.37,1359.37,1359.37,1357.61,1357.61,1388.62,1335.93,1335.93,304.18,438.92,349.19,370.3,453.1,493.67,402.91,410.41,351.32,377.25,348.42,377.91,324.71,366.27,390.4,390.4,411.24,416.46,416.51,376.42,362.55,362.55,362.55,372.39,401.41,437.81,437.81,449.13,449.13,484.58,484.58,496.04,535.92,549.17,529.89,540.66,508.56,508.56,520.58,520.58,520.58,546.43,545.59,528.52,549.01,549.01,543.37,598.04,515.15,453.64,458.49,469.44,433.75,433.75,444.99,444.99,417.74,386.68,386.68,403.18,377.6,330.44,330.44,330.44,330.44,316.99,316.99,316.99,292.75,292.75,289.28,289.28,270.89,305.31,322.16,322.16,322.16,324.36,324.36,328.22,328.22,310.49,310.23,310.23,310.23,310.23,319.05,319.05,333.02,341.86,306.51,306.51,322.81,322.81,318.41,293.21,293.21,293.21,293.21,293.21,305.63,335.88,371.22,371.22,371.22,375.98,380.27,380.27,380.27,380.27,380.27,375.27,375.27,356.75,356.75,536.17,434.08,396.62,413.54,596.81,610.08,627.28,586.03,595.65,570.18,442.53,556.52,463.2,475.45,437.91,449.57,406.05,391.53,514.3,533.43,546.19,643.63,659.63,644.38,644.38,633.11,658.17,608.97,512.31,524.68,567.3,469.44,494.74,494.74,489.19,461.23,461.23,421.71,437.21,448.48,473.42,473.42,510.02,516.31,503.73,461.47,481.73,487.61,498.93,498.93,498.93,562.68,562.68,503.04,503.04,463.94,475.94,399.26,394.0,394.0,402.82,349.06,358.32,358.32,358.32,354.26,363.63,363.63,368.31,388.9,414.8,420.11,431.29,431.29,442.97,442.97,442.97,442.97,445.04,436.83,447.35,456.58,456.58,456.58,468.29,462.25,462.25,400.75,410.63,426.31,420.46,429.82,435.28,539.72,546.9,553.79,553.79,553.79,553.79,640.39,640.39,640.39,640.39,678.16,678.16,672.27,695.21,695.21,695.21,733.81,733.81,717.24,724.41,737.0,753.74,411.8,485.27,608.17,636.5,909.78,644.49,659.89,659.89,720.59,763.08,658.96,664.39,1228.76,1134.1,980.94,1007.61,1014.12,1057.86,1130.79,1260.68,1221.86,1231.95,1522.5,1557.39,1493.32,1509.74,1100.15,1145.87,1145.87,1145.87,1199.2,1171.26,1094.98,1107.7,1132.6,1058.64,1070.23,1227.01,1239.98,1219.68,1190.9,1077.0,1100.07,1128.21,1183.41,1082.97,1082.97,1163.63,1381.35,1236.77,1236.77,1335.27,1446.31,1446.31,1369.0,1385.14,1385.14,1416.4,1219.27,1232.21,1102.89,1118.07,1118.07,1118.07,919.53,966.4,966.4,966.4,966.4,977.07,902.5,902.5,894.96,950.5,977.33,987.79,1067.16,1067.16,1090.74,1211.83,1323.73,1228.81,1122.51,1112.06,1134.93,1134.93,1160.39,1197.46,1197.46,1203.88,1125.65,1148.34,1148.34,1148.34,1148.34,1148.34,1148.34,1148.34,1048.48,1226.89,1242.4,1242.4,1242.4,1268.98,1146.25,1180.23,1208.07,1208.07,1222.13,1222.13,1212.11,1080.9,1080.9,1080.9,1080.9,615.19,655.85,649.79,661.52,829.36,910.61,1079.57,1457.75,1230.08,1189.93,1073.45,1176.16,1227.23,962.1,862.94,852.91,1058.61,1058.61,1128.23,1013.0,980.38,1192.73,1426.96,1426.96,1372.95,1539.46,1539.46,1573.27,2360.9,2777.08,2491.19,2491.34,2227.4,2195.06,2038.76,2055.08,2101.43,2373.31,2373.31,2456.82,2456.82,2535.29,2535.29,2535.29,2535.29,2565.59,2565.59,2621.46,2861.98,2627.06,2905.59,2790.41,2790.41,2768.34,2768.34,3008.06,2960.96,2933.14,2445.04,1936.08,1936.08,2001.07,2022.73,2022.73,2022.73,2022.73,2044.39,2060.76,1751.7,1554.76,1455.47,1455.47,1455.47,1455.47,1501.22,1564.15,1526.76,1542.86,1542.86,1542.86,1605.45,1605.45,1469.61,1531.8,1531.8,1531.8,1549.34,1549.34,1549.34,1674.11,1674.11,1710.69,1549.01,1516.03,1516.03,1665.42,1714.01,1714.01,1714.01,1554.38,1554.38,1417.78,1417.78,1452.67,1452.67,1452.67,1397.07,1458.9,1458.9,1256.24,1103.3,1103.3,1103.3,1103.3,1103.3,536.59,615.7,830.05,798.78,900.68,878.99,755.69,935.94,879.12,939.0,861.65,1024.51,1348.99,1431.92,1389.75,1405.77,1506.38,1297.55,1709.24,1791.19,1811.31,2018.22,2107.98,1840.95,1840.95,2026.15,2031.96,2169.5,2169.5,2090.56,1910.53,1892.99,1915.89,2128.5,1876.22,1954.29,1972.47,1959.06,1959.06,2006.95,1866.79,1897.05,2003.76,1966.18,1314.54,1341.23,1330.31,1375.96,1437.62,1454.9,1252.76,1277.36,1277.36,1344.66,1344.66,1344.66,1387.34,1387.34,1442.54,1517.93,1517.93,1568.84,1586.79,2299.55,2299.55,2318.01,2325.51,2325.51,2325.51,2325.51,2224.68,2224.68,2373.06,2601.67,1931.09,1724.22,1724.22,1757.14,1757.14,1738.01,1738.01,1577.89,1577.89,1577.89,1577.89,1577.89,1577.89,1577.89,1577.89,1721.79,1721.79,1721.79,1721.79,1721.79,1481.58,1509.82,1509.82,1547.04,1547.04,1659.34,1659.34,1733.41,1757.32,1757.32,1757.32,1757.32,1757.32,1757.32,1757.32,1771.61,1771.61,1826.88,1885.47,1885.47,1885.47,508.5,512.53,445.46,588.24,612.39,712.74,665.98,877.67,969.03,941.99,957.9,1112.81,1084.83,1062.23,1146.68,1334.98,1129.67,1141.99,1131.55,1366.48,1366.48,1355.29,1398.17,1398.17,1862.61,1976.63,2041.29,2041.29,1817.41,1837.81,1898.18,1898.18,1883.15,1883.15,2007.35,2007.35,1733.39,1790.69,1333.76,1349.18,1362.12,1362.12,1373.37,1373.37,1373.37,1389.74,1468.98,1517.29,1354.41,1354.41,1354.41,1354.41,1375.12,1375.12,1375.12,1390.81,1628.18,1628.18,1268.89,1298.33,1298.33,1327.98,1327.98,1449.36,1483.49,1483.49,1510.56,1510.56,1425.57,1425.57,1619.41,1619.41,1619.41,1619.41,1619.41,1619.41,1645.87,1700.82,1700.82,1705.88,1145.77,1158.49,1206.52,1186.72,1224.72,1224.72,1284.94,1284.94,1284.94,1373.34,1389.89,1389.89,1378.52,1378.52,1378.52,1378.52,1286.69,1106.42,1106.42,1117.19,1117.19,1117.19,1156.46,1137.42,1137.42,1137.42,1207.73,1120.74,1144.67,1144.67,1144.67,1167.1,1167.1,1167.1,1167.1,276.93,533.14,580.18,541.92,577.76,583.52,690.14,753.38,823.88,913.62,1075.22,1050.99,1036.02,971.66,1003.49,929.89,970.95,982.59,1097.44,1124.9,1074.9,937.42,676.58,700.94,706.71,591.46,591.46,612.27,612.27,754.63,780.25,780.25,1063.8,1072.69,1203.61,1229.71,1229.71,1244.32,1244.32,1280.99,1280.99,1270.45,1337.29,1337.29,1353.44,1353.44,1342.28,1142.72,1182.81,1182.81,1241.12,1280.34,1280.34,1573.47,1355.92,1355.92,1355.92,1355.92,1546.66,1546.66,1571.99,1247.51,1205.83,1219.88,1237.65,1237.65,1237.65,1285.86,1285.86,1298.23,1357.1,1357.1,1368.23,1379.52,1379.52,1379.52,1379.52,1379.52,1325.72,1540.21,1540.21,1575.87,1575.87,1605.27,1605.27,1637.14,1637.14,1674.5,1693.38,1849.57,1834.8,1834.8,1602.32,1602.32,1455.46,1472.0,1314.63,1314.63,1159.02,1194.65,1194.65,1194.65,1194.65,1219.79,1209.79,1209.79,1209.79,1209.79,1209.79,1209.79,1209.79,1209.79,1209.79,1219.79,1219.79,608.95,478.68,499.93,662.16,682.3,682.3,576.35,489.01,500.56,608.73,626.49,573.46,794.51,869.02,954.45,975.09,981.27,1013.02,1013.02,999.74,966.0,1004.41,1029.51,1006.03,1031.17,1039.87,1032.9,1062.3,909.85,798.77,888.38,932.43,883.27,857.84,1072.68,1280.39,1307.73,1267.5,1106.62,1048.73,1404.83,1194.38,1207.66,1179.53,1189.38,1148.49,1523.74,1523.74,1576.12,1576.12,1985.84,1985.84,2001.88,2042.3,2100.73,2100.73,2100.73,2185.8,2210.12,2210.12,2227.75,2179.26,2179.26,2200.17,2200.17,2225.44,2250.45,2232.51,2258.72,2258.72,1756.13,1826.84,1826.84,1826.84,1797.86,1797.86,1814.81,1836.32,1836.32,1946.34,1983.55,1983.55,1983.55,1984.22,1984.22,1713.27,1713.27,1713.27,1713.27,1829.01,1898.68,1913.94,1913.94,1913.94,1913.94,1913.94,1913.94,1913.94,1970.94,1970.94,2058.14,2058.14,2058.14,1628.29,1628.29,1628.29,1906.05,1535.71,1535.71,1535.71,1560.87,1560.87,1596.21,1596.21,1596.21,240.45,368.97,298.46,302.77,370.2,394.91,355.86,368.02,313.84,393.77,368.68,442.58,402.18,451.04,427.41,427.41,439.15,444.65,450.02,376.81,376.81,376.81,372.27,372.27,401.29,432.35,437.9,449.22,449.22,472.11,472.11,460.43,460.43,466.21,483.56,469.8,469.67,469.67,469.19,469.19,469.19,493.41,441.19,437.63,449.32,443.65,438.93,484.73,472.55,415.29,419.81,424.91,395.76,395.76,405.88,405.88,380.59,351.75,351.75,352.63,329.85,302.9,291.16,291.16,291.16,278.94,282.58,282.58,282.58,282.58,279.2,279.2,261.0,294.46,310.85,310.85,310.85,306.78,311.02,314.76,314.76,293.98,302.48,302.48,302.48,302.48,302.48,302.48,302.48,302.48,270.29,270.29,285.14,297.05,292.91,297.09,297.09,297.09,297.09,297.09,309.63,340.18,375.87,375.87,375.87,380.68,385.01,385.01,385.01,385.01,385.01,379.95,379.95,390.28,390.28,761.3,614.84,449.04,415.91,522.32,534.17,561.96,517.32,525.57,508.29,465.04,572.74,561.62,576.0,527.12,516.59,467.77,393.39,521.9,521.9,553.46,640.61,656.54,622.1,622.1,622.1,646.79,604.67,590.51,604.45,619.44,523.13,550.82,550.82,518.78,508.33,508.33,459.66,476.39,488.61,494.33,494.33,530.72,537.22,524.21,474.53,494.73,494.73,506.19,506.19,506.19,564.2,564.2,504.43,504.43,467.14,479.2,407.21,401.87,401.87,410.83,422.85,423.16,423.16,423.16,418.53,429.69,429.69,435.04,458.55,489.49,489.49,502.17,502.17,502.17,502.17,466.04,466.04,468.21,459.64,470.61,447.79,447.79,447.79,459.32,453.37,453.37,392.85,402.56,407.64,407.64,416.77,422.09,543.25,543.25,550.1,550.1,550.1,550.1,592.04,592.04,592.04,592.04,592.04,592.04,586.8,586.8,586.8,586.8,614.83,614.83,600.62,606.77,617.56,631.91,389.44,471.22,646.47,676.34,885.55,611.29,597.19,597.19,660.26,699.64,603.17,613.65,1094.22,1009.14,852.53,876.04,892.48,931.45,996.41,1112.12,1053.19,1053.19,1304.75,1320.02,1294.79,1309.17,1094.47,1094.47,1094.47,1094.47,1145.6,1118.81,1045.68,1057.87,1064.07,1051.95,1063.46,1140.18,1152.3,1152.3,1124.99,1124.99,1138.6,1168.28,1225.28,1113.31,1113.31,1196.04,1385.2,1242.3,1242.3,1327.08,1437.49,1437.49,1360.61,1376.84,1376.84,1407.93,1407.93,1407.93,1447.61,1480.54,1464.89,1464.89,1209.82,1209.82,1209.82,1265.55,1265.55,1279.21,1170.62,1170.62,1161.06,1185.55,1185.55,1198.03,1218.66,1218.66,1245.3,1382.11,1461.68,1357.57,1240.96,1229.5,1254.59,1254.59,1282.52,1282.52,1282.52,1282.52,1199.57,1199.57,1199.57,1239.76,1239.76,1239.76,1239.76,1239.76,1132.58,1324.06,1340.87,1340.87,1340.87,1340.87,1216.08,1251.98,1296.55,1296.55,1311.56,1311.56,1300.87,1160.78,1160.78,1160.78,1160.78,636.98,640.7,634.76,646.25,820.53,901.0,1366.94,1442.94,1217.43,1177.67,1062.3,1070.4,1117.23,844.85,739.51,730.77,739.16,739.16,789.59,706.13,706.13,864.58,1039.35,1039.35,999.05,1123.29,1123.29,1148.51,1736.21,2046.74,1833.42,1818.89,1623.45,1549.51,1453.52,1465.38,1499.05,1696.53,1696.53,1743.02,1743.02,1780.25,1780.25,1780.25,1780.25,1760.46,1760.46,1799.46,1478.12,1336.06,1482.73,1456.59,1456.59,1456.59,1456.59,1586.68,1586.68,1571.35,1588.06,1452.28,1452.28,1501.82,1534.69,1534.69,1534.69,1534.69,1551.37,1563.97,1325.97,1174.31,1085.11,1085.11,1085.11,1085.11,1119.96,1212.79,1183.29,1196.0,1196.0,1196.0,1196.0,1196.0,1086.56,1133.56,1133.56,1133.56,1146.97,1146.97,1146.97,1160.83,1160.83,1186.82,1058.14,1120.41,1120.41,1233.89,1270.6,1270.6,1270.6,1151.9,1151.9,1048.54,1048.54,1074.94,1074.94,1074.94,1155.05,1206.88,1206.88,1206.88,1232.76,1232.76,1232.76,1232.76,1232.76,512.29,588.37,794.53,764.46,851.87,831.24,713.96,885.41,831.37,888.33,1048.52,1243.03,1278.31,1357.2,1317.09,1332.33,1411.6,1215.09,1209.61,1268.93,1283.49,1433.26,1498.23,1304.95,1304.95,1074.81,1078.02,1127.62,1127.62,1084.92,987.53,978.05,990.44,1105.44,1025.36,1059.27,1069.53,1061.96,1061.96,1088.99,1009.89,1026.97,1078.19,1057.15,692.2,698.91,692.86,718.16,743.82,753.3,642.37,655.87,655.87,669.49,669.49,669.49,692.22,692.22,721.63,761.78,761.78,788.9,807.53,1191.02,1191.02,1200.95,1126.68,1126.68,1126.68,1126.68,1063.86,1063.86,1163.68,1280.49,1259.57,1121.1,1121.1,1162.26,1162.26,1139.72,1139.72,1030.72,1030.72,1030.72,1030.72,1030.72,1030.72,1030.72,1030.72,1054.03,1054.03,1054.03,1054.03,1140.9,977.27,996.51,996.51,996.51,996.51,1072.0,1072.0,1121.34,1146.79,1146.79,1146.79,1146.79,1146.79,1146.79,1146.79,1156.38,1156.38,1193.48,1247.51,1247.51,1247.51,328.3,322.17,275.94,374.35,390.99,460.16,427.93,624.55,692.25,672.22,684.01,798.81,778.07,761.33,823.91,963.46,1044.19,1014.75,1005.38,986.81,986.81,978.51,1010.29,1010.29,1018.84,1083.84,1120.7,1120.7,981.31,992.82,1026.86,1026.86,1018.39,1018.39,1150.84,1150.84,988.23,1022.24,1014.85,1026.84,1036.9,1036.9,1045.64,1045.64,1045.64,1046.43,1107.41,1118.39,984.61,984.61,984.61,984.61,1000.05,1000.05,1000.05,1011.76,1179.01,1179.01,913.11,934.89,934.89,946.27,967.62,1058.37,1083.89,1083.89,1104.13,1104.13,1028.45,1028.45,1160.77,1160.77,1160.77,1160.77,1160.77,1160.77,1180.17,1220.46,1220.46,1224.18,813.47,822.79,829.84,815.75,842.79,842.79,885.65,885.65,885.65,885.65,896.72,896.72,889.11,963.56,963.56,963.56,897.51,767.83,767.83,775.58,775.58,775.58,803.82,803.82,803.82,803.82,855.18,791.64,809.65,809.65,809.65,826.04,826.04,826.04,826.04,159.79,372.83,430.04,400.23,428.16,432.64,515.73,571.51,580.99,647.13,766.25,748.39,737.35,689.91,713.38,659.12,689.39,697.97,782.63,589.21,589.21,522.6,510.54,529.69,534.23,558.39,558.39,578.2,578.2,571.9,592.04,592.04,603.82,609.2,688.46,704.25,704.25,713.09,713.09,735.26,735.26,728.89,769.32,769.32,779.09,769.73,753.78,635.64,651.46,651.46,685.62,708.6,708.6,880.31,752.87,752.87,752.87,752.87,864.61,864.61,879.45,948.01,894.22,904.91,918.44,918.44,918.44,955.14,955.14,964.56,1009.39,1009.39,1009.39,1017.92,1017.92,1017.92,1017.92,1017.92,977.27,1139.34,1139.34,1166.28,1166.28,1188.49,1188.49,1212.58,1212.58,1212.58,1226.54,1255.55,1245.28,1245.28,1083.64,1172.73,1062.93,1075.3,957.64,957.64,841.3,867.94,867.94,867.94,867.94,886.73,879.26,879.26,879.26,879.26,879.26,879.26,879.26,879.26,879.26,886.73,886.73,539.11,449.14,474.86,451.86,460.66,460.66,384.73,453.0,463.85,525.48,541.15,468.79,661.29,724.71,797.41,814.97,820.24,847.26,847.26,835.95,845.84,879.92,902.2,881.37,903.67,911.39,905.2,931.29,796.13,697.55,806.74,847.15,802.05,778.72,647.32,779.69,797.11,771.48,797.11,754.07,760.64,657.36,484.07,465.62,469.98,452.16,508.7,508.7,521.79,521.79,673.78,673.78,679.73,694.73,716.4,716.4,716.4,747.96,756.98,756.98,763.52,763.52,745.34,753.1,753.1,762.47,771.75,765.09,774.81,774.81,581.01,606.95,606.95,606.95,596.32,596.32,572.32,579.88,579.88,610.78,623.7,623.7,623.7,623.94,623.94,529.82,529.82,529.82,529.82,529.82,552.57,552.57,552.57,609.32,609.32,609.32,609.32,609.32,629.39,629.39,660.1,660.1,660.1,691.32,691.32,691.32,818.5,741.5,741.5,741.5,754.44,754.44,772.62,772.62,772.62,258.49,332.43,267.18,270.6,328.39,364.7,285.19,295.46,246.66,319.05,293.44,327.87,321.62,367.41,347.37,311.58,328.83,333.21,337.18,328.43,328.43,328.43,333.29,342.51,369.7,398.81,404.01,414.62,414.62,436.06,436.06,447.76,459.29,465.06,470.49,480.24,445.43,445.43,456.2,456.2,456.2,479.38,415.53,412.14,386.76,386.76,382.45,423.45,392.05,413.91,418.42,428.59,399.24,399.24,409.43,409.43,383.96,354.92,354.92,351.42,328.87,301.98,290.27,290.27,290.27,278.08,281.71,281.71,281.71,291.42,287.95,287.95,269.33,303.57,320.34,320.34,329.1,324.85,329.27,333.18,333.18,328.62,337.87,337.87,342.39,342.39,342.39,342.39,342.39,351.41,315.3,315.3,331.96,331.96,327.46,332.05,310.45,310.45,310.45,310.45,323.41,354.99,391.88,391.88,391.88,396.85,401.32,401.32,401.32,401.32,401.32,401.44,401.44,412.22,412.22,554.5,486.6,386.2,421.85,528.8,540.77,562.84,518.14,528.54,511.09,467.64,561.06,557.33,571.62,536.64,438.6,395.95,330.98,438.63,438.63,465.96,536.92,550.62,521.0,521.0,521.0,542.23,510.89,525.51,538.14,588.34,495.93,508.96,508.96,503.1,498.42,498.42,450.55,466.9,472.63,478.19,478.19,513.59,519.91,507.26,464.75,488.53,488.53,475.88,475.88,475.88,537.17,537.17,479.83,479.83,444.06,455.63,386.56,381.44,376.77,376.77,347.96,348.23,348.23,352.76,352.76,352.76,361.64,366.3,371.26,397.36,397.36,408.06,408.06,408.06,408.06,377.58,377.58,379.4,372.17,381.25,346.16,346.16,346.16,360.25,355.35,355.35,304.9,312.88,325.56,325.56,333.55,338.02,423.48,423.48,429.05,429.05,429.05,429.05,468.87,468.87,468.87,468.87,468.87,468.87,464.56,464.56,464.56,464.56,488.59,488.59,483.16,488.28,497.26,509.2,340.58,410.05,571.65,667.61,877.78,605.22,615.29,615.29,671.61,688.39,688.12,717.83,1051.34,969.31,957.56,983.66,1014.88,1058.65,1131.63,1238.72,1211.46,1211.46,1497.55,1514.91,1486.23,1502.58,1259.61,1259.61,1259.61,1259.61,1303.34,1135.85,1061.7,1074.05,1129.52,1129.52,1141.82,1169.11,1181.52,1181.52,1153.57,1153.57,1153.57,1127.18,1127.18,1035.45,1035.45,1112.87,1171.77,1049.4,1049.4,1134.1,1229.57,1229.57,1163.1,1163.1,1163.1,1189.69,1189.69,1177.04,1225.21,1253.41,1240.01,1240.01,1021.59,1021.59,1021.59,1069.31,1069.31,1081.25,1020.25,1020.25,1011.83,1033.41,1033.41,1044.42,1114.86,1114.86,1139.4,1265.44,1338.75,1242.83,1135.4,1124.85,1160.82,1160.82,1186.82,1186.82,1186.82,1213.08,1134.29,1134.29,1134.29,1134.29,1134.29,1134.29,1134.29,1134.29,1035.55,1223.76,1224.83,1224.83,1224.83,1251.06,1134.05,1167.71,1195.27,1195.27,1209.19,1209.19,1199.28,1069.35,1069.35,1069.35,1069.35,617.74,621.36,632.42,660.59,838.21,898.53,1183.86,1250.37,1295.14,1253.03,1130.86,1129.97,1179.19,999.8,877.18,867.0,876.77,876.77,924.9,812.16,812.16,991.45,1189.21,1189.21,1328.72,1490.24,1490.24,1523.02,1552.55,1849.39,1655.68,1642.48,1465.01,1426.66,1413.5,1425.06,1457.85,1650.25,1650.25,1695.54,1695.54,1730.75,1730.75,1730.75,1730.75,1730.75,1730.75,1769.12,1797.66,1632.34,1787.08,2060.79,2060.79,2060.79,2060.79,2146.78,2146.78,2126.35,2148.61,1925.75,1925.75,1990.4,1819.95,1819.95,1819.95,1819.95,1839.54,1854.35,1574.82,1384.01,1280.13,1280.13,1280.13,1280.13,1320.72,1413.53,1379.52,1394.17,1394.17,1394.17,1394.17,1394.17,1267.99,1322.19,1337.48,1337.48,1462.48,1462.48,1462.48,1562.21,1562.21,1596.48,1596.48,1578.62,1578.62,1578.62,1578.62,1578.62,1578.62,1433.25,1433.25,1587.98,1587.98,1626.79,1626.79,1626.79,1744.52,1820.71,1820.71,1820.71,1858.74,1858.74,1858.74,1858.74,1858.74,547.72,577.23,780.05,770.02,897.91,877.35,754.26,934.2,877.48,937.26,1062.71,1259.62,1295.35,1375.21,1334.6,1350.03,1430.29,1231.35,1215.67,1275.27,1289.9,1452.12,1517.89,1322.23,1322.23,1446.04,1481.9,1548.5,1548.5,1491.17,1360.39,1347.65,1364.29,1518.73,1700.37,1699.51,1715.43,1703.69,1703.69,1724.42,1603.05,1629.26,1707.86,1675.56,1480.25,1510.07,1497.87,1548.86,1566.22,1584.94,1584.94,1615.58,1615.58,1699.41,1699.41,1699.41,1752.57,1752.57,1821.33,1895.07,1895.07,1915.85,1958.11,1926.93,1926.93,1942.52,1866.9,1866.9,1866.9,1866.9,1765.08,1765.08,1884.13,2067.54,1529.54,1363.57,1363.57,1412.9,1412.9,1385.88,1385.88,1256.44,1256.44,1256.44,1271.03,1271.03,1271.03,1271.03,1271.03,1388.61,1388.61,1388.61,1388.61,1388.61,1388.61,1415.19,1415.19,1415.19,1415.19,1519.5,1519.5,1519.5,1553.24,1553.24,1553.24,1553.24,1553.24,1553.24,1553.24,1565.96,1565.96,1583.68,1637.42,1637.42,1637.42,442.92,476.9,516.47,668.9,695.88,784.63,733.73,1053.86,1161.68,1154.87,1174.03,1360.59,1326.89,1299.68,1401.37,1628.15,1654.53,1607.09,1592.74,1564.29,1564.29,1551.59,1600.26,1600.26,1600.26,1699.04,1755.05,1755.05,1543.24,1560.72,1612.46,1612.46,1599.58,1599.58,1762.46,1762.46,1520.34,1570.97,1167.15,1180.77,1192.21,1192.21,1202.15,1202.15,1202.15,1216.62,1286.65,1299.26,1134.39,1134.39,1134.39,1134.39,1161.52,1161.52,1161.52,1174.94,1366.75,1366.75,1061.81,1074.81,1074.81,1087.72,1111.96,1214.98,1243.95,1243.95,1266.92,1266.92,1181.02,1181.02,1332.55,1332.55,1332.55,1332.55,1332.55,1332.55,1354.59,1400.38,1400.38,1404.6,1249.31,1263.08,1315.11,1293.67,1333.58,1333.58,1398.75,1398.75,1398.75,1494.41,1512.33,1512.33,1500.02,1500.02,1500.02,1500.02,1400.64,1400.64,1400.64,1400.64,1400.64,1400.64,1449.05,1449.05,1449.05,1449.05,1537.07,1428.17,1430.31,1430.31,1430.31,1457.88,1457.88,1457.88,1457.88,329.7,682.08,761.33,712.88,758.27,748.25,870.56,969.63,984.72,1090.07,1279.81,1251.36,1245.28,1169.07,1206.77,1119.6,1168.23,1182.01,1236.99,944.01,944.01,843.11,605.99,628.13,633.37,633.37,633.37,639.02,639.02,632.16,654.1,654.1,661.09,666.9,727.21,743.78,743.78,753.05,753.05,776.32,776.32,769.63,812.05,812.05,860.72,860.72,843.09,712.6,712.6,712.6,749.54,774.39,774.39,960.07,822.26,822.26,822.26,822.26,943.09,932.22,948.1,1056.16,996.81,1008.6,1023.54,1023.54,1023.54,1064.02,1064.02,1074.42,1123.87,1123.87,1123.87,1133.28,1133.28,1133.28,1133.28,1133.28,1088.43,1267.23,1267.23,1296.95,1296.95,1321.46,1336.74,1363.6,1363.6,1363.6,1379.17,1507.99,1507.99,1507.99,1331.24,1331.24,1207.76,1221.67,1089.35,1089.35,958.53,978.5,978.5,978.5,978.5,999.44,991.11,991.11,991.11,991.11,991.11,991.11,991.11,991.11,991.11,999.44,999.44,734.53,581.19,620.61,778.86,792.68,792.68,671.79,533.72,546.14,668.39,687.64,614.44,780.42,853.76,937.83,958.15,964.23,995.48,995.48,982.41,993.85,1033.26,1059.02,1034.93,1060.72,1069.65,1062.5,1092.67,905.48,794.88,895.26,939.61,890.11,864.5,973.49,1163.63,1188.65,1151.83,1151.83,1091.77,1091.77,948.76,691.21,643.73,649.45,633.84,717.15,717.15,717.15,717.15,916.9,916.9,924.72,944.42,972.91,972.91,972.91,1014.38,1026.24,1014.5,1023.01,1023.01,999.37,1009.46,1009.46,1021.65,1033.71,1025.05,1037.7,1037.7,785.65,811.7,811.7,811.7,797.99,797.99,777.4,787.26,787.26,827.59,844.45,844.45,844.45,844.76,865.3,739.81,739.81,739.81,739.81,793.41,825.68,825.68,825.68,825.68,825.68,825.68,825.68,825.68,843.14,843.14,882.86,882.86,882.86,1000.24,1000.24,1000.24,1177.07,978.28,978.28,945.93,962.02,962.02,984.62,984.62,984.62,304.04,395.65,317.01,333.27,415.97,459.71,368.93,385.67,325.74,410.84,379.61,421.58,419.88,492.37,503.55,455.27,478.54,484.45,502.78,490.49,490.49,490.49,502.94,515.77,553.61,594.11,601.34,623.27,623.27,653.4,653.4,670.08,686.29,694.4,678.21,691.52,644.03,644.03,643.39,643.39,643.39,674.37,589.03,584.5,536.59,536.59,530.95,584.58,543.5,572.1,572.1,572.1,534.79,534.79,547.74,547.74,515.35,478.43,478.43,479.55,450.66,416.14,416.14,416.14,416.14,400.01,400.01,395.15,395.15,407.74,403.25,403.25,379.73,424.6,446.4,446.4,457.78,452.26,458.01,463.09,463.09,457.16,469.19,469.19,475.06,475.06,475.06,475.06,475.06,475.06,439.85,439.85,461.5,461.5,455.65,455.65,427.87,427.87,427.87,427.87,444.54,485.15,532.59,532.59,532.59,538.98,544.74,544.74,544.74,544.74,544.74,544.88,544.88,558.75,558.75,683.33,654.91,587.49,637.58,787.71,804.62,835.77,772.67,768.47,736.54,677.06,805.36,800.25,819.82,771.61,649.88,590.51,500.05,649.93,671.98,703.66,711.86,729.32,691.57,691.57,691.57,718.63,677.87,663.98,679.41,696.0,589.14,627.42,627.42,620.62,615.03,615.03,557.83,577.37,584.21,590.67,590.67,634.75,642.32,627.17,576.27,604.75,604.75,589.59,589.59,589.59,640.77,640.77,574.1,574.1,532.51,545.97,465.67,459.72,459.72,459.72,425.9,436.74,446.77,452.3,447.09,458.98,469.94,475.7,481.82,487.64,487.64,500.28,500.28,500.28,500.28,464.26,464.26,466.42,457.88,468.61,427.14,427.14,427.14,443.79,438.0,438.0,438.0,448.61,454.15,465.46,476.28,482.22,581.89,581.89,589.15,589.15,589.15,589.15,641.02,641.02,641.02,641.02,641.02,641.02,635.41,635.41,635.41,635.41,667.04,667.04,659.97,659.97,671.57,687.0,558.53,570.31,697.17,828.09,1041.24,723.12,734.86,734.86,784.08,803.3,802.06,815.5,1029.81,949.32,949.32,975.21,1006.19,1049.62,1122.02,1240.7,1213.4,1213.4,1467.91,1484.95,1456.8,1472.85,1234.39,1285.22,1285.22,1285.22,1329.78,1159.12,1083.58,1096.17,1152.68,1152.68,1165.21,1290.34,1303.93,1303.93,1273.31,1273.31,1273.31,1244.4,1244.4,1143.91,1143.91,1228.73,1293.25,1159.2,1159.2,1225.47,1328.02,1328.02,1256.62,1256.62,1256.62,1285.18,1285.18,1285.18,1321.63,1351.88,1351.88,1351.88,1140.02,1140.02,1140.02,1140.02,1140.02,1152.67,1076.99,1076.99,1068.14,1090.82,1090.82,1102.38,1176.39,1176.39,1202.18,1334.6,1411.62,1310.85,1197.98,1186.88,1224.68,1224.68,1252.0,1291.76,1291.76,1291.76,1234.95,1234.95,1234.95,1234.95,1234.95,1234.95,1234.95,1234.95,1234.95,1362.35,1363.53,1363.53,1363.53,1392.51,1263.25,1300.43,1300.43,1300.43,1315.49,1315.49,1304.77,1164.29,1164.29,1164.29,1164.29,869.95,874.33,880.52,906.92,1082.57,1147.55,1441.28,1521.14,1547.2,1477.96,1335.47,1334.44,1391.84,1265.44,1113.21,1100.57,1112.7,1112.7,1139.83,1003.45,1003.45,1220.34,1459.57,1459.57,1628.33,1823.72,1823.72,1863.38,1899.09,2115.96,1895.77,1880.76,1679.02,1635.43,1620.47,1633.6,1670.88,1889.59,1889.59,1941.07,1941.07,1981.09,1981.09,1981.09,1981.09,1981.09,1981.09,2024.72,2057.15,1869.23,2101.58,2420.91,2420.91,2420.91,2420.91,2447.73,2447.73,2424.57,2449.81,2220.55,2220.55,2294.61,2077.37,2077.37,2077.37,2077.37,2099.58,2116.37,1799.37,1539.82,1425.03,1425.03,1425.03,1425.03,1469.88,1572.44,1534.86,1551.05,1551.05,1551.05,1613.94,1613.94,1469.21,1531.37,1548.92,1548.92,1567.04,1567.04,1567.04,1567.04,1673.44,1710.01,1696.19,1677.08,1677.08,1677.08,1677.08,1677.08,1677.08,1523.18,1523.18,1683.89,1683.89,1724.9,1724.9,1724.9,1849.32,1929.83,1929.83,1929.83,1970.03,1970.03,1970.03,1970.03,1970.03,620.67,753.21,1008.75,810.75,944.63,922.57,793.78,982.05,913.33,956.1,1036.0,1200.92,1223.39,1299.13,1260.62,1275.25,1351.37,1162.69,1134.69,1190.61,1204.34,1356.58,1418.3,1234.68,1234.68,1350.87,1384.52,1447.03,1447.03,1393.22,1424.01,1409.53,1426.88,1587.92,1774.36,1773.46,1790.04,1777.81,1777.81,1799.39,1673.04,1673.04,1753.63,1720.12,1734.12,1768.73,1783.1,1843.2,1863.66,1863.66,1863.66,1899.36,1899.36,1997.06,1997.06,1997.06,2059.01,2059.01,2233.42,2347.46,2347.46,2372.95,2399.54,2361.67,2361.67,2380.61,2388.3,2388.3,2388.3,2388.3,2259.49,2259.49,2410.1,2642.12,1961.51,1751.54,1751.54,1813.95,1813.95,1779.77,1779.77,1616.02,1616.02,1616.02,1634.47,1634.47,1634.47,1634.47,1634.47,1670.23,1783.22,1783.22,1783.22,1783.22,1783.22,1816.85,1816.85,1816.85,1816.85,1950.11,1950.11,1950.11,1992.82,1992.82,1992.82,1992.82,1992.82,1992.82,1992.82,2008.92,2008.92,2031.35,2099.37,2099.37,2099.37,567.7,489.14,535.59,701.96,730.1,815.82,763.12,1022.25,1127.12,1120.5,1139.13,1320.58,1275.07,1248.85,1346.85,1565.39,1590.81,1544.51,1530.69,1520.11,1520.11,1507.74,1537.7,1537.7,1537.7,1632.84,1654.89,1654.89,1454.51,1471.05,1520.0,1520.0,1507.82,1507.82,1679.69,1679.69,1448.33,1496.72,1110.84,1110.84,1121.65,1121.65,1131.05,1131.05,1131.05,1144.73,1210.93,1222.85,1053.58,1053.58,1053.58,1053.58,1078.93,1078.93,1078.93,1078.93,1256.29,1256.29,1107.1,1133.06,1133.06,1146.61,1146.61,1252.57,1282.37,1282.37,1306.0,1306.0,1217.64,1217.64,1373.51,1373.51,1373.51,1373.51,1373.51,1373.51,1373.51,1403.89,1403.89,1408.12,1431.32,1431.32,1489.77,1489.77,1535.3,1535.3,1609.64,1609.64,1609.64,1609.64,1718.76,1718.76,1704.88,1704.88,1704.88,1704.88,1592.78,1592.78,1592.78,1592.78,1592.78,1592.78,1647.39,1647.39,1647.39,1647.39,1746.67,1623.83,1626.52,1626.52,1626.52,1657.63,1657.63,1657.63,1657.63,356.59,666.94,709.59,664.05,706.71,713.56,840.47,936.47,1022.1,1131.09,1327.36,1297.93,1279.75,1201.58,1240.24,1150.85,1200.72,1214.86,1328.61,1347.45,1347.45,1187.91,864.09,894.33,901.49,901.49,901.49,909.19,909.19,920.66,951.25,951.25,960.99,960.99,1008.67,1030.87,1030.87,1043.3,1043.3,1074.48,1074.48,1065.51,1122.36,1122.36,1136.1,1136.1,1113.42,945.52,945.52,945.52,993.05,1025.02,1025.02,1275.68,1096.84,1096.84,1096.84,1096.84,1253.64,1253.64,1263.98,1022.66,987.94,999.63,1014.61,1014.61,1014.61,1054.78,1054.78,1065.09,1114.15,1114.15,1114.15,1123.49,1123.49,1123.49,1123.49,1123.49,1079.0,1256.37,1256.37,1285.85,1285.85,1285.85,1300.75,1326.94,1326.94,1326.94,1342.12,1358.14,1451.21,1451.21,1264.83,1264.83,1147.08,1160.35,1174.35,1174.35,1034.17,1034.17,1034.17,1034.17,1034.17,1056.19,1047.43,1047.43,1047.43,1047.43,1047.43,1047.43,1047.43,1047.43,1047.43,1056.19,1056.19,743.83,588.78,628.64,807.17,812.13,812.13,688.6,574.62,587.84,711.73,732.07,704.51,1000.63,1117.15,1224.45,1250.37,1258.14,1298.02,1298.02,1281.34,1295.94,1346.24,1379.11,1348.36,1381.28,1392.68,1383.55,1422.05,1131.23,995.79,1055.36,1106.85,1049.38,1019.65,1134.95,1353.69,1382.48,1325.46,1325.46,1257.06,1257.06,1076.26,1062.49,1062.49,1071.43,1047.02,1127.63,1127.63,1127.63,1127.63,1427.72,1427.72,1439.47,1469.08,1511.87,1511.87,1511.87,1574.18,1591.99,1591.99,1591.99,1591.99,1591.99,1607.51,1607.51,1626.28,1644.84,1631.52,1650.97,1650.97,1263.07,1317.59,1317.59,1317.59,1296.27,1296.27,1308.74,1324.57,1324.57,1389.32,1416.4,1416.4,1416.4,1416.89,1433.38,1234.04,1234.04,1234.04,1234.04,1234.04,1386.26,1386.26,1386.26,1386.26,1386.26,1399.29,1399.29,1399.29,1399.29,1399.29,1462.42,1462.42,1462.42,1151.23,1151.23,1151.23,1352.32,1084.2,1084.2,1073.9,1082.86,1082.86,1108.03,1108.03,1108.03,265.84,348.79,277.55,296.44,372.12,412.14,329.08,358.57,301.99,382.34,353.16,392.81,369.47,434.53,444.62,401.05,422.05,427.38,443.92,426.6,421.17,421.17,432.15,443.48,476.87,512.62,519.0,538.35,538.35,564.95,564.95,579.67,593.98,601.13,586.85,598.59,556.68,556.68,550.36,550.36,550.36,577.46,502.81,498.84,456.92,456.92,451.99,519.09,481.95,507.81,507.81,507.81,474.06,474.06,485.78,485.78,456.49,423.1,423.1,424.12,398.27,367.02,367.02,367.02,367.02,352.43,352.43,348.04,348.04,359.43,355.36,355.36,334.08,374.68,394.41,394.41,404.71,399.71,404.92,409.51,409.51,404.14,415.03,378.98,383.92,383.92,383.92,383.92,383.92,393.79,354.29,354.29,372.51,372.51,367.59,380.95,356.9,356.9,356.9,366.72,381.46,417.37,459.32,459.32,459.32,464.97,470.06,470.06,470.06,470.06,470.06,470.18,470.18,447.62,447.62,570.1,545.79,512.63,569.82,706.15,721.51,742.3,685.5,674.01,645.55,592.55,706.52,729.0,747.02,702.35,597.27,542.06,457.95,597.31,612.03,648.44,672.17,688.77,652.86,652.86,652.86,678.6,639.44,626.24,640.91,664.56,561.92,598.69,598.69,592.16,586.79,586.79,532.27,551.05,557.56,563.76,563.76,606.13,613.41,598.85,549.93,577.3,549.76,535.79,535.79,535.79,555.66,555.66,496.65,496.65,459.84,471.75,400.68,395.41,395.41,395.41,365.47,375.07,383.95,388.84,384.18,399.64,409.43,414.58,420.05,425.25,425.25,436.55,436.55,436.55,436.55,404.36,404.36,406.29,398.65,408.24,371.18,371.18,371.18,386.06,380.89,380.89,380.89,390.42,405.48,405.48,415.33,420.64,516.76,516.76,523.32,523.32,523.32,523.32,570.24,570.24,570.24,570.24,570.24,570.24,565.16,565.16,565.16,565.16,595.39,595.39,588.98,588.98,599.5,613.49,429.95,451.88,613.15,730.27,957.99,647.01,657.67,657.67,713.06,696.97,695.45,707.3,944.09,869.71,916.63,893.64,922.26,962.39,1029.31,1127.51,1102.51,1102.51,1364.83,1396.33,1369.76,1384.91,1159.78,1207.77,1207.77,1207.77,1249.83,1088.72,1017.4,1029.29,1082.64,1082.64,1094.47,1212.6,1225.44,1225.44,1208.62,1221.84,1266.91,1238.13,1238.13,1138.11,1138.11,1206.14,1269.57,1137.79,1137.79,1137.79,1233.56,1233.56,1166.88,1166.88,1166.88,1193.55,1193.55,1193.55,1227.59,1255.84,1255.84,1255.84,1034.83,1034.83,1034.83,1034.83,1034.83,1046.41,987.22,987.22,979.04,999.99,999.99,1010.67,1079.04,1079.04,1102.85,1238.98,1310.87,1216.81,1112.28,1101.92,1137.22,1137.22,1162.73,1199.87,1199.87,1226.4,1146.81,1146.81,1146.81,1146.81,1146.81,1146.81,1146.81,1146.81,1047.07,888.85,889.65,889.65,889.65,909.25,821.84,846.98,867.57,867.57,877.97,877.97,870.57,773.51,773.51,773.51,773.51,772.65,776.13,781.69,788.5,953.46,1011.35,1245.99,1315.73,1314.31,1269.78,1146.09,1145.19,1195.02,1060.24,930.89,920.15,930.46,930.46,981.23,862.3,862.3,1051.44,1260.07,1260.07,1407.25,1577.64,1577.64,1612.23,1643.37,1420.38,1269.3,1259.0,1120.59,1103.62,1093.25,1102.36,1128.21,1279.9,1279.9,1315.6,1315.6,1359.05,1359.05,1359.05,1359.05,1359.05,1359.05,1389.64,1412.38,1280.63,1403.95,1501.54,1501.54,1501.54,1501.54,1518.58,1518.58,1503.87,1519.91,1389.61,1389.61,1437.15,1297.7,1297.7,1297.7,1297.7,1311.96,1322.74,1119.24,980.33,904.71,904.71,904.71,904.71,934.26,1001.83,977.07,987.73,987.73,987.73,1067.66,1067.66,969.06,1011.41,1023.36,1023.36,1035.44,1035.44,1035.44,1107.92,1107.92,1132.82,1132.82,1132.82,1132.82,1132.82,1132.82,1132.82,1132.82,1026.06,1026.06,1108.7,1108.7,1136.49,1136.49,1136.49,1204.43,1258.3,1258.3,1258.3,1285.2,1285.2,1285.2,1285.2,1285.2,416.31,498.23,660.86,524.99,616.86,601.33,495.97,621.51,575.68,604.2,657.48,775.26,790.38,841.34,815.43,825.27,876.49,749.54,730.7,768.33,777.57,879.99,921.52,797.98,797.98,876.15,898.79,940.85,940.85,904.65,925.36,915.21,926.88,1035.18,1120.85,1034.85,1044.89,1037.48,1037.48,1063.94,986.51,1003.23,1053.37,1032.39,1032.39,1053.76,1045.02,1081.56,1094.0,1094.0,1094.0,1115.71,1115.71,1175.11,1175.11,1175.11,1212.78,1212.78,1324.24,1393.85,1393.85,1409.41,1425.64,1402.52,1402.52,1414.08,1418.77,1418.77,1418.77,1418.77,1340.16,1340.16,1432.08,1573.7,1548.34,1380.45,1380.45,1430.36,1430.36,1403.03,1403.03,1272.09,1272.09,1272.09,1286.85,1286.85,1286.85,1286.85,1286.85,1405.79,1405.79,1405.79,1405.79,1405.79,1405.79,1432.68,1432.68,1450.29,1450.29,1556.0,1556.0,1556.0,1590.5,1590.5,1590.5,1590.5,1590.5,1590.5,1590.5,1603.5,1603.5,1621.62,1676.57,1676.57,1676.57,366.09,306.78,330.26,442.88,461.93,514.75,479.38,653.32,756.84,728.54,741.19,864.37,833.47,815.67,882.2,981.4,997.91,966.67,957.71,939.31,939.31,931.38,950.48,950.48,950.48,1011.51,1025.65,1025.65,897.12,907.73,939.0,939.0,931.19,931.19,950.11,950.11,813.6,842.15,835.94,835.94,844.3,844.3,851.56,851.56,851.56,862.13,913.31,905.19,757.92,757.92,757.92,757.92,776.77,776.77,776.77,776.77,848.16,848.16,743.86,762.01,762.01,771.48,771.48,845.56,866.39,866.39,882.91,882.91,821.13,821.13,930.1,930.1,973.02,973.02,973.02,973.02,989.53,1011.99,1011.99,1015.12,1023.63,1023.63,1066.52,1048.84,1095.49,1095.49,1149.83,1149.83,1149.83,1229.61,1229.61,1229.61,1219.46,1219.46,1219.46,1219.46,1137.51,1137.51,1137.51,1137.51,1137.51,1137.51,1177.43,1177.43,1177.43,1177.43,1250.01,1160.2,1173.64,1173.64,1173.64,1196.59,1196.59,1196.59,1196.59,252.09,520.79,549.81,513.26,547.5,536.11,635.34,718.75,786.4,872.49,915.64,894.7,881.76,826.15,826.15,764.37,798.83,808.6,896.18,909.32,909.32,798.07,780.67,808.29,799.33,799.33,799.33,806.24,806.24,816.54,844.01,844.01,852.75,852.75,852.75,871.83,871.83,882.51,882.51,909.31,909.31,901.6,950.46,950.46,962.26,962.26,942.77,798.49,798.49,798.49,798.49,814.82,814.82,1011.48,866.99,866.99,866.99,866.99,993.68,993.68,1002.03,764.12,737.4,746.4,757.67,757.67,735.49,765.6,765.6,773.33,810.1,810.1,810.1,817.1,817.1,817.1,817.1,817.1,783.75,855.7,855.7,855.7,855.7,855.7,865.98,884.03,884.03,884.03,894.5,969.74,969.74,969.74,841.2,841.2,760.0,760.0,769.56,769.56,673.91,673.91,673.91,673.91,673.91,688.93,682.96,682.96,682.96,682.96,682.96,676.03,676.03,676.03,676.03,681.95,681.95,789.56,633.37,675.81,652.37,672.25,672.25,567.66,622.54,636.71,769.4,791.18,743.89,1018.21,1136.6,1245.61,1271.95,1266.18,1306.29,1306.29,1289.51,1263.69,1300.33,1332.15,1302.38,1334.26,1345.29,1336.45,1373.73,1092.14,961.01,1042.23,1093.14,1036.32,1006.93,1128.49,1147.39,1172.09,1134.3,1134.3,1075.08,1075.08,918.52,906.6,906.6,914.34,893.21,1005.96,1005.96,1005.96,1005.96,1276.3,1276.3,1286.89,1313.56,1352.11,1352.11,1352.11,1408.25,1424.29,1424.29,1424.29,1424.29,1424.29,1438.28,1438.28,1455.18,1471.9,1459.9,1477.43,1477.43,1127.97,1165.56,1165.56,1165.56,1146.53,1146.53,1157.66,1171.79,1171.79,1171.79,1194.91,1194.91,1194.91,1195.33,1223.49,1051.44,1051.44,1051.44,1051.44,1124.93,1124.93,1124.93,1124.93,1124.93,1124.93,1124.93,1124.93,1124.93,1124.93,1124.93,1176.51,1176.51,1176.51,873.88,873.88,873.88,962.58,766.41,766.41,766.41,773.02,773.02,791.6,791.6,791.6,252.83,340.48,273.9,292.62,372.09,412.11,329.05,358.54,233.63,224.8,208.5,225.43,246.72,285.85,281.46,250.95,265.66,284.32,296.38,292.15,300.23,300.23,357.57,367.3,406.46,437.85,455.26,472.62,472.62,496.48,496.48,503.16,515.85,522.2,528.19,528.19,490.49,490.49,502.16,502.16,502.16,527.25,458.13,454.46,415.64,415.64,411.16,473.3,438.9,462.85,467.79,467.79,436.26,436.26,447.21,447.21,419.85,388.65,388.65,405.23,380.31,350.19,350.19,350.19,350.19,336.13,336.13,331.89,306.79,317.13,313.44,313.44,294.12,330.6,348.5,348.5,357.84,353.31,358.03,362.2,362.2,357.33,353.92,322.14,322.14,322.14,322.14,330.26,330.26,334.84,300.05,300.05,316.09,316.09,311.76,323.52,302.35,270.16,270.16,278.12,290.06,319.15,353.13,353.13,353.13,357.71,361.84,361.84,361.84,361.84,361.84,361.94,361.94,343.85,343.85,424.2,398.87,335.39,375.33,472.74,483.65,509.01,462.03,459.82,439.32,400.98,488.29,502.84,515.95,483.46,430.36,305.34,252.24,340.22,337.0,350.51,360.1,369.99,397.24,397.24,397.24,414.24,387.56,378.86,388.53,404.12,336.81,361.08,361.08,356.77,366.68,366.68,329.64,342.4,351.73,372.28,372.28,402.43,407.6,402.32,367.15,383.37,367.57,357.51,357.51,357.51,371.81,382.06,391.17,391.17,373.88,383.97,323.81,319.35,319.35,319.35,294.01,302.13,309.65,313.79,313.79,322.41,330.69,335.04,339.67,344.06,344.06,353.61,353.61,353.61,353.61,326.4,326.4,328.03,321.57,329.68,298.35,298.35,298.35,306.73,302.41,302.41,302.41,306.47,310.58,310.58,318.58,322.89,375.07,375.07,380.13,380.13,380.13,380.13,450.36,450.36,450.36,450.36,450.36,450.36,446.19,446.19,446.19,446.19,471.02,471.02,465.75,470.71,479.43,491.02,293.72,298.51,414.97,499.54,649.29,428.32,435.86,435.86,472.2,459.87,385.35,392.58,536.33,564.04,596.17,580.43,608.14,635.94,682.29,764.85,747.24,747.24,932.06,954.26,935.53,946.21,796.55,672.49,672.49,672.49,697.34,602.17,560.04,567.06,598.58,598.58,605.56,704.6,810.05,810.05,830.31,839.71,879.91,903.38,903.38,828.39,828.39,879.4,927.41,828.55,828.55,828.55,900.39,900.39,850.37,850.37,850.37,870.38,870.38,870.38,895.92,938.75,938.75,938.75,769.43,769.43,795.26,795.26,795.26,795.26,740.28,740.28,740.28,787.18,796.06,804.76,860.44,860.44,879.85,990.74,1049.29,972.67,887.52,879.08,897.56,897.56,918.12,948.07,948.07,948.07,885.19,885.19,885.19,885.19,885.19,885.19,885.19,885.19,806.37,823.42,834.32,834.32,759.58,776.6,706.32,728.31,746.32,746.32,774.01,774.01,774.01,686.61,686.61,686.61,686.61,489.81,461.62,465.18,469.55,575.29,619.67,771.61,816.77,815.85,855.24,768.99,768.36,803.11,745.62,651.35,643.52,651.03,651.03,688.04,614.1,614.1,660.47,798.26,798.26,766.49,864.45,864.45,884.33,902.24,932.95,830.31,830.31,735.56,723.95,716.84,723.08,740.78,844.61,844.61,876.46,876.46,906.42,906.42,735.33,735.33,735.33,735.33,752.84,752.84,685.2,748.09,804.36,804.36,804.36,804.36,813.99,813.99,805.68,814.73,741.16,741.16,862.12,774.84,774.84,774.84,774.84,783.76,790.51,663.14,581.98,581.98,581.98,581.98,581.98,602.03,647.9,631.09,638.33,638.33,638.33,692.58,692.58,625.65,654.4,654.4,654.4,662.51,662.51,662.51,662.51,662.51,678.24,684.83,684.83,684.83,720.91,720.91,720.91,720.91,649.82,649.82,587.91,587.91,603.72,603.72,603.72,642.39,673.05,673.05,673.05,688.36,688.36,688.36,688.36,688.36,316.43,363.01,488.88,383.72,454.83,442.8,361.26,458.42,422.95,445.03,510.95,517.07,527.73,568.68,550.28,557.27,593.65,503.48,490.09,521.53,528.14,601.45,631.18,542.75,542.75,588.2,604.16,633.81,633.81,608.29,622.89,645.25,653.82,733.32,686.15,632.22,638.69,633.91,633.91,650.98,601.03,611.81,644.17,644.17,644.17,658.21,652.46,676.48,684.65,684.65,582.65,595.06,595.06,629.02,629.02,629.02,650.56,650.56,681.38,725.78,725.78,734.38,743.35,730.58,730.58,736.97,739.56,739.56,739.56,596.83,610.5,610.5,655.85,725.72,725.72,641.62,641.62,666.61,666.61,652.93,652.93,587.33,587.33,587.33,587.33,587.33,587.33,587.33,587.33,601.51,601.51,601.51,601.51,601.51,601.51,614.03,614.03,622.24,622.24,671.48,671.48,671.48,772.95,772.95,772.95,772.95,772.95,772.95,772.95,779.67,779.67,805.64,835.83,835.83,835.83,359.65,301.16,258.72,331.86,347.01,346.69,317.16,442.4,478.16,459.07,467.6,550.72,516.47,504.72,548.65,614.17,625.07,604.44,598.52,586.37,586.37,581.13,601.2,601.2,601.2,641.94,651.38,651.38,565.59,572.67,593.38,593.38,593.38,593.38,606.1,606.1,514.31,533.5,539.01,539.01,544.72,544.72,544.72,544.72,544.72,551.88,586.56,580.54,480.83,480.83,480.83,480.83,493.59,493.59,493.59,493.59,582.89,582.89,507.78,520.85,520.85,527.67,527.67,581.02,596.03,596.03,607.92,607.92,613.37,613.37,699.34,699.34,699.34,699.34,699.34,699.34,711.63,728.37,728.37,737.09,743.48,743.48,775.67,762.4,787.87,787.87,828.23,828.23,828.23,828.23,828.23,828.23,821.14,821.14,821.14,821.14,763.93,651.62,651.62,651.62,651.62,651.62,675.87,675.87,675.87,675.87,719.95,665.41,680.42,680.42,680.42,694.48,694.48,694.48,694.48,219.99,302.94,285.26,272.04,292.82,285.91,335.97,376.09,415.42,465.48,490.58,490.58,482.89,439.5,439.5,392.32,411.95,417.52,476.76,484.36,484.36,410.31,408.13,424.06,418.49,418.49,418.49,422.48,422.48,428.42,444.26,444.26,449.3,449.3,449.3,460.3,460.3,460.3,460.3,475.58,475.58,471.18,477.26,477.26,483.75,483.75,473.04,393.75,393.75,393.75,393.75,402.73,402.73,388.64,325.11,325.11,325.11,325.11,370.9,370.9,378.14,411.61,411.61,417.11,433.27,433.27,418.86,437.56,437.56,442.36,465.19,465.19,465.19,465.19,465.19,465.19,465.19,465.19,465.19,550.22,550.22,550.22,550.22,550.22,550.22,562.37,562.37,562.37,569.42,576.86,576.86,576.86,495.53,495.53,444.15,444.15,450.2,450.2,389.68,389.68,389.68,389.68,389.68,399.18,395.4,395.4,395.4,395.4,395.4,395.4,395.4,395.4,395.4,399.18,399.18,641.91,505.59,535.02,519.27,535.63,535.63,449.55,466.57,477.68,424.4,437.54,381.94,392.41,434.07,481.15,479.06,482.39,499.49,499.49,492.34,490.14,511.4,525.3,512.3,512.3,517.01,513.24,529.16,447.25,387.05,459.69,484.63,456.79,441.74,406.3,414.09,424.27,408.7,408.7,384.29,384.29,316.56,311.68,311.68,314.85,301.75,342.88,342.88,342.88,342.88,342.88,342.88,346.29,346.29,358.46,358.46,358.46,376.19,381.25,381.25,381.25,381.25,381.25,385.67,385.67,385.67,390.89,387.14,392.61,392.61,287.65,299.52,299.52,299.52,293.51,293.51,293.51,297.93,297.93,297.93,305.17,305.17,305.17,305.3,305.3,252.61,252.61,252.61,252.61,252.61,252.61,252.61,252.61,252.61,252.61,252.61,252.61,252.61,252.61,252.61,267.46,267.46,267.46,282.55,282.55,282.55,344.03,370.67,370.67,370.67,377.91,377.91,388.08,388.08,388.08,268.72,377.63,305.55,329.15,410.91,454.22,318.19,356.44,234.99,233.21,219.71,237.26,295.53,340.18,335.17,300.36,317.14,338.44,347.38,291.76,299.84,299.84,357.12,366.85,405.97,437.32,454.72,472.06,472.06,508.99,508.99,522.29,535.39,541.94,548.11,548.11,509.23,509.23,521.26,521.26,521.26,547.14,496.28,492.36,462.61,462.61,457.59,525.37,487.85,513.97,519.36,519.36,484.97,484.97,496.91,496.91,467.06,433.04,433.04,439.27,412.67,380.53,380.53,380.53,380.53,365.51,365.51,360.99,334.2,345.24,341.3,341.3,320.68,355.2,374.12,374.12,384.0,379.21,384.2,388.6,388.6,383.46,378.91,345.39,345.39,345.39,354.97,363.72,363.72,368.65,331.16,331.16,348.45,348.45,343.78,329.07,283.16,252.51,252.51,260.09,271.46,299.16,331.52,331.52,331.52,335.88,339.81,339.81,339.81,339.81,339.81,339.91,339.91,322.77,322.77,435.02,414.7,325.66,315.8,394.75,404.17,421.53,391.95,390.02,371.97,338.41,414.81,427.55,439.02,410.94,363.6,254.32,207.91,284.81,281.22,281.22,289.33,297.7,320.76,320.76,320.76,335.15,312.57,252.53,259.65,288.19,236.36,262.76,262.76,259.37,267.18,267.18,241.55,251.7,262.77,279.27,279.27,304.01,308.17,299.84,271.85,291.63,278.68,278.68,278.68,278.68,290.52,299.0,346.75,346.75,331.03,340.2,285.45,281.39,281.39,281.39,258.34,265.73,272.57,280.25,280.25,288.09,295.7,299.7,317.12,340.23,340.23,349.7,349.7,359.58,359.58,332.01,332.01,333.66,327.12,335.33,317.92,317.92,317.92,326.72,322.18,322.18,322.18,326.44,330.75,330.75,338.84,343.37,398.07,398.07,403.37,403.37,403.37,403.37,474.07,474.07,474.07,474.07,474.07,474.07,469.72,469.72,469.72,469.72,495.61,495.61,490.12,495.3,504.39,516.47,260.73,292.38,407.68,392.26,494.65,328.56,334.67,344.44,385.84,365.08,303.18,309.19,452.71,476.78,426.13,414.24,418.38,472.06,508.09,572.27,566.15,566.15,711.46,728.91,714.12,722.52,604.86,507.32,507.32,507.32,526.86,452.04,418.91,424.44,449.21,449.21,449.21,527.91,602.81,602.81,593.89,608.6,647.04,664.55,664.55,607.41,607.41,646.27,691.37,615.23,615.23,615.23,670.86,670.86,632.32,640.28,640.28,655.86,655.86,655.86,574.91,603.93,603.93,603.93,489.19,516.28,534.59,534.59,534.59,534.59,495.61,495.61,495.61,528.86,535.15,541.32,541.32,541.32,554.27,628.32,667.42,616.26,559.4,553.77,566.1,566.1,579.83,599.83,599.83,599.83,572.14,572.14,572.14,572.14,572.14,572.14,572.14,572.14,518.37,583.17,605.05,605.05,548.64,561.49,508.45,525.05,545.5,545.5,566.63,566.63,566.63,499.97,499.97,499.97,499.97,388.41,365.07,368.02,375.34,474.13,505.67,560.2,529.99,523.69,550.51,491.77,495.89,693.83,632.28,550.64,543.86,550.36,550.36,582.41,518.39,518.39,558.54,677.86,677.86,650.64,735.5,735.5,752.73,864.71,955.55,850.66,850.66,753.84,741.97,741.97,748.4,766.64,873.67,873.67,914.24,914.24,945.36,945.36,767.65,767.65,777.62,777.62,796.02,796.02,724.96,791.03,717.83,717.83,717.83,717.83,726.53,726.53,719.01,727.2,660.67,660.67,770.06,691.13,691.13,691.13,691.13,699.2,705.3,590.12,516.72,516.72,516.72,516.72,516.72,534.86,576.33,561.13,567.68,567.68,567.68,616.74,616.74,556.22,582.21,582.21,582.21,589.55,589.55,589.55,597.13,597.13,606.07,555.09,555.09,555.09,584.87,584.87,584.87,584.87,525.55,525.55,473.9,473.9,487.1,487.1,487.1,519.35,544.94,544.94,461.09,472.2,472.2,472.2,472.2,472.2,353.75,425.89,568.85,449.41,530.18,516.52,438.87,552.38,516.6,542.63,522.12,528.36,479.92,517.75,500.75,507.21,540.82,457.51,449.34,478.61,484.76,736.44,771.89,666.44,666.44,720.64,739.67,775.03,775.03,744.59,667.18,690.91,700.0,784.38,734.32,677.08,683.96,678.88,678.88,697.0,643.98,655.42,689.76,675.12,589.86,602.87,597.55,619.81,627.39,635.56,539.94,551.57,551.57,583.41,583.41,583.41,588.63,588.63,644.26,686.55,686.55,694.74,703.29,779.02,779.02,785.78,788.53,788.53,788.53,637.48,651.94,651.94,699.93,773.88,773.88,684.87,684.87,711.33,711.33,702.97,702.97,633.02,633.02,633.02,633.02,633.02,633.02,633.02,633.02,648.13,648.13,648.13,648.13,648.13,550.94,562.56,562.56,577.88,577.88,624.1,624.1,624.1,719.34,719.34,719.34,719.34,719.34,719.34,719.34,725.64,725.64,750.02,768.91,768.91,768.91,422.08,355.64,305.89,388.65,405.79,405.43,372.02,513.73,549.19,545.69,555.55,651.54,617.28,603.6,654.72,730.94,659.27,638.74,632.53,578.2,578.2,573.02,585.24,585.24,590.52,630.63,639.93,639.93,555.44,562.41,528.26,528.26,528.26,528.26,539.79,690.75,587.95,609.45,615.62,615.62,622.01,622.01,627.56,627.56,627.56,635.65,674.78,667.86,555.36,555.36,555.36,555.36,569.76,569.76,569.76,569.76,670.52,670.52,510.33,523.45,523.45,530.31,530.31,583.88,598.95,598.95,610.9,610.9,616.37,616.37,702.69,702.69,702.69,702.69,702.69,702.69,715.04,731.85,731.85,734.19,648.09,648.09,676.65,664.88,687.47,687.47,723.26,723.26,723.26,723.26,732.51,732.51,726.16,726.16,726.16,726.16,658.36,559.77,559.77,559.77,559.77,559.77,581.06,581.06,581.06,581.06,619.75,571.87,585.05,585.05,585.05,597.39,597.39,597.39,597.39,249.53,340.14,311.68,297.56,319.76,323.32,378.23,422.24,408.43,457.81,482.56,482.56,474.98,426.33,441.96,394.57,414.29,419.88,433.1,445.33,445.33,441.35,439.03,455.94,449.94,394.95,394.95,398.75,398.75,375.06,389.3,389.3,397.63,397.63,397.63,407.6,407.6,407.6,407.6,421.44,421.44,417.46,422.96,422.96,428.84,428.84,419.14,347.31,347.31,347.31,347.31,355.44,355.44,454.56,382.47,382.47,382.47,382.47,550.52,550.52,560.53,606.76,606.76,614.36,623.76,623.76,604.02,629.39,629.39,635.91,666.89,666.89,666.89,672.79,672.79,672.79,672.79,672.79,672.79,789.05,789.05,789.05,789.05,789.05,789.05,805.67,805.67,805.67,815.31,825.48,825.48,825.48,714.28,714.28,644.02,644.02,569.54,569.54,495.89,495.89,495.89,495.89,495.89,507.46,502.86,502.86,502.86,502.86,502.86,502.86,502.86,502.86,502.86,507.46,507.46,612.8,481.83,510.1,494.97,531.75,531.75,446.19,463.11,474.15,421.2,434.26,389.76,400.4,442.74,470.89,468.84,472.11,488.91,488.91,481.88,496.94,518.45,532.51,519.36,519.36,524.13,520.31,536.41,458.88,397.41,408.71,431.38,522.86,505.88,466.24,466.24,477.45,460.95,404.86,397.21,401.03,389.9,384.16,384.16,387.89,372.42,410.57,410.57,410.57,410.57,410.57,410.57,414.5,414.5,428.53,428.53,428.53,448.96,454.8,454.8,454.8,454.8,454.8,459.89,459.89,459.89,465.91,461.59,467.9,467.9,346.9,346.9,346.9,346.9,340.18,340.18,340.18,345.12,345.12,345.12,353.22,353.22,353.22,353.36,353.36,294.43,294.43,294.43,294.43,294.43,305.09,305.09,400.67,400.67,400.67,400.67,400.67,400.67,400.67,400.67,421.75,421.75,421.75,443.18,443.18,443.18,530.48,568.3,568.3,562.34,572.53,572.53,586.84,586.84,586.84],\"type\":\"scatter3d\"}],                        {\"template\":{\"data\":{\"bar\":[{\"error_x\":{\"color\":\"#2a3f5f\"},\"error_y\":{\"color\":\"#2a3f5f\"},\"marker\":{\"line\":{\"color\":\"#E5ECF6\",\"width\":0.5},\"pattern\":{\"fillmode\":\"overlay\",\"size\":10,\"solidity\":0.2}},\"type\":\"bar\"}],\"barpolar\":[{\"marker\":{\"line\":{\"color\":\"#E5ECF6\",\"width\":0.5},\"pattern\":{\"fillmode\":\"overlay\",\"size\":10,\"solidity\":0.2}},\"type\":\"barpolar\"}],\"carpet\":[{\"aaxis\":{\"endlinecolor\":\"#2a3f5f\",\"gridcolor\":\"white\",\"linecolor\":\"white\",\"minorgridcolor\":\"white\",\"startlinecolor\":\"#2a3f5f\"},\"baxis\":{\"endlinecolor\":\"#2a3f5f\",\"gridcolor\":\"white\",\"linecolor\":\"white\",\"minorgridcolor\":\"white\",\"startlinecolor\":\"#2a3f5f\"},\"type\":\"carpet\"}],\"choropleth\":[{\"colorbar\":{\"outlinewidth\":0,\"ticks\":\"\"},\"type\":\"choropleth\"}],\"contour\":[{\"colorbar\":{\"outlinewidth\":0,\"ticks\":\"\"},\"colorscale\":[[0.0,\"#0d0887\"],[0.1111111111111111,\"#46039f\"],[0.2222222222222222,\"#7201a8\"],[0.3333333333333333,\"#9c179e\"],[0.4444444444444444,\"#bd3786\"],[0.5555555555555556,\"#d8576b\"],[0.6666666666666666,\"#ed7953\"],[0.7777777777777778,\"#fb9f3a\"],[0.8888888888888888,\"#fdca26\"],[1.0,\"#f0f921\"]],\"type\":\"contour\"}],\"contourcarpet\":[{\"colorbar\":{\"outlinewidth\":0,\"ticks\":\"\"},\"type\":\"contourcarpet\"}],\"heatmap\":[{\"colorbar\":{\"outlinewidth\":0,\"ticks\":\"\"},\"colorscale\":[[0.0,\"#0d0887\"],[0.1111111111111111,\"#46039f\"],[0.2222222222222222,\"#7201a8\"],[0.3333333333333333,\"#9c179e\"],[0.4444444444444444,\"#bd3786\"],[0.5555555555555556,\"#d8576b\"],[0.6666666666666666,\"#ed7953\"],[0.7777777777777778,\"#fb9f3a\"],[0.8888888888888888,\"#fdca26\"],[1.0,\"#f0f921\"]],\"type\":\"heatmap\"}],\"heatmapgl\":[{\"colorbar\":{\"outlinewidth\":0,\"ticks\":\"\"},\"colorscale\":[[0.0,\"#0d0887\"],[0.1111111111111111,\"#46039f\"],[0.2222222222222222,\"#7201a8\"],[0.3333333333333333,\"#9c179e\"],[0.4444444444444444,\"#bd3786\"],[0.5555555555555556,\"#d8576b\"],[0.6666666666666666,\"#ed7953\"],[0.7777777777777778,\"#fb9f3a\"],[0.8888888888888888,\"#fdca26\"],[1.0,\"#f0f921\"]],\"type\":\"heatmapgl\"}],\"histogram\":[{\"marker\":{\"pattern\":{\"fillmode\":\"overlay\",\"size\":10,\"solidity\":0.2}},\"type\":\"histogram\"}],\"histogram2d\":[{\"colorbar\":{\"outlinewidth\":0,\"ticks\":\"\"},\"colorscale\":[[0.0,\"#0d0887\"],[0.1111111111111111,\"#46039f\"],[0.2222222222222222,\"#7201a8\"],[0.3333333333333333,\"#9c179e\"],[0.4444444444444444,\"#bd3786\"],[0.5555555555555556,\"#d8576b\"],[0.6666666666666666,\"#ed7953\"],[0.7777777777777778,\"#fb9f3a\"],[0.8888888888888888,\"#fdca26\"],[1.0,\"#f0f921\"]],\"type\":\"histogram2d\"}],\"histogram2dcontour\":[{\"colorbar\":{\"outlinewidth\":0,\"ticks\":\"\"},\"colorscale\":[[0.0,\"#0d0887\"],[0.1111111111111111,\"#46039f\"],[0.2222222222222222,\"#7201a8\"],[0.3333333333333333,\"#9c179e\"],[0.4444444444444444,\"#bd3786\"],[0.5555555555555556,\"#d8576b\"],[0.6666666666666666,\"#ed7953\"],[0.7777777777777778,\"#fb9f3a\"],[0.8888888888888888,\"#fdca26\"],[1.0,\"#f0f921\"]],\"type\":\"histogram2dcontour\"}],\"mesh3d\":[{\"colorbar\":{\"outlinewidth\":0,\"ticks\":\"\"},\"type\":\"mesh3d\"}],\"parcoords\":[{\"line\":{\"colorbar\":{\"outlinewidth\":0,\"ticks\":\"\"}},\"type\":\"parcoords\"}],\"pie\":[{\"automargin\":true,\"type\":\"pie\"}],\"scatter\":[{\"marker\":{\"colorbar\":{\"outlinewidth\":0,\"ticks\":\"\"}},\"type\":\"scatter\"}],\"scatter3d\":[{\"line\":{\"colorbar\":{\"outlinewidth\":0,\"ticks\":\"\"}},\"marker\":{\"colorbar\":{\"outlinewidth\":0,\"ticks\":\"\"}},\"type\":\"scatter3d\"}],\"scattercarpet\":[{\"marker\":{\"colorbar\":{\"outlinewidth\":0,\"ticks\":\"\"}},\"type\":\"scattercarpet\"}],\"scattergeo\":[{\"marker\":{\"colorbar\":{\"outlinewidth\":0,\"ticks\":\"\"}},\"type\":\"scattergeo\"}],\"scattergl\":[{\"marker\":{\"colorbar\":{\"outlinewidth\":0,\"ticks\":\"\"}},\"type\":\"scattergl\"}],\"scattermapbox\":[{\"marker\":{\"colorbar\":{\"outlinewidth\":0,\"ticks\":\"\"}},\"type\":\"scattermapbox\"}],\"scatterpolar\":[{\"marker\":{\"colorbar\":{\"outlinewidth\":0,\"ticks\":\"\"}},\"type\":\"scatterpolar\"}],\"scatterpolargl\":[{\"marker\":{\"colorbar\":{\"outlinewidth\":0,\"ticks\":\"\"}},\"type\":\"scatterpolargl\"}],\"scatterternary\":[{\"marker\":{\"colorbar\":{\"outlinewidth\":0,\"ticks\":\"\"}},\"type\":\"scatterternary\"}],\"surface\":[{\"colorbar\":{\"outlinewidth\":0,\"ticks\":\"\"},\"colorscale\":[[0.0,\"#0d0887\"],[0.1111111111111111,\"#46039f\"],[0.2222222222222222,\"#7201a8\"],[0.3333333333333333,\"#9c179e\"],[0.4444444444444444,\"#bd3786\"],[0.5555555555555556,\"#d8576b\"],[0.6666666666666666,\"#ed7953\"],[0.7777777777777778,\"#fb9f3a\"],[0.8888888888888888,\"#fdca26\"],[1.0,\"#f0f921\"]],\"type\":\"surface\"}],\"table\":[{\"cells\":{\"fill\":{\"color\":\"#EBF0F8\"},\"line\":{\"color\":\"white\"}},\"header\":{\"fill\":{\"color\":\"#C8D4E3\"},\"line\":{\"color\":\"white\"}},\"type\":\"table\"}]},\"layout\":{\"annotationdefaults\":{\"arrowcolor\":\"#2a3f5f\",\"arrowhead\":0,\"arrowwidth\":1},\"autotypenumbers\":\"strict\",\"coloraxis\":{\"colorbar\":{\"outlinewidth\":0,\"ticks\":\"\"}},\"colorscale\":{\"diverging\":[[0,\"#8e0152\"],[0.1,\"#c51b7d\"],[0.2,\"#de77ae\"],[0.3,\"#f1b6da\"],[0.4,\"#fde0ef\"],[0.5,\"#f7f7f7\"],[0.6,\"#e6f5d0\"],[0.7,\"#b8e186\"],[0.8,\"#7fbc41\"],[0.9,\"#4d9221\"],[1,\"#276419\"]],\"sequential\":[[0.0,\"#0d0887\"],[0.1111111111111111,\"#46039f\"],[0.2222222222222222,\"#7201a8\"],[0.3333333333333333,\"#9c179e\"],[0.4444444444444444,\"#bd3786\"],[0.5555555555555556,\"#d8576b\"],[0.6666666666666666,\"#ed7953\"],[0.7777777777777778,\"#fb9f3a\"],[0.8888888888888888,\"#fdca26\"],[1.0,\"#f0f921\"]],\"sequentialminus\":[[0.0,\"#0d0887\"],[0.1111111111111111,\"#46039f\"],[0.2222222222222222,\"#7201a8\"],[0.3333333333333333,\"#9c179e\"],[0.4444444444444444,\"#bd3786\"],[0.5555555555555556,\"#d8576b\"],[0.6666666666666666,\"#ed7953\"],[0.7777777777777778,\"#fb9f3a\"],[0.8888888888888888,\"#fdca26\"],[1.0,\"#f0f921\"]]},\"colorway\":[\"#636efa\",\"#EF553B\",\"#00cc96\",\"#ab63fa\",\"#FFA15A\",\"#19d3f3\",\"#FF6692\",\"#B6E880\",\"#FF97FF\",\"#FECB52\"],\"font\":{\"color\":\"#2a3f5f\"},\"geo\":{\"bgcolor\":\"white\",\"lakecolor\":\"white\",\"landcolor\":\"#E5ECF6\",\"showlakes\":true,\"showland\":true,\"subunitcolor\":\"white\"},\"hoverlabel\":{\"align\":\"left\"},\"hovermode\":\"closest\",\"mapbox\":{\"style\":\"light\"},\"paper_bgcolor\":\"white\",\"plot_bgcolor\":\"#E5ECF6\",\"polar\":{\"angularaxis\":{\"gridcolor\":\"white\",\"linecolor\":\"white\",\"ticks\":\"\"},\"bgcolor\":\"#E5ECF6\",\"radialaxis\":{\"gridcolor\":\"white\",\"linecolor\":\"white\",\"ticks\":\"\"}},\"scene\":{\"xaxis\":{\"backgroundcolor\":\"#E5ECF6\",\"gridcolor\":\"white\",\"gridwidth\":2,\"linecolor\":\"white\",\"showbackground\":true,\"ticks\":\"\",\"zerolinecolor\":\"white\"},\"yaxis\":{\"backgroundcolor\":\"#E5ECF6\",\"gridcolor\":\"white\",\"gridwidth\":2,\"linecolor\":\"white\",\"showbackground\":true,\"ticks\":\"\",\"zerolinecolor\":\"white\"},\"zaxis\":{\"backgroundcolor\":\"#E5ECF6\",\"gridcolor\":\"white\",\"gridwidth\":2,\"linecolor\":\"white\",\"showbackground\":true,\"ticks\":\"\",\"zerolinecolor\":\"white\"}},\"shapedefaults\":{\"line\":{\"color\":\"#2a3f5f\"}},\"ternary\":{\"aaxis\":{\"gridcolor\":\"white\",\"linecolor\":\"white\",\"ticks\":\"\"},\"baxis\":{\"gridcolor\":\"white\",\"linecolor\":\"white\",\"ticks\":\"\"},\"bgcolor\":\"#E5ECF6\",\"caxis\":{\"gridcolor\":\"white\",\"linecolor\":\"white\",\"ticks\":\"\"}},\"title\":{\"x\":0.05},\"xaxis\":{\"automargin\":true,\"gridcolor\":\"white\",\"linecolor\":\"white\",\"ticks\":\"\",\"title\":{\"standoff\":15},\"zerolinecolor\":\"white\",\"zerolinewidth\":2},\"yaxis\":{\"automargin\":true,\"gridcolor\":\"white\",\"linecolor\":\"white\",\"ticks\":\"\",\"title\":{\"standoff\":15},\"zerolinecolor\":\"white\",\"zerolinewidth\":2}}},\"scene\":{\"domain\":{\"x\":[0.0,1.0],\"y\":[0.0,1.0]},\"xaxis\":{\"title\":{\"text\":\"multiplier\"}},\"yaxis\":{\"title\":{\"text\":\"atr_length\"}},\"zaxis\":{\"title\":{\"text\":\"cumulative_performance\"}}},\"coloraxis\":{\"colorbar\":{\"title\":{\"text\":\"vwma_length\"}},\"colorscale\":[[0.0,\"#0d0887\"],[0.1111111111111111,\"#46039f\"],[0.2222222222222222,\"#7201a8\"],[0.3333333333333333,\"#9c179e\"],[0.4444444444444444,\"#bd3786\"],[0.5555555555555556,\"#d8576b\"],[0.6666666666666666,\"#ed7953\"],[0.7777777777777778,\"#fb9f3a\"],[0.8888888888888888,\"#fdca26\"],[1.0,\"#f0f921\"]]},\"legend\":{\"tracegroupgap\":0},\"margin\":{\"t\":60}},                        {\"responsive\": true}                    ).then(function(){\n",
              "                            \n",
              "var gd = document.getElementById('810f69ab-756e-4a69-9fbd-be447f812978');\n",
              "var x = new MutationObserver(function (mutations, observer) {{\n",
              "        var display = window.getComputedStyle(gd).display;\n",
              "        if (!display || display === 'none') {{\n",
              "            console.log([gd, 'removed!']);\n",
              "            Plotly.purge(gd);\n",
              "            observer.disconnect();\n",
              "        }}\n",
              "}});\n",
              "\n",
              "// Listen for the removal of the full notebook cells\n",
              "var notebookContainer = gd.closest('#notebook-container');\n",
              "if (notebookContainer) {{\n",
              "    x.observe(notebookContainer, {childList: true});\n",
              "}}\n",
              "\n",
              "// Listen for the clearing of the current output cell\n",
              "var outputEl = gd.closest('.output');\n",
              "if (outputEl) {{\n",
              "    x.observe(outputEl, {childList: true});\n",
              "}}\n",
              "\n",
              "                        })                };                            </script>        </div>\n",
              "</body>\n",
              "</html>"
            ]
          },
          "metadata": {}
        }
      ]
    },
    {
      "cell_type": "markdown",
      "source": [
        "Autre vue des clusters à environ 35 et 17.<br/>\n",
        "Le croisement à VWMA 21 surperforme de très loin les valeurs plus hautes (et 8 semble lui trop court).<br/>\n",
        "Les multiplier aussi sont très nettement localisés à 3.5 et 4."
      ],
      "metadata": {
        "id": "pxio1-LCZXNO"
      }
    },
    {
      "cell_type": "markdown",
      "source": [
        "# Stratégie Supertrend X MA #"
      ],
      "metadata": {
        "id": "tifeApXMt4U3"
      }
    },
    {
      "cell_type": "markdown",
      "source": [
        "## Fonctions dédiées ##"
      ],
      "metadata": {
        "id": "gur_QqoIuEzR"
      }
    },
    {
      "cell_type": "code",
      "source": [
        "def generate_ta_ST_MA(df_in,atr,multip,ma_l):\n",
        "  ''' Genère un Dataframe contenant Supertrend + VWMA '''\n",
        "\n",
        "  df = df_in.ta.supertrend(high=df_in[\"High\"], low=df_in[\"Low\"], close=df_in[\"Close\"], length = atr, multiplier = multip)\n",
        "\n",
        "  # Nom des colonnes pour saisir la 1ere variabilisée\n",
        "  col_list = df.columns\n",
        "  # Suppresion des lignes vides, Subset sur la colonne supertrend\n",
        "  df.dropna(subset=[col_list[0]], inplace=True)\n",
        "  # Suppression de la 1ère ligne dans la valeur supertrend est = 0\n",
        "  s_supertrend = df.iloc[1:,0]\n",
        "\n",
        "  df_st = df_in.join(s_supertrend)\n",
        "\n",
        "  # Suppression des lignes sans correspondance entre date et une valeur supertrend\n",
        "  col_list = df_st.columns\n",
        "  # Colonne supertrend étant la dernière\n",
        "  supertrend_col = col_list[-1]\n",
        "  # Garder uniquement date, close et supertrend\n",
        "  df_st = df_st[[\"Close\",supertrend_col]]\n",
        "  # Suppression des lignes sans indicateur\n",
        "  df_st.dropna(subset=[supertrend_col], inplace=True)\n",
        "  # Arrondi colonne supertrend\n",
        "  df_st[supertrend_col] = round( df_st[supertrend_col] ,2)\n",
        "\n",
        "  # Ajout colonne MA\n",
        "  df_st[\"ma_\"+str(ma_l)] = round( df_in.ta.sma(close=df_in[\"Close\"], length=ma_l) ,2)\n",
        "\n",
        "  # Idem : suppression des lignes sans correspondace entre date et vwma\n",
        "  df_st.dropna(subset=[\"ma_\"+str(ma_l)], inplace=True)\n",
        "  \n",
        "  # Retour des dates en colonne plutôt qu'index\n",
        "  df_st.reset_index(inplace=True)\n",
        "\n",
        "  df_st.columns=['Date','Close','Supertrend','MA']\n",
        "  \n",
        "  return df_st"
      ],
      "metadata": {
        "id": "I_UuP_EGuAG_"
      },
      "execution_count": null,
      "outputs": []
    },
    {
      "cell_type": "code",
      "source": [
        "def find_entries_ST_MA_long(df_in):\n",
        "  ''' Obtenir les index des dates auxquelles un croisement vers le haut est effectué par Supertrend sur MA\n",
        "  et que le prix est > ST '''\n",
        "\n",
        "  df = df_in.copy()\n",
        "  # Ajout des colonnes lag\n",
        "  shift_ma = df[df.columns[-1]].shift(1)\n",
        "  shift_st = df[df.columns[-2]].shift(1)\n",
        "\n",
        "  shift_ma[0]=shift_ma[1]\n",
        "  df['MA_lag']=shift_ma\n",
        "\n",
        "  shift_st[0]=shift_st[1]\n",
        "  df['ST_lag']=shift_st\n",
        "\n",
        "  e_l = df.index[ \n",
        "                  ( (df[\"Supertrend\"] > df[\"MA\"]) \n",
        "                  & (df[\"ST_lag\"] <= df[\"MA_lag\"]) \n",
        "                  & (df[\"Close\"] >= df[\"Supertrend\"]) )\n",
        "                ].to_list()\n",
        "  \n",
        "  e_s = df.index[ \n",
        "                  ( (df[\"Supertrend\"] < df[\"MA\"]) \n",
        "                  & (df[\"ST_lag\"] >= df[\"MA_lag\"]) \n",
        "                  & (df[\"Close\"] <= df[\"Supertrend\"]) )\n",
        "                ].to_list()\n",
        "\n",
        "  return e_l, e_s"
      ],
      "metadata": {
        "id": "_EHOZTJKwuOR"
      },
      "execution_count": null,
      "outputs": []
    },
    {
      "cell_type": "code",
      "source": [
        "def generate_future_dates_Short(df, entries_list):\n",
        "  '''Générer les dates futures après identification des entrées\n",
        "  Puis calcul des variations'''\n",
        "\n",
        "  arr_entries = np.asarray(entries_list)\n",
        "\n",
        "  arr_e2s = arr_entries + 10\n",
        "  arr_e1m = arr_entries + 21\n",
        "  \n",
        "  # Aggregation des matrices sous forme de liste en vue de traitements en boucle\n",
        "  dates_ech = [arr_e2s, arr_e1m]\n",
        "\n",
        "  # On fixe le plus grand index possible, au cas où la projection 5, 10j ou 1 mois en avant soit out of bounds\n",
        "  date_limite = df.shape[0]-1\n",
        "\n",
        "  # Correction des éventuelles dates futures out of bounds, selon fonction définie précedemment\n",
        "  for echeance in dates_ech:\n",
        "    echeance = fix_oob_index(echeance,date_limite)\n",
        "\n",
        "  # Conversion des index de array -> liste\n",
        "  # Sélection du Close à la date correspondant à l'index\n",
        "  s_2s = df.loc[list(arr_e2s),'Close'].to_list()\n",
        "  s_1m = df.loc[list(arr_e1m),'Close'].to_list()\n",
        "\n",
        "  # Création d'un dataframe d'entrée selon les index indentifiés\n",
        "  df_res = df.filter(items = entries_list, axis=0)\n",
        "\n",
        "  # Ajout des séries comme nouvelles colonnes\n",
        "  df_res['Close_2s'] = s_2s\n",
        "  df_res['Close_1m'] = s_1m\n",
        "\n",
        "  # Variation inverse prenant en compte la position Short\n",
        "  df_res['var_2s'] = round( (df_res['Close']-df_res['Close_2s'])/df_res['Close'] ,2)\n",
        "  df_res['var_1m'] = round( (df_res['Close']-df_res['Close_1m'])/df_res['Close'] ,2)\n",
        "\n",
        "  # Suppression de la dernière ligne, car n'ayant pas abouti dans le temps, va fausser les résultats d'analyse\n",
        "  df_res.drop(df_res.tail(1).index, inplace = True)\n",
        "\n",
        "  return df_res"
      ],
      "metadata": {
        "id": "b-EiRThXjOwl"
      },
      "execution_count": null,
      "outputs": []
    },
    {
      "cell_type": "code",
      "source": [
        "def check_21d_interval(entrees):\n",
        "  i=0\n",
        "  while i < len(entrees)-1 :\n",
        "    if entrees[i+1] - entrees[i] <=21:\n",
        "      entrees.pop(i+1)\n",
        "    i+=1"
      ],
      "metadata": {
        "id": "RdVqZfHs1yAb"
      },
      "execution_count": null,
      "outputs": []
    },
    {
      "cell_type": "code",
      "source": [
        "def get_exits_list_Long_ST_MA(df_in, el, tp, sl):\n",
        "  ''' Liste des sorties combinant risk management, si franchissement Supertrend Long, ou Take Profit / Stop Loss\n",
        "  Paramètres : df_Analyse_Technique et liste des entrées '''\n",
        "  \n",
        "  df = df_in.copy()\n",
        "  # Ajout des colonnes lag\n",
        "  shift_st = df[df.columns[-2]].shift(1)\n",
        "  shift_close = df[\"Close\"].shift(1)\n",
        "\n",
        "  shift_close[0]=shift_close[1]\n",
        "  df['Close_lag']=shift_close\n",
        "\n",
        "  shift_st[0]=shift_st[1]\n",
        "  df['ST_lag']=shift_st\n",
        "\n",
        "\n",
        "  exits_list=[]\n",
        "  \n",
        "  for e in range (0, len(el)):\n",
        "    # On isole l'index de la ligne d'entrée\n",
        "    row_index = el[e]\n",
        "    # Pointeur commence les vérifications à partir de la ligne suivante\n",
        "    r = row_index+1\n",
        "    # Indicateur qu'une limite a été trouvée ou la fin des données atteinte\n",
        "    touch = False\n",
        "\n",
        "    # Définition des limites\n",
        "    limite = df.loc[row_index,'Close'] * tp\n",
        "    stop_loss = df.loc[row_index,'Close'] * sl\n",
        "    \n",
        "    # Test l'une des limites est atteinte à la cloture\n",
        "    while touch == False :  \n",
        "      if r >= df.shape[0]-1 :\n",
        "        exits_list.append(df.shape[0]-1)\n",
        "        touch = True\n",
        "      elif( \n",
        "            (df.loc[r,'Close'] >= limite) or \n",
        "            (df.loc[r,'Close'] <= stop_loss) or\n",
        "            ( (df.loc[r,'Close'] < df.loc[r,'Supertrend']) and (df.loc[r,'Close_lag'] >= df.loc[r,'ST_lag']) )\n",
        "           ):\n",
        "        exits_list.append(r)\n",
        "        touch = True\n",
        "      else:\n",
        "        r+=1\n",
        "    e+=1\n",
        "\n",
        "  return exits_list"
      ],
      "metadata": {
        "id": "Hj-BlUfig6v8"
      },
      "execution_count": null,
      "outputs": []
    },
    {
      "cell_type": "code",
      "source": [
        "def get_exits_list_Short_ST_MA(df_in, el, tp, sl):\n",
        "  ''' Liste des sorties combinant risk management, si franchissement Supertrend Long, ou Take Profit / Stop Loss\n",
        "  Paramètres : df_Analyse_Technique et liste des entrées '''\n",
        "  \n",
        "  df = df_in.copy()\n",
        "  # Ajout des colonnes lag\n",
        "  shift_st = df[df.columns[-2]].shift(1)\n",
        "  shift_close = df[\"Close\"].shift(1)\n",
        "\n",
        "  shift_close[0]=shift_close[1]\n",
        "  df['Close_lag']=shift_close\n",
        "\n",
        "  shift_st[0]=shift_st[1]\n",
        "  df['ST_lag']=shift_st\n",
        "\n",
        "\n",
        "  exits_list=[]\n",
        "  \n",
        "  for e in range (0, len(el)):\n",
        "    # On isole l'index de la ligne d'entrée\n",
        "    row_index = el[e]\n",
        "    # Pointeur commence les vérifications à partir de la ligne suivante\n",
        "    r = row_index+1\n",
        "    # Indicateur qu'une limite a été trouvée ou la fin des données atteinte\n",
        "    touch = False\n",
        "\n",
        "    # Définition des limites\n",
        "    limite = df.loc[row_index,'Close'] * tp\n",
        "    stop_loss = df.loc[row_index,'Close'] * sl\n",
        "    \n",
        "    # Test l'une des limites est atteinte à la cloture\n",
        "    while touch == False :  \n",
        "      if r >= df.shape[0]-1 :\n",
        "        exits_list.append(df.shape[0]-1)\n",
        "        touch = True\n",
        "      elif( \n",
        "            (df.loc[r,'Close'] >= limite) or \n",
        "            (df.loc[r,'Close'] <= stop_loss) or\n",
        "            ( (df.loc[r,'Close'] < df.loc[r,'Supertrend']) and (df.loc[r,'Close_lag'] >= df.loc[r,'ST_lag']) )\n",
        "           ):\n",
        "        exits_list.append(r)\n",
        "        touch = True\n",
        "      else:\n",
        "        r+=1\n",
        "    e+=1\n",
        "\n",
        "  return exits_list"
      ],
      "metadata": {
        "id": "p9Xhz4XliR6S"
      },
      "execution_count": null,
      "outputs": []
    },
    {
      "cell_type": "markdown",
      "source": [
        "## Analyse Stat des entrées ##"
      ],
      "metadata": {
        "id": "fgIGFQhGwvB1"
      }
    },
    {
      "cell_type": "markdown",
      "source": [
        "### Période 2006-2011 ###"
      ],
      "metadata": {
        "id": "5zTP7OafQ1bT"
      }
    },
    {
      "cell_type": "code",
      "source": [
        "df_ta_ST_MA = generate_ta_ST_MA(df_source,34,3,70)"
      ],
      "metadata": {
        "id": "-snbyPXfuAdh"
      },
      "execution_count": null,
      "outputs": []
    },
    {
      "cell_type": "code",
      "source": [
        "df_ta_ST_MA.head(1)"
      ],
      "metadata": {
        "colab": {
          "base_uri": "https://localhost:8080/",
          "height": 81
        },
        "id": "A9pg3NW0xF-F",
        "outputId": "12ac79ad-2085-40c7-e592-2042dc95f2ad"
      },
      "execution_count": null,
      "outputs": [
        {
          "output_type": "execute_result",
          "data": {
            "text/plain": [
              "        Date  Close  Supertrend     MA\n",
              "0 2007-01-10  19.55       19.82  19.07"
            ],
            "text/html": [
              "\n",
              "  <div id=\"df-b9457531-e2c2-4c46-a82b-484cf43ddebf\">\n",
              "    <div class=\"colab-df-container\">\n",
              "      <div>\n",
              "<style scoped>\n",
              "    .dataframe tbody tr th:only-of-type {\n",
              "        vertical-align: middle;\n",
              "    }\n",
              "\n",
              "    .dataframe tbody tr th {\n",
              "        vertical-align: top;\n",
              "    }\n",
              "\n",
              "    .dataframe thead th {\n",
              "        text-align: right;\n",
              "    }\n",
              "</style>\n",
              "<table border=\"1\" class=\"dataframe\">\n",
              "  <thead>\n",
              "    <tr style=\"text-align: right;\">\n",
              "      <th></th>\n",
              "      <th>Date</th>\n",
              "      <th>Close</th>\n",
              "      <th>Supertrend</th>\n",
              "      <th>MA</th>\n",
              "    </tr>\n",
              "  </thead>\n",
              "  <tbody>\n",
              "    <tr>\n",
              "      <th>0</th>\n",
              "      <td>2007-01-10</td>\n",
              "      <td>19.55</td>\n",
              "      <td>19.82</td>\n",
              "      <td>19.07</td>\n",
              "    </tr>\n",
              "  </tbody>\n",
              "</table>\n",
              "</div>\n",
              "      <button class=\"colab-df-convert\" onclick=\"convertToInteractive('df-b9457531-e2c2-4c46-a82b-484cf43ddebf')\"\n",
              "              title=\"Convert this dataframe to an interactive table.\"\n",
              "              style=\"display:none;\">\n",
              "        \n",
              "  <svg xmlns=\"http://www.w3.org/2000/svg\" height=\"24px\"viewBox=\"0 0 24 24\"\n",
              "       width=\"24px\">\n",
              "    <path d=\"M0 0h24v24H0V0z\" fill=\"none\"/>\n",
              "    <path d=\"M18.56 5.44l.94 2.06.94-2.06 2.06-.94-2.06-.94-.94-2.06-.94 2.06-2.06.94zm-11 1L8.5 8.5l.94-2.06 2.06-.94-2.06-.94L8.5 2.5l-.94 2.06-2.06.94zm10 10l.94 2.06.94-2.06 2.06-.94-2.06-.94-.94-2.06-.94 2.06-2.06.94z\"/><path d=\"M17.41 7.96l-1.37-1.37c-.4-.4-.92-.59-1.43-.59-.52 0-1.04.2-1.43.59L10.3 9.45l-7.72 7.72c-.78.78-.78 2.05 0 2.83L4 21.41c.39.39.9.59 1.41.59.51 0 1.02-.2 1.41-.59l7.78-7.78 2.81-2.81c.8-.78.8-2.07 0-2.86zM5.41 20L4 18.59l7.72-7.72 1.47 1.35L5.41 20z\"/>\n",
              "  </svg>\n",
              "      </button>\n",
              "      \n",
              "  <style>\n",
              "    .colab-df-container {\n",
              "      display:flex;\n",
              "      flex-wrap:wrap;\n",
              "      gap: 12px;\n",
              "    }\n",
              "\n",
              "    .colab-df-convert {\n",
              "      background-color: #E8F0FE;\n",
              "      border: none;\n",
              "      border-radius: 50%;\n",
              "      cursor: pointer;\n",
              "      display: none;\n",
              "      fill: #1967D2;\n",
              "      height: 32px;\n",
              "      padding: 0 0 0 0;\n",
              "      width: 32px;\n",
              "    }\n",
              "\n",
              "    .colab-df-convert:hover {\n",
              "      background-color: #E2EBFA;\n",
              "      box-shadow: 0px 1px 2px rgba(60, 64, 67, 0.3), 0px 1px 3px 1px rgba(60, 64, 67, 0.15);\n",
              "      fill: #174EA6;\n",
              "    }\n",
              "\n",
              "    [theme=dark] .colab-df-convert {\n",
              "      background-color: #3B4455;\n",
              "      fill: #D2E3FC;\n",
              "    }\n",
              "\n",
              "    [theme=dark] .colab-df-convert:hover {\n",
              "      background-color: #434B5C;\n",
              "      box-shadow: 0px 1px 3px 1px rgba(0, 0, 0, 0.15);\n",
              "      filter: drop-shadow(0px 1px 2px rgba(0, 0, 0, 0.3));\n",
              "      fill: #FFFFFF;\n",
              "    }\n",
              "  </style>\n",
              "\n",
              "      <script>\n",
              "        const buttonEl =\n",
              "          document.querySelector('#df-b9457531-e2c2-4c46-a82b-484cf43ddebf button.colab-df-convert');\n",
              "        buttonEl.style.display =\n",
              "          google.colab.kernel.accessAllowed ? 'block' : 'none';\n",
              "\n",
              "        async function convertToInteractive(key) {\n",
              "          const element = document.querySelector('#df-b9457531-e2c2-4c46-a82b-484cf43ddebf');\n",
              "          const dataTable =\n",
              "            await google.colab.kernel.invokeFunction('convertToInteractive',\n",
              "                                                     [key], {});\n",
              "          if (!dataTable) return;\n",
              "\n",
              "          const docLinkHtml = 'Like what you see? Visit the ' +\n",
              "            '<a target=\"_blank\" href=https://colab.research.google.com/notebooks/data_table.ipynb>data table notebook</a>'\n",
              "            + ' to learn more about interactive tables.';\n",
              "          element.innerHTML = '';\n",
              "          dataTable['output_type'] = 'display_data';\n",
              "          await google.colab.output.renderOutput(dataTable, element);\n",
              "          const docLink = document.createElement('div');\n",
              "          docLink.innerHTML = docLinkHtml;\n",
              "          element.appendChild(docLink);\n",
              "        }\n",
              "      </script>\n",
              "    </div>\n",
              "  </div>\n",
              "  "
            ]
          },
          "metadata": {},
          "execution_count": 26
        }
      ]
    },
    {
      "cell_type": "code",
      "source": [
        "# necessaire avant la fonction generate future dates, index numérique et non dates\n",
        "df_source.reset_index(inplace=True)\n",
        "df_source_allTime.reset_index(inplace=True)"
      ],
      "metadata": {
        "id": "Ryihkkl_SIzp"
      },
      "execution_count": null,
      "outputs": []
    },
    {
      "cell_type": "code",
      "source": [
        "long_entries, short_entries = find_entries_ST_MA_long(df_ta_ST_MA)\n",
        "nb_trades_long = len(long_entries)\n",
        "nb_trades_short = len(short_entries)\n",
        "print(\"Nombre de trades long brut : {}\\nNombre de trades short brut : {}\".format(nb_trades_long,nb_trades_short))"
      ],
      "metadata": {
        "colab": {
          "base_uri": "https://localhost:8080/"
        },
        "id": "gyIfv7KOzJOA",
        "outputId": "63504f0a-46fd-41c1-9b0c-b030f0941537"
      },
      "execution_count": null,
      "outputs": [
        {
          "output_type": "stream",
          "name": "stdout",
          "text": [
            "Nombre de trades long brut : 14\n",
            "Nombre de trades short brut : 12\n"
          ]
        }
      ]
    },
    {
      "cell_type": "code",
      "source": [
        "check_21d_interval(long_entries)\n",
        "check_21d_interval(short_entries)\n",
        "print(\"Nombre de trades long : {}\\nNombre de trades short : {}\".format(len(long_entries),len(short_entries)))"
      ],
      "metadata": {
        "colab": {
          "base_uri": "https://localhost:8080/"
        },
        "id": "unI4FWARuBcX",
        "outputId": "35799966-5080-43e7-a02d-fa8b7475046d"
      },
      "execution_count": null,
      "outputs": [
        {
          "output_type": "stream",
          "name": "stdout",
          "text": [
            "Nombre de trades long : 13\n",
            "Nombre de trades short : 12\n"
          ]
        }
      ]
    },
    {
      "cell_type": "code",
      "source": [
        "# df pour stats perf à +10j et +21j\n",
        "df_stats_long = generate_future_dates(df_source, long_entries)\n",
        "df_stats_short = generate_future_dates_Short(df_source, short_entries)"
      ],
      "metadata": {
        "id": "dyaLPVBv8090",
        "colab": {
          "base_uri": "https://localhost:8080/",
          "height": 345
        },
        "outputId": "c2ffa8fa-d6c2-46c8-d10d-207830a0af33"
      },
      "execution_count": null,
      "outputs": [
        {
          "output_type": "error",
          "ename": "KeyError",
          "evalue": "ignored",
          "traceback": [
            "\u001b[0;31m---------------------------------------------------------------------------\u001b[0m",
            "\u001b[0;31mKeyError\u001b[0m                                  Traceback (most recent call last)",
            "\u001b[0;32m<ipython-input-29-78bf5f655f1f>\u001b[0m in \u001b[0;36m<module>\u001b[0;34m()\u001b[0m\n\u001b[1;32m      1\u001b[0m \u001b[0;31m# df pour stats perf à +10j et +21j\u001b[0m\u001b[0;34m\u001b[0m\u001b[0;34m\u001b[0m\u001b[0;34m\u001b[0m\u001b[0m\n\u001b[0;32m----> 2\u001b[0;31m \u001b[0mdf_stats_long\u001b[0m \u001b[0;34m=\u001b[0m \u001b[0mgenerate_future_dates\u001b[0m\u001b[0;34m(\u001b[0m\u001b[0mdf_source\u001b[0m\u001b[0;34m,\u001b[0m \u001b[0mlong_entries\u001b[0m\u001b[0;34m)\u001b[0m\u001b[0;34m\u001b[0m\u001b[0;34m\u001b[0m\u001b[0m\n\u001b[0m\u001b[1;32m      3\u001b[0m \u001b[0mdf_stats_short\u001b[0m \u001b[0;34m=\u001b[0m \u001b[0mgenerate_future_dates_Short\u001b[0m\u001b[0;34m(\u001b[0m\u001b[0mdf_source\u001b[0m\u001b[0;34m,\u001b[0m \u001b[0mshort_entries\u001b[0m\u001b[0;34m)\u001b[0m\u001b[0;34m\u001b[0m\u001b[0;34m\u001b[0m\u001b[0m\n",
            "\u001b[0;32m<ipython-input-13-79d992abf9e1>\u001b[0m in \u001b[0;36mgenerate_future_dates\u001b[0;34m(df, entries_list)\u001b[0m\n\u001b[1;32m     20\u001b[0m   \u001b[0;31m# Conversion des index de array -> liste\u001b[0m\u001b[0;34m\u001b[0m\u001b[0;34m\u001b[0m\u001b[0;34m\u001b[0m\u001b[0m\n\u001b[1;32m     21\u001b[0m   \u001b[0;31m# Sélection du Close à la date correspondant à l'index\u001b[0m\u001b[0;34m\u001b[0m\u001b[0;34m\u001b[0m\u001b[0;34m\u001b[0m\u001b[0m\n\u001b[0;32m---> 22\u001b[0;31m   \u001b[0ms_2s\u001b[0m \u001b[0;34m=\u001b[0m \u001b[0mdf\u001b[0m\u001b[0;34m.\u001b[0m\u001b[0mloc\u001b[0m\u001b[0;34m[\u001b[0m\u001b[0mlist\u001b[0m\u001b[0;34m(\u001b[0m\u001b[0marr_e2s\u001b[0m\u001b[0;34m)\u001b[0m\u001b[0;34m,\u001b[0m\u001b[0;34m'Close'\u001b[0m\u001b[0;34m]\u001b[0m\u001b[0;34m.\u001b[0m\u001b[0mto_list\u001b[0m\u001b[0;34m(\u001b[0m\u001b[0;34m)\u001b[0m\u001b[0;34m\u001b[0m\u001b[0;34m\u001b[0m\u001b[0m\n\u001b[0m\u001b[1;32m     23\u001b[0m   \u001b[0ms_1m\u001b[0m \u001b[0;34m=\u001b[0m \u001b[0mdf\u001b[0m\u001b[0;34m.\u001b[0m\u001b[0mloc\u001b[0m\u001b[0;34m[\u001b[0m\u001b[0mlist\u001b[0m\u001b[0;34m(\u001b[0m\u001b[0marr_e1m\u001b[0m\u001b[0;34m)\u001b[0m\u001b[0;34m,\u001b[0m\u001b[0;34m'Close'\u001b[0m\u001b[0;34m]\u001b[0m\u001b[0;34m.\u001b[0m\u001b[0mto_list\u001b[0m\u001b[0;34m(\u001b[0m\u001b[0;34m)\u001b[0m\u001b[0;34m\u001b[0m\u001b[0;34m\u001b[0m\u001b[0m\n\u001b[1;32m     24\u001b[0m \u001b[0;34m\u001b[0m\u001b[0m\n",
            "\u001b[0;32m/usr/local/lib/python3.7/dist-packages/pandas/core/indexing.py\u001b[0m in \u001b[0;36m__getitem__\u001b[0;34m(self, key)\u001b[0m\n\u001b[1;32m    923\u001b[0m                 \u001b[0;32mwith\u001b[0m \u001b[0msuppress\u001b[0m\u001b[0;34m(\u001b[0m\u001b[0mKeyError\u001b[0m\u001b[0;34m,\u001b[0m \u001b[0mIndexError\u001b[0m\u001b[0;34m)\u001b[0m\u001b[0;34m:\u001b[0m\u001b[0;34m\u001b[0m\u001b[0;34m\u001b[0m\u001b[0m\n\u001b[1;32m    924\u001b[0m                     \u001b[0;32mreturn\u001b[0m \u001b[0mself\u001b[0m\u001b[0;34m.\u001b[0m\u001b[0mobj\u001b[0m\u001b[0;34m.\u001b[0m\u001b[0m_get_value\u001b[0m\u001b[0;34m(\u001b[0m\u001b[0;34m*\u001b[0m\u001b[0mkey\u001b[0m\u001b[0;34m,\u001b[0m \u001b[0mtakeable\u001b[0m\u001b[0;34m=\u001b[0m\u001b[0mself\u001b[0m\u001b[0;34m.\u001b[0m\u001b[0m_takeable\u001b[0m\u001b[0;34m)\u001b[0m\u001b[0;34m\u001b[0m\u001b[0;34m\u001b[0m\u001b[0m\n\u001b[0;32m--> 925\u001b[0;31m             \u001b[0;32mreturn\u001b[0m \u001b[0mself\u001b[0m\u001b[0;34m.\u001b[0m\u001b[0m_getitem_tuple\u001b[0m\u001b[0;34m(\u001b[0m\u001b[0mkey\u001b[0m\u001b[0;34m)\u001b[0m\u001b[0;34m\u001b[0m\u001b[0;34m\u001b[0m\u001b[0m\n\u001b[0m\u001b[1;32m    926\u001b[0m         \u001b[0;32melse\u001b[0m\u001b[0;34m:\u001b[0m\u001b[0;34m\u001b[0m\u001b[0;34m\u001b[0m\u001b[0m\n\u001b[1;32m    927\u001b[0m             \u001b[0;31m# we by definition only have the 0th axis\u001b[0m\u001b[0;34m\u001b[0m\u001b[0;34m\u001b[0m\u001b[0;34m\u001b[0m\u001b[0m\n",
            "\u001b[0;32m/usr/local/lib/python3.7/dist-packages/pandas/core/indexing.py\u001b[0m in \u001b[0;36m_getitem_tuple\u001b[0;34m(self, tup)\u001b[0m\n\u001b[1;32m   1098\u001b[0m     \u001b[0;32mdef\u001b[0m \u001b[0m_getitem_tuple\u001b[0m\u001b[0;34m(\u001b[0m\u001b[0mself\u001b[0m\u001b[0;34m,\u001b[0m \u001b[0mtup\u001b[0m\u001b[0;34m:\u001b[0m \u001b[0mtuple\u001b[0m\u001b[0;34m)\u001b[0m\u001b[0;34m:\u001b[0m\u001b[0;34m\u001b[0m\u001b[0;34m\u001b[0m\u001b[0m\n\u001b[1;32m   1099\u001b[0m         \u001b[0;32mwith\u001b[0m \u001b[0msuppress\u001b[0m\u001b[0;34m(\u001b[0m\u001b[0mIndexingError\u001b[0m\u001b[0;34m)\u001b[0m\u001b[0;34m:\u001b[0m\u001b[0;34m\u001b[0m\u001b[0;34m\u001b[0m\u001b[0m\n\u001b[0;32m-> 1100\u001b[0;31m             \u001b[0;32mreturn\u001b[0m \u001b[0mself\u001b[0m\u001b[0;34m.\u001b[0m\u001b[0m_getitem_lowerdim\u001b[0m\u001b[0;34m(\u001b[0m\u001b[0mtup\u001b[0m\u001b[0;34m)\u001b[0m\u001b[0;34m\u001b[0m\u001b[0;34m\u001b[0m\u001b[0m\n\u001b[0m\u001b[1;32m   1101\u001b[0m \u001b[0;34m\u001b[0m\u001b[0m\n\u001b[1;32m   1102\u001b[0m         \u001b[0;31m# no multi-index, so validate all of the indexers\u001b[0m\u001b[0;34m\u001b[0m\u001b[0;34m\u001b[0m\u001b[0;34m\u001b[0m\u001b[0m\n",
            "\u001b[0;32m/usr/local/lib/python3.7/dist-packages/pandas/core/indexing.py\u001b[0m in \u001b[0;36m_getitem_lowerdim\u001b[0;34m(self, tup)\u001b[0m\n\u001b[1;32m    860\u001b[0m                     \u001b[0;32mreturn\u001b[0m \u001b[0msection\u001b[0m\u001b[0;34m\u001b[0m\u001b[0;34m\u001b[0m\u001b[0m\n\u001b[1;32m    861\u001b[0m                 \u001b[0;31m# This is an elided recursive call to iloc/loc\u001b[0m\u001b[0;34m\u001b[0m\u001b[0;34m\u001b[0m\u001b[0;34m\u001b[0m\u001b[0m\n\u001b[0;32m--> 862\u001b[0;31m                 \u001b[0;32mreturn\u001b[0m \u001b[0mgetattr\u001b[0m\u001b[0;34m(\u001b[0m\u001b[0msection\u001b[0m\u001b[0;34m,\u001b[0m \u001b[0mself\u001b[0m\u001b[0;34m.\u001b[0m\u001b[0mname\u001b[0m\u001b[0;34m)\u001b[0m\u001b[0;34m[\u001b[0m\u001b[0mnew_key\u001b[0m\u001b[0;34m]\u001b[0m\u001b[0;34m\u001b[0m\u001b[0;34m\u001b[0m\u001b[0m\n\u001b[0m\u001b[1;32m    863\u001b[0m \u001b[0;34m\u001b[0m\u001b[0m\n\u001b[1;32m    864\u001b[0m         \u001b[0;32mraise\u001b[0m \u001b[0mIndexingError\u001b[0m\u001b[0;34m(\u001b[0m\u001b[0;34m\"not applicable\"\u001b[0m\u001b[0;34m)\u001b[0m\u001b[0;34m\u001b[0m\u001b[0;34m\u001b[0m\u001b[0m\n",
            "\u001b[0;32m/usr/local/lib/python3.7/dist-packages/pandas/core/indexing.py\u001b[0m in \u001b[0;36m__getitem__\u001b[0;34m(self, key)\u001b[0m\n\u001b[1;32m    929\u001b[0m \u001b[0;34m\u001b[0m\u001b[0m\n\u001b[1;32m    930\u001b[0m             \u001b[0mmaybe_callable\u001b[0m \u001b[0;34m=\u001b[0m \u001b[0mcom\u001b[0m\u001b[0;34m.\u001b[0m\u001b[0mapply_if_callable\u001b[0m\u001b[0;34m(\u001b[0m\u001b[0mkey\u001b[0m\u001b[0;34m,\u001b[0m \u001b[0mself\u001b[0m\u001b[0;34m.\u001b[0m\u001b[0mobj\u001b[0m\u001b[0;34m)\u001b[0m\u001b[0;34m\u001b[0m\u001b[0;34m\u001b[0m\u001b[0m\n\u001b[0;32m--> 931\u001b[0;31m             \u001b[0;32mreturn\u001b[0m \u001b[0mself\u001b[0m\u001b[0;34m.\u001b[0m\u001b[0m_getitem_axis\u001b[0m\u001b[0;34m(\u001b[0m\u001b[0mmaybe_callable\u001b[0m\u001b[0;34m,\u001b[0m \u001b[0maxis\u001b[0m\u001b[0;34m=\u001b[0m\u001b[0maxis\u001b[0m\u001b[0;34m)\u001b[0m\u001b[0;34m\u001b[0m\u001b[0;34m\u001b[0m\u001b[0m\n\u001b[0m\u001b[1;32m    932\u001b[0m \u001b[0;34m\u001b[0m\u001b[0m\n\u001b[1;32m    933\u001b[0m     \u001b[0;32mdef\u001b[0m \u001b[0m_is_scalar_access\u001b[0m\u001b[0;34m(\u001b[0m\u001b[0mself\u001b[0m\u001b[0;34m,\u001b[0m \u001b[0mkey\u001b[0m\u001b[0;34m:\u001b[0m \u001b[0mtuple\u001b[0m\u001b[0;34m)\u001b[0m\u001b[0;34m:\u001b[0m\u001b[0;34m\u001b[0m\u001b[0;34m\u001b[0m\u001b[0m\n",
            "\u001b[0;32m/usr/local/lib/python3.7/dist-packages/pandas/core/indexing.py\u001b[0m in \u001b[0;36m_getitem_axis\u001b[0;34m(self, key, axis)\u001b[0m\n\u001b[1;32m   1151\u001b[0m                     \u001b[0;32mraise\u001b[0m \u001b[0mValueError\u001b[0m\u001b[0;34m(\u001b[0m\u001b[0;34m\"Cannot index with multidimensional key\"\u001b[0m\u001b[0;34m)\u001b[0m\u001b[0;34m\u001b[0m\u001b[0;34m\u001b[0m\u001b[0m\n\u001b[1;32m   1152\u001b[0m \u001b[0;34m\u001b[0m\u001b[0m\n\u001b[0;32m-> 1153\u001b[0;31m                 \u001b[0;32mreturn\u001b[0m \u001b[0mself\u001b[0m\u001b[0;34m.\u001b[0m\u001b[0m_getitem_iterable\u001b[0m\u001b[0;34m(\u001b[0m\u001b[0mkey\u001b[0m\u001b[0;34m,\u001b[0m \u001b[0maxis\u001b[0m\u001b[0;34m=\u001b[0m\u001b[0maxis\u001b[0m\u001b[0;34m)\u001b[0m\u001b[0;34m\u001b[0m\u001b[0;34m\u001b[0m\u001b[0m\n\u001b[0m\u001b[1;32m   1154\u001b[0m \u001b[0;34m\u001b[0m\u001b[0m\n\u001b[1;32m   1155\u001b[0m             \u001b[0;31m# nested tuple slicing\u001b[0m\u001b[0;34m\u001b[0m\u001b[0;34m\u001b[0m\u001b[0;34m\u001b[0m\u001b[0m\n",
            "\u001b[0;32m/usr/local/lib/python3.7/dist-packages/pandas/core/indexing.py\u001b[0m in \u001b[0;36m_getitem_iterable\u001b[0;34m(self, key, axis)\u001b[0m\n\u001b[1;32m   1091\u001b[0m \u001b[0;34m\u001b[0m\u001b[0m\n\u001b[1;32m   1092\u001b[0m         \u001b[0;31m# A collection of keys\u001b[0m\u001b[0;34m\u001b[0m\u001b[0;34m\u001b[0m\u001b[0;34m\u001b[0m\u001b[0m\n\u001b[0;32m-> 1093\u001b[0;31m         \u001b[0mkeyarr\u001b[0m\u001b[0;34m,\u001b[0m \u001b[0mindexer\u001b[0m \u001b[0;34m=\u001b[0m \u001b[0mself\u001b[0m\u001b[0;34m.\u001b[0m\u001b[0m_get_listlike_indexer\u001b[0m\u001b[0;34m(\u001b[0m\u001b[0mkey\u001b[0m\u001b[0;34m,\u001b[0m \u001b[0maxis\u001b[0m\u001b[0;34m)\u001b[0m\u001b[0;34m\u001b[0m\u001b[0;34m\u001b[0m\u001b[0m\n\u001b[0m\u001b[1;32m   1094\u001b[0m         return self.obj._reindex_with_indexers(\n\u001b[1;32m   1095\u001b[0m             \u001b[0;34m{\u001b[0m\u001b[0maxis\u001b[0m\u001b[0;34m:\u001b[0m \u001b[0;34m[\u001b[0m\u001b[0mkeyarr\u001b[0m\u001b[0;34m,\u001b[0m \u001b[0mindexer\u001b[0m\u001b[0;34m]\u001b[0m\u001b[0;34m}\u001b[0m\u001b[0;34m,\u001b[0m \u001b[0mcopy\u001b[0m\u001b[0;34m=\u001b[0m\u001b[0;32mTrue\u001b[0m\u001b[0;34m,\u001b[0m \u001b[0mallow_dups\u001b[0m\u001b[0;34m=\u001b[0m\u001b[0;32mTrue\u001b[0m\u001b[0;34m\u001b[0m\u001b[0;34m\u001b[0m\u001b[0m\n",
            "\u001b[0;32m/usr/local/lib/python3.7/dist-packages/pandas/core/indexing.py\u001b[0m in \u001b[0;36m_get_listlike_indexer\u001b[0;34m(self, key, axis)\u001b[0m\n\u001b[1;32m   1312\u001b[0m             \u001b[0mkeyarr\u001b[0m\u001b[0;34m,\u001b[0m \u001b[0mindexer\u001b[0m\u001b[0;34m,\u001b[0m \u001b[0mnew_indexer\u001b[0m \u001b[0;34m=\u001b[0m \u001b[0max\u001b[0m\u001b[0;34m.\u001b[0m\u001b[0m_reindex_non_unique\u001b[0m\u001b[0;34m(\u001b[0m\u001b[0mkeyarr\u001b[0m\u001b[0;34m)\u001b[0m\u001b[0;34m\u001b[0m\u001b[0;34m\u001b[0m\u001b[0m\n\u001b[1;32m   1313\u001b[0m \u001b[0;34m\u001b[0m\u001b[0m\n\u001b[0;32m-> 1314\u001b[0;31m         \u001b[0mself\u001b[0m\u001b[0;34m.\u001b[0m\u001b[0m_validate_read_indexer\u001b[0m\u001b[0;34m(\u001b[0m\u001b[0mkeyarr\u001b[0m\u001b[0;34m,\u001b[0m \u001b[0mindexer\u001b[0m\u001b[0;34m,\u001b[0m \u001b[0maxis\u001b[0m\u001b[0;34m)\u001b[0m\u001b[0;34m\u001b[0m\u001b[0;34m\u001b[0m\u001b[0m\n\u001b[0m\u001b[1;32m   1315\u001b[0m \u001b[0;34m\u001b[0m\u001b[0m\n\u001b[1;32m   1316\u001b[0m         if needs_i8_conversion(ax.dtype) or isinstance(\n",
            "\u001b[0;32m/usr/local/lib/python3.7/dist-packages/pandas/core/indexing.py\u001b[0m in \u001b[0;36m_validate_read_indexer\u001b[0;34m(self, key, indexer, axis)\u001b[0m\n\u001b[1;32m   1372\u001b[0m                 \u001b[0;32mif\u001b[0m \u001b[0muse_interval_msg\u001b[0m\u001b[0;34m:\u001b[0m\u001b[0;34m\u001b[0m\u001b[0;34m\u001b[0m\u001b[0m\n\u001b[1;32m   1373\u001b[0m                     \u001b[0mkey\u001b[0m \u001b[0;34m=\u001b[0m \u001b[0mlist\u001b[0m\u001b[0;34m(\u001b[0m\u001b[0mkey\u001b[0m\u001b[0;34m)\u001b[0m\u001b[0;34m\u001b[0m\u001b[0;34m\u001b[0m\u001b[0m\n\u001b[0;32m-> 1374\u001b[0;31m                 \u001b[0;32mraise\u001b[0m \u001b[0mKeyError\u001b[0m\u001b[0;34m(\u001b[0m\u001b[0;34mf\"None of [{key}] are in the [{axis_name}]\"\u001b[0m\u001b[0;34m)\u001b[0m\u001b[0;34m\u001b[0m\u001b[0;34m\u001b[0m\u001b[0m\n\u001b[0m\u001b[1;32m   1375\u001b[0m \u001b[0;34m\u001b[0m\u001b[0m\n\u001b[1;32m   1376\u001b[0m             \u001b[0mnot_found\u001b[0m \u001b[0;34m=\u001b[0m \u001b[0mlist\u001b[0m\u001b[0;34m(\u001b[0m\u001b[0mensure_index\u001b[0m\u001b[0;34m(\u001b[0m\u001b[0mkey\u001b[0m\u001b[0;34m)\u001b[0m\u001b[0;34m[\u001b[0m\u001b[0mmissing_mask\u001b[0m\u001b[0;34m.\u001b[0m\u001b[0mnonzero\u001b[0m\u001b[0;34m(\u001b[0m\u001b[0;34m)\u001b[0m\u001b[0;34m[\u001b[0m\u001b[0;36m0\u001b[0m\u001b[0;34m]\u001b[0m\u001b[0;34m]\u001b[0m\u001b[0;34m.\u001b[0m\u001b[0munique\u001b[0m\u001b[0;34m(\u001b[0m\u001b[0;34m)\u001b[0m\u001b[0;34m)\u001b[0m\u001b[0;34m\u001b[0m\u001b[0;34m\u001b[0m\u001b[0m\n",
            "\u001b[0;31mKeyError\u001b[0m: \"None of [Int64Index([84, 189, 340, 413, 575, 643, 725, 749, 802, 851, 943, 1150, 1223], dtype='int64', name='Date')] are in the [index]\""
          ]
        }
      ]
    },
    {
      "cell_type": "code",
      "source": [
        "fig = go.Figure()\n",
        "# Use x instead of y argument for horizontal plot\n",
        "fig.add_trace(go.Box(x=df_stats_short['var_2s'], name=\"STxMA Short standard sortie +2s\", quartilemethod=\"inclusive\", marker_color='indianred'))\n",
        "fig.add_trace(go.Box(x=df_stats_long['var_2s'], name=\"STxMA Long standard sortie +2s\", quartilemethod=\"inclusive\", marker_color = 'lightseagreen'))\n",
        "fig.add_trace(go.Box(x=df_stats_short['var_1m'], name=\"STxMA Short standard sortie +1m\", quartilemethod=\"inclusive\", marker_color='indianred'))\n",
        "fig.add_trace(go.Box(x=df_stats_long['var_1m'], name=\"STxMA Long standard sortie +1m\", quartilemethod=\"inclusive\", marker_color = 'lightseagreen'))\n",
        "fig.update(layout_showlegend=False)\n",
        "fig.show()"
      ],
      "metadata": {
        "colab": {
          "base_uri": "https://localhost:8080/",
          "height": 235
        },
        "id": "4JtMybyN81G8",
        "outputId": "c8383ac0-c86a-4698-b8e0-75e2bc80bc46"
      },
      "execution_count": null,
      "outputs": [
        {
          "output_type": "error",
          "ename": "NameError",
          "evalue": "ignored",
          "traceback": [
            "\u001b[0;31m---------------------------------------------------------------------------\u001b[0m",
            "\u001b[0;31mNameError\u001b[0m                                 Traceback (most recent call last)",
            "\u001b[0;32m<ipython-input-30-5ba7fbe9078b>\u001b[0m in \u001b[0;36m<module>\u001b[0;34m()\u001b[0m\n\u001b[1;32m      1\u001b[0m \u001b[0mfig\u001b[0m \u001b[0;34m=\u001b[0m \u001b[0mgo\u001b[0m\u001b[0;34m.\u001b[0m\u001b[0mFigure\u001b[0m\u001b[0;34m(\u001b[0m\u001b[0;34m)\u001b[0m\u001b[0;34m\u001b[0m\u001b[0;34m\u001b[0m\u001b[0m\n\u001b[1;32m      2\u001b[0m \u001b[0;31m# Use x instead of y argument for horizontal plot\u001b[0m\u001b[0;34m\u001b[0m\u001b[0;34m\u001b[0m\u001b[0;34m\u001b[0m\u001b[0m\n\u001b[0;32m----> 3\u001b[0;31m \u001b[0mfig\u001b[0m\u001b[0;34m.\u001b[0m\u001b[0madd_trace\u001b[0m\u001b[0;34m(\u001b[0m\u001b[0mgo\u001b[0m\u001b[0;34m.\u001b[0m\u001b[0mBox\u001b[0m\u001b[0;34m(\u001b[0m\u001b[0mx\u001b[0m\u001b[0;34m=\u001b[0m\u001b[0mdf_stats_short\u001b[0m\u001b[0;34m[\u001b[0m\u001b[0;34m'var_2s'\u001b[0m\u001b[0;34m]\u001b[0m\u001b[0;34m,\u001b[0m \u001b[0mname\u001b[0m\u001b[0;34m=\u001b[0m\u001b[0;34m\"STxMA Short standard sortie +2s\"\u001b[0m\u001b[0;34m,\u001b[0m \u001b[0mquartilemethod\u001b[0m\u001b[0;34m=\u001b[0m\u001b[0;34m\"inclusive\"\u001b[0m\u001b[0;34m,\u001b[0m \u001b[0mmarker_color\u001b[0m\u001b[0;34m=\u001b[0m\u001b[0;34m'indianred'\u001b[0m\u001b[0;34m)\u001b[0m\u001b[0;34m)\u001b[0m\u001b[0;34m\u001b[0m\u001b[0;34m\u001b[0m\u001b[0m\n\u001b[0m\u001b[1;32m      4\u001b[0m \u001b[0mfig\u001b[0m\u001b[0;34m.\u001b[0m\u001b[0madd_trace\u001b[0m\u001b[0;34m(\u001b[0m\u001b[0mgo\u001b[0m\u001b[0;34m.\u001b[0m\u001b[0mBox\u001b[0m\u001b[0;34m(\u001b[0m\u001b[0mx\u001b[0m\u001b[0;34m=\u001b[0m\u001b[0mdf_stats_long\u001b[0m\u001b[0;34m[\u001b[0m\u001b[0;34m'var_2s'\u001b[0m\u001b[0;34m]\u001b[0m\u001b[0;34m,\u001b[0m \u001b[0mname\u001b[0m\u001b[0;34m=\u001b[0m\u001b[0;34m\"STxMA Long standard sortie +2s\"\u001b[0m\u001b[0;34m,\u001b[0m \u001b[0mquartilemethod\u001b[0m\u001b[0;34m=\u001b[0m\u001b[0;34m\"inclusive\"\u001b[0m\u001b[0;34m,\u001b[0m \u001b[0mmarker_color\u001b[0m \u001b[0;34m=\u001b[0m \u001b[0;34m'lightseagreen'\u001b[0m\u001b[0;34m)\u001b[0m\u001b[0;34m)\u001b[0m\u001b[0;34m\u001b[0m\u001b[0;34m\u001b[0m\u001b[0m\n\u001b[1;32m      5\u001b[0m \u001b[0mfig\u001b[0m\u001b[0;34m.\u001b[0m\u001b[0madd_trace\u001b[0m\u001b[0;34m(\u001b[0m\u001b[0mgo\u001b[0m\u001b[0;34m.\u001b[0m\u001b[0mBox\u001b[0m\u001b[0;34m(\u001b[0m\u001b[0mx\u001b[0m\u001b[0;34m=\u001b[0m\u001b[0mdf_stats_short\u001b[0m\u001b[0;34m[\u001b[0m\u001b[0;34m'var_1m'\u001b[0m\u001b[0;34m]\u001b[0m\u001b[0;34m,\u001b[0m \u001b[0mname\u001b[0m\u001b[0;34m=\u001b[0m\u001b[0;34m\"STxMA Short standard sortie +1m\"\u001b[0m\u001b[0;34m,\u001b[0m \u001b[0mquartilemethod\u001b[0m\u001b[0;34m=\u001b[0m\u001b[0;34m\"inclusive\"\u001b[0m\u001b[0;34m,\u001b[0m \u001b[0mmarker_color\u001b[0m\u001b[0;34m=\u001b[0m\u001b[0;34m'indianred'\u001b[0m\u001b[0;34m)\u001b[0m\u001b[0;34m)\u001b[0m\u001b[0;34m\u001b[0m\u001b[0;34m\u001b[0m\u001b[0m\n",
            "\u001b[0;31mNameError\u001b[0m: name 'df_stats_short' is not defined"
          ]
        }
      ]
    },
    {
      "cell_type": "code",
      "source": [
        "df_stats_long"
      ],
      "metadata": {
        "colab": {
          "base_uri": "https://localhost:8080/",
          "height": 426
        },
        "id": "fbYiDd-E81Pd",
        "outputId": "5d8af65f-a9c0-485d-b9ed-5d9ccc1953a1"
      },
      "execution_count": null,
      "outputs": [
        {
          "output_type": "execute_result",
          "data": {
            "text/plain": [
              "           Date   Open   High    Low  Close  Volume  Close_2s  Close_1m  \\\n",
              "74   2007-01-17  20.53  20.58  20.40  20.53     966     19.10     19.64   \n",
              "179  2007-06-19  21.53  21.56  21.40  21.46    1465     21.51     23.19   \n",
              "330  2008-01-23  15.65  15.88  14.87  14.87   28727     15.82     15.46   \n",
              "403  2008-05-08  17.14  17.24  16.93  17.13   19971     16.76     17.25   \n",
              "565  2008-12-30   7.01   7.01   6.88   6.88   40001      7.19      7.77   \n",
              "633  2009-04-08   8.36   8.65   8.36   8.56     452      9.56      9.43   \n",
              "715  2009-08-06  12.19  12.26  12.08  12.11    1068     12.20     12.36   \n",
              "739  2009-09-09  12.56  12.92  12.56  12.92    6704     13.70     13.55   \n",
              "792  2009-11-23  14.00  14.46  14.00  14.34   11365     14.40     15.70   \n",
              "841  2010-02-02  14.72  14.87  14.25  14.80   74849     15.58     16.67   \n",
              "933  2010-06-14  18.41  18.71  18.34  18.64   41256     18.01     17.25   \n",
              "1140 2011-03-30  24.58  24.68  24.45  24.48   21760     23.45     24.66   \n",
              "\n",
              "      var_2s  var_1m  \n",
              "74     -0.07   -0.04  \n",
              "179     0.00    0.08  \n",
              "330     0.06    0.04  \n",
              "403    -0.02    0.01  \n",
              "565     0.05    0.13  \n",
              "633     0.12    0.10  \n",
              "715     0.01    0.02  \n",
              "739     0.06    0.05  \n",
              "792     0.00    0.09  \n",
              "841     0.05    0.13  \n",
              "933    -0.03   -0.07  \n",
              "1140   -0.04    0.01  "
            ],
            "text/html": [
              "\n",
              "  <div id=\"df-d7762ae8-dd32-4936-80dc-000a786aaea3\">\n",
              "    <div class=\"colab-df-container\">\n",
              "      <div>\n",
              "<style scoped>\n",
              "    .dataframe tbody tr th:only-of-type {\n",
              "        vertical-align: middle;\n",
              "    }\n",
              "\n",
              "    .dataframe tbody tr th {\n",
              "        vertical-align: top;\n",
              "    }\n",
              "\n",
              "    .dataframe thead th {\n",
              "        text-align: right;\n",
              "    }\n",
              "</style>\n",
              "<table border=\"1\" class=\"dataframe\">\n",
              "  <thead>\n",
              "    <tr style=\"text-align: right;\">\n",
              "      <th></th>\n",
              "      <th>Date</th>\n",
              "      <th>Open</th>\n",
              "      <th>High</th>\n",
              "      <th>Low</th>\n",
              "      <th>Close</th>\n",
              "      <th>Volume</th>\n",
              "      <th>Close_2s</th>\n",
              "      <th>Close_1m</th>\n",
              "      <th>var_2s</th>\n",
              "      <th>var_1m</th>\n",
              "    </tr>\n",
              "  </thead>\n",
              "  <tbody>\n",
              "    <tr>\n",
              "      <th>74</th>\n",
              "      <td>2007-01-17</td>\n",
              "      <td>20.53</td>\n",
              "      <td>20.58</td>\n",
              "      <td>20.40</td>\n",
              "      <td>20.53</td>\n",
              "      <td>966</td>\n",
              "      <td>19.10</td>\n",
              "      <td>19.64</td>\n",
              "      <td>-0.07</td>\n",
              "      <td>-0.04</td>\n",
              "    </tr>\n",
              "    <tr>\n",
              "      <th>179</th>\n",
              "      <td>2007-06-19</td>\n",
              "      <td>21.53</td>\n",
              "      <td>21.56</td>\n",
              "      <td>21.40</td>\n",
              "      <td>21.46</td>\n",
              "      <td>1465</td>\n",
              "      <td>21.51</td>\n",
              "      <td>23.19</td>\n",
              "      <td>0.00</td>\n",
              "      <td>0.08</td>\n",
              "    </tr>\n",
              "    <tr>\n",
              "      <th>330</th>\n",
              "      <td>2008-01-23</td>\n",
              "      <td>15.65</td>\n",
              "      <td>15.88</td>\n",
              "      <td>14.87</td>\n",
              "      <td>14.87</td>\n",
              "      <td>28727</td>\n",
              "      <td>15.82</td>\n",
              "      <td>15.46</td>\n",
              "      <td>0.06</td>\n",
              "      <td>0.04</td>\n",
              "    </tr>\n",
              "    <tr>\n",
              "      <th>403</th>\n",
              "      <td>2008-05-08</td>\n",
              "      <td>17.14</td>\n",
              "      <td>17.24</td>\n",
              "      <td>16.93</td>\n",
              "      <td>17.13</td>\n",
              "      <td>19971</td>\n",
              "      <td>16.76</td>\n",
              "      <td>17.25</td>\n",
              "      <td>-0.02</td>\n",
              "      <td>0.01</td>\n",
              "    </tr>\n",
              "    <tr>\n",
              "      <th>565</th>\n",
              "      <td>2008-12-30</td>\n",
              "      <td>7.01</td>\n",
              "      <td>7.01</td>\n",
              "      <td>6.88</td>\n",
              "      <td>6.88</td>\n",
              "      <td>40001</td>\n",
              "      <td>7.19</td>\n",
              "      <td>7.77</td>\n",
              "      <td>0.05</td>\n",
              "      <td>0.13</td>\n",
              "    </tr>\n",
              "    <tr>\n",
              "      <th>633</th>\n",
              "      <td>2009-04-08</td>\n",
              "      <td>8.36</td>\n",
              "      <td>8.65</td>\n",
              "      <td>8.36</td>\n",
              "      <td>8.56</td>\n",
              "      <td>452</td>\n",
              "      <td>9.56</td>\n",
              "      <td>9.43</td>\n",
              "      <td>0.12</td>\n",
              "      <td>0.10</td>\n",
              "    </tr>\n",
              "    <tr>\n",
              "      <th>715</th>\n",
              "      <td>2009-08-06</td>\n",
              "      <td>12.19</td>\n",
              "      <td>12.26</td>\n",
              "      <td>12.08</td>\n",
              "      <td>12.11</td>\n",
              "      <td>1068</td>\n",
              "      <td>12.20</td>\n",
              "      <td>12.36</td>\n",
              "      <td>0.01</td>\n",
              "      <td>0.02</td>\n",
              "    </tr>\n",
              "    <tr>\n",
              "      <th>739</th>\n",
              "      <td>2009-09-09</td>\n",
              "      <td>12.56</td>\n",
              "      <td>12.92</td>\n",
              "      <td>12.56</td>\n",
              "      <td>12.92</td>\n",
              "      <td>6704</td>\n",
              "      <td>13.70</td>\n",
              "      <td>13.55</td>\n",
              "      <td>0.06</td>\n",
              "      <td>0.05</td>\n",
              "    </tr>\n",
              "    <tr>\n",
              "      <th>792</th>\n",
              "      <td>2009-11-23</td>\n",
              "      <td>14.00</td>\n",
              "      <td>14.46</td>\n",
              "      <td>14.00</td>\n",
              "      <td>14.34</td>\n",
              "      <td>11365</td>\n",
              "      <td>14.40</td>\n",
              "      <td>15.70</td>\n",
              "      <td>0.00</td>\n",
              "      <td>0.09</td>\n",
              "    </tr>\n",
              "    <tr>\n",
              "      <th>841</th>\n",
              "      <td>2010-02-02</td>\n",
              "      <td>14.72</td>\n",
              "      <td>14.87</td>\n",
              "      <td>14.25</td>\n",
              "      <td>14.80</td>\n",
              "      <td>74849</td>\n",
              "      <td>15.58</td>\n",
              "      <td>16.67</td>\n",
              "      <td>0.05</td>\n",
              "      <td>0.13</td>\n",
              "    </tr>\n",
              "    <tr>\n",
              "      <th>933</th>\n",
              "      <td>2010-06-14</td>\n",
              "      <td>18.41</td>\n",
              "      <td>18.71</td>\n",
              "      <td>18.34</td>\n",
              "      <td>18.64</td>\n",
              "      <td>41256</td>\n",
              "      <td>18.01</td>\n",
              "      <td>17.25</td>\n",
              "      <td>-0.03</td>\n",
              "      <td>-0.07</td>\n",
              "    </tr>\n",
              "    <tr>\n",
              "      <th>1140</th>\n",
              "      <td>2011-03-30</td>\n",
              "      <td>24.58</td>\n",
              "      <td>24.68</td>\n",
              "      <td>24.45</td>\n",
              "      <td>24.48</td>\n",
              "      <td>21760</td>\n",
              "      <td>23.45</td>\n",
              "      <td>24.66</td>\n",
              "      <td>-0.04</td>\n",
              "      <td>0.01</td>\n",
              "    </tr>\n",
              "  </tbody>\n",
              "</table>\n",
              "</div>\n",
              "      <button class=\"colab-df-convert\" onclick=\"convertToInteractive('df-d7762ae8-dd32-4936-80dc-000a786aaea3')\"\n",
              "              title=\"Convert this dataframe to an interactive table.\"\n",
              "              style=\"display:none;\">\n",
              "        \n",
              "  <svg xmlns=\"http://www.w3.org/2000/svg\" height=\"24px\"viewBox=\"0 0 24 24\"\n",
              "       width=\"24px\">\n",
              "    <path d=\"M0 0h24v24H0V0z\" fill=\"none\"/>\n",
              "    <path d=\"M18.56 5.44l.94 2.06.94-2.06 2.06-.94-2.06-.94-.94-2.06-.94 2.06-2.06.94zm-11 1L8.5 8.5l.94-2.06 2.06-.94-2.06-.94L8.5 2.5l-.94 2.06-2.06.94zm10 10l.94 2.06.94-2.06 2.06-.94-2.06-.94-.94-2.06-.94 2.06-2.06.94z\"/><path d=\"M17.41 7.96l-1.37-1.37c-.4-.4-.92-.59-1.43-.59-.52 0-1.04.2-1.43.59L10.3 9.45l-7.72 7.72c-.78.78-.78 2.05 0 2.83L4 21.41c.39.39.9.59 1.41.59.51 0 1.02-.2 1.41-.59l7.78-7.78 2.81-2.81c.8-.78.8-2.07 0-2.86zM5.41 20L4 18.59l7.72-7.72 1.47 1.35L5.41 20z\"/>\n",
              "  </svg>\n",
              "      </button>\n",
              "      \n",
              "  <style>\n",
              "    .colab-df-container {\n",
              "      display:flex;\n",
              "      flex-wrap:wrap;\n",
              "      gap: 12px;\n",
              "    }\n",
              "\n",
              "    .colab-df-convert {\n",
              "      background-color: #E8F0FE;\n",
              "      border: none;\n",
              "      border-radius: 50%;\n",
              "      cursor: pointer;\n",
              "      display: none;\n",
              "      fill: #1967D2;\n",
              "      height: 32px;\n",
              "      padding: 0 0 0 0;\n",
              "      width: 32px;\n",
              "    }\n",
              "\n",
              "    .colab-df-convert:hover {\n",
              "      background-color: #E2EBFA;\n",
              "      box-shadow: 0px 1px 2px rgba(60, 64, 67, 0.3), 0px 1px 3px 1px rgba(60, 64, 67, 0.15);\n",
              "      fill: #174EA6;\n",
              "    }\n",
              "\n",
              "    [theme=dark] .colab-df-convert {\n",
              "      background-color: #3B4455;\n",
              "      fill: #D2E3FC;\n",
              "    }\n",
              "\n",
              "    [theme=dark] .colab-df-convert:hover {\n",
              "      background-color: #434B5C;\n",
              "      box-shadow: 0px 1px 3px 1px rgba(0, 0, 0, 0.15);\n",
              "      filter: drop-shadow(0px 1px 2px rgba(0, 0, 0, 0.3));\n",
              "      fill: #FFFFFF;\n",
              "    }\n",
              "  </style>\n",
              "\n",
              "      <script>\n",
              "        const buttonEl =\n",
              "          document.querySelector('#df-d7762ae8-dd32-4936-80dc-000a786aaea3 button.colab-df-convert');\n",
              "        buttonEl.style.display =\n",
              "          google.colab.kernel.accessAllowed ? 'block' : 'none';\n",
              "\n",
              "        async function convertToInteractive(key) {\n",
              "          const element = document.querySelector('#df-d7762ae8-dd32-4936-80dc-000a786aaea3');\n",
              "          const dataTable =\n",
              "            await google.colab.kernel.invokeFunction('convertToInteractive',\n",
              "                                                     [key], {});\n",
              "          if (!dataTable) return;\n",
              "\n",
              "          const docLinkHtml = 'Like what you see? Visit the ' +\n",
              "            '<a target=\"_blank\" href=https://colab.research.google.com/notebooks/data_table.ipynb>data table notebook</a>'\n",
              "            + ' to learn more about interactive tables.';\n",
              "          element.innerHTML = '';\n",
              "          dataTable['output_type'] = 'display_data';\n",
              "          await google.colab.output.renderOutput(dataTable, element);\n",
              "          const docLink = document.createElement('div');\n",
              "          docLink.innerHTML = docLinkHtml;\n",
              "          element.appendChild(docLink);\n",
              "        }\n",
              "      </script>\n",
              "    </div>\n",
              "  </div>\n",
              "  "
            ]
          },
          "metadata": {},
          "execution_count": 145
        }
      ]
    },
    {
      "cell_type": "markdown",
      "source": [
        "### Période 2006 - aujourd'hui ###"
      ],
      "metadata": {
        "id": "ds_TNBqPQ7sZ"
      }
    },
    {
      "cell_type": "code",
      "source": [
        "df_ta_ST_MA = generate_ta_ST_MA(df_source_allTime,34,3,70)\n",
        "\n",
        "long_entries, short_entries = find_entries_ST_MA_long(df_ta_ST_MA)\n",
        "\n",
        "check_21d_interval(long_entries)\n",
        "check_21d_interval(short_entries)\n",
        "print(\"Nombre de trades long : {}\\nNombre de trades short : {}\".format(len(long_entries),len(short_entries)))"
      ],
      "metadata": {
        "id": "ZIDXzlb_81X9",
        "colab": {
          "base_uri": "https://localhost:8080/"
        },
        "outputId": "e7634041-3b62-464a-c429-8e23cdfd0c0b"
      },
      "execution_count": null,
      "outputs": [
        {
          "output_type": "stream",
          "name": "stdout",
          "text": [
            "Nombre de trades long : 39\n",
            "Nombre de trades short : 26\n"
          ]
        }
      ]
    },
    {
      "cell_type": "code",
      "source": [
        "# df pour stats perf à +10j et +21j\n",
        "df_stats_long = generate_future_dates(df_source_allTime, long_entries)\n",
        "df_stats_short = generate_future_dates_Short(df_source_allTime, short_entries)"
      ],
      "metadata": {
        "id": "8Js4KigrRxup"
      },
      "execution_count": null,
      "outputs": []
    },
    {
      "cell_type": "code",
      "source": [
        "fig = go.Figure()\n",
        "# Use x instead of y argument for horizontal plot\n",
        "fig.add_trace(go.Box(x=df_stats_short['var_2s'], name=\"STxMA Short standard sortie +2s\", quartilemethod=\"inclusive\", marker_color='indianred'))\n",
        "fig.add_trace(go.Box(x=df_stats_long['var_2s'], name=\"STxMA Long standard sortie +2s\", quartilemethod=\"inclusive\", marker_color = 'lightseagreen'))\n",
        "fig.add_trace(go.Box(x=df_stats_short['var_1m'], name=\"STxMA Short standard sortie +1m\", quartilemethod=\"inclusive\", marker_color='indianred'))\n",
        "fig.add_trace(go.Box(x=df_stats_long['var_1m'], name=\"STxMA Long standard sortie +1m\", quartilemethod=\"inclusive\", marker_color = 'lightseagreen'))\n",
        "fig.update(layout_showlegend=False)\n",
        "fig.show()"
      ],
      "metadata": {
        "colab": {
          "base_uri": "https://localhost:8080/",
          "height": 542
        },
        "id": "RJNzqLMPSQkC",
        "outputId": "d7c1e913-2c2f-4c32-f0f5-a23742523fb5"
      },
      "execution_count": null,
      "outputs": [
        {
          "output_type": "display_data",
          "data": {
            "text/html": [
              "<html>\n",
              "<head><meta charset=\"utf-8\" /></head>\n",
              "<body>\n",
              "    <div>            <script src=\"https://cdnjs.cloudflare.com/ajax/libs/mathjax/2.7.5/MathJax.js?config=TeX-AMS-MML_SVG\"></script><script type=\"text/javascript\">if (window.MathJax) {MathJax.Hub.Config({SVG: {font: \"STIX-Web\"}});}</script>                <script type=\"text/javascript\">window.PlotlyConfig = {MathJaxConfig: 'local'};</script>\n",
              "        <script src=\"https://cdn.plot.ly/plotly-2.8.3.min.js\"></script>                <div id=\"5c247abb-a425-4815-858b-d3fe3773986a\" class=\"plotly-graph-div\" style=\"height:525px; width:100%;\"></div>            <script type=\"text/javascript\">                                    window.PLOTLYENV=window.PLOTLYENV || {};                                    if (document.getElementById(\"5c247abb-a425-4815-858b-d3fe3773986a\")) {                    Plotly.newPlot(                        \"5c247abb-a425-4815-858b-d3fe3773986a\",                        [{\"marker\":{\"color\":\"indianred\"},\"name\":\"STxMA Short standard sortie +2s\",\"quartilemethod\":\"inclusive\",\"x\":[0.04,-0.03,0.03,-0.1,-0.13,0.03,-0.28,-0.03,-0.05,0.05,0.06,-0.01,-0.05,-0.06,-0.05,-0.07,-0.06,-0.11,-0.02,-0.03,0.01,-0.06,-0.06,-0.02,0.0],\"type\":\"box\"},{\"marker\":{\"color\":\"lightseagreen\"},\"name\":\"STxMA Long standard sortie +2s\",\"quartilemethod\":\"inclusive\",\"x\":[-0.07,0.0,0.06,-0.02,0.05,0.12,0.01,0.06,0.0,0.05,-0.03,-0.04,0.0,0.12,0.01,0.01,-0.01,-0.04,0.02,0.03,-0.02,0.03,-0.05,-0.19,0.03,0.02,-0.0,0.07,-0.03,0.11,-0.18,0.06,-0.1,-0.21,0.03,-0.12,0.03,-0.03],\"type\":\"box\"},{\"marker\":{\"color\":\"indianred\"},\"name\":\"STxMA Short standard sortie +1m\",\"quartilemethod\":\"inclusive\",\"x\":[0.06,0.01,-0.06,-0.17,-0.13,0.17,-0.16,-0.11,-0.09,-0.0,0.05,0.01,-0.08,-0.13,0.02,-0.01,0.0,-0.28,-0.06,-0.01,0.01,-0.12,-0.08,-0.1,-0.07],\"type\":\"box\"},{\"marker\":{\"color\":\"lightseagreen\"},\"name\":\"STxMA Long standard sortie +1m\",\"quartilemethod\":\"inclusive\",\"x\":[-0.04,0.08,0.04,0.01,0.13,0.1,0.02,0.05,0.09,0.13,-0.07,0.01,-0.21,0.13,-0.06,-0.0,0.02,0.1,0.06,0.01,0.08,-0.01,-0.08,-0.17,-0.09,0.05,0.02,0.05,0.05,0.14,-0.13,0.13,-0.1,-0.43,0.06,-0.11,0.13,0.14],\"type\":\"box\"}],                        {\"template\":{\"data\":{\"bar\":[{\"error_x\":{\"color\":\"#2a3f5f\"},\"error_y\":{\"color\":\"#2a3f5f\"},\"marker\":{\"line\":{\"color\":\"#E5ECF6\",\"width\":0.5},\"pattern\":{\"fillmode\":\"overlay\",\"size\":10,\"solidity\":0.2}},\"type\":\"bar\"}],\"barpolar\":[{\"marker\":{\"line\":{\"color\":\"#E5ECF6\",\"width\":0.5},\"pattern\":{\"fillmode\":\"overlay\",\"size\":10,\"solidity\":0.2}},\"type\":\"barpolar\"}],\"carpet\":[{\"aaxis\":{\"endlinecolor\":\"#2a3f5f\",\"gridcolor\":\"white\",\"linecolor\":\"white\",\"minorgridcolor\":\"white\",\"startlinecolor\":\"#2a3f5f\"},\"baxis\":{\"endlinecolor\":\"#2a3f5f\",\"gridcolor\":\"white\",\"linecolor\":\"white\",\"minorgridcolor\":\"white\",\"startlinecolor\":\"#2a3f5f\"},\"type\":\"carpet\"}],\"choropleth\":[{\"colorbar\":{\"outlinewidth\":0,\"ticks\":\"\"},\"type\":\"choropleth\"}],\"contour\":[{\"colorbar\":{\"outlinewidth\":0,\"ticks\":\"\"},\"colorscale\":[[0.0,\"#0d0887\"],[0.1111111111111111,\"#46039f\"],[0.2222222222222222,\"#7201a8\"],[0.3333333333333333,\"#9c179e\"],[0.4444444444444444,\"#bd3786\"],[0.5555555555555556,\"#d8576b\"],[0.6666666666666666,\"#ed7953\"],[0.7777777777777778,\"#fb9f3a\"],[0.8888888888888888,\"#fdca26\"],[1.0,\"#f0f921\"]],\"type\":\"contour\"}],\"contourcarpet\":[{\"colorbar\":{\"outlinewidth\":0,\"ticks\":\"\"},\"type\":\"contourcarpet\"}],\"heatmap\":[{\"colorbar\":{\"outlinewidth\":0,\"ticks\":\"\"},\"colorscale\":[[0.0,\"#0d0887\"],[0.1111111111111111,\"#46039f\"],[0.2222222222222222,\"#7201a8\"],[0.3333333333333333,\"#9c179e\"],[0.4444444444444444,\"#bd3786\"],[0.5555555555555556,\"#d8576b\"],[0.6666666666666666,\"#ed7953\"],[0.7777777777777778,\"#fb9f3a\"],[0.8888888888888888,\"#fdca26\"],[1.0,\"#f0f921\"]],\"type\":\"heatmap\"}],\"heatmapgl\":[{\"colorbar\":{\"outlinewidth\":0,\"ticks\":\"\"},\"colorscale\":[[0.0,\"#0d0887\"],[0.1111111111111111,\"#46039f\"],[0.2222222222222222,\"#7201a8\"],[0.3333333333333333,\"#9c179e\"],[0.4444444444444444,\"#bd3786\"],[0.5555555555555556,\"#d8576b\"],[0.6666666666666666,\"#ed7953\"],[0.7777777777777778,\"#fb9f3a\"],[0.8888888888888888,\"#fdca26\"],[1.0,\"#f0f921\"]],\"type\":\"heatmapgl\"}],\"histogram\":[{\"marker\":{\"pattern\":{\"fillmode\":\"overlay\",\"size\":10,\"solidity\":0.2}},\"type\":\"histogram\"}],\"histogram2d\":[{\"colorbar\":{\"outlinewidth\":0,\"ticks\":\"\"},\"colorscale\":[[0.0,\"#0d0887\"],[0.1111111111111111,\"#46039f\"],[0.2222222222222222,\"#7201a8\"],[0.3333333333333333,\"#9c179e\"],[0.4444444444444444,\"#bd3786\"],[0.5555555555555556,\"#d8576b\"],[0.6666666666666666,\"#ed7953\"],[0.7777777777777778,\"#fb9f3a\"],[0.8888888888888888,\"#fdca26\"],[1.0,\"#f0f921\"]],\"type\":\"histogram2d\"}],\"histogram2dcontour\":[{\"colorbar\":{\"outlinewidth\":0,\"ticks\":\"\"},\"colorscale\":[[0.0,\"#0d0887\"],[0.1111111111111111,\"#46039f\"],[0.2222222222222222,\"#7201a8\"],[0.3333333333333333,\"#9c179e\"],[0.4444444444444444,\"#bd3786\"],[0.5555555555555556,\"#d8576b\"],[0.6666666666666666,\"#ed7953\"],[0.7777777777777778,\"#fb9f3a\"],[0.8888888888888888,\"#fdca26\"],[1.0,\"#f0f921\"]],\"type\":\"histogram2dcontour\"}],\"mesh3d\":[{\"colorbar\":{\"outlinewidth\":0,\"ticks\":\"\"},\"type\":\"mesh3d\"}],\"parcoords\":[{\"line\":{\"colorbar\":{\"outlinewidth\":0,\"ticks\":\"\"}},\"type\":\"parcoords\"}],\"pie\":[{\"automargin\":true,\"type\":\"pie\"}],\"scatter\":[{\"marker\":{\"colorbar\":{\"outlinewidth\":0,\"ticks\":\"\"}},\"type\":\"scatter\"}],\"scatter3d\":[{\"line\":{\"colorbar\":{\"outlinewidth\":0,\"ticks\":\"\"}},\"marker\":{\"colorbar\":{\"outlinewidth\":0,\"ticks\":\"\"}},\"type\":\"scatter3d\"}],\"scattercarpet\":[{\"marker\":{\"colorbar\":{\"outlinewidth\":0,\"ticks\":\"\"}},\"type\":\"scattercarpet\"}],\"scattergeo\":[{\"marker\":{\"colorbar\":{\"outlinewidth\":0,\"ticks\":\"\"}},\"type\":\"scattergeo\"}],\"scattergl\":[{\"marker\":{\"colorbar\":{\"outlinewidth\":0,\"ticks\":\"\"}},\"type\":\"scattergl\"}],\"scattermapbox\":[{\"marker\":{\"colorbar\":{\"outlinewidth\":0,\"ticks\":\"\"}},\"type\":\"scattermapbox\"}],\"scatterpolar\":[{\"marker\":{\"colorbar\":{\"outlinewidth\":0,\"ticks\":\"\"}},\"type\":\"scatterpolar\"}],\"scatterpolargl\":[{\"marker\":{\"colorbar\":{\"outlinewidth\":0,\"ticks\":\"\"}},\"type\":\"scatterpolargl\"}],\"scatterternary\":[{\"marker\":{\"colorbar\":{\"outlinewidth\":0,\"ticks\":\"\"}},\"type\":\"scatterternary\"}],\"surface\":[{\"colorbar\":{\"outlinewidth\":0,\"ticks\":\"\"},\"colorscale\":[[0.0,\"#0d0887\"],[0.1111111111111111,\"#46039f\"],[0.2222222222222222,\"#7201a8\"],[0.3333333333333333,\"#9c179e\"],[0.4444444444444444,\"#bd3786\"],[0.5555555555555556,\"#d8576b\"],[0.6666666666666666,\"#ed7953\"],[0.7777777777777778,\"#fb9f3a\"],[0.8888888888888888,\"#fdca26\"],[1.0,\"#f0f921\"]],\"type\":\"surface\"}],\"table\":[{\"cells\":{\"fill\":{\"color\":\"#EBF0F8\"},\"line\":{\"color\":\"white\"}},\"header\":{\"fill\":{\"color\":\"#C8D4E3\"},\"line\":{\"color\":\"white\"}},\"type\":\"table\"}]},\"layout\":{\"annotationdefaults\":{\"arrowcolor\":\"#2a3f5f\",\"arrowhead\":0,\"arrowwidth\":1},\"autotypenumbers\":\"strict\",\"coloraxis\":{\"colorbar\":{\"outlinewidth\":0,\"ticks\":\"\"}},\"colorscale\":{\"diverging\":[[0,\"#8e0152\"],[0.1,\"#c51b7d\"],[0.2,\"#de77ae\"],[0.3,\"#f1b6da\"],[0.4,\"#fde0ef\"],[0.5,\"#f7f7f7\"],[0.6,\"#e6f5d0\"],[0.7,\"#b8e186\"],[0.8,\"#7fbc41\"],[0.9,\"#4d9221\"],[1,\"#276419\"]],\"sequential\":[[0.0,\"#0d0887\"],[0.1111111111111111,\"#46039f\"],[0.2222222222222222,\"#7201a8\"],[0.3333333333333333,\"#9c179e\"],[0.4444444444444444,\"#bd3786\"],[0.5555555555555556,\"#d8576b\"],[0.6666666666666666,\"#ed7953\"],[0.7777777777777778,\"#fb9f3a\"],[0.8888888888888888,\"#fdca26\"],[1.0,\"#f0f921\"]],\"sequentialminus\":[[0.0,\"#0d0887\"],[0.1111111111111111,\"#46039f\"],[0.2222222222222222,\"#7201a8\"],[0.3333333333333333,\"#9c179e\"],[0.4444444444444444,\"#bd3786\"],[0.5555555555555556,\"#d8576b\"],[0.6666666666666666,\"#ed7953\"],[0.7777777777777778,\"#fb9f3a\"],[0.8888888888888888,\"#fdca26\"],[1.0,\"#f0f921\"]]},\"colorway\":[\"#636efa\",\"#EF553B\",\"#00cc96\",\"#ab63fa\",\"#FFA15A\",\"#19d3f3\",\"#FF6692\",\"#B6E880\",\"#FF97FF\",\"#FECB52\"],\"font\":{\"color\":\"#2a3f5f\"},\"geo\":{\"bgcolor\":\"white\",\"lakecolor\":\"white\",\"landcolor\":\"#E5ECF6\",\"showlakes\":true,\"showland\":true,\"subunitcolor\":\"white\"},\"hoverlabel\":{\"align\":\"left\"},\"hovermode\":\"closest\",\"mapbox\":{\"style\":\"light\"},\"paper_bgcolor\":\"white\",\"plot_bgcolor\":\"#E5ECF6\",\"polar\":{\"angularaxis\":{\"gridcolor\":\"white\",\"linecolor\":\"white\",\"ticks\":\"\"},\"bgcolor\":\"#E5ECF6\",\"radialaxis\":{\"gridcolor\":\"white\",\"linecolor\":\"white\",\"ticks\":\"\"}},\"scene\":{\"xaxis\":{\"backgroundcolor\":\"#E5ECF6\",\"gridcolor\":\"white\",\"gridwidth\":2,\"linecolor\":\"white\",\"showbackground\":true,\"ticks\":\"\",\"zerolinecolor\":\"white\"},\"yaxis\":{\"backgroundcolor\":\"#E5ECF6\",\"gridcolor\":\"white\",\"gridwidth\":2,\"linecolor\":\"white\",\"showbackground\":true,\"ticks\":\"\",\"zerolinecolor\":\"white\"},\"zaxis\":{\"backgroundcolor\":\"#E5ECF6\",\"gridcolor\":\"white\",\"gridwidth\":2,\"linecolor\":\"white\",\"showbackground\":true,\"ticks\":\"\",\"zerolinecolor\":\"white\"}},\"shapedefaults\":{\"line\":{\"color\":\"#2a3f5f\"}},\"ternary\":{\"aaxis\":{\"gridcolor\":\"white\",\"linecolor\":\"white\",\"ticks\":\"\"},\"baxis\":{\"gridcolor\":\"white\",\"linecolor\":\"white\",\"ticks\":\"\"},\"bgcolor\":\"#E5ECF6\",\"caxis\":{\"gridcolor\":\"white\",\"linecolor\":\"white\",\"ticks\":\"\"}},\"title\":{\"x\":0.05},\"xaxis\":{\"automargin\":true,\"gridcolor\":\"white\",\"linecolor\":\"white\",\"ticks\":\"\",\"title\":{\"standoff\":15},\"zerolinecolor\":\"white\",\"zerolinewidth\":2},\"yaxis\":{\"automargin\":true,\"gridcolor\":\"white\",\"linecolor\":\"white\",\"ticks\":\"\",\"title\":{\"standoff\":15},\"zerolinecolor\":\"white\",\"zerolinewidth\":2}}},\"showlegend\":false},                        {\"responsive\": true}                    ).then(function(){\n",
              "                            \n",
              "var gd = document.getElementById('5c247abb-a425-4815-858b-d3fe3773986a');\n",
              "var x = new MutationObserver(function (mutations, observer) {{\n",
              "        var display = window.getComputedStyle(gd).display;\n",
              "        if (!display || display === 'none') {{\n",
              "            console.log([gd, 'removed!']);\n",
              "            Plotly.purge(gd);\n",
              "            observer.disconnect();\n",
              "        }}\n",
              "}});\n",
              "\n",
              "// Listen for the removal of the full notebook cells\n",
              "var notebookContainer = gd.closest('#notebook-container');\n",
              "if (notebookContainer) {{\n",
              "    x.observe(notebookContainer, {childList: true});\n",
              "}}\n",
              "\n",
              "// Listen for the clearing of the current output cell\n",
              "var outputEl = gd.closest('.output');\n",
              "if (outputEl) {{\n",
              "    x.observe(outputEl, {childList: true});\n",
              "}}\n",
              "\n",
              "                        })                };                            </script>        </div>\n",
              "</body>\n",
              "</html>"
            ]
          },
          "metadata": {}
        }
      ]
    },
    {
      "cell_type": "markdown",
      "source": [
        "#### Combinaison Long & Short, avec paramètres identiques ####"
      ],
      "metadata": {
        "id": "ej16lW_blTws"
      }
    },
    {
      "cell_type": "code",
      "source": [
        "'''Etude de la performance en combinant Long & Short\n",
        "NB : Les paramètres optimaux ne sont peut-être pas les mêmes !'''\n",
        "df_stats_long[\"position\"] = \"Long\"\n",
        "df_stats_short[\"position\"] = \"Short\"\n",
        "\n",
        "\n",
        "df_stats_LS = pd.concat([df_stats_long,df_stats_short])\n",
        "df_stats_LS.sort_values(by=[\"Date\"], inplace=True)\n",
        "\n",
        "df_stats_LS.reset_index(drop=True, inplace=True)"
      ],
      "metadata": {
        "id": "sujz3ccpVUrx"
      },
      "execution_count": null,
      "outputs": []
    },
    {
      "cell_type": "markdown",
      "source": [
        "Le dédoublonnage des positions Long / Short élimine pour 3/4 des positions Short retournées en Long<br />Confirmation de la brièveté des impulsions à la baisse"
      ],
      "metadata": {
        "id": "MCOwbb5EfMem"
      }
    },
    {
      "cell_type": "code",
      "source": [
        " # Dédoublonnage itératif, adapté à sortie fixe + 21j\n",
        "iteration = 1\n",
        "\n",
        "while iteration <4:\n",
        "  \n",
        "  doublons = []\n",
        "  j=1\n",
        "  # Obtention des dates de sorties, moins la dernière\n",
        "  s_exit_dates = df_stats_LS[\"Date\"]\n",
        "  s_exit_dates.drop(s_exit_dates.tail(1).index, inplace=True)\n",
        "  \n",
        "  # Obtention des index où les entrées chevauchent à une même date de sortie\n",
        "  for date_sortie in s_exit_dates:\n",
        "    if  (df_stats_LS[\"Date\"][j] - date_sortie).days < 21:\n",
        "      doublons.append(j)\n",
        "    j+=1\n",
        "  \n",
        "  # Suppression des index identifiés comme doublons d'entrées\n",
        "  df_stats_LS.drop(index=doublons, inplace=True)\n",
        "  df_stats_LS.reset_index(drop=True, inplace=True)\n",
        "  \n",
        "  # Fin n-ième intération\n",
        "  iteration+=1"
      ],
      "metadata": {
        "id": "3POnD4qgaDXO"
      },
      "execution_count": null,
      "outputs": []
    },
    {
      "cell_type": "code",
      "source": [
        "fig = go.Figure()\n",
        "# Use x instead of y argument for horizontal plot\n",
        "fig.add_trace(go.Box(x=df_stats_LS['var_2s'], name=\"STxMA L&S standard sortie +2s\", quartilemethod=\"inclusive\", marker_color='darkblue'))\n",
        "fig.add_trace(go.Box(x=df_stats_LS['var_1m'], name=\"STxMA L&S standard sortie +1m\", quartilemethod=\"inclusive\", marker_color='darkblue'))\n",
        "fig.update(layout_showlegend=False)\n",
        "fig.show()"
      ],
      "metadata": {
        "colab": {
          "base_uri": "https://localhost:8080/",
          "height": 542
        },
        "id": "x8jgZUz5fPgO",
        "outputId": "a0c78001-d8b2-4a85-8476-1de3351a65ab"
      },
      "execution_count": null,
      "outputs": [
        {
          "output_type": "display_data",
          "data": {
            "text/html": [
              "<html>\n",
              "<head><meta charset=\"utf-8\" /></head>\n",
              "<body>\n",
              "    <div>            <script src=\"https://cdnjs.cloudflare.com/ajax/libs/mathjax/2.7.5/MathJax.js?config=TeX-AMS-MML_SVG\"></script><script type=\"text/javascript\">if (window.MathJax) {MathJax.Hub.Config({SVG: {font: \"STIX-Web\"}});}</script>                <script type=\"text/javascript\">window.PlotlyConfig = {MathJaxConfig: 'local'};</script>\n",
              "        <script src=\"https://cdn.plot.ly/plotly-2.8.3.min.js\"></script>                <div id=\"ad9974d7-811c-4f21-9092-b36edf024497\" class=\"plotly-graph-div\" style=\"height:525px; width:100%;\"></div>            <script type=\"text/javascript\">                                    window.PLOTLYENV=window.PLOTLYENV || {};                                    if (document.getElementById(\"ad9974d7-811c-4f21-9092-b36edf024497\")) {                    Plotly.newPlot(                        \"ad9974d7-811c-4f21-9092-b36edf024497\",                        [{\"marker\":{\"color\":\"darkblue\"},\"name\":\"STxMA L&S standard sortie +2s\",\"quartilemethod\":\"inclusive\",\"x\":[0.04,-0.07,-0.03,0.0,0.03,-0.1,0.06,-0.13,-0.02,0.03,-0.28,0.05,0.12,0.01,0.06,0.0,0.05,-0.03,-0.03,-0.05,0.05,0.06,-0.04,-0.01,0.0,0.12,-0.05,0.01,-0.06,0.01,-0.01,-0.04,0.02,-0.05,0.03,-0.07,0.03,-0.06,-0.05,-0.11,-0.19,-0.02,0.02,-0.0,0.07,0.01,-0.06,0.11,-0.06,-0.18,-0.02,0.06,-0.1,0.0,-0.21,0.03,-0.12,0.03,-0.03],\"type\":\"box\"},{\"marker\":{\"color\":\"darkblue\"},\"name\":\"STxMA L&S standard sortie +1m\",\"quartilemethod\":\"inclusive\",\"x\":[0.06,-0.04,0.01,0.08,-0.06,-0.17,0.04,-0.13,0.01,0.17,-0.16,0.13,0.1,0.02,0.05,0.09,0.13,-0.11,-0.07,-0.09,-0.0,0.05,0.01,0.01,-0.21,0.13,-0.08,-0.06,-0.13,-0.0,0.02,0.1,0.06,0.02,0.01,-0.01,-0.01,0.0,-0.08,-0.28,-0.17,-0.06,0.05,0.02,0.05,0.01,-0.12,0.14,-0.08,-0.13,-0.1,0.13,-0.1,-0.07,-0.43,0.06,-0.11,0.13,0.14],\"type\":\"box\"}],                        {\"template\":{\"data\":{\"bar\":[{\"error_x\":{\"color\":\"#2a3f5f\"},\"error_y\":{\"color\":\"#2a3f5f\"},\"marker\":{\"line\":{\"color\":\"#E5ECF6\",\"width\":0.5},\"pattern\":{\"fillmode\":\"overlay\",\"size\":10,\"solidity\":0.2}},\"type\":\"bar\"}],\"barpolar\":[{\"marker\":{\"line\":{\"color\":\"#E5ECF6\",\"width\":0.5},\"pattern\":{\"fillmode\":\"overlay\",\"size\":10,\"solidity\":0.2}},\"type\":\"barpolar\"}],\"carpet\":[{\"aaxis\":{\"endlinecolor\":\"#2a3f5f\",\"gridcolor\":\"white\",\"linecolor\":\"white\",\"minorgridcolor\":\"white\",\"startlinecolor\":\"#2a3f5f\"},\"baxis\":{\"endlinecolor\":\"#2a3f5f\",\"gridcolor\":\"white\",\"linecolor\":\"white\",\"minorgridcolor\":\"white\",\"startlinecolor\":\"#2a3f5f\"},\"type\":\"carpet\"}],\"choropleth\":[{\"colorbar\":{\"outlinewidth\":0,\"ticks\":\"\"},\"type\":\"choropleth\"}],\"contour\":[{\"colorbar\":{\"outlinewidth\":0,\"ticks\":\"\"},\"colorscale\":[[0.0,\"#0d0887\"],[0.1111111111111111,\"#46039f\"],[0.2222222222222222,\"#7201a8\"],[0.3333333333333333,\"#9c179e\"],[0.4444444444444444,\"#bd3786\"],[0.5555555555555556,\"#d8576b\"],[0.6666666666666666,\"#ed7953\"],[0.7777777777777778,\"#fb9f3a\"],[0.8888888888888888,\"#fdca26\"],[1.0,\"#f0f921\"]],\"type\":\"contour\"}],\"contourcarpet\":[{\"colorbar\":{\"outlinewidth\":0,\"ticks\":\"\"},\"type\":\"contourcarpet\"}],\"heatmap\":[{\"colorbar\":{\"outlinewidth\":0,\"ticks\":\"\"},\"colorscale\":[[0.0,\"#0d0887\"],[0.1111111111111111,\"#46039f\"],[0.2222222222222222,\"#7201a8\"],[0.3333333333333333,\"#9c179e\"],[0.4444444444444444,\"#bd3786\"],[0.5555555555555556,\"#d8576b\"],[0.6666666666666666,\"#ed7953\"],[0.7777777777777778,\"#fb9f3a\"],[0.8888888888888888,\"#fdca26\"],[1.0,\"#f0f921\"]],\"type\":\"heatmap\"}],\"heatmapgl\":[{\"colorbar\":{\"outlinewidth\":0,\"ticks\":\"\"},\"colorscale\":[[0.0,\"#0d0887\"],[0.1111111111111111,\"#46039f\"],[0.2222222222222222,\"#7201a8\"],[0.3333333333333333,\"#9c179e\"],[0.4444444444444444,\"#bd3786\"],[0.5555555555555556,\"#d8576b\"],[0.6666666666666666,\"#ed7953\"],[0.7777777777777778,\"#fb9f3a\"],[0.8888888888888888,\"#fdca26\"],[1.0,\"#f0f921\"]],\"type\":\"heatmapgl\"}],\"histogram\":[{\"marker\":{\"pattern\":{\"fillmode\":\"overlay\",\"size\":10,\"solidity\":0.2}},\"type\":\"histogram\"}],\"histogram2d\":[{\"colorbar\":{\"outlinewidth\":0,\"ticks\":\"\"},\"colorscale\":[[0.0,\"#0d0887\"],[0.1111111111111111,\"#46039f\"],[0.2222222222222222,\"#7201a8\"],[0.3333333333333333,\"#9c179e\"],[0.4444444444444444,\"#bd3786\"],[0.5555555555555556,\"#d8576b\"],[0.6666666666666666,\"#ed7953\"],[0.7777777777777778,\"#fb9f3a\"],[0.8888888888888888,\"#fdca26\"],[1.0,\"#f0f921\"]],\"type\":\"histogram2d\"}],\"histogram2dcontour\":[{\"colorbar\":{\"outlinewidth\":0,\"ticks\":\"\"},\"colorscale\":[[0.0,\"#0d0887\"],[0.1111111111111111,\"#46039f\"],[0.2222222222222222,\"#7201a8\"],[0.3333333333333333,\"#9c179e\"],[0.4444444444444444,\"#bd3786\"],[0.5555555555555556,\"#d8576b\"],[0.6666666666666666,\"#ed7953\"],[0.7777777777777778,\"#fb9f3a\"],[0.8888888888888888,\"#fdca26\"],[1.0,\"#f0f921\"]],\"type\":\"histogram2dcontour\"}],\"mesh3d\":[{\"colorbar\":{\"outlinewidth\":0,\"ticks\":\"\"},\"type\":\"mesh3d\"}],\"parcoords\":[{\"line\":{\"colorbar\":{\"outlinewidth\":0,\"ticks\":\"\"}},\"type\":\"parcoords\"}],\"pie\":[{\"automargin\":true,\"type\":\"pie\"}],\"scatter\":[{\"marker\":{\"colorbar\":{\"outlinewidth\":0,\"ticks\":\"\"}},\"type\":\"scatter\"}],\"scatter3d\":[{\"line\":{\"colorbar\":{\"outlinewidth\":0,\"ticks\":\"\"}},\"marker\":{\"colorbar\":{\"outlinewidth\":0,\"ticks\":\"\"}},\"type\":\"scatter3d\"}],\"scattercarpet\":[{\"marker\":{\"colorbar\":{\"outlinewidth\":0,\"ticks\":\"\"}},\"type\":\"scattercarpet\"}],\"scattergeo\":[{\"marker\":{\"colorbar\":{\"outlinewidth\":0,\"ticks\":\"\"}},\"type\":\"scattergeo\"}],\"scattergl\":[{\"marker\":{\"colorbar\":{\"outlinewidth\":0,\"ticks\":\"\"}},\"type\":\"scattergl\"}],\"scattermapbox\":[{\"marker\":{\"colorbar\":{\"outlinewidth\":0,\"ticks\":\"\"}},\"type\":\"scattermapbox\"}],\"scatterpolar\":[{\"marker\":{\"colorbar\":{\"outlinewidth\":0,\"ticks\":\"\"}},\"type\":\"scatterpolar\"}],\"scatterpolargl\":[{\"marker\":{\"colorbar\":{\"outlinewidth\":0,\"ticks\":\"\"}},\"type\":\"scatterpolargl\"}],\"scatterternary\":[{\"marker\":{\"colorbar\":{\"outlinewidth\":0,\"ticks\":\"\"}},\"type\":\"scatterternary\"}],\"surface\":[{\"colorbar\":{\"outlinewidth\":0,\"ticks\":\"\"},\"colorscale\":[[0.0,\"#0d0887\"],[0.1111111111111111,\"#46039f\"],[0.2222222222222222,\"#7201a8\"],[0.3333333333333333,\"#9c179e\"],[0.4444444444444444,\"#bd3786\"],[0.5555555555555556,\"#d8576b\"],[0.6666666666666666,\"#ed7953\"],[0.7777777777777778,\"#fb9f3a\"],[0.8888888888888888,\"#fdca26\"],[1.0,\"#f0f921\"]],\"type\":\"surface\"}],\"table\":[{\"cells\":{\"fill\":{\"color\":\"#EBF0F8\"},\"line\":{\"color\":\"white\"}},\"header\":{\"fill\":{\"color\":\"#C8D4E3\"},\"line\":{\"color\":\"white\"}},\"type\":\"table\"}]},\"layout\":{\"annotationdefaults\":{\"arrowcolor\":\"#2a3f5f\",\"arrowhead\":0,\"arrowwidth\":1},\"autotypenumbers\":\"strict\",\"coloraxis\":{\"colorbar\":{\"outlinewidth\":0,\"ticks\":\"\"}},\"colorscale\":{\"diverging\":[[0,\"#8e0152\"],[0.1,\"#c51b7d\"],[0.2,\"#de77ae\"],[0.3,\"#f1b6da\"],[0.4,\"#fde0ef\"],[0.5,\"#f7f7f7\"],[0.6,\"#e6f5d0\"],[0.7,\"#b8e186\"],[0.8,\"#7fbc41\"],[0.9,\"#4d9221\"],[1,\"#276419\"]],\"sequential\":[[0.0,\"#0d0887\"],[0.1111111111111111,\"#46039f\"],[0.2222222222222222,\"#7201a8\"],[0.3333333333333333,\"#9c179e\"],[0.4444444444444444,\"#bd3786\"],[0.5555555555555556,\"#d8576b\"],[0.6666666666666666,\"#ed7953\"],[0.7777777777777778,\"#fb9f3a\"],[0.8888888888888888,\"#fdca26\"],[1.0,\"#f0f921\"]],\"sequentialminus\":[[0.0,\"#0d0887\"],[0.1111111111111111,\"#46039f\"],[0.2222222222222222,\"#7201a8\"],[0.3333333333333333,\"#9c179e\"],[0.4444444444444444,\"#bd3786\"],[0.5555555555555556,\"#d8576b\"],[0.6666666666666666,\"#ed7953\"],[0.7777777777777778,\"#fb9f3a\"],[0.8888888888888888,\"#fdca26\"],[1.0,\"#f0f921\"]]},\"colorway\":[\"#636efa\",\"#EF553B\",\"#00cc96\",\"#ab63fa\",\"#FFA15A\",\"#19d3f3\",\"#FF6692\",\"#B6E880\",\"#FF97FF\",\"#FECB52\"],\"font\":{\"color\":\"#2a3f5f\"},\"geo\":{\"bgcolor\":\"white\",\"lakecolor\":\"white\",\"landcolor\":\"#E5ECF6\",\"showlakes\":true,\"showland\":true,\"subunitcolor\":\"white\"},\"hoverlabel\":{\"align\":\"left\"},\"hovermode\":\"closest\",\"mapbox\":{\"style\":\"light\"},\"paper_bgcolor\":\"white\",\"plot_bgcolor\":\"#E5ECF6\",\"polar\":{\"angularaxis\":{\"gridcolor\":\"white\",\"linecolor\":\"white\",\"ticks\":\"\"},\"bgcolor\":\"#E5ECF6\",\"radialaxis\":{\"gridcolor\":\"white\",\"linecolor\":\"white\",\"ticks\":\"\"}},\"scene\":{\"xaxis\":{\"backgroundcolor\":\"#E5ECF6\",\"gridcolor\":\"white\",\"gridwidth\":2,\"linecolor\":\"white\",\"showbackground\":true,\"ticks\":\"\",\"zerolinecolor\":\"white\"},\"yaxis\":{\"backgroundcolor\":\"#E5ECF6\",\"gridcolor\":\"white\",\"gridwidth\":2,\"linecolor\":\"white\",\"showbackground\":true,\"ticks\":\"\",\"zerolinecolor\":\"white\"},\"zaxis\":{\"backgroundcolor\":\"#E5ECF6\",\"gridcolor\":\"white\",\"gridwidth\":2,\"linecolor\":\"white\",\"showbackground\":true,\"ticks\":\"\",\"zerolinecolor\":\"white\"}},\"shapedefaults\":{\"line\":{\"color\":\"#2a3f5f\"}},\"ternary\":{\"aaxis\":{\"gridcolor\":\"white\",\"linecolor\":\"white\",\"ticks\":\"\"},\"baxis\":{\"gridcolor\":\"white\",\"linecolor\":\"white\",\"ticks\":\"\"},\"bgcolor\":\"#E5ECF6\",\"caxis\":{\"gridcolor\":\"white\",\"linecolor\":\"white\",\"ticks\":\"\"}},\"title\":{\"x\":0.05},\"xaxis\":{\"automargin\":true,\"gridcolor\":\"white\",\"linecolor\":\"white\",\"ticks\":\"\",\"title\":{\"standoff\":15},\"zerolinecolor\":\"white\",\"zerolinewidth\":2},\"yaxis\":{\"automargin\":true,\"gridcolor\":\"white\",\"linecolor\":\"white\",\"ticks\":\"\",\"title\":{\"standoff\":15},\"zerolinecolor\":\"white\",\"zerolinewidth\":2}}},\"showlegend\":false},                        {\"responsive\": true}                    ).then(function(){\n",
              "                            \n",
              "var gd = document.getElementById('ad9974d7-811c-4f21-9092-b36edf024497');\n",
              "var x = new MutationObserver(function (mutations, observer) {{\n",
              "        var display = window.getComputedStyle(gd).display;\n",
              "        if (!display || display === 'none') {{\n",
              "            console.log([gd, 'removed!']);\n",
              "            Plotly.purge(gd);\n",
              "            observer.disconnect();\n",
              "        }}\n",
              "}});\n",
              "\n",
              "// Listen for the removal of the full notebook cells\n",
              "var notebookContainer = gd.closest('#notebook-container');\n",
              "if (notebookContainer) {{\n",
              "    x.observe(notebookContainer, {childList: true});\n",
              "}}\n",
              "\n",
              "// Listen for the clearing of the current output cell\n",
              "var outputEl = gd.closest('.output');\n",
              "if (outputEl) {{\n",
              "    x.observe(outputEl, {childList: true});\n",
              "}}\n",
              "\n",
              "                        })                };                            </script>        </div>\n",
              "</body>\n",
              "</html>"
            ]
          },
          "metadata": {}
        }
      ]
    },
    {
      "cell_type": "markdown",
      "source": [
        "## Recherche de la meilleure combinaison paramètre ST et longueur MA ##"
      ],
      "metadata": {
        "id": "Gyq6aeu6TwJl"
      }
    },
    {
      "cell_type": "code",
      "source": [
        "# Listes ATR et Multiplier pour Supertrend, et plage de longueur MA #\n",
        "\n",
        "np_list = np.arange(2.0,6.0,0.5)\n",
        "l_atr = [x for x in range(5,80)]\n",
        "\n",
        "d_vars_supertrend = {\n",
        "    \"atr\": l_atr,\n",
        "    \"multiplier\": list(np_list)\n",
        "}\n",
        "\n",
        "ma_list = [e for e in range(5,201,5)]"
      ],
      "metadata": {
        "id": "149PLQRCUR3d"
      },
      "execution_count": null,
      "outputs": []
    },
    {
      "cell_type": "code",
      "source": [
        "dict_res = {\n",
        "    \"atr_length\":[],\n",
        "    \"multiplier\":[],\n",
        "    \"ma_length\":[],\n",
        "    \"cumulative_performance\":[]\n",
        "}\n",
        "params_test=[]\n",
        "  \n",
        "for moy in ma_list:\n",
        "  for mult in d_vars_supertrend['multiplier']: \n",
        "    for atr in d_vars_supertrend['atr']:\n",
        "\n",
        "      # Dataframe contenant les indicateurs techniques\n",
        "      #df_ta_ST_MA = generate_ta_ST_MA(df_source,atr,mult,moy)\n",
        "      df_ta_ST_MA = generate_ta_ST_MA(df_source_allTime,atr,mult,moy)\n",
        "\n",
        "      # Entrées & Sorties correspondantes à la stratégie\n",
        "      long_entries, short_entries = find_entries_ST_MA_long(df_ta_ST_MA)\n",
        "      \n",
        "      # Focus uniquement sur positions longues\n",
        "      exits_list = get_exits_list_Long_ST_MA(df_ta_ST_MA, long_entries, 1.3, 0.9)\n",
        "      \n",
        "      # DataFrame entrées - sorties - variations\n",
        "      df_perf = generate_df_perf(df_ta_ST_MA, long_entries, exits_list)\n",
        "\n",
        "      # Obtention de la performance cumulée\n",
        "      perf = calc_performance(df_perf)\n",
        "\n",
        "      # Inscription des résultats dans le dictionnaire\n",
        "      dict_res[\"atr_length\"].append(atr)\n",
        "      dict_res[\"multiplier\"].append(mult)\n",
        "      dict_res[\"ma_length\"].append(moy)\n",
        "      dict_res[\"cumulative_performance\"].append(perf)\n",
        "\n",
        "# Transformation en dataframe\n",
        "df_multi_ST = pd.DataFrame.from_dict(dict_res)"
      ],
      "metadata": {
        "id": "GTGiepC-UR3e"
      },
      "execution_count": null,
      "outputs": []
    },
    {
      "cell_type": "code",
      "source": [
        "df_multi_ST.to_excel(\"/content/drive/MyDrive/Colab Notebooks/Perf_SuperTrend_MA_allTime.xlsx\", index=False, header=True)"
      ],
      "metadata": {
        "id": "aRtO7QYpT63x"
      },
      "execution_count": null,
      "outputs": []
    },
    {
      "cell_type": "code",
      "source": [
        ""
      ],
      "metadata": {
        "id": "KCnpHXl_T6_g"
      },
      "execution_count": null,
      "outputs": []
    },
    {
      "cell_type": "code",
      "source": [
        ""
      ],
      "metadata": {
        "id": "Zz5LXLDhT7Vp"
      },
      "execution_count": null,
      "outputs": []
    },
    {
      "cell_type": "markdown",
      "source": [
        "# Stratégie triple Supertrend #"
      ],
      "metadata": {
        "id": "J9mXh8rmzXcQ"
      }
    },
    {
      "cell_type": "markdown",
      "source": [
        "## Triple Supertrend fixe #\n",
        "10x1, 11x2, 12x3"
      ],
      "metadata": {
        "id": "2WsJvDjHzgOy"
      }
    },
    {
      "cell_type": "markdown",
      "source": [
        "### Génération Indicateurs ###"
      ],
      "metadata": {
        "id": "gBKvNC8p7t6l"
      }
    },
    {
      "cell_type": "code",
      "source": [
        "def generate_ta_ST(df_hist,df_in,atr_list,multip_list):\n",
        "  ''' Genère un Dataframe contenant Supertrend \n",
        "  Répeter pour ajout d'autant de colonnes correspondantes'''\n",
        "  \n",
        "  for l in range (0, len(atr_list)):\n",
        "    \n",
        "    df = df_hist.ta.supertrend(high=df_hist[\"High\"], low=df_hist[\"Low\"], close=df_hist[\"Close\"], length = atr_list[l], multiplier = multip_list[l])\n",
        "\n",
        "    # On ne conserve que la première colonne\n",
        "    df = df[[df.columns[0]]]\n",
        "\n",
        "    # Suppression de la 1ère ligne inutile\n",
        "    df = df.iloc[1: , :] \n",
        "\n",
        "    # Ajout de la colonne Supertrend, jointure sur index Dates\n",
        "    df_in = df_in.join(df)\n",
        "\n",
        "  # Suppression de toutes les lignes vides\n",
        "  df_in.dropna(inplace=True) \n",
        "  \n",
        "  return df_in"
      ],
      "metadata": {
        "id": "S-R9uhFXza6K"
      },
      "execution_count": null,
      "outputs": []
    },
    {
      "cell_type": "code",
      "source": [
        "# Initiation de DataFrame TA prêt à recevoir les 3 Supertrend\n",
        "df_3ST = df_source_allTime[[\"Close\"]].copy()\n",
        "df_3ST.head(1)"
      ],
      "metadata": {
        "colab": {
          "base_uri": "https://localhost:8080/",
          "height": 112
        },
        "id": "7P5ZMKzH2U1P",
        "outputId": "ac3bec48-54ec-40e0-9b4c-09651f1f5820"
      },
      "execution_count": null,
      "outputs": [
        {
          "output_type": "execute_result",
          "data": {
            "text/plain": [
              "            Close\n",
              "Date             \n",
              "2006-10-02  17.44"
            ],
            "text/html": [
              "\n",
              "  <div id=\"df-ae98def4-9659-4b3c-9f31-5df709926434\">\n",
              "    <div class=\"colab-df-container\">\n",
              "      <div>\n",
              "<style scoped>\n",
              "    .dataframe tbody tr th:only-of-type {\n",
              "        vertical-align: middle;\n",
              "    }\n",
              "\n",
              "    .dataframe tbody tr th {\n",
              "        vertical-align: top;\n",
              "    }\n",
              "\n",
              "    .dataframe thead th {\n",
              "        text-align: right;\n",
              "    }\n",
              "</style>\n",
              "<table border=\"1\" class=\"dataframe\">\n",
              "  <thead>\n",
              "    <tr style=\"text-align: right;\">\n",
              "      <th></th>\n",
              "      <th>Close</th>\n",
              "    </tr>\n",
              "    <tr>\n",
              "      <th>Date</th>\n",
              "      <th></th>\n",
              "    </tr>\n",
              "  </thead>\n",
              "  <tbody>\n",
              "    <tr>\n",
              "      <th>2006-10-02</th>\n",
              "      <td>17.44</td>\n",
              "    </tr>\n",
              "  </tbody>\n",
              "</table>\n",
              "</div>\n",
              "      <button class=\"colab-df-convert\" onclick=\"convertToInteractive('df-ae98def4-9659-4b3c-9f31-5df709926434')\"\n",
              "              title=\"Convert this dataframe to an interactive table.\"\n",
              "              style=\"display:none;\">\n",
              "        \n",
              "  <svg xmlns=\"http://www.w3.org/2000/svg\" height=\"24px\"viewBox=\"0 0 24 24\"\n",
              "       width=\"24px\">\n",
              "    <path d=\"M0 0h24v24H0V0z\" fill=\"none\"/>\n",
              "    <path d=\"M18.56 5.44l.94 2.06.94-2.06 2.06-.94-2.06-.94-.94-2.06-.94 2.06-2.06.94zm-11 1L8.5 8.5l.94-2.06 2.06-.94-2.06-.94L8.5 2.5l-.94 2.06-2.06.94zm10 10l.94 2.06.94-2.06 2.06-.94-2.06-.94-.94-2.06-.94 2.06-2.06.94z\"/><path d=\"M17.41 7.96l-1.37-1.37c-.4-.4-.92-.59-1.43-.59-.52 0-1.04.2-1.43.59L10.3 9.45l-7.72 7.72c-.78.78-.78 2.05 0 2.83L4 21.41c.39.39.9.59 1.41.59.51 0 1.02-.2 1.41-.59l7.78-7.78 2.81-2.81c.8-.78.8-2.07 0-2.86zM5.41 20L4 18.59l7.72-7.72 1.47 1.35L5.41 20z\"/>\n",
              "  </svg>\n",
              "      </button>\n",
              "      \n",
              "  <style>\n",
              "    .colab-df-container {\n",
              "      display:flex;\n",
              "      flex-wrap:wrap;\n",
              "      gap: 12px;\n",
              "    }\n",
              "\n",
              "    .colab-df-convert {\n",
              "      background-color: #E8F0FE;\n",
              "      border: none;\n",
              "      border-radius: 50%;\n",
              "      cursor: pointer;\n",
              "      display: none;\n",
              "      fill: #1967D2;\n",
              "      height: 32px;\n",
              "      padding: 0 0 0 0;\n",
              "      width: 32px;\n",
              "    }\n",
              "\n",
              "    .colab-df-convert:hover {\n",
              "      background-color: #E2EBFA;\n",
              "      box-shadow: 0px 1px 2px rgba(60, 64, 67, 0.3), 0px 1px 3px 1px rgba(60, 64, 67, 0.15);\n",
              "      fill: #174EA6;\n",
              "    }\n",
              "\n",
              "    [theme=dark] .colab-df-convert {\n",
              "      background-color: #3B4455;\n",
              "      fill: #D2E3FC;\n",
              "    }\n",
              "\n",
              "    [theme=dark] .colab-df-convert:hover {\n",
              "      background-color: #434B5C;\n",
              "      box-shadow: 0px 1px 3px 1px rgba(0, 0, 0, 0.15);\n",
              "      filter: drop-shadow(0px 1px 2px rgba(0, 0, 0, 0.3));\n",
              "      fill: #FFFFFF;\n",
              "    }\n",
              "  </style>\n",
              "\n",
              "      <script>\n",
              "        const buttonEl =\n",
              "          document.querySelector('#df-ae98def4-9659-4b3c-9f31-5df709926434 button.colab-df-convert');\n",
              "        buttonEl.style.display =\n",
              "          google.colab.kernel.accessAllowed ? 'block' : 'none';\n",
              "\n",
              "        async function convertToInteractive(key) {\n",
              "          const element = document.querySelector('#df-ae98def4-9659-4b3c-9f31-5df709926434');\n",
              "          const dataTable =\n",
              "            await google.colab.kernel.invokeFunction('convertToInteractive',\n",
              "                                                     [key], {});\n",
              "          if (!dataTable) return;\n",
              "\n",
              "          const docLinkHtml = 'Like what you see? Visit the ' +\n",
              "            '<a target=\"_blank\" href=https://colab.research.google.com/notebooks/data_table.ipynb>data table notebook</a>'\n",
              "            + ' to learn more about interactive tables.';\n",
              "          element.innerHTML = '';\n",
              "          dataTable['output_type'] = 'display_data';\n",
              "          await google.colab.output.renderOutput(dataTable, element);\n",
              "          const docLink = document.createElement('div');\n",
              "          docLink.innerHTML = docLinkHtml;\n",
              "          element.appendChild(docLink);\n",
              "        }\n",
              "      </script>\n",
              "    </div>\n",
              "  </div>\n",
              "  "
            ]
          },
          "metadata": {},
          "execution_count": 18
        }
      ]
    },
    {
      "cell_type": "code",
      "source": [
        "l_atr = [10,11,12]\n",
        "l_multip = [1,2,3]"
      ],
      "metadata": {
        "id": "MoeibKWR5vJW"
      },
      "execution_count": null,
      "outputs": []
    },
    {
      "cell_type": "code",
      "source": [
        "df_3ST = generate_ta_ST(df_source_allTime, df_3ST, l_atr, l_multip)"
      ],
      "metadata": {
        "id": "ZwQppS8k54fI"
      },
      "execution_count": null,
      "outputs": []
    },
    {
      "cell_type": "code",
      "source": [
        "df_3ST.shape"
      ],
      "metadata": {
        "colab": {
          "base_uri": "https://localhost:8080/"
        },
        "id": "MwqBbmVW54pH",
        "outputId": "e7bd7500-150d-437a-a794-1d6366ceddd4"
      },
      "execution_count": null,
      "outputs": [
        {
          "output_type": "execute_result",
          "data": {
            "text/plain": [
              "(3937, 4)"
            ]
          },
          "metadata": {},
          "execution_count": 21
        }
      ]
    },
    {
      "cell_type": "code",
      "source": [
        "df_3ST"
      ],
      "metadata": {
        "colab": {
          "base_uri": "https://localhost:8080/",
          "height": 424
        },
        "id": "_Uc5sKiz543w",
        "outputId": "5b3e33ad-1910-41fd-92ae-6ce35e486057"
      },
      "execution_count": null,
      "outputs": [
        {
          "output_type": "execute_result",
          "data": {
            "text/plain": [
              "           Date   Close  SUPERT_10_1.0  SUPERT_11_2.0  SUPERT_12_3.0  Uptrend  \\\n",
              "0    2006-10-18   18.68      19.142662      18.178435      17.656164    False   \n",
              "1    2006-10-19   18.55      18.905125      18.178435      17.656164    False   \n",
              "2    2006-10-20   18.55      18.905125      18.178435      17.656164    False   \n",
              "3    2006-10-23   19.19      18.561926      18.178435      17.795642     True   \n",
              "4    2006-10-24   18.90      18.601510      18.225269      17.850522     True   \n",
              "...         ...     ...            ...            ...            ...      ...   \n",
              "3932 2022-03-21  727.60     694.161879     660.479683     626.524205     True   \n",
              "3933 2022-03-22  755.10     713.945691     680.076984     645.988855     True   \n",
              "3934 2022-03-23  759.20     721.756122     689.024531     655.902284     True   \n",
              "3935 2022-03-24  755.90     721.756122     689.024531     656.477093     True   \n",
              "3936 2022-03-25  762.40     735.990459     704.658703     672.779002     True   \n",
              "\n",
              "      Downtrend  Uptrend_exit  Downtrend_exit  \n",
              "0         False         False           False  \n",
              "1         False         False           False  \n",
              "2         False         False           False  \n",
              "3         False         False           False  \n",
              "4         False         False           False  \n",
              "...         ...           ...             ...  \n",
              "3932      False         False           False  \n",
              "3933      False         False           False  \n",
              "3934      False         False           False  \n",
              "3935      False         False           False  \n",
              "3936      False         False           False  \n",
              "\n",
              "[3937 rows x 9 columns]"
            ],
            "text/html": [
              "\n",
              "  <div id=\"df-bd8d691c-caba-4cc1-be44-c86b47e8c818\">\n",
              "    <div class=\"colab-df-container\">\n",
              "      <div>\n",
              "<style scoped>\n",
              "    .dataframe tbody tr th:only-of-type {\n",
              "        vertical-align: middle;\n",
              "    }\n",
              "\n",
              "    .dataframe tbody tr th {\n",
              "        vertical-align: top;\n",
              "    }\n",
              "\n",
              "    .dataframe thead th {\n",
              "        text-align: right;\n",
              "    }\n",
              "</style>\n",
              "<table border=\"1\" class=\"dataframe\">\n",
              "  <thead>\n",
              "    <tr style=\"text-align: right;\">\n",
              "      <th></th>\n",
              "      <th>Date</th>\n",
              "      <th>Close</th>\n",
              "      <th>SUPERT_10_1.0</th>\n",
              "      <th>SUPERT_11_2.0</th>\n",
              "      <th>SUPERT_12_3.0</th>\n",
              "      <th>Uptrend</th>\n",
              "      <th>Downtrend</th>\n",
              "      <th>Uptrend_exit</th>\n",
              "      <th>Downtrend_exit</th>\n",
              "    </tr>\n",
              "  </thead>\n",
              "  <tbody>\n",
              "    <tr>\n",
              "      <th>0</th>\n",
              "      <td>2006-10-18</td>\n",
              "      <td>18.68</td>\n",
              "      <td>19.142662</td>\n",
              "      <td>18.178435</td>\n",
              "      <td>17.656164</td>\n",
              "      <td>False</td>\n",
              "      <td>False</td>\n",
              "      <td>False</td>\n",
              "      <td>False</td>\n",
              "    </tr>\n",
              "    <tr>\n",
              "      <th>1</th>\n",
              "      <td>2006-10-19</td>\n",
              "      <td>18.55</td>\n",
              "      <td>18.905125</td>\n",
              "      <td>18.178435</td>\n",
              "      <td>17.656164</td>\n",
              "      <td>False</td>\n",
              "      <td>False</td>\n",
              "      <td>False</td>\n",
              "      <td>False</td>\n",
              "    </tr>\n",
              "    <tr>\n",
              "      <th>2</th>\n",
              "      <td>2006-10-20</td>\n",
              "      <td>18.55</td>\n",
              "      <td>18.905125</td>\n",
              "      <td>18.178435</td>\n",
              "      <td>17.656164</td>\n",
              "      <td>False</td>\n",
              "      <td>False</td>\n",
              "      <td>False</td>\n",
              "      <td>False</td>\n",
              "    </tr>\n",
              "    <tr>\n",
              "      <th>3</th>\n",
              "      <td>2006-10-23</td>\n",
              "      <td>19.19</td>\n",
              "      <td>18.561926</td>\n",
              "      <td>18.178435</td>\n",
              "      <td>17.795642</td>\n",
              "      <td>True</td>\n",
              "      <td>False</td>\n",
              "      <td>False</td>\n",
              "      <td>False</td>\n",
              "    </tr>\n",
              "    <tr>\n",
              "      <th>4</th>\n",
              "      <td>2006-10-24</td>\n",
              "      <td>18.90</td>\n",
              "      <td>18.601510</td>\n",
              "      <td>18.225269</td>\n",
              "      <td>17.850522</td>\n",
              "      <td>True</td>\n",
              "      <td>False</td>\n",
              "      <td>False</td>\n",
              "      <td>False</td>\n",
              "    </tr>\n",
              "    <tr>\n",
              "      <th>...</th>\n",
              "      <td>...</td>\n",
              "      <td>...</td>\n",
              "      <td>...</td>\n",
              "      <td>...</td>\n",
              "      <td>...</td>\n",
              "      <td>...</td>\n",
              "      <td>...</td>\n",
              "      <td>...</td>\n",
              "      <td>...</td>\n",
              "    </tr>\n",
              "    <tr>\n",
              "      <th>3932</th>\n",
              "      <td>2022-03-21</td>\n",
              "      <td>727.60</td>\n",
              "      <td>694.161879</td>\n",
              "      <td>660.479683</td>\n",
              "      <td>626.524205</td>\n",
              "      <td>True</td>\n",
              "      <td>False</td>\n",
              "      <td>False</td>\n",
              "      <td>False</td>\n",
              "    </tr>\n",
              "    <tr>\n",
              "      <th>3933</th>\n",
              "      <td>2022-03-22</td>\n",
              "      <td>755.10</td>\n",
              "      <td>713.945691</td>\n",
              "      <td>680.076984</td>\n",
              "      <td>645.988855</td>\n",
              "      <td>True</td>\n",
              "      <td>False</td>\n",
              "      <td>False</td>\n",
              "      <td>False</td>\n",
              "    </tr>\n",
              "    <tr>\n",
              "      <th>3934</th>\n",
              "      <td>2022-03-23</td>\n",
              "      <td>759.20</td>\n",
              "      <td>721.756122</td>\n",
              "      <td>689.024531</td>\n",
              "      <td>655.902284</td>\n",
              "      <td>True</td>\n",
              "      <td>False</td>\n",
              "      <td>False</td>\n",
              "      <td>False</td>\n",
              "    </tr>\n",
              "    <tr>\n",
              "      <th>3935</th>\n",
              "      <td>2022-03-24</td>\n",
              "      <td>755.90</td>\n",
              "      <td>721.756122</td>\n",
              "      <td>689.024531</td>\n",
              "      <td>656.477093</td>\n",
              "      <td>True</td>\n",
              "      <td>False</td>\n",
              "      <td>False</td>\n",
              "      <td>False</td>\n",
              "    </tr>\n",
              "    <tr>\n",
              "      <th>3936</th>\n",
              "      <td>2022-03-25</td>\n",
              "      <td>762.40</td>\n",
              "      <td>735.990459</td>\n",
              "      <td>704.658703</td>\n",
              "      <td>672.779002</td>\n",
              "      <td>True</td>\n",
              "      <td>False</td>\n",
              "      <td>False</td>\n",
              "      <td>False</td>\n",
              "    </tr>\n",
              "  </tbody>\n",
              "</table>\n",
              "<p>3937 rows × 9 columns</p>\n",
              "</div>\n",
              "      <button class=\"colab-df-convert\" onclick=\"convertToInteractive('df-bd8d691c-caba-4cc1-be44-c86b47e8c818')\"\n",
              "              title=\"Convert this dataframe to an interactive table.\"\n",
              "              style=\"display:none;\">\n",
              "        \n",
              "  <svg xmlns=\"http://www.w3.org/2000/svg\" height=\"24px\"viewBox=\"0 0 24 24\"\n",
              "       width=\"24px\">\n",
              "    <path d=\"M0 0h24v24H0V0z\" fill=\"none\"/>\n",
              "    <path d=\"M18.56 5.44l.94 2.06.94-2.06 2.06-.94-2.06-.94-.94-2.06-.94 2.06-2.06.94zm-11 1L8.5 8.5l.94-2.06 2.06-.94-2.06-.94L8.5 2.5l-.94 2.06-2.06.94zm10 10l.94 2.06.94-2.06 2.06-.94-2.06-.94-.94-2.06-.94 2.06-2.06.94z\"/><path d=\"M17.41 7.96l-1.37-1.37c-.4-.4-.92-.59-1.43-.59-.52 0-1.04.2-1.43.59L10.3 9.45l-7.72 7.72c-.78.78-.78 2.05 0 2.83L4 21.41c.39.39.9.59 1.41.59.51 0 1.02-.2 1.41-.59l7.78-7.78 2.81-2.81c.8-.78.8-2.07 0-2.86zM5.41 20L4 18.59l7.72-7.72 1.47 1.35L5.41 20z\"/>\n",
              "  </svg>\n",
              "      </button>\n",
              "      \n",
              "  <style>\n",
              "    .colab-df-container {\n",
              "      display:flex;\n",
              "      flex-wrap:wrap;\n",
              "      gap: 12px;\n",
              "    }\n",
              "\n",
              "    .colab-df-convert {\n",
              "      background-color: #E8F0FE;\n",
              "      border: none;\n",
              "      border-radius: 50%;\n",
              "      cursor: pointer;\n",
              "      display: none;\n",
              "      fill: #1967D2;\n",
              "      height: 32px;\n",
              "      padding: 0 0 0 0;\n",
              "      width: 32px;\n",
              "    }\n",
              "\n",
              "    .colab-df-convert:hover {\n",
              "      background-color: #E2EBFA;\n",
              "      box-shadow: 0px 1px 2px rgba(60, 64, 67, 0.3), 0px 1px 3px 1px rgba(60, 64, 67, 0.15);\n",
              "      fill: #174EA6;\n",
              "    }\n",
              "\n",
              "    [theme=dark] .colab-df-convert {\n",
              "      background-color: #3B4455;\n",
              "      fill: #D2E3FC;\n",
              "    }\n",
              "\n",
              "    [theme=dark] .colab-df-convert:hover {\n",
              "      background-color: #434B5C;\n",
              "      box-shadow: 0px 1px 3px 1px rgba(0, 0, 0, 0.15);\n",
              "      filter: drop-shadow(0px 1px 2px rgba(0, 0, 0, 0.3));\n",
              "      fill: #FFFFFF;\n",
              "    }\n",
              "  </style>\n",
              "\n",
              "      <script>\n",
              "        const buttonEl =\n",
              "          document.querySelector('#df-bd8d691c-caba-4cc1-be44-c86b47e8c818 button.colab-df-convert');\n",
              "        buttonEl.style.display =\n",
              "          google.colab.kernel.accessAllowed ? 'block' : 'none';\n",
              "\n",
              "        async function convertToInteractive(key) {\n",
              "          const element = document.querySelector('#df-bd8d691c-caba-4cc1-be44-c86b47e8c818');\n",
              "          const dataTable =\n",
              "            await google.colab.kernel.invokeFunction('convertToInteractive',\n",
              "                                                     [key], {});\n",
              "          if (!dataTable) return;\n",
              "\n",
              "          const docLinkHtml = 'Like what you see? Visit the ' +\n",
              "            '<a target=\"_blank\" href=https://colab.research.google.com/notebooks/data_table.ipynb>data table notebook</a>'\n",
              "            + ' to learn more about interactive tables.';\n",
              "          element.innerHTML = '';\n",
              "          dataTable['output_type'] = 'display_data';\n",
              "          await google.colab.output.renderOutput(dataTable, element);\n",
              "          const docLink = document.createElement('div');\n",
              "          docLink.innerHTML = docLinkHtml;\n",
              "          element.appendChild(docLink);\n",
              "        }\n",
              "      </script>\n",
              "    </div>\n",
              "  </div>\n",
              "  "
            ]
          },
          "metadata": {},
          "execution_count": 56
        }
      ]
    },
    {
      "cell_type": "markdown",
      "source": [
        "### Identification des entrées ###\n",
        "\n"
      ],
      "metadata": {
        "id": "RJhcqGVs71mW"
      }
    },
    {
      "cell_type": "code",
      "source": [
        "col_list = df_3ST.columns"
      ],
      "metadata": {
        "id": "DEoKJanuUkLK"
      },
      "execution_count": null,
      "outputs": []
    },
    {
      "cell_type": "code",
      "source": [
        "df_3ST[\"Uptrend\"]=df_3ST.apply(lambda x: \n",
        "                                True if x['Close'] > x[col_list[1]]\n",
        "                                  and x[col_list[1]] > x[col_list[2]]\n",
        "                                  and x[col_list[2]] > x[col_list[3]]\n",
        "                                else False,axis=1)"
      ],
      "metadata": {
        "id": "qvbQvzXl7qbs"
      },
      "execution_count": null,
      "outputs": []
    },
    {
      "cell_type": "code",
      "source": [
        "# Même principe à la recherche de Shorts\n",
        "# Attention 1 colonne en plus donc décaler les index de colonnes de -1 par rapport à la requête précédente\n",
        "df_3ST[\"Downtrend\"]=df_3ST.apply(lambda x: \n",
        "                                 True if x['Close'] < x[col_list[1]]\n",
        "                                  and x[col_list[1]] < x[col_list[2]]\n",
        "                                  and x[col_list[2]] < x[col_list[3]]\n",
        "                                else False,axis=1)"
      ],
      "metadata": {
        "id": "cxd_19d4_g3o"
      },
      "execution_count": null,
      "outputs": []
    },
    {
      "cell_type": "code",
      "source": [
        "df_3ST[\"Uptrend_exit\"]=df_3ST.apply(lambda x: \n",
        "                                    True if x['Close'] < x[col_list[1]]\n",
        "                                    and x[col_list[1]] < x[col_list[2]]\n",
        "                                    and x['Close'] > x[col_list[3]]\n",
        "                                else False,axis=1)"
      ],
      "metadata": {
        "id": "A5wDrUnWU9Vf"
      },
      "execution_count": null,
      "outputs": []
    },
    {
      "cell_type": "code",
      "source": [
        "df_3ST[\"Downtrend_exit\"]=df_3ST.apply(lambda x: \n",
        "                                      True if x['Close'] > x[col_list[1]]\n",
        "                                      and x[col_list[1]] > x[col_list[2]]\n",
        "                                      and x['Close'] < x[col_list[3]]\n",
        "                                else False,axis=1)"
      ],
      "metadata": {
        "id": "AdNHCYO5WBB1"
      },
      "execution_count": null,
      "outputs": []
    },
    {
      "cell_type": "code",
      "source": [
        "df_3ST"
      ],
      "metadata": {
        "colab": {
          "base_uri": "https://localhost:8080/",
          "height": 655
        },
        "id": "HhhiBxXcA9Hp",
        "outputId": "30c38f5b-9bd1-4ccd-d2d1-0dc344385358"
      },
      "execution_count": null,
      "outputs": [
        {
          "output_type": "execute_result",
          "data": {
            "text/plain": [
              "           Date   Close  SUPERT_10_1.0  SUPERT_11_2.0  SUPERT_12_3.0  Uptrend  \\\n",
              "0    2006-10-18   18.68      19.142662      18.178435      17.656164    False   \n",
              "1    2006-10-19   18.55      18.905125      18.178435      17.656164    False   \n",
              "2    2006-10-20   18.55      18.905125      18.178435      17.656164    False   \n",
              "3    2006-10-23   19.19      18.561926      18.178435      17.795642     True   \n",
              "4    2006-10-24   18.90      18.601510      18.225269      17.850522     True   \n",
              "...         ...     ...            ...            ...            ...      ...   \n",
              "3932 2022-03-21  727.60     694.161879     660.479683     626.524205     True   \n",
              "3933 2022-03-22  755.10     713.945691     680.076984     645.988855     True   \n",
              "3934 2022-03-23  759.20     721.756122     689.024531     655.902284     True   \n",
              "3935 2022-03-24  755.90     721.756122     689.024531     656.477093     True   \n",
              "3936 2022-03-25  762.40     735.990459     704.658703     672.779002     True   \n",
              "\n",
              "      Downtrend  Uptrend_exit  Downtrend_exit  \n",
              "0         False         False           False  \n",
              "1         False         False           False  \n",
              "2         False         False           False  \n",
              "3         False         False           False  \n",
              "4         False         False           False  \n",
              "...         ...           ...             ...  \n",
              "3932      False         False           False  \n",
              "3933      False         False           False  \n",
              "3934      False         False           False  \n",
              "3935      False         False           False  \n",
              "3936      False         False           False  \n",
              "\n",
              "[3937 rows x 9 columns]"
            ],
            "text/html": [
              "\n",
              "  <div id=\"df-82a4ae9c-ce62-40e1-bfb6-692ceb43fa14\">\n",
              "    <div class=\"colab-df-container\">\n",
              "      <div>\n",
              "<style scoped>\n",
              "    .dataframe tbody tr th:only-of-type {\n",
              "        vertical-align: middle;\n",
              "    }\n",
              "\n",
              "    .dataframe tbody tr th {\n",
              "        vertical-align: top;\n",
              "    }\n",
              "\n",
              "    .dataframe thead th {\n",
              "        text-align: right;\n",
              "    }\n",
              "</style>\n",
              "<table border=\"1\" class=\"dataframe\">\n",
              "  <thead>\n",
              "    <tr style=\"text-align: right;\">\n",
              "      <th></th>\n",
              "      <th>Date</th>\n",
              "      <th>Close</th>\n",
              "      <th>SUPERT_10_1.0</th>\n",
              "      <th>SUPERT_11_2.0</th>\n",
              "      <th>SUPERT_12_3.0</th>\n",
              "      <th>Uptrend</th>\n",
              "      <th>Downtrend</th>\n",
              "      <th>Uptrend_exit</th>\n",
              "      <th>Downtrend_exit</th>\n",
              "    </tr>\n",
              "  </thead>\n",
              "  <tbody>\n",
              "    <tr>\n",
              "      <th>0</th>\n",
              "      <td>2006-10-18</td>\n",
              "      <td>18.68</td>\n",
              "      <td>19.142662</td>\n",
              "      <td>18.178435</td>\n",
              "      <td>17.656164</td>\n",
              "      <td>False</td>\n",
              "      <td>False</td>\n",
              "      <td>False</td>\n",
              "      <td>False</td>\n",
              "    </tr>\n",
              "    <tr>\n",
              "      <th>1</th>\n",
              "      <td>2006-10-19</td>\n",
              "      <td>18.55</td>\n",
              "      <td>18.905125</td>\n",
              "      <td>18.178435</td>\n",
              "      <td>17.656164</td>\n",
              "      <td>False</td>\n",
              "      <td>False</td>\n",
              "      <td>False</td>\n",
              "      <td>False</td>\n",
              "    </tr>\n",
              "    <tr>\n",
              "      <th>2</th>\n",
              "      <td>2006-10-20</td>\n",
              "      <td>18.55</td>\n",
              "      <td>18.905125</td>\n",
              "      <td>18.178435</td>\n",
              "      <td>17.656164</td>\n",
              "      <td>False</td>\n",
              "      <td>False</td>\n",
              "      <td>False</td>\n",
              "      <td>False</td>\n",
              "    </tr>\n",
              "    <tr>\n",
              "      <th>3</th>\n",
              "      <td>2006-10-23</td>\n",
              "      <td>19.19</td>\n",
              "      <td>18.561926</td>\n",
              "      <td>18.178435</td>\n",
              "      <td>17.795642</td>\n",
              "      <td>True</td>\n",
              "      <td>False</td>\n",
              "      <td>False</td>\n",
              "      <td>False</td>\n",
              "    </tr>\n",
              "    <tr>\n",
              "      <th>4</th>\n",
              "      <td>2006-10-24</td>\n",
              "      <td>18.90</td>\n",
              "      <td>18.601510</td>\n",
              "      <td>18.225269</td>\n",
              "      <td>17.850522</td>\n",
              "      <td>True</td>\n",
              "      <td>False</td>\n",
              "      <td>False</td>\n",
              "      <td>False</td>\n",
              "    </tr>\n",
              "    <tr>\n",
              "      <th>...</th>\n",
              "      <td>...</td>\n",
              "      <td>...</td>\n",
              "      <td>...</td>\n",
              "      <td>...</td>\n",
              "      <td>...</td>\n",
              "      <td>...</td>\n",
              "      <td>...</td>\n",
              "      <td>...</td>\n",
              "      <td>...</td>\n",
              "    </tr>\n",
              "    <tr>\n",
              "      <th>3932</th>\n",
              "      <td>2022-03-21</td>\n",
              "      <td>727.60</td>\n",
              "      <td>694.161879</td>\n",
              "      <td>660.479683</td>\n",
              "      <td>626.524205</td>\n",
              "      <td>True</td>\n",
              "      <td>False</td>\n",
              "      <td>False</td>\n",
              "      <td>False</td>\n",
              "    </tr>\n",
              "    <tr>\n",
              "      <th>3933</th>\n",
              "      <td>2022-03-22</td>\n",
              "      <td>755.10</td>\n",
              "      <td>713.945691</td>\n",
              "      <td>680.076984</td>\n",
              "      <td>645.988855</td>\n",
              "      <td>True</td>\n",
              "      <td>False</td>\n",
              "      <td>False</td>\n",
              "      <td>False</td>\n",
              "    </tr>\n",
              "    <tr>\n",
              "      <th>3934</th>\n",
              "      <td>2022-03-23</td>\n",
              "      <td>759.20</td>\n",
              "      <td>721.756122</td>\n",
              "      <td>689.024531</td>\n",
              "      <td>655.902284</td>\n",
              "      <td>True</td>\n",
              "      <td>False</td>\n",
              "      <td>False</td>\n",
              "      <td>False</td>\n",
              "    </tr>\n",
              "    <tr>\n",
              "      <th>3935</th>\n",
              "      <td>2022-03-24</td>\n",
              "      <td>755.90</td>\n",
              "      <td>721.756122</td>\n",
              "      <td>689.024531</td>\n",
              "      <td>656.477093</td>\n",
              "      <td>True</td>\n",
              "      <td>False</td>\n",
              "      <td>False</td>\n",
              "      <td>False</td>\n",
              "    </tr>\n",
              "    <tr>\n",
              "      <th>3936</th>\n",
              "      <td>2022-03-25</td>\n",
              "      <td>762.40</td>\n",
              "      <td>735.990459</td>\n",
              "      <td>704.658703</td>\n",
              "      <td>672.779002</td>\n",
              "      <td>True</td>\n",
              "      <td>False</td>\n",
              "      <td>False</td>\n",
              "      <td>False</td>\n",
              "    </tr>\n",
              "  </tbody>\n",
              "</table>\n",
              "<p>3937 rows × 9 columns</p>\n",
              "</div>\n",
              "      <button class=\"colab-df-convert\" onclick=\"convertToInteractive('df-82a4ae9c-ce62-40e1-bfb6-692ceb43fa14')\"\n",
              "              title=\"Convert this dataframe to an interactive table.\"\n",
              "              style=\"display:none;\">\n",
              "        \n",
              "  <svg xmlns=\"http://www.w3.org/2000/svg\" height=\"24px\"viewBox=\"0 0 24 24\"\n",
              "       width=\"24px\">\n",
              "    <path d=\"M0 0h24v24H0V0z\" fill=\"none\"/>\n",
              "    <path d=\"M18.56 5.44l.94 2.06.94-2.06 2.06-.94-2.06-.94-.94-2.06-.94 2.06-2.06.94zm-11 1L8.5 8.5l.94-2.06 2.06-.94-2.06-.94L8.5 2.5l-.94 2.06-2.06.94zm10 10l.94 2.06.94-2.06 2.06-.94-2.06-.94-.94-2.06-.94 2.06-2.06.94z\"/><path d=\"M17.41 7.96l-1.37-1.37c-.4-.4-.92-.59-1.43-.59-.52 0-1.04.2-1.43.59L10.3 9.45l-7.72 7.72c-.78.78-.78 2.05 0 2.83L4 21.41c.39.39.9.59 1.41.59.51 0 1.02-.2 1.41-.59l7.78-7.78 2.81-2.81c.8-.78.8-2.07 0-2.86zM5.41 20L4 18.59l7.72-7.72 1.47 1.35L5.41 20z\"/>\n",
              "  </svg>\n",
              "      </button>\n",
              "      \n",
              "  <style>\n",
              "    .colab-df-container {\n",
              "      display:flex;\n",
              "      flex-wrap:wrap;\n",
              "      gap: 12px;\n",
              "    }\n",
              "\n",
              "    .colab-df-convert {\n",
              "      background-color: #E8F0FE;\n",
              "      border: none;\n",
              "      border-radius: 50%;\n",
              "      cursor: pointer;\n",
              "      display: none;\n",
              "      fill: #1967D2;\n",
              "      height: 32px;\n",
              "      padding: 0 0 0 0;\n",
              "      width: 32px;\n",
              "    }\n",
              "\n",
              "    .colab-df-convert:hover {\n",
              "      background-color: #E2EBFA;\n",
              "      box-shadow: 0px 1px 2px rgba(60, 64, 67, 0.3), 0px 1px 3px 1px rgba(60, 64, 67, 0.15);\n",
              "      fill: #174EA6;\n",
              "    }\n",
              "\n",
              "    [theme=dark] .colab-df-convert {\n",
              "      background-color: #3B4455;\n",
              "      fill: #D2E3FC;\n",
              "    }\n",
              "\n",
              "    [theme=dark] .colab-df-convert:hover {\n",
              "      background-color: #434B5C;\n",
              "      box-shadow: 0px 1px 3px 1px rgba(0, 0, 0, 0.15);\n",
              "      filter: drop-shadow(0px 1px 2px rgba(0, 0, 0, 0.3));\n",
              "      fill: #FFFFFF;\n",
              "    }\n",
              "  </style>\n",
              "\n",
              "      <script>\n",
              "        const buttonEl =\n",
              "          document.querySelector('#df-82a4ae9c-ce62-40e1-bfb6-692ceb43fa14 button.colab-df-convert');\n",
              "        buttonEl.style.display =\n",
              "          google.colab.kernel.accessAllowed ? 'block' : 'none';\n",
              "\n",
              "        async function convertToInteractive(key) {\n",
              "          const element = document.querySelector('#df-82a4ae9c-ce62-40e1-bfb6-692ceb43fa14');\n",
              "          const dataTable =\n",
              "            await google.colab.kernel.invokeFunction('convertToInteractive',\n",
              "                                                     [key], {});\n",
              "          if (!dataTable) return;\n",
              "\n",
              "          const docLinkHtml = 'Like what you see? Visit the ' +\n",
              "            '<a target=\"_blank\" href=https://colab.research.google.com/notebooks/data_table.ipynb>data table notebook</a>'\n",
              "            + ' to learn more about interactive tables.';\n",
              "          element.innerHTML = '';\n",
              "          dataTable['output_type'] = 'display_data';\n",
              "          await google.colab.output.renderOutput(dataTable, element);\n",
              "          const docLink = document.createElement('div');\n",
              "          docLink.innerHTML = docLinkHtml;\n",
              "          element.appendChild(docLink);\n",
              "        }\n",
              "      </script>\n",
              "    </div>\n",
              "  </div>\n",
              "  "
            ]
          },
          "metadata": {},
          "execution_count": 75
        }
      ]
    },
    {
      "cell_type": "code",
      "source": [
        "df_3ST.reset_index(inplace=True)"
      ],
      "metadata": {
        "id": "6rGf4vG8XI8F"
      },
      "execution_count": null,
      "outputs": []
    },
    {
      "cell_type": "code",
      "source": [
        "long_entry = []\n",
        "for row in range(1, df_3ST.shape[0]):\n",
        "  if df_3ST.at[row,\"Uptrend\"] == True and df_3ST.at[row-1,\"Uptrend\"] == False:\n",
        "    long_entry.append(row)"
      ],
      "metadata": {
        "id": "DGs0rj8FBWPP"
      },
      "execution_count": null,
      "outputs": []
    },
    {
      "cell_type": "code",
      "source": [
        "len(long_entry)"
      ],
      "metadata": {
        "colab": {
          "base_uri": "https://localhost:8080/"
        },
        "id": "pYrYYHBiBWn4",
        "outputId": "7fe03855-e250-417b-a61f-0c73c5cf030f"
      },
      "execution_count": null,
      "outputs": [
        {
          "output_type": "execute_result",
          "data": {
            "text/plain": [
              "200"
            ]
          },
          "metadata": {},
          "execution_count": 46
        }
      ]
    },
    {
      "cell_type": "code",
      "source": [
        "short_entry = []\n",
        "for row in range(1, df_3ST.shape[0]):\n",
        "  if df_3ST.at[row,\"Downtrend\"] == True and df_3ST.at[row-1,\"Downtrend\"] == False:\n",
        "    short_entry.append(row)"
      ],
      "metadata": {
        "id": "8s0OraoaL6Ne"
      },
      "execution_count": null,
      "outputs": []
    },
    {
      "cell_type": "code",
      "source": [
        "len(short_entry)"
      ],
      "metadata": {
        "colab": {
          "base_uri": "https://localhost:8080/"
        },
        "id": "aUD_vuWhMD2f",
        "outputId": "918925a5-b1f0-4a3a-b49f-deaa1591b52b"
      },
      "execution_count": null,
      "outputs": [
        {
          "output_type": "execute_result",
          "data": {
            "text/plain": [
              "152"
            ]
          },
          "metadata": {},
          "execution_count": 48
        }
      ]
    },
    {
      "cell_type": "markdown",
      "source": [
        "### Sortie à date fixe ###"
      ],
      "metadata": {
        "id": "nk-HXNwzJcmX"
      }
    },
    {
      "cell_type": "markdown",
      "source": [
        "#### Analyse entrées Long ####"
      ],
      "metadata": {
        "id": "8uSaSnj6IawW"
      }
    },
    {
      "cell_type": "code",
      "source": [
        "# Cette fonction nécessite d'avoir les numéros en index, plus les dates\n",
        "df_analyse_entrees_long = generate_future_dates(df_3ST, long_entry)"
      ],
      "metadata": {
        "id": "NmT7Nx0IJbsN"
      },
      "execution_count": null,
      "outputs": []
    },
    {
      "cell_type": "code",
      "source": [
        "# Pour attraper les 3 colonnes Supertrend\n",
        "ST_col = df_analyse_entrees_long.columns\n",
        "# On conserve uniquement les colonnes pertinentes avec Long\n",
        "df_analyse_entrees_long = df_analyse_entrees_long[[\"Date\",\"Close\",\"Close_2s\",\"var_2s\",\"Close_1m\",\"var_1m\",ST_col[2],ST_col[3],ST_col[4]]]\n",
        "df_analyse_entrees_long.tail()"
      ],
      "metadata": {
        "colab": {
          "base_uri": "https://localhost:8080/",
          "height": 206
        },
        "id": "DPI1UZwxJb9E",
        "outputId": "42735c44-4e6b-4506-e755-40e13fb2a3a2"
      },
      "execution_count": null,
      "outputs": [
        {
          "output_type": "execute_result",
          "data": {
            "text/plain": [
              "           Date  Close  Close_2s  var_2s  Close_1m  var_1m  SUPERT_10_1.0  \\\n",
              "3752 2021-07-12  751.1     782.3    0.04     780.1    0.04     736.505771   \n",
              "3760 2021-07-22  761.8     784.4    0.03     784.6    0.03     742.577867   \n",
              "3769 2021-08-04  772.8     774.2    0.00     833.9    0.08     753.548256   \n",
              "3822 2021-10-18  802.9     873.4    0.09     942.5    0.17     773.398893   \n",
              "3843 2021-11-16  942.5     926.9   -0.02     886.2   -0.06     914.418271   \n",
              "\n",
              "      SUPERT_11_2.0  SUPERT_12_3.0  \n",
              "3752     725.518584     712.342343  \n",
              "3760     727.240745     721.177916  \n",
              "3769     749.668798     734.752059  \n",
              "3822     751.967724     730.870255  \n",
              "3843     897.080472     877.768179  "
            ],
            "text/html": [
              "\n",
              "  <div id=\"df-84a44c5b-223a-4575-8ef6-19d2deca7454\">\n",
              "    <div class=\"colab-df-container\">\n",
              "      <div>\n",
              "<style scoped>\n",
              "    .dataframe tbody tr th:only-of-type {\n",
              "        vertical-align: middle;\n",
              "    }\n",
              "\n",
              "    .dataframe tbody tr th {\n",
              "        vertical-align: top;\n",
              "    }\n",
              "\n",
              "    .dataframe thead th {\n",
              "        text-align: right;\n",
              "    }\n",
              "</style>\n",
              "<table border=\"1\" class=\"dataframe\">\n",
              "  <thead>\n",
              "    <tr style=\"text-align: right;\">\n",
              "      <th></th>\n",
              "      <th>Date</th>\n",
              "      <th>Close</th>\n",
              "      <th>Close_2s</th>\n",
              "      <th>var_2s</th>\n",
              "      <th>Close_1m</th>\n",
              "      <th>var_1m</th>\n",
              "      <th>SUPERT_10_1.0</th>\n",
              "      <th>SUPERT_11_2.0</th>\n",
              "      <th>SUPERT_12_3.0</th>\n",
              "    </tr>\n",
              "  </thead>\n",
              "  <tbody>\n",
              "    <tr>\n",
              "      <th>3752</th>\n",
              "      <td>2021-07-12</td>\n",
              "      <td>751.1</td>\n",
              "      <td>782.3</td>\n",
              "      <td>0.04</td>\n",
              "      <td>780.1</td>\n",
              "      <td>0.04</td>\n",
              "      <td>736.505771</td>\n",
              "      <td>725.518584</td>\n",
              "      <td>712.342343</td>\n",
              "    </tr>\n",
              "    <tr>\n",
              "      <th>3760</th>\n",
              "      <td>2021-07-22</td>\n",
              "      <td>761.8</td>\n",
              "      <td>784.4</td>\n",
              "      <td>0.03</td>\n",
              "      <td>784.6</td>\n",
              "      <td>0.03</td>\n",
              "      <td>742.577867</td>\n",
              "      <td>727.240745</td>\n",
              "      <td>721.177916</td>\n",
              "    </tr>\n",
              "    <tr>\n",
              "      <th>3769</th>\n",
              "      <td>2021-08-04</td>\n",
              "      <td>772.8</td>\n",
              "      <td>774.2</td>\n",
              "      <td>0.00</td>\n",
              "      <td>833.9</td>\n",
              "      <td>0.08</td>\n",
              "      <td>753.548256</td>\n",
              "      <td>749.668798</td>\n",
              "      <td>734.752059</td>\n",
              "    </tr>\n",
              "    <tr>\n",
              "      <th>3822</th>\n",
              "      <td>2021-10-18</td>\n",
              "      <td>802.9</td>\n",
              "      <td>873.4</td>\n",
              "      <td>0.09</td>\n",
              "      <td>942.5</td>\n",
              "      <td>0.17</td>\n",
              "      <td>773.398893</td>\n",
              "      <td>751.967724</td>\n",
              "      <td>730.870255</td>\n",
              "    </tr>\n",
              "    <tr>\n",
              "      <th>3843</th>\n",
              "      <td>2021-11-16</td>\n",
              "      <td>942.5</td>\n",
              "      <td>926.9</td>\n",
              "      <td>-0.02</td>\n",
              "      <td>886.2</td>\n",
              "      <td>-0.06</td>\n",
              "      <td>914.418271</td>\n",
              "      <td>897.080472</td>\n",
              "      <td>877.768179</td>\n",
              "    </tr>\n",
              "  </tbody>\n",
              "</table>\n",
              "</div>\n",
              "      <button class=\"colab-df-convert\" onclick=\"convertToInteractive('df-84a44c5b-223a-4575-8ef6-19d2deca7454')\"\n",
              "              title=\"Convert this dataframe to an interactive table.\"\n",
              "              style=\"display:none;\">\n",
              "        \n",
              "  <svg xmlns=\"http://www.w3.org/2000/svg\" height=\"24px\"viewBox=\"0 0 24 24\"\n",
              "       width=\"24px\">\n",
              "    <path d=\"M0 0h24v24H0V0z\" fill=\"none\"/>\n",
              "    <path d=\"M18.56 5.44l.94 2.06.94-2.06 2.06-.94-2.06-.94-.94-2.06-.94 2.06-2.06.94zm-11 1L8.5 8.5l.94-2.06 2.06-.94-2.06-.94L8.5 2.5l-.94 2.06-2.06.94zm10 10l.94 2.06.94-2.06 2.06-.94-2.06-.94-.94-2.06-.94 2.06-2.06.94z\"/><path d=\"M17.41 7.96l-1.37-1.37c-.4-.4-.92-.59-1.43-.59-.52 0-1.04.2-1.43.59L10.3 9.45l-7.72 7.72c-.78.78-.78 2.05 0 2.83L4 21.41c.39.39.9.59 1.41.59.51 0 1.02-.2 1.41-.59l7.78-7.78 2.81-2.81c.8-.78.8-2.07 0-2.86zM5.41 20L4 18.59l7.72-7.72 1.47 1.35L5.41 20z\"/>\n",
              "  </svg>\n",
              "      </button>\n",
              "      \n",
              "  <style>\n",
              "    .colab-df-container {\n",
              "      display:flex;\n",
              "      flex-wrap:wrap;\n",
              "      gap: 12px;\n",
              "    }\n",
              "\n",
              "    .colab-df-convert {\n",
              "      background-color: #E8F0FE;\n",
              "      border: none;\n",
              "      border-radius: 50%;\n",
              "      cursor: pointer;\n",
              "      display: none;\n",
              "      fill: #1967D2;\n",
              "      height: 32px;\n",
              "      padding: 0 0 0 0;\n",
              "      width: 32px;\n",
              "    }\n",
              "\n",
              "    .colab-df-convert:hover {\n",
              "      background-color: #E2EBFA;\n",
              "      box-shadow: 0px 1px 2px rgba(60, 64, 67, 0.3), 0px 1px 3px 1px rgba(60, 64, 67, 0.15);\n",
              "      fill: #174EA6;\n",
              "    }\n",
              "\n",
              "    [theme=dark] .colab-df-convert {\n",
              "      background-color: #3B4455;\n",
              "      fill: #D2E3FC;\n",
              "    }\n",
              "\n",
              "    [theme=dark] .colab-df-convert:hover {\n",
              "      background-color: #434B5C;\n",
              "      box-shadow: 0px 1px 3px 1px rgba(0, 0, 0, 0.15);\n",
              "      filter: drop-shadow(0px 1px 2px rgba(0, 0, 0, 0.3));\n",
              "      fill: #FFFFFF;\n",
              "    }\n",
              "  </style>\n",
              "\n",
              "      <script>\n",
              "        const buttonEl =\n",
              "          document.querySelector('#df-84a44c5b-223a-4575-8ef6-19d2deca7454 button.colab-df-convert');\n",
              "        buttonEl.style.display =\n",
              "          google.colab.kernel.accessAllowed ? 'block' : 'none';\n",
              "\n",
              "        async function convertToInteractive(key) {\n",
              "          const element = document.querySelector('#df-84a44c5b-223a-4575-8ef6-19d2deca7454');\n",
              "          const dataTable =\n",
              "            await google.colab.kernel.invokeFunction('convertToInteractive',\n",
              "                                                     [key], {});\n",
              "          if (!dataTable) return;\n",
              "\n",
              "          const docLinkHtml = 'Like what you see? Visit the ' +\n",
              "            '<a target=\"_blank\" href=https://colab.research.google.com/notebooks/data_table.ipynb>data table notebook</a>'\n",
              "            + ' to learn more about interactive tables.';\n",
              "          element.innerHTML = '';\n",
              "          dataTable['output_type'] = 'display_data';\n",
              "          await google.colab.output.renderOutput(dataTable, element);\n",
              "          const docLink = document.createElement('div');\n",
              "          docLink.innerHTML = docLinkHtml;\n",
              "          element.appendChild(docLink);\n",
              "        }\n",
              "      </script>\n",
              "    </div>\n",
              "  </div>\n",
              "  "
            ]
          },
          "metadata": {},
          "execution_count": 59
        }
      ]
    },
    {
      "cell_type": "code",
      "source": [
        "wr = calc_WinLossRatio(df_analyse_entrees_long)\n",
        "print(\"Win Rate Long entries : {} %\\nPour {} trades\".format(wr, len(long_entry)))"
      ],
      "metadata": {
        "colab": {
          "base_uri": "https://localhost:8080/"
        },
        "id": "nF10VfcIQFAI",
        "outputId": "88b824ca-3bdc-4921-dd77-7eae8fe92db0"
      },
      "execution_count": null,
      "outputs": [
        {
          "output_type": "stream",
          "name": "stdout",
          "text": [
            "Win Rate Long entries : 0.54 %\n",
            "Pour 200 trades\n"
          ]
        }
      ]
    },
    {
      "cell_type": "markdown",
      "source": [
        "#### Analyse entrées Short ####"
      ],
      "metadata": {
        "id": "7LOeK9WaIe75"
      }
    },
    {
      "cell_type": "code",
      "source": [
        "# Cette fonction nécessite d'avoir les numéros en index, plus les dates\n",
        "df_analyse_entrees_short = generate_future_dates(df_3ST, short_entry)\n",
        "\n",
        "# Nouveau calcul des variations en considérant les positions Short, donc bénéfice inversé\n",
        "df_analyse_entrees_short.drop(columns=[\"var_2s\",\"var_1m\"], inplace=True)\n",
        "df_analyse_entrees_short[\"var_2s\"] = round( (df_analyse_entrees_short[\"Close_2s\"] - df_analyse_entrees_short[\"Close\"])/df_analyse_entrees_short[\"Close\"] ,2)\n",
        "df_analyse_entrees_short[\"var_1m\"] = round( (df_analyse_entrees_short[\"Close_1m\"] - df_analyse_entrees_short[\"Close\"])/df_analyse_entrees_short[\"Close\"] ,2)\n",
        "\n",
        "# Reorganisation des colonnes\n",
        "df_analyse_entrees_short = df_analyse_entrees_short[[\"Date\",\"Close\",\"Close_2s\",\"var_2s\",\"Close_1m\",\"var_1m\",ST_col[2],ST_col[3],ST_col[4]]]\n",
        "df_analyse_entrees_short.tail()"
      ],
      "metadata": {
        "colab": {
          "base_uri": "https://localhost:8080/",
          "height": 206
        },
        "id": "TYOv-GI6HfMZ",
        "outputId": "3af17d45-afb6-4e15-86e3-79b1c9f148cb"
      },
      "execution_count": null,
      "outputs": [
        {
          "output_type": "execute_result",
          "data": {
            "text/plain": [
              "           Date  Close  Close_2s  var_2s  Close_1m  var_1m  SUPERT_10_1.0  \\\n",
              "3851 2021-11-26  918.4     928.3    0.01     962.1    0.05     954.867837   \n",
              "3867 2021-12-20  852.9     953.9    0.12     820.1   -0.04     896.498558   \n",
              "3880 2022-01-06  881.4     822.2   -0.07     735.3   -0.17     907.525374   \n",
              "3886 2022-01-14  839.2     719.2   -0.14     719.0   -0.14     868.585849   \n",
              "3907 2022-02-14  719.0     714.4   -0.01     637.4   -0.11     741.102848   \n",
              "\n",
              "      SUPERT_11_2.0  SUPERT_12_3.0  \n",
              "3851     979.518559    1003.334549  \n",
              "3867     932.243842     966.805366  \n",
              "3880     938.690078     966.805366  \n",
              "3886     903.568573     937.037501  \n",
              "3907     777.298961     813.630396  "
            ],
            "text/html": [
              "\n",
              "  <div id=\"df-0b5610e7-fbf8-4cf7-a778-3f0572c093f9\">\n",
              "    <div class=\"colab-df-container\">\n",
              "      <div>\n",
              "<style scoped>\n",
              "    .dataframe tbody tr th:only-of-type {\n",
              "        vertical-align: middle;\n",
              "    }\n",
              "\n",
              "    .dataframe tbody tr th {\n",
              "        vertical-align: top;\n",
              "    }\n",
              "\n",
              "    .dataframe thead th {\n",
              "        text-align: right;\n",
              "    }\n",
              "</style>\n",
              "<table border=\"1\" class=\"dataframe\">\n",
              "  <thead>\n",
              "    <tr style=\"text-align: right;\">\n",
              "      <th></th>\n",
              "      <th>Date</th>\n",
              "      <th>Close</th>\n",
              "      <th>Close_2s</th>\n",
              "      <th>var_2s</th>\n",
              "      <th>Close_1m</th>\n",
              "      <th>var_1m</th>\n",
              "      <th>SUPERT_10_1.0</th>\n",
              "      <th>SUPERT_11_2.0</th>\n",
              "      <th>SUPERT_12_3.0</th>\n",
              "    </tr>\n",
              "  </thead>\n",
              "  <tbody>\n",
              "    <tr>\n",
              "      <th>3851</th>\n",
              "      <td>2021-11-26</td>\n",
              "      <td>918.4</td>\n",
              "      <td>928.3</td>\n",
              "      <td>0.01</td>\n",
              "      <td>962.1</td>\n",
              "      <td>0.05</td>\n",
              "      <td>954.867837</td>\n",
              "      <td>979.518559</td>\n",
              "      <td>1003.334549</td>\n",
              "    </tr>\n",
              "    <tr>\n",
              "      <th>3867</th>\n",
              "      <td>2021-12-20</td>\n",
              "      <td>852.9</td>\n",
              "      <td>953.9</td>\n",
              "      <td>0.12</td>\n",
              "      <td>820.1</td>\n",
              "      <td>-0.04</td>\n",
              "      <td>896.498558</td>\n",
              "      <td>932.243842</td>\n",
              "      <td>966.805366</td>\n",
              "    </tr>\n",
              "    <tr>\n",
              "      <th>3880</th>\n",
              "      <td>2022-01-06</td>\n",
              "      <td>881.4</td>\n",
              "      <td>822.2</td>\n",
              "      <td>-0.07</td>\n",
              "      <td>735.3</td>\n",
              "      <td>-0.17</td>\n",
              "      <td>907.525374</td>\n",
              "      <td>938.690078</td>\n",
              "      <td>966.805366</td>\n",
              "    </tr>\n",
              "    <tr>\n",
              "      <th>3886</th>\n",
              "      <td>2022-01-14</td>\n",
              "      <td>839.2</td>\n",
              "      <td>719.2</td>\n",
              "      <td>-0.14</td>\n",
              "      <td>719.0</td>\n",
              "      <td>-0.14</td>\n",
              "      <td>868.585849</td>\n",
              "      <td>903.568573</td>\n",
              "      <td>937.037501</td>\n",
              "    </tr>\n",
              "    <tr>\n",
              "      <th>3907</th>\n",
              "      <td>2022-02-14</td>\n",
              "      <td>719.0</td>\n",
              "      <td>714.4</td>\n",
              "      <td>-0.01</td>\n",
              "      <td>637.4</td>\n",
              "      <td>-0.11</td>\n",
              "      <td>741.102848</td>\n",
              "      <td>777.298961</td>\n",
              "      <td>813.630396</td>\n",
              "    </tr>\n",
              "  </tbody>\n",
              "</table>\n",
              "</div>\n",
              "      <button class=\"colab-df-convert\" onclick=\"convertToInteractive('df-0b5610e7-fbf8-4cf7-a778-3f0572c093f9')\"\n",
              "              title=\"Convert this dataframe to an interactive table.\"\n",
              "              style=\"display:none;\">\n",
              "        \n",
              "  <svg xmlns=\"http://www.w3.org/2000/svg\" height=\"24px\"viewBox=\"0 0 24 24\"\n",
              "       width=\"24px\">\n",
              "    <path d=\"M0 0h24v24H0V0z\" fill=\"none\"/>\n",
              "    <path d=\"M18.56 5.44l.94 2.06.94-2.06 2.06-.94-2.06-.94-.94-2.06-.94 2.06-2.06.94zm-11 1L8.5 8.5l.94-2.06 2.06-.94-2.06-.94L8.5 2.5l-.94 2.06-2.06.94zm10 10l.94 2.06.94-2.06 2.06-.94-2.06-.94-.94-2.06-.94 2.06-2.06.94z\"/><path d=\"M17.41 7.96l-1.37-1.37c-.4-.4-.92-.59-1.43-.59-.52 0-1.04.2-1.43.59L10.3 9.45l-7.72 7.72c-.78.78-.78 2.05 0 2.83L4 21.41c.39.39.9.59 1.41.59.51 0 1.02-.2 1.41-.59l7.78-7.78 2.81-2.81c.8-.78.8-2.07 0-2.86zM5.41 20L4 18.59l7.72-7.72 1.47 1.35L5.41 20z\"/>\n",
              "  </svg>\n",
              "      </button>\n",
              "      \n",
              "  <style>\n",
              "    .colab-df-container {\n",
              "      display:flex;\n",
              "      flex-wrap:wrap;\n",
              "      gap: 12px;\n",
              "    }\n",
              "\n",
              "    .colab-df-convert {\n",
              "      background-color: #E8F0FE;\n",
              "      border: none;\n",
              "      border-radius: 50%;\n",
              "      cursor: pointer;\n",
              "      display: none;\n",
              "      fill: #1967D2;\n",
              "      height: 32px;\n",
              "      padding: 0 0 0 0;\n",
              "      width: 32px;\n",
              "    }\n",
              "\n",
              "    .colab-df-convert:hover {\n",
              "      background-color: #E2EBFA;\n",
              "      box-shadow: 0px 1px 2px rgba(60, 64, 67, 0.3), 0px 1px 3px 1px rgba(60, 64, 67, 0.15);\n",
              "      fill: #174EA6;\n",
              "    }\n",
              "\n",
              "    [theme=dark] .colab-df-convert {\n",
              "      background-color: #3B4455;\n",
              "      fill: #D2E3FC;\n",
              "    }\n",
              "\n",
              "    [theme=dark] .colab-df-convert:hover {\n",
              "      background-color: #434B5C;\n",
              "      box-shadow: 0px 1px 3px 1px rgba(0, 0, 0, 0.15);\n",
              "      filter: drop-shadow(0px 1px 2px rgba(0, 0, 0, 0.3));\n",
              "      fill: #FFFFFF;\n",
              "    }\n",
              "  </style>\n",
              "\n",
              "      <script>\n",
              "        const buttonEl =\n",
              "          document.querySelector('#df-0b5610e7-fbf8-4cf7-a778-3f0572c093f9 button.colab-df-convert');\n",
              "        buttonEl.style.display =\n",
              "          google.colab.kernel.accessAllowed ? 'block' : 'none';\n",
              "\n",
              "        async function convertToInteractive(key) {\n",
              "          const element = document.querySelector('#df-0b5610e7-fbf8-4cf7-a778-3f0572c093f9');\n",
              "          const dataTable =\n",
              "            await google.colab.kernel.invokeFunction('convertToInteractive',\n",
              "                                                     [key], {});\n",
              "          if (!dataTable) return;\n",
              "\n",
              "          const docLinkHtml = 'Like what you see? Visit the ' +\n",
              "            '<a target=\"_blank\" href=https://colab.research.google.com/notebooks/data_table.ipynb>data table notebook</a>'\n",
              "            + ' to learn more about interactive tables.';\n",
              "          element.innerHTML = '';\n",
              "          dataTable['output_type'] = 'display_data';\n",
              "          await google.colab.output.renderOutput(dataTable, element);\n",
              "          const docLink = document.createElement('div');\n",
              "          docLink.innerHTML = docLinkHtml;\n",
              "          element.appendChild(docLink);\n",
              "        }\n",
              "      </script>\n",
              "    </div>\n",
              "  </div>\n",
              "  "
            ]
          },
          "metadata": {},
          "execution_count": 61
        }
      ]
    },
    {
      "cell_type": "code",
      "source": [
        "wr = calc_WinLossRatio(df_analyse_entrees_short)\n",
        "print(\"Win Rate Long entries : {} %\\nPour {} trades\".format(wr, len(short_entry)))"
      ],
      "metadata": {
        "colab": {
          "base_uri": "https://localhost:8080/"
        },
        "id": "-b29n_eVJN81",
        "outputId": "4d01a85a-4a0c-4d1b-fd4a-926c12b018e5"
      },
      "execution_count": null,
      "outputs": [
        {
          "output_type": "stream",
          "name": "stdout",
          "text": [
            "Win Rate Long entries : 0.57 %\n",
            "Pour 152 trades\n"
          ]
        }
      ]
    },
    {
      "cell_type": "code",
      "source": [
        "fig = go.Figure()\n",
        "# Use x instead of y argument for horizontal plot\n",
        "fig.add_trace(go.Box(x=df_analyse_entrees_short['var_2s'], name=\"3ST Short standard sortie +1s\", quartilemethod=\"inclusive\", marker_color='indianred'))\n",
        "fig.add_trace(go.Box(x=df_analyse_entrees_long['var_2s'], name=\"3ST Long standard sortie +1s\", quartilemethod=\"inclusive\", marker_color = 'lightseagreen'))\n",
        "fig.add_trace(go.Box(x=df_analyse_entrees_short['var_1m'], name=\"3ST Short standard sortie +1m\", quartilemethod=\"inclusive\", marker_color='indianred'))\n",
        "fig.add_trace(go.Box(x=df_analyse_entrees_long['var_1m'], name=\"3ST Long standard sortie +1m\", quartilemethod=\"inclusive\", marker_color = 'lightseagreen'))\n",
        "fig.update(layout_showlegend=False)\n",
        "fig.show()"
      ],
      "metadata": {
        "colab": {
          "base_uri": "https://localhost:8080/",
          "height": 542
        },
        "id": "RRmAln_PLHtb",
        "outputId": "043fa2ac-9280-401d-9c9a-347c225e8f93"
      },
      "execution_count": null,
      "outputs": [
        {
          "output_type": "display_data",
          "data": {
            "text/html": [
              "<html>\n",
              "<head><meta charset=\"utf-8\" /></head>\n",
              "<body>\n",
              "    <div>            <script src=\"https://cdnjs.cloudflare.com/ajax/libs/mathjax/2.7.5/MathJax.js?config=TeX-AMS-MML_SVG\"></script><script type=\"text/javascript\">if (window.MathJax) {MathJax.Hub.Config({SVG: {font: \"STIX-Web\"}});}</script>                <script type=\"text/javascript\">window.PlotlyConfig = {MathJaxConfig: 'local'};</script>\n",
              "        <script src=\"https://cdn.plot.ly/plotly-2.8.3.min.js\"></script>                <div id=\"21894a0d-1c69-4812-b0d7-edb3b15671af\" class=\"plotly-graph-div\" style=\"height:525px; width:100%;\"></div>            <script type=\"text/javascript\">                                    window.PLOTLYENV=window.PLOTLYENV || {};                                    if (document.getElementById(\"21894a0d-1c69-4812-b0d7-edb3b15671af\")) {                    Plotly.newPlot(                        \"21894a0d-1c69-4812-b0d7-edb3b15671af\",                        [{\"marker\":{\"color\":\"indianred\"},\"name\":\"3ST Short standard sortie +1s\",\"quartilemethod\":\"inclusive\",\"x\":[0.01,0.06,0.0,0.01,0.0,0.0,-0.06,0.06,-0.02,0.02,0.1,-0.12,0.07,-0.07,-0.17,0.03,-0.04,-0.05,0.05,0.03,-0.11,-0.08,0.01,0.07,-0.14,-0.16,-0.25,0.24,0.08,-0.29,0.05,0.15,0.1,-0.19,0.05,0.18,0.0,0.13,0.06,0.12,-0.02,-0.01,0.08,0.02,0.11,0.11,0.06,0.02,0.12,-0.0,-0.02,0.05,0.01,-0.07,-0.13,0.16,0.16,0.13,0.02,-0.07,0.01,0.1,0.02,0.12,-0.03,0.0,-0.02,0.08,0.01,0.14,0.0,-0.02,0.06,0.07,0.1,0.03,0.12,-0.01,-0.03,0.01,0.05,-0.11,-0.03,0.05,0.03,0.06,-0.01,0.06,0.01,0.04,0.16,0.03,-0.12,-0.06,0.12,0.09,-0.01,-0.01,-0.15,-0.15,0.06,-0.02,-0.05,0.06,0.02,0.04,0.02,-0.04,0.01,0.04,-0.02,0.06,0.03,0.12,0.06,-0.01,0.15,-0.06,0.06,0.16,0.06,0.02,0.07,-0.07,-0.01,-0.02,-0.12,-0.12,-0.05,-0.03,-0.02,0.06,0.09,0.09,0.13,-0.25,-0.27,0.12,-0.13,0.12,-0.09,0.02,-0.03,0.02,-0.07,-0.01,0.01,0.12,-0.07,-0.14,-0.01],\"type\":\"box\"},{\"marker\":{\"color\":\"lightseagreen\"},\"name\":\"3ST Long standard sortie +1s\",\"quartilemethod\":\"inclusive\",\"x\":[-0.02,0.06,-0.0,-0.05,-0.09,-0.01,0.02,0.01,0.0,0.0,0.05,-0.02,-0.01,0.07,0.01,-0.0,-0.0,-0.05,0.03,-0.06,0.09,-0.01,-0.07,0.06,-0.14,-0.08,-0.21,0.06,0.06,-0.01,0.15,0.03,-0.02,0.08,0.0,-0.07,0.04,0.01,-0.09,0.04,0.06,0.04,-0.02,-0.06,-0.11,-0.21,0.0,0.05,-0.05,0.1,-0.03,0.05,0.04,0.03,-0.0,-0.06,0.02,-0.03,0.1,-0.09,0.02,0.01,0.03,-0.03,-0.01,-0.12,-0.06,-0.03,0.08,0.06,0.05,-0.04,0.02,0.0,-0.02,0.08,-0.01,0.0,-0.02,0.01,-0.07,0.02,-0.0,-0.02,-0.02,0.05,0.02,-0.01,0.09,0.06,-0.02,-0.03,0.03,0.01,0.06,0.04,0.04,0.03,0.0,0.03,-0.07,0.05,-0.02,0.06,0.08,0.01,0.03,0.07,-0.01,-0.05,0.11,-0.01,-0.01,0.0,0.03,0.07,-0.01,0.03,-0.06,-0.02,-0.0,-0.02,0.13,-0.02,0.03,0.03,-0.07,0.03,0.07,0.01,-0.01,-0.03,0.02,-0.0,0.01,0.09,0.02,-0.01,0.03,0.07,-0.0,-0.01,0.05,0.03,-0.01,-0.0,-0.02,0.03,0.07,0.03,-0.02,0.0,0.05,-0.14,0.01,-0.06,0.03,0.02,0.01,0.0,-0.15,-0.13,-0.01,0.04,0.03,0.04,0.06,0.04,0.05,-0.12,0.02,-0.03,0.03,0.0,0.05,0.07,0.08,0.04,0.1,0.08,0.03,0.06,0.03,0.07,0.05,0.16,-0.02,-0.02,0.06,0.02,0.08,0.02,0.07,0.07,0.04,0.03,0.0,0.09,-0.02],\"type\":\"box\"},{\"marker\":{\"color\":\"indianred\"},\"name\":\"3ST Short standard sortie +1m\",\"quartilemethod\":\"inclusive\",\"x\":[-0.04,0.01,0.03,0.04,0.03,-0.09,-0.04,0.08,-0.06,0.05,0.19,-0.02,0.03,-0.26,-0.21,-0.04,-0.11,-0.18,0.06,-0.03,-0.14,-0.04,0.13,0.22,-0.26,-0.31,-0.34,0.1,-0.13,-0.07,0.15,0.16,0.13,0.03,0.15,0.09,0.19,0.25,-0.0,0.07,0.04,-0.05,0.1,0.04,0.2,0.15,0.13,0.1,0.05,-0.04,-0.01,0.08,-0.09,0.01,-0.1,0.25,0.11,0.08,-0.04,-0.08,0.02,0.14,0.14,0.15,-0.09,-0.08,0.02,0.08,0.14,0.23,-0.01,0.08,0.1,0.09,0.14,0.1,0.15,-0.08,-0.01,-0.0,0.14,0.11,0.1,0.15,0.02,0.1,0.03,-0.01,0.07,0.06,0.14,-0.17,-0.14,-0.05,0.29,0.03,-0.13,-0.15,-0.11,0.04,0.15,0.05,0.09,0.07,0.08,0.02,-0.03,0.02,0.07,0.03,0.01,0.06,0.02,0.11,0.09,0.0,0.26,-0.05,0.09,0.19,0.11,-0.0,-0.07,-0.14,-0.11,-0.02,-0.05,0.05,-0.11,0.1,0.0,0.11,0.12,0.15,0.02,-0.36,-0.16,0.19,-0.08,0.09,-0.02,0.07,0.02,0.04,0.06,0.12,0.05,-0.04,-0.17,-0.14,-0.11],\"type\":\"box\"},{\"marker\":{\"color\":\"lightseagreen\"},\"name\":\"3ST Long standard sortie +1m\",\"quartilemethod\":\"inclusive\",\"x\":[0.06,0.02,-0.01,-0.04,-0.06,0.03,0.07,0.04,0.0,0.08,-0.03,-0.1,0.08,0.06,-0.15,-0.19,-0.07,-0.13,0.07,0.11,0.1,-0.03,-0.19,-0.03,-0.05,-0.28,-0.14,0.22,0.18,-0.0,0.17,0.02,0.09,0.04,-0.04,-0.0,0.04,0.11,-0.07,0.13,0.14,0.02,-0.13,-0.09,-0.11,-0.16,-0.04,-0.02,-0.1,0.08,0.06,0.09,0.08,0.01,-0.04,-0.04,-0.04,-0.1,0.11,-0.26,0.08,-0.0,0.04,-0.13,-0.09,-0.04,-0.09,0.02,0.11,0.13,0.05,-0.09,0.02,0.05,0.09,0.06,0.01,-0.02,-0.07,-0.0,-0.0,0.01,-0.02,-0.03,0.05,0.08,0.01,0.1,0.11,0.07,-0.03,0.02,0.02,0.07,0.07,0.01,0.07,0.03,-0.01,-0.04,0.01,0.03,-0.03,0.12,0.11,0.09,0.0,0.1,-0.03,-0.11,0.16,-0.03,0.07,0.07,0.12,0.08,-0.02,-0.05,-0.01,-0.01,-0.04,-0.01,0.13,-0.09,0.08,0.07,-0.11,-0.01,0.14,0.02,-0.06,0.02,0.01,-0.0,-0.03,0.1,0.06,0.05,0.08,0.08,0.0,0.05,0.06,0.0,-0.0,0.01,0.03,0.09,0.07,0.04,0.01,0.06,0.08,-0.01,0.03,-0.11,0.12,0.05,0.08,-0.0,-0.23,-0.2,0.12,0.07,0.08,0.11,0.1,0.07,0.06,-0.04,-0.03,-0.03,0.09,0.08,0.14,0.06,-0.13,0.09,0.07,0.12,0.09,0.14,0.13,0.03,0.04,0.01,0.08,0.04,0.07,0.08,0.12,-0.12,-0.0,0.17,0.04,0.03,0.08,0.17,-0.06],\"type\":\"box\"}],                        {\"template\":{\"data\":{\"bar\":[{\"error_x\":{\"color\":\"#2a3f5f\"},\"error_y\":{\"color\":\"#2a3f5f\"},\"marker\":{\"line\":{\"color\":\"#E5ECF6\",\"width\":0.5},\"pattern\":{\"fillmode\":\"overlay\",\"size\":10,\"solidity\":0.2}},\"type\":\"bar\"}],\"barpolar\":[{\"marker\":{\"line\":{\"color\":\"#E5ECF6\",\"width\":0.5},\"pattern\":{\"fillmode\":\"overlay\",\"size\":10,\"solidity\":0.2}},\"type\":\"barpolar\"}],\"carpet\":[{\"aaxis\":{\"endlinecolor\":\"#2a3f5f\",\"gridcolor\":\"white\",\"linecolor\":\"white\",\"minorgridcolor\":\"white\",\"startlinecolor\":\"#2a3f5f\"},\"baxis\":{\"endlinecolor\":\"#2a3f5f\",\"gridcolor\":\"white\",\"linecolor\":\"white\",\"minorgridcolor\":\"white\",\"startlinecolor\":\"#2a3f5f\"},\"type\":\"carpet\"}],\"choropleth\":[{\"colorbar\":{\"outlinewidth\":0,\"ticks\":\"\"},\"type\":\"choropleth\"}],\"contour\":[{\"colorbar\":{\"outlinewidth\":0,\"ticks\":\"\"},\"colorscale\":[[0.0,\"#0d0887\"],[0.1111111111111111,\"#46039f\"],[0.2222222222222222,\"#7201a8\"],[0.3333333333333333,\"#9c179e\"],[0.4444444444444444,\"#bd3786\"],[0.5555555555555556,\"#d8576b\"],[0.6666666666666666,\"#ed7953\"],[0.7777777777777778,\"#fb9f3a\"],[0.8888888888888888,\"#fdca26\"],[1.0,\"#f0f921\"]],\"type\":\"contour\"}],\"contourcarpet\":[{\"colorbar\":{\"outlinewidth\":0,\"ticks\":\"\"},\"type\":\"contourcarpet\"}],\"heatmap\":[{\"colorbar\":{\"outlinewidth\":0,\"ticks\":\"\"},\"colorscale\":[[0.0,\"#0d0887\"],[0.1111111111111111,\"#46039f\"],[0.2222222222222222,\"#7201a8\"],[0.3333333333333333,\"#9c179e\"],[0.4444444444444444,\"#bd3786\"],[0.5555555555555556,\"#d8576b\"],[0.6666666666666666,\"#ed7953\"],[0.7777777777777778,\"#fb9f3a\"],[0.8888888888888888,\"#fdca26\"],[1.0,\"#f0f921\"]],\"type\":\"heatmap\"}],\"heatmapgl\":[{\"colorbar\":{\"outlinewidth\":0,\"ticks\":\"\"},\"colorscale\":[[0.0,\"#0d0887\"],[0.1111111111111111,\"#46039f\"],[0.2222222222222222,\"#7201a8\"],[0.3333333333333333,\"#9c179e\"],[0.4444444444444444,\"#bd3786\"],[0.5555555555555556,\"#d8576b\"],[0.6666666666666666,\"#ed7953\"],[0.7777777777777778,\"#fb9f3a\"],[0.8888888888888888,\"#fdca26\"],[1.0,\"#f0f921\"]],\"type\":\"heatmapgl\"}],\"histogram\":[{\"marker\":{\"pattern\":{\"fillmode\":\"overlay\",\"size\":10,\"solidity\":0.2}},\"type\":\"histogram\"}],\"histogram2d\":[{\"colorbar\":{\"outlinewidth\":0,\"ticks\":\"\"},\"colorscale\":[[0.0,\"#0d0887\"],[0.1111111111111111,\"#46039f\"],[0.2222222222222222,\"#7201a8\"],[0.3333333333333333,\"#9c179e\"],[0.4444444444444444,\"#bd3786\"],[0.5555555555555556,\"#d8576b\"],[0.6666666666666666,\"#ed7953\"],[0.7777777777777778,\"#fb9f3a\"],[0.8888888888888888,\"#fdca26\"],[1.0,\"#f0f921\"]],\"type\":\"histogram2d\"}],\"histogram2dcontour\":[{\"colorbar\":{\"outlinewidth\":0,\"ticks\":\"\"},\"colorscale\":[[0.0,\"#0d0887\"],[0.1111111111111111,\"#46039f\"],[0.2222222222222222,\"#7201a8\"],[0.3333333333333333,\"#9c179e\"],[0.4444444444444444,\"#bd3786\"],[0.5555555555555556,\"#d8576b\"],[0.6666666666666666,\"#ed7953\"],[0.7777777777777778,\"#fb9f3a\"],[0.8888888888888888,\"#fdca26\"],[1.0,\"#f0f921\"]],\"type\":\"histogram2dcontour\"}],\"mesh3d\":[{\"colorbar\":{\"outlinewidth\":0,\"ticks\":\"\"},\"type\":\"mesh3d\"}],\"parcoords\":[{\"line\":{\"colorbar\":{\"outlinewidth\":0,\"ticks\":\"\"}},\"type\":\"parcoords\"}],\"pie\":[{\"automargin\":true,\"type\":\"pie\"}],\"scatter\":[{\"marker\":{\"colorbar\":{\"outlinewidth\":0,\"ticks\":\"\"}},\"type\":\"scatter\"}],\"scatter3d\":[{\"line\":{\"colorbar\":{\"outlinewidth\":0,\"ticks\":\"\"}},\"marker\":{\"colorbar\":{\"outlinewidth\":0,\"ticks\":\"\"}},\"type\":\"scatter3d\"}],\"scattercarpet\":[{\"marker\":{\"colorbar\":{\"outlinewidth\":0,\"ticks\":\"\"}},\"type\":\"scattercarpet\"}],\"scattergeo\":[{\"marker\":{\"colorbar\":{\"outlinewidth\":0,\"ticks\":\"\"}},\"type\":\"scattergeo\"}],\"scattergl\":[{\"marker\":{\"colorbar\":{\"outlinewidth\":0,\"ticks\":\"\"}},\"type\":\"scattergl\"}],\"scattermapbox\":[{\"marker\":{\"colorbar\":{\"outlinewidth\":0,\"ticks\":\"\"}},\"type\":\"scattermapbox\"}],\"scatterpolar\":[{\"marker\":{\"colorbar\":{\"outlinewidth\":0,\"ticks\":\"\"}},\"type\":\"scatterpolar\"}],\"scatterpolargl\":[{\"marker\":{\"colorbar\":{\"outlinewidth\":0,\"ticks\":\"\"}},\"type\":\"scatterpolargl\"}],\"scatterternary\":[{\"marker\":{\"colorbar\":{\"outlinewidth\":0,\"ticks\":\"\"}},\"type\":\"scatterternary\"}],\"surface\":[{\"colorbar\":{\"outlinewidth\":0,\"ticks\":\"\"},\"colorscale\":[[0.0,\"#0d0887\"],[0.1111111111111111,\"#46039f\"],[0.2222222222222222,\"#7201a8\"],[0.3333333333333333,\"#9c179e\"],[0.4444444444444444,\"#bd3786\"],[0.5555555555555556,\"#d8576b\"],[0.6666666666666666,\"#ed7953\"],[0.7777777777777778,\"#fb9f3a\"],[0.8888888888888888,\"#fdca26\"],[1.0,\"#f0f921\"]],\"type\":\"surface\"}],\"table\":[{\"cells\":{\"fill\":{\"color\":\"#EBF0F8\"},\"line\":{\"color\":\"white\"}},\"header\":{\"fill\":{\"color\":\"#C8D4E3\"},\"line\":{\"color\":\"white\"}},\"type\":\"table\"}]},\"layout\":{\"annotationdefaults\":{\"arrowcolor\":\"#2a3f5f\",\"arrowhead\":0,\"arrowwidth\":1},\"autotypenumbers\":\"strict\",\"coloraxis\":{\"colorbar\":{\"outlinewidth\":0,\"ticks\":\"\"}},\"colorscale\":{\"diverging\":[[0,\"#8e0152\"],[0.1,\"#c51b7d\"],[0.2,\"#de77ae\"],[0.3,\"#f1b6da\"],[0.4,\"#fde0ef\"],[0.5,\"#f7f7f7\"],[0.6,\"#e6f5d0\"],[0.7,\"#b8e186\"],[0.8,\"#7fbc41\"],[0.9,\"#4d9221\"],[1,\"#276419\"]],\"sequential\":[[0.0,\"#0d0887\"],[0.1111111111111111,\"#46039f\"],[0.2222222222222222,\"#7201a8\"],[0.3333333333333333,\"#9c179e\"],[0.4444444444444444,\"#bd3786\"],[0.5555555555555556,\"#d8576b\"],[0.6666666666666666,\"#ed7953\"],[0.7777777777777778,\"#fb9f3a\"],[0.8888888888888888,\"#fdca26\"],[1.0,\"#f0f921\"]],\"sequentialminus\":[[0.0,\"#0d0887\"],[0.1111111111111111,\"#46039f\"],[0.2222222222222222,\"#7201a8\"],[0.3333333333333333,\"#9c179e\"],[0.4444444444444444,\"#bd3786\"],[0.5555555555555556,\"#d8576b\"],[0.6666666666666666,\"#ed7953\"],[0.7777777777777778,\"#fb9f3a\"],[0.8888888888888888,\"#fdca26\"],[1.0,\"#f0f921\"]]},\"colorway\":[\"#636efa\",\"#EF553B\",\"#00cc96\",\"#ab63fa\",\"#FFA15A\",\"#19d3f3\",\"#FF6692\",\"#B6E880\",\"#FF97FF\",\"#FECB52\"],\"font\":{\"color\":\"#2a3f5f\"},\"geo\":{\"bgcolor\":\"white\",\"lakecolor\":\"white\",\"landcolor\":\"#E5ECF6\",\"showlakes\":true,\"showland\":true,\"subunitcolor\":\"white\"},\"hoverlabel\":{\"align\":\"left\"},\"hovermode\":\"closest\",\"mapbox\":{\"style\":\"light\"},\"paper_bgcolor\":\"white\",\"plot_bgcolor\":\"#E5ECF6\",\"polar\":{\"angularaxis\":{\"gridcolor\":\"white\",\"linecolor\":\"white\",\"ticks\":\"\"},\"bgcolor\":\"#E5ECF6\",\"radialaxis\":{\"gridcolor\":\"white\",\"linecolor\":\"white\",\"ticks\":\"\"}},\"scene\":{\"xaxis\":{\"backgroundcolor\":\"#E5ECF6\",\"gridcolor\":\"white\",\"gridwidth\":2,\"linecolor\":\"white\",\"showbackground\":true,\"ticks\":\"\",\"zerolinecolor\":\"white\"},\"yaxis\":{\"backgroundcolor\":\"#E5ECF6\",\"gridcolor\":\"white\",\"gridwidth\":2,\"linecolor\":\"white\",\"showbackground\":true,\"ticks\":\"\",\"zerolinecolor\":\"white\"},\"zaxis\":{\"backgroundcolor\":\"#E5ECF6\",\"gridcolor\":\"white\",\"gridwidth\":2,\"linecolor\":\"white\",\"showbackground\":true,\"ticks\":\"\",\"zerolinecolor\":\"white\"}},\"shapedefaults\":{\"line\":{\"color\":\"#2a3f5f\"}},\"ternary\":{\"aaxis\":{\"gridcolor\":\"white\",\"linecolor\":\"white\",\"ticks\":\"\"},\"baxis\":{\"gridcolor\":\"white\",\"linecolor\":\"white\",\"ticks\":\"\"},\"bgcolor\":\"#E5ECF6\",\"caxis\":{\"gridcolor\":\"white\",\"linecolor\":\"white\",\"ticks\":\"\"}},\"title\":{\"x\":0.05},\"xaxis\":{\"automargin\":true,\"gridcolor\":\"white\",\"linecolor\":\"white\",\"ticks\":\"\",\"title\":{\"standoff\":15},\"zerolinecolor\":\"white\",\"zerolinewidth\":2},\"yaxis\":{\"automargin\":true,\"gridcolor\":\"white\",\"linecolor\":\"white\",\"ticks\":\"\",\"title\":{\"standoff\":15},\"zerolinecolor\":\"white\",\"zerolinewidth\":2}}},\"showlegend\":false},                        {\"responsive\": true}                    ).then(function(){\n",
              "                            \n",
              "var gd = document.getElementById('21894a0d-1c69-4812-b0d7-edb3b15671af');\n",
              "var x = new MutationObserver(function (mutations, observer) {{\n",
              "        var display = window.getComputedStyle(gd).display;\n",
              "        if (!display || display === 'none') {{\n",
              "            console.log([gd, 'removed!']);\n",
              "            Plotly.purge(gd);\n",
              "            observer.disconnect();\n",
              "        }}\n",
              "}});\n",
              "\n",
              "// Listen for the removal of the full notebook cells\n",
              "var notebookContainer = gd.closest('#notebook-container');\n",
              "if (notebookContainer) {{\n",
              "    x.observe(notebookContainer, {childList: true});\n",
              "}}\n",
              "\n",
              "// Listen for the clearing of the current output cell\n",
              "var outputEl = gd.closest('.output');\n",
              "if (outputEl) {{\n",
              "    x.observe(outputEl, {childList: true});\n",
              "}}\n",
              "\n",
              "                        })                };                            </script>        </div>\n",
              "</body>\n",
              "</html>"
            ]
          },
          "metadata": {}
        }
      ]
    },
    {
      "cell_type": "markdown",
      "source": [
        "### Sorties avec money management ###"
      ],
      "metadata": {
        "id": "7WRGEXcgOsOv"
      }
    },
    {
      "cell_type": "code",
      "source": [
        "# Compte tenu des WR < 60%, on applique +30/-10\n",
        "# Cf Risk management optimisé sur entrées aléatoires, spécifique Lyx NDQ2x\n",
        "take_profit_factor = 1.3\n",
        "stop_loss_factor = 0.9"
      ],
      "metadata": {
        "id": "9nl3NCZtO1zT"
      },
      "execution_count": null,
      "outputs": []
    },
    {
      "cell_type": "markdown",
      "source": [
        "#### Fonctions adaptées à 3ST ####"
      ],
      "metadata": {
        "id": "y_rPG0-bPcpP"
      }
    },
    {
      "cell_type": "code",
      "source": [
        "def get_exits_list_long(df, el, tp, sl):\n",
        "  ''' Liste des sorties combinant risk management, si franchissement Supertrend Long, ou Take Profit / Stop Loss\n",
        "  Paramètres : df_Analyse_Technique et liste des entrées '''\n",
        "  \n",
        "  exits_list=[]\n",
        "  \n",
        "  for e in range (0, len(el)):\n",
        "    # On isole l'index de la ligne d'entrée\n",
        "    row_index = el[e]\n",
        "    # Pointeur commence les vérifications à partir de la ligne suivante\n",
        "    r = row_index+1\n",
        "    # Indicateur qu'une limite a été trouvée ou la fin des données atteinte\n",
        "    touch = False\n",
        "\n",
        "    # Définition des limites\n",
        "    limite = df.loc[row_index,'Close'] * tp\n",
        "    stop_loss = df.loc[row_index,'Close'] * sl\n",
        "    \n",
        "    # Test l'une des limites est atteinte à la cloture\n",
        "    while(touch == False):  \n",
        "      if( r >= df.shape[0]-1):\n",
        "        exits_list.append(df.shape[0]-1)\n",
        "        touch = True\n",
        "      elif( \n",
        "            (df.loc[r,'Close'] >= limite) or \n",
        "            (df.loc[r,'Close'] <= stop_loss) or\n",
        "            (df.loc[r,'Uptrend_exit'] == True ) or\n",
        "           # En cas de double cassure des 2 dernières Supertrend Support\n",
        "            ( df.loc[r,'Close'] < df.loc[r,df_3ST.columns[-6]] and  df.loc[r,'Close'] <= df.loc[r,df_3ST.columns[-5]] )\n",
        "           ):\n",
        "        exits_list.append(r)\n",
        "        touch = True\n",
        "      else:\n",
        "        r+=1\n",
        "    e+=1\n",
        "\n",
        "  return exits_list"
      ],
      "metadata": {
        "id": "vwfrSYP_PFJI"
      },
      "execution_count": null,
      "outputs": []
    },
    {
      "cell_type": "code",
      "source": [
        "def get_exits_list_short(df, el, tp, sl):\n",
        "  ''' Liste des sorties combinant risk management, si franchissement Supertrend Long, ou Take Profit / Stop Loss\n",
        "  Paramètres : df_Analyse_Technique et liste des entrées '''\n",
        "  \n",
        "  exits_list=[]\n",
        "  \n",
        "  for e in range (0, len(el)):\n",
        "    # On isole l'index de la ligne d'entrée\n",
        "    row_index = el[e]\n",
        "    # Pointeur commence les vérifications à partir de la ligne suivante\n",
        "    r = row_index+1\n",
        "    # Indicateur qu'une limite a été trouvée ou la fin des données atteinte\n",
        "    touch = False\n",
        "\n",
        "    # Définition des limites\n",
        "    # Adaptation à l'invserse avec les short\n",
        "    limite = df.loc[row_index,'Close'] * (1-(tp-1))\n",
        "    stop_loss = df.loc[row_index,'Close'] * (1+(1-sl))\n",
        "    \n",
        "    # Test l'une des limites est atteinte à la cloture\n",
        "    while(touch == False):  \n",
        "      if( r >= df.shape[0]-1):\n",
        "        exits_list.append(df.shape[0]-1)\n",
        "        touch = True\n",
        "      # Inversion des signes, positions Short\n",
        "      elif( \n",
        "            (df.loc[r,'Close'] <= limite) or \n",
        "            (df.loc[r,'Close'] >= stop_loss) or\n",
        "            (df.loc[r,'Downtrend_exit'] == True ) or\n",
        "            ( df.loc[r,'Close'] > df.loc[r,df_3ST.columns[-6]] and  df.loc[r,'Close'] >= df.loc[r,df_3ST.columns[-5]] )\n",
        "           ):\n",
        "        exits_list.append(r)\n",
        "        touch = True\n",
        "      else:\n",
        "        r+=1\n",
        "    e+=1\n",
        "\n",
        "  return exits_list"
      ],
      "metadata": {
        "id": "gRXTknADPFqZ"
      },
      "execution_count": null,
      "outputs": []
    },
    {
      "cell_type": "code",
      "source": [
        "def generate_df_perf_short(df_indicateurs, le, ls):\n",
        "  # Préparation au merge des entrées et sorties dans un seul et même DataFrame\n",
        "  df_entries = df_indicateurs.filter(items = le, axis=0)\n",
        "  df_entries = df_entries[['Date','Close']]\n",
        "  df_entries.reset_index(drop=True, inplace=True)\n",
        "\n",
        "  df_exits = df_indicateurs.filter(items = ls, axis=0)\n",
        "  df_exits = df_exits[['Date','Close']]\n",
        "  df_exits.reset_index(drop=True, inplace=True)\n",
        "\n",
        "  # Jointure sur index réinitialisé\n",
        "  df_P = df_entries.join(df_exits, lsuffix='_entry', rsuffix='_exit')\n",
        "  df_P = df_P[['Date_entry','Date_exit','Close_entry','Close_exit']]\n",
        "  # Variation positions Long\n",
        "  df_P['var']= round( (df_P['Close_entry']-df_P['Close_exit'])/df_P['Close_entry'], 2)\n",
        "\n",
        "  # Obtention des dates de sorties, moins la dernière\n",
        "  s_exit_dates = df_P[\"Date_exit\"]\n",
        "  s_exit_dates.drop(s_exit_dates.tail(1).index, inplace=True)\n",
        "\n",
        "  # Obtention des index où plusieurs entrées correspondent à une même date de sortie\n",
        "  doublons = []\n",
        "  j=1\n",
        "  for date_sortie in s_exit_dates:\n",
        "    if date_sortie > df_P[\"Date_entry\"][j]:\n",
        "      doublons.append(j)\n",
        "    j+=1\n",
        "\n",
        "  # Suppression des index identifiés comme doublons d'entrées\n",
        "  df_P.drop(index=doublons, inplace=True)\n",
        "  df_P.reset_index(drop=True, inplace=True)\n",
        "\n",
        "  return df_P"
      ],
      "metadata": {
        "id": "ZUlhJrBRTBWg"
      },
      "execution_count": null,
      "outputs": []
    },
    {
      "cell_type": "code",
      "source": [
        "def calc_WinRate(df):\n",
        "  ''' Obtention du nombre de trades positifs à 2 semaines (10j)'''\n",
        "  compte = df.apply(lambda x : \n",
        "                          True if x['var'] > 0 \n",
        "                          else False, axis = 1)\n",
        "  # Count number of True in the series\n",
        "  wr_ratio = round( len(compte[compte == True].index) / df.shape[0], 2)\n",
        "  return wr_ratio"
      ],
      "metadata": {
        "id": "v1NOO9LjV1kC"
      },
      "execution_count": null,
      "outputs": []
    },
    {
      "cell_type": "markdown",
      "source": [
        "#### Application ####"
      ],
      "metadata": {
        "id": "JE_ZlMaLRXn2"
      }
    },
    {
      "cell_type": "code",
      "source": [
        "long_exits = get_exits_list_long(df_3ST, long_entry, take_profit_factor, stop_loss_factor)\n",
        "short_exits = get_exits_list_short(df_3ST, short_entry, take_profit_factor, stop_loss_factor)"
      ],
      "metadata": {
        "id": "qiu7jAKqPGKA"
      },
      "execution_count": null,
      "outputs": []
    },
    {
      "cell_type": "code",
      "source": [
        "if len(short_exits) == len(short_entry) and len(long_exits) == len(long_entry):\n",
        "  print('ok')\n",
        "else:\n",
        "  print('mon vier')"
      ],
      "metadata": {
        "colab": {
          "base_uri": "https://localhost:8080/"
        },
        "id": "VQtAB0l1R2HB",
        "outputId": "1d87ab7d-4557-46db-e01f-67703cff1db8"
      },
      "execution_count": null,
      "outputs": [
        {
          "output_type": "stream",
          "name": "stdout",
          "text": [
            "ok\n"
          ]
        }
      ]
    },
    {
      "cell_type": "code",
      "source": [
        "df_perf_long = generate_df_perf(df_3ST, long_entry, long_exits)\n",
        "df_perf_long.name = \"df_perf_long\"\n",
        "\n",
        "df_perf_short = generate_df_perf_short(df_3ST, short_entry, short_exits)\n",
        "df_perf_short.name = \"df_perf_short\""
      ],
      "metadata": {
        "id": "N67PlXCER1zh"
      },
      "execution_count": null,
      "outputs": []
    },
    {
      "cell_type": "code",
      "source": [
        "df_perf_long"
      ],
      "metadata": {
        "colab": {
          "base_uri": "https://localhost:8080/",
          "height": 655
        },
        "id": "8ZwNb1fQYMAl",
        "outputId": "db5a8afc-b077-46ac-8641-6b65d3221563"
      },
      "execution_count": null,
      "outputs": [
        {
          "output_type": "execute_result",
          "data": {
            "text/plain": [
              "    Date_entry  Date_exit  Close_entry  Close_exit   var\n",
              "0   2006-10-23 2006-11-02        19.19       18.32 -0.05\n",
              "1   2006-11-07 2006-11-27        19.14       19.40  0.01\n",
              "2   2007-01-11 2007-01-18        20.57       19.87 -0.03\n",
              "3   2007-02-22 2007-02-27        20.08       19.18 -0.04\n",
              "4   2007-03-22 2007-05-16        18.89       19.67  0.04\n",
              "..         ...        ...          ...         ...   ...\n",
              "118 2021-04-01 2021-05-04       610.10      609.90 -0.00\n",
              "119 2021-06-04 2021-07-19       629.00      727.00  0.16\n",
              "120 2021-07-22 2021-09-13       761.80      810.40  0.06\n",
              "121 2021-10-18 2021-11-23       802.90      939.00  0.17\n",
              "122 2022-03-21 2022-03-25       727.60      762.40  0.05\n",
              "\n",
              "[123 rows x 5 columns]"
            ],
            "text/html": [
              "\n",
              "  <div id=\"df-3d67028e-902a-4791-9be5-2b74dd04c8c4\">\n",
              "    <div class=\"colab-df-container\">\n",
              "      <div>\n",
              "<style scoped>\n",
              "    .dataframe tbody tr th:only-of-type {\n",
              "        vertical-align: middle;\n",
              "    }\n",
              "\n",
              "    .dataframe tbody tr th {\n",
              "        vertical-align: top;\n",
              "    }\n",
              "\n",
              "    .dataframe thead th {\n",
              "        text-align: right;\n",
              "    }\n",
              "</style>\n",
              "<table border=\"1\" class=\"dataframe\">\n",
              "  <thead>\n",
              "    <tr style=\"text-align: right;\">\n",
              "      <th></th>\n",
              "      <th>Date_entry</th>\n",
              "      <th>Date_exit</th>\n",
              "      <th>Close_entry</th>\n",
              "      <th>Close_exit</th>\n",
              "      <th>var</th>\n",
              "    </tr>\n",
              "  </thead>\n",
              "  <tbody>\n",
              "    <tr>\n",
              "      <th>0</th>\n",
              "      <td>2006-10-23</td>\n",
              "      <td>2006-11-02</td>\n",
              "      <td>19.19</td>\n",
              "      <td>18.32</td>\n",
              "      <td>-0.05</td>\n",
              "    </tr>\n",
              "    <tr>\n",
              "      <th>1</th>\n",
              "      <td>2006-11-07</td>\n",
              "      <td>2006-11-27</td>\n",
              "      <td>19.14</td>\n",
              "      <td>19.40</td>\n",
              "      <td>0.01</td>\n",
              "    </tr>\n",
              "    <tr>\n",
              "      <th>2</th>\n",
              "      <td>2007-01-11</td>\n",
              "      <td>2007-01-18</td>\n",
              "      <td>20.57</td>\n",
              "      <td>19.87</td>\n",
              "      <td>-0.03</td>\n",
              "    </tr>\n",
              "    <tr>\n",
              "      <th>3</th>\n",
              "      <td>2007-02-22</td>\n",
              "      <td>2007-02-27</td>\n",
              "      <td>20.08</td>\n",
              "      <td>19.18</td>\n",
              "      <td>-0.04</td>\n",
              "    </tr>\n",
              "    <tr>\n",
              "      <th>4</th>\n",
              "      <td>2007-03-22</td>\n",
              "      <td>2007-05-16</td>\n",
              "      <td>18.89</td>\n",
              "      <td>19.67</td>\n",
              "      <td>0.04</td>\n",
              "    </tr>\n",
              "    <tr>\n",
              "      <th>...</th>\n",
              "      <td>...</td>\n",
              "      <td>...</td>\n",
              "      <td>...</td>\n",
              "      <td>...</td>\n",
              "      <td>...</td>\n",
              "    </tr>\n",
              "    <tr>\n",
              "      <th>118</th>\n",
              "      <td>2021-04-01</td>\n",
              "      <td>2021-05-04</td>\n",
              "      <td>610.10</td>\n",
              "      <td>609.90</td>\n",
              "      <td>-0.00</td>\n",
              "    </tr>\n",
              "    <tr>\n",
              "      <th>119</th>\n",
              "      <td>2021-06-04</td>\n",
              "      <td>2021-07-19</td>\n",
              "      <td>629.00</td>\n",
              "      <td>727.00</td>\n",
              "      <td>0.16</td>\n",
              "    </tr>\n",
              "    <tr>\n",
              "      <th>120</th>\n",
              "      <td>2021-07-22</td>\n",
              "      <td>2021-09-13</td>\n",
              "      <td>761.80</td>\n",
              "      <td>810.40</td>\n",
              "      <td>0.06</td>\n",
              "    </tr>\n",
              "    <tr>\n",
              "      <th>121</th>\n",
              "      <td>2021-10-18</td>\n",
              "      <td>2021-11-23</td>\n",
              "      <td>802.90</td>\n",
              "      <td>939.00</td>\n",
              "      <td>0.17</td>\n",
              "    </tr>\n",
              "    <tr>\n",
              "      <th>122</th>\n",
              "      <td>2022-03-21</td>\n",
              "      <td>2022-03-25</td>\n",
              "      <td>727.60</td>\n",
              "      <td>762.40</td>\n",
              "      <td>0.05</td>\n",
              "    </tr>\n",
              "  </tbody>\n",
              "</table>\n",
              "<p>123 rows × 5 columns</p>\n",
              "</div>\n",
              "      <button class=\"colab-df-convert\" onclick=\"convertToInteractive('df-3d67028e-902a-4791-9be5-2b74dd04c8c4')\"\n",
              "              title=\"Convert this dataframe to an interactive table.\"\n",
              "              style=\"display:none;\">\n",
              "        \n",
              "  <svg xmlns=\"http://www.w3.org/2000/svg\" height=\"24px\"viewBox=\"0 0 24 24\"\n",
              "       width=\"24px\">\n",
              "    <path d=\"M0 0h24v24H0V0z\" fill=\"none\"/>\n",
              "    <path d=\"M18.56 5.44l.94 2.06.94-2.06 2.06-.94-2.06-.94-.94-2.06-.94 2.06-2.06.94zm-11 1L8.5 8.5l.94-2.06 2.06-.94-2.06-.94L8.5 2.5l-.94 2.06-2.06.94zm10 10l.94 2.06.94-2.06 2.06-.94-2.06-.94-.94-2.06-.94 2.06-2.06.94z\"/><path d=\"M17.41 7.96l-1.37-1.37c-.4-.4-.92-.59-1.43-.59-.52 0-1.04.2-1.43.59L10.3 9.45l-7.72 7.72c-.78.78-.78 2.05 0 2.83L4 21.41c.39.39.9.59 1.41.59.51 0 1.02-.2 1.41-.59l7.78-7.78 2.81-2.81c.8-.78.8-2.07 0-2.86zM5.41 20L4 18.59l7.72-7.72 1.47 1.35L5.41 20z\"/>\n",
              "  </svg>\n",
              "      </button>\n",
              "      \n",
              "  <style>\n",
              "    .colab-df-container {\n",
              "      display:flex;\n",
              "      flex-wrap:wrap;\n",
              "      gap: 12px;\n",
              "    }\n",
              "\n",
              "    .colab-df-convert {\n",
              "      background-color: #E8F0FE;\n",
              "      border: none;\n",
              "      border-radius: 50%;\n",
              "      cursor: pointer;\n",
              "      display: none;\n",
              "      fill: #1967D2;\n",
              "      height: 32px;\n",
              "      padding: 0 0 0 0;\n",
              "      width: 32px;\n",
              "    }\n",
              "\n",
              "    .colab-df-convert:hover {\n",
              "      background-color: #E2EBFA;\n",
              "      box-shadow: 0px 1px 2px rgba(60, 64, 67, 0.3), 0px 1px 3px 1px rgba(60, 64, 67, 0.15);\n",
              "      fill: #174EA6;\n",
              "    }\n",
              "\n",
              "    [theme=dark] .colab-df-convert {\n",
              "      background-color: #3B4455;\n",
              "      fill: #D2E3FC;\n",
              "    }\n",
              "\n",
              "    [theme=dark] .colab-df-convert:hover {\n",
              "      background-color: #434B5C;\n",
              "      box-shadow: 0px 1px 3px 1px rgba(0, 0, 0, 0.15);\n",
              "      filter: drop-shadow(0px 1px 2px rgba(0, 0, 0, 0.3));\n",
              "      fill: #FFFFFF;\n",
              "    }\n",
              "  </style>\n",
              "\n",
              "      <script>\n",
              "        const buttonEl =\n",
              "          document.querySelector('#df-3d67028e-902a-4791-9be5-2b74dd04c8c4 button.colab-df-convert');\n",
              "        buttonEl.style.display =\n",
              "          google.colab.kernel.accessAllowed ? 'block' : 'none';\n",
              "\n",
              "        async function convertToInteractive(key) {\n",
              "          const element = document.querySelector('#df-3d67028e-902a-4791-9be5-2b74dd04c8c4');\n",
              "          const dataTable =\n",
              "            await google.colab.kernel.invokeFunction('convertToInteractive',\n",
              "                                                     [key], {});\n",
              "          if (!dataTable) return;\n",
              "\n",
              "          const docLinkHtml = 'Like what you see? Visit the ' +\n",
              "            '<a target=\"_blank\" href=https://colab.research.google.com/notebooks/data_table.ipynb>data table notebook</a>'\n",
              "            + ' to learn more about interactive tables.';\n",
              "          element.innerHTML = '';\n",
              "          dataTable['output_type'] = 'display_data';\n",
              "          await google.colab.output.renderOutput(dataTable, element);\n",
              "          const docLink = document.createElement('div');\n",
              "          docLink.innerHTML = docLinkHtml;\n",
              "          element.appendChild(docLink);\n",
              "        }\n",
              "      </script>\n",
              "    </div>\n",
              "  </div>\n",
              "  "
            ]
          },
          "metadata": {},
          "execution_count": 129
        }
      ]
    },
    {
      "cell_type": "code",
      "source": [
        "len(df_perf_long[df_perf_long[\"var\"]>0].index) / df_perf_long.shape[0]"
      ],
      "metadata": {
        "colab": {
          "base_uri": "https://localhost:8080/"
        },
        "id": "dJqrFLOPYUTt",
        "outputId": "16d49ea5-64c0-41c8-b4ab-dbff0125a603"
      },
      "execution_count": null,
      "outputs": [
        {
          "output_type": "execute_result",
          "data": {
            "text/plain": [
              "0.4634146341463415"
            ]
          },
          "metadata": {},
          "execution_count": 131
        }
      ]
    },
    {
      "cell_type": "code",
      "source": [
        "df_perf_long.shape[0]"
      ],
      "metadata": {
        "colab": {
          "base_uri": "https://localhost:8080/"
        },
        "id": "sYGokpFoXf26",
        "outputId": "ce049c61-175e-4d7f-cfad-b8c4e49a2417"
      },
      "execution_count": null,
      "outputs": [
        {
          "output_type": "execute_result",
          "data": {
            "text/plain": [
              "123"
            ]
          },
          "metadata": {},
          "execution_count": 104
        }
      ]
    },
    {
      "cell_type": "code",
      "source": [
        "df_perf_short.shape[0]"
      ],
      "metadata": {
        "colab": {
          "base_uri": "https://localhost:8080/"
        },
        "id": "d5mP9wqoXk-L",
        "outputId": "584ded62-5115-4084-e0d5-ed90f3d5d19f"
      },
      "execution_count": null,
      "outputs": [
        {
          "output_type": "execute_result",
          "data": {
            "text/plain": [
              "109"
            ]
          },
          "metadata": {},
          "execution_count": 105
        }
      ]
    },
    {
      "cell_type": "code",
      "source": [
        "df_perf_short"
      ],
      "metadata": {
        "colab": {
          "base_uri": "https://localhost:8080/",
          "height": 424
        },
        "id": "uTBYIkEhSei9",
        "outputId": "ae194a08-20b6-4280-95f5-86832bc83733"
      },
      "execution_count": null,
      "outputs": [
        {
          "output_type": "execute_result",
          "data": {
            "text/plain": [
              "    Date_entry  Date_exit  Close_entry  Close_exit   var\n",
              "0   2006-11-27 2006-12-15        19.40       19.92 -0.03\n",
              "1   2006-12-19 2007-01-10        18.95       19.55 -0.03\n",
              "2   2007-01-25 2007-02-07        19.55       19.78 -0.01\n",
              "3   2007-02-13 2007-02-20        19.13       19.85 -0.04\n",
              "4   2007-02-27 2007-03-08        19.18       18.34  0.04\n",
              "..         ...        ...          ...         ...   ...\n",
              "104 2021-11-26 2021-12-07       918.40      947.00 -0.03\n",
              "105 2021-12-20 2021-12-23       852.90      941.00 -0.10\n",
              "106 2022-01-06 2022-02-02       881.40      789.40  0.10\n",
              "107 2022-02-14 2022-02-25       719.00      697.60  0.03\n",
              "108 2022-03-08 2022-03-17       623.20      686.20 -0.10\n",
              "\n",
              "[109 rows x 5 columns]"
            ],
            "text/html": [
              "\n",
              "  <div id=\"df-6584e8ad-cd68-485d-8dbf-b4a9dfb52cc2\">\n",
              "    <div class=\"colab-df-container\">\n",
              "      <div>\n",
              "<style scoped>\n",
              "    .dataframe tbody tr th:only-of-type {\n",
              "        vertical-align: middle;\n",
              "    }\n",
              "\n",
              "    .dataframe tbody tr th {\n",
              "        vertical-align: top;\n",
              "    }\n",
              "\n",
              "    .dataframe thead th {\n",
              "        text-align: right;\n",
              "    }\n",
              "</style>\n",
              "<table border=\"1\" class=\"dataframe\">\n",
              "  <thead>\n",
              "    <tr style=\"text-align: right;\">\n",
              "      <th></th>\n",
              "      <th>Date_entry</th>\n",
              "      <th>Date_exit</th>\n",
              "      <th>Close_entry</th>\n",
              "      <th>Close_exit</th>\n",
              "      <th>var</th>\n",
              "    </tr>\n",
              "  </thead>\n",
              "  <tbody>\n",
              "    <tr>\n",
              "      <th>0</th>\n",
              "      <td>2006-11-27</td>\n",
              "      <td>2006-12-15</td>\n",
              "      <td>19.40</td>\n",
              "      <td>19.92</td>\n",
              "      <td>-0.03</td>\n",
              "    </tr>\n",
              "    <tr>\n",
              "      <th>1</th>\n",
              "      <td>2006-12-19</td>\n",
              "      <td>2007-01-10</td>\n",
              "      <td>18.95</td>\n",
              "      <td>19.55</td>\n",
              "      <td>-0.03</td>\n",
              "    </tr>\n",
              "    <tr>\n",
              "      <th>2</th>\n",
              "      <td>2007-01-25</td>\n",
              "      <td>2007-02-07</td>\n",
              "      <td>19.55</td>\n",
              "      <td>19.78</td>\n",
              "      <td>-0.01</td>\n",
              "    </tr>\n",
              "    <tr>\n",
              "      <th>3</th>\n",
              "      <td>2007-02-13</td>\n",
              "      <td>2007-02-20</td>\n",
              "      <td>19.13</td>\n",
              "      <td>19.85</td>\n",
              "      <td>-0.04</td>\n",
              "    </tr>\n",
              "    <tr>\n",
              "      <th>4</th>\n",
              "      <td>2007-02-27</td>\n",
              "      <td>2007-03-08</td>\n",
              "      <td>19.18</td>\n",
              "      <td>18.34</td>\n",
              "      <td>0.04</td>\n",
              "    </tr>\n",
              "    <tr>\n",
              "      <th>...</th>\n",
              "      <td>...</td>\n",
              "      <td>...</td>\n",
              "      <td>...</td>\n",
              "      <td>...</td>\n",
              "      <td>...</td>\n",
              "    </tr>\n",
              "    <tr>\n",
              "      <th>104</th>\n",
              "      <td>2021-11-26</td>\n",
              "      <td>2021-12-07</td>\n",
              "      <td>918.40</td>\n",
              "      <td>947.00</td>\n",
              "      <td>-0.03</td>\n",
              "    </tr>\n",
              "    <tr>\n",
              "      <th>105</th>\n",
              "      <td>2021-12-20</td>\n",
              "      <td>2021-12-23</td>\n",
              "      <td>852.90</td>\n",
              "      <td>941.00</td>\n",
              "      <td>-0.10</td>\n",
              "    </tr>\n",
              "    <tr>\n",
              "      <th>106</th>\n",
              "      <td>2022-01-06</td>\n",
              "      <td>2022-02-02</td>\n",
              "      <td>881.40</td>\n",
              "      <td>789.40</td>\n",
              "      <td>0.10</td>\n",
              "    </tr>\n",
              "    <tr>\n",
              "      <th>107</th>\n",
              "      <td>2022-02-14</td>\n",
              "      <td>2022-02-25</td>\n",
              "      <td>719.00</td>\n",
              "      <td>697.60</td>\n",
              "      <td>0.03</td>\n",
              "    </tr>\n",
              "    <tr>\n",
              "      <th>108</th>\n",
              "      <td>2022-03-08</td>\n",
              "      <td>2022-03-17</td>\n",
              "      <td>623.20</td>\n",
              "      <td>686.20</td>\n",
              "      <td>-0.10</td>\n",
              "    </tr>\n",
              "  </tbody>\n",
              "</table>\n",
              "<p>109 rows × 5 columns</p>\n",
              "</div>\n",
              "      <button class=\"colab-df-convert\" onclick=\"convertToInteractive('df-6584e8ad-cd68-485d-8dbf-b4a9dfb52cc2')\"\n",
              "              title=\"Convert this dataframe to an interactive table.\"\n",
              "              style=\"display:none;\">\n",
              "        \n",
              "  <svg xmlns=\"http://www.w3.org/2000/svg\" height=\"24px\"viewBox=\"0 0 24 24\"\n",
              "       width=\"24px\">\n",
              "    <path d=\"M0 0h24v24H0V0z\" fill=\"none\"/>\n",
              "    <path d=\"M18.56 5.44l.94 2.06.94-2.06 2.06-.94-2.06-.94-.94-2.06-.94 2.06-2.06.94zm-11 1L8.5 8.5l.94-2.06 2.06-.94-2.06-.94L8.5 2.5l-.94 2.06-2.06.94zm10 10l.94 2.06.94-2.06 2.06-.94-2.06-.94-.94-2.06-.94 2.06-2.06.94z\"/><path d=\"M17.41 7.96l-1.37-1.37c-.4-.4-.92-.59-1.43-.59-.52 0-1.04.2-1.43.59L10.3 9.45l-7.72 7.72c-.78.78-.78 2.05 0 2.83L4 21.41c.39.39.9.59 1.41.59.51 0 1.02-.2 1.41-.59l7.78-7.78 2.81-2.81c.8-.78.8-2.07 0-2.86zM5.41 20L4 18.59l7.72-7.72 1.47 1.35L5.41 20z\"/>\n",
              "  </svg>\n",
              "      </button>\n",
              "      \n",
              "  <style>\n",
              "    .colab-df-container {\n",
              "      display:flex;\n",
              "      flex-wrap:wrap;\n",
              "      gap: 12px;\n",
              "    }\n",
              "\n",
              "    .colab-df-convert {\n",
              "      background-color: #E8F0FE;\n",
              "      border: none;\n",
              "      border-radius: 50%;\n",
              "      cursor: pointer;\n",
              "      display: none;\n",
              "      fill: #1967D2;\n",
              "      height: 32px;\n",
              "      padding: 0 0 0 0;\n",
              "      width: 32px;\n",
              "    }\n",
              "\n",
              "    .colab-df-convert:hover {\n",
              "      background-color: #E2EBFA;\n",
              "      box-shadow: 0px 1px 2px rgba(60, 64, 67, 0.3), 0px 1px 3px 1px rgba(60, 64, 67, 0.15);\n",
              "      fill: #174EA6;\n",
              "    }\n",
              "\n",
              "    [theme=dark] .colab-df-convert {\n",
              "      background-color: #3B4455;\n",
              "      fill: #D2E3FC;\n",
              "    }\n",
              "\n",
              "    [theme=dark] .colab-df-convert:hover {\n",
              "      background-color: #434B5C;\n",
              "      box-shadow: 0px 1px 3px 1px rgba(0, 0, 0, 0.15);\n",
              "      filter: drop-shadow(0px 1px 2px rgba(0, 0, 0, 0.3));\n",
              "      fill: #FFFFFF;\n",
              "    }\n",
              "  </style>\n",
              "\n",
              "      <script>\n",
              "        const buttonEl =\n",
              "          document.querySelector('#df-6584e8ad-cd68-485d-8dbf-b4a9dfb52cc2 button.colab-df-convert');\n",
              "        buttonEl.style.display =\n",
              "          google.colab.kernel.accessAllowed ? 'block' : 'none';\n",
              "\n",
              "        async function convertToInteractive(key) {\n",
              "          const element = document.querySelector('#df-6584e8ad-cd68-485d-8dbf-b4a9dfb52cc2');\n",
              "          const dataTable =\n",
              "            await google.colab.kernel.invokeFunction('convertToInteractive',\n",
              "                                                     [key], {});\n",
              "          if (!dataTable) return;\n",
              "\n",
              "          const docLinkHtml = 'Like what you see? Visit the ' +\n",
              "            '<a target=\"_blank\" href=https://colab.research.google.com/notebooks/data_table.ipynb>data table notebook</a>'\n",
              "            + ' to learn more about interactive tables.';\n",
              "          element.innerHTML = '';\n",
              "          dataTable['output_type'] = 'display_data';\n",
              "          await google.colab.output.renderOutput(dataTable, element);\n",
              "          const docLink = document.createElement('div');\n",
              "          docLink.innerHTML = docLinkHtml;\n",
              "          element.appendChild(docLink);\n",
              "        }\n",
              "      </script>\n",
              "    </div>\n",
              "  </div>\n",
              "  "
            ]
          },
          "metadata": {},
          "execution_count": 95
        }
      ]
    },
    {
      "cell_type": "code",
      "source": [
        "# Combinaison des dataframes Long & Short\n",
        "df_perf_double = pd.concat([df_perf_long, df_perf_short])\n",
        "df_perf_double.sort_values(by=[\"Date_entry\"], inplace=True)\n",
        "df_perf_double.name = \"df_perf_double\""
      ],
      "metadata": {
        "id": "xQyvsIIsSdpS"
      },
      "execution_count": null,
      "outputs": []
    },
    {
      "cell_type": "code",
      "source": [
        "fig = go.Figure()\n",
        "# Use x instead of y argument for horizontal plot\n",
        "fig.add_trace(go.Box(x=df_perf_double['var'], name=\"3ST Double Strategy\", quartilemethod=\"inclusive\", marker_color='darkblue'))\n",
        "fig.add_trace(go.Box(x=df_perf_short['var'], name=\"3ST Short Strategy\", quartilemethod=\"inclusive\", marker_color='indianred'))\n",
        "fig.add_trace(go.Box(x=df_perf_long['var'], name=\"3ST Long Strategy\", quartilemethod=\"inclusive\", marker_color = 'lightseagreen'))\n",
        "fig.update(layout_showlegend=False)\n",
        "fig.show()"
      ],
      "metadata": {
        "colab": {
          "base_uri": "https://localhost:8080/",
          "height": 542
        },
        "id": "gNBJ5X2DSd06",
        "outputId": "045ee556-d128-4c85-d311-04eb9316e40b"
      },
      "execution_count": null,
      "outputs": [
        {
          "output_type": "display_data",
          "data": {
            "text/html": [
              "<html>\n",
              "<head><meta charset=\"utf-8\" /></head>\n",
              "<body>\n",
              "    <div>            <script src=\"https://cdnjs.cloudflare.com/ajax/libs/mathjax/2.7.5/MathJax.js?config=TeX-AMS-MML_SVG\"></script><script type=\"text/javascript\">if (window.MathJax) {MathJax.Hub.Config({SVG: {font: \"STIX-Web\"}});}</script>                <script type=\"text/javascript\">window.PlotlyConfig = {MathJaxConfig: 'local'};</script>\n",
              "        <script src=\"https://cdn.plot.ly/plotly-2.8.3.min.js\"></script>                <div id=\"373b5646-8340-464e-84e7-14913f303b5b\" class=\"plotly-graph-div\" style=\"height:525px; width:100%;\"></div>            <script type=\"text/javascript\">                                    window.PLOTLYENV=window.PLOTLYENV || {};                                    if (document.getElementById(\"373b5646-8340-464e-84e7-14913f303b5b\")) {                    Plotly.newPlot(                        \"373b5646-8340-464e-84e7-14913f303b5b\",                        [{\"marker\":{\"color\":\"darkblue\"},\"name\":\"3ST Double Strategy\",\"quartilemethod\":\"inclusive\",\"x\":[-0.05,0.01,-0.03,-0.03,-0.03,-0.01,-0.04,-0.04,0.04,0.04,-0.03,-0.05,-0.04,-0.02,0.02,0.02,-0.04,-0.04,-0.08,-0.0,0.06,-0.03,-0.07,0.3,-0.03,0.06,-0.07,-0.06,0.07,0.06,0.08,0.36,-0.21,-0.18,0.09,-0.11,-0.15,-0.12,-0.07,0.06,0.02,0.09,-0.08,-0.04,-0.1,-0.07,0.11,-0.05,0.02,-0.06,-0.07,-0.04,0.01,0.07,-0.03,0.21,-0.01,-0.09,-0.08,-0.07,-0.0,-0.08,-0.07,0.06,-0.07,0.05,-0.07,0.1,-0.02,-0.02,-0.04,-0.01,-0.05,-0.06,-0.03,0.08,0.08,-0.04,0.14,-0.1,-0.07,0.01,-0.05,-0.02,-0.09,-0.03,0.23,0.05,-0.04,0.02,-0.06,-0.03,-0.03,-0.06,-0.05,-0.06,0.04,-0.04,-0.04,0.13,-0.01,-0.07,-0.08,-0.02,-0.03,0.01,-0.06,-0.05,-0.07,0.09,0.0,0.02,-0.02,-0.04,-0.01,-0.03,0.1,0.01,-0.03,0.02,0.02,0.15,0.01,-0.04,0.07,-0.02,0.02,0.19,-0.01,-0.05,-0.01,0.06,-0.02,-0.04,-0.04,-0.01,-0.03,-0.05,-0.04,-0.01,-0.07,0.11,-0.05,-0.11,0.09,-0.06,-0.03,-0.02,0.1,-0.06,0.06,0.0,-0.01,-0.0,0.13,-0.04,0.02,0.0,0.04,-0.0,0.0,0.06,-0.02,0.01,-0.03,-0.02,-0.03,-0.01,-0.01,-0.03,-0.06,-0.04,0.01,-0.07,0.01,-0.03,-0.06,-0.03,0.04,0.03,-0.1,-0.03,-0.04,-0.0,-0.07,0.07,-0.06,-0.04,0.03,-0.05,-0.07,0.08,-0.01,-0.07,0.08,0.12,0.13,0.01,-0.01,0.04,-0.01,-0.08,-0.06,0.1,-0.06,0.1,-0.08,-0.03,0.37,0.31,0.12,-0.09,0.1,0.08,-0.01,-0.06,0.01,0.03,-0.03,0.03,-0.0,-0.01,0.16,0.06,-0.01,0.17,-0.03,-0.1,0.1,0.03,-0.1,0.05],\"type\":\"box\"},{\"marker\":{\"color\":\"indianred\"},\"name\":\"3ST Short Strategy\",\"quartilemethod\":\"inclusive\",\"x\":[-0.03,-0.03,-0.01,-0.04,0.04,-0.04,0.02,-0.04,-0.08,0.06,-0.07,0.3,-0.07,0.07,0.08,0.36,-0.21,-0.18,0.09,-0.11,-0.12,0.06,-0.08,-0.1,-0.07,-0.06,-0.04,-0.03,-0.01,-0.08,-0.0,-0.07,-0.07,-0.07,-0.02,-0.04,-0.01,-0.06,0.08,0.14,-0.1,-0.05,-0.09,-0.04,0.02,-0.06,-0.06,-0.06,0.13,-0.08,-0.06,-0.07,0.0,-0.04,-0.03,-0.03,0.02,-0.04,0.02,-0.01,-0.02,-0.01,-0.05,-0.04,-0.07,0.11,-0.11,-0.06,-0.02,0.1,-0.06,0.0,-0.0,-0.04,0.0,-0.03,-0.03,-0.01,-0.03,-0.06,-0.07,-0.06,0.03,-0.1,-0.0,-0.07,-0.06,-0.05,0.08,-0.01,0.08,0.01,-0.01,-0.01,-0.06,-0.06,-0.08,0.37,-0.09,0.08,-0.06,0.03,-0.01,-0.01,-0.03,-0.1,0.1,0.03,-0.1],\"type\":\"box\"},{\"marker\":{\"color\":\"lightseagreen\"},\"name\":\"3ST Long Strategy\",\"quartilemethod\":\"inclusive\",\"x\":[-0.05,0.01,-0.03,-0.04,0.04,-0.03,-0.05,-0.02,0.02,-0.04,-0.0,-0.03,-0.03,0.06,-0.06,0.06,-0.15,-0.07,0.02,0.09,-0.04,0.11,-0.05,0.02,-0.07,0.01,0.07,0.21,-0.09,-0.07,-0.08,0.06,0.05,0.1,-0.02,-0.05,-0.03,0.08,-0.04,-0.07,0.01,-0.02,-0.03,0.23,0.05,-0.03,-0.03,-0.05,0.04,-0.04,-0.04,-0.01,-0.07,-0.02,-0.03,0.01,-0.05,0.09,0.02,-0.02,-0.01,0.1,0.01,0.02,0.15,0.01,0.07,-0.02,0.19,-0.05,-0.01,0.06,-0.04,-0.04,-0.03,-0.01,-0.05,0.09,-0.03,0.06,-0.01,0.13,0.02,0.04,-0.0,0.0,0.06,-0.02,0.01,-0.02,-0.01,-0.04,0.01,0.01,-0.03,-0.03,0.04,-0.03,-0.04,0.07,-0.04,0.03,-0.07,-0.07,0.12,0.13,0.04,-0.08,0.1,0.1,-0.03,0.31,0.12,0.1,-0.01,0.01,0.03,-0.03,-0.0,0.16,0.06,0.17,0.05],\"type\":\"box\"}],                        {\"template\":{\"data\":{\"bar\":[{\"error_x\":{\"color\":\"#2a3f5f\"},\"error_y\":{\"color\":\"#2a3f5f\"},\"marker\":{\"line\":{\"color\":\"#E5ECF6\",\"width\":0.5},\"pattern\":{\"fillmode\":\"overlay\",\"size\":10,\"solidity\":0.2}},\"type\":\"bar\"}],\"barpolar\":[{\"marker\":{\"line\":{\"color\":\"#E5ECF6\",\"width\":0.5},\"pattern\":{\"fillmode\":\"overlay\",\"size\":10,\"solidity\":0.2}},\"type\":\"barpolar\"}],\"carpet\":[{\"aaxis\":{\"endlinecolor\":\"#2a3f5f\",\"gridcolor\":\"white\",\"linecolor\":\"white\",\"minorgridcolor\":\"white\",\"startlinecolor\":\"#2a3f5f\"},\"baxis\":{\"endlinecolor\":\"#2a3f5f\",\"gridcolor\":\"white\",\"linecolor\":\"white\",\"minorgridcolor\":\"white\",\"startlinecolor\":\"#2a3f5f\"},\"type\":\"carpet\"}],\"choropleth\":[{\"colorbar\":{\"outlinewidth\":0,\"ticks\":\"\"},\"type\":\"choropleth\"}],\"contour\":[{\"colorbar\":{\"outlinewidth\":0,\"ticks\":\"\"},\"colorscale\":[[0.0,\"#0d0887\"],[0.1111111111111111,\"#46039f\"],[0.2222222222222222,\"#7201a8\"],[0.3333333333333333,\"#9c179e\"],[0.4444444444444444,\"#bd3786\"],[0.5555555555555556,\"#d8576b\"],[0.6666666666666666,\"#ed7953\"],[0.7777777777777778,\"#fb9f3a\"],[0.8888888888888888,\"#fdca26\"],[1.0,\"#f0f921\"]],\"type\":\"contour\"}],\"contourcarpet\":[{\"colorbar\":{\"outlinewidth\":0,\"ticks\":\"\"},\"type\":\"contourcarpet\"}],\"heatmap\":[{\"colorbar\":{\"outlinewidth\":0,\"ticks\":\"\"},\"colorscale\":[[0.0,\"#0d0887\"],[0.1111111111111111,\"#46039f\"],[0.2222222222222222,\"#7201a8\"],[0.3333333333333333,\"#9c179e\"],[0.4444444444444444,\"#bd3786\"],[0.5555555555555556,\"#d8576b\"],[0.6666666666666666,\"#ed7953\"],[0.7777777777777778,\"#fb9f3a\"],[0.8888888888888888,\"#fdca26\"],[1.0,\"#f0f921\"]],\"type\":\"heatmap\"}],\"heatmapgl\":[{\"colorbar\":{\"outlinewidth\":0,\"ticks\":\"\"},\"colorscale\":[[0.0,\"#0d0887\"],[0.1111111111111111,\"#46039f\"],[0.2222222222222222,\"#7201a8\"],[0.3333333333333333,\"#9c179e\"],[0.4444444444444444,\"#bd3786\"],[0.5555555555555556,\"#d8576b\"],[0.6666666666666666,\"#ed7953\"],[0.7777777777777778,\"#fb9f3a\"],[0.8888888888888888,\"#fdca26\"],[1.0,\"#f0f921\"]],\"type\":\"heatmapgl\"}],\"histogram\":[{\"marker\":{\"pattern\":{\"fillmode\":\"overlay\",\"size\":10,\"solidity\":0.2}},\"type\":\"histogram\"}],\"histogram2d\":[{\"colorbar\":{\"outlinewidth\":0,\"ticks\":\"\"},\"colorscale\":[[0.0,\"#0d0887\"],[0.1111111111111111,\"#46039f\"],[0.2222222222222222,\"#7201a8\"],[0.3333333333333333,\"#9c179e\"],[0.4444444444444444,\"#bd3786\"],[0.5555555555555556,\"#d8576b\"],[0.6666666666666666,\"#ed7953\"],[0.7777777777777778,\"#fb9f3a\"],[0.8888888888888888,\"#fdca26\"],[1.0,\"#f0f921\"]],\"type\":\"histogram2d\"}],\"histogram2dcontour\":[{\"colorbar\":{\"outlinewidth\":0,\"ticks\":\"\"},\"colorscale\":[[0.0,\"#0d0887\"],[0.1111111111111111,\"#46039f\"],[0.2222222222222222,\"#7201a8\"],[0.3333333333333333,\"#9c179e\"],[0.4444444444444444,\"#bd3786\"],[0.5555555555555556,\"#d8576b\"],[0.6666666666666666,\"#ed7953\"],[0.7777777777777778,\"#fb9f3a\"],[0.8888888888888888,\"#fdca26\"],[1.0,\"#f0f921\"]],\"type\":\"histogram2dcontour\"}],\"mesh3d\":[{\"colorbar\":{\"outlinewidth\":0,\"ticks\":\"\"},\"type\":\"mesh3d\"}],\"parcoords\":[{\"line\":{\"colorbar\":{\"outlinewidth\":0,\"ticks\":\"\"}},\"type\":\"parcoords\"}],\"pie\":[{\"automargin\":true,\"type\":\"pie\"}],\"scatter\":[{\"marker\":{\"colorbar\":{\"outlinewidth\":0,\"ticks\":\"\"}},\"type\":\"scatter\"}],\"scatter3d\":[{\"line\":{\"colorbar\":{\"outlinewidth\":0,\"ticks\":\"\"}},\"marker\":{\"colorbar\":{\"outlinewidth\":0,\"ticks\":\"\"}},\"type\":\"scatter3d\"}],\"scattercarpet\":[{\"marker\":{\"colorbar\":{\"outlinewidth\":0,\"ticks\":\"\"}},\"type\":\"scattercarpet\"}],\"scattergeo\":[{\"marker\":{\"colorbar\":{\"outlinewidth\":0,\"ticks\":\"\"}},\"type\":\"scattergeo\"}],\"scattergl\":[{\"marker\":{\"colorbar\":{\"outlinewidth\":0,\"ticks\":\"\"}},\"type\":\"scattergl\"}],\"scattermapbox\":[{\"marker\":{\"colorbar\":{\"outlinewidth\":0,\"ticks\":\"\"}},\"type\":\"scattermapbox\"}],\"scatterpolar\":[{\"marker\":{\"colorbar\":{\"outlinewidth\":0,\"ticks\":\"\"}},\"type\":\"scatterpolar\"}],\"scatterpolargl\":[{\"marker\":{\"colorbar\":{\"outlinewidth\":0,\"ticks\":\"\"}},\"type\":\"scatterpolargl\"}],\"scatterternary\":[{\"marker\":{\"colorbar\":{\"outlinewidth\":0,\"ticks\":\"\"}},\"type\":\"scatterternary\"}],\"surface\":[{\"colorbar\":{\"outlinewidth\":0,\"ticks\":\"\"},\"colorscale\":[[0.0,\"#0d0887\"],[0.1111111111111111,\"#46039f\"],[0.2222222222222222,\"#7201a8\"],[0.3333333333333333,\"#9c179e\"],[0.4444444444444444,\"#bd3786\"],[0.5555555555555556,\"#d8576b\"],[0.6666666666666666,\"#ed7953\"],[0.7777777777777778,\"#fb9f3a\"],[0.8888888888888888,\"#fdca26\"],[1.0,\"#f0f921\"]],\"type\":\"surface\"}],\"table\":[{\"cells\":{\"fill\":{\"color\":\"#EBF0F8\"},\"line\":{\"color\":\"white\"}},\"header\":{\"fill\":{\"color\":\"#C8D4E3\"},\"line\":{\"color\":\"white\"}},\"type\":\"table\"}]},\"layout\":{\"annotationdefaults\":{\"arrowcolor\":\"#2a3f5f\",\"arrowhead\":0,\"arrowwidth\":1},\"autotypenumbers\":\"strict\",\"coloraxis\":{\"colorbar\":{\"outlinewidth\":0,\"ticks\":\"\"}},\"colorscale\":{\"diverging\":[[0,\"#8e0152\"],[0.1,\"#c51b7d\"],[0.2,\"#de77ae\"],[0.3,\"#f1b6da\"],[0.4,\"#fde0ef\"],[0.5,\"#f7f7f7\"],[0.6,\"#e6f5d0\"],[0.7,\"#b8e186\"],[0.8,\"#7fbc41\"],[0.9,\"#4d9221\"],[1,\"#276419\"]],\"sequential\":[[0.0,\"#0d0887\"],[0.1111111111111111,\"#46039f\"],[0.2222222222222222,\"#7201a8\"],[0.3333333333333333,\"#9c179e\"],[0.4444444444444444,\"#bd3786\"],[0.5555555555555556,\"#d8576b\"],[0.6666666666666666,\"#ed7953\"],[0.7777777777777778,\"#fb9f3a\"],[0.8888888888888888,\"#fdca26\"],[1.0,\"#f0f921\"]],\"sequentialminus\":[[0.0,\"#0d0887\"],[0.1111111111111111,\"#46039f\"],[0.2222222222222222,\"#7201a8\"],[0.3333333333333333,\"#9c179e\"],[0.4444444444444444,\"#bd3786\"],[0.5555555555555556,\"#d8576b\"],[0.6666666666666666,\"#ed7953\"],[0.7777777777777778,\"#fb9f3a\"],[0.8888888888888888,\"#fdca26\"],[1.0,\"#f0f921\"]]},\"colorway\":[\"#636efa\",\"#EF553B\",\"#00cc96\",\"#ab63fa\",\"#FFA15A\",\"#19d3f3\",\"#FF6692\",\"#B6E880\",\"#FF97FF\",\"#FECB52\"],\"font\":{\"color\":\"#2a3f5f\"},\"geo\":{\"bgcolor\":\"white\",\"lakecolor\":\"white\",\"landcolor\":\"#E5ECF6\",\"showlakes\":true,\"showland\":true,\"subunitcolor\":\"white\"},\"hoverlabel\":{\"align\":\"left\"},\"hovermode\":\"closest\",\"mapbox\":{\"style\":\"light\"},\"paper_bgcolor\":\"white\",\"plot_bgcolor\":\"#E5ECF6\",\"polar\":{\"angularaxis\":{\"gridcolor\":\"white\",\"linecolor\":\"white\",\"ticks\":\"\"},\"bgcolor\":\"#E5ECF6\",\"radialaxis\":{\"gridcolor\":\"white\",\"linecolor\":\"white\",\"ticks\":\"\"}},\"scene\":{\"xaxis\":{\"backgroundcolor\":\"#E5ECF6\",\"gridcolor\":\"white\",\"gridwidth\":2,\"linecolor\":\"white\",\"showbackground\":true,\"ticks\":\"\",\"zerolinecolor\":\"white\"},\"yaxis\":{\"backgroundcolor\":\"#E5ECF6\",\"gridcolor\":\"white\",\"gridwidth\":2,\"linecolor\":\"white\",\"showbackground\":true,\"ticks\":\"\",\"zerolinecolor\":\"white\"},\"zaxis\":{\"backgroundcolor\":\"#E5ECF6\",\"gridcolor\":\"white\",\"gridwidth\":2,\"linecolor\":\"white\",\"showbackground\":true,\"ticks\":\"\",\"zerolinecolor\":\"white\"}},\"shapedefaults\":{\"line\":{\"color\":\"#2a3f5f\"}},\"ternary\":{\"aaxis\":{\"gridcolor\":\"white\",\"linecolor\":\"white\",\"ticks\":\"\"},\"baxis\":{\"gridcolor\":\"white\",\"linecolor\":\"white\",\"ticks\":\"\"},\"bgcolor\":\"#E5ECF6\",\"caxis\":{\"gridcolor\":\"white\",\"linecolor\":\"white\",\"ticks\":\"\"}},\"title\":{\"x\":0.05},\"xaxis\":{\"automargin\":true,\"gridcolor\":\"white\",\"linecolor\":\"white\",\"ticks\":\"\",\"title\":{\"standoff\":15},\"zerolinecolor\":\"white\",\"zerolinewidth\":2},\"yaxis\":{\"automargin\":true,\"gridcolor\":\"white\",\"linecolor\":\"white\",\"ticks\":\"\",\"title\":{\"standoff\":15},\"zerolinecolor\":\"white\",\"zerolinewidth\":2}}},\"showlegend\":false},                        {\"responsive\": true}                    ).then(function(){\n",
              "                            \n",
              "var gd = document.getElementById('373b5646-8340-464e-84e7-14913f303b5b');\n",
              "var x = new MutationObserver(function (mutations, observer) {{\n",
              "        var display = window.getComputedStyle(gd).display;\n",
              "        if (!display || display === 'none') {{\n",
              "            console.log([gd, 'removed!']);\n",
              "            Plotly.purge(gd);\n",
              "            observer.disconnect();\n",
              "        }}\n",
              "}});\n",
              "\n",
              "// Listen for the removal of the full notebook cells\n",
              "var notebookContainer = gd.closest('#notebook-container');\n",
              "if (notebookContainer) {{\n",
              "    x.observe(notebookContainer, {childList: true});\n",
              "}}\n",
              "\n",
              "// Listen for the clearing of the current output cell\n",
              "var outputEl = gd.closest('.output');\n",
              "if (outputEl) {{\n",
              "    x.observe(outputEl, {childList: true});\n",
              "}}\n",
              "\n",
              "                        })                };                            </script>        </div>\n",
              "</body>\n",
              "</html>"
            ]
          },
          "metadata": {}
        }
      ]
    },
    {
      "cell_type": "code",
      "source": [
        "df_dict = {\n",
        "    \"name\": [\"df_perf_double\", \"df_perf_long\", \"df_perf_short\"],\n",
        "    \"data\": [df_perf_double, df_perf_long, df_perf_short]\n",
        "}"
      ],
      "metadata": {
        "id": "0GJ1gv1NUq_9"
      },
      "execution_count": null,
      "outputs": []
    },
    {
      "cell_type": "code",
      "source": [
        "for d in range (0,len(df_dict[\"name\"])):\n",
        "  wr = calc_WinRate(df_dict[\"data\"][d])\n",
        "  print( \"Win Rate {} : {} %, pour {} trades\".format(df_dict[\"name\"][d], wr, df_dict[\"data\"][d].shape[0]) )"
      ],
      "metadata": {
        "colab": {
          "base_uri": "https://localhost:8080/"
        },
        "id": "qhOYWqfHUW9A",
        "outputId": "e59f100c-758b-49a7-b9f0-bc1c92d46137"
      },
      "execution_count": null,
      "outputs": [
        {
          "output_type": "stream",
          "name": "stdout",
          "text": [
            "Win Rate df_perf_double : 0.36 %, pour 232 trades\n",
            "Win Rate df_perf_long : 0.46 %, pour 123 trades\n",
            "Win Rate df_perf_short : 0.24 %, pour 109 trades\n"
          ]
        }
      ]
    },
    {
      "cell_type": "code",
      "source": [
        "for d in range (0,len(df_dict[\"name\"])):\n",
        "  p = calc_performance(df_dict[\"data\"][d])\n",
        "  print( \"Performance {} : {} %\".format(df_dict[\"name\"][d], p ) )"
      ],
      "metadata": {
        "colab": {
          "base_uri": "https://localhost:8080/"
        },
        "id": "GAs8vnrwUWl1",
        "outputId": "7e5d38cb-6f53-4b62-8dcd-cf8883b5113e"
      },
      "execution_count": null,
      "outputs": [
        {
          "output_type": "stream",
          "name": "stdout",
          "text": [
            "Performance df_perf_double : -58.88 %\n",
            "Performance df_perf_long : 279.2 %\n",
            "Performance df_perf_short : -89.16 %\n"
          ]
        }
      ]
    },
    {
      "cell_type": "markdown",
      "source": [
        "# Aides #"
      ],
      "metadata": {
        "id": "RY70OtITWMp3"
      }
    },
    {
      "cell_type": "code",
      "source": [
        "help(ta.supertrend)"
      ],
      "metadata": {
        "colab": {
          "base_uri": "https://localhost:8080/"
        },
        "id": "_pn9ym_175OW",
        "outputId": "42e4f335-51d7-481e-f3fe-6c0737e43c92"
      },
      "execution_count": null,
      "outputs": [
        {
          "output_type": "stream",
          "name": "stdout",
          "text": [
            "Help on function supertrend in module pandas_ta.overlap.supertrend:\n",
            "\n",
            "supertrend(high, low, close, length=None, multiplier=None, offset=None, **kwargs)\n",
            "    Supertrend (supertrend)\n",
            "    \n",
            "    Supertrend is an overlap indicator. It is used to help identify trend\n",
            "    direction, setting stop loss, identify support and resistance, and/or\n",
            "    generate buy & sell signals.\n",
            "    \n",
            "    Sources:\n",
            "        http://www.freebsensetips.com/blog/detail/7/What-is-supertrend-indicator-its-calculation\n",
            "    \n",
            "    Calculation:\n",
            "        Default Inputs:\n",
            "            length=7, multiplier=3.0\n",
            "        Default Direction:\n",
            "            Set to +1 or bullish trend at start\n",
            "    \n",
            "        MID = multiplier * ATR\n",
            "        LOWERBAND = HL2 - MID\n",
            "        UPPERBAND = HL2 + MID\n",
            "    \n",
            "        if UPPERBAND[i] < FINAL_UPPERBAND[i-1] and close[i-1] > FINAL_UPPERBAND[i-1]:\n",
            "            FINAL_UPPERBAND[i] = UPPERBAND[i]\n",
            "        else:\n",
            "            FINAL_UPPERBAND[i] = FINAL_UPPERBAND[i-1])\n",
            "    \n",
            "        if LOWERBAND[i] > FINAL_LOWERBAND[i-1] and close[i-1] < FINAL_LOWERBAND[i-1]:\n",
            "            FINAL_LOWERBAND[i] = LOWERBAND[i]\n",
            "        else:\n",
            "            FINAL_LOWERBAND[i] = FINAL_LOWERBAND[i-1])\n",
            "    \n",
            "        if close[i] <= FINAL_UPPERBAND[i]:\n",
            "            SUPERTREND[i] = FINAL_UPPERBAND[i]\n",
            "        else:\n",
            "            SUPERTREND[i] = FINAL_LOWERBAND[i]\n",
            "    \n",
            "    Args:\n",
            "        high (pd.Series): Series of 'high's\n",
            "        low (pd.Series): Series of 'low's\n",
            "        close (pd.Series): Series of 'close's\n",
            "        length (int) : length for ATR calculation. Default: 7\n",
            "        multiplier (float): Coefficient for upper and lower band distance to\n",
            "            midrange. Default: 3.0\n",
            "        offset (int): How many periods to offset the result. Default: 0\n",
            "    \n",
            "    Kwargs:\n",
            "        fillna (value, optional): pd.DataFrame.fillna(value)\n",
            "        fill_method (value, optional): Type of fill method\n",
            "    \n",
            "    Returns:\n",
            "        pd.DataFrame: SUPERT (trend), SUPERTd (direction), SUPERTl (long), SUPERTs (short) columns.\n",
            "\n"
          ]
        }
      ]
    },
    {
      "cell_type": "code",
      "source": [
        "help(ta.vwma)"
      ],
      "metadata": {
        "colab": {
          "base_uri": "https://localhost:8080/"
        },
        "id": "siZmGIeHKgYV",
        "outputId": "e811f9ce-f2b5-40a0-f0cb-eea5b5b3587a"
      },
      "execution_count": null,
      "outputs": [
        {
          "output_type": "stream",
          "name": "stdout",
          "text": [
            "Help on function vwma in module pandas_ta.overlap.vwma:\n",
            "\n",
            "vwma(close, volume, length=None, offset=None, **kwargs)\n",
            "    Volume Weighted Moving Average (VWMA)\n",
            "    \n",
            "    Volume Weighted Moving Average.\n",
            "    \n",
            "    Sources:\n",
            "        https://www.motivewave.com/studies/volume_weighted_moving_average.htm\n",
            "    \n",
            "    Calculation:\n",
            "        Default Inputs:\n",
            "            length=10\n",
            "        SMA = Simple Moving Average\n",
            "        pv = close * volume\n",
            "        VWMA = SMA(pv, length) / SMA(volume, length)\n",
            "    \n",
            "    Args:\n",
            "        close (pd.Series): Series of 'close's\n",
            "        volume (pd.Series): Series of 'volume's\n",
            "        length (int): It's period. Default: 10\n",
            "        offset (int): How many periods to offset the result. Default: 0\n",
            "    \n",
            "    Kwargs:\n",
            "        fillna (value, optional): pd.DataFrame.fillna(value)\n",
            "        fill_method (value, optional): Type of fill method\n",
            "    \n",
            "    Returns:\n",
            "        pd.Series: New feature generated.\n",
            "\n"
          ]
        }
      ]
    },
    {
      "cell_type": "code",
      "source": [
        "help(ta.sma)"
      ],
      "metadata": {
        "colab": {
          "base_uri": "https://localhost:8080/"
        },
        "id": "p5h84evLuz93",
        "outputId": "9e66d19a-59e7-4242-81c3-8c22c97cb885"
      },
      "execution_count": null,
      "outputs": [
        {
          "output_type": "stream",
          "name": "stdout",
          "text": [
            "Help on function sma in module pandas_ta.overlap.sma:\n",
            "\n",
            "sma(close, length=None, talib=None, offset=None, **kwargs)\n",
            "    Simple Moving Average (SMA)\n",
            "    \n",
            "    The Simple Moving Average is the classic moving average that is the equally\n",
            "    weighted average over n periods.\n",
            "    \n",
            "    Sources:\n",
            "        https://www.tradingtechnologies.com/help/x-study/technical-indicator-definitions/simple-moving-average-sma/\n",
            "    \n",
            "    Calculation:\n",
            "        Default Inputs:\n",
            "            length=10\n",
            "        SMA = SUM(close, length) / length\n",
            "    \n",
            "    Args:\n",
            "        close (pd.Series): Series of 'close's\n",
            "        length (int): It's period. Default: 10\n",
            "        talib (bool): If TA Lib is installed and talib is True, Returns the TA Lib\n",
            "            version. Default: True\n",
            "        offset (int): How many periods to offset the result. Default: 0\n",
            "    \n",
            "    Kwargs:\n",
            "        adjust (bool): Default: True\n",
            "        presma (bool, optional): If True, uses SMA for initial value.\n",
            "        fillna (value, optional): pd.DataFrame.fillna(value)\n",
            "        fill_method (value, optional): Type of fill method\n",
            "    \n",
            "    Returns:\n",
            "        pd.Series: New feature generated.\n",
            "\n"
          ]
        }
      ]
    },
    {
      "cell_type": "code",
      "source": [
        "help(ta.ichimoku)"
      ],
      "metadata": {
        "colab": {
          "base_uri": "https://localhost:8080/"
        },
        "id": "9fdhVKgYWPu6",
        "outputId": "d13c579c-1167-4e6c-9351-96b4d8e13644"
      },
      "execution_count": null,
      "outputs": [
        {
          "output_type": "stream",
          "name": "stdout",
          "text": [
            "Help on function ichimoku in module pandas_ta.overlap.ichimoku:\n",
            "\n",
            "ichimoku(high, low, close, tenkan=None, kijun=None, senkou=None, include_chikou=True, offset=None, **kwargs)\n",
            "    Ichimoku Kinkō Hyō (ichimoku)\n",
            "    \n",
            "    Developed Pre WWII as a forecasting model for financial markets.\n",
            "    \n",
            "    Sources:\n",
            "        https://www.tradingtechnologies.com/help/x-study/technical-indicator-definitions/ichimoku-ich/\n",
            "    \n",
            "    Calculation:\n",
            "        Default Inputs:\n",
            "            tenkan=9, kijun=26, senkou=52\n",
            "        MIDPRICE = Midprice\n",
            "        TENKAN_SEN = MIDPRICE(high, low, close, length=tenkan)\n",
            "        KIJUN_SEN = MIDPRICE(high, low, close, length=kijun)\n",
            "        CHIKOU_SPAN = close.shift(-kijun)\n",
            "    \n",
            "        SPAN_A = 0.5 * (TENKAN_SEN + KIJUN_SEN)\n",
            "        SPAN_A = SPAN_A.shift(kijun)\n",
            "    \n",
            "        SPAN_B = MIDPRICE(high, low, close, length=senkou)\n",
            "        SPAN_B = SPAN_B.shift(kijun)\n",
            "    \n",
            "    Args:\n",
            "        high (pd.Series): Series of 'high's\n",
            "        low (pd.Series): Series of 'low's\n",
            "        close (pd.Series): Series of 'close's\n",
            "        tenkan (int): Tenkan period. Default: 9\n",
            "        kijun (int): Kijun period. Default: 26\n",
            "        senkou (int): Senkou period. Default: 52\n",
            "        include_chikou (bool): Whether to include chikou component. Default: True\n",
            "        offset (int): How many periods to offset the result. Default: 0\n",
            "    \n",
            "    Kwargs:\n",
            "        fillna (value, optional): pd.DataFrame.fillna(value)\n",
            "        fill_method (value, optional): Type of fill method\n",
            "    \n",
            "    Returns:\n",
            "        pd.DataFrame: Two DataFrames.\n",
            "            For the visible period: spanA, spanB, tenkan_sen, kijun_sen,\n",
            "                and chikou_span columns\n",
            "            For the forward looking period: spanA and spanB columns\n",
            "\n"
          ]
        }
      ]
    },
    {
      "cell_type": "markdown",
      "source": [
        "# Zone de test #"
      ],
      "metadata": {
        "id": "bw7q_sP1WH13"
      }
    },
    {
      "cell_type": "markdown",
      "source": [
        "## Indicateurs techniques ##"
      ],
      "metadata": {
        "id": "TwPyZN9-pQyx"
      }
    },
    {
      "cell_type": "code",
      "source": [
        "# supertrend(high, low, close, length=None, multiplier=None, offset=None, **kwargs)\n",
        "df_supertrend = df_source.ta.supertrend(high=df_source[\"High\"], low=df_source[\"Low\"], close=df_source[\"Close\"], length=34, multiplier=3.5)"
      ],
      "metadata": {
        "id": "o9pVkh9E-QmM"
      },
      "execution_count": null,
      "outputs": []
    },
    {
      "cell_type": "code",
      "source": [
        "df_supertrend"
      ],
      "metadata": {
        "colab": {
          "base_uri": "https://localhost:8080/",
          "height": 455
        },
        "id": "WITDF0pS2FjV",
        "outputId": "ccec9294-8f58-4f40-daf1-cab97b08b394"
      },
      "execution_count": null,
      "outputs": [
        {
          "output_type": "execute_result",
          "data": {
            "text/plain": [
              "            SUPERT_34_3.5  SUPERTd_34_3.5  SUPERTl_34_3.5  SUPERTs_34_3.5\n",
              "Date                                                                     \n",
              "2006-10-02       0.000000               1             NaN             NaN\n",
              "2006-11-17      18.763917               1       18.763917             NaN\n",
              "2006-11-20      18.765536               1       18.765536             NaN\n",
              "2006-11-21      19.084268               1       19.084268             NaN\n",
              "2006-11-22      19.084268               1       19.084268             NaN\n",
              "...                   ...             ...             ...             ...\n",
              "2011-12-23      21.822842               1       21.822842             NaN\n",
              "2011-12-27      21.822842               1       21.822842             NaN\n",
              "2011-12-28      21.822842               1       21.822842             NaN\n",
              "2011-12-29      21.822842               1       21.822842             NaN\n",
              "2011-12-30      21.822842               1       21.822842             NaN\n",
              "\n",
              "[1302 rows x 4 columns]"
            ],
            "text/html": [
              "\n",
              "  <div id=\"df-ea7d9d8c-088b-46eb-946c-661bc7bac881\">\n",
              "    <div class=\"colab-df-container\">\n",
              "      <div>\n",
              "<style scoped>\n",
              "    .dataframe tbody tr th:only-of-type {\n",
              "        vertical-align: middle;\n",
              "    }\n",
              "\n",
              "    .dataframe tbody tr th {\n",
              "        vertical-align: top;\n",
              "    }\n",
              "\n",
              "    .dataframe thead th {\n",
              "        text-align: right;\n",
              "    }\n",
              "</style>\n",
              "<table border=\"1\" class=\"dataframe\">\n",
              "  <thead>\n",
              "    <tr style=\"text-align: right;\">\n",
              "      <th></th>\n",
              "      <th>SUPERT_34_3.5</th>\n",
              "      <th>SUPERTd_34_3.5</th>\n",
              "      <th>SUPERTl_34_3.5</th>\n",
              "      <th>SUPERTs_34_3.5</th>\n",
              "    </tr>\n",
              "    <tr>\n",
              "      <th>Date</th>\n",
              "      <th></th>\n",
              "      <th></th>\n",
              "      <th></th>\n",
              "      <th></th>\n",
              "    </tr>\n",
              "  </thead>\n",
              "  <tbody>\n",
              "    <tr>\n",
              "      <th>2006-10-02</th>\n",
              "      <td>0.000000</td>\n",
              "      <td>1</td>\n",
              "      <td>NaN</td>\n",
              "      <td>NaN</td>\n",
              "    </tr>\n",
              "    <tr>\n",
              "      <th>2006-11-17</th>\n",
              "      <td>18.763917</td>\n",
              "      <td>1</td>\n",
              "      <td>18.763917</td>\n",
              "      <td>NaN</td>\n",
              "    </tr>\n",
              "    <tr>\n",
              "      <th>2006-11-20</th>\n",
              "      <td>18.765536</td>\n",
              "      <td>1</td>\n",
              "      <td>18.765536</td>\n",
              "      <td>NaN</td>\n",
              "    </tr>\n",
              "    <tr>\n",
              "      <th>2006-11-21</th>\n",
              "      <td>19.084268</td>\n",
              "      <td>1</td>\n",
              "      <td>19.084268</td>\n",
              "      <td>NaN</td>\n",
              "    </tr>\n",
              "    <tr>\n",
              "      <th>2006-11-22</th>\n",
              "      <td>19.084268</td>\n",
              "      <td>1</td>\n",
              "      <td>19.084268</td>\n",
              "      <td>NaN</td>\n",
              "    </tr>\n",
              "    <tr>\n",
              "      <th>...</th>\n",
              "      <td>...</td>\n",
              "      <td>...</td>\n",
              "      <td>...</td>\n",
              "      <td>...</td>\n",
              "    </tr>\n",
              "    <tr>\n",
              "      <th>2011-12-23</th>\n",
              "      <td>21.822842</td>\n",
              "      <td>1</td>\n",
              "      <td>21.822842</td>\n",
              "      <td>NaN</td>\n",
              "    </tr>\n",
              "    <tr>\n",
              "      <th>2011-12-27</th>\n",
              "      <td>21.822842</td>\n",
              "      <td>1</td>\n",
              "      <td>21.822842</td>\n",
              "      <td>NaN</td>\n",
              "    </tr>\n",
              "    <tr>\n",
              "      <th>2011-12-28</th>\n",
              "      <td>21.822842</td>\n",
              "      <td>1</td>\n",
              "      <td>21.822842</td>\n",
              "      <td>NaN</td>\n",
              "    </tr>\n",
              "    <tr>\n",
              "      <th>2011-12-29</th>\n",
              "      <td>21.822842</td>\n",
              "      <td>1</td>\n",
              "      <td>21.822842</td>\n",
              "      <td>NaN</td>\n",
              "    </tr>\n",
              "    <tr>\n",
              "      <th>2011-12-30</th>\n",
              "      <td>21.822842</td>\n",
              "      <td>1</td>\n",
              "      <td>21.822842</td>\n",
              "      <td>NaN</td>\n",
              "    </tr>\n",
              "  </tbody>\n",
              "</table>\n",
              "<p>1302 rows × 4 columns</p>\n",
              "</div>\n",
              "      <button class=\"colab-df-convert\" onclick=\"convertToInteractive('df-ea7d9d8c-088b-46eb-946c-661bc7bac881')\"\n",
              "              title=\"Convert this dataframe to an interactive table.\"\n",
              "              style=\"display:none;\">\n",
              "        \n",
              "  <svg xmlns=\"http://www.w3.org/2000/svg\" height=\"24px\"viewBox=\"0 0 24 24\"\n",
              "       width=\"24px\">\n",
              "    <path d=\"M0 0h24v24H0V0z\" fill=\"none\"/>\n",
              "    <path d=\"M18.56 5.44l.94 2.06.94-2.06 2.06-.94-2.06-.94-.94-2.06-.94 2.06-2.06.94zm-11 1L8.5 8.5l.94-2.06 2.06-.94-2.06-.94L8.5 2.5l-.94 2.06-2.06.94zm10 10l.94 2.06.94-2.06 2.06-.94-2.06-.94-.94-2.06-.94 2.06-2.06.94z\"/><path d=\"M17.41 7.96l-1.37-1.37c-.4-.4-.92-.59-1.43-.59-.52 0-1.04.2-1.43.59L10.3 9.45l-7.72 7.72c-.78.78-.78 2.05 0 2.83L4 21.41c.39.39.9.59 1.41.59.51 0 1.02-.2 1.41-.59l7.78-7.78 2.81-2.81c.8-.78.8-2.07 0-2.86zM5.41 20L4 18.59l7.72-7.72 1.47 1.35L5.41 20z\"/>\n",
              "  </svg>\n",
              "      </button>\n",
              "      \n",
              "  <style>\n",
              "    .colab-df-container {\n",
              "      display:flex;\n",
              "      flex-wrap:wrap;\n",
              "      gap: 12px;\n",
              "    }\n",
              "\n",
              "    .colab-df-convert {\n",
              "      background-color: #E8F0FE;\n",
              "      border: none;\n",
              "      border-radius: 50%;\n",
              "      cursor: pointer;\n",
              "      display: none;\n",
              "      fill: #1967D2;\n",
              "      height: 32px;\n",
              "      padding: 0 0 0 0;\n",
              "      width: 32px;\n",
              "    }\n",
              "\n",
              "    .colab-df-convert:hover {\n",
              "      background-color: #E2EBFA;\n",
              "      box-shadow: 0px 1px 2px rgba(60, 64, 67, 0.3), 0px 1px 3px 1px rgba(60, 64, 67, 0.15);\n",
              "      fill: #174EA6;\n",
              "    }\n",
              "\n",
              "    [theme=dark] .colab-df-convert {\n",
              "      background-color: #3B4455;\n",
              "      fill: #D2E3FC;\n",
              "    }\n",
              "\n",
              "    [theme=dark] .colab-df-convert:hover {\n",
              "      background-color: #434B5C;\n",
              "      box-shadow: 0px 1px 3px 1px rgba(0, 0, 0, 0.15);\n",
              "      filter: drop-shadow(0px 1px 2px rgba(0, 0, 0, 0.3));\n",
              "      fill: #FFFFFF;\n",
              "    }\n",
              "  </style>\n",
              "\n",
              "      <script>\n",
              "        const buttonEl =\n",
              "          document.querySelector('#df-ea7d9d8c-088b-46eb-946c-661bc7bac881 button.colab-df-convert');\n",
              "        buttonEl.style.display =\n",
              "          google.colab.kernel.accessAllowed ? 'block' : 'none';\n",
              "\n",
              "        async function convertToInteractive(key) {\n",
              "          const element = document.querySelector('#df-ea7d9d8c-088b-46eb-946c-661bc7bac881');\n",
              "          const dataTable =\n",
              "            await google.colab.kernel.invokeFunction('convertToInteractive',\n",
              "                                                     [key], {});\n",
              "          if (!dataTable) return;\n",
              "\n",
              "          const docLinkHtml = 'Like what you see? Visit the ' +\n",
              "            '<a target=\"_blank\" href=https://colab.research.google.com/notebooks/data_table.ipynb>data table notebook</a>'\n",
              "            + ' to learn more about interactive tables.';\n",
              "          element.innerHTML = '';\n",
              "          dataTable['output_type'] = 'display_data';\n",
              "          await google.colab.output.renderOutput(dataTable, element);\n",
              "          const docLink = document.createElement('div');\n",
              "          docLink.innerHTML = docLinkHtml;\n",
              "          element.appendChild(docLink);\n",
              "        }\n",
              "      </script>\n",
              "    </div>\n",
              "  </div>\n",
              "  "
            ]
          },
          "metadata": {},
          "execution_count": 28
        }
      ]
    },
    {
      "cell_type": "code",
      "source": [
        "# Nom des colonnes pour saisir la 1ere variabilisée\n",
        "col_list = df_supertrend.columns\n",
        "# Subset sur la 1ere colonne\n",
        "df_supertrend.dropna(subset=[col_list[0]], inplace=True)\n",
        "#df_supertrend = df_supertrend[[[col_list[0]]]]"
      ],
      "metadata": {
        "id": "WKOIueMK_2O6"
      },
      "execution_count": null,
      "outputs": []
    },
    {
      "cell_type": "code",
      "source": [
        "s_supertrend = df_supertrend.iloc[1:,0]"
      ],
      "metadata": {
        "id": "5n4oVAFtcaU3"
      },
      "execution_count": null,
      "outputs": []
    },
    {
      "cell_type": "code",
      "source": [
        "s_supertrend"
      ],
      "metadata": {
        "colab": {
          "base_uri": "https://localhost:8080/"
        },
        "id": "zCTGGZIldJ2t",
        "outputId": "4a30a51b-2b28-4898-d7a8-0fa097fc3963"
      },
      "execution_count": null,
      "outputs": [
        {
          "output_type": "execute_result",
          "data": {
            "text/plain": [
              "Date\n",
              "2006-11-17    18.763917\n",
              "2006-11-20    18.765536\n",
              "2006-11-21    19.084268\n",
              "2006-11-22    19.084268\n",
              "2006-11-23    19.169835\n",
              "                ...    \n",
              "2011-12-23    21.822842\n",
              "2011-12-27    21.822842\n",
              "2011-12-28    21.822842\n",
              "2011-12-29    21.822842\n",
              "2011-12-30    21.822842\n",
              "Name: SUPERT_34_3.5, Length: 1301, dtype: float64"
            ]
          },
          "metadata": {},
          "execution_count": 21
        }
      ]
    },
    {
      "cell_type": "code",
      "source": [
        "df_ta = df_source.join(s_supertrend)"
      ],
      "metadata": {
        "id": "lWFId3BMAjEa"
      },
      "execution_count": null,
      "outputs": []
    },
    {
      "cell_type": "code",
      "source": [
        "df_ta"
      ],
      "metadata": {
        "colab": {
          "base_uri": "https://localhost:8080/",
          "height": 455
        },
        "id": "o8bOtuYhh9ER",
        "outputId": "de225807-2fd6-441a-c9f4-3fbfc15886d4"
      },
      "execution_count": null,
      "outputs": [
        {
          "output_type": "execute_result",
          "data": {
            "text/plain": [
              "             Open   High    Low  Close  Volume  SUPERT_34_3.5\n",
              "Date                                                         \n",
              "2006-10-02  17.63  17.63  17.44  17.44     590            NaN\n",
              "2006-10-03  16.90  16.98  16.88  16.98      61            NaN\n",
              "2006-10-04  16.98  17.59  16.98  17.59       2            NaN\n",
              "2006-10-05  18.00  18.11  17.96  18.10     996            NaN\n",
              "2006-10-06  18.17  18.30  18.17  18.30    1302            NaN\n",
              "...           ...    ...    ...    ...     ...            ...\n",
              "2011-12-23  23.61  23.70  23.48  23.70   17797      21.822842\n",
              "2011-12-27  24.00  24.02  23.69  23.91    8386      21.822842\n",
              "2011-12-28  23.81  23.97  23.75  23.75   43541      21.822842\n",
              "2011-12-29  23.70  23.84  23.57  23.84    3901      21.822842\n",
              "2011-12-30  24.07  24.07  23.90  23.94   32433      21.822842\n",
              "\n",
              "[1335 rows x 6 columns]"
            ],
            "text/html": [
              "\n",
              "  <div id=\"df-ff4dd19d-3622-4574-ae93-eac30b24ff0d\">\n",
              "    <div class=\"colab-df-container\">\n",
              "      <div>\n",
              "<style scoped>\n",
              "    .dataframe tbody tr th:only-of-type {\n",
              "        vertical-align: middle;\n",
              "    }\n",
              "\n",
              "    .dataframe tbody tr th {\n",
              "        vertical-align: top;\n",
              "    }\n",
              "\n",
              "    .dataframe thead th {\n",
              "        text-align: right;\n",
              "    }\n",
              "</style>\n",
              "<table border=\"1\" class=\"dataframe\">\n",
              "  <thead>\n",
              "    <tr style=\"text-align: right;\">\n",
              "      <th></th>\n",
              "      <th>Open</th>\n",
              "      <th>High</th>\n",
              "      <th>Low</th>\n",
              "      <th>Close</th>\n",
              "      <th>Volume</th>\n",
              "      <th>SUPERT_34_3.5</th>\n",
              "    </tr>\n",
              "    <tr>\n",
              "      <th>Date</th>\n",
              "      <th></th>\n",
              "      <th></th>\n",
              "      <th></th>\n",
              "      <th></th>\n",
              "      <th></th>\n",
              "      <th></th>\n",
              "    </tr>\n",
              "  </thead>\n",
              "  <tbody>\n",
              "    <tr>\n",
              "      <th>2006-10-02</th>\n",
              "      <td>17.63</td>\n",
              "      <td>17.63</td>\n",
              "      <td>17.44</td>\n",
              "      <td>17.44</td>\n",
              "      <td>590</td>\n",
              "      <td>NaN</td>\n",
              "    </tr>\n",
              "    <tr>\n",
              "      <th>2006-10-03</th>\n",
              "      <td>16.90</td>\n",
              "      <td>16.98</td>\n",
              "      <td>16.88</td>\n",
              "      <td>16.98</td>\n",
              "      <td>61</td>\n",
              "      <td>NaN</td>\n",
              "    </tr>\n",
              "    <tr>\n",
              "      <th>2006-10-04</th>\n",
              "      <td>16.98</td>\n",
              "      <td>17.59</td>\n",
              "      <td>16.98</td>\n",
              "      <td>17.59</td>\n",
              "      <td>2</td>\n",
              "      <td>NaN</td>\n",
              "    </tr>\n",
              "    <tr>\n",
              "      <th>2006-10-05</th>\n",
              "      <td>18.00</td>\n",
              "      <td>18.11</td>\n",
              "      <td>17.96</td>\n",
              "      <td>18.10</td>\n",
              "      <td>996</td>\n",
              "      <td>NaN</td>\n",
              "    </tr>\n",
              "    <tr>\n",
              "      <th>2006-10-06</th>\n",
              "      <td>18.17</td>\n",
              "      <td>18.30</td>\n",
              "      <td>18.17</td>\n",
              "      <td>18.30</td>\n",
              "      <td>1302</td>\n",
              "      <td>NaN</td>\n",
              "    </tr>\n",
              "    <tr>\n",
              "      <th>...</th>\n",
              "      <td>...</td>\n",
              "      <td>...</td>\n",
              "      <td>...</td>\n",
              "      <td>...</td>\n",
              "      <td>...</td>\n",
              "      <td>...</td>\n",
              "    </tr>\n",
              "    <tr>\n",
              "      <th>2011-12-23</th>\n",
              "      <td>23.61</td>\n",
              "      <td>23.70</td>\n",
              "      <td>23.48</td>\n",
              "      <td>23.70</td>\n",
              "      <td>17797</td>\n",
              "      <td>21.822842</td>\n",
              "    </tr>\n",
              "    <tr>\n",
              "      <th>2011-12-27</th>\n",
              "      <td>24.00</td>\n",
              "      <td>24.02</td>\n",
              "      <td>23.69</td>\n",
              "      <td>23.91</td>\n",
              "      <td>8386</td>\n",
              "      <td>21.822842</td>\n",
              "    </tr>\n",
              "    <tr>\n",
              "      <th>2011-12-28</th>\n",
              "      <td>23.81</td>\n",
              "      <td>23.97</td>\n",
              "      <td>23.75</td>\n",
              "      <td>23.75</td>\n",
              "      <td>43541</td>\n",
              "      <td>21.822842</td>\n",
              "    </tr>\n",
              "    <tr>\n",
              "      <th>2011-12-29</th>\n",
              "      <td>23.70</td>\n",
              "      <td>23.84</td>\n",
              "      <td>23.57</td>\n",
              "      <td>23.84</td>\n",
              "      <td>3901</td>\n",
              "      <td>21.822842</td>\n",
              "    </tr>\n",
              "    <tr>\n",
              "      <th>2011-12-30</th>\n",
              "      <td>24.07</td>\n",
              "      <td>24.07</td>\n",
              "      <td>23.90</td>\n",
              "      <td>23.94</td>\n",
              "      <td>32433</td>\n",
              "      <td>21.822842</td>\n",
              "    </tr>\n",
              "  </tbody>\n",
              "</table>\n",
              "<p>1335 rows × 6 columns</p>\n",
              "</div>\n",
              "      <button class=\"colab-df-convert\" onclick=\"convertToInteractive('df-ff4dd19d-3622-4574-ae93-eac30b24ff0d')\"\n",
              "              title=\"Convert this dataframe to an interactive table.\"\n",
              "              style=\"display:none;\">\n",
              "        \n",
              "  <svg xmlns=\"http://www.w3.org/2000/svg\" height=\"24px\"viewBox=\"0 0 24 24\"\n",
              "       width=\"24px\">\n",
              "    <path d=\"M0 0h24v24H0V0z\" fill=\"none\"/>\n",
              "    <path d=\"M18.56 5.44l.94 2.06.94-2.06 2.06-.94-2.06-.94-.94-2.06-.94 2.06-2.06.94zm-11 1L8.5 8.5l.94-2.06 2.06-.94-2.06-.94L8.5 2.5l-.94 2.06-2.06.94zm10 10l.94 2.06.94-2.06 2.06-.94-2.06-.94-.94-2.06-.94 2.06-2.06.94z\"/><path d=\"M17.41 7.96l-1.37-1.37c-.4-.4-.92-.59-1.43-.59-.52 0-1.04.2-1.43.59L10.3 9.45l-7.72 7.72c-.78.78-.78 2.05 0 2.83L4 21.41c.39.39.9.59 1.41.59.51 0 1.02-.2 1.41-.59l7.78-7.78 2.81-2.81c.8-.78.8-2.07 0-2.86zM5.41 20L4 18.59l7.72-7.72 1.47 1.35L5.41 20z\"/>\n",
              "  </svg>\n",
              "      </button>\n",
              "      \n",
              "  <style>\n",
              "    .colab-df-container {\n",
              "      display:flex;\n",
              "      flex-wrap:wrap;\n",
              "      gap: 12px;\n",
              "    }\n",
              "\n",
              "    .colab-df-convert {\n",
              "      background-color: #E8F0FE;\n",
              "      border: none;\n",
              "      border-radius: 50%;\n",
              "      cursor: pointer;\n",
              "      display: none;\n",
              "      fill: #1967D2;\n",
              "      height: 32px;\n",
              "      padding: 0 0 0 0;\n",
              "      width: 32px;\n",
              "    }\n",
              "\n",
              "    .colab-df-convert:hover {\n",
              "      background-color: #E2EBFA;\n",
              "      box-shadow: 0px 1px 2px rgba(60, 64, 67, 0.3), 0px 1px 3px 1px rgba(60, 64, 67, 0.15);\n",
              "      fill: #174EA6;\n",
              "    }\n",
              "\n",
              "    [theme=dark] .colab-df-convert {\n",
              "      background-color: #3B4455;\n",
              "      fill: #D2E3FC;\n",
              "    }\n",
              "\n",
              "    [theme=dark] .colab-df-convert:hover {\n",
              "      background-color: #434B5C;\n",
              "      box-shadow: 0px 1px 3px 1px rgba(0, 0, 0, 0.15);\n",
              "      filter: drop-shadow(0px 1px 2px rgba(0, 0, 0, 0.3));\n",
              "      fill: #FFFFFF;\n",
              "    }\n",
              "  </style>\n",
              "\n",
              "      <script>\n",
              "        const buttonEl =\n",
              "          document.querySelector('#df-ff4dd19d-3622-4574-ae93-eac30b24ff0d button.colab-df-convert');\n",
              "        buttonEl.style.display =\n",
              "          google.colab.kernel.accessAllowed ? 'block' : 'none';\n",
              "\n",
              "        async function convertToInteractive(key) {\n",
              "          const element = document.querySelector('#df-ff4dd19d-3622-4574-ae93-eac30b24ff0d');\n",
              "          const dataTable =\n",
              "            await google.colab.kernel.invokeFunction('convertToInteractive',\n",
              "                                                     [key], {});\n",
              "          if (!dataTable) return;\n",
              "\n",
              "          const docLinkHtml = 'Like what you see? Visit the ' +\n",
              "            '<a target=\"_blank\" href=https://colab.research.google.com/notebooks/data_table.ipynb>data table notebook</a>'\n",
              "            + ' to learn more about interactive tables.';\n",
              "          element.innerHTML = '';\n",
              "          dataTable['output_type'] = 'display_data';\n",
              "          await google.colab.output.renderOutput(dataTable, element);\n",
              "          const docLink = document.createElement('div');\n",
              "          docLink.innerHTML = docLinkHtml;\n",
              "          element.appendChild(docLink);\n",
              "        }\n",
              "      </script>\n",
              "    </div>\n",
              "  </div>\n",
              "  "
            ]
          },
          "metadata": {},
          "execution_count": 23
        }
      ]
    },
    {
      "cell_type": "code",
      "source": [
        "col_list = df_ta.columns\n",
        "# Colonne supertrend étant la dernière\n",
        "supertrend_col = col_list[-1]\n",
        "# Garder uniquement date, close et supertrend\n",
        "df_ta = df_ta[[\"Close\",supertrend_col]]\n",
        "# Suppression des lignes sans indicateur\n",
        "df_ta.dropna(subset=[supertrend_col], inplace=True)\n",
        "df_ta"
      ],
      "metadata": {
        "colab": {
          "base_uri": "https://localhost:8080/",
          "height": 455
        },
        "id": "85GrUppWdi0w",
        "outputId": "3b67012e-989d-4b44-94d5-c2f64f8388f5"
      },
      "execution_count": null,
      "outputs": [
        {
          "output_type": "execute_result",
          "data": {
            "text/plain": [
              "            Close  SUPERT_34_3.5\n",
              "Date                            \n",
              "2006-11-17  19.99      18.763917\n",
              "2006-11-20  20.17      18.765536\n",
              "2006-11-21  20.30      19.084268\n",
              "2006-11-22  20.27      19.084268\n",
              "2006-11-23  20.35      19.169835\n",
              "...           ...            ...\n",
              "2011-12-23  23.70      21.822842\n",
              "2011-12-27  23.91      21.822842\n",
              "2011-12-28  23.75      21.822842\n",
              "2011-12-29  23.84      21.822842\n",
              "2011-12-30  23.94      21.822842\n",
              "\n",
              "[1301 rows x 2 columns]"
            ],
            "text/html": [
              "\n",
              "  <div id=\"df-e0feba1b-7fcb-42a9-9f49-2781beb27793\">\n",
              "    <div class=\"colab-df-container\">\n",
              "      <div>\n",
              "<style scoped>\n",
              "    .dataframe tbody tr th:only-of-type {\n",
              "        vertical-align: middle;\n",
              "    }\n",
              "\n",
              "    .dataframe tbody tr th {\n",
              "        vertical-align: top;\n",
              "    }\n",
              "\n",
              "    .dataframe thead th {\n",
              "        text-align: right;\n",
              "    }\n",
              "</style>\n",
              "<table border=\"1\" class=\"dataframe\">\n",
              "  <thead>\n",
              "    <tr style=\"text-align: right;\">\n",
              "      <th></th>\n",
              "      <th>Close</th>\n",
              "      <th>SUPERT_34_3.5</th>\n",
              "    </tr>\n",
              "    <tr>\n",
              "      <th>Date</th>\n",
              "      <th></th>\n",
              "      <th></th>\n",
              "    </tr>\n",
              "  </thead>\n",
              "  <tbody>\n",
              "    <tr>\n",
              "      <th>2006-11-17</th>\n",
              "      <td>19.99</td>\n",
              "      <td>18.763917</td>\n",
              "    </tr>\n",
              "    <tr>\n",
              "      <th>2006-11-20</th>\n",
              "      <td>20.17</td>\n",
              "      <td>18.765536</td>\n",
              "    </tr>\n",
              "    <tr>\n",
              "      <th>2006-11-21</th>\n",
              "      <td>20.30</td>\n",
              "      <td>19.084268</td>\n",
              "    </tr>\n",
              "    <tr>\n",
              "      <th>2006-11-22</th>\n",
              "      <td>20.27</td>\n",
              "      <td>19.084268</td>\n",
              "    </tr>\n",
              "    <tr>\n",
              "      <th>2006-11-23</th>\n",
              "      <td>20.35</td>\n",
              "      <td>19.169835</td>\n",
              "    </tr>\n",
              "    <tr>\n",
              "      <th>...</th>\n",
              "      <td>...</td>\n",
              "      <td>...</td>\n",
              "    </tr>\n",
              "    <tr>\n",
              "      <th>2011-12-23</th>\n",
              "      <td>23.70</td>\n",
              "      <td>21.822842</td>\n",
              "    </tr>\n",
              "    <tr>\n",
              "      <th>2011-12-27</th>\n",
              "      <td>23.91</td>\n",
              "      <td>21.822842</td>\n",
              "    </tr>\n",
              "    <tr>\n",
              "      <th>2011-12-28</th>\n",
              "      <td>23.75</td>\n",
              "      <td>21.822842</td>\n",
              "    </tr>\n",
              "    <tr>\n",
              "      <th>2011-12-29</th>\n",
              "      <td>23.84</td>\n",
              "      <td>21.822842</td>\n",
              "    </tr>\n",
              "    <tr>\n",
              "      <th>2011-12-30</th>\n",
              "      <td>23.94</td>\n",
              "      <td>21.822842</td>\n",
              "    </tr>\n",
              "  </tbody>\n",
              "</table>\n",
              "<p>1301 rows × 2 columns</p>\n",
              "</div>\n",
              "      <button class=\"colab-df-convert\" onclick=\"convertToInteractive('df-e0feba1b-7fcb-42a9-9f49-2781beb27793')\"\n",
              "              title=\"Convert this dataframe to an interactive table.\"\n",
              "              style=\"display:none;\">\n",
              "        \n",
              "  <svg xmlns=\"http://www.w3.org/2000/svg\" height=\"24px\"viewBox=\"0 0 24 24\"\n",
              "       width=\"24px\">\n",
              "    <path d=\"M0 0h24v24H0V0z\" fill=\"none\"/>\n",
              "    <path d=\"M18.56 5.44l.94 2.06.94-2.06 2.06-.94-2.06-.94-.94-2.06-.94 2.06-2.06.94zm-11 1L8.5 8.5l.94-2.06 2.06-.94-2.06-.94L8.5 2.5l-.94 2.06-2.06.94zm10 10l.94 2.06.94-2.06 2.06-.94-2.06-.94-.94-2.06-.94 2.06-2.06.94z\"/><path d=\"M17.41 7.96l-1.37-1.37c-.4-.4-.92-.59-1.43-.59-.52 0-1.04.2-1.43.59L10.3 9.45l-7.72 7.72c-.78.78-.78 2.05 0 2.83L4 21.41c.39.39.9.59 1.41.59.51 0 1.02-.2 1.41-.59l7.78-7.78 2.81-2.81c.8-.78.8-2.07 0-2.86zM5.41 20L4 18.59l7.72-7.72 1.47 1.35L5.41 20z\"/>\n",
              "  </svg>\n",
              "      </button>\n",
              "      \n",
              "  <style>\n",
              "    .colab-df-container {\n",
              "      display:flex;\n",
              "      flex-wrap:wrap;\n",
              "      gap: 12px;\n",
              "    }\n",
              "\n",
              "    .colab-df-convert {\n",
              "      background-color: #E8F0FE;\n",
              "      border: none;\n",
              "      border-radius: 50%;\n",
              "      cursor: pointer;\n",
              "      display: none;\n",
              "      fill: #1967D2;\n",
              "      height: 32px;\n",
              "      padding: 0 0 0 0;\n",
              "      width: 32px;\n",
              "    }\n",
              "\n",
              "    .colab-df-convert:hover {\n",
              "      background-color: #E2EBFA;\n",
              "      box-shadow: 0px 1px 2px rgba(60, 64, 67, 0.3), 0px 1px 3px 1px rgba(60, 64, 67, 0.15);\n",
              "      fill: #174EA6;\n",
              "    }\n",
              "\n",
              "    [theme=dark] .colab-df-convert {\n",
              "      background-color: #3B4455;\n",
              "      fill: #D2E3FC;\n",
              "    }\n",
              "\n",
              "    [theme=dark] .colab-df-convert:hover {\n",
              "      background-color: #434B5C;\n",
              "      box-shadow: 0px 1px 3px 1px rgba(0, 0, 0, 0.15);\n",
              "      filter: drop-shadow(0px 1px 2px rgba(0, 0, 0, 0.3));\n",
              "      fill: #FFFFFF;\n",
              "    }\n",
              "  </style>\n",
              "\n",
              "      <script>\n",
              "        const buttonEl =\n",
              "          document.querySelector('#df-e0feba1b-7fcb-42a9-9f49-2781beb27793 button.colab-df-convert');\n",
              "        buttonEl.style.display =\n",
              "          google.colab.kernel.accessAllowed ? 'block' : 'none';\n",
              "\n",
              "        async function convertToInteractive(key) {\n",
              "          const element = document.querySelector('#df-e0feba1b-7fcb-42a9-9f49-2781beb27793');\n",
              "          const dataTable =\n",
              "            await google.colab.kernel.invokeFunction('convertToInteractive',\n",
              "                                                     [key], {});\n",
              "          if (!dataTable) return;\n",
              "\n",
              "          const docLinkHtml = 'Like what you see? Visit the ' +\n",
              "            '<a target=\"_blank\" href=https://colab.research.google.com/notebooks/data_table.ipynb>data table notebook</a>'\n",
              "            + ' to learn more about interactive tables.';\n",
              "          element.innerHTML = '';\n",
              "          dataTable['output_type'] = 'display_data';\n",
              "          await google.colab.output.renderOutput(dataTable, element);\n",
              "          const docLink = document.createElement('div');\n",
              "          docLink.innerHTML = docLinkHtml;\n",
              "          element.appendChild(docLink);\n",
              "        }\n",
              "      </script>\n",
              "    </div>\n",
              "  </div>\n",
              "  "
            ]
          },
          "metadata": {},
          "execution_count": 59
        }
      ]
    },
    {
      "cell_type": "code",
      "source": [
        "# Ajout colonne VWM\n",
        "vwma_length = 21\n",
        "df_ta[\"vwma_\"+str(vwma_length)] = round( df_source.ta.vwma(close=df_source[\"Close\"], volume=df_source[\"Volume\"], length=vwma_length) ,2)"
      ],
      "metadata": {
        "id": "L1wEbbGNfHt2"
      },
      "execution_count": null,
      "outputs": []
    },
    {
      "cell_type": "code",
      "source": [
        "df_ta.dropna(subset=[\"vwma_\"+str(vwma_length)], inplace=True)\n",
        "df_ta"
      ],
      "metadata": {
        "colab": {
          "base_uri": "https://localhost:8080/",
          "height": 455
        },
        "id": "fw2u2vtWfXPa",
        "outputId": "8836c66a-ffc5-4e08-cf5f-b4781858dd81"
      },
      "execution_count": null,
      "outputs": [
        {
          "output_type": "execute_result",
          "data": {
            "text/plain": [
              "            Close  SUPERT_34_3.5  vwma_21\n",
              "Date                                     \n",
              "2006-11-17  19.99      18.763917    19.41\n",
              "2006-11-20  20.17      18.765536    19.46\n",
              "2006-11-21  20.30      19.084268    19.47\n",
              "2006-11-22  20.27      19.084268    19.48\n",
              "2006-11-23  20.35      19.169835    19.49\n",
              "...           ...            ...      ...\n",
              "2011-12-23  23.70      21.822842    23.23\n",
              "2011-12-27  23.91      21.822842    23.25\n",
              "2011-12-28  23.75      21.822842    23.33\n",
              "2011-12-29  23.84      21.822842    23.36\n",
              "2011-12-30  23.94      21.822842    23.38\n",
              "\n",
              "[1301 rows x 3 columns]"
            ],
            "text/html": [
              "\n",
              "  <div id=\"df-cf35e629-b83a-4301-aeb0-a0dcad8683a7\">\n",
              "    <div class=\"colab-df-container\">\n",
              "      <div>\n",
              "<style scoped>\n",
              "    .dataframe tbody tr th:only-of-type {\n",
              "        vertical-align: middle;\n",
              "    }\n",
              "\n",
              "    .dataframe tbody tr th {\n",
              "        vertical-align: top;\n",
              "    }\n",
              "\n",
              "    .dataframe thead th {\n",
              "        text-align: right;\n",
              "    }\n",
              "</style>\n",
              "<table border=\"1\" class=\"dataframe\">\n",
              "  <thead>\n",
              "    <tr style=\"text-align: right;\">\n",
              "      <th></th>\n",
              "      <th>Close</th>\n",
              "      <th>SUPERT_34_3.5</th>\n",
              "      <th>vwma_21</th>\n",
              "    </tr>\n",
              "    <tr>\n",
              "      <th>Date</th>\n",
              "      <th></th>\n",
              "      <th></th>\n",
              "      <th></th>\n",
              "    </tr>\n",
              "  </thead>\n",
              "  <tbody>\n",
              "    <tr>\n",
              "      <th>2006-11-17</th>\n",
              "      <td>19.99</td>\n",
              "      <td>18.763917</td>\n",
              "      <td>19.41</td>\n",
              "    </tr>\n",
              "    <tr>\n",
              "      <th>2006-11-20</th>\n",
              "      <td>20.17</td>\n",
              "      <td>18.765536</td>\n",
              "      <td>19.46</td>\n",
              "    </tr>\n",
              "    <tr>\n",
              "      <th>2006-11-21</th>\n",
              "      <td>20.30</td>\n",
              "      <td>19.084268</td>\n",
              "      <td>19.47</td>\n",
              "    </tr>\n",
              "    <tr>\n",
              "      <th>2006-11-22</th>\n",
              "      <td>20.27</td>\n",
              "      <td>19.084268</td>\n",
              "      <td>19.48</td>\n",
              "    </tr>\n",
              "    <tr>\n",
              "      <th>2006-11-23</th>\n",
              "      <td>20.35</td>\n",
              "      <td>19.169835</td>\n",
              "      <td>19.49</td>\n",
              "    </tr>\n",
              "    <tr>\n",
              "      <th>...</th>\n",
              "      <td>...</td>\n",
              "      <td>...</td>\n",
              "      <td>...</td>\n",
              "    </tr>\n",
              "    <tr>\n",
              "      <th>2011-12-23</th>\n",
              "      <td>23.70</td>\n",
              "      <td>21.822842</td>\n",
              "      <td>23.23</td>\n",
              "    </tr>\n",
              "    <tr>\n",
              "      <th>2011-12-27</th>\n",
              "      <td>23.91</td>\n",
              "      <td>21.822842</td>\n",
              "      <td>23.25</td>\n",
              "    </tr>\n",
              "    <tr>\n",
              "      <th>2011-12-28</th>\n",
              "      <td>23.75</td>\n",
              "      <td>21.822842</td>\n",
              "      <td>23.33</td>\n",
              "    </tr>\n",
              "    <tr>\n",
              "      <th>2011-12-29</th>\n",
              "      <td>23.84</td>\n",
              "      <td>21.822842</td>\n",
              "      <td>23.36</td>\n",
              "    </tr>\n",
              "    <tr>\n",
              "      <th>2011-12-30</th>\n",
              "      <td>23.94</td>\n",
              "      <td>21.822842</td>\n",
              "      <td>23.38</td>\n",
              "    </tr>\n",
              "  </tbody>\n",
              "</table>\n",
              "<p>1301 rows × 3 columns</p>\n",
              "</div>\n",
              "      <button class=\"colab-df-convert\" onclick=\"convertToInteractive('df-cf35e629-b83a-4301-aeb0-a0dcad8683a7')\"\n",
              "              title=\"Convert this dataframe to an interactive table.\"\n",
              "              style=\"display:none;\">\n",
              "        \n",
              "  <svg xmlns=\"http://www.w3.org/2000/svg\" height=\"24px\"viewBox=\"0 0 24 24\"\n",
              "       width=\"24px\">\n",
              "    <path d=\"M0 0h24v24H0V0z\" fill=\"none\"/>\n",
              "    <path d=\"M18.56 5.44l.94 2.06.94-2.06 2.06-.94-2.06-.94-.94-2.06-.94 2.06-2.06.94zm-11 1L8.5 8.5l.94-2.06 2.06-.94-2.06-.94L8.5 2.5l-.94 2.06-2.06.94zm10 10l.94 2.06.94-2.06 2.06-.94-2.06-.94-.94-2.06-.94 2.06-2.06.94z\"/><path d=\"M17.41 7.96l-1.37-1.37c-.4-.4-.92-.59-1.43-.59-.52 0-1.04.2-1.43.59L10.3 9.45l-7.72 7.72c-.78.78-.78 2.05 0 2.83L4 21.41c.39.39.9.59 1.41.59.51 0 1.02-.2 1.41-.59l7.78-7.78 2.81-2.81c.8-.78.8-2.07 0-2.86zM5.41 20L4 18.59l7.72-7.72 1.47 1.35L5.41 20z\"/>\n",
              "  </svg>\n",
              "      </button>\n",
              "      \n",
              "  <style>\n",
              "    .colab-df-container {\n",
              "      display:flex;\n",
              "      flex-wrap:wrap;\n",
              "      gap: 12px;\n",
              "    }\n",
              "\n",
              "    .colab-df-convert {\n",
              "      background-color: #E8F0FE;\n",
              "      border: none;\n",
              "      border-radius: 50%;\n",
              "      cursor: pointer;\n",
              "      display: none;\n",
              "      fill: #1967D2;\n",
              "      height: 32px;\n",
              "      padding: 0 0 0 0;\n",
              "      width: 32px;\n",
              "    }\n",
              "\n",
              "    .colab-df-convert:hover {\n",
              "      background-color: #E2EBFA;\n",
              "      box-shadow: 0px 1px 2px rgba(60, 64, 67, 0.3), 0px 1px 3px 1px rgba(60, 64, 67, 0.15);\n",
              "      fill: #174EA6;\n",
              "    }\n",
              "\n",
              "    [theme=dark] .colab-df-convert {\n",
              "      background-color: #3B4455;\n",
              "      fill: #D2E3FC;\n",
              "    }\n",
              "\n",
              "    [theme=dark] .colab-df-convert:hover {\n",
              "      background-color: #434B5C;\n",
              "      box-shadow: 0px 1px 3px 1px rgba(0, 0, 0, 0.15);\n",
              "      filter: drop-shadow(0px 1px 2px rgba(0, 0, 0, 0.3));\n",
              "      fill: #FFFFFF;\n",
              "    }\n",
              "  </style>\n",
              "\n",
              "      <script>\n",
              "        const buttonEl =\n",
              "          document.querySelector('#df-cf35e629-b83a-4301-aeb0-a0dcad8683a7 button.colab-df-convert');\n",
              "        buttonEl.style.display =\n",
              "          google.colab.kernel.accessAllowed ? 'block' : 'none';\n",
              "\n",
              "        async function convertToInteractive(key) {\n",
              "          const element = document.querySelector('#df-cf35e629-b83a-4301-aeb0-a0dcad8683a7');\n",
              "          const dataTable =\n",
              "            await google.colab.kernel.invokeFunction('convertToInteractive',\n",
              "                                                     [key], {});\n",
              "          if (!dataTable) return;\n",
              "\n",
              "          const docLinkHtml = 'Like what you see? Visit the ' +\n",
              "            '<a target=\"_blank\" href=https://colab.research.google.com/notebooks/data_table.ipynb>data table notebook</a>'\n",
              "            + ' to learn more about interactive tables.';\n",
              "          element.innerHTML = '';\n",
              "          dataTable['output_type'] = 'display_data';\n",
              "          await google.colab.output.renderOutput(dataTable, element);\n",
              "          const docLink = document.createElement('div');\n",
              "          docLink.innerHTML = docLinkHtml;\n",
              "          element.appendChild(docLink);\n",
              "        }\n",
              "      </script>\n",
              "    </div>\n",
              "  </div>\n",
              "  "
            ]
          },
          "metadata": {},
          "execution_count": 61
        }
      ]
    },
    {
      "cell_type": "code",
      "source": [
        "# vwma(close, volume, length=None, offset=None, **kwargs)\n",
        "\n",
        "l_med = 21\n",
        "l_long = 55\n",
        "df_source[\"vwma_\"+str(l_med)] = round( df_source.ta.vwma(close=df_source[\"Close\"], volume=df_source[\"Volume\"], length=l_med) ,2)\n",
        "df_source[\"vwma_\"+str(l_long)] = round( df_source.ta.vwma(close=df_source[\"Close\"], volume=df_source[\"Volume\"], length=l_long) ,2)"
      ],
      "metadata": {
        "id": "Q9svTO_0BjaF"
      },
      "execution_count": null,
      "outputs": []
    },
    {
      "cell_type": "markdown",
      "source": [
        "## Entrées ##"
      ],
      "metadata": {
        "id": "evtUO5QqpWv2"
      }
    },
    {
      "cell_type": "code",
      "source": [
        "# Ajout des colonnes lag\n",
        "shift_vwma = df_ta[df_ta.columns[-1]].shift(1)\n",
        "shift_st = df_ta[df_ta.columns[-2]].shift(1)\n",
        "shift_close = df_ta[\"Close\"].shift(1)\n",
        "\n",
        "shift_vwma[0]=shift_vwma[1]\n",
        "df_ta['VWMA_lag']=shift_vwma\n",
        "\n",
        "shift_st[0]=shift_st[1]\n",
        "df_ta['ST_lag']=shift_st\n",
        "\n",
        "shift_close[0]=shift_close[1]\n",
        "df_ta['Close_lag']=shift_close"
      ],
      "metadata": {
        "id": "BIt7jT_IlXIn"
      },
      "execution_count": null,
      "outputs": []
    },
    {
      "cell_type": "code",
      "source": [
        "df_ta.head()"
      ],
      "metadata": {
        "id": "nuyw0mtclTNy",
        "colab": {
          "base_uri": "https://localhost:8080/",
          "height": 237
        },
        "outputId": "66cf262f-fdee-440b-886a-520b796b1455"
      },
      "execution_count": null,
      "outputs": [
        {
          "output_type": "execute_result",
          "data": {
            "text/plain": [
              "            Close  SUPERT_34_3.5  vwma_21  VWMA_lag     ST_lag  Close_lag\n",
              "Date                                                                     \n",
              "2006-11-17  19.99      18.763917    19.41     19.41  18.763917      19.99\n",
              "2006-11-20  20.17      18.765536    19.46     19.41  18.763917      19.99\n",
              "2006-11-21  20.30      19.084268    19.47     19.46  18.765536      20.17\n",
              "2006-11-22  20.27      19.084268    19.48     19.47  19.084268      20.30\n",
              "2006-11-23  20.35      19.169835    19.49     19.48  19.084268      20.27"
            ],
            "text/html": [
              "\n",
              "  <div id=\"df-cb34866f-84f2-402e-8bcd-bedd4286d347\">\n",
              "    <div class=\"colab-df-container\">\n",
              "      <div>\n",
              "<style scoped>\n",
              "    .dataframe tbody tr th:only-of-type {\n",
              "        vertical-align: middle;\n",
              "    }\n",
              "\n",
              "    .dataframe tbody tr th {\n",
              "        vertical-align: top;\n",
              "    }\n",
              "\n",
              "    .dataframe thead th {\n",
              "        text-align: right;\n",
              "    }\n",
              "</style>\n",
              "<table border=\"1\" class=\"dataframe\">\n",
              "  <thead>\n",
              "    <tr style=\"text-align: right;\">\n",
              "      <th></th>\n",
              "      <th>Close</th>\n",
              "      <th>SUPERT_34_3.5</th>\n",
              "      <th>vwma_21</th>\n",
              "      <th>VWMA_lag</th>\n",
              "      <th>ST_lag</th>\n",
              "      <th>Close_lag</th>\n",
              "    </tr>\n",
              "    <tr>\n",
              "      <th>Date</th>\n",
              "      <th></th>\n",
              "      <th></th>\n",
              "      <th></th>\n",
              "      <th></th>\n",
              "      <th></th>\n",
              "      <th></th>\n",
              "    </tr>\n",
              "  </thead>\n",
              "  <tbody>\n",
              "    <tr>\n",
              "      <th>2006-11-17</th>\n",
              "      <td>19.99</td>\n",
              "      <td>18.763917</td>\n",
              "      <td>19.41</td>\n",
              "      <td>19.41</td>\n",
              "      <td>18.763917</td>\n",
              "      <td>19.99</td>\n",
              "    </tr>\n",
              "    <tr>\n",
              "      <th>2006-11-20</th>\n",
              "      <td>20.17</td>\n",
              "      <td>18.765536</td>\n",
              "      <td>19.46</td>\n",
              "      <td>19.41</td>\n",
              "      <td>18.763917</td>\n",
              "      <td>19.99</td>\n",
              "    </tr>\n",
              "    <tr>\n",
              "      <th>2006-11-21</th>\n",
              "      <td>20.30</td>\n",
              "      <td>19.084268</td>\n",
              "      <td>19.47</td>\n",
              "      <td>19.46</td>\n",
              "      <td>18.765536</td>\n",
              "      <td>20.17</td>\n",
              "    </tr>\n",
              "    <tr>\n",
              "      <th>2006-11-22</th>\n",
              "      <td>20.27</td>\n",
              "      <td>19.084268</td>\n",
              "      <td>19.48</td>\n",
              "      <td>19.47</td>\n",
              "      <td>19.084268</td>\n",
              "      <td>20.30</td>\n",
              "    </tr>\n",
              "    <tr>\n",
              "      <th>2006-11-23</th>\n",
              "      <td>20.35</td>\n",
              "      <td>19.169835</td>\n",
              "      <td>19.49</td>\n",
              "      <td>19.48</td>\n",
              "      <td>19.084268</td>\n",
              "      <td>20.27</td>\n",
              "    </tr>\n",
              "  </tbody>\n",
              "</table>\n",
              "</div>\n",
              "      <button class=\"colab-df-convert\" onclick=\"convertToInteractive('df-cb34866f-84f2-402e-8bcd-bedd4286d347')\"\n",
              "              title=\"Convert this dataframe to an interactive table.\"\n",
              "              style=\"display:none;\">\n",
              "        \n",
              "  <svg xmlns=\"http://www.w3.org/2000/svg\" height=\"24px\"viewBox=\"0 0 24 24\"\n",
              "       width=\"24px\">\n",
              "    <path d=\"M0 0h24v24H0V0z\" fill=\"none\"/>\n",
              "    <path d=\"M18.56 5.44l.94 2.06.94-2.06 2.06-.94-2.06-.94-.94-2.06-.94 2.06-2.06.94zm-11 1L8.5 8.5l.94-2.06 2.06-.94-2.06-.94L8.5 2.5l-.94 2.06-2.06.94zm10 10l.94 2.06.94-2.06 2.06-.94-2.06-.94-.94-2.06-.94 2.06-2.06.94z\"/><path d=\"M17.41 7.96l-1.37-1.37c-.4-.4-.92-.59-1.43-.59-.52 0-1.04.2-1.43.59L10.3 9.45l-7.72 7.72c-.78.78-.78 2.05 0 2.83L4 21.41c.39.39.9.59 1.41.59.51 0 1.02-.2 1.41-.59l7.78-7.78 2.81-2.81c.8-.78.8-2.07 0-2.86zM5.41 20L4 18.59l7.72-7.72 1.47 1.35L5.41 20z\"/>\n",
              "  </svg>\n",
              "      </button>\n",
              "      \n",
              "  <style>\n",
              "    .colab-df-container {\n",
              "      display:flex;\n",
              "      flex-wrap:wrap;\n",
              "      gap: 12px;\n",
              "    }\n",
              "\n",
              "    .colab-df-convert {\n",
              "      background-color: #E8F0FE;\n",
              "      border: none;\n",
              "      border-radius: 50%;\n",
              "      cursor: pointer;\n",
              "      display: none;\n",
              "      fill: #1967D2;\n",
              "      height: 32px;\n",
              "      padding: 0 0 0 0;\n",
              "      width: 32px;\n",
              "    }\n",
              "\n",
              "    .colab-df-convert:hover {\n",
              "      background-color: #E2EBFA;\n",
              "      box-shadow: 0px 1px 2px rgba(60, 64, 67, 0.3), 0px 1px 3px 1px rgba(60, 64, 67, 0.15);\n",
              "      fill: #174EA6;\n",
              "    }\n",
              "\n",
              "    [theme=dark] .colab-df-convert {\n",
              "      background-color: #3B4455;\n",
              "      fill: #D2E3FC;\n",
              "    }\n",
              "\n",
              "    [theme=dark] .colab-df-convert:hover {\n",
              "      background-color: #434B5C;\n",
              "      box-shadow: 0px 1px 3px 1px rgba(0, 0, 0, 0.15);\n",
              "      filter: drop-shadow(0px 1px 2px rgba(0, 0, 0, 0.3));\n",
              "      fill: #FFFFFF;\n",
              "    }\n",
              "  </style>\n",
              "\n",
              "      <script>\n",
              "        const buttonEl =\n",
              "          document.querySelector('#df-cb34866f-84f2-402e-8bcd-bedd4286d347 button.colab-df-convert');\n",
              "        buttonEl.style.display =\n",
              "          google.colab.kernel.accessAllowed ? 'block' : 'none';\n",
              "\n",
              "        async function convertToInteractive(key) {\n",
              "          const element = document.querySelector('#df-cb34866f-84f2-402e-8bcd-bedd4286d347');\n",
              "          const dataTable =\n",
              "            await google.colab.kernel.invokeFunction('convertToInteractive',\n",
              "                                                     [key], {});\n",
              "          if (!dataTable) return;\n",
              "\n",
              "          const docLinkHtml = 'Like what you see? Visit the ' +\n",
              "            '<a target=\"_blank\" href=https://colab.research.google.com/notebooks/data_table.ipynb>data table notebook</a>'\n",
              "            + ' to learn more about interactive tables.';\n",
              "          element.innerHTML = '';\n",
              "          dataTable['output_type'] = 'display_data';\n",
              "          await google.colab.output.renderOutput(dataTable, element);\n",
              "          const docLink = document.createElement('div');\n",
              "          docLink.innerHTML = docLinkHtml;\n",
              "          element.appendChild(docLink);\n",
              "        }\n",
              "      </script>\n",
              "    </div>\n",
              "  </div>\n",
              "  "
            ]
          },
          "metadata": {},
          "execution_count": 33
        }
      ]
    },
    {
      "cell_type": "code",
      "source": [
        "entries_list = df_ta.index[ \n",
        "                             ( (df_ta[\"Close\"] > df_ta[\"SUPERT_34_3.5\"]) \n",
        "                             & (df_ta[\"Close_lag\"] <= df_ta[\"ST_lag\"]) \n",
        "                             & (df_ta[\"Close\"] >= df_ta[\"vwma_21\"]) )\n",
        "                             |  \n",
        "                             ( (df_ta[\"Close\"] > df_ta[\"vwma_21\"]) \n",
        "                             & (df_ta[\"Close_lag\"] <= df_ta[\"VWMA_lag\"]) \n",
        "                             & (df_ta[\"Close\"] >= df_ta[\"SUPERT_34_3.5\"]) )\n",
        "                             ].to_list()"
      ],
      "metadata": {
        "id": "FhYXCElxl0Yy"
      },
      "execution_count": null,
      "outputs": []
    },
    {
      "cell_type": "code",
      "source": [
        "print(\"Nombre de trades : \",len(entries_list))"
      ],
      "metadata": {
        "id": "WV8NlSizn1w9",
        "colab": {
          "base_uri": "https://localhost:8080/"
        },
        "outputId": "a30cbe17-5c61-47ca-d438-87c6a616a752"
      },
      "execution_count": null,
      "outputs": [
        {
          "output_type": "stream",
          "name": "stdout",
          "text": [
            "Nombre de trades :  59\n"
          ]
        }
      ]
    },
    {
      "cell_type": "code",
      "source": [
        "df_entrees_perfs = generate_future_dates(df_ta,entries_list)"
      ],
      "metadata": {
        "id": "vtKAnb-1oGld",
        "colab": {
          "base_uri": "https://localhost:8080/",
          "height": 371
        },
        "outputId": "c90747b4-6ab7-45ca-adca-e0612ca34356"
      },
      "execution_count": null,
      "outputs": [
        {
          "output_type": "error",
          "ename": "TypeError",
          "evalue": "ignored",
          "traceback": [
            "\u001b[0;31m---------------------------------------------------------------------------\u001b[0m",
            "\u001b[0;31mTypeError\u001b[0m                                 Traceback (most recent call last)",
            "\u001b[0;32m<ipython-input-62-825249c4ed9a>\u001b[0m in \u001b[0;36m<module>\u001b[0;34m()\u001b[0m\n\u001b[0;32m----> 1\u001b[0;31m \u001b[0mdf_entrees_perfs\u001b[0m \u001b[0;34m=\u001b[0m \u001b[0mgenerate_future_dates\u001b[0m\u001b[0;34m(\u001b[0m\u001b[0mdf_ta\u001b[0m\u001b[0;34m,\u001b[0m\u001b[0mentries_list\u001b[0m\u001b[0;34m)\u001b[0m\u001b[0;34m\u001b[0m\u001b[0;34m\u001b[0m\u001b[0m\n\u001b[0m",
            "\u001b[0;32m<ipython-input-13-c4ea0123a08d>\u001b[0m in \u001b[0;36mgenerate_future_dates\u001b[0;34m(df, entries_list)\u001b[0m\n\u001b[1;32m      5\u001b[0m   \u001b[0marr_entries\u001b[0m \u001b[0;34m=\u001b[0m \u001b[0mnp\u001b[0m\u001b[0;34m.\u001b[0m\u001b[0masarray\u001b[0m\u001b[0;34m(\u001b[0m\u001b[0mentries_list\u001b[0m\u001b[0;34m)\u001b[0m\u001b[0;34m\u001b[0m\u001b[0;34m\u001b[0m\u001b[0m\n\u001b[1;32m      6\u001b[0m \u001b[0;34m\u001b[0m\u001b[0m\n\u001b[0;32m----> 7\u001b[0;31m   \u001b[0marr_e2s\u001b[0m \u001b[0;34m=\u001b[0m \u001b[0marr_entries\u001b[0m \u001b[0;34m+\u001b[0m \u001b[0;36m10\u001b[0m\u001b[0;34m\u001b[0m\u001b[0;34m\u001b[0m\u001b[0m\n\u001b[0m\u001b[1;32m      8\u001b[0m   \u001b[0marr_e1m\u001b[0m \u001b[0;34m=\u001b[0m \u001b[0marr_entries\u001b[0m \u001b[0;34m+\u001b[0m \u001b[0;36m21\u001b[0m\u001b[0;34m\u001b[0m\u001b[0;34m\u001b[0m\u001b[0m\n\u001b[1;32m      9\u001b[0m \u001b[0;34m\u001b[0m\u001b[0m\n",
            "\u001b[0;32m/usr/local/lib/python3.7/dist-packages/pandas/_libs/tslibs/timestamps.pyx\u001b[0m in \u001b[0;36mpandas._libs.tslibs.timestamps._Timestamp.__add__\u001b[0;34m()\u001b[0m\n",
            "\u001b[0;31mTypeError\u001b[0m: Addition/subtraction of integers and integer-arrays with Timestamp is no longer supported.  Instead of adding/subtracting `n`, use `n * obj.freq`"
          ]
        }
      ]
    },
    {
      "cell_type": "markdown",
      "source": [
        "## Verif Perf ##"
      ],
      "metadata": {
        "id": "RSk2A8sa_NTr"
      }
    },
    {
      "cell_type": "code",
      "source": [
        "df_verif = generate_ta(df_source_allTime,34,3.5,21)\n",
        "el = find_entries(df_verif)\n",
        "df_j10 = generate_future_dates(df_verif,el)"
      ],
      "metadata": {
        "id": "2bo-xpFd9q0u"
      },
      "execution_count": null,
      "outputs": []
    },
    {
      "cell_type": "code",
      "source": [
        "w = calc_WinLossRatio(df_j10)\n",
        "print(\"Win rate à 10j :\",w)"
      ],
      "metadata": {
        "colab": {
          "base_uri": "https://localhost:8080/"
        },
        "id": "0GHxNR2-_9N7",
        "outputId": "65fe726d-9254-4ea8-d973-14ec029b0ff4"
      },
      "execution_count": null,
      "outputs": [
        {
          "output_type": "stream",
          "name": "stdout",
          "text": [
            "Win rate à 10j : 0.58\n"
          ]
        }
      ]
    },
    {
      "cell_type": "code",
      "source": [
        "exl = get_exits_list(df_verif, el, 1.3, 0.9)"
      ],
      "metadata": {
        "id": "TlBtXMoOAEkE"
      },
      "execution_count": null,
      "outputs": []
    },
    {
      "cell_type": "code",
      "source": [
        "len(exl) == len(el)"
      ],
      "metadata": {
        "colab": {
          "base_uri": "https://localhost:8080/"
        },
        "id": "DP6vCd59Ardb",
        "outputId": "7695ce13-91a8-4ac7-e22f-f785e81218fa"
      },
      "execution_count": null,
      "outputs": [
        {
          "output_type": "execute_result",
          "data": {
            "text/plain": [
              "True"
            ]
          },
          "metadata": {},
          "execution_count": 84
        }
      ]
    },
    {
      "cell_type": "code",
      "source": [
        "df_perf_verif = generate_df_perf(df_verif, el, exl)"
      ],
      "metadata": {
        "id": "4b3q73bFA05m"
      },
      "execution_count": null,
      "outputs": []
    },
    {
      "cell_type": "code",
      "source": [
        "print(\"Nombre de trades : \",df_perf_verif.shape[0])"
      ],
      "metadata": {
        "colab": {
          "base_uri": "https://localhost:8080/"
        },
        "id": "gVcaknHlBMyG",
        "outputId": "33803d4f-36cd-487b-dfdc-4bbafd55c560"
      },
      "execution_count": null,
      "outputs": [
        {
          "output_type": "stream",
          "name": "stdout",
          "text": [
            "Nombre de trades :  62\n"
          ]
        }
      ]
    },
    {
      "cell_type": "code",
      "source": [
        "compte = df_perf_verif.apply(lambda x : \n",
        "                        True if x['var'] > 0 \n",
        "                        else False, axis = 1)\n",
        "# Count number of True in the series\n",
        "WR_ratio = round( len(compte[compte == True].index) / df_perf_verif.shape[0], 2)\n",
        "print(\"Win/Loss Ratio : \",WR_ratio)"
      ],
      "metadata": {
        "colab": {
          "base_uri": "https://localhost:8080/"
        },
        "id": "BgT1TgYDBUJe",
        "outputId": "3362ddae-ff0a-4815-f6cc-4bfeea4d1c49"
      },
      "execution_count": null,
      "outputs": [
        {
          "output_type": "stream",
          "name": "stdout",
          "text": [
            "Win/Loss Ratio :  0.55\n"
          ]
        }
      ]
    },
    {
      "cell_type": "code",
      "source": [
        "# Calcul performance investissement initial\n",
        "perf_list=[1000]\n",
        "perfs = df_perf_verif['var']\n",
        "invest = 1000\n",
        "for i in range (0, df_perf_verif.shape[0]):\n",
        "  invest = invest*(1+perfs[i])\n",
        "  perf_list.append(invest)\n",
        "round( ((perf_list[-1]-perf_list[0])/perf_list[0])*100 ,2)"
      ],
      "metadata": {
        "colab": {
          "base_uri": "https://localhost:8080/"
        },
        "id": "wOhlNJsjBfbb",
        "outputId": "ce1f2c64-f6b5-4a80-cca3-488902d4db88"
      },
      "execution_count": null,
      "outputs": [
        {
          "output_type": "execute_result",
          "data": {
            "text/plain": [
              "3907.01"
            ]
          },
          "metadata": {},
          "execution_count": 88
        }
      ]
    },
    {
      "cell_type": "code",
      "source": [
        "bh_AT = round(((df_source_allTime['Close'].iloc[-1] - df_source_allTime['Close'].iloc[0])/df_source_allTime['Close'].iloc[0])*100,2)\n",
        "print(\"Performance Buy & Hold all time : \",bh_AT)"
      ],
      "metadata": {
        "colab": {
          "base_uri": "https://localhost:8080/"
        },
        "id": "8lNGyV8wB-lJ",
        "outputId": "3b3cfc06-927c-40a1-8b6b-e7745cf35637"
      },
      "execution_count": null,
      "outputs": [
        {
          "output_type": "stream",
          "name": "stdout",
          "text": [
            "Performance Buy & Hold all time :  4271.56\n"
          ]
        }
      ]
    },
    {
      "cell_type": "code",
      "source": [
        "df_perf_verif"
      ],
      "metadata": {
        "colab": {
          "base_uri": "https://localhost:8080/",
          "height": 1441
        },
        "id": "oZmYBo65CbxK",
        "outputId": "1ea99590-1579-4147-f6bc-4bd56c7e42d8"
      },
      "execution_count": null,
      "outputs": [
        {
          "output_type": "execute_result",
          "data": {
            "text/plain": [
              "   Date_entry  Date_exit  Close_entry  Close_exit   var\n",
              "0  2007-01-11 2007-01-26        20.57       19.12 -0.07\n",
              "1  2007-03-22 2007-06-08        18.89       20.04  0.06\n",
              "2  2007-06-15 2007-07-27        21.59       21.58 -0.00\n",
              "3  2007-08-30 2007-11-08        21.26       22.90  0.08\n",
              "4  2007-12-07 2008-01-03        22.49       20.63 -0.08\n",
              "..        ...        ...          ...         ...   ...\n",
              "57 2021-03-16 2021-05-11       598.20      591.20 -0.01\n",
              "58 2021-06-09 2021-08-30       635.80      830.80  0.31\n",
              "59 2021-10-18 2021-11-26       802.90      918.40  0.14\n",
              "60 2021-12-27 2022-01-07       962.10      857.60 -0.11\n",
              "61 2022-03-22 2022-03-25       755.10      762.40  0.01\n",
              "\n",
              "[62 rows x 5 columns]"
            ],
            "text/html": [
              "\n",
              "  <div id=\"df-f6118640-08d3-4473-a6ef-26728e081a78\">\n",
              "    <div class=\"colab-df-container\">\n",
              "      <div>\n",
              "<style scoped>\n",
              "    .dataframe tbody tr th:only-of-type {\n",
              "        vertical-align: middle;\n",
              "    }\n",
              "\n",
              "    .dataframe tbody tr th {\n",
              "        vertical-align: top;\n",
              "    }\n",
              "\n",
              "    .dataframe thead th {\n",
              "        text-align: right;\n",
              "    }\n",
              "</style>\n",
              "<table border=\"1\" class=\"dataframe\">\n",
              "  <thead>\n",
              "    <tr style=\"text-align: right;\">\n",
              "      <th></th>\n",
              "      <th>Date_entry</th>\n",
              "      <th>Date_exit</th>\n",
              "      <th>Close_entry</th>\n",
              "      <th>Close_exit</th>\n",
              "      <th>var</th>\n",
              "    </tr>\n",
              "  </thead>\n",
              "  <tbody>\n",
              "    <tr>\n",
              "      <th>0</th>\n",
              "      <td>2007-01-11</td>\n",
              "      <td>2007-01-26</td>\n",
              "      <td>20.57</td>\n",
              "      <td>19.12</td>\n",
              "      <td>-0.07</td>\n",
              "    </tr>\n",
              "    <tr>\n",
              "      <th>1</th>\n",
              "      <td>2007-03-22</td>\n",
              "      <td>2007-06-08</td>\n",
              "      <td>18.89</td>\n",
              "      <td>20.04</td>\n",
              "      <td>0.06</td>\n",
              "    </tr>\n",
              "    <tr>\n",
              "      <th>2</th>\n",
              "      <td>2007-06-15</td>\n",
              "      <td>2007-07-27</td>\n",
              "      <td>21.59</td>\n",
              "      <td>21.58</td>\n",
              "      <td>-0.00</td>\n",
              "    </tr>\n",
              "    <tr>\n",
              "      <th>3</th>\n",
              "      <td>2007-08-30</td>\n",
              "      <td>2007-11-08</td>\n",
              "      <td>21.26</td>\n",
              "      <td>22.90</td>\n",
              "      <td>0.08</td>\n",
              "    </tr>\n",
              "    <tr>\n",
              "      <th>4</th>\n",
              "      <td>2007-12-07</td>\n",
              "      <td>2008-01-03</td>\n",
              "      <td>22.49</td>\n",
              "      <td>20.63</td>\n",
              "      <td>-0.08</td>\n",
              "    </tr>\n",
              "    <tr>\n",
              "      <th>...</th>\n",
              "      <td>...</td>\n",
              "      <td>...</td>\n",
              "      <td>...</td>\n",
              "      <td>...</td>\n",
              "      <td>...</td>\n",
              "    </tr>\n",
              "    <tr>\n",
              "      <th>57</th>\n",
              "      <td>2021-03-16</td>\n",
              "      <td>2021-05-11</td>\n",
              "      <td>598.20</td>\n",
              "      <td>591.20</td>\n",
              "      <td>-0.01</td>\n",
              "    </tr>\n",
              "    <tr>\n",
              "      <th>58</th>\n",
              "      <td>2021-06-09</td>\n",
              "      <td>2021-08-30</td>\n",
              "      <td>635.80</td>\n",
              "      <td>830.80</td>\n",
              "      <td>0.31</td>\n",
              "    </tr>\n",
              "    <tr>\n",
              "      <th>59</th>\n",
              "      <td>2021-10-18</td>\n",
              "      <td>2021-11-26</td>\n",
              "      <td>802.90</td>\n",
              "      <td>918.40</td>\n",
              "      <td>0.14</td>\n",
              "    </tr>\n",
              "    <tr>\n",
              "      <th>60</th>\n",
              "      <td>2021-12-27</td>\n",
              "      <td>2022-01-07</td>\n",
              "      <td>962.10</td>\n",
              "      <td>857.60</td>\n",
              "      <td>-0.11</td>\n",
              "    </tr>\n",
              "    <tr>\n",
              "      <th>61</th>\n",
              "      <td>2022-03-22</td>\n",
              "      <td>2022-03-25</td>\n",
              "      <td>755.10</td>\n",
              "      <td>762.40</td>\n",
              "      <td>0.01</td>\n",
              "    </tr>\n",
              "  </tbody>\n",
              "</table>\n",
              "<p>62 rows × 5 columns</p>\n",
              "</div>\n",
              "      <button class=\"colab-df-convert\" onclick=\"convertToInteractive('df-f6118640-08d3-4473-a6ef-26728e081a78')\"\n",
              "              title=\"Convert this dataframe to an interactive table.\"\n",
              "              style=\"display:none;\">\n",
              "        \n",
              "  <svg xmlns=\"http://www.w3.org/2000/svg\" height=\"24px\"viewBox=\"0 0 24 24\"\n",
              "       width=\"24px\">\n",
              "    <path d=\"M0 0h24v24H0V0z\" fill=\"none\"/>\n",
              "    <path d=\"M18.56 5.44l.94 2.06.94-2.06 2.06-.94-2.06-.94-.94-2.06-.94 2.06-2.06.94zm-11 1L8.5 8.5l.94-2.06 2.06-.94-2.06-.94L8.5 2.5l-.94 2.06-2.06.94zm10 10l.94 2.06.94-2.06 2.06-.94-2.06-.94-.94-2.06-.94 2.06-2.06.94z\"/><path d=\"M17.41 7.96l-1.37-1.37c-.4-.4-.92-.59-1.43-.59-.52 0-1.04.2-1.43.59L10.3 9.45l-7.72 7.72c-.78.78-.78 2.05 0 2.83L4 21.41c.39.39.9.59 1.41.59.51 0 1.02-.2 1.41-.59l7.78-7.78 2.81-2.81c.8-.78.8-2.07 0-2.86zM5.41 20L4 18.59l7.72-7.72 1.47 1.35L5.41 20z\"/>\n",
              "  </svg>\n",
              "      </button>\n",
              "      \n",
              "  <style>\n",
              "    .colab-df-container {\n",
              "      display:flex;\n",
              "      flex-wrap:wrap;\n",
              "      gap: 12px;\n",
              "    }\n",
              "\n",
              "    .colab-df-convert {\n",
              "      background-color: #E8F0FE;\n",
              "      border: none;\n",
              "      border-radius: 50%;\n",
              "      cursor: pointer;\n",
              "      display: none;\n",
              "      fill: #1967D2;\n",
              "      height: 32px;\n",
              "      padding: 0 0 0 0;\n",
              "      width: 32px;\n",
              "    }\n",
              "\n",
              "    .colab-df-convert:hover {\n",
              "      background-color: #E2EBFA;\n",
              "      box-shadow: 0px 1px 2px rgba(60, 64, 67, 0.3), 0px 1px 3px 1px rgba(60, 64, 67, 0.15);\n",
              "      fill: #174EA6;\n",
              "    }\n",
              "\n",
              "    [theme=dark] .colab-df-convert {\n",
              "      background-color: #3B4455;\n",
              "      fill: #D2E3FC;\n",
              "    }\n",
              "\n",
              "    [theme=dark] .colab-df-convert:hover {\n",
              "      background-color: #434B5C;\n",
              "      box-shadow: 0px 1px 3px 1px rgba(0, 0, 0, 0.15);\n",
              "      filter: drop-shadow(0px 1px 2px rgba(0, 0, 0, 0.3));\n",
              "      fill: #FFFFFF;\n",
              "    }\n",
              "  </style>\n",
              "\n",
              "      <script>\n",
              "        const buttonEl =\n",
              "          document.querySelector('#df-f6118640-08d3-4473-a6ef-26728e081a78 button.colab-df-convert');\n",
              "        buttonEl.style.display =\n",
              "          google.colab.kernel.accessAllowed ? 'block' : 'none';\n",
              "\n",
              "        async function convertToInteractive(key) {\n",
              "          const element = document.querySelector('#df-f6118640-08d3-4473-a6ef-26728e081a78');\n",
              "          const dataTable =\n",
              "            await google.colab.kernel.invokeFunction('convertToInteractive',\n",
              "                                                     [key], {});\n",
              "          if (!dataTable) return;\n",
              "\n",
              "          const docLinkHtml = 'Like what you see? Visit the ' +\n",
              "            '<a target=\"_blank\" href=https://colab.research.google.com/notebooks/data_table.ipynb>data table notebook</a>'\n",
              "            + ' to learn more about interactive tables.';\n",
              "          element.innerHTML = '';\n",
              "          dataTable['output_type'] = 'display_data';\n",
              "          await google.colab.output.renderOutput(dataTable, element);\n",
              "          const docLink = document.createElement('div');\n",
              "          docLink.innerHTML = docLinkHtml;\n",
              "          element.appendChild(docLink);\n",
              "        }\n",
              "      </script>\n",
              "    </div>\n",
              "  </div>\n",
              "  "
            ]
          },
          "metadata": {},
          "execution_count": 90
        }
      ]
    },
    {
      "cell_type": "code",
      "source": [
        "# Vérification du bon déroulé de la fonction\n",
        "profit_factors = calc_profit_factors(df_perf_verif, WR_ratio)\n",
        "print(profit_factors[0])\n",
        "print(profit_factors[1])"
      ],
      "metadata": {
        "colab": {
          "base_uri": "https://localhost:8080/"
        },
        "id": "yLcvO_1uCmSQ",
        "outputId": "c07fd5fb-fa1e-41ce-c1a6-cbc8560ff4b7"
      },
      "execution_count": null,
      "outputs": [
        {
          "output_type": "stream",
          "name": "stdout",
          "text": [
            "4.03\n",
            "4.06\n"
          ]
        }
      ]
    },
    {
      "cell_type": "code",
      "source": [
        ""
      ],
      "metadata": {
        "id": "sOtLXkLtDVFK"
      },
      "execution_count": null,
      "outputs": []
    }
  ]
}