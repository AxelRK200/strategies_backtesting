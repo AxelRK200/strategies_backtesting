{
  "nbformat": 4,
  "nbformat_minor": 0,
  "metadata": {
    "colab": {
      "provenance": [],
      "collapsed_sections": [
        "J3HFB0dMU5gZ",
        "AHUieIds5BiL",
        "pTBQpw9u2Fzo",
        "XxWuUYApKXyq",
        "bJUTIaxyVz6B",
        "EbCqhjaFcBXo",
        "rYMgPLFf-WVU",
        "E3TtPoWKJZry"
      ],
      "authorship_tag": "ABX9TyPS83f6yXgj3g53Goi9aN9L"
    },
    "kernelspec": {
      "name": "python3",
      "display_name": "Python 3"
    },
    "language_info": {
      "name": "python"
    }
  },
  "cells": [
    {
      "cell_type": "code",
      "execution_count": 1,
      "metadata": {
        "colab": {
          "base_uri": "https://localhost:8080/"
        },
        "id": "zBmBOQsuwH4e",
        "outputId": "ef839268-884d-44a3-b1dc-db492ea84dc5"
      },
      "outputs": [
        {
          "output_type": "stream",
          "name": "stdout",
          "text": [
            "Looking in indexes: https://pypi.org/simple, https://us-python.pkg.dev/colab-wheels/public/simple/\n",
            "Requirement already satisfied: yfinance in /usr/local/lib/python3.10/dist-packages (0.2.18)\n",
            "Requirement already satisfied: ta in /usr/local/lib/python3.10/dist-packages (0.10.2)\n",
            "Requirement already satisfied: html5lib>=1.1 in /usr/local/lib/python3.10/dist-packages (from yfinance) (1.1)\n",
            "Requirement already satisfied: pandas>=1.3.0 in /usr/local/lib/python3.10/dist-packages (from yfinance) (1.5.3)\n",
            "Requirement already satisfied: appdirs>=1.4.4 in /usr/local/lib/python3.10/dist-packages (from yfinance) (1.4.4)\n",
            "Requirement already satisfied: beautifulsoup4>=4.11.1 in /usr/local/lib/python3.10/dist-packages (from yfinance) (4.11.2)\n",
            "Requirement already satisfied: frozendict>=2.3.4 in /usr/local/lib/python3.10/dist-packages (from yfinance) (2.3.7)\n",
            "Requirement already satisfied: requests>=2.26 in /usr/local/lib/python3.10/dist-packages (from yfinance) (2.27.1)\n",
            "Requirement already satisfied: pytz>=2022.5 in /usr/local/lib/python3.10/dist-packages (from yfinance) (2022.7.1)\n",
            "Requirement already satisfied: multitasking>=0.0.7 in /usr/local/lib/python3.10/dist-packages (from yfinance) (0.0.11)\n",
            "Requirement already satisfied: lxml>=4.9.1 in /usr/local/lib/python3.10/dist-packages (from yfinance) (4.9.2)\n",
            "Requirement already satisfied: cryptography>=3.3.2 in /usr/local/lib/python3.10/dist-packages (from yfinance) (40.0.2)\n",
            "Requirement already satisfied: numpy>=1.16.5 in /usr/local/lib/python3.10/dist-packages (from yfinance) (1.22.4)\n",
            "Requirement already satisfied: soupsieve>1.2 in /usr/local/lib/python3.10/dist-packages (from beautifulsoup4>=4.11.1->yfinance) (2.4.1)\n",
            "Requirement already satisfied: cffi>=1.12 in /usr/local/lib/python3.10/dist-packages (from cryptography>=3.3.2->yfinance) (1.15.1)\n",
            "Requirement already satisfied: webencodings in /usr/local/lib/python3.10/dist-packages (from html5lib>=1.1->yfinance) (0.5.1)\n",
            "Requirement already satisfied: six>=1.9 in /usr/local/lib/python3.10/dist-packages (from html5lib>=1.1->yfinance) (1.16.0)\n",
            "Requirement already satisfied: python-dateutil>=2.8.1 in /usr/local/lib/python3.10/dist-packages (from pandas>=1.3.0->yfinance) (2.8.2)\n",
            "Requirement already satisfied: charset-normalizer~=2.0.0 in /usr/local/lib/python3.10/dist-packages (from requests>=2.26->yfinance) (2.0.12)\n",
            "Requirement already satisfied: certifi>=2017.4.17 in /usr/local/lib/python3.10/dist-packages (from requests>=2.26->yfinance) (2022.12.7)\n",
            "Requirement already satisfied: urllib3<1.27,>=1.21.1 in /usr/local/lib/python3.10/dist-packages (from requests>=2.26->yfinance) (1.26.15)\n",
            "Requirement already satisfied: idna<4,>=2.5 in /usr/local/lib/python3.10/dist-packages (from requests>=2.26->yfinance) (3.4)\n",
            "Requirement already satisfied: pycparser in /usr/local/lib/python3.10/dist-packages (from cffi>=1.12->cryptography>=3.3.2->yfinance) (2.21)\n"
          ]
        }
      ],
      "source": [
        "!pip install yfinance ta"
      ]
    },
    {
      "cell_type": "code",
      "source": [
        "import pandas as pd, numpy as np\n",
        "import itertools\n",
        "import seaborn as sns\n",
        "import yfinance as yf\n",
        "\n",
        "from copy import copy\n",
        "import statistics as stats\n",
        "import math\n",
        "from functools import reduce\n",
        "\n",
        "from ta.volume import MFIIndicator\n",
        "from ta.volatility import AverageTrueRange\n",
        "from ta.trend import STCIndicator\n",
        "from ta.trend import EMAIndicator"
      ],
      "metadata": {
        "id": "QKr9IKYRwpbC"
      },
      "execution_count": 2,
      "outputs": []
    },
    {
      "cell_type": "markdown",
      "source": [
        "# Génération du fichier source\n"
      ],
      "metadata": {
        "id": "J3HFB0dMU5gZ"
      }
    },
    {
      "cell_type": "code",
      "source": [
        "ndx = yf.Ticker(\"^NDX\")\n",
        "df_historical_data = ndx.history(interval=\"1d\", period=\"max\")\n",
        "df_historical_data.drop(columns=[\"Dividends\",\"Stock Splits\"], inplace=True)\n",
        "df_historical_data.reset_index(inplace=True)"
      ],
      "metadata": {
        "id": "TRGojZzEU4D9"
      },
      "execution_count": 3,
      "outputs": []
    },
    {
      "cell_type": "code",
      "source": [
        "# Test si aucune ligne manquante\n",
        "test_list = [champ == 0 for champ in df_historical_data.isnull().sum()]\n",
        "\n",
        "# Si toutes les colonnes sont True, résultat = True\n",
        "notnull = all(i for i in test_list)\n",
        "print(\"Aucune ligne vide détectée, pour l'ensemble des colonnes : \", notnull)"
      ],
      "metadata": {
        "colab": {
          "base_uri": "https://localhost:8080/"
        },
        "id": "ecBhrvulVWmm",
        "outputId": "19139448-74f3-4f0c-800a-73a5fe50fe5d"
      },
      "execution_count": 4,
      "outputs": [
        {
          "output_type": "stream",
          "name": "stdout",
          "text": [
            "Aucune ligne vide détectée, pour l'ensemble des colonnes :  True\n"
          ]
        }
      ]
    },
    {
      "cell_type": "code",
      "source": [
        "df_historical_data[\"Open\"] = df_historical_data.Open.apply(lambda x: round(x,2))\n",
        "df_historical_data[\"High\"] = df_historical_data.High.apply(lambda x: round(x,2))\n",
        "df_historical_data[\"Low\"] = df_historical_data.Low.apply(lambda x: round(x,2))\n",
        "df_historical_data[\"Close\"] = df_historical_data.Close.apply(lambda x: round(x,2))"
      ],
      "metadata": {
        "id": "_8f2OCnYykoW"
      },
      "execution_count": 5,
      "outputs": []
    },
    {
      "cell_type": "code",
      "source": [
        "df_historical_data.tail(1)"
      ],
      "metadata": {
        "colab": {
          "base_uri": "https://localhost:8080/",
          "height": 0
        },
        "id": "XF7mNsSXVfbK",
        "outputId": "f415bb3d-221f-46b4-ab81-979db6a4304d"
      },
      "execution_count": 6,
      "outputs": [
        {
          "output_type": "execute_result",
          "data": {
            "text/plain": [
              "                          Date     Open      High       Low     Close  \\\n",
              "9474 2023-05-04 00:00:00-04:00  13014.1  13064.02  12938.45  12982.48   \n",
              "\n",
              "         Volume  \n",
              "9474  930334883  "
            ],
            "text/html": [
              "\n",
              "  <div id=\"df-e9f04dfa-8fa7-4c25-a318-e125ba49cdea\">\n",
              "    <div class=\"colab-df-container\">\n",
              "      <div>\n",
              "<style scoped>\n",
              "    .dataframe tbody tr th:only-of-type {\n",
              "        vertical-align: middle;\n",
              "    }\n",
              "\n",
              "    .dataframe tbody tr th {\n",
              "        vertical-align: top;\n",
              "    }\n",
              "\n",
              "    .dataframe thead th {\n",
              "        text-align: right;\n",
              "    }\n",
              "</style>\n",
              "<table border=\"1\" class=\"dataframe\">\n",
              "  <thead>\n",
              "    <tr style=\"text-align: right;\">\n",
              "      <th></th>\n",
              "      <th>Date</th>\n",
              "      <th>Open</th>\n",
              "      <th>High</th>\n",
              "      <th>Low</th>\n",
              "      <th>Close</th>\n",
              "      <th>Volume</th>\n",
              "    </tr>\n",
              "  </thead>\n",
              "  <tbody>\n",
              "    <tr>\n",
              "      <th>9474</th>\n",
              "      <td>2023-05-04 00:00:00-04:00</td>\n",
              "      <td>13014.1</td>\n",
              "      <td>13064.02</td>\n",
              "      <td>12938.45</td>\n",
              "      <td>12982.48</td>\n",
              "      <td>930334883</td>\n",
              "    </tr>\n",
              "  </tbody>\n",
              "</table>\n",
              "</div>\n",
              "      <button class=\"colab-df-convert\" onclick=\"convertToInteractive('df-e9f04dfa-8fa7-4c25-a318-e125ba49cdea')\"\n",
              "              title=\"Convert this dataframe to an interactive table.\"\n",
              "              style=\"display:none;\">\n",
              "        \n",
              "  <svg xmlns=\"http://www.w3.org/2000/svg\" height=\"24px\"viewBox=\"0 0 24 24\"\n",
              "       width=\"24px\">\n",
              "    <path d=\"M0 0h24v24H0V0z\" fill=\"none\"/>\n",
              "    <path d=\"M18.56 5.44l.94 2.06.94-2.06 2.06-.94-2.06-.94-.94-2.06-.94 2.06-2.06.94zm-11 1L8.5 8.5l.94-2.06 2.06-.94-2.06-.94L8.5 2.5l-.94 2.06-2.06.94zm10 10l.94 2.06.94-2.06 2.06-.94-2.06-.94-.94-2.06-.94 2.06-2.06.94z\"/><path d=\"M17.41 7.96l-1.37-1.37c-.4-.4-.92-.59-1.43-.59-.52 0-1.04.2-1.43.59L10.3 9.45l-7.72 7.72c-.78.78-.78 2.05 0 2.83L4 21.41c.39.39.9.59 1.41.59.51 0 1.02-.2 1.41-.59l7.78-7.78 2.81-2.81c.8-.78.8-2.07 0-2.86zM5.41 20L4 18.59l7.72-7.72 1.47 1.35L5.41 20z\"/>\n",
              "  </svg>\n",
              "      </button>\n",
              "      \n",
              "  <style>\n",
              "    .colab-df-container {\n",
              "      display:flex;\n",
              "      flex-wrap:wrap;\n",
              "      gap: 12px;\n",
              "    }\n",
              "\n",
              "    .colab-df-convert {\n",
              "      background-color: #E8F0FE;\n",
              "      border: none;\n",
              "      border-radius: 50%;\n",
              "      cursor: pointer;\n",
              "      display: none;\n",
              "      fill: #1967D2;\n",
              "      height: 32px;\n",
              "      padding: 0 0 0 0;\n",
              "      width: 32px;\n",
              "    }\n",
              "\n",
              "    .colab-df-convert:hover {\n",
              "      background-color: #E2EBFA;\n",
              "      box-shadow: 0px 1px 2px rgba(60, 64, 67, 0.3), 0px 1px 3px 1px rgba(60, 64, 67, 0.15);\n",
              "      fill: #174EA6;\n",
              "    }\n",
              "\n",
              "    [theme=dark] .colab-df-convert {\n",
              "      background-color: #3B4455;\n",
              "      fill: #D2E3FC;\n",
              "    }\n",
              "\n",
              "    [theme=dark] .colab-df-convert:hover {\n",
              "      background-color: #434B5C;\n",
              "      box-shadow: 0px 1px 3px 1px rgba(0, 0, 0, 0.15);\n",
              "      filter: drop-shadow(0px 1px 2px rgba(0, 0, 0, 0.3));\n",
              "      fill: #FFFFFF;\n",
              "    }\n",
              "  </style>\n",
              "\n",
              "      <script>\n",
              "        const buttonEl =\n",
              "          document.querySelector('#df-e9f04dfa-8fa7-4c25-a318-e125ba49cdea button.colab-df-convert');\n",
              "        buttonEl.style.display =\n",
              "          google.colab.kernel.accessAllowed ? 'block' : 'none';\n",
              "\n",
              "        async function convertToInteractive(key) {\n",
              "          const element = document.querySelector('#df-e9f04dfa-8fa7-4c25-a318-e125ba49cdea');\n",
              "          const dataTable =\n",
              "            await google.colab.kernel.invokeFunction('convertToInteractive',\n",
              "                                                     [key], {});\n",
              "          if (!dataTable) return;\n",
              "\n",
              "          const docLinkHtml = 'Like what you see? Visit the ' +\n",
              "            '<a target=\"_blank\" href=https://colab.research.google.com/notebooks/data_table.ipynb>data table notebook</a>'\n",
              "            + ' to learn more about interactive tables.';\n",
              "          element.innerHTML = '';\n",
              "          dataTable['output_type'] = 'display_data';\n",
              "          await google.colab.output.renderOutput(dataTable, element);\n",
              "          const docLink = document.createElement('div');\n",
              "          docLink.innerHTML = docLinkHtml;\n",
              "          element.appendChild(docLink);\n",
              "        }\n",
              "      </script>\n",
              "    </div>\n",
              "  </div>\n",
              "  "
            ]
          },
          "metadata": {},
          "execution_count": 6
        }
      ]
    },
    {
      "cell_type": "code",
      "source": [
        "df_historical_data.dtypes"
      ],
      "metadata": {
        "colab": {
          "base_uri": "https://localhost:8080/"
        },
        "id": "FjsWbKF3Vr2c",
        "outputId": "5c3c64fc-5270-4c8f-9b14-653c004a0b6d"
      },
      "execution_count": 7,
      "outputs": [
        {
          "output_type": "execute_result",
          "data": {
            "text/plain": [
              "Date      datetime64[ns, America/New_York]\n",
              "Open                               float64\n",
              "High                               float64\n",
              "Low                                float64\n",
              "Close                              float64\n",
              "Volume                               int64\n",
              "dtype: object"
            ]
          },
          "metadata": {},
          "execution_count": 7
        }
      ]
    },
    {
      "cell_type": "markdown",
      "source": [
        "# Génération des combinaisons de paramètres"
      ],
      "metadata": {
        "id": "AHUieIds5BiL"
      }
    },
    {
      "cell_type": "code",
      "source": [
        "l_ema = [e for e in range(40,88,2)]\n",
        "l_AT_period = [p for p in range(4,42,2)]\n",
        "l_STC_length = [l for l in range(98,132,2)]\n",
        "l_STC_slow = [s for s in range(98,132,2)]"
      ],
      "metadata": {
        "id": "ntyp-ToP5A76"
      },
      "execution_count": 8,
      "outputs": []
    },
    {
      "cell_type": "code",
      "source": [
        "all_params = [l_ema, l_AT_period, l_STC_length, l_STC_slow]"
      ],
      "metadata": {
        "id": "aqd7tS915QZh"
      },
      "execution_count": 9,
      "outputs": []
    },
    {
      "cell_type": "code",
      "source": [
        "combinaisons = list(itertools.product(*all_params))"
      ],
      "metadata": {
        "id": "QEFrL5Ep5Qpy"
      },
      "execution_count": 10,
      "outputs": []
    },
    {
      "cell_type": "code",
      "source": [
        "print(\"Le nombre de combinaisons possibles est : \",len(combinaisons))"
      ],
      "metadata": {
        "colab": {
          "base_uri": "https://localhost:8080/"
        },
        "id": "ZRJ1Ohdl5ami",
        "outputId": "9b791d40-0285-4cb2-e771-aaf3e1dc392b"
      },
      "execution_count": 11,
      "outputs": [
        {
          "output_type": "stream",
          "name": "stdout",
          "text": [
            "Le nombre de combinaisons possibles est :  131784\n"
          ]
        }
      ]
    },
    {
      "cell_type": "markdown",
      "source": [
        "# Fonctions"
      ],
      "metadata": {
        "id": "pTBQpw9u2Fzo"
      }
    },
    {
      "cell_type": "markdown",
      "source": [
        "## Indicateurs Techniques"
      ],
      "metadata": {
        "id": "XxWuUYApKXyq"
      }
    },
    {
      "cell_type": "markdown",
      "source": [
        "#### Alphatrend"
      ],
      "metadata": {
        "id": "bJUTIaxyVz6B"
      }
    },
    {
      "cell_type": "code",
      "source": [
        "# Trend indicator, équivalent de l'affichage couleur\n",
        "def trend_indicator(trend):\n",
        "    if trend > 0 :\n",
        "        # Uptrend\n",
        "        x = 1\n",
        "    elif trend < 0 :\n",
        "        # Downtrend\n",
        "        x = -1\n",
        "    else :\n",
        "        # Range\n",
        "        x = 0\n",
        "    return x"
      ],
      "metadata": {
        "id": "W53ner8PX6Ay"
      },
      "execution_count": 12,
      "outputs": []
    },
    {
      "cell_type": "code",
      "source": [
        "# Defintion fonction\n",
        "def generate_alphatrend(df_in, mfi_p, mfi_seuil, atr_l, m):\n",
        "    '''Paramètres d'entrée : longueur MFI, longueur ATR, multiplier\n",
        "    Retourne les colonnes Alphatrend, Alphatrend +2, Trend (position AT1 / AT2)\n",
        "    :mfi_p = période MFI servant à délimiter up/down de l'alphatrend\n",
        "    :mfi_seuil = période MFI pour recherche crossover, détermine uptrend ou downtrend'''\n",
        "\n",
        "    df = df_in.copy()\n",
        "\n",
        "    # Colonnes MFI\n",
        "    s_mfi = MFIIndicator(high=df.High, low=df.Low, close=df.Close, volume=df.Volume, window=mfi_p).money_flow_index()\n",
        "    df[\"MFI_ref\"] = s_mfi\n",
        "\n",
        "    # Colonne ATR\n",
        "    s_atr = AverageTrueRange(high=df.High, low=df.Low, close=df.Close, window=atr_l).average_true_range()\n",
        "    df[\"ATR\"] = s_atr\n",
        "\n",
        "    # Lignes UpT et DownT\n",
        "    df[\"UpT_support\"] = df[\"Low\"] - df[\"ATR\"] * m\n",
        "    df[\"DownT_support\"] = df[\"High\"] + df[\"ATR\"] * m\n",
        "\n",
        "    # Suppression des lignes sans signal, en début de DataFrame\n",
        "    df.dropna(inplace=True)\n",
        "    df.reset_index(drop=True, inplace=True)\n",
        "\n",
        "    # ===============================================\n",
        "    # Calcul Alphatrend, en tant que série\n",
        "    \n",
        "    Alphatrend = [0]\n",
        "\n",
        "    for i in range (1, df.shape[0]):\n",
        "        # Cas Uptrend\n",
        "        if df.at[i,\"MFI_ref\"] >= mfi_seuil :\n",
        "            if df.at[i,\"UpT_support\"] < Alphatrend[-1] :\n",
        "                # Flat\n",
        "                Alphatrend.append(Alphatrend[-1])\n",
        "            else :\n",
        "                # Trailing stop loss Up\n",
        "                Alphatrend.append(df.at[i,\"UpT_support\"])\n",
        "\n",
        "        # Cas Downtrend, MFI < 50\n",
        "        else :\n",
        "            if df.at[i,\"DownT_support\"] > Alphatrend[-1] :\n",
        "                # Flat\n",
        "                Alphatrend.append(Alphatrend[-1])\n",
        "            else :\n",
        "                # Trailing stop loss Down\n",
        "                Alphatrend.append(df.at[i,\"DownT_support\"])\n",
        "\n",
        "    # ===============================================\n",
        "    # Ajout des lignes k1 et k2 en tant que colonnes\n",
        "    \n",
        "    if df.shape[0] == len(Alphatrend):\n",
        "        df[\"Alphatrend_k1\"] = pd.Series(Alphatrend).apply(lambda x: round(x,2))\n",
        "        # Ligne k2 décalée de 2j\n",
        "        Alphatrend2 = df[\"Alphatrend_k1\"].shift(periods=2, fill_value=0)\n",
        "        df[\"Alphatrend_k2\"] = pd.Series(Alphatrend2).apply(lambda x: round(x,2))\n",
        "        # Trend\n",
        "        df[\"Trend\"] = df.Alphatrend_k1 - df.Alphatrend_k2\n",
        "        df[\"Trend\"] = df[\"Trend\"].apply(trend_indicator)\n",
        "    else :\n",
        "        print(\"Erreur lors de la génération des lignes Alphatrend\")\n",
        "\n",
        "    # ===============================================\n",
        "    # Génération des signaux Achat / Vente\n",
        "\n",
        "    # On isole tous les index non neutres, où AT1 != AT2, à la hausse (1) comme à la baisse (-1)\n",
        "    s_trend = df[\"Trend\"].loc[df[\"Trend\"]!=0]\n",
        "    s_trend_diff = s_trend - s_trend.shift(1)\n",
        "\n",
        "    buy_signal_indexes = s_trend_diff[s_trend_diff == 2].index\n",
        "    sell_signal_indexes = s_trend_diff[s_trend_diff == -2].index\n",
        "\n",
        "    df[\"Signal\"] = 0\n",
        "    df.loc[buy_signal_indexes,\"Signal\"] = 1\n",
        "    df.loc[sell_signal_indexes,\"Signal\"] = -1\n",
        "\n",
        "    # ===============================================\n",
        "    # Sélection des colonnes suffisantes\n",
        "    df = df[[\"Date\",\"Alphatrend_k1\",\"Alphatrend_k2\",\"Trend\",\"Signal\"]]\n",
        "    \n",
        "    return df"
      ],
      "metadata": {
        "id": "Wm2pANWHVvw6"
      },
      "execution_count": 13,
      "outputs": []
    },
    {
      "cell_type": "markdown",
      "source": [
        "#### STC & EMA"
      ],
      "metadata": {
        "id": "EbCqhjaFcBXo"
      }
    },
    {
      "cell_type": "code",
      "source": [
        "def generate_STC_and_EMA(df_in, stc_length, fast_length, slow_length, ema_period):\n",
        "  \n",
        "  df = df_in[[\"Date\",\"Close\"]].copy()\n",
        "\n",
        "  s_stc = STCIndicator(close=df.Close, window_slow=slow_length, window_fast=fast_length, cycle=stc_length).stc()\n",
        "  s_ema = EMAIndicator(close=df.Close, window=ema_period).ema_indicator()\n",
        "\n",
        "  df[\"STC\"] = round(s_stc,2)\n",
        "  df[\"EMA\"] = round(s_ema,2)\n",
        "\n",
        "  df.drop(columns=[\"Close\"], inplace=True)\n",
        "\n",
        "  return df"
      ],
      "metadata": {
        "id": "Kr56pqQgdycS"
      },
      "execution_count": 14,
      "outputs": []
    },
    {
      "cell_type": "markdown",
      "source": [
        "#### ATR sortie & Merge tous indicateurs techniques"
      ],
      "metadata": {
        "id": "rYMgPLFf-WVU"
      }
    },
    {
      "cell_type": "code",
      "source": [
        "def merge_technical_indicators(df_in, atr_l, df1, df2, date_min=\"1998-01-01\"):\n",
        "  ''' Fusionne les DataFrames d'indicateurs techniques, \n",
        "  ajoute également date_min au format 'yyyy-mm-dd' pour fixer le début du Backtesting'''\n",
        "\n",
        "  df_essentials = df_in.copy()\n",
        "\n",
        "  # Ajout de la colonne ATR qui servira plus tard dans le calcul de la sortie.\n",
        "  s_atr = AverageTrueRange(high=df_essentials.High, low=df_essentials.Low, close=df_essentials.Close, window=atr_l).average_true_range()\n",
        "  df_essentials[\"ATR\"] = pd.Series(s_atr).apply(lambda x: round(x,2))\n",
        "  \n",
        "  # Réduction au strict nécessaire pour les colonnes\n",
        "  df_essentials = df_essentials[[\"Date\",\"Open\",\"Close\",\"ATR\"]].copy()\n",
        "\n",
        "  # Merge des 3\n",
        "  data_frames = [df_essentials, df1, df2]\n",
        "  df_merged = reduce(lambda  left,right: pd.merge(left,right, on=['Date'], how='left'), data_frames)\n",
        "\n",
        "  # Réduction de la fenêtre de tests à partir de la date_min\n",
        "  df_merged = df_merged.loc[df_merged[\"Date\"] >= date_min]\n",
        "\n",
        "  df_merged.reset_index(drop=True,inplace=True)\n",
        "\n",
        "  return df_merged\n"
      ],
      "metadata": {
        "id": "EGM8g_il2CNh"
      },
      "execution_count": 15,
      "outputs": []
    },
    {
      "cell_type": "markdown",
      "source": [
        "## Entrées / Sorties "
      ],
      "metadata": {
        "id": "u35LtIZtKcBh"
      }
    },
    {
      "cell_type": "markdown",
      "source": [
        "#### Détection des entrées"
      ],
      "metadata": {
        "id": "9qXkxVTCJg2Q"
      }
    },
    {
      "cell_type": "markdown",
      "source": [
        "Stratégie :<br>\n",
        "<li>Entreée : Buy signal + Prix > EMA + STC < seuil(25)</li>\n",
        "<li>Sortie : Sell signal + Prix < EMA + STC > seuil(75)</li>"
      ],
      "metadata": {
        "id": "RWCU9QZoQ1u-"
      }
    },
    {
      "cell_type": "code",
      "source": [],
      "metadata": {
        "id": "Rio7tdwmJeLr"
      },
      "execution_count": 15,
      "outputs": []
    },
    {
      "cell_type": "markdown",
      "source": [
        "#### Sorties, valeurs & aggrégation"
      ],
      "metadata": {
        "id": "E3TtPoWKJZry"
      }
    },
    {
      "cell_type": "code",
      "source": [
        "def generate_exit_vars(df_in, entry_index, atr_sl, rr_ratio):\n",
        "  ''' Obtient l'Open de l'index d'entrée.\n",
        "  Puis génère la valeur du Stop Loss et Take Profit'''\n",
        "\n",
        "  df = df_in.copy()\n",
        "\n",
        "  valeur_entree = df.at[entry_index,\"Open\"]\n",
        "  date_entree = df.at[entry_index,\"Date\"]\n",
        "  atr_reference = df.at[entry_index,\"ATR\"]\n",
        "\n",
        "  stop_loss = valeur_entree + atr_sl * atr_reference\n",
        "  take_profit = valeur_entree - rr_ratio * (atr_sl * atr_reference)\n",
        "\n",
        "  return date_entree, valeur_entree, stop_loss, take_profit"
      ],
      "metadata": {
        "id": "EF8YaZmfJr4V"
      },
      "execution_count": 16,
      "outputs": []
    },
    {
      "cell_type": "code",
      "source": [
        "def return_SL_or_TP_index(df_in, entry_index, stop_loss, take_profit) :\n",
        "  '''Serie des valeurs close entre entrée et fin du DataFrame.\n",
        "  Si Close > Stop loss, dans le cas d'un Short, alors touché.\n",
        "  On cherche alors l'index de la première valeur >=0, si il existe'''\n",
        "\n",
        "  df = df_in.copy()\n",
        "\n",
        "  last_line = max(df.index)\n",
        "\n",
        "  # Recherche index Stop Loss, ou index dernière ligne df\n",
        "  close_series = (df.loc[entry_index:last_line,\"Close\"] - stop_loss) >= 0\n",
        "  if len(close_series[ close_series == True ]) > 0 :\n",
        "    sl_index = close_series[ close_series == True ].index[0]\n",
        "  else :\n",
        "    # Pour la dernière entrée, si rien n'est touché, alors la dernière ligne fera office de sortie\n",
        "    sl_index = max(df.index)\n",
        "\n",
        "  # Recherche indexTake Profit\n",
        "  close_series = (take_profit - df.loc[entry_index:last_line,\"Close\"]) >= 0\n",
        "  if len(close_series[ close_series == True ]) > 0 :\n",
        "    tp_index = close_series[ close_series == True ].index[0]\n",
        "  else :\n",
        "    tp_index = max(df.index)\n",
        " \n",
        "  # Sélection du 1er index touché : Stop Loss ou Take Profit\n",
        "  lowest_index = min(sl_index, tp_index)\n",
        "  \n",
        "  # Pointeur des valeurs Date sortie & Prix de clôture dans le DataFrame indicateurs techniques\n",
        "  exit_date = df.at[lowest_index,\"Date\"]\n",
        "  exit_value = df.at[lowest_index,\"Close\"]\n",
        "\n",
        "  return exit_date, exit_value"
      ],
      "metadata": {
        "id": "heaKiQ7LKzf5"
      },
      "execution_count": 17,
      "outputs": []
    },
    {
      "cell_type": "code",
      "source": [],
      "metadata": {
        "id": "lGVwwuphH5CV"
      },
      "execution_count": 17,
      "outputs": []
    },
    {
      "cell_type": "markdown",
      "source": [
        "# Strategy as Class"
      ],
      "metadata": {
        "id": "IPtvYjEzzM9s"
      }
    },
    {
      "cell_type": "code",
      "source": [
        "class Strat_AT_STC_EMA:\n",
        "  \n",
        "  def __init__(self, p_ema=200, p_AT_m=1, p_AT_l=14, p_AT_mfi_l = 14, p_AT_mfi_s = 50, p_STC_l=80, p_STC_slow_l=50, p_STC_fast_l=27, p_STC_b=25, p_STC_h=75, p_ATR_SL_l = 14, p_ATR_SL = 2, p_RR_ratio = 3, p_leverage=1):\n",
        "    self.ema_l = p_ema\n",
        "    self.at_m = p_AT_m\n",
        "    self.at_l = p_AT_l\n",
        "    self.at_mfi_l = p_AT_mfi_l\n",
        "    self.at_mfi_s = p_AT_mfi_s\n",
        "    self.stc_l = p_STC_l\n",
        "    self.stc_s_l = p_STC_slow_l\n",
        "    self.stc_f_l = p_STC_fast_l\n",
        "    self.stc_seuil_b = p_STC_b\n",
        "    self.stc_seuil_h = p_STC_h\n",
        "    self.ATR_SL_l = p_ATR_SL_l\n",
        "    self.ATR_SL = p_ATR_SL\n",
        "    self.RR_ratio = p_RR_ratio\n",
        "    self.leverage = p_leverage\n",
        "\n",
        "  \n",
        "  def make_technical_indicators(self, df_source):\n",
        "    df_AT = generate_alphatrend(df_source, mfi_p=self.at_mfi_l, mfi_seuil=self.at_mfi_s, atr_l=self.at_l, m=self.at_m)\n",
        "    df_STC_EMA = generate_STC_and_EMA(df_source, stc_length=self.stc_l, fast_length=self.stc_f_l, slow_length=self.stc_s_l, ema_period=self.ema_l)\n",
        "    df_Technical_Indicators = merge_technical_indicators(df_source, self.ATR_SL_l, df_AT, df_STC_EMA)\n",
        "    return df_Technical_Indicators\n",
        "\n",
        "\n",
        "  def get_entries_signals(self, df_in):\n",
        "    ''' Nécessite en entrée le DataFrame avec indicateurs techniques.\n",
        "    L'enrichit avec signaux Entrée Long (1) et Entrée Short (-1).'''\n",
        "\n",
        "    df_IT = df_in.copy()\n",
        "\n",
        "    # Valeur 3 pour signaux d'entrée valides\n",
        "    df_IT[\"Buy_entry\"] = np.sign(df_IT.Close - df_IT.EMA) + df_IT.Signal + np.sign(self.stc_seuil_b - df_IT.STC)\n",
        "    # Valeur -3 pour signaux d'entrée valides\n",
        "    # Attention / par deux signaux négatifs -> positif, d'où l'inversion sur un seul champ\n",
        "    df_IT[\"Sell_entry\"] = np.sign(df_IT.Close - df_IT.EMA) + df_IT.Signal + np.sign(self.stc_seuil_h - df_IT.STC)\n",
        "\n",
        "    # Conversion en np array\n",
        "    arr_buy_entry = df_IT[\"Buy_entry\"].to_numpy()\n",
        "    # np.where(condition, vrai, sinon)\n",
        "    df_IT[\"Buy_entry\"] = np.where(arr_buy_entry==3, 1, 0)\n",
        "\n",
        "    arr_sell_entry = df_IT[\"Sell_entry\"].to_numpy()\n",
        "    df_IT[\"Sell_entry\"] = np.where(arr_sell_entry==-3.0, -1, 0)\n",
        "    \n",
        "    # Agrégation des deux types de signaux.\n",
        "    df_IT[\"Entry\"] = df_IT[\"Sell_entry\"] + df_IT[\"Buy_entry\"]\n",
        "    df_IT.drop(columns=[\"Buy_entry\",\"Sell_entry\"], inplace=True)\n",
        "\n",
        "    return df_IT\n",
        "\n",
        "  \n",
        "  def apply_short_strategy(self, df_entries):\n",
        "    ''' Entrée : DataFrame avec indicateurs techniques généré par get_entries_signals\n",
        "    Sortie : DataFrame avec entrée - sortie, valeur & date'''\n",
        "\n",
        "    df = df_entries.copy()\n",
        "    d_entrees_sorties = {\n",
        "        \"date_entree\" : [],\n",
        "        \"valeur_entree\" : [],\n",
        "        \"date_sortie\" : [],\n",
        "        \"valeur_sortie\" : []\n",
        "    }\n",
        "\n",
        "    # Liste des entrées : -1 pour signal Short\n",
        "    short_entries_indexes = df.loc[ df[\"Entry\"]==-1 ].index\n",
        "    # Ajout d'une unité pour entrée le lendemain du signal confirmé et clos\n",
        "    short_entries_indexes += 1\n",
        "    short_entries_indexes = short_entries_indexes.to_list()\n",
        "\n",
        "    # Application des deux fonctions précédentes pour recherche Date + Valeur, d'entrée et sortie\n",
        "    for entry in short_entries_indexes:\n",
        "      # Calcul stop loss, take profit, et stocke Date + Open correspondants à l'index d'entrée passé dans la fonction\n",
        "      entry_date, entry_price, sl, tp = generate_exit_vars(df, entry, self.ATR_SL, self.RR_ratio)\n",
        "      # Détetion de Date + Close de la sortie, identifée avec Take Profit et stop loss trouvés ligne précédente\n",
        "      exit_date, exit_price = return_SL_or_TP_index(df, entry, sl, tp)\n",
        "      \n",
        "      # Ajout des résultats dans le dictionnaire\n",
        "      d_entrees_sorties[\"date_entree\"].append(entry_date)\n",
        "      d_entrees_sorties[\"valeur_entree\"].append(entry_price)\n",
        "      d_entrees_sorties[\"date_sortie\"].append(exit_date)\n",
        "      d_entrees_sorties[\"valeur_sortie\"].append(exit_price)\n",
        "    \n",
        "    df_es = pd.DataFrame(d_entrees_sorties)\n",
        "    return df_es\n",
        "  \n",
        "\n",
        "  def performance_metrics_short(self, df_es):\n",
        "    ''' Sur la base du DataFrame Entrées/Sorties, génère les performances pour chaque trade, l'équity curve base 1000,\n",
        "    le Win Rate, Expectancy Ratio, Expectancy, Profit Factor, Gain & Perte moyenne, et copie l'état des paramètres'''\n",
        "\n",
        "    df = df_es.copy()\n",
        "\n",
        "    # Performance en % pour chaque trade pris (par ligne). Signe - car stratégie Short\n",
        "    s_perf = round( -((df[\"valeur_sortie\"]-df[\"valeur_entree\"])/df[\"valeur_entree\"]), 3)\n",
        "    a_perf = np.array(s_perf)\n",
        "\n",
        "    # Win Rate\n",
        "    count_won = len( a_perf[a_perf > 0] )\n",
        "    count_lost = len(a_perf) - count_won\n",
        "    win_rate = round( count_won/len(a_perf) ,2)\n",
        "\n",
        "    # Reward-to-Risk Ratio X Win Ratio - Loss Ratio = Expectancy Ratio\n",
        "    expectancy_ratio = round( self.RR_ratio * count_won/len(a_perf) - count_lost/len(a_perf) ,2)\n",
        "\n",
        "    # Equity Curve, base 1000\n",
        "    l_perf = s_perf.to_list()\n",
        "    perf_nette_b1000 = [round( (999*(1+x*self.leverage)-1000)*0.99 ,2) for x in l_perf]\n",
        "\n",
        "    # Gain & perte moyenne (arrondi entier)\n",
        "    arr_b1000 = np.array(perf_nette_b1000)\n",
        "    moyenne_gains_nets = int( np.mean(arr_b1000[ arr_b1000>0 ]) )\n",
        "    moyenne_pertes_nettes = int( np.mean(arr_b1000[ arr_b1000<0 ]) )\n",
        "    \n",
        "    # Expectancy (arrondi entier)\n",
        "    expectancy = int( (count_won/len(a_perf) * moyenne_gains_nets) - (count_lost/len(a_perf) * moyenne_pertes_nettes) )\n",
        "\n",
        "    # Profit Factor : sommes des gains / somme des pertes\n",
        "    profit_factor = round( np.sum(arr_b1000[ arr_b1000>0 ]) / np.sum( np.abs(arr_b1000[ arr_b1000<0 ]) ) ,2)\n",
        "\n",
        "    # Tous les attributs de l'object au moment du test\n",
        "    #d_attr = x.__dict__\n",
        "    d_attr = self.__dict__\n",
        "\n",
        "    row = [win_rate, moyenne_gains_nets, moyenne_pertes_nettes, expectancy, expectancy_ratio, profit_factor, perf_nette_b1000, d_attr]\n",
        "    return row"
      ],
      "metadata": {
        "id": "VHR08NixzMaH"
      },
      "execution_count": 30,
      "outputs": []
    },
    {
      "cell_type": "markdown",
      "source": [
        "# Test"
      ],
      "metadata": {
        "id": "4waqtIuFF05S"
      }
    },
    {
      "cell_type": "code",
      "source": [
        "x = Strat_AT_STC_EMA()"
      ],
      "metadata": {
        "id": "2rrSYiE2_Tic"
      },
      "execution_count": 31,
      "outputs": []
    },
    {
      "cell_type": "markdown",
      "source": [
        "#### Comparaison avec notebook backtesting\n",
        "Valeurs pour short :\n",
        "<li> AT multiplier = 0.2</li>\n",
        "<li> AT ATR lenght = 13</li>\n",
        "<li>STC Length = 130</li>\n",
        "<li>STC Fast Length = 25</li>\n",
        "<li>STC Slow Length = 125</li>\n",
        "<li>EMA length = 70</li>"
      ],
      "metadata": {
        "id": "x8D9WxDnSBbj"
      }
    },
    {
      "cell_type": "code",
      "source": [
        "# Mise à jour des paramètres de l'objet\n",
        "x.at_m = 0.2\n",
        "x.at_l = 13\n",
        "x.stc_l = 130\n",
        "x.stc_f_l = 25\n",
        "x.stc_s_l = 125\n",
        "x.ema_l = 70"
      ],
      "metadata": {
        "id": "6CDIf9LQStMT"
      },
      "execution_count": 32,
      "outputs": []
    },
    {
      "cell_type": "code",
      "source": [
        "%time\n",
        "df_indicateurs_techniques = x.make_technical_indicators(df_historical_data)\n",
        "df_signaux = x.get_entries_signals(df_indicateurs_techniques)\n",
        "df_entrees_sorties = x.apply_short_strategy(df_signaux)"
      ],
      "metadata": {
        "colab": {
          "base_uri": "https://localhost:8080/"
        },
        "id": "aOgYsBSFTG2m",
        "outputId": "97df8c90-475a-49f7-f1b9-8adee678b3eb"
      },
      "execution_count": 33,
      "outputs": [
        {
          "output_type": "stream",
          "name": "stdout",
          "text": [
            "CPU times: user 5 µs, sys: 0 ns, total: 5 µs\n",
            "Wall time: 11.7 µs\n"
          ]
        }
      ]
    },
    {
      "cell_type": "code",
      "source": [
        "%time\n",
        "ligne_resultat = x.performance_metrics_short(df_entrees_sorties)"
      ],
      "metadata": {
        "colab": {
          "base_uri": "https://localhost:8080/"
        },
        "id": "HnX0j2nGjX3c",
        "outputId": "fa4c828e-6b69-44f3-cdaa-a4862fe11b74"
      },
      "execution_count": 34,
      "outputs": [
        {
          "output_type": "stream",
          "name": "stdout",
          "text": [
            "CPU times: user 4 µs, sys: 0 ns, total: 4 µs\n",
            "Wall time: 7.63 µs\n"
          ]
        }
      ]
    },
    {
      "cell_type": "code",
      "source": [
        "ligne_resultat"
      ],
      "metadata": {
        "colab": {
          "base_uri": "https://localhost:8080/"
        },
        "id": "GGKG7FE0jYMY",
        "outputId": "6caab473-da33-45cf-c0d1-7da7289fd7e7"
      },
      "execution_count": 35,
      "outputs": [
        {
          "output_type": "execute_result",
          "data": {
            "text/plain": [
              "[0.41,\n",
              " 208,\n",
              " -48,\n",
              " 113,\n",
              " 0.64,\n",
              " 2.98,\n",
              " [305.6,\n",
              "  308.57,\n",
              "  301.65,\n",
              "  259.12,\n",
              "  223.52,\n",
              "  -75.17,\n",
              "  -80.11,\n",
              "  -24.73,\n",
              "  -81.1,\n",
              "  -48.46,\n",
              "  -43.52,\n",
              "  -27.69,\n",
              "  -34.62,\n",
              "  -42.53,\n",
              "  -34.62,\n",
              "  105.82,\n",
              "  -45.5,\n",
              "  85.05,\n",
              "  156.26,\n",
              "  130.55,\n",
              "  -49.45,\n",
              "  -42.53],\n",
              " {'ema_l': 70,\n",
              "  'at_m': 0.2,\n",
              "  'at_l': 13,\n",
              "  'at_mfi_l': 14,\n",
              "  'at_mfi_s': 50,\n",
              "  'stc_l': 130,\n",
              "  'stc_s_l': 125,\n",
              "  'stc_f_l': 25,\n",
              "  'stc_seuil_b': 25,\n",
              "  'stc_seuil_h': 75,\n",
              "  'ATR_SL_l': 14,\n",
              "  'ATR_SL': 2,\n",
              "  'RR_ratio': 3,\n",
              "  'leverage': 1}]"
            ]
          },
          "metadata": {},
          "execution_count": 35
        }
      ]
    }
  ]
}