{
  "nbformat": 4,
  "nbformat_minor": 0,
  "metadata": {
    "colab": {
      "provenance": [],
      "authorship_tag": "ABX9TyMBuLVVsXPe5Nt7LK1GiJ+M"
    },
    "kernelspec": {
      "name": "python3",
      "display_name": "Python 3"
    },
    "language_info": {
      "name": "python"
    }
  },
  "cells": [
    {
      "cell_type": "code",
      "execution_count": 44,
      "metadata": {
        "colab": {
          "base_uri": "https://localhost:8080/"
        },
        "id": "zBmBOQsuwH4e",
        "outputId": "714b909b-5e99-4b67-9d33-66dba8ae92d5"
      },
      "outputs": [
        {
          "output_type": "stream",
          "name": "stdout",
          "text": [
            "Looking in indexes: https://pypi.org/simple, https://us-python.pkg.dev/colab-wheels/public/simple/\n",
            "Requirement already satisfied: yfinance in /usr/local/lib/python3.10/dist-packages (0.2.18)\n",
            "Requirement already satisfied: numpy>=1.16.5 in /usr/local/lib/python3.10/dist-packages (from yfinance) (1.22.4)\n",
            "Requirement already satisfied: cryptography>=3.3.2 in /usr/local/lib/python3.10/dist-packages (from yfinance) (40.0.2)\n",
            "Requirement already satisfied: beautifulsoup4>=4.11.1 in /usr/local/lib/python3.10/dist-packages (from yfinance) (4.11.2)\n",
            "Requirement already satisfied: requests>=2.26 in /usr/local/lib/python3.10/dist-packages (from yfinance) (2.27.1)\n",
            "Requirement already satisfied: appdirs>=1.4.4 in /usr/local/lib/python3.10/dist-packages (from yfinance) (1.4.4)\n",
            "Requirement already satisfied: html5lib>=1.1 in /usr/local/lib/python3.10/dist-packages (from yfinance) (1.1)\n",
            "Requirement already satisfied: pytz>=2022.5 in /usr/local/lib/python3.10/dist-packages (from yfinance) (2022.7.1)\n",
            "Requirement already satisfied: frozendict>=2.3.4 in /usr/local/lib/python3.10/dist-packages (from yfinance) (2.3.7)\n",
            "Requirement already satisfied: pandas>=1.3.0 in /usr/local/lib/python3.10/dist-packages (from yfinance) (1.5.3)\n",
            "Requirement already satisfied: lxml>=4.9.1 in /usr/local/lib/python3.10/dist-packages (from yfinance) (4.9.2)\n",
            "Requirement already satisfied: multitasking>=0.0.7 in /usr/local/lib/python3.10/dist-packages (from yfinance) (0.0.11)\n",
            "Requirement already satisfied: soupsieve>1.2 in /usr/local/lib/python3.10/dist-packages (from beautifulsoup4>=4.11.1->yfinance) (2.4.1)\n",
            "Requirement already satisfied: cffi>=1.12 in /usr/local/lib/python3.10/dist-packages (from cryptography>=3.3.2->yfinance) (1.15.1)\n",
            "Requirement already satisfied: six>=1.9 in /usr/local/lib/python3.10/dist-packages (from html5lib>=1.1->yfinance) (1.16.0)\n",
            "Requirement already satisfied: webencodings in /usr/local/lib/python3.10/dist-packages (from html5lib>=1.1->yfinance) (0.5.1)\n",
            "Requirement already satisfied: python-dateutil>=2.8.1 in /usr/local/lib/python3.10/dist-packages (from pandas>=1.3.0->yfinance) (2.8.2)\n",
            "Requirement already satisfied: charset-normalizer~=2.0.0 in /usr/local/lib/python3.10/dist-packages (from requests>=2.26->yfinance) (2.0.12)\n",
            "Requirement already satisfied: urllib3<1.27,>=1.21.1 in /usr/local/lib/python3.10/dist-packages (from requests>=2.26->yfinance) (1.26.15)\n",
            "Requirement already satisfied: idna<4,>=2.5 in /usr/local/lib/python3.10/dist-packages (from requests>=2.26->yfinance) (3.4)\n",
            "Requirement already satisfied: certifi>=2017.4.17 in /usr/local/lib/python3.10/dist-packages (from requests>=2.26->yfinance) (2022.12.7)\n",
            "Requirement already satisfied: pycparser in /usr/local/lib/python3.10/dist-packages (from cffi>=1.12->cryptography>=3.3.2->yfinance) (2.21)\n",
            "Looking in indexes: https://pypi.org/simple, https://us-python.pkg.dev/colab-wheels/public/simple/\n",
            "Requirement already satisfied: ta in /usr/local/lib/python3.10/dist-packages (0.10.2)\n",
            "Requirement already satisfied: pandas in /usr/local/lib/python3.10/dist-packages (from ta) (1.5.3)\n",
            "Requirement already satisfied: numpy in /usr/local/lib/python3.10/dist-packages (from ta) (1.22.4)\n",
            "Requirement already satisfied: python-dateutil>=2.8.1 in /usr/local/lib/python3.10/dist-packages (from pandas->ta) (2.8.2)\n",
            "Requirement already satisfied: pytz>=2020.1 in /usr/local/lib/python3.10/dist-packages (from pandas->ta) (2022.7.1)\n",
            "Requirement already satisfied: six>=1.5 in /usr/local/lib/python3.10/dist-packages (from python-dateutil>=2.8.1->pandas->ta) (1.16.0)\n"
          ]
        }
      ],
      "source": [
        "!pip install yfinance\n",
        "!pip install ta"
      ]
    },
    {
      "cell_type": "code",
      "source": [
        "import pandas as pd, numpy as np\n",
        "import itertools\n",
        "import seaborn as sns\n",
        "import yfinance as yf\n",
        "\n",
        "from copy import copy\n",
        "import statistics as stats\n",
        "import math\n",
        "from functools import reduce\n",
        "\n",
        "from ta.volume import MFIIndicator\n",
        "from ta.volatility import AverageTrueRange\n",
        "from ta.trend import STCIndicator\n",
        "from ta.trend import EMAIndicator"
      ],
      "metadata": {
        "id": "QKr9IKYRwpbC"
      },
      "execution_count": 45,
      "outputs": []
    },
    {
      "cell_type": "markdown",
      "source": [
        "# Génération du fichier source\n"
      ],
      "metadata": {
        "id": "J3HFB0dMU5gZ"
      }
    },
    {
      "cell_type": "code",
      "source": [
        "ndx = yf.Ticker(\"^NDX\")\n",
        "df_historical_data = ndx.history(interval=\"1d\", period=\"max\")\n",
        "df_historical_data.drop(columns=[\"Dividends\",\"Stock Splits\"], inplace=True)\n",
        "df_historical_data.reset_index(inplace=True)"
      ],
      "metadata": {
        "id": "TRGojZzEU4D9"
      },
      "execution_count": 46,
      "outputs": []
    },
    {
      "cell_type": "code",
      "source": [
        "# Test si aucune ligne manquante\n",
        "test_list = [champ == 0 for champ in df_historical_data.isnull().sum()]\n",
        "\n",
        "# Si toutes les colonnes sont True, résultat = True\n",
        "notnull = all(i for i in test_list)\n",
        "print(\"Aucune ligne vide détectée, pour l'ensemble des colonnes : \", notnull)"
      ],
      "metadata": {
        "colab": {
          "base_uri": "https://localhost:8080/"
        },
        "id": "ecBhrvulVWmm",
        "outputId": "b3167836-c067-4c59-be5e-8c01548d2d10"
      },
      "execution_count": 47,
      "outputs": [
        {
          "output_type": "stream",
          "name": "stdout",
          "text": [
            "Aucune ligne vide détectée, pour l'ensemble des colonnes :  True\n"
          ]
        }
      ]
    },
    {
      "cell_type": "code",
      "source": [
        "df_historical_data[\"Open\"] = df_historical_data.Open.apply(lambda x: round(x,2))\n",
        "df_historical_data[\"High\"] = df_historical_data.High.apply(lambda x: round(x,2))\n",
        "df_historical_data[\"Low\"] = df_historical_data.Low.apply(lambda x: round(x,2))\n",
        "df_historical_data[\"Close\"] = df_historical_data.Close.apply(lambda x: round(x,2))"
      ],
      "metadata": {
        "id": "_8f2OCnYykoW"
      },
      "execution_count": 48,
      "outputs": []
    },
    {
      "cell_type": "code",
      "source": [
        "df_historical_data.tail(1)"
      ],
      "metadata": {
        "colab": {
          "base_uri": "https://localhost:8080/",
          "height": 81
        },
        "id": "XF7mNsSXVfbK",
        "outputId": "a58f505e-3413-40a6-9487-36238fcf0a89"
      },
      "execution_count": 49,
      "outputs": [
        {
          "output_type": "execute_result",
          "data": {
            "text/plain": [
              "                          Date      Open      High       Low     Close  \\\n",
              "9470 2023-04-28 00:00:00-04:00  13139.35  13247.39  13096.94  13245.99   \n",
              "\n",
              "          Volume  \n",
              "9470  5331380000  "
            ],
            "text/html": [
              "\n",
              "  <div id=\"df-f42aa3a3-f992-43c1-881d-230737e633f4\">\n",
              "    <div class=\"colab-df-container\">\n",
              "      <div>\n",
              "<style scoped>\n",
              "    .dataframe tbody tr th:only-of-type {\n",
              "        vertical-align: middle;\n",
              "    }\n",
              "\n",
              "    .dataframe tbody tr th {\n",
              "        vertical-align: top;\n",
              "    }\n",
              "\n",
              "    .dataframe thead th {\n",
              "        text-align: right;\n",
              "    }\n",
              "</style>\n",
              "<table border=\"1\" class=\"dataframe\">\n",
              "  <thead>\n",
              "    <tr style=\"text-align: right;\">\n",
              "      <th></th>\n",
              "      <th>Date</th>\n",
              "      <th>Open</th>\n",
              "      <th>High</th>\n",
              "      <th>Low</th>\n",
              "      <th>Close</th>\n",
              "      <th>Volume</th>\n",
              "    </tr>\n",
              "  </thead>\n",
              "  <tbody>\n",
              "    <tr>\n",
              "      <th>9470</th>\n",
              "      <td>2023-04-28 00:00:00-04:00</td>\n",
              "      <td>13139.35</td>\n",
              "      <td>13247.39</td>\n",
              "      <td>13096.94</td>\n",
              "      <td>13245.99</td>\n",
              "      <td>5331380000</td>\n",
              "    </tr>\n",
              "  </tbody>\n",
              "</table>\n",
              "</div>\n",
              "      <button class=\"colab-df-convert\" onclick=\"convertToInteractive('df-f42aa3a3-f992-43c1-881d-230737e633f4')\"\n",
              "              title=\"Convert this dataframe to an interactive table.\"\n",
              "              style=\"display:none;\">\n",
              "        \n",
              "  <svg xmlns=\"http://www.w3.org/2000/svg\" height=\"24px\"viewBox=\"0 0 24 24\"\n",
              "       width=\"24px\">\n",
              "    <path d=\"M0 0h24v24H0V0z\" fill=\"none\"/>\n",
              "    <path d=\"M18.56 5.44l.94 2.06.94-2.06 2.06-.94-2.06-.94-.94-2.06-.94 2.06-2.06.94zm-11 1L8.5 8.5l.94-2.06 2.06-.94-2.06-.94L8.5 2.5l-.94 2.06-2.06.94zm10 10l.94 2.06.94-2.06 2.06-.94-2.06-.94-.94-2.06-.94 2.06-2.06.94z\"/><path d=\"M17.41 7.96l-1.37-1.37c-.4-.4-.92-.59-1.43-.59-.52 0-1.04.2-1.43.59L10.3 9.45l-7.72 7.72c-.78.78-.78 2.05 0 2.83L4 21.41c.39.39.9.59 1.41.59.51 0 1.02-.2 1.41-.59l7.78-7.78 2.81-2.81c.8-.78.8-2.07 0-2.86zM5.41 20L4 18.59l7.72-7.72 1.47 1.35L5.41 20z\"/>\n",
              "  </svg>\n",
              "      </button>\n",
              "      \n",
              "  <style>\n",
              "    .colab-df-container {\n",
              "      display:flex;\n",
              "      flex-wrap:wrap;\n",
              "      gap: 12px;\n",
              "    }\n",
              "\n",
              "    .colab-df-convert {\n",
              "      background-color: #E8F0FE;\n",
              "      border: none;\n",
              "      border-radius: 50%;\n",
              "      cursor: pointer;\n",
              "      display: none;\n",
              "      fill: #1967D2;\n",
              "      height: 32px;\n",
              "      padding: 0 0 0 0;\n",
              "      width: 32px;\n",
              "    }\n",
              "\n",
              "    .colab-df-convert:hover {\n",
              "      background-color: #E2EBFA;\n",
              "      box-shadow: 0px 1px 2px rgba(60, 64, 67, 0.3), 0px 1px 3px 1px rgba(60, 64, 67, 0.15);\n",
              "      fill: #174EA6;\n",
              "    }\n",
              "\n",
              "    [theme=dark] .colab-df-convert {\n",
              "      background-color: #3B4455;\n",
              "      fill: #D2E3FC;\n",
              "    }\n",
              "\n",
              "    [theme=dark] .colab-df-convert:hover {\n",
              "      background-color: #434B5C;\n",
              "      box-shadow: 0px 1px 3px 1px rgba(0, 0, 0, 0.15);\n",
              "      filter: drop-shadow(0px 1px 2px rgba(0, 0, 0, 0.3));\n",
              "      fill: #FFFFFF;\n",
              "    }\n",
              "  </style>\n",
              "\n",
              "      <script>\n",
              "        const buttonEl =\n",
              "          document.querySelector('#df-f42aa3a3-f992-43c1-881d-230737e633f4 button.colab-df-convert');\n",
              "        buttonEl.style.display =\n",
              "          google.colab.kernel.accessAllowed ? 'block' : 'none';\n",
              "\n",
              "        async function convertToInteractive(key) {\n",
              "          const element = document.querySelector('#df-f42aa3a3-f992-43c1-881d-230737e633f4');\n",
              "          const dataTable =\n",
              "            await google.colab.kernel.invokeFunction('convertToInteractive',\n",
              "                                                     [key], {});\n",
              "          if (!dataTable) return;\n",
              "\n",
              "          const docLinkHtml = 'Like what you see? Visit the ' +\n",
              "            '<a target=\"_blank\" href=https://colab.research.google.com/notebooks/data_table.ipynb>data table notebook</a>'\n",
              "            + ' to learn more about interactive tables.';\n",
              "          element.innerHTML = '';\n",
              "          dataTable['output_type'] = 'display_data';\n",
              "          await google.colab.output.renderOutput(dataTable, element);\n",
              "          const docLink = document.createElement('div');\n",
              "          docLink.innerHTML = docLinkHtml;\n",
              "          element.appendChild(docLink);\n",
              "        }\n",
              "      </script>\n",
              "    </div>\n",
              "  </div>\n",
              "  "
            ]
          },
          "metadata": {},
          "execution_count": 49
        }
      ]
    },
    {
      "cell_type": "code",
      "source": [
        "df_historical_data.dtypes"
      ],
      "metadata": {
        "colab": {
          "base_uri": "https://localhost:8080/"
        },
        "id": "FjsWbKF3Vr2c",
        "outputId": "0c0a0f9a-a485-4cc9-b768-03d911ba86ea"
      },
      "execution_count": 50,
      "outputs": [
        {
          "output_type": "execute_result",
          "data": {
            "text/plain": [
              "Date      datetime64[ns, America/New_York]\n",
              "Open                               float64\n",
              "High                               float64\n",
              "Low                                float64\n",
              "Close                              float64\n",
              "Volume                               int64\n",
              "dtype: object"
            ]
          },
          "metadata": {},
          "execution_count": 50
        }
      ]
    },
    {
      "cell_type": "markdown",
      "source": [
        "# Génération des combinaisons de paramètres"
      ],
      "metadata": {
        "id": "AHUieIds5BiL"
      }
    },
    {
      "cell_type": "code",
      "source": [
        "l_ema = [e for e in range(40,88,2)]\n",
        "l_AT_period = [p for p in range(4,42,2)]\n",
        "l_STC_length = [l for l in range(98,132,2)]\n",
        "l_STC_slow = [s for s in range(98,132,2)]"
      ],
      "metadata": {
        "id": "ntyp-ToP5A76"
      },
      "execution_count": 51,
      "outputs": []
    },
    {
      "cell_type": "code",
      "source": [
        "all_params = [l_ema, l_AT_period, l_STC_length, l_STC_slow]"
      ],
      "metadata": {
        "id": "aqd7tS915QZh"
      },
      "execution_count": 52,
      "outputs": []
    },
    {
      "cell_type": "code",
      "source": [
        "combinaisons = list(itertools.product(*all_params))"
      ],
      "metadata": {
        "id": "QEFrL5Ep5Qpy"
      },
      "execution_count": 53,
      "outputs": []
    },
    {
      "cell_type": "code",
      "source": [
        "print(\"Le nombre de combinaisons possibles est : \",len(combinaisons))"
      ],
      "metadata": {
        "colab": {
          "base_uri": "https://localhost:8080/"
        },
        "id": "ZRJ1Ohdl5ami",
        "outputId": "12d883cb-0b11-49e1-d52e-2f9f83ec63a2"
      },
      "execution_count": 54,
      "outputs": [
        {
          "output_type": "stream",
          "name": "stdout",
          "text": [
            "Le nombre de combinaisons possibles est :  131784\n"
          ]
        }
      ]
    },
    {
      "cell_type": "markdown",
      "source": [
        "# Fonctions"
      ],
      "metadata": {
        "id": "pTBQpw9u2Fzo"
      }
    },
    {
      "cell_type": "markdown",
      "source": [
        "#### Alphatrend"
      ],
      "metadata": {
        "id": "bJUTIaxyVz6B"
      }
    },
    {
      "cell_type": "code",
      "source": [
        "# Trend indicator, équivalent de l'affichage couleur\n",
        "def trend_indicator(trend):\n",
        "    if trend > 0 :\n",
        "        # Uptrend\n",
        "        x = 1\n",
        "    elif trend < 0 :\n",
        "        # Downtrend\n",
        "        x = -1\n",
        "    else :\n",
        "        # Range\n",
        "        x = 0\n",
        "    return x"
      ],
      "metadata": {
        "id": "W53ner8PX6Ay"
      },
      "execution_count": 55,
      "outputs": []
    },
    {
      "cell_type": "code",
      "source": [
        "# Defintion fonction\n",
        "def generate_alphatrend(df_in, mfi_p, mfi_seuil, atr_l, m):\n",
        "    '''Paramètres d'entrée : longueur MFI, longueur ATR, multiplier\n",
        "    Retourne les colonnes Alphatrend, Alphatrend +2, Trend (position AT1 / AT2)\n",
        "    :mfi_p = période MFI servant à délimiter up/down de l'alphatrend\n",
        "    :mfi_seuil = période MFI pour recherche crossover, détermine uptrend ou downtrend'''\n",
        "\n",
        "    df = df_in.copy()\n",
        "\n",
        "    # Colonnes MFI\n",
        "    s_mfi = MFIIndicator(high=df.High, low=df.Low, close=df.Close, volume=df.Volume, window=mfi_p).money_flow_index()\n",
        "    df[\"MFI_ref\"] = s_mfi\n",
        "\n",
        "    # Colonne ATR\n",
        "    s_atr = AverageTrueRange(high=df.High, low=df.Low, close=df.Close, window=atr_l).average_true_range()\n",
        "    df[\"ATR\"] = s_atr\n",
        "\n",
        "    # Lignes UpT et DownT\n",
        "    df[\"UpT_support\"] = df[\"Low\"] - df[\"ATR\"] * m\n",
        "    df[\"DownT_support\"] = df[\"High\"] + df[\"ATR\"] * m\n",
        "\n",
        "    # Suppression des lignes sans signal, en début de DataFrame\n",
        "    df.dropna(inplace=True)\n",
        "    df.reset_index(drop=True, inplace=True)\n",
        "\n",
        "    # ===============================================\n",
        "    # Calcul Alphatrend, en tant que série\n",
        "    \n",
        "    Alphatrend = [0]\n",
        "\n",
        "    for i in range (1, df.shape[0]):\n",
        "        # Cas Uptrend\n",
        "        if df.at[i,\"MFI_ref\"] >= mfi_seuil :\n",
        "            if df.at[i,\"UpT_support\"] < Alphatrend[-1] :\n",
        "                # Flat\n",
        "                Alphatrend.append(Alphatrend[-1])\n",
        "            else :\n",
        "                # Trailing stop loss Up\n",
        "                Alphatrend.append(df.at[i,\"UpT_support\"])\n",
        "\n",
        "        # Cas Downtrend, MFI < 50\n",
        "        else :\n",
        "            if df.at[i,\"DownT_support\"] > Alphatrend[-1] :\n",
        "                # Flat\n",
        "                Alphatrend.append(Alphatrend[-1])\n",
        "            else :\n",
        "                # Trailing stop loss Down\n",
        "                Alphatrend.append(df.at[i,\"DownT_support\"])\n",
        "\n",
        "    # ===============================================\n",
        "    # Ajout des lignes k1 et k2 en tant que colonnes\n",
        "    \n",
        "    if df.shape[0] == len(Alphatrend):\n",
        "        df[\"Alphatrend_k1\"] = pd.Series(Alphatrend).apply(lambda x: round(x,2))\n",
        "        # Ligne k2 décalée de 2j\n",
        "        Alphatrend2 = df[\"Alphatrend_k1\"].shift(periods=2, fill_value=0)\n",
        "        df[\"Alphatrend_k2\"] = pd.Series(Alphatrend2).apply(lambda x: round(x,2))\n",
        "        # Trend\n",
        "        df[\"Trend\"] = df.Alphatrend_k1 - df.Alphatrend_k2\n",
        "        df[\"Trend\"] = df[\"Trend\"].apply(trend_indicator)\n",
        "    else :\n",
        "        print(\"Erreur lors de la génération des lignes Alphatrend\")\n",
        "\n",
        "    # ===============================================\n",
        "    # Génération des signaux Achat / Vente\n",
        "\n",
        "    # On isole tous les index non neutres, où AT1 != AT2, à la hausse (1) comme à la baisse (-1)\n",
        "    s_trend = df[\"Trend\"].loc[df[\"Trend\"]!=0]\n",
        "    s_trend_diff = s_trend - s_trend.shift(1)\n",
        "\n",
        "    buy_signal_indexes = s_trend_diff[s_trend_diff == 2].index\n",
        "    sell_signal_indexes = s_trend_diff[s_trend_diff == -2].index\n",
        "\n",
        "    df[\"Signal\"] = 0\n",
        "    df.loc[buy_signal_indexes,\"Signal\"] = 1\n",
        "    df.loc[sell_signal_indexes,\"Signal\"] = -1\n",
        "\n",
        "    # ===============================================\n",
        "    # Sélection des colonnes suffisantes\n",
        "    df = df[[\"Date\",\"Alphatrend_k1\",\"Alphatrend_k2\",\"Trend\",\"Signal\"]]\n",
        "    \n",
        "    return df"
      ],
      "metadata": {
        "id": "Wm2pANWHVvw6"
      },
      "execution_count": 56,
      "outputs": []
    },
    {
      "cell_type": "markdown",
      "source": [
        "#### STC & EMA"
      ],
      "metadata": {
        "id": "EbCqhjaFcBXo"
      }
    },
    {
      "cell_type": "code",
      "source": [
        "def generate_STC_and_EMA(df_in, stc_length, fast_length, slow_length, ema_period):\n",
        "  \n",
        "  df = df_in[[\"Date\",\"Close\"]].copy()\n",
        "\n",
        "  s_stc = STCIndicator(close=df.Close, window_slow=slow_length, window_fast=fast_length, cycle=stc_length).stc()\n",
        "  s_ema = EMAIndicator(close=df.Close, window=ema_period).ema_indicator()\n",
        "\n",
        "  df[\"STC\"] = round(s_stc,2)\n",
        "  df[\"EMA\"] = round(s_ema,2)\n",
        "\n",
        "  df.drop(columns=[\"Close\"], inplace=True)\n",
        "\n",
        "  return df"
      ],
      "metadata": {
        "id": "Kr56pqQgdycS"
      },
      "execution_count": 57,
      "outputs": []
    },
    {
      "cell_type": "markdown",
      "source": [
        "#### ATR sortie & Merge tous indicateurs techniques"
      ],
      "metadata": {
        "id": "rYMgPLFf-WVU"
      }
    },
    {
      "cell_type": "code",
      "source": [
        "def merge_technical_indicators(df_in, atr_l, df1, df2, date_min=\"1998-01-01\"):\n",
        "  ''' Fusionne les DataFrames d'indicateurs techniques, \n",
        "  ajoute également date_min au format 'yyyy-mm-dd' pour fixer le début du Backtesting'''\n",
        "\n",
        "  df_essentials = df_in.copy()\n",
        "\n",
        "  # Ajout de la colonne ATR qui servira plus tard dans le calcul de la sortie.\n",
        "  s_atr = AverageTrueRange(high=df_essentials.High, low=df_essentials.Low, close=df_essentials.Close, window=atr_l).average_true_range()\n",
        "  df_essentials[\"ATR\"] = pd.Series(s_atr).apply(lambda x: round(x,2))\n",
        "  \n",
        "  # Réduction au strict nécessaire pour les colonnes\n",
        "  df_essentials = df_essentials[[\"Date\",\"Open\",\"Close\",\"ATR\"]].copy()\n",
        "\n",
        "  # Merge des 3\n",
        "  data_frames = [df_essentials, df1, df2]\n",
        "  df_merged = reduce(lambda  left,right: pd.merge(left,right, on=['Date'], how='left'), data_frames)\n",
        "\n",
        "  # Réduction de la fenêtre de tests à partir de la date_min\n",
        "  df_merged = df_merged.loc[df_merged[\"Date\"] >= date_min]\n",
        "\n",
        "  df_merged.reset_index(drop=True,inplace=True)\n",
        "\n",
        "  return df_merged\n"
      ],
      "metadata": {
        "id": "EGM8g_il2CNh"
      },
      "execution_count": 58,
      "outputs": []
    },
    {
      "cell_type": "markdown",
      "source": [
        "#### Détection des entrées"
      ],
      "metadata": {
        "id": "9qXkxVTCJg2Q"
      }
    },
    {
      "cell_type": "markdown",
      "source": [
        "Stratégie :<br>\n",
        "<li>Entreée : Buy signal + Prix > EMA + STC < seuil(25)</li>\n",
        "<li>Sortie : Sell signal + Prix < EMA + STC > seuil(75)</li>"
      ],
      "metadata": {
        "id": "RWCU9QZoQ1u-"
      }
    },
    {
      "cell_type": "code",
      "source": [
        "def get_entries_signals(df_in, stc_low, stc_high):\n",
        "  ''' Nécessite en entrée le DataFrame avec indicateurs techniques.\n",
        "  Génère aussi bien signaux Entrée Long (1) que Entrée Short (-1).'''\n",
        "\n",
        "  df_IT = df_in.copy()\n",
        "  stc_seuil_bas = stc_low\n",
        "  stc_seuil_haut = stc_high\n",
        "\n",
        "  # Valeur 3 pour signaux d'entrée valides\n",
        "  df_IT[\"Buy_entry\"] = np.sign(df_IT.Close - df_IT.EMA) + df_IT.Signal + np.sign(stc_seuil_bas - df_IT.STC)\n",
        "  # Valeur -3 pour signaux d'entrée valides\n",
        "  # Attention / par deux signaux négatifs -> positif, d'où l'inversion sur un seul champ\n",
        "  df_IT[\"Sell_entry\"] = np.sign(df_IT.Close - df_IT.EMA) + df_IT.Signal + np.sign(stc_seuil_haut - df_IT.STC)\n",
        "\n",
        "  # Conversion en np array\n",
        "  arr_buy_entry = df_IT[\"Buy_entry\"].to_numpy()\n",
        "  # np.where(condition, vrai, sinon)\n",
        "  df_IT[\"Buy_entry\"] = np.where(arr_buy_entry==3, 1, 0)\n",
        "\n",
        "  arr_sell_entry = df_IT[\"Sell_entry\"].to_numpy()\n",
        "  df_IT[\"Sell_entry\"] = np.where(arr_sell_entry==-3.0, -1, 0)\n",
        "  \n",
        "  # Agrégation des deux types de signaux.\n",
        "  df_IT[\"Entry\"] = df_IT[\"Sell_entry\"] + df_IT[\"Buy_entry\"]\n",
        "  df_IT.drop(columns=[\"Buy_entry\",\"Sell_entry\"], inplace=True)"
      ],
      "metadata": {
        "id": "Rio7tdwmJeLr"
      },
      "execution_count": 59,
      "outputs": []
    },
    {
      "cell_type": "markdown",
      "source": [
        "# Strategy as Class"
      ],
      "metadata": {
        "id": "IPtvYjEzzM9s"
      }
    },
    {
      "cell_type": "code",
      "source": [
        "class Strat_AT_STC_EMA:\n",
        "  \n",
        "  def __init__(self, p_ema=200, p_AT_m=1, p_AT_l=14, p_AT_mfi_l = 14, p_AT_mfi_s = 50, p_STC_l=80, p_STC_slow_l=50, p_STC_fast_l=27, p_STC_b=25, p_STC_h=75, p_ATR_SL_l = 14, p_ATR_SL = 2, p_RR_ratio = 3):\n",
        "    self.ema_l = p_ema\n",
        "    self.at_m = p_AT_m\n",
        "    self.at_l = p_AT_l\n",
        "    self.at_mfi_l = p_AT_mfi_l\n",
        "    self.at_mfi_s = p_AT_mfi_s\n",
        "    self.stc_l = p_STC_l\n",
        "    self.stc_s_l = p_STC_slow_l\n",
        "    self.stc_f_l = p_STC_fast_l\n",
        "    self.stc_seuil_b = p_STC_b\n",
        "    self.stc_seuil_h = p_STC_h\n",
        "    self.ATR_SL_l = p_ATR_SL_l\n",
        "    self.ATR_SL = p_ATR_SL\n",
        "    self.RR_ratio = p_RR_ratio\n",
        "\n",
        "  \n",
        "  def make_technical_indicators(self, df_source):\n",
        "    df_AT = generate_alphatrend(df_source, mfi_p=self.at_mfi_l, mfi_seuil=self.at_mfi_s, atr_l=self.at_l, m=self.at_m)\n",
        "    df_STC_EMA = generate_STC_and_EMA(df_source, stc_length=self.stc_l, fast_length=self.stc_f_l, slow_length=self.stc_s_l, ema_period=self.ema_l)\n",
        "    df_Technical_Indicators = merge_technical_indicators(df_source, self.ATR_SL_l, df_AT, df_STC_EMA)\n",
        "    return df_Technical_Indicators\n",
        "\n",
        "  "
      ],
      "metadata": {
        "id": "VHR08NixzMaH"
      },
      "execution_count": 60,
      "outputs": []
    },
    {
      "cell_type": "markdown",
      "source": [
        "# Test"
      ],
      "metadata": {
        "id": "4waqtIuFF05S"
      }
    },
    {
      "cell_type": "code",
      "source": [
        "x = Strat_AT_STC_EMA()"
      ],
      "metadata": {
        "id": "2rrSYiE2_Tic"
      },
      "execution_count": 61,
      "outputs": []
    },
    {
      "cell_type": "code",
      "source": [
        "%time\n",
        "df_test = x.make_technical_indicators(df_historical_data)\n",
        "df_test"
      ],
      "metadata": {
        "colab": {
          "base_uri": "https://localhost:8080/",
          "height": 459
        },
        "id": "3nl245qNF0A6",
        "outputId": "2e91719a-af3a-4852-aae9-e2c33868271b"
      },
      "execution_count": 62,
      "outputs": [
        {
          "output_type": "stream",
          "name": "stdout",
          "text": [
            "CPU times: user 4 µs, sys: 1 µs, total: 5 µs\n",
            "Wall time: 9.54 µs\n"
          ]
        },
        {
          "output_type": "execute_result",
          "data": {
            "text/plain": [
              "                          Date      Open     Close     ATR  Alphatrend_k1  \\\n",
              "0    1998-01-02 00:00:00-05:00    990.80   1008.23   24.18         979.81   \n",
              "1    1998-01-05 00:00:00-05:00   1008.23   1017.42   23.98         983.27   \n",
              "2    1998-01-06 00:00:00-05:00   1017.42   1006.29   23.43         983.27   \n",
              "3    1998-01-07 00:00:00-05:00   1006.29    991.19   23.73         983.27   \n",
              "4    1998-01-08 00:00:00-05:00    990.97    994.55   23.56         983.27   \n",
              "...                        ...       ...       ...     ...            ...   \n",
              "6367 2023-04-24 00:00:00-04:00  12981.71  12969.76  192.90       12837.07   \n",
              "6368 2023-04-25 00:00:00-04:00  12905.09  12725.11  196.66       12837.07   \n",
              "6369 2023-04-26 00:00:00-04:00  12866.64  12806.48  197.22       12837.07   \n",
              "6370 2023-04-27 00:00:00-04:00  12963.21  13160.03  209.50       12837.07   \n",
              "6371 2023-04-28 00:00:00-04:00  13139.35  13245.99  205.28       12837.07   \n",
              "\n",
              "      Alphatrend_k2  Trend  Signal    STC       EMA  \n",
              "0            979.81    0.0     0.0   5.72    998.30  \n",
              "1            979.81    1.0     1.0  11.67    998.49  \n",
              "2            979.81    1.0     0.0  21.32    998.56  \n",
              "3            983.27    0.0     0.0  34.99    998.49  \n",
              "4            983.27    0.0     0.0  45.28    998.45  \n",
              "...             ...    ...     ...    ...       ...  \n",
              "6367       12837.07    0.0     0.0  95.98  12341.02  \n",
              "6368       12837.07    0.0     0.0  92.51  12344.84  \n",
              "6369       12837.07    0.0     0.0  88.08  12349.44  \n",
              "6370       12837.07    0.0     0.0  84.80  12357.50  \n",
              "6371       12837.07    0.0     0.0  83.20  12366.34  \n",
              "\n",
              "[6372 rows x 10 columns]"
            ],
            "text/html": [
              "\n",
              "  <div id=\"df-06da6145-0cf4-4c9a-8ce2-7ca0033fcbc1\">\n",
              "    <div class=\"colab-df-container\">\n",
              "      <div>\n",
              "<style scoped>\n",
              "    .dataframe tbody tr th:only-of-type {\n",
              "        vertical-align: middle;\n",
              "    }\n",
              "\n",
              "    .dataframe tbody tr th {\n",
              "        vertical-align: top;\n",
              "    }\n",
              "\n",
              "    .dataframe thead th {\n",
              "        text-align: right;\n",
              "    }\n",
              "</style>\n",
              "<table border=\"1\" class=\"dataframe\">\n",
              "  <thead>\n",
              "    <tr style=\"text-align: right;\">\n",
              "      <th></th>\n",
              "      <th>Date</th>\n",
              "      <th>Open</th>\n",
              "      <th>Close</th>\n",
              "      <th>ATR</th>\n",
              "      <th>Alphatrend_k1</th>\n",
              "      <th>Alphatrend_k2</th>\n",
              "      <th>Trend</th>\n",
              "      <th>Signal</th>\n",
              "      <th>STC</th>\n",
              "      <th>EMA</th>\n",
              "    </tr>\n",
              "  </thead>\n",
              "  <tbody>\n",
              "    <tr>\n",
              "      <th>0</th>\n",
              "      <td>1998-01-02 00:00:00-05:00</td>\n",
              "      <td>990.80</td>\n",
              "      <td>1008.23</td>\n",
              "      <td>24.18</td>\n",
              "      <td>979.81</td>\n",
              "      <td>979.81</td>\n",
              "      <td>0.0</td>\n",
              "      <td>0.0</td>\n",
              "      <td>5.72</td>\n",
              "      <td>998.30</td>\n",
              "    </tr>\n",
              "    <tr>\n",
              "      <th>1</th>\n",
              "      <td>1998-01-05 00:00:00-05:00</td>\n",
              "      <td>1008.23</td>\n",
              "      <td>1017.42</td>\n",
              "      <td>23.98</td>\n",
              "      <td>983.27</td>\n",
              "      <td>979.81</td>\n",
              "      <td>1.0</td>\n",
              "      <td>1.0</td>\n",
              "      <td>11.67</td>\n",
              "      <td>998.49</td>\n",
              "    </tr>\n",
              "    <tr>\n",
              "      <th>2</th>\n",
              "      <td>1998-01-06 00:00:00-05:00</td>\n",
              "      <td>1017.42</td>\n",
              "      <td>1006.29</td>\n",
              "      <td>23.43</td>\n",
              "      <td>983.27</td>\n",
              "      <td>979.81</td>\n",
              "      <td>1.0</td>\n",
              "      <td>0.0</td>\n",
              "      <td>21.32</td>\n",
              "      <td>998.56</td>\n",
              "    </tr>\n",
              "    <tr>\n",
              "      <th>3</th>\n",
              "      <td>1998-01-07 00:00:00-05:00</td>\n",
              "      <td>1006.29</td>\n",
              "      <td>991.19</td>\n",
              "      <td>23.73</td>\n",
              "      <td>983.27</td>\n",
              "      <td>983.27</td>\n",
              "      <td>0.0</td>\n",
              "      <td>0.0</td>\n",
              "      <td>34.99</td>\n",
              "      <td>998.49</td>\n",
              "    </tr>\n",
              "    <tr>\n",
              "      <th>4</th>\n",
              "      <td>1998-01-08 00:00:00-05:00</td>\n",
              "      <td>990.97</td>\n",
              "      <td>994.55</td>\n",
              "      <td>23.56</td>\n",
              "      <td>983.27</td>\n",
              "      <td>983.27</td>\n",
              "      <td>0.0</td>\n",
              "      <td>0.0</td>\n",
              "      <td>45.28</td>\n",
              "      <td>998.45</td>\n",
              "    </tr>\n",
              "    <tr>\n",
              "      <th>...</th>\n",
              "      <td>...</td>\n",
              "      <td>...</td>\n",
              "      <td>...</td>\n",
              "      <td>...</td>\n",
              "      <td>...</td>\n",
              "      <td>...</td>\n",
              "      <td>...</td>\n",
              "      <td>...</td>\n",
              "      <td>...</td>\n",
              "      <td>...</td>\n",
              "    </tr>\n",
              "    <tr>\n",
              "      <th>6367</th>\n",
              "      <td>2023-04-24 00:00:00-04:00</td>\n",
              "      <td>12981.71</td>\n",
              "      <td>12969.76</td>\n",
              "      <td>192.90</td>\n",
              "      <td>12837.07</td>\n",
              "      <td>12837.07</td>\n",
              "      <td>0.0</td>\n",
              "      <td>0.0</td>\n",
              "      <td>95.98</td>\n",
              "      <td>12341.02</td>\n",
              "    </tr>\n",
              "    <tr>\n",
              "      <th>6368</th>\n",
              "      <td>2023-04-25 00:00:00-04:00</td>\n",
              "      <td>12905.09</td>\n",
              "      <td>12725.11</td>\n",
              "      <td>196.66</td>\n",
              "      <td>12837.07</td>\n",
              "      <td>12837.07</td>\n",
              "      <td>0.0</td>\n",
              "      <td>0.0</td>\n",
              "      <td>92.51</td>\n",
              "      <td>12344.84</td>\n",
              "    </tr>\n",
              "    <tr>\n",
              "      <th>6369</th>\n",
              "      <td>2023-04-26 00:00:00-04:00</td>\n",
              "      <td>12866.64</td>\n",
              "      <td>12806.48</td>\n",
              "      <td>197.22</td>\n",
              "      <td>12837.07</td>\n",
              "      <td>12837.07</td>\n",
              "      <td>0.0</td>\n",
              "      <td>0.0</td>\n",
              "      <td>88.08</td>\n",
              "      <td>12349.44</td>\n",
              "    </tr>\n",
              "    <tr>\n",
              "      <th>6370</th>\n",
              "      <td>2023-04-27 00:00:00-04:00</td>\n",
              "      <td>12963.21</td>\n",
              "      <td>13160.03</td>\n",
              "      <td>209.50</td>\n",
              "      <td>12837.07</td>\n",
              "      <td>12837.07</td>\n",
              "      <td>0.0</td>\n",
              "      <td>0.0</td>\n",
              "      <td>84.80</td>\n",
              "      <td>12357.50</td>\n",
              "    </tr>\n",
              "    <tr>\n",
              "      <th>6371</th>\n",
              "      <td>2023-04-28 00:00:00-04:00</td>\n",
              "      <td>13139.35</td>\n",
              "      <td>13245.99</td>\n",
              "      <td>205.28</td>\n",
              "      <td>12837.07</td>\n",
              "      <td>12837.07</td>\n",
              "      <td>0.0</td>\n",
              "      <td>0.0</td>\n",
              "      <td>83.20</td>\n",
              "      <td>12366.34</td>\n",
              "    </tr>\n",
              "  </tbody>\n",
              "</table>\n",
              "<p>6372 rows × 10 columns</p>\n",
              "</div>\n",
              "      <button class=\"colab-df-convert\" onclick=\"convertToInteractive('df-06da6145-0cf4-4c9a-8ce2-7ca0033fcbc1')\"\n",
              "              title=\"Convert this dataframe to an interactive table.\"\n",
              "              style=\"display:none;\">\n",
              "        \n",
              "  <svg xmlns=\"http://www.w3.org/2000/svg\" height=\"24px\"viewBox=\"0 0 24 24\"\n",
              "       width=\"24px\">\n",
              "    <path d=\"M0 0h24v24H0V0z\" fill=\"none\"/>\n",
              "    <path d=\"M18.56 5.44l.94 2.06.94-2.06 2.06-.94-2.06-.94-.94-2.06-.94 2.06-2.06.94zm-11 1L8.5 8.5l.94-2.06 2.06-.94-2.06-.94L8.5 2.5l-.94 2.06-2.06.94zm10 10l.94 2.06.94-2.06 2.06-.94-2.06-.94-.94-2.06-.94 2.06-2.06.94z\"/><path d=\"M17.41 7.96l-1.37-1.37c-.4-.4-.92-.59-1.43-.59-.52 0-1.04.2-1.43.59L10.3 9.45l-7.72 7.72c-.78.78-.78 2.05 0 2.83L4 21.41c.39.39.9.59 1.41.59.51 0 1.02-.2 1.41-.59l7.78-7.78 2.81-2.81c.8-.78.8-2.07 0-2.86zM5.41 20L4 18.59l7.72-7.72 1.47 1.35L5.41 20z\"/>\n",
              "  </svg>\n",
              "      </button>\n",
              "      \n",
              "  <style>\n",
              "    .colab-df-container {\n",
              "      display:flex;\n",
              "      flex-wrap:wrap;\n",
              "      gap: 12px;\n",
              "    }\n",
              "\n",
              "    .colab-df-convert {\n",
              "      background-color: #E8F0FE;\n",
              "      border: none;\n",
              "      border-radius: 50%;\n",
              "      cursor: pointer;\n",
              "      display: none;\n",
              "      fill: #1967D2;\n",
              "      height: 32px;\n",
              "      padding: 0 0 0 0;\n",
              "      width: 32px;\n",
              "    }\n",
              "\n",
              "    .colab-df-convert:hover {\n",
              "      background-color: #E2EBFA;\n",
              "      box-shadow: 0px 1px 2px rgba(60, 64, 67, 0.3), 0px 1px 3px 1px rgba(60, 64, 67, 0.15);\n",
              "      fill: #174EA6;\n",
              "    }\n",
              "\n",
              "    [theme=dark] .colab-df-convert {\n",
              "      background-color: #3B4455;\n",
              "      fill: #D2E3FC;\n",
              "    }\n",
              "\n",
              "    [theme=dark] .colab-df-convert:hover {\n",
              "      background-color: #434B5C;\n",
              "      box-shadow: 0px 1px 3px 1px rgba(0, 0, 0, 0.15);\n",
              "      filter: drop-shadow(0px 1px 2px rgba(0, 0, 0, 0.3));\n",
              "      fill: #FFFFFF;\n",
              "    }\n",
              "  </style>\n",
              "\n",
              "      <script>\n",
              "        const buttonEl =\n",
              "          document.querySelector('#df-06da6145-0cf4-4c9a-8ce2-7ca0033fcbc1 button.colab-df-convert');\n",
              "        buttonEl.style.display =\n",
              "          google.colab.kernel.accessAllowed ? 'block' : 'none';\n",
              "\n",
              "        async function convertToInteractive(key) {\n",
              "          const element = document.querySelector('#df-06da6145-0cf4-4c9a-8ce2-7ca0033fcbc1');\n",
              "          const dataTable =\n",
              "            await google.colab.kernel.invokeFunction('convertToInteractive',\n",
              "                                                     [key], {});\n",
              "          if (!dataTable) return;\n",
              "\n",
              "          const docLinkHtml = 'Like what you see? Visit the ' +\n",
              "            '<a target=\"_blank\" href=https://colab.research.google.com/notebooks/data_table.ipynb>data table notebook</a>'\n",
              "            + ' to learn more about interactive tables.';\n",
              "          element.innerHTML = '';\n",
              "          dataTable['output_type'] = 'display_data';\n",
              "          await google.colab.output.renderOutput(dataTable, element);\n",
              "          const docLink = document.createElement('div');\n",
              "          docLink.innerHTML = docLinkHtml;\n",
              "          element.appendChild(docLink);\n",
              "        }\n",
              "      </script>\n",
              "    </div>\n",
              "  </div>\n",
              "  "
            ]
          },
          "metadata": {},
          "execution_count": 62
        }
      ]
    },
    {
      "cell_type": "code",
      "source": [],
      "metadata": {
        "id": "BsIGT961F4AM"
      },
      "execution_count": 62,
      "outputs": []
    }
  ]
}