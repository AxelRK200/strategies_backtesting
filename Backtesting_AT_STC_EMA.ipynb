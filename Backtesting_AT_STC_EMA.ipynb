{
  "nbformat": 4,
  "nbformat_minor": 0,
  "metadata": {
    "colab": {
      "provenance": [],
      "mount_file_id": "1Ow6kJZLw-Zw8LNZxcdb18b8nKjjINi3D",
      "authorship_tag": "ABX9TyMPwIeaa+j+bsNsmzJMZ09L"
    },
    "kernelspec": {
      "name": "python3",
      "display_name": "Python 3"
    },
    "language_info": {
      "name": "python"
    }
  },
  "cells": [
    {
      "cell_type": "code",
      "source": [
        "!pip install yfinance\n",
        "!pip install ta"
      ],
      "metadata": {
        "id": "px_-kUmQUwAN"
      },
      "execution_count": null,
      "outputs": []
    },
    {
      "cell_type": "code",
      "execution_count": 2,
      "metadata": {
        "id": "KTwLxh3NUF0Z"
      },
      "outputs": [],
      "source": [
        "import pandas as pd, numpy as np\n",
        "import yfinance as yf\n",
        "\n",
        "from copy import copy\n",
        "import statistics as stats\n",
        "import math\n",
        "from functools import reduce\n",
        "\n",
        "from ta.volume import MFIIndicator\n",
        "from ta.volatility import AverageTrueRange\n",
        "from ta.trend import STCIndicator\n",
        "from ta.trend import EMAIndicator"
      ]
    },
    {
      "cell_type": "markdown",
      "source": [
        "# Import des données historiques"
      ],
      "metadata": {
        "id": "J3HFB0dMU5gZ"
      }
    },
    {
      "cell_type": "code",
      "source": [
        "ndx = yf.Ticker(\"^NDX\")\n",
        "df_historical_data = ndx.history(interval=\"1d\", period=\"max\")\n",
        "df_historical_data.drop(columns=[\"Dividends\",\"Stock Splits\"], inplace=True)\n",
        "df_historical_data.reset_index(inplace=True)"
      ],
      "metadata": {
        "id": "TRGojZzEU4D9"
      },
      "execution_count": 3,
      "outputs": []
    },
    {
      "cell_type": "code",
      "source": [
        "df_historical_data.describe()"
      ],
      "metadata": {
        "colab": {
          "base_uri": "https://localhost:8080/",
          "height": 300
        },
        "id": "ESSJEl0EVUFD",
        "outputId": "0afdd50e-a5d7-4db1-c0a2-5d90c0f14195"
      },
      "execution_count": 4,
      "outputs": [
        {
          "output_type": "execute_result",
          "data": {
            "text/plain": [
              "               Open          High           Low         Close        Volume\n",
              "count   9452.000000   9452.000000   9452.000000   9452.000000  9.452000e+03\n",
              "mean    2912.524596   2936.916361   2886.621040   2913.110486  1.605148e+09\n",
              "std     3532.796530   3560.467522   3502.370195   3533.277150  1.284032e+09\n",
              "min      107.160004    108.269997    106.750000    107.160004  3.174000e+07\n",
              "25%      418.295006    419.800011    416.107513    419.057510  4.711850e+08\n",
              "50%     1632.840027   1653.000000   1619.309998   1634.525024  1.663260e+09\n",
              "75%     3692.722534   3735.782471   3645.492493   3691.767517  2.066768e+09\n",
              "max    16644.769531  16764.859375  16523.830078  16573.339844  1.162119e+10"
            ],
            "text/html": [
              "\n",
              "  <div id=\"df-a1b5e338-b170-40b1-aaac-a4d71a9ab572\">\n",
              "    <div class=\"colab-df-container\">\n",
              "      <div>\n",
              "<style scoped>\n",
              "    .dataframe tbody tr th:only-of-type {\n",
              "        vertical-align: middle;\n",
              "    }\n",
              "\n",
              "    .dataframe tbody tr th {\n",
              "        vertical-align: top;\n",
              "    }\n",
              "\n",
              "    .dataframe thead th {\n",
              "        text-align: right;\n",
              "    }\n",
              "</style>\n",
              "<table border=\"1\" class=\"dataframe\">\n",
              "  <thead>\n",
              "    <tr style=\"text-align: right;\">\n",
              "      <th></th>\n",
              "      <th>Open</th>\n",
              "      <th>High</th>\n",
              "      <th>Low</th>\n",
              "      <th>Close</th>\n",
              "      <th>Volume</th>\n",
              "    </tr>\n",
              "  </thead>\n",
              "  <tbody>\n",
              "    <tr>\n",
              "      <th>count</th>\n",
              "      <td>9452.000000</td>\n",
              "      <td>9452.000000</td>\n",
              "      <td>9452.000000</td>\n",
              "      <td>9452.000000</td>\n",
              "      <td>9.452000e+03</td>\n",
              "    </tr>\n",
              "    <tr>\n",
              "      <th>mean</th>\n",
              "      <td>2912.524596</td>\n",
              "      <td>2936.916361</td>\n",
              "      <td>2886.621040</td>\n",
              "      <td>2913.110486</td>\n",
              "      <td>1.605148e+09</td>\n",
              "    </tr>\n",
              "    <tr>\n",
              "      <th>std</th>\n",
              "      <td>3532.796530</td>\n",
              "      <td>3560.467522</td>\n",
              "      <td>3502.370195</td>\n",
              "      <td>3533.277150</td>\n",
              "      <td>1.284032e+09</td>\n",
              "    </tr>\n",
              "    <tr>\n",
              "      <th>min</th>\n",
              "      <td>107.160004</td>\n",
              "      <td>108.269997</td>\n",
              "      <td>106.750000</td>\n",
              "      <td>107.160004</td>\n",
              "      <td>3.174000e+07</td>\n",
              "    </tr>\n",
              "    <tr>\n",
              "      <th>25%</th>\n",
              "      <td>418.295006</td>\n",
              "      <td>419.800011</td>\n",
              "      <td>416.107513</td>\n",
              "      <td>419.057510</td>\n",
              "      <td>4.711850e+08</td>\n",
              "    </tr>\n",
              "    <tr>\n",
              "      <th>50%</th>\n",
              "      <td>1632.840027</td>\n",
              "      <td>1653.000000</td>\n",
              "      <td>1619.309998</td>\n",
              "      <td>1634.525024</td>\n",
              "      <td>1.663260e+09</td>\n",
              "    </tr>\n",
              "    <tr>\n",
              "      <th>75%</th>\n",
              "      <td>3692.722534</td>\n",
              "      <td>3735.782471</td>\n",
              "      <td>3645.492493</td>\n",
              "      <td>3691.767517</td>\n",
              "      <td>2.066768e+09</td>\n",
              "    </tr>\n",
              "    <tr>\n",
              "      <th>max</th>\n",
              "      <td>16644.769531</td>\n",
              "      <td>16764.859375</td>\n",
              "      <td>16523.830078</td>\n",
              "      <td>16573.339844</td>\n",
              "      <td>1.162119e+10</td>\n",
              "    </tr>\n",
              "  </tbody>\n",
              "</table>\n",
              "</div>\n",
              "      <button class=\"colab-df-convert\" onclick=\"convertToInteractive('df-a1b5e338-b170-40b1-aaac-a4d71a9ab572')\"\n",
              "              title=\"Convert this dataframe to an interactive table.\"\n",
              "              style=\"display:none;\">\n",
              "        \n",
              "  <svg xmlns=\"http://www.w3.org/2000/svg\" height=\"24px\"viewBox=\"0 0 24 24\"\n",
              "       width=\"24px\">\n",
              "    <path d=\"M0 0h24v24H0V0z\" fill=\"none\"/>\n",
              "    <path d=\"M18.56 5.44l.94 2.06.94-2.06 2.06-.94-2.06-.94-.94-2.06-.94 2.06-2.06.94zm-11 1L8.5 8.5l.94-2.06 2.06-.94-2.06-.94L8.5 2.5l-.94 2.06-2.06.94zm10 10l.94 2.06.94-2.06 2.06-.94-2.06-.94-.94-2.06-.94 2.06-2.06.94z\"/><path d=\"M17.41 7.96l-1.37-1.37c-.4-.4-.92-.59-1.43-.59-.52 0-1.04.2-1.43.59L10.3 9.45l-7.72 7.72c-.78.78-.78 2.05 0 2.83L4 21.41c.39.39.9.59 1.41.59.51 0 1.02-.2 1.41-.59l7.78-7.78 2.81-2.81c.8-.78.8-2.07 0-2.86zM5.41 20L4 18.59l7.72-7.72 1.47 1.35L5.41 20z\"/>\n",
              "  </svg>\n",
              "      </button>\n",
              "      \n",
              "  <style>\n",
              "    .colab-df-container {\n",
              "      display:flex;\n",
              "      flex-wrap:wrap;\n",
              "      gap: 12px;\n",
              "    }\n",
              "\n",
              "    .colab-df-convert {\n",
              "      background-color: #E8F0FE;\n",
              "      border: none;\n",
              "      border-radius: 50%;\n",
              "      cursor: pointer;\n",
              "      display: none;\n",
              "      fill: #1967D2;\n",
              "      height: 32px;\n",
              "      padding: 0 0 0 0;\n",
              "      width: 32px;\n",
              "    }\n",
              "\n",
              "    .colab-df-convert:hover {\n",
              "      background-color: #E2EBFA;\n",
              "      box-shadow: 0px 1px 2px rgba(60, 64, 67, 0.3), 0px 1px 3px 1px rgba(60, 64, 67, 0.15);\n",
              "      fill: #174EA6;\n",
              "    }\n",
              "\n",
              "    [theme=dark] .colab-df-convert {\n",
              "      background-color: #3B4455;\n",
              "      fill: #D2E3FC;\n",
              "    }\n",
              "\n",
              "    [theme=dark] .colab-df-convert:hover {\n",
              "      background-color: #434B5C;\n",
              "      box-shadow: 0px 1px 3px 1px rgba(0, 0, 0, 0.15);\n",
              "      filter: drop-shadow(0px 1px 2px rgba(0, 0, 0, 0.3));\n",
              "      fill: #FFFFFF;\n",
              "    }\n",
              "  </style>\n",
              "\n",
              "      <script>\n",
              "        const buttonEl =\n",
              "          document.querySelector('#df-a1b5e338-b170-40b1-aaac-a4d71a9ab572 button.colab-df-convert');\n",
              "        buttonEl.style.display =\n",
              "          google.colab.kernel.accessAllowed ? 'block' : 'none';\n",
              "\n",
              "        async function convertToInteractive(key) {\n",
              "          const element = document.querySelector('#df-a1b5e338-b170-40b1-aaac-a4d71a9ab572');\n",
              "          const dataTable =\n",
              "            await google.colab.kernel.invokeFunction('convertToInteractive',\n",
              "                                                     [key], {});\n",
              "          if (!dataTable) return;\n",
              "\n",
              "          const docLinkHtml = 'Like what you see? Visit the ' +\n",
              "            '<a target=\"_blank\" href=https://colab.research.google.com/notebooks/data_table.ipynb>data table notebook</a>'\n",
              "            + ' to learn more about interactive tables.';\n",
              "          element.innerHTML = '';\n",
              "          dataTable['output_type'] = 'display_data';\n",
              "          await google.colab.output.renderOutput(dataTable, element);\n",
              "          const docLink = document.createElement('div');\n",
              "          docLink.innerHTML = docLinkHtml;\n",
              "          element.appendChild(docLink);\n",
              "        }\n",
              "      </script>\n",
              "    </div>\n",
              "  </div>\n",
              "  "
            ]
          },
          "metadata": {},
          "execution_count": 4
        }
      ]
    },
    {
      "cell_type": "code",
      "source": [
        "# Test si aucune ligne manquante\n",
        "test_list = [champ == 0 for champ in df_historical_data.isnull().sum()]\n",
        "\n",
        "# Si toutes les colonnes sont True, résultat = True\n",
        "res1 = all(i for i in test_list)\n",
        "res1"
      ],
      "metadata": {
        "colab": {
          "base_uri": "https://localhost:8080/"
        },
        "id": "ecBhrvulVWmm",
        "outputId": "99b47b62-4cc6-4b68-8a06-13d98f7c55d6"
      },
      "execution_count": 5,
      "outputs": [
        {
          "output_type": "execute_result",
          "data": {
            "text/plain": [
              "True"
            ]
          },
          "metadata": {},
          "execution_count": 5
        }
      ]
    },
    {
      "cell_type": "code",
      "source": [
        "df_historical_data.tail(1)"
      ],
      "metadata": {
        "colab": {
          "base_uri": "https://localhost:8080/",
          "height": 81
        },
        "id": "XF7mNsSXVfbK",
        "outputId": "ff48e675-639b-4372-f144-4ee47a3d6c6a"
      },
      "execution_count": 6,
      "outputs": [
        {
          "output_type": "execute_result",
          "data": {
            "text/plain": [
              "                          Date     Open          High          Low  \\\n",
              "9451 2023-03-31 00:00:00-04:00  12969.0  13067.393555  12968.00293   \n",
              "\n",
              "             Close     Volume  \n",
              "9451  13061.050781  293105561  "
            ],
            "text/html": [
              "\n",
              "  <div id=\"df-7241a9e5-dd9e-442d-ba37-b4f5bd6b84eb\">\n",
              "    <div class=\"colab-df-container\">\n",
              "      <div>\n",
              "<style scoped>\n",
              "    .dataframe tbody tr th:only-of-type {\n",
              "        vertical-align: middle;\n",
              "    }\n",
              "\n",
              "    .dataframe tbody tr th {\n",
              "        vertical-align: top;\n",
              "    }\n",
              "\n",
              "    .dataframe thead th {\n",
              "        text-align: right;\n",
              "    }\n",
              "</style>\n",
              "<table border=\"1\" class=\"dataframe\">\n",
              "  <thead>\n",
              "    <tr style=\"text-align: right;\">\n",
              "      <th></th>\n",
              "      <th>Date</th>\n",
              "      <th>Open</th>\n",
              "      <th>High</th>\n",
              "      <th>Low</th>\n",
              "      <th>Close</th>\n",
              "      <th>Volume</th>\n",
              "    </tr>\n",
              "  </thead>\n",
              "  <tbody>\n",
              "    <tr>\n",
              "      <th>9451</th>\n",
              "      <td>2023-03-31 00:00:00-04:00</td>\n",
              "      <td>12969.0</td>\n",
              "      <td>13067.393555</td>\n",
              "      <td>12968.00293</td>\n",
              "      <td>13061.050781</td>\n",
              "      <td>293105561</td>\n",
              "    </tr>\n",
              "  </tbody>\n",
              "</table>\n",
              "</div>\n",
              "      <button class=\"colab-df-convert\" onclick=\"convertToInteractive('df-7241a9e5-dd9e-442d-ba37-b4f5bd6b84eb')\"\n",
              "              title=\"Convert this dataframe to an interactive table.\"\n",
              "              style=\"display:none;\">\n",
              "        \n",
              "  <svg xmlns=\"http://www.w3.org/2000/svg\" height=\"24px\"viewBox=\"0 0 24 24\"\n",
              "       width=\"24px\">\n",
              "    <path d=\"M0 0h24v24H0V0z\" fill=\"none\"/>\n",
              "    <path d=\"M18.56 5.44l.94 2.06.94-2.06 2.06-.94-2.06-.94-.94-2.06-.94 2.06-2.06.94zm-11 1L8.5 8.5l.94-2.06 2.06-.94-2.06-.94L8.5 2.5l-.94 2.06-2.06.94zm10 10l.94 2.06.94-2.06 2.06-.94-2.06-.94-.94-2.06-.94 2.06-2.06.94z\"/><path d=\"M17.41 7.96l-1.37-1.37c-.4-.4-.92-.59-1.43-.59-.52 0-1.04.2-1.43.59L10.3 9.45l-7.72 7.72c-.78.78-.78 2.05 0 2.83L4 21.41c.39.39.9.59 1.41.59.51 0 1.02-.2 1.41-.59l7.78-7.78 2.81-2.81c.8-.78.8-2.07 0-2.86zM5.41 20L4 18.59l7.72-7.72 1.47 1.35L5.41 20z\"/>\n",
              "  </svg>\n",
              "      </button>\n",
              "      \n",
              "  <style>\n",
              "    .colab-df-container {\n",
              "      display:flex;\n",
              "      flex-wrap:wrap;\n",
              "      gap: 12px;\n",
              "    }\n",
              "\n",
              "    .colab-df-convert {\n",
              "      background-color: #E8F0FE;\n",
              "      border: none;\n",
              "      border-radius: 50%;\n",
              "      cursor: pointer;\n",
              "      display: none;\n",
              "      fill: #1967D2;\n",
              "      height: 32px;\n",
              "      padding: 0 0 0 0;\n",
              "      width: 32px;\n",
              "    }\n",
              "\n",
              "    .colab-df-convert:hover {\n",
              "      background-color: #E2EBFA;\n",
              "      box-shadow: 0px 1px 2px rgba(60, 64, 67, 0.3), 0px 1px 3px 1px rgba(60, 64, 67, 0.15);\n",
              "      fill: #174EA6;\n",
              "    }\n",
              "\n",
              "    [theme=dark] .colab-df-convert {\n",
              "      background-color: #3B4455;\n",
              "      fill: #D2E3FC;\n",
              "    }\n",
              "\n",
              "    [theme=dark] .colab-df-convert:hover {\n",
              "      background-color: #434B5C;\n",
              "      box-shadow: 0px 1px 3px 1px rgba(0, 0, 0, 0.15);\n",
              "      filter: drop-shadow(0px 1px 2px rgba(0, 0, 0, 0.3));\n",
              "      fill: #FFFFFF;\n",
              "    }\n",
              "  </style>\n",
              "\n",
              "      <script>\n",
              "        const buttonEl =\n",
              "          document.querySelector('#df-7241a9e5-dd9e-442d-ba37-b4f5bd6b84eb button.colab-df-convert');\n",
              "        buttonEl.style.display =\n",
              "          google.colab.kernel.accessAllowed ? 'block' : 'none';\n",
              "\n",
              "        async function convertToInteractive(key) {\n",
              "          const element = document.querySelector('#df-7241a9e5-dd9e-442d-ba37-b4f5bd6b84eb');\n",
              "          const dataTable =\n",
              "            await google.colab.kernel.invokeFunction('convertToInteractive',\n",
              "                                                     [key], {});\n",
              "          if (!dataTable) return;\n",
              "\n",
              "          const docLinkHtml = 'Like what you see? Visit the ' +\n",
              "            '<a target=\"_blank\" href=https://colab.research.google.com/notebooks/data_table.ipynb>data table notebook</a>'\n",
              "            + ' to learn more about interactive tables.';\n",
              "          element.innerHTML = '';\n",
              "          dataTable['output_type'] = 'display_data';\n",
              "          await google.colab.output.renderOutput(dataTable, element);\n",
              "          const docLink = document.createElement('div');\n",
              "          docLink.innerHTML = docLinkHtml;\n",
              "          element.appendChild(docLink);\n",
              "        }\n",
              "      </script>\n",
              "    </div>\n",
              "  </div>\n",
              "  "
            ]
          },
          "metadata": {},
          "execution_count": 6
        }
      ]
    },
    {
      "cell_type": "code",
      "source": [
        "df_historical_data.dtypes"
      ],
      "metadata": {
        "colab": {
          "base_uri": "https://localhost:8080/"
        },
        "id": "FjsWbKF3Vr2c",
        "outputId": "742bb63d-ffd4-4669-ebd5-d76b2af3bffb"
      },
      "execution_count": 7,
      "outputs": [
        {
          "output_type": "execute_result",
          "data": {
            "text/plain": [
              "Date      datetime64[ns, America/New_York]\n",
              "Open                               float64\n",
              "High                               float64\n",
              "Low                                float64\n",
              "Close                              float64\n",
              "Volume                               int64\n",
              "dtype: object"
            ]
          },
          "metadata": {},
          "execution_count": 7
        }
      ]
    },
    {
      "cell_type": "markdown",
      "source": [
        "# Indicateurs techniques"
      ],
      "metadata": {
        "id": "uF71hL84VwyZ"
      }
    },
    {
      "cell_type": "markdown",
      "source": [
        "### Alphatrend"
      ],
      "metadata": {
        "id": "bJUTIaxyVz6B"
      }
    },
    {
      "cell_type": "code",
      "source": [
        "# Trend indicator, équivalent de l'affichage couleur\n",
        "def trend_indicator(trend):\n",
        "    if trend > 0 :\n",
        "        # Uptrend\n",
        "        x = 1\n",
        "    elif trend < 0 :\n",
        "        # Downtrend\n",
        "        x = -1\n",
        "    else :\n",
        "        # Range\n",
        "        x = 0\n",
        "    return x"
      ],
      "metadata": {
        "id": "W53ner8PX6Ay"
      },
      "execution_count": 8,
      "outputs": []
    },
    {
      "cell_type": "code",
      "source": [
        "# Defintion fonction\n",
        "def generate_alphatrend(df_in, mfi_p, mfi_seuil, atr_l, m):\n",
        "    '''Paramètres d'entrée : longueur MFI, longueur ATR, multiplier\n",
        "    Retourne les colonnes Alphatrend, Alphatrend +2, Trend (position AT1 / AT2)\n",
        "    :mfi_p = période MFI servant à délimiter up/down de l'alphatrend\n",
        "    :mfi_seuil = période MFI pour recherche crossover, détermine uptrend ou downtrend'''\n",
        "\n",
        "    df = df_in.copy()\n",
        "\n",
        "    # Colonnes MFI\n",
        "    s_mfi = MFIIndicator(high=df.High, low=df.Low, close=df.Close, volume=df.Volume, window=mfi_p).money_flow_index()\n",
        "    df[\"MFI_ref\"] = s_mfi\n",
        "\n",
        "    # Colonne ATR\n",
        "    s_atr = AverageTrueRange(high=df.High, low=df.Low, close=df.Close, window=atr_l).average_true_range()\n",
        "    df[\"ATR\"] = s_atr\n",
        "\n",
        "    # Lignes UpT et DownT\n",
        "    df[\"UpT_support\"] = df[\"Low\"] - df[\"ATR\"] * m\n",
        "    df[\"DownT_support\"] = df[\"High\"] + df[\"ATR\"] * m\n",
        "\n",
        "    # Suppression des lignes sans signal, en début de DataFrame\n",
        "    df.dropna(inplace=True)\n",
        "    df.reset_index(drop=True, inplace=True)\n",
        "\n",
        "    # ===============================================\n",
        "    # Calcul Alphatrend, en tant que série\n",
        "    \n",
        "    Alphatrend = [0]\n",
        "\n",
        "    for i in range (1, df.shape[0]):\n",
        "        # Cas Uptrend\n",
        "        if df.at[i,\"MFI_ref\"] >= mfi_seuil :\n",
        "            if df.at[i,\"UpT_support\"] < Alphatrend[-1] :\n",
        "                # Flat\n",
        "                Alphatrend.append(Alphatrend[-1])\n",
        "            else :\n",
        "                # Trailing stop loss Up\n",
        "                Alphatrend.append(df.at[i,\"UpT_support\"])\n",
        "\n",
        "        # Cas Downtrend, MFI < 50\n",
        "        else :\n",
        "            if df.at[i,\"DownT_support\"] > Alphatrend[-1] :\n",
        "                # Flat\n",
        "                Alphatrend.append(Alphatrend[-1])\n",
        "            else :\n",
        "                # Trailing stop loss Down\n",
        "                Alphatrend.append(df.at[i,\"DownT_support\"])\n",
        "\n",
        "    # ===============================================\n",
        "    # Ajout des lignes k1 et k2 en tant que colonnes\n",
        "    \n",
        "    if df.shape[0] == len(Alphatrend):\n",
        "        df[\"Alphatrend_k1\"] = pd.Series(Alphatrend).apply(lambda x: round(x,2))\n",
        "        # Ligne k2 décalée de 2j\n",
        "        Alphatrend2 = df[\"Alphatrend_k1\"].shift(periods=2, fill_value=0)\n",
        "        df[\"Alphatrend_k2\"] = pd.Series(Alphatrend2).apply(lambda x: round(x,2))\n",
        "        # Trend\n",
        "        df[\"Trend\"] = df.Alphatrend_k1 - df.Alphatrend_k2\n",
        "        df[\"Trend\"] = df[\"Trend\"].apply(trend_indicator)\n",
        "    else :\n",
        "        print(\"Erreur lors de la génération des lignes Alphatrend\")\n",
        "\n",
        "    # ===============================================\n",
        "    # Génération des signaux Achat / Vente\n",
        "\n",
        "    # On isole tous les index non neutres, où AT1 != AT2, à la hausse (1) comme à la baisse (-1)\n",
        "    s_trend = df[\"Trend\"].loc[df[\"Trend\"]!=0]\n",
        "    s_trend_diff = s_trend - s_trend.shift(1)\n",
        "\n",
        "    buy_signal_indexes = s_trend_diff[s_trend_diff == 2].index\n",
        "    sell_signal_indexes = s_trend_diff[s_trend_diff == -2].index\n",
        "\n",
        "    df[\"Signal\"] = 0\n",
        "    df.loc[buy_signal_indexes,\"Signal\"] = 1\n",
        "    df.loc[sell_signal_indexes,\"Signal\"] = -1\n",
        "\n",
        "    # ===============================================\n",
        "    # Spécification des colonnes avec les paramètres d'entrée\n",
        "    params = \"MFIp = \" + str(mfi_p) + \", MFItrigger = \" + str(mfi_seuil) + \", ATR = \" + str(atr_l) + \", m = \" + str(m)\n",
        "    # Sélection des colonnes suffisantes\n",
        "    df = df[[\"Date\",\"Alphatrend_k1\",\"Alphatrend_k2\",\"Trend\",\"Signal\"]]\n",
        "    \n",
        "    return df, params"
      ],
      "metadata": {
        "id": "Wm2pANWHVvw6"
      },
      "execution_count": 9,
      "outputs": []
    },
    {
      "cell_type": "code",
      "source": [
        "df_AT, parametres_AT = generate_alphatrend(df_historical_data, mfi_p=14, mfi_seuil=50, atr_l=14, m=1.6)"
      ],
      "metadata": {
        "id": "f5vnETlGaRSB"
      },
      "execution_count": 10,
      "outputs": []
    },
    {
      "cell_type": "code",
      "source": [
        "# Servira à stocker les paramètres testés pour identifier la meilleure combinaison\n",
        "print(parametres_AT)"
      ],
      "metadata": {
        "colab": {
          "base_uri": "https://localhost:8080/"
        },
        "id": "DCPpJOBYbBCe",
        "outputId": "89c474a3-aeef-4584-ff1f-6e05fc08ac11"
      },
      "execution_count": 11,
      "outputs": [
        {
          "output_type": "stream",
          "name": "stdout",
          "text": [
            "MFIp = 14, MFItrigger = 50, ATR = 14, m = 1.6\n"
          ]
        }
      ]
    },
    {
      "cell_type": "code",
      "source": [
        "df_AT.tail(1)"
      ],
      "metadata": {
        "colab": {
          "base_uri": "https://localhost:8080/",
          "height": 81
        },
        "id": "odsiUQE7bBZd",
        "outputId": "21d0aa66-8420-42ba-ed13-c33b8a9a964a"
      },
      "execution_count": 12,
      "outputs": [
        {
          "output_type": "execute_result",
          "data": {
            "text/plain": [
              "                          Date  Alphatrend_k1  Alphatrend_k2  Trend  Signal\n",
              "9438 2023-03-31 00:00:00-04:00       12602.26       12341.79      1       0"
            ],
            "text/html": [
              "\n",
              "  <div id=\"df-7b79d194-d65b-44d9-ab47-299ac4df4281\">\n",
              "    <div class=\"colab-df-container\">\n",
              "      <div>\n",
              "<style scoped>\n",
              "    .dataframe tbody tr th:only-of-type {\n",
              "        vertical-align: middle;\n",
              "    }\n",
              "\n",
              "    .dataframe tbody tr th {\n",
              "        vertical-align: top;\n",
              "    }\n",
              "\n",
              "    .dataframe thead th {\n",
              "        text-align: right;\n",
              "    }\n",
              "</style>\n",
              "<table border=\"1\" class=\"dataframe\">\n",
              "  <thead>\n",
              "    <tr style=\"text-align: right;\">\n",
              "      <th></th>\n",
              "      <th>Date</th>\n",
              "      <th>Alphatrend_k1</th>\n",
              "      <th>Alphatrend_k2</th>\n",
              "      <th>Trend</th>\n",
              "      <th>Signal</th>\n",
              "    </tr>\n",
              "  </thead>\n",
              "  <tbody>\n",
              "    <tr>\n",
              "      <th>9438</th>\n",
              "      <td>2023-03-31 00:00:00-04:00</td>\n",
              "      <td>12602.26</td>\n",
              "      <td>12341.79</td>\n",
              "      <td>1</td>\n",
              "      <td>0</td>\n",
              "    </tr>\n",
              "  </tbody>\n",
              "</table>\n",
              "</div>\n",
              "      <button class=\"colab-df-convert\" onclick=\"convertToInteractive('df-7b79d194-d65b-44d9-ab47-299ac4df4281')\"\n",
              "              title=\"Convert this dataframe to an interactive table.\"\n",
              "              style=\"display:none;\">\n",
              "        \n",
              "  <svg xmlns=\"http://www.w3.org/2000/svg\" height=\"24px\"viewBox=\"0 0 24 24\"\n",
              "       width=\"24px\">\n",
              "    <path d=\"M0 0h24v24H0V0z\" fill=\"none\"/>\n",
              "    <path d=\"M18.56 5.44l.94 2.06.94-2.06 2.06-.94-2.06-.94-.94-2.06-.94 2.06-2.06.94zm-11 1L8.5 8.5l.94-2.06 2.06-.94-2.06-.94L8.5 2.5l-.94 2.06-2.06.94zm10 10l.94 2.06.94-2.06 2.06-.94-2.06-.94-.94-2.06-.94 2.06-2.06.94z\"/><path d=\"M17.41 7.96l-1.37-1.37c-.4-.4-.92-.59-1.43-.59-.52 0-1.04.2-1.43.59L10.3 9.45l-7.72 7.72c-.78.78-.78 2.05 0 2.83L4 21.41c.39.39.9.59 1.41.59.51 0 1.02-.2 1.41-.59l7.78-7.78 2.81-2.81c.8-.78.8-2.07 0-2.86zM5.41 20L4 18.59l7.72-7.72 1.47 1.35L5.41 20z\"/>\n",
              "  </svg>\n",
              "      </button>\n",
              "      \n",
              "  <style>\n",
              "    .colab-df-container {\n",
              "      display:flex;\n",
              "      flex-wrap:wrap;\n",
              "      gap: 12px;\n",
              "    }\n",
              "\n",
              "    .colab-df-convert {\n",
              "      background-color: #E8F0FE;\n",
              "      border: none;\n",
              "      border-radius: 50%;\n",
              "      cursor: pointer;\n",
              "      display: none;\n",
              "      fill: #1967D2;\n",
              "      height: 32px;\n",
              "      padding: 0 0 0 0;\n",
              "      width: 32px;\n",
              "    }\n",
              "\n",
              "    .colab-df-convert:hover {\n",
              "      background-color: #E2EBFA;\n",
              "      box-shadow: 0px 1px 2px rgba(60, 64, 67, 0.3), 0px 1px 3px 1px rgba(60, 64, 67, 0.15);\n",
              "      fill: #174EA6;\n",
              "    }\n",
              "\n",
              "    [theme=dark] .colab-df-convert {\n",
              "      background-color: #3B4455;\n",
              "      fill: #D2E3FC;\n",
              "    }\n",
              "\n",
              "    [theme=dark] .colab-df-convert:hover {\n",
              "      background-color: #434B5C;\n",
              "      box-shadow: 0px 1px 3px 1px rgba(0, 0, 0, 0.15);\n",
              "      filter: drop-shadow(0px 1px 2px rgba(0, 0, 0, 0.3));\n",
              "      fill: #FFFFFF;\n",
              "    }\n",
              "  </style>\n",
              "\n",
              "      <script>\n",
              "        const buttonEl =\n",
              "          document.querySelector('#df-7b79d194-d65b-44d9-ab47-299ac4df4281 button.colab-df-convert');\n",
              "        buttonEl.style.display =\n",
              "          google.colab.kernel.accessAllowed ? 'block' : 'none';\n",
              "\n",
              "        async function convertToInteractive(key) {\n",
              "          const element = document.querySelector('#df-7b79d194-d65b-44d9-ab47-299ac4df4281');\n",
              "          const dataTable =\n",
              "            await google.colab.kernel.invokeFunction('convertToInteractive',\n",
              "                                                     [key], {});\n",
              "          if (!dataTable) return;\n",
              "\n",
              "          const docLinkHtml = 'Like what you see? Visit the ' +\n",
              "            '<a target=\"_blank\" href=https://colab.research.google.com/notebooks/data_table.ipynb>data table notebook</a>'\n",
              "            + ' to learn more about interactive tables.';\n",
              "          element.innerHTML = '';\n",
              "          dataTable['output_type'] = 'display_data';\n",
              "          await google.colab.output.renderOutput(dataTable, element);\n",
              "          const docLink = document.createElement('div');\n",
              "          docLink.innerHTML = docLinkHtml;\n",
              "          element.appendChild(docLink);\n",
              "        }\n",
              "      </script>\n",
              "    </div>\n",
              "  </div>\n",
              "  "
            ]
          },
          "metadata": {},
          "execution_count": 12
        }
      ]
    },
    {
      "cell_type": "markdown",
      "source": [
        "### STC & EMA"
      ],
      "metadata": {
        "id": "EbCqhjaFcBXo"
      }
    },
    {
      "cell_type": "code",
      "source": [
        "def generate_STC_and_EMA(df_in, stc_length, fast_length, slow_length, ema_period):\n",
        "  \n",
        "  df = df_in[[\"Date\",\"Close\"]].copy()\n",
        "\n",
        "  s_stc = STCIndicator(close=df.Close, window_slow=slow_length, window_fast=fast_length, cycle=stc_length).stc()\n",
        "  s_ema = EMAIndicator(close=df.Close, window=ema_period).ema_indicator()\n",
        "\n",
        "  df[\"STC\"] = round(s_stc,2)\n",
        "  df[\"EMA\"] = round(s_ema,2)\n",
        "\n",
        "  params = \"STC Length = \" + str(stc_length) + \", Fast Length = \" + str(fast_length) + \", Slow Length = \" + str(slow_length) + \", EMA length = \" + str(ema_period)\n",
        "\n",
        "  df.drop(columns=[\"Close\"], inplace=True)\n",
        "\n",
        "  return df, params"
      ],
      "metadata": {
        "id": "Kr56pqQgdycS"
      },
      "execution_count": 13,
      "outputs": []
    },
    {
      "cell_type": "code",
      "source": [
        "df_STC_EMA, params_STC_EMA = generate_STC_and_EMA(df_historical_data, stc_length=80, fast_length=27, slow_length=50, ema_period=200)"
      ],
      "metadata": {
        "id": "a8Rc-_MzfJnD"
      },
      "execution_count": 14,
      "outputs": []
    },
    {
      "cell_type": "code",
      "source": [
        "# Servira à stocker les paramètres testés pour identifier la meilleure combinaison\n",
        "print(params_STC_EMA)"
      ],
      "metadata": {
        "colab": {
          "base_uri": "https://localhost:8080/"
        },
        "id": "WZuv-zCpfck-",
        "outputId": "57431998-5762-4ed2-8631-540bfb968602"
      },
      "execution_count": 15,
      "outputs": [
        {
          "output_type": "stream",
          "name": "stdout",
          "text": [
            "STC Length = 80, Fast Length = 27, Slow Length = 50, EMA length = 200\n"
          ]
        }
      ]
    },
    {
      "cell_type": "code",
      "source": [
        "df_STC_EMA.tail(1)"
      ],
      "metadata": {
        "colab": {
          "base_uri": "https://localhost:8080/",
          "height": 81
        },
        "id": "Gh7eYBx_fj6P",
        "outputId": "75b55d9d-3187-41a3-8b67-664660521838"
      },
      "execution_count": 16,
      "outputs": [
        {
          "output_type": "execute_result",
          "data": {
            "text/plain": [
              "                          Date    STC      EMA\n",
              "9451 2023-03-31 00:00:00-04:00  70.42  12227.3"
            ],
            "text/html": [
              "\n",
              "  <div id=\"df-84c369b0-569b-43a9-94d2-841d8c14d216\">\n",
              "    <div class=\"colab-df-container\">\n",
              "      <div>\n",
              "<style scoped>\n",
              "    .dataframe tbody tr th:only-of-type {\n",
              "        vertical-align: middle;\n",
              "    }\n",
              "\n",
              "    .dataframe tbody tr th {\n",
              "        vertical-align: top;\n",
              "    }\n",
              "\n",
              "    .dataframe thead th {\n",
              "        text-align: right;\n",
              "    }\n",
              "</style>\n",
              "<table border=\"1\" class=\"dataframe\">\n",
              "  <thead>\n",
              "    <tr style=\"text-align: right;\">\n",
              "      <th></th>\n",
              "      <th>Date</th>\n",
              "      <th>STC</th>\n",
              "      <th>EMA</th>\n",
              "    </tr>\n",
              "  </thead>\n",
              "  <tbody>\n",
              "    <tr>\n",
              "      <th>9451</th>\n",
              "      <td>2023-03-31 00:00:00-04:00</td>\n",
              "      <td>70.42</td>\n",
              "      <td>12227.3</td>\n",
              "    </tr>\n",
              "  </tbody>\n",
              "</table>\n",
              "</div>\n",
              "      <button class=\"colab-df-convert\" onclick=\"convertToInteractive('df-84c369b0-569b-43a9-94d2-841d8c14d216')\"\n",
              "              title=\"Convert this dataframe to an interactive table.\"\n",
              "              style=\"display:none;\">\n",
              "        \n",
              "  <svg xmlns=\"http://www.w3.org/2000/svg\" height=\"24px\"viewBox=\"0 0 24 24\"\n",
              "       width=\"24px\">\n",
              "    <path d=\"M0 0h24v24H0V0z\" fill=\"none\"/>\n",
              "    <path d=\"M18.56 5.44l.94 2.06.94-2.06 2.06-.94-2.06-.94-.94-2.06-.94 2.06-2.06.94zm-11 1L8.5 8.5l.94-2.06 2.06-.94-2.06-.94L8.5 2.5l-.94 2.06-2.06.94zm10 10l.94 2.06.94-2.06 2.06-.94-2.06-.94-.94-2.06-.94 2.06-2.06.94z\"/><path d=\"M17.41 7.96l-1.37-1.37c-.4-.4-.92-.59-1.43-.59-.52 0-1.04.2-1.43.59L10.3 9.45l-7.72 7.72c-.78.78-.78 2.05 0 2.83L4 21.41c.39.39.9.59 1.41.59.51 0 1.02-.2 1.41-.59l7.78-7.78 2.81-2.81c.8-.78.8-2.07 0-2.86zM5.41 20L4 18.59l7.72-7.72 1.47 1.35L5.41 20z\"/>\n",
              "  </svg>\n",
              "      </button>\n",
              "      \n",
              "  <style>\n",
              "    .colab-df-container {\n",
              "      display:flex;\n",
              "      flex-wrap:wrap;\n",
              "      gap: 12px;\n",
              "    }\n",
              "\n",
              "    .colab-df-convert {\n",
              "      background-color: #E8F0FE;\n",
              "      border: none;\n",
              "      border-radius: 50%;\n",
              "      cursor: pointer;\n",
              "      display: none;\n",
              "      fill: #1967D2;\n",
              "      height: 32px;\n",
              "      padding: 0 0 0 0;\n",
              "      width: 32px;\n",
              "    }\n",
              "\n",
              "    .colab-df-convert:hover {\n",
              "      background-color: #E2EBFA;\n",
              "      box-shadow: 0px 1px 2px rgba(60, 64, 67, 0.3), 0px 1px 3px 1px rgba(60, 64, 67, 0.15);\n",
              "      fill: #174EA6;\n",
              "    }\n",
              "\n",
              "    [theme=dark] .colab-df-convert {\n",
              "      background-color: #3B4455;\n",
              "      fill: #D2E3FC;\n",
              "    }\n",
              "\n",
              "    [theme=dark] .colab-df-convert:hover {\n",
              "      background-color: #434B5C;\n",
              "      box-shadow: 0px 1px 3px 1px rgba(0, 0, 0, 0.15);\n",
              "      filter: drop-shadow(0px 1px 2px rgba(0, 0, 0, 0.3));\n",
              "      fill: #FFFFFF;\n",
              "    }\n",
              "  </style>\n",
              "\n",
              "      <script>\n",
              "        const buttonEl =\n",
              "          document.querySelector('#df-84c369b0-569b-43a9-94d2-841d8c14d216 button.colab-df-convert');\n",
              "        buttonEl.style.display =\n",
              "          google.colab.kernel.accessAllowed ? 'block' : 'none';\n",
              "\n",
              "        async function convertToInteractive(key) {\n",
              "          const element = document.querySelector('#df-84c369b0-569b-43a9-94d2-841d8c14d216');\n",
              "          const dataTable =\n",
              "            await google.colab.kernel.invokeFunction('convertToInteractive',\n",
              "                                                     [key], {});\n",
              "          if (!dataTable) return;\n",
              "\n",
              "          const docLinkHtml = 'Like what you see? Visit the ' +\n",
              "            '<a target=\"_blank\" href=https://colab.research.google.com/notebooks/data_table.ipynb>data table notebook</a>'\n",
              "            + ' to learn more about interactive tables.';\n",
              "          element.innerHTML = '';\n",
              "          dataTable['output_type'] = 'display_data';\n",
              "          await google.colab.output.renderOutput(dataTable, element);\n",
              "          const docLink = document.createElement('div');\n",
              "          docLink.innerHTML = docLinkHtml;\n",
              "          element.appendChild(docLink);\n",
              "        }\n",
              "      </script>\n",
              "    </div>\n",
              "  </div>\n",
              "  "
            ]
          },
          "metadata": {},
          "execution_count": 16
        }
      ]
    },
    {
      "cell_type": "markdown",
      "source": [
        "### Merge et export du Dataset contenant l'ensemble des indicateurs techniques"
      ],
      "metadata": {
        "id": "KKlEf1rvi-BO"
      }
    },
    {
      "cell_type": "code",
      "source": [
        "df_essentials = df_historical_data[[\"Date\",\"Close\"]].copy()\n",
        "df_essentials[\"Close\"] = df_essentials.Close.apply(lambda x: round(x,2))"
      ],
      "metadata": {
        "id": "EED7tqHijbQ2"
      },
      "execution_count": 17,
      "outputs": []
    },
    {
      "cell_type": "code",
      "source": [
        "data_frames = [df_essentials, df_AT, df_STC_EMA]\n",
        "df_IT = reduce(lambda  left,right: pd.merge(left,right, on=['Date'], how='left'), data_frames)"
      ],
      "metadata": {
        "id": "mc7UMm3ajDR6"
      },
      "execution_count": 18,
      "outputs": []
    },
    {
      "cell_type": "code",
      "source": [
        "df_IT = df_IT.loc[df_IT[\"Date\"]>\"1998-01-01\"]"
      ],
      "metadata": {
        "id": "e8Vjeliuj6q6"
      },
      "execution_count": 19,
      "outputs": []
    },
    {
      "cell_type": "code",
      "source": [
        "df_IT.head(1)"
      ],
      "metadata": {
        "colab": {
          "base_uri": "https://localhost:8080/",
          "height": 81
        },
        "id": "c0ZYWzZRkTNS",
        "outputId": "59f63212-293a-4cdf-b59f-1420a2ab6fbd"
      },
      "execution_count": 20,
      "outputs": [
        {
          "output_type": "execute_result",
          "data": {
            "text/plain": [
              "                          Date    Close  Alphatrend_k1  Alphatrend_k2  Trend  \\\n",
              "3099 1998-01-02 00:00:00-05:00  1008.23         995.16         995.16    0.0   \n",
              "\n",
              "      Signal   STC    EMA  \n",
              "3099     0.0  5.72  998.3  "
            ],
            "text/html": [
              "\n",
              "  <div id=\"df-44db3d3b-4548-4b14-b031-c323458a2ea8\">\n",
              "    <div class=\"colab-df-container\">\n",
              "      <div>\n",
              "<style scoped>\n",
              "    .dataframe tbody tr th:only-of-type {\n",
              "        vertical-align: middle;\n",
              "    }\n",
              "\n",
              "    .dataframe tbody tr th {\n",
              "        vertical-align: top;\n",
              "    }\n",
              "\n",
              "    .dataframe thead th {\n",
              "        text-align: right;\n",
              "    }\n",
              "</style>\n",
              "<table border=\"1\" class=\"dataframe\">\n",
              "  <thead>\n",
              "    <tr style=\"text-align: right;\">\n",
              "      <th></th>\n",
              "      <th>Date</th>\n",
              "      <th>Close</th>\n",
              "      <th>Alphatrend_k1</th>\n",
              "      <th>Alphatrend_k2</th>\n",
              "      <th>Trend</th>\n",
              "      <th>Signal</th>\n",
              "      <th>STC</th>\n",
              "      <th>EMA</th>\n",
              "    </tr>\n",
              "  </thead>\n",
              "  <tbody>\n",
              "    <tr>\n",
              "      <th>3099</th>\n",
              "      <td>1998-01-02 00:00:00-05:00</td>\n",
              "      <td>1008.23</td>\n",
              "      <td>995.16</td>\n",
              "      <td>995.16</td>\n",
              "      <td>0.0</td>\n",
              "      <td>0.0</td>\n",
              "      <td>5.72</td>\n",
              "      <td>998.3</td>\n",
              "    </tr>\n",
              "  </tbody>\n",
              "</table>\n",
              "</div>\n",
              "      <button class=\"colab-df-convert\" onclick=\"convertToInteractive('df-44db3d3b-4548-4b14-b031-c323458a2ea8')\"\n",
              "              title=\"Convert this dataframe to an interactive table.\"\n",
              "              style=\"display:none;\">\n",
              "        \n",
              "  <svg xmlns=\"http://www.w3.org/2000/svg\" height=\"24px\"viewBox=\"0 0 24 24\"\n",
              "       width=\"24px\">\n",
              "    <path d=\"M0 0h24v24H0V0z\" fill=\"none\"/>\n",
              "    <path d=\"M18.56 5.44l.94 2.06.94-2.06 2.06-.94-2.06-.94-.94-2.06-.94 2.06-2.06.94zm-11 1L8.5 8.5l.94-2.06 2.06-.94-2.06-.94L8.5 2.5l-.94 2.06-2.06.94zm10 10l.94 2.06.94-2.06 2.06-.94-2.06-.94-.94-2.06-.94 2.06-2.06.94z\"/><path d=\"M17.41 7.96l-1.37-1.37c-.4-.4-.92-.59-1.43-.59-.52 0-1.04.2-1.43.59L10.3 9.45l-7.72 7.72c-.78.78-.78 2.05 0 2.83L4 21.41c.39.39.9.59 1.41.59.51 0 1.02-.2 1.41-.59l7.78-7.78 2.81-2.81c.8-.78.8-2.07 0-2.86zM5.41 20L4 18.59l7.72-7.72 1.47 1.35L5.41 20z\"/>\n",
              "  </svg>\n",
              "      </button>\n",
              "      \n",
              "  <style>\n",
              "    .colab-df-container {\n",
              "      display:flex;\n",
              "      flex-wrap:wrap;\n",
              "      gap: 12px;\n",
              "    }\n",
              "\n",
              "    .colab-df-convert {\n",
              "      background-color: #E8F0FE;\n",
              "      border: none;\n",
              "      border-radius: 50%;\n",
              "      cursor: pointer;\n",
              "      display: none;\n",
              "      fill: #1967D2;\n",
              "      height: 32px;\n",
              "      padding: 0 0 0 0;\n",
              "      width: 32px;\n",
              "    }\n",
              "\n",
              "    .colab-df-convert:hover {\n",
              "      background-color: #E2EBFA;\n",
              "      box-shadow: 0px 1px 2px rgba(60, 64, 67, 0.3), 0px 1px 3px 1px rgba(60, 64, 67, 0.15);\n",
              "      fill: #174EA6;\n",
              "    }\n",
              "\n",
              "    [theme=dark] .colab-df-convert {\n",
              "      background-color: #3B4455;\n",
              "      fill: #D2E3FC;\n",
              "    }\n",
              "\n",
              "    [theme=dark] .colab-df-convert:hover {\n",
              "      background-color: #434B5C;\n",
              "      box-shadow: 0px 1px 3px 1px rgba(0, 0, 0, 0.15);\n",
              "      filter: drop-shadow(0px 1px 2px rgba(0, 0, 0, 0.3));\n",
              "      fill: #FFFFFF;\n",
              "    }\n",
              "  </style>\n",
              "\n",
              "      <script>\n",
              "        const buttonEl =\n",
              "          document.querySelector('#df-44db3d3b-4548-4b14-b031-c323458a2ea8 button.colab-df-convert');\n",
              "        buttonEl.style.display =\n",
              "          google.colab.kernel.accessAllowed ? 'block' : 'none';\n",
              "\n",
              "        async function convertToInteractive(key) {\n",
              "          const element = document.querySelector('#df-44db3d3b-4548-4b14-b031-c323458a2ea8');\n",
              "          const dataTable =\n",
              "            await google.colab.kernel.invokeFunction('convertToInteractive',\n",
              "                                                     [key], {});\n",
              "          if (!dataTable) return;\n",
              "\n",
              "          const docLinkHtml = 'Like what you see? Visit the ' +\n",
              "            '<a target=\"_blank\" href=https://colab.research.google.com/notebooks/data_table.ipynb>data table notebook</a>'\n",
              "            + ' to learn more about interactive tables.';\n",
              "          element.innerHTML = '';\n",
              "          dataTable['output_type'] = 'display_data';\n",
              "          await google.colab.output.renderOutput(dataTable, element);\n",
              "          const docLink = document.createElement('div');\n",
              "          docLink.innerHTML = docLinkHtml;\n",
              "          element.appendChild(docLink);\n",
              "        }\n",
              "      </script>\n",
              "    </div>\n",
              "  </div>\n",
              "  "
            ]
          },
          "metadata": {},
          "execution_count": 20
        }
      ]
    },
    {
      "cell_type": "code",
      "source": [
        "df_IT[\"Trend\"].value_counts()"
      ],
      "metadata": {
        "colab": {
          "base_uri": "https://localhost:8080/"
        },
        "id": "H9l1X-oEkVF4",
        "outputId": "d2b17f1f-6d51-48f6-98e2-77e44ea8cb16"
      },
      "execution_count": 21,
      "outputs": [
        {
          "output_type": "execute_result",
          "data": {
            "text/plain": [
              " 0.0    4115\n",
              " 1.0    1602\n",
              "-1.0     636\n",
              "Name: Trend, dtype: int64"
            ]
          },
          "metadata": {},
          "execution_count": 21
        }
      ]
    },
    {
      "cell_type": "code",
      "source": [
        "df_IT.reset_index(drop=True,inplace=True)"
      ],
      "metadata": {
        "id": "5iZP3Wado_ZB"
      },
      "execution_count": 22,
      "outputs": []
    },
    {
      "cell_type": "code",
      "source": [
        "# Test si aucune ligne manquante\n",
        "test_list = [champ == 0 for champ in df_historical_data.isnull().sum()]\n",
        "test_list2 = [champ == 0 for champ in df_historical_data.isna().sum()]\n",
        "\n",
        "# Si toutes les colonnes sont True, résultat = True\n",
        "res1 = all(i for i in test_list)\n",
        "res2 = all(i for i in test_list2)\n",
        "\n",
        "if res1 and res2 :\n",
        "  print(\"Ok pour Backtesting\")\n",
        "else :\n",
        "  print(\"Anomalies détectées\")"
      ],
      "metadata": {
        "colab": {
          "base_uri": "https://localhost:8080/"
        },
        "id": "8Fp1RLnQnmDG",
        "outputId": "0af20012-f650-4c6b-a934-a477682a31a9"
      },
      "execution_count": 23,
      "outputs": [
        {
          "output_type": "stream",
          "name": "stdout",
          "text": [
            "Ok pour Backtesting\n"
          ]
        }
      ]
    },
    {
      "cell_type": "code",
      "source": [
        "df_IT.to_csv(\"/content/drive/MyDrive/Colab Notebooks/sources/TradingView_strategies/AT_STC_EMA_indicateurs.csv\", header=True, index=False)"
      ],
      "metadata": {
        "id": "wQZRiYixofQ6"
      },
      "execution_count": 24,
      "outputs": []
    },
    {
      "cell_type": "markdown",
      "source": [
        "# Backtesting"
      ],
      "metadata": {
        "id": "GhSGRvpJpLN3"
      }
    },
    {
      "cell_type": "markdown",
      "source": [
        "## Détection des entrées"
      ],
      "metadata": {
        "id": "B4WrFhfVpOXv"
      }
    },
    {
      "cell_type": "markdown",
      "source": [
        "Stratégie :<br>\n",
        "<li>Entreée : Buy signal + Prix > EMA (200) + STC < seuil(25)</li>\n",
        "<li>Sortie : Sell signal + Prix < EMA (200) + STC > seuil(75)</li>"
      ],
      "metadata": {
        "id": "RWCU9QZoQ1u-"
      }
    },
    {
      "cell_type": "code",
      "source": [
        "df_IT.head()"
      ],
      "metadata": {
        "id": "4w0RY9fNQ2lt",
        "colab": {
          "base_uri": "https://localhost:8080/",
          "height": 206
        },
        "outputId": "4ec2e94e-c60a-402f-a252-c9f8ae73fbd9"
      },
      "execution_count": 25,
      "outputs": [
        {
          "output_type": "execute_result",
          "data": {
            "text/plain": [
              "                       Date    Close  Alphatrend_k1  Alphatrend_k2  Trend  \\\n",
              "0 1998-01-02 00:00:00-05:00  1008.23         995.16         995.16    0.0   \n",
              "1 1998-01-05 00:00:00-05:00  1017.42         995.16         995.16    0.0   \n",
              "2 1998-01-06 00:00:00-05:00  1006.29         995.16         995.16    0.0   \n",
              "3 1998-01-07 00:00:00-05:00   991.19         995.16         995.16    0.0   \n",
              "4 1998-01-08 00:00:00-05:00   994.55         995.16         995.16    0.0   \n",
              "\n",
              "   Signal    STC     EMA  \n",
              "0     0.0   5.72  998.30  \n",
              "1     0.0  11.67  998.49  \n",
              "2     0.0  21.32  998.56  \n",
              "3     0.0  34.99  998.49  \n",
              "4     0.0  45.28  998.45  "
            ],
            "text/html": [
              "\n",
              "  <div id=\"df-24f9abdb-e254-445f-bb0b-c4be9eba2e2a\">\n",
              "    <div class=\"colab-df-container\">\n",
              "      <div>\n",
              "<style scoped>\n",
              "    .dataframe tbody tr th:only-of-type {\n",
              "        vertical-align: middle;\n",
              "    }\n",
              "\n",
              "    .dataframe tbody tr th {\n",
              "        vertical-align: top;\n",
              "    }\n",
              "\n",
              "    .dataframe thead th {\n",
              "        text-align: right;\n",
              "    }\n",
              "</style>\n",
              "<table border=\"1\" class=\"dataframe\">\n",
              "  <thead>\n",
              "    <tr style=\"text-align: right;\">\n",
              "      <th></th>\n",
              "      <th>Date</th>\n",
              "      <th>Close</th>\n",
              "      <th>Alphatrend_k1</th>\n",
              "      <th>Alphatrend_k2</th>\n",
              "      <th>Trend</th>\n",
              "      <th>Signal</th>\n",
              "      <th>STC</th>\n",
              "      <th>EMA</th>\n",
              "    </tr>\n",
              "  </thead>\n",
              "  <tbody>\n",
              "    <tr>\n",
              "      <th>0</th>\n",
              "      <td>1998-01-02 00:00:00-05:00</td>\n",
              "      <td>1008.23</td>\n",
              "      <td>995.16</td>\n",
              "      <td>995.16</td>\n",
              "      <td>0.0</td>\n",
              "      <td>0.0</td>\n",
              "      <td>5.72</td>\n",
              "      <td>998.30</td>\n",
              "    </tr>\n",
              "    <tr>\n",
              "      <th>1</th>\n",
              "      <td>1998-01-05 00:00:00-05:00</td>\n",
              "      <td>1017.42</td>\n",
              "      <td>995.16</td>\n",
              "      <td>995.16</td>\n",
              "      <td>0.0</td>\n",
              "      <td>0.0</td>\n",
              "      <td>11.67</td>\n",
              "      <td>998.49</td>\n",
              "    </tr>\n",
              "    <tr>\n",
              "      <th>2</th>\n",
              "      <td>1998-01-06 00:00:00-05:00</td>\n",
              "      <td>1006.29</td>\n",
              "      <td>995.16</td>\n",
              "      <td>995.16</td>\n",
              "      <td>0.0</td>\n",
              "      <td>0.0</td>\n",
              "      <td>21.32</td>\n",
              "      <td>998.56</td>\n",
              "    </tr>\n",
              "    <tr>\n",
              "      <th>3</th>\n",
              "      <td>1998-01-07 00:00:00-05:00</td>\n",
              "      <td>991.19</td>\n",
              "      <td>995.16</td>\n",
              "      <td>995.16</td>\n",
              "      <td>0.0</td>\n",
              "      <td>0.0</td>\n",
              "      <td>34.99</td>\n",
              "      <td>998.49</td>\n",
              "    </tr>\n",
              "    <tr>\n",
              "      <th>4</th>\n",
              "      <td>1998-01-08 00:00:00-05:00</td>\n",
              "      <td>994.55</td>\n",
              "      <td>995.16</td>\n",
              "      <td>995.16</td>\n",
              "      <td>0.0</td>\n",
              "      <td>0.0</td>\n",
              "      <td>45.28</td>\n",
              "      <td>998.45</td>\n",
              "    </tr>\n",
              "  </tbody>\n",
              "</table>\n",
              "</div>\n",
              "      <button class=\"colab-df-convert\" onclick=\"convertToInteractive('df-24f9abdb-e254-445f-bb0b-c4be9eba2e2a')\"\n",
              "              title=\"Convert this dataframe to an interactive table.\"\n",
              "              style=\"display:none;\">\n",
              "        \n",
              "  <svg xmlns=\"http://www.w3.org/2000/svg\" height=\"24px\"viewBox=\"0 0 24 24\"\n",
              "       width=\"24px\">\n",
              "    <path d=\"M0 0h24v24H0V0z\" fill=\"none\"/>\n",
              "    <path d=\"M18.56 5.44l.94 2.06.94-2.06 2.06-.94-2.06-.94-.94-2.06-.94 2.06-2.06.94zm-11 1L8.5 8.5l.94-2.06 2.06-.94-2.06-.94L8.5 2.5l-.94 2.06-2.06.94zm10 10l.94 2.06.94-2.06 2.06-.94-2.06-.94-.94-2.06-.94 2.06-2.06.94z\"/><path d=\"M17.41 7.96l-1.37-1.37c-.4-.4-.92-.59-1.43-.59-.52 0-1.04.2-1.43.59L10.3 9.45l-7.72 7.72c-.78.78-.78 2.05 0 2.83L4 21.41c.39.39.9.59 1.41.59.51 0 1.02-.2 1.41-.59l7.78-7.78 2.81-2.81c.8-.78.8-2.07 0-2.86zM5.41 20L4 18.59l7.72-7.72 1.47 1.35L5.41 20z\"/>\n",
              "  </svg>\n",
              "      </button>\n",
              "      \n",
              "  <style>\n",
              "    .colab-df-container {\n",
              "      display:flex;\n",
              "      flex-wrap:wrap;\n",
              "      gap: 12px;\n",
              "    }\n",
              "\n",
              "    .colab-df-convert {\n",
              "      background-color: #E8F0FE;\n",
              "      border: none;\n",
              "      border-radius: 50%;\n",
              "      cursor: pointer;\n",
              "      display: none;\n",
              "      fill: #1967D2;\n",
              "      height: 32px;\n",
              "      padding: 0 0 0 0;\n",
              "      width: 32px;\n",
              "    }\n",
              "\n",
              "    .colab-df-convert:hover {\n",
              "      background-color: #E2EBFA;\n",
              "      box-shadow: 0px 1px 2px rgba(60, 64, 67, 0.3), 0px 1px 3px 1px rgba(60, 64, 67, 0.15);\n",
              "      fill: #174EA6;\n",
              "    }\n",
              "\n",
              "    [theme=dark] .colab-df-convert {\n",
              "      background-color: #3B4455;\n",
              "      fill: #D2E3FC;\n",
              "    }\n",
              "\n",
              "    [theme=dark] .colab-df-convert:hover {\n",
              "      background-color: #434B5C;\n",
              "      box-shadow: 0px 1px 3px 1px rgba(0, 0, 0, 0.15);\n",
              "      filter: drop-shadow(0px 1px 2px rgba(0, 0, 0, 0.3));\n",
              "      fill: #FFFFFF;\n",
              "    }\n",
              "  </style>\n",
              "\n",
              "      <script>\n",
              "        const buttonEl =\n",
              "          document.querySelector('#df-24f9abdb-e254-445f-bb0b-c4be9eba2e2a button.colab-df-convert');\n",
              "        buttonEl.style.display =\n",
              "          google.colab.kernel.accessAllowed ? 'block' : 'none';\n",
              "\n",
              "        async function convertToInteractive(key) {\n",
              "          const element = document.querySelector('#df-24f9abdb-e254-445f-bb0b-c4be9eba2e2a');\n",
              "          const dataTable =\n",
              "            await google.colab.kernel.invokeFunction('convertToInteractive',\n",
              "                                                     [key], {});\n",
              "          if (!dataTable) return;\n",
              "\n",
              "          const docLinkHtml = 'Like what you see? Visit the ' +\n",
              "            '<a target=\"_blank\" href=https://colab.research.google.com/notebooks/data_table.ipynb>data table notebook</a>'\n",
              "            + ' to learn more about interactive tables.';\n",
              "          element.innerHTML = '';\n",
              "          dataTable['output_type'] = 'display_data';\n",
              "          await google.colab.output.renderOutput(dataTable, element);\n",
              "          const docLink = document.createElement('div');\n",
              "          docLink.innerHTML = docLinkHtml;\n",
              "          element.appendChild(docLink);\n",
              "        }\n",
              "      </script>\n",
              "    </div>\n",
              "  </div>\n",
              "  "
            ]
          },
          "metadata": {},
          "execution_count": 25
        }
      ]
    },
    {
      "cell_type": "code",
      "source": [
        "stc_seuil_bas = 25\n",
        "# Valeur 3 pour signaux d'entrée valides\n",
        "df_IT[\"Buy_entry\"] = math.copysign(1,(df_IT.Close-df_IT.EMA)) + df_IT.Signal + math.copysign(1,(stc_seuil_bas-df_IT.STC))\n",
        "\n",
        "stc_seuil_haut = 75\n",
        "# Valeur -3 pour signaux d'entrée valides\n",
        "# Attention / par deux signaux négatifs -> positif, d'où l'inversion sur un seul champ\n",
        "df_IT[\"Sell_entry\"] = math.copysign(1,df_IT.Close-df_IT.EMA) + df_IT.Signal + math.copysign(1,stc_seuil_haut-df_IT.STC)\n",
        "\n",
        "df_IT[\"Entry\"] = 0\n",
        "df_IT[\"Entry\"] = df_IT[\"Buy_entry\"] + df_IT[\"Sell_entry\"]"
      ],
      "metadata": {
        "colab": {
          "base_uri": "https://localhost:8080/",
          "height": 356
        },
        "id": "igd1ch6cQ0jb",
        "outputId": "a2e2e01c-3afc-4a59-c52f-ec8adb8197df"
      },
      "execution_count": 52,
      "outputs": [
        {
          "output_type": "error",
          "ename": "TypeError",
          "evalue": "ignored",
          "traceback": [
            "\u001b[0;31m---------------------------------------------------------------------------\u001b[0m",
            "\u001b[0;31mTypeError\u001b[0m                                 Traceback (most recent call last)",
            "\u001b[0;32m<ipython-input-52-9643b31c0dfa>\u001b[0m in \u001b[0;36m<cell line: 3>\u001b[0;34m()\u001b[0m\n\u001b[1;32m      1\u001b[0m \u001b[0mstc_seuil_bas\u001b[0m \u001b[0;34m=\u001b[0m \u001b[0;36m25\u001b[0m\u001b[0;34m\u001b[0m\u001b[0;34m\u001b[0m\u001b[0m\n\u001b[1;32m      2\u001b[0m \u001b[0;31m# Valeur 3 pour signaux d'entrée valides\u001b[0m\u001b[0;34m\u001b[0m\u001b[0;34m\u001b[0m\u001b[0m\n\u001b[0;32m----> 3\u001b[0;31m \u001b[0mdf_IT\u001b[0m\u001b[0;34m[\u001b[0m\u001b[0;34m\"Buy_entry\"\u001b[0m\u001b[0;34m]\u001b[0m \u001b[0;34m=\u001b[0m \u001b[0mmath\u001b[0m\u001b[0;34m.\u001b[0m\u001b[0mcopysign\u001b[0m\u001b[0;34m(\u001b[0m\u001b[0;36m1\u001b[0m\u001b[0;34m,\u001b[0m\u001b[0;34m(\u001b[0m\u001b[0mdf_IT\u001b[0m\u001b[0;34m.\u001b[0m\u001b[0mClose\u001b[0m\u001b[0;34m-\u001b[0m\u001b[0mdf_IT\u001b[0m\u001b[0;34m.\u001b[0m\u001b[0mEMA\u001b[0m\u001b[0;34m)\u001b[0m\u001b[0;34m)\u001b[0m \u001b[0;34m+\u001b[0m \u001b[0mdf_IT\u001b[0m\u001b[0;34m.\u001b[0m\u001b[0mSignal\u001b[0m \u001b[0;34m+\u001b[0m \u001b[0mmath\u001b[0m\u001b[0;34m.\u001b[0m\u001b[0mcopysign\u001b[0m\u001b[0;34m(\u001b[0m\u001b[0;36m1\u001b[0m\u001b[0;34m,\u001b[0m\u001b[0;34m(\u001b[0m\u001b[0mstc_seuil_bas\u001b[0m\u001b[0;34m-\u001b[0m\u001b[0mdf_IT\u001b[0m\u001b[0;34m.\u001b[0m\u001b[0mSTC\u001b[0m\u001b[0;34m)\u001b[0m\u001b[0;34m)\u001b[0m\u001b[0;34m\u001b[0m\u001b[0;34m\u001b[0m\u001b[0m\n\u001b[0m\u001b[1;32m      4\u001b[0m \u001b[0;34m\u001b[0m\u001b[0m\n\u001b[1;32m      5\u001b[0m \u001b[0mstc_seuil_haut\u001b[0m \u001b[0;34m=\u001b[0m \u001b[0;36m75\u001b[0m\u001b[0;34m\u001b[0m\u001b[0;34m\u001b[0m\u001b[0m\n",
            "\u001b[0;32m/usr/local/lib/python3.9/dist-packages/pandas/core/series.py\u001b[0m in \u001b[0;36mwrapper\u001b[0;34m(self)\u001b[0m\n\u001b[1;32m    189\u001b[0m         \u001b[0;32mif\u001b[0m \u001b[0mlen\u001b[0m\u001b[0;34m(\u001b[0m\u001b[0mself\u001b[0m\u001b[0;34m)\u001b[0m \u001b[0;34m==\u001b[0m \u001b[0;36m1\u001b[0m\u001b[0;34m:\u001b[0m\u001b[0;34m\u001b[0m\u001b[0;34m\u001b[0m\u001b[0m\n\u001b[1;32m    190\u001b[0m             \u001b[0;32mreturn\u001b[0m \u001b[0mconverter\u001b[0m\u001b[0;34m(\u001b[0m\u001b[0mself\u001b[0m\u001b[0;34m.\u001b[0m\u001b[0miloc\u001b[0m\u001b[0;34m[\u001b[0m\u001b[0;36m0\u001b[0m\u001b[0;34m]\u001b[0m\u001b[0;34m)\u001b[0m\u001b[0;34m\u001b[0m\u001b[0;34m\u001b[0m\u001b[0m\n\u001b[0;32m--> 191\u001b[0;31m         \u001b[0;32mraise\u001b[0m \u001b[0mTypeError\u001b[0m\u001b[0;34m(\u001b[0m\u001b[0;34mf\"cannot convert the series to {converter}\"\u001b[0m\u001b[0;34m)\u001b[0m\u001b[0;34m\u001b[0m\u001b[0;34m\u001b[0m\u001b[0m\n\u001b[0m\u001b[1;32m    192\u001b[0m \u001b[0;34m\u001b[0m\u001b[0m\n\u001b[1;32m    193\u001b[0m     \u001b[0mwrapper\u001b[0m\u001b[0;34m.\u001b[0m\u001b[0m__name__\u001b[0m \u001b[0;34m=\u001b[0m \u001b[0;34mf\"__{converter.__name__}__\"\u001b[0m\u001b[0;34m\u001b[0m\u001b[0;34m\u001b[0m\u001b[0m\n",
            "\u001b[0;31mTypeError\u001b[0m: cannot convert the series to <class 'float'>"
          ]
        }
      ]
    },
    {
      "cell_type": "code",
      "source": [
        "df_IT[\"Buy_entry\"] = np.sign(df_IT.Close-df_IT.EMA) + df_IT.Signal + np.sign(stc_seuil_bas-df_IT.STC)\n",
        "#s_test = df_IT.Close-df_IT.EMA\n",
        "#s_test.apply(lambda x: math.copysign(1,x))"
      ],
      "metadata": {
        "id": "uPAqzh1MYotV"
      },
      "execution_count": 60,
      "outputs": []
    },
    {
      "cell_type": "code",
      "source": [
        "df_IT[\"Buy_entry\"].value_counts()"
      ],
      "metadata": {
        "colab": {
          "base_uri": "https://localhost:8080/"
        },
        "id": "tuHizhA2aRRz",
        "outputId": "4bd3b188-5d03-40f3-c26d-e231aeb6986a"
      },
      "execution_count": 61,
      "outputs": [
        {
          "output_type": "execute_result",
          "data": {
            "text/plain": [
              " 0.0    4069\n",
              " 2.0    1364\n",
              "-2.0     807\n",
              " 1.0      35\n",
              "-1.0      34\n",
              " 3.0      27\n",
              "-3.0      17\n",
              "Name: Buy_entry, dtype: int64"
            ]
          },
          "metadata": {},
          "execution_count": 61
        }
      ]
    }
  ]
}