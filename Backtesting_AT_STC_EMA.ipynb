{
  "nbformat": 4,
  "nbformat_minor": 0,
  "metadata": {
    "colab": {
      "provenance": [],
      "mount_file_id": "1Ow6kJZLw-Zw8LNZxcdb18b8nKjjINi3D",
      "authorship_tag": "ABX9TyM1okVf/8V/xFVOkDsUVtd6"
    },
    "kernelspec": {
      "name": "python3",
      "display_name": "Python 3"
    },
    "language_info": {
      "name": "python"
    }
  },
  "cells": [
    {
      "cell_type": "code",
      "source": [
        "!pip install yfinance\n",
        "!pip install ta"
      ],
      "metadata": {
        "id": "px_-kUmQUwAN"
      },
      "execution_count": null,
      "outputs": []
    },
    {
      "cell_type": "code",
      "execution_count": 2,
      "metadata": {
        "id": "KTwLxh3NUF0Z"
      },
      "outputs": [],
      "source": [
        "import pandas as pd, numpy as np\n",
        "import yfinance as yf\n",
        "\n",
        "from copy import copy\n",
        "import statistics as stats\n",
        "import math\n",
        "from functools import reduce\n",
        "\n",
        "from ta.volume import MFIIndicator\n",
        "from ta.volatility import AverageTrueRange\n",
        "from ta.trend import STCIndicator\n",
        "from ta.trend import EMAIndicator"
      ]
    },
    {
      "cell_type": "markdown",
      "source": [
        "# Import des données historiques"
      ],
      "metadata": {
        "id": "J3HFB0dMU5gZ"
      }
    },
    {
      "cell_type": "code",
      "source": [
        "ndx = yf.Ticker(\"^NDX\")\n",
        "df_historical_data = ndx.history(interval=\"1d\", period=\"max\")\n",
        "df_historical_data.drop(columns=[\"Dividends\",\"Stock Splits\"], inplace=True)\n",
        "df_historical_data.reset_index(inplace=True)"
      ],
      "metadata": {
        "id": "TRGojZzEU4D9"
      },
      "execution_count": 3,
      "outputs": []
    },
    {
      "cell_type": "code",
      "source": [
        "df_historical_data.describe()"
      ],
      "metadata": {
        "colab": {
          "base_uri": "https://localhost:8080/",
          "height": 300
        },
        "id": "ESSJEl0EVUFD",
        "outputId": "494194ce-1d8b-4ebd-b8c8-512a7573c086"
      },
      "execution_count": 4,
      "outputs": [
        {
          "output_type": "execute_result",
          "data": {
            "text/plain": [
              "               Open          High           Low         Close        Volume\n",
              "count   9470.000000   9470.000000   9470.000000   9470.000000  9.470000e+03\n",
              "mean    2931.704905   2956.226136   2905.688608   2932.321886  1.611191e+09\n",
              "std     3556.703623   3584.502784   3526.220204   3557.270250  1.290133e+09\n",
              "min      107.160004    108.269997    106.750000    107.160004  3.174000e+07\n",
              "25%      424.767502    427.720001    423.322495    425.030006  4.721200e+08\n",
              "50%     1638.229980   1657.420044   1624.675049   1640.315002  1.664305e+09\n",
              "75%     3708.869934   3755.152466   3664.530029   3706.980042  2.069265e+09\n",
              "max    16644.769531  16764.859375  16523.830078  16573.339844  1.162119e+10"
            ],
            "text/html": [
              "\n",
              "  <div id=\"df-1e2979d4-8936-429b-b044-f85b5064b207\">\n",
              "    <div class=\"colab-df-container\">\n",
              "      <div>\n",
              "<style scoped>\n",
              "    .dataframe tbody tr th:only-of-type {\n",
              "        vertical-align: middle;\n",
              "    }\n",
              "\n",
              "    .dataframe tbody tr th {\n",
              "        vertical-align: top;\n",
              "    }\n",
              "\n",
              "    .dataframe thead th {\n",
              "        text-align: right;\n",
              "    }\n",
              "</style>\n",
              "<table border=\"1\" class=\"dataframe\">\n",
              "  <thead>\n",
              "    <tr style=\"text-align: right;\">\n",
              "      <th></th>\n",
              "      <th>Open</th>\n",
              "      <th>High</th>\n",
              "      <th>Low</th>\n",
              "      <th>Close</th>\n",
              "      <th>Volume</th>\n",
              "    </tr>\n",
              "  </thead>\n",
              "  <tbody>\n",
              "    <tr>\n",
              "      <th>count</th>\n",
              "      <td>9470.000000</td>\n",
              "      <td>9470.000000</td>\n",
              "      <td>9470.000000</td>\n",
              "      <td>9470.000000</td>\n",
              "      <td>9.470000e+03</td>\n",
              "    </tr>\n",
              "    <tr>\n",
              "      <th>mean</th>\n",
              "      <td>2931.704905</td>\n",
              "      <td>2956.226136</td>\n",
              "      <td>2905.688608</td>\n",
              "      <td>2932.321886</td>\n",
              "      <td>1.611191e+09</td>\n",
              "    </tr>\n",
              "    <tr>\n",
              "      <th>std</th>\n",
              "      <td>3556.703623</td>\n",
              "      <td>3584.502784</td>\n",
              "      <td>3526.220204</td>\n",
              "      <td>3557.270250</td>\n",
              "      <td>1.290133e+09</td>\n",
              "    </tr>\n",
              "    <tr>\n",
              "      <th>min</th>\n",
              "      <td>107.160004</td>\n",
              "      <td>108.269997</td>\n",
              "      <td>106.750000</td>\n",
              "      <td>107.160004</td>\n",
              "      <td>3.174000e+07</td>\n",
              "    </tr>\n",
              "    <tr>\n",
              "      <th>25%</th>\n",
              "      <td>424.767502</td>\n",
              "      <td>427.720001</td>\n",
              "      <td>423.322495</td>\n",
              "      <td>425.030006</td>\n",
              "      <td>4.721200e+08</td>\n",
              "    </tr>\n",
              "    <tr>\n",
              "      <th>50%</th>\n",
              "      <td>1638.229980</td>\n",
              "      <td>1657.420044</td>\n",
              "      <td>1624.675049</td>\n",
              "      <td>1640.315002</td>\n",
              "      <td>1.664305e+09</td>\n",
              "    </tr>\n",
              "    <tr>\n",
              "      <th>75%</th>\n",
              "      <td>3708.869934</td>\n",
              "      <td>3755.152466</td>\n",
              "      <td>3664.530029</td>\n",
              "      <td>3706.980042</td>\n",
              "      <td>2.069265e+09</td>\n",
              "    </tr>\n",
              "    <tr>\n",
              "      <th>max</th>\n",
              "      <td>16644.769531</td>\n",
              "      <td>16764.859375</td>\n",
              "      <td>16523.830078</td>\n",
              "      <td>16573.339844</td>\n",
              "      <td>1.162119e+10</td>\n",
              "    </tr>\n",
              "  </tbody>\n",
              "</table>\n",
              "</div>\n",
              "      <button class=\"colab-df-convert\" onclick=\"convertToInteractive('df-1e2979d4-8936-429b-b044-f85b5064b207')\"\n",
              "              title=\"Convert this dataframe to an interactive table.\"\n",
              "              style=\"display:none;\">\n",
              "        \n",
              "  <svg xmlns=\"http://www.w3.org/2000/svg\" height=\"24px\"viewBox=\"0 0 24 24\"\n",
              "       width=\"24px\">\n",
              "    <path d=\"M0 0h24v24H0V0z\" fill=\"none\"/>\n",
              "    <path d=\"M18.56 5.44l.94 2.06.94-2.06 2.06-.94-2.06-.94-.94-2.06-.94 2.06-2.06.94zm-11 1L8.5 8.5l.94-2.06 2.06-.94-2.06-.94L8.5 2.5l-.94 2.06-2.06.94zm10 10l.94 2.06.94-2.06 2.06-.94-2.06-.94-.94-2.06-.94 2.06-2.06.94z\"/><path d=\"M17.41 7.96l-1.37-1.37c-.4-.4-.92-.59-1.43-.59-.52 0-1.04.2-1.43.59L10.3 9.45l-7.72 7.72c-.78.78-.78 2.05 0 2.83L4 21.41c.39.39.9.59 1.41.59.51 0 1.02-.2 1.41-.59l7.78-7.78 2.81-2.81c.8-.78.8-2.07 0-2.86zM5.41 20L4 18.59l7.72-7.72 1.47 1.35L5.41 20z\"/>\n",
              "  </svg>\n",
              "      </button>\n",
              "      \n",
              "  <style>\n",
              "    .colab-df-container {\n",
              "      display:flex;\n",
              "      flex-wrap:wrap;\n",
              "      gap: 12px;\n",
              "    }\n",
              "\n",
              "    .colab-df-convert {\n",
              "      background-color: #E8F0FE;\n",
              "      border: none;\n",
              "      border-radius: 50%;\n",
              "      cursor: pointer;\n",
              "      display: none;\n",
              "      fill: #1967D2;\n",
              "      height: 32px;\n",
              "      padding: 0 0 0 0;\n",
              "      width: 32px;\n",
              "    }\n",
              "\n",
              "    .colab-df-convert:hover {\n",
              "      background-color: #E2EBFA;\n",
              "      box-shadow: 0px 1px 2px rgba(60, 64, 67, 0.3), 0px 1px 3px 1px rgba(60, 64, 67, 0.15);\n",
              "      fill: #174EA6;\n",
              "    }\n",
              "\n",
              "    [theme=dark] .colab-df-convert {\n",
              "      background-color: #3B4455;\n",
              "      fill: #D2E3FC;\n",
              "    }\n",
              "\n",
              "    [theme=dark] .colab-df-convert:hover {\n",
              "      background-color: #434B5C;\n",
              "      box-shadow: 0px 1px 3px 1px rgba(0, 0, 0, 0.15);\n",
              "      filter: drop-shadow(0px 1px 2px rgba(0, 0, 0, 0.3));\n",
              "      fill: #FFFFFF;\n",
              "    }\n",
              "  </style>\n",
              "\n",
              "      <script>\n",
              "        const buttonEl =\n",
              "          document.querySelector('#df-1e2979d4-8936-429b-b044-f85b5064b207 button.colab-df-convert');\n",
              "        buttonEl.style.display =\n",
              "          google.colab.kernel.accessAllowed ? 'block' : 'none';\n",
              "\n",
              "        async function convertToInteractive(key) {\n",
              "          const element = document.querySelector('#df-1e2979d4-8936-429b-b044-f85b5064b207');\n",
              "          const dataTable =\n",
              "            await google.colab.kernel.invokeFunction('convertToInteractive',\n",
              "                                                     [key], {});\n",
              "          if (!dataTable) return;\n",
              "\n",
              "          const docLinkHtml = 'Like what you see? Visit the ' +\n",
              "            '<a target=\"_blank\" href=https://colab.research.google.com/notebooks/data_table.ipynb>data table notebook</a>'\n",
              "            + ' to learn more about interactive tables.';\n",
              "          element.innerHTML = '';\n",
              "          dataTable['output_type'] = 'display_data';\n",
              "          await google.colab.output.renderOutput(dataTable, element);\n",
              "          const docLink = document.createElement('div');\n",
              "          docLink.innerHTML = docLinkHtml;\n",
              "          element.appendChild(docLink);\n",
              "        }\n",
              "      </script>\n",
              "    </div>\n",
              "  </div>\n",
              "  "
            ]
          },
          "metadata": {},
          "execution_count": 4
        }
      ]
    },
    {
      "cell_type": "code",
      "source": [
        "# Test si aucune ligne manquante\n",
        "test_list = [champ == 0 for champ in df_historical_data.isnull().sum()]\n",
        "\n",
        "# Si toutes les colonnes sont True, résultat = True\n",
        "res1 = all(i for i in test_list)\n",
        "res1"
      ],
      "metadata": {
        "colab": {
          "base_uri": "https://localhost:8080/"
        },
        "id": "ecBhrvulVWmm",
        "outputId": "278a522f-7bf4-42cd-b436-167b2bbc5fe7"
      },
      "execution_count": 5,
      "outputs": [
        {
          "output_type": "execute_result",
          "data": {
            "text/plain": [
              "True"
            ]
          },
          "metadata": {},
          "execution_count": 5
        }
      ]
    },
    {
      "cell_type": "code",
      "source": [
        "df_historical_data.tail(1)"
      ],
      "metadata": {
        "colab": {
          "base_uri": "https://localhost:8080/",
          "height": 81
        },
        "id": "XF7mNsSXVfbK",
        "outputId": "80c60bb0-d99c-44ae-8cd5-044ff63fd35a"
      },
      "execution_count": 6,
      "outputs": [
        {
          "output_type": "execute_result",
          "data": {
            "text/plain": [
              "                          Date          Open          High           Low  \\\n",
              "9469 2023-04-27 00:00:00-04:00  12963.200195  13175.618164  12938.498047   \n",
              "\n",
              "            Close     Volume  \n",
              "9469  13160.46582  971604285  "
            ],
            "text/html": [
              "\n",
              "  <div id=\"df-40a3f3f1-cb37-472b-93bb-ef097a241db7\">\n",
              "    <div class=\"colab-df-container\">\n",
              "      <div>\n",
              "<style scoped>\n",
              "    .dataframe tbody tr th:only-of-type {\n",
              "        vertical-align: middle;\n",
              "    }\n",
              "\n",
              "    .dataframe tbody tr th {\n",
              "        vertical-align: top;\n",
              "    }\n",
              "\n",
              "    .dataframe thead th {\n",
              "        text-align: right;\n",
              "    }\n",
              "</style>\n",
              "<table border=\"1\" class=\"dataframe\">\n",
              "  <thead>\n",
              "    <tr style=\"text-align: right;\">\n",
              "      <th></th>\n",
              "      <th>Date</th>\n",
              "      <th>Open</th>\n",
              "      <th>High</th>\n",
              "      <th>Low</th>\n",
              "      <th>Close</th>\n",
              "      <th>Volume</th>\n",
              "    </tr>\n",
              "  </thead>\n",
              "  <tbody>\n",
              "    <tr>\n",
              "      <th>9469</th>\n",
              "      <td>2023-04-27 00:00:00-04:00</td>\n",
              "      <td>12963.200195</td>\n",
              "      <td>13175.618164</td>\n",
              "      <td>12938.498047</td>\n",
              "      <td>13160.46582</td>\n",
              "      <td>971604285</td>\n",
              "    </tr>\n",
              "  </tbody>\n",
              "</table>\n",
              "</div>\n",
              "      <button class=\"colab-df-convert\" onclick=\"convertToInteractive('df-40a3f3f1-cb37-472b-93bb-ef097a241db7')\"\n",
              "              title=\"Convert this dataframe to an interactive table.\"\n",
              "              style=\"display:none;\">\n",
              "        \n",
              "  <svg xmlns=\"http://www.w3.org/2000/svg\" height=\"24px\"viewBox=\"0 0 24 24\"\n",
              "       width=\"24px\">\n",
              "    <path d=\"M0 0h24v24H0V0z\" fill=\"none\"/>\n",
              "    <path d=\"M18.56 5.44l.94 2.06.94-2.06 2.06-.94-2.06-.94-.94-2.06-.94 2.06-2.06.94zm-11 1L8.5 8.5l.94-2.06 2.06-.94-2.06-.94L8.5 2.5l-.94 2.06-2.06.94zm10 10l.94 2.06.94-2.06 2.06-.94-2.06-.94-.94-2.06-.94 2.06-2.06.94z\"/><path d=\"M17.41 7.96l-1.37-1.37c-.4-.4-.92-.59-1.43-.59-.52 0-1.04.2-1.43.59L10.3 9.45l-7.72 7.72c-.78.78-.78 2.05 0 2.83L4 21.41c.39.39.9.59 1.41.59.51 0 1.02-.2 1.41-.59l7.78-7.78 2.81-2.81c.8-.78.8-2.07 0-2.86zM5.41 20L4 18.59l7.72-7.72 1.47 1.35L5.41 20z\"/>\n",
              "  </svg>\n",
              "      </button>\n",
              "      \n",
              "  <style>\n",
              "    .colab-df-container {\n",
              "      display:flex;\n",
              "      flex-wrap:wrap;\n",
              "      gap: 12px;\n",
              "    }\n",
              "\n",
              "    .colab-df-convert {\n",
              "      background-color: #E8F0FE;\n",
              "      border: none;\n",
              "      border-radius: 50%;\n",
              "      cursor: pointer;\n",
              "      display: none;\n",
              "      fill: #1967D2;\n",
              "      height: 32px;\n",
              "      padding: 0 0 0 0;\n",
              "      width: 32px;\n",
              "    }\n",
              "\n",
              "    .colab-df-convert:hover {\n",
              "      background-color: #E2EBFA;\n",
              "      box-shadow: 0px 1px 2px rgba(60, 64, 67, 0.3), 0px 1px 3px 1px rgba(60, 64, 67, 0.15);\n",
              "      fill: #174EA6;\n",
              "    }\n",
              "\n",
              "    [theme=dark] .colab-df-convert {\n",
              "      background-color: #3B4455;\n",
              "      fill: #D2E3FC;\n",
              "    }\n",
              "\n",
              "    [theme=dark] .colab-df-convert:hover {\n",
              "      background-color: #434B5C;\n",
              "      box-shadow: 0px 1px 3px 1px rgba(0, 0, 0, 0.15);\n",
              "      filter: drop-shadow(0px 1px 2px rgba(0, 0, 0, 0.3));\n",
              "      fill: #FFFFFF;\n",
              "    }\n",
              "  </style>\n",
              "\n",
              "      <script>\n",
              "        const buttonEl =\n",
              "          document.querySelector('#df-40a3f3f1-cb37-472b-93bb-ef097a241db7 button.colab-df-convert');\n",
              "        buttonEl.style.display =\n",
              "          google.colab.kernel.accessAllowed ? 'block' : 'none';\n",
              "\n",
              "        async function convertToInteractive(key) {\n",
              "          const element = document.querySelector('#df-40a3f3f1-cb37-472b-93bb-ef097a241db7');\n",
              "          const dataTable =\n",
              "            await google.colab.kernel.invokeFunction('convertToInteractive',\n",
              "                                                     [key], {});\n",
              "          if (!dataTable) return;\n",
              "\n",
              "          const docLinkHtml = 'Like what you see? Visit the ' +\n",
              "            '<a target=\"_blank\" href=https://colab.research.google.com/notebooks/data_table.ipynb>data table notebook</a>'\n",
              "            + ' to learn more about interactive tables.';\n",
              "          element.innerHTML = '';\n",
              "          dataTable['output_type'] = 'display_data';\n",
              "          await google.colab.output.renderOutput(dataTable, element);\n",
              "          const docLink = document.createElement('div');\n",
              "          docLink.innerHTML = docLinkHtml;\n",
              "          element.appendChild(docLink);\n",
              "        }\n",
              "      </script>\n",
              "    </div>\n",
              "  </div>\n",
              "  "
            ]
          },
          "metadata": {},
          "execution_count": 6
        }
      ]
    },
    {
      "cell_type": "code",
      "source": [
        "df_historical_data.dtypes"
      ],
      "metadata": {
        "colab": {
          "base_uri": "https://localhost:8080/"
        },
        "id": "FjsWbKF3Vr2c",
        "outputId": "604b3207-280e-4c4a-d6d7-d2199afd65bd"
      },
      "execution_count": 7,
      "outputs": [
        {
          "output_type": "execute_result",
          "data": {
            "text/plain": [
              "Date      datetime64[ns, America/New_York]\n",
              "Open                               float64\n",
              "High                               float64\n",
              "Low                                float64\n",
              "Close                              float64\n",
              "Volume                               int64\n",
              "dtype: object"
            ]
          },
          "metadata": {},
          "execution_count": 7
        }
      ]
    },
    {
      "cell_type": "markdown",
      "source": [
        "# Indicateurs techniques"
      ],
      "metadata": {
        "id": "uF71hL84VwyZ"
      }
    },
    {
      "cell_type": "markdown",
      "source": [
        "### Alphatrend"
      ],
      "metadata": {
        "id": "bJUTIaxyVz6B"
      }
    },
    {
      "cell_type": "code",
      "source": [
        "# Trend indicator, équivalent de l'affichage couleur\n",
        "def trend_indicator(trend):\n",
        "    if trend > 0 :\n",
        "        # Uptrend\n",
        "        x = 1\n",
        "    elif trend < 0 :\n",
        "        # Downtrend\n",
        "        x = -1\n",
        "    else :\n",
        "        # Range\n",
        "        x = 0\n",
        "    return x"
      ],
      "metadata": {
        "id": "W53ner8PX6Ay"
      },
      "execution_count": 8,
      "outputs": []
    },
    {
      "cell_type": "code",
      "source": [
        "# Defintion fonction\n",
        "def generate_alphatrend(df_in, mfi_p, mfi_seuil, atr_l, m):\n",
        "    '''Paramètres d'entrée : longueur MFI, longueur ATR, multiplier\n",
        "    Retourne les colonnes Alphatrend, Alphatrend +2, Trend (position AT1 / AT2)\n",
        "    :mfi_p = période MFI servant à délimiter up/down de l'alphatrend\n",
        "    :mfi_seuil = période MFI pour recherche crossover, détermine uptrend ou downtrend'''\n",
        "\n",
        "    df = df_in.copy()\n",
        "\n",
        "    # Colonnes MFI\n",
        "    s_mfi = MFIIndicator(high=df.High, low=df.Low, close=df.Close, volume=df.Volume, window=mfi_p).money_flow_index()\n",
        "    df[\"MFI_ref\"] = s_mfi\n",
        "\n",
        "    # Colonne ATR\n",
        "    s_atr = AverageTrueRange(high=df.High, low=df.Low, close=df.Close, window=atr_l).average_true_range()\n",
        "    df[\"ATR\"] = s_atr\n",
        "\n",
        "    # Lignes UpT et DownT\n",
        "    df[\"UpT_support\"] = df[\"Low\"] - df[\"ATR\"] * m\n",
        "    df[\"DownT_support\"] = df[\"High\"] + df[\"ATR\"] * m\n",
        "\n",
        "    # Suppression des lignes sans signal, en début de DataFrame\n",
        "    df.dropna(inplace=True)\n",
        "    df.reset_index(drop=True, inplace=True)\n",
        "\n",
        "    # ===============================================\n",
        "    # Calcul Alphatrend, en tant que série\n",
        "    \n",
        "    Alphatrend = [0]\n",
        "\n",
        "    for i in range (1, df.shape[0]):\n",
        "        # Cas Uptrend\n",
        "        if df.at[i,\"MFI_ref\"] >= mfi_seuil :\n",
        "            if df.at[i,\"UpT_support\"] < Alphatrend[-1] :\n",
        "                # Flat\n",
        "                Alphatrend.append(Alphatrend[-1])\n",
        "            else :\n",
        "                # Trailing stop loss Up\n",
        "                Alphatrend.append(df.at[i,\"UpT_support\"])\n",
        "\n",
        "        # Cas Downtrend, MFI < 50\n",
        "        else :\n",
        "            if df.at[i,\"DownT_support\"] > Alphatrend[-1] :\n",
        "                # Flat\n",
        "                Alphatrend.append(Alphatrend[-1])\n",
        "            else :\n",
        "                # Trailing stop loss Down\n",
        "                Alphatrend.append(df.at[i,\"DownT_support\"])\n",
        "\n",
        "    # ===============================================\n",
        "    # Ajout des lignes k1 et k2 en tant que colonnes\n",
        "    \n",
        "    if df.shape[0] == len(Alphatrend):\n",
        "        df[\"Alphatrend_k1\"] = pd.Series(Alphatrend).apply(lambda x: round(x,2))\n",
        "        # Ligne k2 décalée de 2j\n",
        "        Alphatrend2 = df[\"Alphatrend_k1\"].shift(periods=2, fill_value=0)\n",
        "        df[\"Alphatrend_k2\"] = pd.Series(Alphatrend2).apply(lambda x: round(x,2))\n",
        "        # Trend\n",
        "        df[\"Trend\"] = df.Alphatrend_k1 - df.Alphatrend_k2\n",
        "        df[\"Trend\"] = df[\"Trend\"].apply(trend_indicator)\n",
        "    else :\n",
        "        print(\"Erreur lors de la génération des lignes Alphatrend\")\n",
        "\n",
        "    # ===============================================\n",
        "    # Génération des signaux Achat / Vente\n",
        "\n",
        "    # On isole tous les index non neutres, où AT1 != AT2, à la hausse (1) comme à la baisse (-1)\n",
        "    s_trend = df[\"Trend\"].loc[df[\"Trend\"]!=0]\n",
        "    s_trend_diff = s_trend - s_trend.shift(1)\n",
        "\n",
        "    buy_signal_indexes = s_trend_diff[s_trend_diff == 2].index\n",
        "    sell_signal_indexes = s_trend_diff[s_trend_diff == -2].index\n",
        "\n",
        "    df[\"Signal\"] = 0\n",
        "    df.loc[buy_signal_indexes,\"Signal\"] = 1\n",
        "    df.loc[sell_signal_indexes,\"Signal\"] = -1\n",
        "\n",
        "    # ===============================================\n",
        "    # Spécification des colonnes avec les paramètres d'entrée\n",
        "    params = \"MFIp = \" + str(mfi_p) + \", MFItrigger = \" + str(mfi_seuil) + \", ATR = \" + str(atr_l) + \", m = \" + str(m)\n",
        "    # Sélection des colonnes suffisantes\n",
        "    df = df[[\"Date\",\"Alphatrend_k1\",\"Alphatrend_k2\",\"Trend\",\"Signal\"]]\n",
        "    \n",
        "    return df, params"
      ],
      "metadata": {
        "id": "Wm2pANWHVvw6"
      },
      "execution_count": 9,
      "outputs": []
    },
    {
      "cell_type": "code",
      "source": [
        "df_AT, parametres_AT = generate_alphatrend(df_historical_data, mfi_p=14, mfi_seuil=50, atr_l=13, m=0.2)"
      ],
      "metadata": {
        "id": "f5vnETlGaRSB"
      },
      "execution_count": 10,
      "outputs": []
    },
    {
      "cell_type": "code",
      "source": [
        "# Servira à stocker les paramètres testés pour identifier la meilleure combinaison\n",
        "print(parametres_AT)"
      ],
      "metadata": {
        "colab": {
          "base_uri": "https://localhost:8080/"
        },
        "id": "DCPpJOBYbBCe",
        "outputId": "46c5f040-caab-488f-bcd3-f4113c10b58b"
      },
      "execution_count": 11,
      "outputs": [
        {
          "output_type": "stream",
          "name": "stdout",
          "text": [
            "MFIp = 14, MFItrigger = 50, ATR = 13, m = 0.2\n"
          ]
        }
      ]
    },
    {
      "cell_type": "code",
      "source": [
        "df_AT.tail(1)"
      ],
      "metadata": {
        "colab": {
          "base_uri": "https://localhost:8080/",
          "height": 81
        },
        "id": "odsiUQE7bBZd",
        "outputId": "3a342f75-61e1-47ad-9ee5-c18418fba43f"
      },
      "execution_count": 12,
      "outputs": [
        {
          "output_type": "execute_result",
          "data": {
            "text/plain": [
              "                          Date  Alphatrend_k1  Alphatrend_k2  Trend  Signal\n",
              "9456 2023-04-27 00:00:00-04:00       12968.72       12972.23     -1       0"
            ],
            "text/html": [
              "\n",
              "  <div id=\"df-8047980f-22b7-470a-8be9-6212e9a9250b\">\n",
              "    <div class=\"colab-df-container\">\n",
              "      <div>\n",
              "<style scoped>\n",
              "    .dataframe tbody tr th:only-of-type {\n",
              "        vertical-align: middle;\n",
              "    }\n",
              "\n",
              "    .dataframe tbody tr th {\n",
              "        vertical-align: top;\n",
              "    }\n",
              "\n",
              "    .dataframe thead th {\n",
              "        text-align: right;\n",
              "    }\n",
              "</style>\n",
              "<table border=\"1\" class=\"dataframe\">\n",
              "  <thead>\n",
              "    <tr style=\"text-align: right;\">\n",
              "      <th></th>\n",
              "      <th>Date</th>\n",
              "      <th>Alphatrend_k1</th>\n",
              "      <th>Alphatrend_k2</th>\n",
              "      <th>Trend</th>\n",
              "      <th>Signal</th>\n",
              "    </tr>\n",
              "  </thead>\n",
              "  <tbody>\n",
              "    <tr>\n",
              "      <th>9456</th>\n",
              "      <td>2023-04-27 00:00:00-04:00</td>\n",
              "      <td>12968.72</td>\n",
              "      <td>12972.23</td>\n",
              "      <td>-1</td>\n",
              "      <td>0</td>\n",
              "    </tr>\n",
              "  </tbody>\n",
              "</table>\n",
              "</div>\n",
              "      <button class=\"colab-df-convert\" onclick=\"convertToInteractive('df-8047980f-22b7-470a-8be9-6212e9a9250b')\"\n",
              "              title=\"Convert this dataframe to an interactive table.\"\n",
              "              style=\"display:none;\">\n",
              "        \n",
              "  <svg xmlns=\"http://www.w3.org/2000/svg\" height=\"24px\"viewBox=\"0 0 24 24\"\n",
              "       width=\"24px\">\n",
              "    <path d=\"M0 0h24v24H0V0z\" fill=\"none\"/>\n",
              "    <path d=\"M18.56 5.44l.94 2.06.94-2.06 2.06-.94-2.06-.94-.94-2.06-.94 2.06-2.06.94zm-11 1L8.5 8.5l.94-2.06 2.06-.94-2.06-.94L8.5 2.5l-.94 2.06-2.06.94zm10 10l.94 2.06.94-2.06 2.06-.94-2.06-.94-.94-2.06-.94 2.06-2.06.94z\"/><path d=\"M17.41 7.96l-1.37-1.37c-.4-.4-.92-.59-1.43-.59-.52 0-1.04.2-1.43.59L10.3 9.45l-7.72 7.72c-.78.78-.78 2.05 0 2.83L4 21.41c.39.39.9.59 1.41.59.51 0 1.02-.2 1.41-.59l7.78-7.78 2.81-2.81c.8-.78.8-2.07 0-2.86zM5.41 20L4 18.59l7.72-7.72 1.47 1.35L5.41 20z\"/>\n",
              "  </svg>\n",
              "      </button>\n",
              "      \n",
              "  <style>\n",
              "    .colab-df-container {\n",
              "      display:flex;\n",
              "      flex-wrap:wrap;\n",
              "      gap: 12px;\n",
              "    }\n",
              "\n",
              "    .colab-df-convert {\n",
              "      background-color: #E8F0FE;\n",
              "      border: none;\n",
              "      border-radius: 50%;\n",
              "      cursor: pointer;\n",
              "      display: none;\n",
              "      fill: #1967D2;\n",
              "      height: 32px;\n",
              "      padding: 0 0 0 0;\n",
              "      width: 32px;\n",
              "    }\n",
              "\n",
              "    .colab-df-convert:hover {\n",
              "      background-color: #E2EBFA;\n",
              "      box-shadow: 0px 1px 2px rgba(60, 64, 67, 0.3), 0px 1px 3px 1px rgba(60, 64, 67, 0.15);\n",
              "      fill: #174EA6;\n",
              "    }\n",
              "\n",
              "    [theme=dark] .colab-df-convert {\n",
              "      background-color: #3B4455;\n",
              "      fill: #D2E3FC;\n",
              "    }\n",
              "\n",
              "    [theme=dark] .colab-df-convert:hover {\n",
              "      background-color: #434B5C;\n",
              "      box-shadow: 0px 1px 3px 1px rgba(0, 0, 0, 0.15);\n",
              "      filter: drop-shadow(0px 1px 2px rgba(0, 0, 0, 0.3));\n",
              "      fill: #FFFFFF;\n",
              "    }\n",
              "  </style>\n",
              "\n",
              "      <script>\n",
              "        const buttonEl =\n",
              "          document.querySelector('#df-8047980f-22b7-470a-8be9-6212e9a9250b button.colab-df-convert');\n",
              "        buttonEl.style.display =\n",
              "          google.colab.kernel.accessAllowed ? 'block' : 'none';\n",
              "\n",
              "        async function convertToInteractive(key) {\n",
              "          const element = document.querySelector('#df-8047980f-22b7-470a-8be9-6212e9a9250b');\n",
              "          const dataTable =\n",
              "            await google.colab.kernel.invokeFunction('convertToInteractive',\n",
              "                                                     [key], {});\n",
              "          if (!dataTable) return;\n",
              "\n",
              "          const docLinkHtml = 'Like what you see? Visit the ' +\n",
              "            '<a target=\"_blank\" href=https://colab.research.google.com/notebooks/data_table.ipynb>data table notebook</a>'\n",
              "            + ' to learn more about interactive tables.';\n",
              "          element.innerHTML = '';\n",
              "          dataTable['output_type'] = 'display_data';\n",
              "          await google.colab.output.renderOutput(dataTable, element);\n",
              "          const docLink = document.createElement('div');\n",
              "          docLink.innerHTML = docLinkHtml;\n",
              "          element.appendChild(docLink);\n",
              "        }\n",
              "      </script>\n",
              "    </div>\n",
              "  </div>\n",
              "  "
            ]
          },
          "metadata": {},
          "execution_count": 12
        }
      ]
    },
    {
      "cell_type": "markdown",
      "source": [
        "### STC & EMA"
      ],
      "metadata": {
        "id": "EbCqhjaFcBXo"
      }
    },
    {
      "cell_type": "code",
      "source": [
        "def generate_STC_and_EMA(df_in, stc_length, fast_length, slow_length, ema_period):\n",
        "  \n",
        "  df = df_in[[\"Date\",\"Close\"]].copy()\n",
        "\n",
        "  s_stc = STCIndicator(close=df.Close, window_slow=slow_length, window_fast=fast_length, cycle=stc_length).stc()\n",
        "  s_ema = EMAIndicator(close=df.Close, window=ema_period).ema_indicator()\n",
        "\n",
        "  df[\"STC\"] = round(s_stc,2)\n",
        "  df[\"EMA\"] = round(s_ema,2)\n",
        "\n",
        "  params = \"STC Length = \" + str(stc_length) + \", Fast Length = \" + str(fast_length) + \", Slow Length = \" + str(slow_length) + \", EMA length = \" + str(ema_period)\n",
        "\n",
        "  df.drop(columns=[\"Close\"], inplace=True)\n",
        "\n",
        "  return df, params"
      ],
      "metadata": {
        "id": "Kr56pqQgdycS"
      },
      "execution_count": 13,
      "outputs": []
    },
    {
      "cell_type": "code",
      "source": [
        "df_STC_EMA, params_STC_EMA = generate_STC_and_EMA(df_historical_data, stc_length=130, fast_length=25, slow_length=125, ema_period=70)"
      ],
      "metadata": {
        "id": "a8Rc-_MzfJnD"
      },
      "execution_count": 14,
      "outputs": []
    },
    {
      "cell_type": "code",
      "source": [
        "# Servira à stocker les paramètres testés pour identifier la meilleure combinaison\n",
        "print(params_STC_EMA)"
      ],
      "metadata": {
        "colab": {
          "base_uri": "https://localhost:8080/"
        },
        "id": "WZuv-zCpfck-",
        "outputId": "901a6dfe-932d-4757-f1c7-517faf04ea92"
      },
      "execution_count": 15,
      "outputs": [
        {
          "output_type": "stream",
          "name": "stdout",
          "text": [
            "STC Length = 130, Fast Length = 25, Slow Length = 125, EMA length = 70\n"
          ]
        }
      ]
    },
    {
      "cell_type": "code",
      "source": [
        "df_STC_EMA.tail(1)"
      ],
      "metadata": {
        "colab": {
          "base_uri": "https://localhost:8080/",
          "height": 81
        },
        "id": "Gh7eYBx_fj6P",
        "outputId": "83895427-83bb-4a07-ca0d-ea5f3de103f3"
      },
      "execution_count": 16,
      "outputs": [
        {
          "output_type": "execute_result",
          "data": {
            "text/plain": [
              "                          Date    STC       EMA\n",
              "9469 2023-04-27 00:00:00-04:00  98.09  12506.37"
            ],
            "text/html": [
              "\n",
              "  <div id=\"df-ffd6b584-8a5b-4283-9b8b-7ec14eeaadbb\">\n",
              "    <div class=\"colab-df-container\">\n",
              "      <div>\n",
              "<style scoped>\n",
              "    .dataframe tbody tr th:only-of-type {\n",
              "        vertical-align: middle;\n",
              "    }\n",
              "\n",
              "    .dataframe tbody tr th {\n",
              "        vertical-align: top;\n",
              "    }\n",
              "\n",
              "    .dataframe thead th {\n",
              "        text-align: right;\n",
              "    }\n",
              "</style>\n",
              "<table border=\"1\" class=\"dataframe\">\n",
              "  <thead>\n",
              "    <tr style=\"text-align: right;\">\n",
              "      <th></th>\n",
              "      <th>Date</th>\n",
              "      <th>STC</th>\n",
              "      <th>EMA</th>\n",
              "    </tr>\n",
              "  </thead>\n",
              "  <tbody>\n",
              "    <tr>\n",
              "      <th>9469</th>\n",
              "      <td>2023-04-27 00:00:00-04:00</td>\n",
              "      <td>98.09</td>\n",
              "      <td>12506.37</td>\n",
              "    </tr>\n",
              "  </tbody>\n",
              "</table>\n",
              "</div>\n",
              "      <button class=\"colab-df-convert\" onclick=\"convertToInteractive('df-ffd6b584-8a5b-4283-9b8b-7ec14eeaadbb')\"\n",
              "              title=\"Convert this dataframe to an interactive table.\"\n",
              "              style=\"display:none;\">\n",
              "        \n",
              "  <svg xmlns=\"http://www.w3.org/2000/svg\" height=\"24px\"viewBox=\"0 0 24 24\"\n",
              "       width=\"24px\">\n",
              "    <path d=\"M0 0h24v24H0V0z\" fill=\"none\"/>\n",
              "    <path d=\"M18.56 5.44l.94 2.06.94-2.06 2.06-.94-2.06-.94-.94-2.06-.94 2.06-2.06.94zm-11 1L8.5 8.5l.94-2.06 2.06-.94-2.06-.94L8.5 2.5l-.94 2.06-2.06.94zm10 10l.94 2.06.94-2.06 2.06-.94-2.06-.94-.94-2.06-.94 2.06-2.06.94z\"/><path d=\"M17.41 7.96l-1.37-1.37c-.4-.4-.92-.59-1.43-.59-.52 0-1.04.2-1.43.59L10.3 9.45l-7.72 7.72c-.78.78-.78 2.05 0 2.83L4 21.41c.39.39.9.59 1.41.59.51 0 1.02-.2 1.41-.59l7.78-7.78 2.81-2.81c.8-.78.8-2.07 0-2.86zM5.41 20L4 18.59l7.72-7.72 1.47 1.35L5.41 20z\"/>\n",
              "  </svg>\n",
              "      </button>\n",
              "      \n",
              "  <style>\n",
              "    .colab-df-container {\n",
              "      display:flex;\n",
              "      flex-wrap:wrap;\n",
              "      gap: 12px;\n",
              "    }\n",
              "\n",
              "    .colab-df-convert {\n",
              "      background-color: #E8F0FE;\n",
              "      border: none;\n",
              "      border-radius: 50%;\n",
              "      cursor: pointer;\n",
              "      display: none;\n",
              "      fill: #1967D2;\n",
              "      height: 32px;\n",
              "      padding: 0 0 0 0;\n",
              "      width: 32px;\n",
              "    }\n",
              "\n",
              "    .colab-df-convert:hover {\n",
              "      background-color: #E2EBFA;\n",
              "      box-shadow: 0px 1px 2px rgba(60, 64, 67, 0.3), 0px 1px 3px 1px rgba(60, 64, 67, 0.15);\n",
              "      fill: #174EA6;\n",
              "    }\n",
              "\n",
              "    [theme=dark] .colab-df-convert {\n",
              "      background-color: #3B4455;\n",
              "      fill: #D2E3FC;\n",
              "    }\n",
              "\n",
              "    [theme=dark] .colab-df-convert:hover {\n",
              "      background-color: #434B5C;\n",
              "      box-shadow: 0px 1px 3px 1px rgba(0, 0, 0, 0.15);\n",
              "      filter: drop-shadow(0px 1px 2px rgba(0, 0, 0, 0.3));\n",
              "      fill: #FFFFFF;\n",
              "    }\n",
              "  </style>\n",
              "\n",
              "      <script>\n",
              "        const buttonEl =\n",
              "          document.querySelector('#df-ffd6b584-8a5b-4283-9b8b-7ec14eeaadbb button.colab-df-convert');\n",
              "        buttonEl.style.display =\n",
              "          google.colab.kernel.accessAllowed ? 'block' : 'none';\n",
              "\n",
              "        async function convertToInteractive(key) {\n",
              "          const element = document.querySelector('#df-ffd6b584-8a5b-4283-9b8b-7ec14eeaadbb');\n",
              "          const dataTable =\n",
              "            await google.colab.kernel.invokeFunction('convertToInteractive',\n",
              "                                                     [key], {});\n",
              "          if (!dataTable) return;\n",
              "\n",
              "          const docLinkHtml = 'Like what you see? Visit the ' +\n",
              "            '<a target=\"_blank\" href=https://colab.research.google.com/notebooks/data_table.ipynb>data table notebook</a>'\n",
              "            + ' to learn more about interactive tables.';\n",
              "          element.innerHTML = '';\n",
              "          dataTable['output_type'] = 'display_data';\n",
              "          await google.colab.output.renderOutput(dataTable, element);\n",
              "          const docLink = document.createElement('div');\n",
              "          docLink.innerHTML = docLinkHtml;\n",
              "          element.appendChild(docLink);\n",
              "        }\n",
              "      </script>\n",
              "    </div>\n",
              "  </div>\n",
              "  "
            ]
          },
          "metadata": {},
          "execution_count": 16
        }
      ]
    },
    {
      "cell_type": "markdown",
      "source": [
        "### Merge et export du Dataset contenant l'ensemble des indicateurs techniques"
      ],
      "metadata": {
        "id": "KKlEf1rvi-BO"
      }
    },
    {
      "cell_type": "code",
      "source": [
        "df_essentials = df_historical_data.copy()\n",
        "\n",
        "# Ajout de la colonne ATR qui servira plus tard dans le calcul de la sortie.\n",
        "s_atr = AverageTrueRange(high=df_essentials.High, low=df_essentials.Low, close=df_essentials.Close, window=14).average_true_range()\n",
        "df_essentials[\"ATR\"] = s_atr\n",
        "\n",
        "# Réduction au strict nécessaire pour les colonnes\n",
        "df_essentials = df_essentials[[\"Date\",\"Open\",\"Close\",\"ATR\"]].copy()\n",
        "\n",
        "df_essentials[\"Open\"] = df_essentials.Open.apply(lambda x: round(x,2))\n",
        "df_essentials[\"Close\"] = df_essentials.Close.apply(lambda x: round(x,2))\n",
        "df_essentials[\"ATR\"] = df_essentials.ATR.apply(lambda x: round(x,2))"
      ],
      "metadata": {
        "id": "EED7tqHijbQ2"
      },
      "execution_count": 63,
      "outputs": []
    },
    {
      "cell_type": "code",
      "source": [
        "data_frames = [df_essentials, df_AT, df_STC_EMA]\n",
        "df_IT = reduce(lambda  left,right: pd.merge(left,right, on=['Date'], how='left'), data_frames)"
      ],
      "metadata": {
        "id": "mc7UMm3ajDR6"
      },
      "execution_count": 64,
      "outputs": []
    },
    {
      "cell_type": "code",
      "source": [
        "df_IT = df_IT.loc[df_IT[\"Date\"]>=\"1998-01-01\"]"
      ],
      "metadata": {
        "id": "e8Vjeliuj6q6"
      },
      "execution_count": 65,
      "outputs": []
    },
    {
      "cell_type": "code",
      "source": [
        "df_IT.head(1)"
      ],
      "metadata": {
        "colab": {
          "base_uri": "https://localhost:8080/",
          "height": 81
        },
        "id": "c0ZYWzZRkTNS",
        "outputId": "8d45fe1c-d691-4046-aafe-9e5023255bb7"
      },
      "execution_count": 66,
      "outputs": [
        {
          "output_type": "execute_result",
          "data": {
            "text/plain": [
              "                          Date   Open    Close    ATR  Alphatrend_k1  \\\n",
              "3099 1998-01-02 00:00:00-05:00  990.8  1008.23  24.18         959.34   \n",
              "\n",
              "      Alphatrend_k2  Trend  Signal   STC      EMA  \n",
              "3099         959.34    0.0     0.0  0.21  1031.32  "
            ],
            "text/html": [
              "\n",
              "  <div id=\"df-a2a5e4a0-6333-4c72-b6a3-f6d90f80b660\">\n",
              "    <div class=\"colab-df-container\">\n",
              "      <div>\n",
              "<style scoped>\n",
              "    .dataframe tbody tr th:only-of-type {\n",
              "        vertical-align: middle;\n",
              "    }\n",
              "\n",
              "    .dataframe tbody tr th {\n",
              "        vertical-align: top;\n",
              "    }\n",
              "\n",
              "    .dataframe thead th {\n",
              "        text-align: right;\n",
              "    }\n",
              "</style>\n",
              "<table border=\"1\" class=\"dataframe\">\n",
              "  <thead>\n",
              "    <tr style=\"text-align: right;\">\n",
              "      <th></th>\n",
              "      <th>Date</th>\n",
              "      <th>Open</th>\n",
              "      <th>Close</th>\n",
              "      <th>ATR</th>\n",
              "      <th>Alphatrend_k1</th>\n",
              "      <th>Alphatrend_k2</th>\n",
              "      <th>Trend</th>\n",
              "      <th>Signal</th>\n",
              "      <th>STC</th>\n",
              "      <th>EMA</th>\n",
              "    </tr>\n",
              "  </thead>\n",
              "  <tbody>\n",
              "    <tr>\n",
              "      <th>3099</th>\n",
              "      <td>1998-01-02 00:00:00-05:00</td>\n",
              "      <td>990.8</td>\n",
              "      <td>1008.23</td>\n",
              "      <td>24.18</td>\n",
              "      <td>959.34</td>\n",
              "      <td>959.34</td>\n",
              "      <td>0.0</td>\n",
              "      <td>0.0</td>\n",
              "      <td>0.21</td>\n",
              "      <td>1031.32</td>\n",
              "    </tr>\n",
              "  </tbody>\n",
              "</table>\n",
              "</div>\n",
              "      <button class=\"colab-df-convert\" onclick=\"convertToInteractive('df-a2a5e4a0-6333-4c72-b6a3-f6d90f80b660')\"\n",
              "              title=\"Convert this dataframe to an interactive table.\"\n",
              "              style=\"display:none;\">\n",
              "        \n",
              "  <svg xmlns=\"http://www.w3.org/2000/svg\" height=\"24px\"viewBox=\"0 0 24 24\"\n",
              "       width=\"24px\">\n",
              "    <path d=\"M0 0h24v24H0V0z\" fill=\"none\"/>\n",
              "    <path d=\"M18.56 5.44l.94 2.06.94-2.06 2.06-.94-2.06-.94-.94-2.06-.94 2.06-2.06.94zm-11 1L8.5 8.5l.94-2.06 2.06-.94-2.06-.94L8.5 2.5l-.94 2.06-2.06.94zm10 10l.94 2.06.94-2.06 2.06-.94-2.06-.94-.94-2.06-.94 2.06-2.06.94z\"/><path d=\"M17.41 7.96l-1.37-1.37c-.4-.4-.92-.59-1.43-.59-.52 0-1.04.2-1.43.59L10.3 9.45l-7.72 7.72c-.78.78-.78 2.05 0 2.83L4 21.41c.39.39.9.59 1.41.59.51 0 1.02-.2 1.41-.59l7.78-7.78 2.81-2.81c.8-.78.8-2.07 0-2.86zM5.41 20L4 18.59l7.72-7.72 1.47 1.35L5.41 20z\"/>\n",
              "  </svg>\n",
              "      </button>\n",
              "      \n",
              "  <style>\n",
              "    .colab-df-container {\n",
              "      display:flex;\n",
              "      flex-wrap:wrap;\n",
              "      gap: 12px;\n",
              "    }\n",
              "\n",
              "    .colab-df-convert {\n",
              "      background-color: #E8F0FE;\n",
              "      border: none;\n",
              "      border-radius: 50%;\n",
              "      cursor: pointer;\n",
              "      display: none;\n",
              "      fill: #1967D2;\n",
              "      height: 32px;\n",
              "      padding: 0 0 0 0;\n",
              "      width: 32px;\n",
              "    }\n",
              "\n",
              "    .colab-df-convert:hover {\n",
              "      background-color: #E2EBFA;\n",
              "      box-shadow: 0px 1px 2px rgba(60, 64, 67, 0.3), 0px 1px 3px 1px rgba(60, 64, 67, 0.15);\n",
              "      fill: #174EA6;\n",
              "    }\n",
              "\n",
              "    [theme=dark] .colab-df-convert {\n",
              "      background-color: #3B4455;\n",
              "      fill: #D2E3FC;\n",
              "    }\n",
              "\n",
              "    [theme=dark] .colab-df-convert:hover {\n",
              "      background-color: #434B5C;\n",
              "      box-shadow: 0px 1px 3px 1px rgba(0, 0, 0, 0.15);\n",
              "      filter: drop-shadow(0px 1px 2px rgba(0, 0, 0, 0.3));\n",
              "      fill: #FFFFFF;\n",
              "    }\n",
              "  </style>\n",
              "\n",
              "      <script>\n",
              "        const buttonEl =\n",
              "          document.querySelector('#df-a2a5e4a0-6333-4c72-b6a3-f6d90f80b660 button.colab-df-convert');\n",
              "        buttonEl.style.display =\n",
              "          google.colab.kernel.accessAllowed ? 'block' : 'none';\n",
              "\n",
              "        async function convertToInteractive(key) {\n",
              "          const element = document.querySelector('#df-a2a5e4a0-6333-4c72-b6a3-f6d90f80b660');\n",
              "          const dataTable =\n",
              "            await google.colab.kernel.invokeFunction('convertToInteractive',\n",
              "                                                     [key], {});\n",
              "          if (!dataTable) return;\n",
              "\n",
              "          const docLinkHtml = 'Like what you see? Visit the ' +\n",
              "            '<a target=\"_blank\" href=https://colab.research.google.com/notebooks/data_table.ipynb>data table notebook</a>'\n",
              "            + ' to learn more about interactive tables.';\n",
              "          element.innerHTML = '';\n",
              "          dataTable['output_type'] = 'display_data';\n",
              "          await google.colab.output.renderOutput(dataTable, element);\n",
              "          const docLink = document.createElement('div');\n",
              "          docLink.innerHTML = docLinkHtml;\n",
              "          element.appendChild(docLink);\n",
              "        }\n",
              "      </script>\n",
              "    </div>\n",
              "  </div>\n",
              "  "
            ]
          },
          "metadata": {},
          "execution_count": 66
        }
      ]
    },
    {
      "cell_type": "code",
      "source": [
        "df_IT[\"Trend\"].value_counts()"
      ],
      "metadata": {
        "colab": {
          "base_uri": "https://localhost:8080/"
        },
        "id": "H9l1X-oEkVF4",
        "outputId": "e88fa65e-4c76-4e2e-cd68-21cd975f3a18"
      },
      "execution_count": 67,
      "outputs": [
        {
          "output_type": "execute_result",
          "data": {
            "text/plain": [
              " 0.0    3043\n",
              " 1.0    2134\n",
              "-1.0    1194\n",
              "Name: Trend, dtype: int64"
            ]
          },
          "metadata": {},
          "execution_count": 67
        }
      ]
    },
    {
      "cell_type": "code",
      "source": [
        "df_IT.reset_index(drop=True,inplace=True)"
      ],
      "metadata": {
        "id": "5iZP3Wado_ZB"
      },
      "execution_count": 68,
      "outputs": []
    },
    {
      "cell_type": "code",
      "source": [
        "# Test si aucune ligne manquante\n",
        "test_list = [champ == 0 for champ in df_historical_data.isnull().sum()]\n",
        "test_list2 = [champ == 0 for champ in df_historical_data.isna().sum()]\n",
        "\n",
        "# Si toutes les colonnes sont True, résultat = True\n",
        "res1 = all(i for i in test_list)\n",
        "res2 = all(i for i in test_list2)\n",
        "\n",
        "if res1 and res2 :\n",
        "  print(\"Ok pour Backtesting\")\n",
        "else :\n",
        "  print(\"Anomalies détectées\")"
      ],
      "metadata": {
        "colab": {
          "base_uri": "https://localhost:8080/"
        },
        "id": "8Fp1RLnQnmDG",
        "outputId": "b7e9130e-55e6-4280-d0bf-fc5120fd0d3e"
      },
      "execution_count": 69,
      "outputs": [
        {
          "output_type": "stream",
          "name": "stdout",
          "text": [
            "Ok pour Backtesting\n"
          ]
        }
      ]
    },
    {
      "cell_type": "code",
      "source": [
        "# Export\n",
        "#df_IT.to_csv(\"/content/drive/MyDrive/Colab Notebooks/sources/TradingView_strategies/AT_STC_EMA_indicateurs_optimised_short.csv\", header=True, index=False)"
      ],
      "metadata": {
        "id": "wQZRiYixofQ6"
      },
      "execution_count": 71,
      "outputs": []
    },
    {
      "cell_type": "markdown",
      "source": [
        "# Backtesting"
      ],
      "metadata": {
        "id": "GhSGRvpJpLN3"
      }
    },
    {
      "cell_type": "markdown",
      "source": [
        "## Détection des entrées"
      ],
      "metadata": {
        "id": "B4WrFhfVpOXv"
      }
    },
    {
      "cell_type": "markdown",
      "source": [
        "Stratégie :<br>\n",
        "<li>Entreée : Buy signal + Prix > EMA + STC < seuil(25)</li>\n",
        "<li>Sortie : Sell signal + Prix < EMA + STC > seuil(75)</li>"
      ],
      "metadata": {
        "id": "RWCU9QZoQ1u-"
      }
    },
    {
      "cell_type": "code",
      "source": [
        "stc_seuil_bas = 25\n",
        "# Valeur 3 pour signaux d'entrée valides\n",
        "df_IT[\"Buy_entry\"] = np.sign(df_IT.Close - df_IT.EMA) + df_IT.Signal + np.sign(stc_seuil_bas - df_IT.STC)\n",
        "\n",
        "stc_seuil_haut = 75\n",
        "# Valeur -3 pour signaux d'entrée valides\n",
        "# Attention / par deux signaux négatifs -> positif, d'où l'inversion sur un seul champ\n",
        "df_IT[\"Sell_entry\"] = np.sign(df_IT.Close - df_IT.EMA) + df_IT.Signal + np.sign(stc_seuil_haut - df_IT.STC)"
      ],
      "metadata": {
        "id": "igd1ch6cQ0jb"
      },
      "execution_count": 72,
      "outputs": []
    },
    {
      "cell_type": "code",
      "source": [
        "# Conversion en np array\n",
        "arr_buy_entry = df_IT[\"Buy_entry\"].to_numpy()\n",
        "# np.where(condition, vrai, sinon)\n",
        "df_IT[\"Buy_entry\"] = np.where(arr_buy_entry==3, 1, 0)\n",
        "\n",
        "arr_sell_entry = df_IT[\"Sell_entry\"].to_numpy()\n",
        "df_IT[\"Sell_entry\"] = np.where(arr_sell_entry==-3.0, -1, 0)"
      ],
      "metadata": {
        "id": "tuHizhA2aRRz"
      },
      "execution_count": 73,
      "outputs": []
    },
    {
      "cell_type": "code",
      "source": [
        "'''Agrégation dans une seule colonne \"Entrées\"\n",
        "1 pour Buy -1 pour Sell\n",
        "Ne sera peut-être pas conservé si paramètres différents entre Stratégie Short ou Long.\n",
        "Il ne sera pas possible de générer les deux en même temps'''\n",
        "\n",
        "df_IT[\"Entry\"] = df_IT[\"Sell_entry\"] + df_IT[\"Buy_entry\"]\n",
        "df_IT[\"Entry\"].value_counts()"
      ],
      "metadata": {
        "colab": {
          "base_uri": "https://localhost:8080/"
        },
        "id": "mkvevZAca61-",
        "outputId": "5098875e-788d-4880-ecd4-fb9b1f95c843"
      },
      "execution_count": 74,
      "outputs": [
        {
          "output_type": "execute_result",
          "data": {
            "text/plain": [
              " 0    6299\n",
              " 1      50\n",
              "-1      22\n",
              "Name: Entry, dtype: int64"
            ]
          },
          "metadata": {},
          "execution_count": 74
        }
      ]
    },
    {
      "cell_type": "code",
      "source": [
        "df_IT.drop(columns=[\"Buy_entry\",\"Sell_entry\"], inplace=True)\n",
        "df_IT.tail(1)"
      ],
      "metadata": {
        "colab": {
          "base_uri": "https://localhost:8080/",
          "height": 81
        },
        "id": "tM6i15umd3j6",
        "outputId": "b774ab09-6543-4b8f-b4ab-d4d2b1a158b7"
      },
      "execution_count": 75,
      "outputs": [
        {
          "output_type": "execute_result",
          "data": {
            "text/plain": [
              "                          Date     Open     Close    ATR  Alphatrend_k1  \\\n",
              "6370 2023-04-27 00:00:00-04:00  12963.2  13160.47  209.5       12968.72   \n",
              "\n",
              "      Alphatrend_k2  Trend  Signal    STC       EMA  Entry  \n",
              "6370       12972.23   -1.0     0.0  98.09  12506.37      0  "
            ],
            "text/html": [
              "\n",
              "  <div id=\"df-5fa3cc20-c9c1-4893-b8d3-dd4c36901b20\">\n",
              "    <div class=\"colab-df-container\">\n",
              "      <div>\n",
              "<style scoped>\n",
              "    .dataframe tbody tr th:only-of-type {\n",
              "        vertical-align: middle;\n",
              "    }\n",
              "\n",
              "    .dataframe tbody tr th {\n",
              "        vertical-align: top;\n",
              "    }\n",
              "\n",
              "    .dataframe thead th {\n",
              "        text-align: right;\n",
              "    }\n",
              "</style>\n",
              "<table border=\"1\" class=\"dataframe\">\n",
              "  <thead>\n",
              "    <tr style=\"text-align: right;\">\n",
              "      <th></th>\n",
              "      <th>Date</th>\n",
              "      <th>Open</th>\n",
              "      <th>Close</th>\n",
              "      <th>ATR</th>\n",
              "      <th>Alphatrend_k1</th>\n",
              "      <th>Alphatrend_k2</th>\n",
              "      <th>Trend</th>\n",
              "      <th>Signal</th>\n",
              "      <th>STC</th>\n",
              "      <th>EMA</th>\n",
              "      <th>Entry</th>\n",
              "    </tr>\n",
              "  </thead>\n",
              "  <tbody>\n",
              "    <tr>\n",
              "      <th>6370</th>\n",
              "      <td>2023-04-27 00:00:00-04:00</td>\n",
              "      <td>12963.2</td>\n",
              "      <td>13160.47</td>\n",
              "      <td>209.5</td>\n",
              "      <td>12968.72</td>\n",
              "      <td>12972.23</td>\n",
              "      <td>-1.0</td>\n",
              "      <td>0.0</td>\n",
              "      <td>98.09</td>\n",
              "      <td>12506.37</td>\n",
              "      <td>0</td>\n",
              "    </tr>\n",
              "  </tbody>\n",
              "</table>\n",
              "</div>\n",
              "      <button class=\"colab-df-convert\" onclick=\"convertToInteractive('df-5fa3cc20-c9c1-4893-b8d3-dd4c36901b20')\"\n",
              "              title=\"Convert this dataframe to an interactive table.\"\n",
              "              style=\"display:none;\">\n",
              "        \n",
              "  <svg xmlns=\"http://www.w3.org/2000/svg\" height=\"24px\"viewBox=\"0 0 24 24\"\n",
              "       width=\"24px\">\n",
              "    <path d=\"M0 0h24v24H0V0z\" fill=\"none\"/>\n",
              "    <path d=\"M18.56 5.44l.94 2.06.94-2.06 2.06-.94-2.06-.94-.94-2.06-.94 2.06-2.06.94zm-11 1L8.5 8.5l.94-2.06 2.06-.94-2.06-.94L8.5 2.5l-.94 2.06-2.06.94zm10 10l.94 2.06.94-2.06 2.06-.94-2.06-.94-.94-2.06-.94 2.06-2.06.94z\"/><path d=\"M17.41 7.96l-1.37-1.37c-.4-.4-.92-.59-1.43-.59-.52 0-1.04.2-1.43.59L10.3 9.45l-7.72 7.72c-.78.78-.78 2.05 0 2.83L4 21.41c.39.39.9.59 1.41.59.51 0 1.02-.2 1.41-.59l7.78-7.78 2.81-2.81c.8-.78.8-2.07 0-2.86zM5.41 20L4 18.59l7.72-7.72 1.47 1.35L5.41 20z\"/>\n",
              "  </svg>\n",
              "      </button>\n",
              "      \n",
              "  <style>\n",
              "    .colab-df-container {\n",
              "      display:flex;\n",
              "      flex-wrap:wrap;\n",
              "      gap: 12px;\n",
              "    }\n",
              "\n",
              "    .colab-df-convert {\n",
              "      background-color: #E8F0FE;\n",
              "      border: none;\n",
              "      border-radius: 50%;\n",
              "      cursor: pointer;\n",
              "      display: none;\n",
              "      fill: #1967D2;\n",
              "      height: 32px;\n",
              "      padding: 0 0 0 0;\n",
              "      width: 32px;\n",
              "    }\n",
              "\n",
              "    .colab-df-convert:hover {\n",
              "      background-color: #E2EBFA;\n",
              "      box-shadow: 0px 1px 2px rgba(60, 64, 67, 0.3), 0px 1px 3px 1px rgba(60, 64, 67, 0.15);\n",
              "      fill: #174EA6;\n",
              "    }\n",
              "\n",
              "    [theme=dark] .colab-df-convert {\n",
              "      background-color: #3B4455;\n",
              "      fill: #D2E3FC;\n",
              "    }\n",
              "\n",
              "    [theme=dark] .colab-df-convert:hover {\n",
              "      background-color: #434B5C;\n",
              "      box-shadow: 0px 1px 3px 1px rgba(0, 0, 0, 0.15);\n",
              "      filter: drop-shadow(0px 1px 2px rgba(0, 0, 0, 0.3));\n",
              "      fill: #FFFFFF;\n",
              "    }\n",
              "  </style>\n",
              "\n",
              "      <script>\n",
              "        const buttonEl =\n",
              "          document.querySelector('#df-5fa3cc20-c9c1-4893-b8d3-dd4c36901b20 button.colab-df-convert');\n",
              "        buttonEl.style.display =\n",
              "          google.colab.kernel.accessAllowed ? 'block' : 'none';\n",
              "\n",
              "        async function convertToInteractive(key) {\n",
              "          const element = document.querySelector('#df-5fa3cc20-c9c1-4893-b8d3-dd4c36901b20');\n",
              "          const dataTable =\n",
              "            await google.colab.kernel.invokeFunction('convertToInteractive',\n",
              "                                                     [key], {});\n",
              "          if (!dataTable) return;\n",
              "\n",
              "          const docLinkHtml = 'Like what you see? Visit the ' +\n",
              "            '<a target=\"_blank\" href=https://colab.research.google.com/notebooks/data_table.ipynb>data table notebook</a>'\n",
              "            + ' to learn more about interactive tables.';\n",
              "          element.innerHTML = '';\n",
              "          dataTable['output_type'] = 'display_data';\n",
              "          await google.colab.output.renderOutput(dataTable, element);\n",
              "          const docLink = document.createElement('div');\n",
              "          docLink.innerHTML = docLinkHtml;\n",
              "          element.appendChild(docLink);\n",
              "        }\n",
              "      </script>\n",
              "    </div>\n",
              "  </div>\n",
              "  "
            ]
          },
          "metadata": {},
          "execution_count": 75
        }
      ]
    },
    {
      "cell_type": "code",
      "source": [
        "df_IT.loc[ df_IT[\"Entry\"]==-1 ].index"
      ],
      "metadata": {
        "colab": {
          "base_uri": "https://localhost:8080/"
        },
        "id": "Y7yDzJQniwet",
        "outputId": "605a38f7-a20d-4e68-c26e-8aed79128d5f"
      },
      "execution_count": 76,
      "outputs": [
        {
          "output_type": "execute_result",
          "data": {
            "text/plain": [
              "Int64Index([ 781,  857,  869,  892,  908, 1244, 1272, 1942, 2804, 3493, 3511,\n",
              "            3807, 3890, 4266, 4515, 4529, 5055, 5224, 5572, 6205, 6280, 6337],\n",
              "           dtype='int64')"
            ]
          },
          "metadata": {},
          "execution_count": 76
        }
      ]
    },
    {
      "cell_type": "markdown",
      "source": [
        "# Mesure de la performance"
      ],
      "metadata": {
        "id": "8EQoFGwEQH_y"
      }
    },
    {
      "cell_type": "markdown",
      "source": [
        "### Isolement des entrées"
      ],
      "metadata": {
        "id": "Qoqqa6AVUxMA"
      }
    },
    {
      "cell_type": "code",
      "source": [
        "# Ajout d'une unité pour entrée le lendemain du signal confirmé et clos\n",
        "short_entries_indexes = df_IT.loc[ df_IT[\"Entry\"]==-1 ].index\n",
        "short_entries_indexes += 1\n",
        "short_entries_indexes = short_entries_indexes.to_list()\n",
        "print(short_entries_indexes)"
      ],
      "metadata": {
        "colab": {
          "base_uri": "https://localhost:8080/"
        },
        "id": "u8DhN5wuV_RW",
        "outputId": "35d72392-95f3-47f5-acef-79d57c391bc9"
      },
      "execution_count": 77,
      "outputs": [
        {
          "output_type": "stream",
          "name": "stdout",
          "text": [
            "[782, 858, 870, 893, 909, 1245, 1273, 1943, 2805, 3494, 3512, 3808, 3891, 4267, 4516, 4530, 5056, 5225, 5573, 6206, 6281, 6338]\n"
          ]
        }
      ]
    },
    {
      "cell_type": "code",
      "source": [
        "index_min = short_entries_indexes[0]\n",
        "index_max = short_entries_indexes[-1]\n",
        "print(\"Sélection des lignes entre {} et {}\".format(index_min,index_max))"
      ],
      "metadata": {
        "colab": {
          "base_uri": "https://localhost:8080/"
        },
        "id": "Ghuj4S-da_cO",
        "outputId": "f40b07f8-1fd7-4014-8c01-05d8be9c1865"
      },
      "execution_count": 80,
      "outputs": [
        {
          "output_type": "stream",
          "name": "stdout",
          "text": [
            "Sélection des lignes entre 782 et 6338\n"
          ]
        }
      ]
    },
    {
      "cell_type": "code",
      "source": [
        "df_short_entries = df_IT.loc[index_min:index_max]\n",
        "df_short_entries.shape"
      ],
      "metadata": {
        "colab": {
          "base_uri": "https://localhost:8080/"
        },
        "id": "LVkKhe5GQoGd",
        "outputId": "9fdc90f4-cca4-43ec-a5f3-f7e11ede8ff1"
      },
      "execution_count": 81,
      "outputs": [
        {
          "output_type": "execute_result",
          "data": {
            "text/plain": [
              "(5557, 11)"
            ]
          },
          "metadata": {},
          "execution_count": 81
        }
      ]
    },
    {
      "cell_type": "code",
      "source": [
        "df_short_entries = df_short_entries[['Date','Open','Close','ATR']].copy()"
      ],
      "metadata": {
        "id": "D2Fw6zd_bRvF"
      },
      "execution_count": 85,
      "outputs": []
    },
    {
      "cell_type": "markdown",
      "source": [
        "### Conditions de sortie\n",
        "2 ATR en stop Loss, 1:3 en Risk Reward"
      ],
      "metadata": {
        "id": "-pLYuF0VVCQx"
      }
    },
    {
      "cell_type": "code",
      "source": [
        "entree_reference = df_short_entries.at[782,\"Open\"]\n",
        "atr_reference = df_short_entries.at[782,\"ATR\"]\n",
        "\n",
        "stop_loss = entree_reference + 2 * atr_reference\n",
        "take_profit = entree_reference - 3 * (2 * atr_reference)\n",
        "\n",
        "print(\"Open : {}, Stop Loss : {}, Take Profit : {}\".format(entree_reference,stop_loss,take_profit))"
      ],
      "metadata": {
        "colab": {
          "base_uri": "https://localhost:8080/"
        },
        "id": "0aPDbLIbQnsF",
        "outputId": "0688a595-b67a-4d76-ed3b-c4ba0ba290be"
      },
      "execution_count": 94,
      "outputs": [
        {
          "output_type": "stream",
          "name": "stdout",
          "text": [
            "Open : 2436.48, Stop Loss : 2678.62, Take Profit : 1710.06\n"
          ]
        }
      ]
    },
    {
      "cell_type": "code",
      "source": [
        "df_short_entries[\"Stop_Loss\"] = 0\n",
        "df_short_entries[\"Take_Profit\"] = 0"
      ],
      "metadata": {
        "id": "YK55NOK3hadw"
      },
      "execution_count": 95,
      "outputs": []
    },
    {
      "cell_type": "code",
      "source": [
        "df_short_entries.head()"
      ],
      "metadata": {
        "colab": {
          "base_uri": "https://localhost:8080/",
          "height": 206
        },
        "id": "r4L4B9L0VAt5",
        "outputId": "49bc3c26-896d-4555-c1cc-fe2940887a4c"
      },
      "execution_count": 88,
      "outputs": [
        {
          "output_type": "execute_result",
          "data": {
            "text/plain": [
              "                         Date     Open    Close     ATR  Stop_Loss  \\\n",
              "782 2001-02-08 00:00:00-05:00  2436.48  2355.67  121.07    2678.62   \n",
              "783 2001-02-09 00:00:00-05:00  2333.01  2261.77  120.15    2573.31   \n",
              "784 2001-02-12 00:00:00-05:00  2247.20  2286.76  118.04    2483.28   \n",
              "785 2001-02-13 00:00:00-05:00  2315.46  2208.40  121.03    2557.52   \n",
              "786 2001-02-14 00:00:00-05:00  2224.35  2305.82  121.95    2468.25   \n",
              "\n",
              "     Take_Profit  \n",
              "782      1710.06  \n",
              "783      1612.11  \n",
              "784      1538.96  \n",
              "785      1589.28  \n",
              "786      1492.65  "
            ],
            "text/html": [
              "\n",
              "  <div id=\"df-563b77c4-88a0-4520-b481-68c78d5008a0\">\n",
              "    <div class=\"colab-df-container\">\n",
              "      <div>\n",
              "<style scoped>\n",
              "    .dataframe tbody tr th:only-of-type {\n",
              "        vertical-align: middle;\n",
              "    }\n",
              "\n",
              "    .dataframe tbody tr th {\n",
              "        vertical-align: top;\n",
              "    }\n",
              "\n",
              "    .dataframe thead th {\n",
              "        text-align: right;\n",
              "    }\n",
              "</style>\n",
              "<table border=\"1\" class=\"dataframe\">\n",
              "  <thead>\n",
              "    <tr style=\"text-align: right;\">\n",
              "      <th></th>\n",
              "      <th>Date</th>\n",
              "      <th>Open</th>\n",
              "      <th>Close</th>\n",
              "      <th>ATR</th>\n",
              "      <th>Stop_Loss</th>\n",
              "      <th>Take_Profit</th>\n",
              "    </tr>\n",
              "  </thead>\n",
              "  <tbody>\n",
              "    <tr>\n",
              "      <th>782</th>\n",
              "      <td>2001-02-08 00:00:00-05:00</td>\n",
              "      <td>2436.48</td>\n",
              "      <td>2355.67</td>\n",
              "      <td>121.07</td>\n",
              "      <td>2678.62</td>\n",
              "      <td>1710.06</td>\n",
              "    </tr>\n",
              "    <tr>\n",
              "      <th>783</th>\n",
              "      <td>2001-02-09 00:00:00-05:00</td>\n",
              "      <td>2333.01</td>\n",
              "      <td>2261.77</td>\n",
              "      <td>120.15</td>\n",
              "      <td>2573.31</td>\n",
              "      <td>1612.11</td>\n",
              "    </tr>\n",
              "    <tr>\n",
              "      <th>784</th>\n",
              "      <td>2001-02-12 00:00:00-05:00</td>\n",
              "      <td>2247.20</td>\n",
              "      <td>2286.76</td>\n",
              "      <td>118.04</td>\n",
              "      <td>2483.28</td>\n",
              "      <td>1538.96</td>\n",
              "    </tr>\n",
              "    <tr>\n",
              "      <th>785</th>\n",
              "      <td>2001-02-13 00:00:00-05:00</td>\n",
              "      <td>2315.46</td>\n",
              "      <td>2208.40</td>\n",
              "      <td>121.03</td>\n",
              "      <td>2557.52</td>\n",
              "      <td>1589.28</td>\n",
              "    </tr>\n",
              "    <tr>\n",
              "      <th>786</th>\n",
              "      <td>2001-02-14 00:00:00-05:00</td>\n",
              "      <td>2224.35</td>\n",
              "      <td>2305.82</td>\n",
              "      <td>121.95</td>\n",
              "      <td>2468.25</td>\n",
              "      <td>1492.65</td>\n",
              "    </tr>\n",
              "  </tbody>\n",
              "</table>\n",
              "</div>\n",
              "      <button class=\"colab-df-convert\" onclick=\"convertToInteractive('df-563b77c4-88a0-4520-b481-68c78d5008a0')\"\n",
              "              title=\"Convert this dataframe to an interactive table.\"\n",
              "              style=\"display:none;\">\n",
              "        \n",
              "  <svg xmlns=\"http://www.w3.org/2000/svg\" height=\"24px\"viewBox=\"0 0 24 24\"\n",
              "       width=\"24px\">\n",
              "    <path d=\"M0 0h24v24H0V0z\" fill=\"none\"/>\n",
              "    <path d=\"M18.56 5.44l.94 2.06.94-2.06 2.06-.94-2.06-.94-.94-2.06-.94 2.06-2.06.94zm-11 1L8.5 8.5l.94-2.06 2.06-.94-2.06-.94L8.5 2.5l-.94 2.06-2.06.94zm10 10l.94 2.06.94-2.06 2.06-.94-2.06-.94-.94-2.06-.94 2.06-2.06.94z\"/><path d=\"M17.41 7.96l-1.37-1.37c-.4-.4-.92-.59-1.43-.59-.52 0-1.04.2-1.43.59L10.3 9.45l-7.72 7.72c-.78.78-.78 2.05 0 2.83L4 21.41c.39.39.9.59 1.41.59.51 0 1.02-.2 1.41-.59l7.78-7.78 2.81-2.81c.8-.78.8-2.07 0-2.86zM5.41 20L4 18.59l7.72-7.72 1.47 1.35L5.41 20z\"/>\n",
              "  </svg>\n",
              "      </button>\n",
              "      \n",
              "  <style>\n",
              "    .colab-df-container {\n",
              "      display:flex;\n",
              "      flex-wrap:wrap;\n",
              "      gap: 12px;\n",
              "    }\n",
              "\n",
              "    .colab-df-convert {\n",
              "      background-color: #E8F0FE;\n",
              "      border: none;\n",
              "      border-radius: 50%;\n",
              "      cursor: pointer;\n",
              "      display: none;\n",
              "      fill: #1967D2;\n",
              "      height: 32px;\n",
              "      padding: 0 0 0 0;\n",
              "      width: 32px;\n",
              "    }\n",
              "\n",
              "    .colab-df-convert:hover {\n",
              "      background-color: #E2EBFA;\n",
              "      box-shadow: 0px 1px 2px rgba(60, 64, 67, 0.3), 0px 1px 3px 1px rgba(60, 64, 67, 0.15);\n",
              "      fill: #174EA6;\n",
              "    }\n",
              "\n",
              "    [theme=dark] .colab-df-convert {\n",
              "      background-color: #3B4455;\n",
              "      fill: #D2E3FC;\n",
              "    }\n",
              "\n",
              "    [theme=dark] .colab-df-convert:hover {\n",
              "      background-color: #434B5C;\n",
              "      box-shadow: 0px 1px 3px 1px rgba(0, 0, 0, 0.15);\n",
              "      filter: drop-shadow(0px 1px 2px rgba(0, 0, 0, 0.3));\n",
              "      fill: #FFFFFF;\n",
              "    }\n",
              "  </style>\n",
              "\n",
              "      <script>\n",
              "        const buttonEl =\n",
              "          document.querySelector('#df-563b77c4-88a0-4520-b481-68c78d5008a0 button.colab-df-convert');\n",
              "        buttonEl.style.display =\n",
              "          google.colab.kernel.accessAllowed ? 'block' : 'none';\n",
              "\n",
              "        async function convertToInteractive(key) {\n",
              "          const element = document.querySelector('#df-563b77c4-88a0-4520-b481-68c78d5008a0');\n",
              "          const dataTable =\n",
              "            await google.colab.kernel.invokeFunction('convertToInteractive',\n",
              "                                                     [key], {});\n",
              "          if (!dataTable) return;\n",
              "\n",
              "          const docLinkHtml = 'Like what you see? Visit the ' +\n",
              "            '<a target=\"_blank\" href=https://colab.research.google.com/notebooks/data_table.ipynb>data table notebook</a>'\n",
              "            + ' to learn more about interactive tables.';\n",
              "          element.innerHTML = '';\n",
              "          dataTable['output_type'] = 'display_data';\n",
              "          await google.colab.output.renderOutput(dataTable, element);\n",
              "          const docLink = document.createElement('div');\n",
              "          docLink.innerHTML = docLinkHtml;\n",
              "          element.appendChild(docLink);\n",
              "        }\n",
              "      </script>\n",
              "    </div>\n",
              "  </div>\n",
              "  "
            ]
          },
          "metadata": {},
          "execution_count": 88
        }
      ]
    },
    {
      "cell_type": "code",
      "source": [
        "df_short_entries.loc[782:857,\"Stop_Loss\"] = stop_loss\n",
        "df_short_entries.loc[782:857,\"Take_Profit\"] = take_profit"
      ],
      "metadata": {
        "id": "5iErdHh7QniF"
      },
      "execution_count": 96,
      "outputs": []
    },
    {
      "cell_type": "code",
      "source": [
        "df_short_entries"
      ],
      "metadata": {
        "colab": {
          "base_uri": "https://localhost:8080/",
          "height": 2270
        },
        "id": "6RJl9XTkQnE2",
        "outputId": "68ef2ef1-a105-4d9e-b627-28e8180236fb"
      },
      "execution_count": 97,
      "outputs": [
        {
          "output_type": "execute_result",
          "data": {
            "text/plain": [
              "                          Date      Open     Close     ATR  Stop_Loss  \\\n",
              "782  2001-02-08 00:00:00-05:00   2436.48   2355.67  121.07    2678.62   \n",
              "783  2001-02-09 00:00:00-05:00   2333.01   2261.77  120.15    2678.62   \n",
              "784  2001-02-12 00:00:00-05:00   2247.20   2286.76  118.04    2678.62   \n",
              "785  2001-02-13 00:00:00-05:00   2315.46   2208.40  121.03    2678.62   \n",
              "786  2001-02-14 00:00:00-05:00   2224.35   2305.82  121.95    2678.62   \n",
              "...                        ...       ...       ...     ...        ...   \n",
              "6334 2023-03-07 00:00:00-05:00  12303.19  12152.17  229.84       0.00   \n",
              "6335 2023-03-08 00:00:00-05:00  12181.06  12215.33  223.09       0.00   \n",
              "6336 2023-03-09 00:00:00-05:00  12230.84  11995.88  233.60       0.00   \n",
              "6337 2023-03-10 00:00:00-05:00  12001.70  11830.28  236.89       0.00   \n",
              "6338 2023-03-13 00:00:00-04:00  11752.10  11923.17  247.01       0.00   \n",
              "\n",
              "      Take_Profit  \n",
              "782       1710.06  \n",
              "783       1710.06  \n",
              "784       1710.06  \n",
              "785       1710.06  \n",
              "786       1710.06  \n",
              "...           ...  \n",
              "6334         0.00  \n",
              "6335         0.00  \n",
              "6336         0.00  \n",
              "6337         0.00  \n",
              "6338         0.00  \n",
              "\n",
              "[5557 rows x 6 columns]"
            ],
            "text/html": [
              "\n",
              "  <div id=\"df-f6bf5c77-74ec-4f0b-897f-866283eb54b6\">\n",
              "    <div class=\"colab-df-container\">\n",
              "      <div>\n",
              "<style scoped>\n",
              "    .dataframe tbody tr th:only-of-type {\n",
              "        vertical-align: middle;\n",
              "    }\n",
              "\n",
              "    .dataframe tbody tr th {\n",
              "        vertical-align: top;\n",
              "    }\n",
              "\n",
              "    .dataframe thead th {\n",
              "        text-align: right;\n",
              "    }\n",
              "</style>\n",
              "<table border=\"1\" class=\"dataframe\">\n",
              "  <thead>\n",
              "    <tr style=\"text-align: right;\">\n",
              "      <th></th>\n",
              "      <th>Date</th>\n",
              "      <th>Open</th>\n",
              "      <th>Close</th>\n",
              "      <th>ATR</th>\n",
              "      <th>Stop_Loss</th>\n",
              "      <th>Take_Profit</th>\n",
              "    </tr>\n",
              "  </thead>\n",
              "  <tbody>\n",
              "    <tr>\n",
              "      <th>782</th>\n",
              "      <td>2001-02-08 00:00:00-05:00</td>\n",
              "      <td>2436.48</td>\n",
              "      <td>2355.67</td>\n",
              "      <td>121.07</td>\n",
              "      <td>2678.62</td>\n",
              "      <td>1710.06</td>\n",
              "    </tr>\n",
              "    <tr>\n",
              "      <th>783</th>\n",
              "      <td>2001-02-09 00:00:00-05:00</td>\n",
              "      <td>2333.01</td>\n",
              "      <td>2261.77</td>\n",
              "      <td>120.15</td>\n",
              "      <td>2678.62</td>\n",
              "      <td>1710.06</td>\n",
              "    </tr>\n",
              "    <tr>\n",
              "      <th>784</th>\n",
              "      <td>2001-02-12 00:00:00-05:00</td>\n",
              "      <td>2247.20</td>\n",
              "      <td>2286.76</td>\n",
              "      <td>118.04</td>\n",
              "      <td>2678.62</td>\n",
              "      <td>1710.06</td>\n",
              "    </tr>\n",
              "    <tr>\n",
              "      <th>785</th>\n",
              "      <td>2001-02-13 00:00:00-05:00</td>\n",
              "      <td>2315.46</td>\n",
              "      <td>2208.40</td>\n",
              "      <td>121.03</td>\n",
              "      <td>2678.62</td>\n",
              "      <td>1710.06</td>\n",
              "    </tr>\n",
              "    <tr>\n",
              "      <th>786</th>\n",
              "      <td>2001-02-14 00:00:00-05:00</td>\n",
              "      <td>2224.35</td>\n",
              "      <td>2305.82</td>\n",
              "      <td>121.95</td>\n",
              "      <td>2678.62</td>\n",
              "      <td>1710.06</td>\n",
              "    </tr>\n",
              "    <tr>\n",
              "      <th>...</th>\n",
              "      <td>...</td>\n",
              "      <td>...</td>\n",
              "      <td>...</td>\n",
              "      <td>...</td>\n",
              "      <td>...</td>\n",
              "      <td>...</td>\n",
              "    </tr>\n",
              "    <tr>\n",
              "      <th>6334</th>\n",
              "      <td>2023-03-07 00:00:00-05:00</td>\n",
              "      <td>12303.19</td>\n",
              "      <td>12152.17</td>\n",
              "      <td>229.84</td>\n",
              "      <td>0.00</td>\n",
              "      <td>0.00</td>\n",
              "    </tr>\n",
              "    <tr>\n",
              "      <th>6335</th>\n",
              "      <td>2023-03-08 00:00:00-05:00</td>\n",
              "      <td>12181.06</td>\n",
              "      <td>12215.33</td>\n",
              "      <td>223.09</td>\n",
              "      <td>0.00</td>\n",
              "      <td>0.00</td>\n",
              "    </tr>\n",
              "    <tr>\n",
              "      <th>6336</th>\n",
              "      <td>2023-03-09 00:00:00-05:00</td>\n",
              "      <td>12230.84</td>\n",
              "      <td>11995.88</td>\n",
              "      <td>233.60</td>\n",
              "      <td>0.00</td>\n",
              "      <td>0.00</td>\n",
              "    </tr>\n",
              "    <tr>\n",
              "      <th>6337</th>\n",
              "      <td>2023-03-10 00:00:00-05:00</td>\n",
              "      <td>12001.70</td>\n",
              "      <td>11830.28</td>\n",
              "      <td>236.89</td>\n",
              "      <td>0.00</td>\n",
              "      <td>0.00</td>\n",
              "    </tr>\n",
              "    <tr>\n",
              "      <th>6338</th>\n",
              "      <td>2023-03-13 00:00:00-04:00</td>\n",
              "      <td>11752.10</td>\n",
              "      <td>11923.17</td>\n",
              "      <td>247.01</td>\n",
              "      <td>0.00</td>\n",
              "      <td>0.00</td>\n",
              "    </tr>\n",
              "  </tbody>\n",
              "</table>\n",
              "<p>5557 rows × 6 columns</p>\n",
              "</div>\n",
              "      <button class=\"colab-df-convert\" onclick=\"convertToInteractive('df-f6bf5c77-74ec-4f0b-897f-866283eb54b6')\"\n",
              "              title=\"Convert this dataframe to an interactive table.\"\n",
              "              style=\"display:none;\">\n",
              "        \n",
              "  <svg xmlns=\"http://www.w3.org/2000/svg\" height=\"24px\"viewBox=\"0 0 24 24\"\n",
              "       width=\"24px\">\n",
              "    <path d=\"M0 0h24v24H0V0z\" fill=\"none\"/>\n",
              "    <path d=\"M18.56 5.44l.94 2.06.94-2.06 2.06-.94-2.06-.94-.94-2.06-.94 2.06-2.06.94zm-11 1L8.5 8.5l.94-2.06 2.06-.94-2.06-.94L8.5 2.5l-.94 2.06-2.06.94zm10 10l.94 2.06.94-2.06 2.06-.94-2.06-.94-.94-2.06-.94 2.06-2.06.94z\"/><path d=\"M17.41 7.96l-1.37-1.37c-.4-.4-.92-.59-1.43-.59-.52 0-1.04.2-1.43.59L10.3 9.45l-7.72 7.72c-.78.78-.78 2.05 0 2.83L4 21.41c.39.39.9.59 1.41.59.51 0 1.02-.2 1.41-.59l7.78-7.78 2.81-2.81c.8-.78.8-2.07 0-2.86zM5.41 20L4 18.59l7.72-7.72 1.47 1.35L5.41 20z\"/>\n",
              "  </svg>\n",
              "      </button>\n",
              "      \n",
              "  <style>\n",
              "    .colab-df-container {\n",
              "      display:flex;\n",
              "      flex-wrap:wrap;\n",
              "      gap: 12px;\n",
              "    }\n",
              "\n",
              "    .colab-df-convert {\n",
              "      background-color: #E8F0FE;\n",
              "      border: none;\n",
              "      border-radius: 50%;\n",
              "      cursor: pointer;\n",
              "      display: none;\n",
              "      fill: #1967D2;\n",
              "      height: 32px;\n",
              "      padding: 0 0 0 0;\n",
              "      width: 32px;\n",
              "    }\n",
              "\n",
              "    .colab-df-convert:hover {\n",
              "      background-color: #E2EBFA;\n",
              "      box-shadow: 0px 1px 2px rgba(60, 64, 67, 0.3), 0px 1px 3px 1px rgba(60, 64, 67, 0.15);\n",
              "      fill: #174EA6;\n",
              "    }\n",
              "\n",
              "    [theme=dark] .colab-df-convert {\n",
              "      background-color: #3B4455;\n",
              "      fill: #D2E3FC;\n",
              "    }\n",
              "\n",
              "    [theme=dark] .colab-df-convert:hover {\n",
              "      background-color: #434B5C;\n",
              "      box-shadow: 0px 1px 3px 1px rgba(0, 0, 0, 0.15);\n",
              "      filter: drop-shadow(0px 1px 2px rgba(0, 0, 0, 0.3));\n",
              "      fill: #FFFFFF;\n",
              "    }\n",
              "  </style>\n",
              "\n",
              "      <script>\n",
              "        const buttonEl =\n",
              "          document.querySelector('#df-f6bf5c77-74ec-4f0b-897f-866283eb54b6 button.colab-df-convert');\n",
              "        buttonEl.style.display =\n",
              "          google.colab.kernel.accessAllowed ? 'block' : 'none';\n",
              "\n",
              "        async function convertToInteractive(key) {\n",
              "          const element = document.querySelector('#df-f6bf5c77-74ec-4f0b-897f-866283eb54b6');\n",
              "          const dataTable =\n",
              "            await google.colab.kernel.invokeFunction('convertToInteractive',\n",
              "                                                     [key], {});\n",
              "          if (!dataTable) return;\n",
              "\n",
              "          const docLinkHtml = 'Like what you see? Visit the ' +\n",
              "            '<a target=\"_blank\" href=https://colab.research.google.com/notebooks/data_table.ipynb>data table notebook</a>'\n",
              "            + ' to learn more about interactive tables.';\n",
              "          element.innerHTML = '';\n",
              "          dataTable['output_type'] = 'display_data';\n",
              "          await google.colab.output.renderOutput(dataTable, element);\n",
              "          const docLink = document.createElement('div');\n",
              "          docLink.innerHTML = docLinkHtml;\n",
              "          element.appendChild(docLink);\n",
              "        }\n",
              "      </script>\n",
              "    </div>\n",
              "  </div>\n",
              "  "
            ]
          },
          "metadata": {},
          "execution_count": 97
        }
      ]
    },
    {
      "cell_type": "markdown",
      "source": [
        "# Approche Turtle, sortie nb jours fixe"
      ],
      "metadata": {
        "id": "dtutNkmFhwi-"
      }
    },
    {
      "cell_type": "code",
      "source": [
        "''' Isolement sous forme de série du lendemain de l'index détecté pour l'entrée.\n",
        "Ici dans un range de +10j.\n",
        "On en extrait la date, la variation min & max sur la période (sans préciser quand ils ont été atteints)'''\n",
        "serie_10j = df_IT[\"Close\"].iloc[120:130]\n",
        "print(\"entrée à : {}, le {}\".format(serie_10j[120], df_IT[\"Date\"].iloc[120].strftime(\"%d/%m/%Y\")) )\n",
        "print(\"max : {}, soit Perf de {:.2f}%\".format(serie_10j.max(), ((serie_10j.max()-serie_10j[120])/serie_10j[120])*100 ) )\n",
        "print(\"max : \", serie_10j.min())"
      ],
      "metadata": {
        "colab": {
          "base_uri": "https://localhost:8080/"
        },
        "id": "m08bZdokjpiL",
        "outputId": "196c18fb-0518-48ac-b258-52739d493479"
      },
      "execution_count": 32,
      "outputs": [
        {
          "output_type": "stream",
          "name": "stdout",
          "text": [
            "entrée à : 1311.4, le 25/06/1998\n",
            "max : 1383.22, soit Perf de 5.48%\n",
            "max :  1311.4\n"
          ]
        }
      ]
    }
  ]
}