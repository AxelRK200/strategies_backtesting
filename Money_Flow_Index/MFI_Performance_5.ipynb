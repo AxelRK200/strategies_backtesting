{
  "cells": [
    {
      "cell_type": "code",
      "source": [
        "!pip install ta\n",
        "!pip install pandas-ta\n",
        "!pip install investpy\n",
        "!pip install yfinance"
      ],
      "metadata": {
        "id": "Fs2UUbM44p67"
      },
      "execution_count": null,
      "outputs": []
    },
    {
      "cell_type": "code",
      "execution_count": 4,
      "metadata": {
        "id": "aPygge89zBkM"
      },
      "outputs": [],
      "source": [
        "import pandas as pd\n",
        "import numpy as np\n",
        "import investpy\n",
        "import yfinance as yf\n",
        "import seaborn as sns\n",
        "from copy import copy\n",
        "import matplotlib.pyplot as plt\n",
        "import statistics as stats\n",
        "import math\n",
        "from ta.volume import MFIIndicator"
      ]
    },
    {
      "cell_type": "markdown",
      "metadata": {
        "id": "soOf4T0Y4VXh"
      },
      "source": [
        "# Import données #"
      ]
    },
    {
      "cell_type": "markdown",
      "source": [
        "## Avec Investpy ##"
      ],
      "metadata": {
        "id": "LEy4_cT0rEjq"
      }
    },
    {
      "cell_type": "code",
      "execution_count": 23,
      "metadata": {
        "colab": {
          "base_uri": "https://localhost:8080/"
        },
        "id": "KK-PjC6L4HpX",
        "outputId": "898ef872-66cf-4000-c600-f91580564acc"
      },
      "outputs": [
        {
          "output_type": "execute_result",
          "data": {
            "text/plain": [
              "Date      0\n",
              "Open      0\n",
              "High      0\n",
              "Low       0\n",
              "Close     0\n",
              "Volume    0\n",
              "dtype: int64"
            ]
          },
          "metadata": {},
          "execution_count": 23
        }
      ],
      "source": [
        "df_source = investpy.get_etf_historical_data(etf='Lyxor UCITS NASDAQ-100 Daily Leverage',\n",
        "                                            country='France',\n",
        "                                            from_date='01/10/2006',\n",
        "                                            to_date='13/06/2022')\n",
        "\n",
        "df_source.drop(columns=['Currency','Exchange'], inplace=True)\n",
        "df_source.reset_index(inplace=True)\n",
        "df_source.isnull().sum()"
      ]
    },
    {
      "cell_type": "code",
      "source": [
        "df_source.head(1)"
      ],
      "metadata": {
        "colab": {
          "base_uri": "https://localhost:8080/",
          "height": 80
        },
        "id": "4eIoq0fNTZv6",
        "outputId": "517803d4-f482-4992-b2f5-e7c74c1e59f6"
      },
      "execution_count": 24,
      "outputs": [
        {
          "output_type": "execute_result",
          "data": {
            "text/plain": [
              "        Date   Open   High    Low  Close  Volume\n",
              "0 2006-10-02  17.63  17.63  17.44  17.44     590"
            ],
            "text/html": [
              "\n",
              "  <div id=\"df-97171457-2ba9-49ee-9e12-d3c00d7a1d9a\">\n",
              "    <div class=\"colab-df-container\">\n",
              "      <div>\n",
              "<style scoped>\n",
              "    .dataframe tbody tr th:only-of-type {\n",
              "        vertical-align: middle;\n",
              "    }\n",
              "\n",
              "    .dataframe tbody tr th {\n",
              "        vertical-align: top;\n",
              "    }\n",
              "\n",
              "    .dataframe thead th {\n",
              "        text-align: right;\n",
              "    }\n",
              "</style>\n",
              "<table border=\"1\" class=\"dataframe\">\n",
              "  <thead>\n",
              "    <tr style=\"text-align: right;\">\n",
              "      <th></th>\n",
              "      <th>Date</th>\n",
              "      <th>Open</th>\n",
              "      <th>High</th>\n",
              "      <th>Low</th>\n",
              "      <th>Close</th>\n",
              "      <th>Volume</th>\n",
              "    </tr>\n",
              "  </thead>\n",
              "  <tbody>\n",
              "    <tr>\n",
              "      <th>0</th>\n",
              "      <td>2006-10-02</td>\n",
              "      <td>17.63</td>\n",
              "      <td>17.63</td>\n",
              "      <td>17.44</td>\n",
              "      <td>17.44</td>\n",
              "      <td>590</td>\n",
              "    </tr>\n",
              "  </tbody>\n",
              "</table>\n",
              "</div>\n",
              "      <button class=\"colab-df-convert\" onclick=\"convertToInteractive('df-97171457-2ba9-49ee-9e12-d3c00d7a1d9a')\"\n",
              "              title=\"Convert this dataframe to an interactive table.\"\n",
              "              style=\"display:none;\">\n",
              "        \n",
              "  <svg xmlns=\"http://www.w3.org/2000/svg\" height=\"24px\"viewBox=\"0 0 24 24\"\n",
              "       width=\"24px\">\n",
              "    <path d=\"M0 0h24v24H0V0z\" fill=\"none\"/>\n",
              "    <path d=\"M18.56 5.44l.94 2.06.94-2.06 2.06-.94-2.06-.94-.94-2.06-.94 2.06-2.06.94zm-11 1L8.5 8.5l.94-2.06 2.06-.94-2.06-.94L8.5 2.5l-.94 2.06-2.06.94zm10 10l.94 2.06.94-2.06 2.06-.94-2.06-.94-.94-2.06-.94 2.06-2.06.94z\"/><path d=\"M17.41 7.96l-1.37-1.37c-.4-.4-.92-.59-1.43-.59-.52 0-1.04.2-1.43.59L10.3 9.45l-7.72 7.72c-.78.78-.78 2.05 0 2.83L4 21.41c.39.39.9.59 1.41.59.51 0 1.02-.2 1.41-.59l7.78-7.78 2.81-2.81c.8-.78.8-2.07 0-2.86zM5.41 20L4 18.59l7.72-7.72 1.47 1.35L5.41 20z\"/>\n",
              "  </svg>\n",
              "      </button>\n",
              "      \n",
              "  <style>\n",
              "    .colab-df-container {\n",
              "      display:flex;\n",
              "      flex-wrap:wrap;\n",
              "      gap: 12px;\n",
              "    }\n",
              "\n",
              "    .colab-df-convert {\n",
              "      background-color: #E8F0FE;\n",
              "      border: none;\n",
              "      border-radius: 50%;\n",
              "      cursor: pointer;\n",
              "      display: none;\n",
              "      fill: #1967D2;\n",
              "      height: 32px;\n",
              "      padding: 0 0 0 0;\n",
              "      width: 32px;\n",
              "    }\n",
              "\n",
              "    .colab-df-convert:hover {\n",
              "      background-color: #E2EBFA;\n",
              "      box-shadow: 0px 1px 2px rgba(60, 64, 67, 0.3), 0px 1px 3px 1px rgba(60, 64, 67, 0.15);\n",
              "      fill: #174EA6;\n",
              "    }\n",
              "\n",
              "    [theme=dark] .colab-df-convert {\n",
              "      background-color: #3B4455;\n",
              "      fill: #D2E3FC;\n",
              "    }\n",
              "\n",
              "    [theme=dark] .colab-df-convert:hover {\n",
              "      background-color: #434B5C;\n",
              "      box-shadow: 0px 1px 3px 1px rgba(0, 0, 0, 0.15);\n",
              "      filter: drop-shadow(0px 1px 2px rgba(0, 0, 0, 0.3));\n",
              "      fill: #FFFFFF;\n",
              "    }\n",
              "  </style>\n",
              "\n",
              "      <script>\n",
              "        const buttonEl =\n",
              "          document.querySelector('#df-97171457-2ba9-49ee-9e12-d3c00d7a1d9a button.colab-df-convert');\n",
              "        buttonEl.style.display =\n",
              "          google.colab.kernel.accessAllowed ? 'block' : 'none';\n",
              "\n",
              "        async function convertToInteractive(key) {\n",
              "          const element = document.querySelector('#df-97171457-2ba9-49ee-9e12-d3c00d7a1d9a');\n",
              "          const dataTable =\n",
              "            await google.colab.kernel.invokeFunction('convertToInteractive',\n",
              "                                                     [key], {});\n",
              "          if (!dataTable) return;\n",
              "\n",
              "          const docLinkHtml = 'Like what you see? Visit the ' +\n",
              "            '<a target=\"_blank\" href=https://colab.research.google.com/notebooks/data_table.ipynb>data table notebook</a>'\n",
              "            + ' to learn more about interactive tables.';\n",
              "          element.innerHTML = '';\n",
              "          dataTable['output_type'] = 'display_data';\n",
              "          await google.colab.output.renderOutput(dataTable, element);\n",
              "          const docLink = document.createElement('div');\n",
              "          docLink.innerHTML = docLinkHtml;\n",
              "          element.appendChild(docLink);\n",
              "        }\n",
              "      </script>\n",
              "    </div>\n",
              "  </div>\n",
              "  "
            ]
          },
          "metadata": {},
          "execution_count": 24
        }
      ]
    },
    {
      "cell_type": "code",
      "source": [
        "df_source.tail(1)"
      ],
      "metadata": {
        "colab": {
          "base_uri": "https://localhost:8080/",
          "height": 80
        },
        "id": "cBKPyv8su1Li",
        "outputId": "b2d8cde0-a93a-48d7-df0e-409d3f0f0fea"
      },
      "execution_count": 25,
      "outputs": [
        {
          "output_type": "execute_result",
          "data": {
            "text/plain": [
              "           Date    Open    High     Low   Close  Volume\n",
              "4002 2022-06-13  486.15  486.55  463.25  469.25   11944"
            ],
            "text/html": [
              "\n",
              "  <div id=\"df-35a50fbf-b3d3-46ea-91d6-43c49ae55e28\">\n",
              "    <div class=\"colab-df-container\">\n",
              "      <div>\n",
              "<style scoped>\n",
              "    .dataframe tbody tr th:only-of-type {\n",
              "        vertical-align: middle;\n",
              "    }\n",
              "\n",
              "    .dataframe tbody tr th {\n",
              "        vertical-align: top;\n",
              "    }\n",
              "\n",
              "    .dataframe thead th {\n",
              "        text-align: right;\n",
              "    }\n",
              "</style>\n",
              "<table border=\"1\" class=\"dataframe\">\n",
              "  <thead>\n",
              "    <tr style=\"text-align: right;\">\n",
              "      <th></th>\n",
              "      <th>Date</th>\n",
              "      <th>Open</th>\n",
              "      <th>High</th>\n",
              "      <th>Low</th>\n",
              "      <th>Close</th>\n",
              "      <th>Volume</th>\n",
              "    </tr>\n",
              "  </thead>\n",
              "  <tbody>\n",
              "    <tr>\n",
              "      <th>4002</th>\n",
              "      <td>2022-06-13</td>\n",
              "      <td>486.15</td>\n",
              "      <td>486.55</td>\n",
              "      <td>463.25</td>\n",
              "      <td>469.25</td>\n",
              "      <td>11944</td>\n",
              "    </tr>\n",
              "  </tbody>\n",
              "</table>\n",
              "</div>\n",
              "      <button class=\"colab-df-convert\" onclick=\"convertToInteractive('df-35a50fbf-b3d3-46ea-91d6-43c49ae55e28')\"\n",
              "              title=\"Convert this dataframe to an interactive table.\"\n",
              "              style=\"display:none;\">\n",
              "        \n",
              "  <svg xmlns=\"http://www.w3.org/2000/svg\" height=\"24px\"viewBox=\"0 0 24 24\"\n",
              "       width=\"24px\">\n",
              "    <path d=\"M0 0h24v24H0V0z\" fill=\"none\"/>\n",
              "    <path d=\"M18.56 5.44l.94 2.06.94-2.06 2.06-.94-2.06-.94-.94-2.06-.94 2.06-2.06.94zm-11 1L8.5 8.5l.94-2.06 2.06-.94-2.06-.94L8.5 2.5l-.94 2.06-2.06.94zm10 10l.94 2.06.94-2.06 2.06-.94-2.06-.94-.94-2.06-.94 2.06-2.06.94z\"/><path d=\"M17.41 7.96l-1.37-1.37c-.4-.4-.92-.59-1.43-.59-.52 0-1.04.2-1.43.59L10.3 9.45l-7.72 7.72c-.78.78-.78 2.05 0 2.83L4 21.41c.39.39.9.59 1.41.59.51 0 1.02-.2 1.41-.59l7.78-7.78 2.81-2.81c.8-.78.8-2.07 0-2.86zM5.41 20L4 18.59l7.72-7.72 1.47 1.35L5.41 20z\"/>\n",
              "  </svg>\n",
              "      </button>\n",
              "      \n",
              "  <style>\n",
              "    .colab-df-container {\n",
              "      display:flex;\n",
              "      flex-wrap:wrap;\n",
              "      gap: 12px;\n",
              "    }\n",
              "\n",
              "    .colab-df-convert {\n",
              "      background-color: #E8F0FE;\n",
              "      border: none;\n",
              "      border-radius: 50%;\n",
              "      cursor: pointer;\n",
              "      display: none;\n",
              "      fill: #1967D2;\n",
              "      height: 32px;\n",
              "      padding: 0 0 0 0;\n",
              "      width: 32px;\n",
              "    }\n",
              "\n",
              "    .colab-df-convert:hover {\n",
              "      background-color: #E2EBFA;\n",
              "      box-shadow: 0px 1px 2px rgba(60, 64, 67, 0.3), 0px 1px 3px 1px rgba(60, 64, 67, 0.15);\n",
              "      fill: #174EA6;\n",
              "    }\n",
              "\n",
              "    [theme=dark] .colab-df-convert {\n",
              "      background-color: #3B4455;\n",
              "      fill: #D2E3FC;\n",
              "    }\n",
              "\n",
              "    [theme=dark] .colab-df-convert:hover {\n",
              "      background-color: #434B5C;\n",
              "      box-shadow: 0px 1px 3px 1px rgba(0, 0, 0, 0.15);\n",
              "      filter: drop-shadow(0px 1px 2px rgba(0, 0, 0, 0.3));\n",
              "      fill: #FFFFFF;\n",
              "    }\n",
              "  </style>\n",
              "\n",
              "      <script>\n",
              "        const buttonEl =\n",
              "          document.querySelector('#df-35a50fbf-b3d3-46ea-91d6-43c49ae55e28 button.colab-df-convert');\n",
              "        buttonEl.style.display =\n",
              "          google.colab.kernel.accessAllowed ? 'block' : 'none';\n",
              "\n",
              "        async function convertToInteractive(key) {\n",
              "          const element = document.querySelector('#df-35a50fbf-b3d3-46ea-91d6-43c49ae55e28');\n",
              "          const dataTable =\n",
              "            await google.colab.kernel.invokeFunction('convertToInteractive',\n",
              "                                                     [key], {});\n",
              "          if (!dataTable) return;\n",
              "\n",
              "          const docLinkHtml = 'Like what you see? Visit the ' +\n",
              "            '<a target=\"_blank\" href=https://colab.research.google.com/notebooks/data_table.ipynb>data table notebook</a>'\n",
              "            + ' to learn more about interactive tables.';\n",
              "          element.innerHTML = '';\n",
              "          dataTable['output_type'] = 'display_data';\n",
              "          await google.colab.output.renderOutput(dataTable, element);\n",
              "          const docLink = document.createElement('div');\n",
              "          docLink.innerHTML = docLinkHtml;\n",
              "          element.appendChild(docLink);\n",
              "        }\n",
              "      </script>\n",
              "    </div>\n",
              "  </div>\n",
              "  "
            ]
          },
          "metadata": {},
          "execution_count": 25
        }
      ]
    },
    {
      "cell_type": "markdown",
      "source": [
        "## Avec yfinance ##"
      ],
      "metadata": {
        "id": "JxbVqu63rIsP"
      }
    },
    {
      "cell_type": "code",
      "source": [
        "ndx = yf.Ticker(\"^NDX\")\n",
        "\n",
        "df_source = ndx.history(interval=\"1d\", start=\"2006-10-01\", end=\"2022-06-13\")\n",
        "\n",
        "df_source.drop(columns=[\"Dividends\",\"Stock Splits\"], inplace=True)\n",
        "df_source.reset_index(inplace=True)"
      ],
      "metadata": {
        "colab": {
          "base_uri": "https://localhost:8080/",
          "height": 164
        },
        "id": "muBGS7UgrLb-",
        "outputId": "1bb2045f-0eff-4eb1-8ec9-b43d9cd77579"
      },
      "execution_count": 2,
      "outputs": [
        {
          "output_type": "error",
          "ename": "NameError",
          "evalue": "ignored",
          "traceback": [
            "\u001b[0;31m---------------------------------------------------------------------------\u001b[0m",
            "\u001b[0;31mNameError\u001b[0m                                 Traceback (most recent call last)",
            "\u001b[0;32m<ipython-input-2-1c1bf6d8d181>\u001b[0m in \u001b[0;36m<module>\u001b[0;34m()\u001b[0m\n\u001b[0;32m----> 1\u001b[0;31m \u001b[0mndx\u001b[0m \u001b[0;34m=\u001b[0m \u001b[0myf\u001b[0m\u001b[0;34m.\u001b[0m\u001b[0mTicker\u001b[0m\u001b[0;34m(\u001b[0m\u001b[0;34m\"^NDX\"\u001b[0m\u001b[0;34m)\u001b[0m\u001b[0;34m\u001b[0m\u001b[0;34m\u001b[0m\u001b[0m\n\u001b[0m",
            "\u001b[0;31mNameError\u001b[0m: name 'yf' is not defined"
          ]
        }
      ]
    },
    {
      "cell_type": "code",
      "source": [
        "df_source.isnull().sum()"
      ],
      "metadata": {
        "id": "osRy00CUs8-U"
      },
      "execution_count": null,
      "outputs": []
    },
    {
      "cell_type": "code",
      "source": [
        "df_source.describe()"
      ],
      "metadata": {
        "id": "n10UPvUetNRh"
      },
      "execution_count": null,
      "outputs": []
    },
    {
      "cell_type": "markdown",
      "source": [
        "## Ajout indicateurs techniques ##"
      ],
      "metadata": {
        "id": "yk8MRg4N5edh"
      }
    },
    {
      "cell_type": "code",
      "source": [
        "df = df_source.copy()"
      ],
      "metadata": {
        "id": "l1MNkSi_wri2"
      },
      "execution_count": 26,
      "outputs": []
    },
    {
      "cell_type": "code",
      "source": [
        "for i in range(5,51):\n",
        "  s_mfi = MFIIndicator(high=df_source.High, low=df_source.Low, close=df_source.Close, volume=df_source.Volume, window=i).money_flow_index()\n",
        "  df['MFI_'+str(i)] = round(s_mfi, 2)\n",
        "  p_max = i"
      ],
      "metadata": {
        "id": "KpFLEG0v5h39"
      },
      "execution_count": 27,
      "outputs": []
    },
    {
      "cell_type": "code",
      "source": [
        "# Démarrage lorsque tous les MFI sont renseignés\n",
        "df = df.loc[(p_max-1):]\n",
        "df.reset_index(drop=True, inplace=True)"
      ],
      "metadata": {
        "id": "7HV7xg9X5hup"
      },
      "execution_count": 28,
      "outputs": []
    },
    {
      "cell_type": "code",
      "source": [
        "df.head(1)"
      ],
      "metadata": {
        "colab": {
          "base_uri": "https://localhost:8080/",
          "height": 190
        },
        "id": "7q3mmlq35hkc",
        "outputId": "0c272a59-39b3-4571-945b-27646742f92f"
      },
      "execution_count": 29,
      "outputs": [
        {
          "output_type": "execute_result",
          "data": {
            "text/plain": [
              "        Date   Open   High    Low  Close  Volume  MFI_5  MFI_6  MFI_7  MFI_8  \\\n",
              "0 2006-12-08  18.81  19.27  18.81  19.27     850  29.69  25.11  20.03   40.0   \n",
              "\n",
              "   ...  MFI_41  MFI_42  MFI_43  MFI_44  MFI_45  MFI_46  MFI_47  MFI_48  \\\n",
              "0  ...   58.55    60.0   59.23   59.79   60.67    61.3   61.77   61.77   \n",
              "\n",
              "   MFI_49  MFI_50  \n",
              "0   61.73   61.73  \n",
              "\n",
              "[1 rows x 52 columns]"
            ],
            "text/html": [
              "\n",
              "  <div id=\"df-db4f8a2d-4604-47af-b4b8-1c95f971b359\">\n",
              "    <div class=\"colab-df-container\">\n",
              "      <div>\n",
              "<style scoped>\n",
              "    .dataframe tbody tr th:only-of-type {\n",
              "        vertical-align: middle;\n",
              "    }\n",
              "\n",
              "    .dataframe tbody tr th {\n",
              "        vertical-align: top;\n",
              "    }\n",
              "\n",
              "    .dataframe thead th {\n",
              "        text-align: right;\n",
              "    }\n",
              "</style>\n",
              "<table border=\"1\" class=\"dataframe\">\n",
              "  <thead>\n",
              "    <tr style=\"text-align: right;\">\n",
              "      <th></th>\n",
              "      <th>Date</th>\n",
              "      <th>Open</th>\n",
              "      <th>High</th>\n",
              "      <th>Low</th>\n",
              "      <th>Close</th>\n",
              "      <th>Volume</th>\n",
              "      <th>MFI_5</th>\n",
              "      <th>MFI_6</th>\n",
              "      <th>MFI_7</th>\n",
              "      <th>MFI_8</th>\n",
              "      <th>...</th>\n",
              "      <th>MFI_41</th>\n",
              "      <th>MFI_42</th>\n",
              "      <th>MFI_43</th>\n",
              "      <th>MFI_44</th>\n",
              "      <th>MFI_45</th>\n",
              "      <th>MFI_46</th>\n",
              "      <th>MFI_47</th>\n",
              "      <th>MFI_48</th>\n",
              "      <th>MFI_49</th>\n",
              "      <th>MFI_50</th>\n",
              "    </tr>\n",
              "  </thead>\n",
              "  <tbody>\n",
              "    <tr>\n",
              "      <th>0</th>\n",
              "      <td>2006-12-08</td>\n",
              "      <td>18.81</td>\n",
              "      <td>19.27</td>\n",
              "      <td>18.81</td>\n",
              "      <td>19.27</td>\n",
              "      <td>850</td>\n",
              "      <td>29.69</td>\n",
              "      <td>25.11</td>\n",
              "      <td>20.03</td>\n",
              "      <td>40.0</td>\n",
              "      <td>...</td>\n",
              "      <td>58.55</td>\n",
              "      <td>60.0</td>\n",
              "      <td>59.23</td>\n",
              "      <td>59.79</td>\n",
              "      <td>60.67</td>\n",
              "      <td>61.3</td>\n",
              "      <td>61.77</td>\n",
              "      <td>61.77</td>\n",
              "      <td>61.73</td>\n",
              "      <td>61.73</td>\n",
              "    </tr>\n",
              "  </tbody>\n",
              "</table>\n",
              "<p>1 rows × 52 columns</p>\n",
              "</div>\n",
              "      <button class=\"colab-df-convert\" onclick=\"convertToInteractive('df-db4f8a2d-4604-47af-b4b8-1c95f971b359')\"\n",
              "              title=\"Convert this dataframe to an interactive table.\"\n",
              "              style=\"display:none;\">\n",
              "        \n",
              "  <svg xmlns=\"http://www.w3.org/2000/svg\" height=\"24px\"viewBox=\"0 0 24 24\"\n",
              "       width=\"24px\">\n",
              "    <path d=\"M0 0h24v24H0V0z\" fill=\"none\"/>\n",
              "    <path d=\"M18.56 5.44l.94 2.06.94-2.06 2.06-.94-2.06-.94-.94-2.06-.94 2.06-2.06.94zm-11 1L8.5 8.5l.94-2.06 2.06-.94-2.06-.94L8.5 2.5l-.94 2.06-2.06.94zm10 10l.94 2.06.94-2.06 2.06-.94-2.06-.94-.94-2.06-.94 2.06-2.06.94z\"/><path d=\"M17.41 7.96l-1.37-1.37c-.4-.4-.92-.59-1.43-.59-.52 0-1.04.2-1.43.59L10.3 9.45l-7.72 7.72c-.78.78-.78 2.05 0 2.83L4 21.41c.39.39.9.59 1.41.59.51 0 1.02-.2 1.41-.59l7.78-7.78 2.81-2.81c.8-.78.8-2.07 0-2.86zM5.41 20L4 18.59l7.72-7.72 1.47 1.35L5.41 20z\"/>\n",
              "  </svg>\n",
              "      </button>\n",
              "      \n",
              "  <style>\n",
              "    .colab-df-container {\n",
              "      display:flex;\n",
              "      flex-wrap:wrap;\n",
              "      gap: 12px;\n",
              "    }\n",
              "\n",
              "    .colab-df-convert {\n",
              "      background-color: #E8F0FE;\n",
              "      border: none;\n",
              "      border-radius: 50%;\n",
              "      cursor: pointer;\n",
              "      display: none;\n",
              "      fill: #1967D2;\n",
              "      height: 32px;\n",
              "      padding: 0 0 0 0;\n",
              "      width: 32px;\n",
              "    }\n",
              "\n",
              "    .colab-df-convert:hover {\n",
              "      background-color: #E2EBFA;\n",
              "      box-shadow: 0px 1px 2px rgba(60, 64, 67, 0.3), 0px 1px 3px 1px rgba(60, 64, 67, 0.15);\n",
              "      fill: #174EA6;\n",
              "    }\n",
              "\n",
              "    [theme=dark] .colab-df-convert {\n",
              "      background-color: #3B4455;\n",
              "      fill: #D2E3FC;\n",
              "    }\n",
              "\n",
              "    [theme=dark] .colab-df-convert:hover {\n",
              "      background-color: #434B5C;\n",
              "      box-shadow: 0px 1px 3px 1px rgba(0, 0, 0, 0.15);\n",
              "      filter: drop-shadow(0px 1px 2px rgba(0, 0, 0, 0.3));\n",
              "      fill: #FFFFFF;\n",
              "    }\n",
              "  </style>\n",
              "\n",
              "      <script>\n",
              "        const buttonEl =\n",
              "          document.querySelector('#df-db4f8a2d-4604-47af-b4b8-1c95f971b359 button.colab-df-convert');\n",
              "        buttonEl.style.display =\n",
              "          google.colab.kernel.accessAllowed ? 'block' : 'none';\n",
              "\n",
              "        async function convertToInteractive(key) {\n",
              "          const element = document.querySelector('#df-db4f8a2d-4604-47af-b4b8-1c95f971b359');\n",
              "          const dataTable =\n",
              "            await google.colab.kernel.invokeFunction('convertToInteractive',\n",
              "                                                     [key], {});\n",
              "          if (!dataTable) return;\n",
              "\n",
              "          const docLinkHtml = 'Like what you see? Visit the ' +\n",
              "            '<a target=\"_blank\" href=https://colab.research.google.com/notebooks/data_table.ipynb>data table notebook</a>'\n",
              "            + ' to learn more about interactive tables.';\n",
              "          element.innerHTML = '';\n",
              "          dataTable['output_type'] = 'display_data';\n",
              "          await google.colab.output.renderOutput(dataTable, element);\n",
              "          const docLink = document.createElement('div');\n",
              "          docLink.innerHTML = docLinkHtml;\n",
              "          element.appendChild(docLink);\n",
              "        }\n",
              "      </script>\n",
              "    </div>\n",
              "  </div>\n",
              "  "
            ]
          },
          "metadata": {},
          "execution_count": 29
        }
      ]
    },
    {
      "cell_type": "code",
      "source": [
        "df.shape"
      ],
      "metadata": {
        "colab": {
          "base_uri": "https://localhost:8080/"
        },
        "id": "CSfXsPDl6LZe",
        "outputId": "4288a1b5-24e4-495a-abcb-663fe415226c"
      },
      "execution_count": 30,
      "outputs": [
        {
          "output_type": "execute_result",
          "data": {
            "text/plain": [
              "(3954, 52)"
            ]
          },
          "metadata": {},
          "execution_count": 30
        }
      ]
    },
    {
      "cell_type": "code",
      "source": [
        "df.isnull().sum()"
      ],
      "metadata": {
        "colab": {
          "base_uri": "https://localhost:8080/"
        },
        "id": "g32t4jVc6PmT",
        "outputId": "bf1b4fe2-d028-49dd-89bc-c81c5734d745"
      },
      "execution_count": 31,
      "outputs": [
        {
          "output_type": "execute_result",
          "data": {
            "text/plain": [
              "Date      0\n",
              "Open      0\n",
              "High      0\n",
              "Low       0\n",
              "Close     0\n",
              "Volume    0\n",
              "MFI_5     0\n",
              "MFI_6     0\n",
              "MFI_7     0\n",
              "MFI_8     0\n",
              "MFI_9     0\n",
              "MFI_10    0\n",
              "MFI_11    0\n",
              "MFI_12    0\n",
              "MFI_13    0\n",
              "MFI_14    0\n",
              "MFI_15    0\n",
              "MFI_16    0\n",
              "MFI_17    0\n",
              "MFI_18    0\n",
              "MFI_19    0\n",
              "MFI_20    0\n",
              "MFI_21    0\n",
              "MFI_22    0\n",
              "MFI_23    0\n",
              "MFI_24    0\n",
              "MFI_25    0\n",
              "MFI_26    0\n",
              "MFI_27    0\n",
              "MFI_28    0\n",
              "MFI_29    0\n",
              "MFI_30    0\n",
              "MFI_31    0\n",
              "MFI_32    0\n",
              "MFI_33    0\n",
              "MFI_34    0\n",
              "MFI_35    0\n",
              "MFI_36    0\n",
              "MFI_37    0\n",
              "MFI_38    0\n",
              "MFI_39    0\n",
              "MFI_40    0\n",
              "MFI_41    0\n",
              "MFI_42    0\n",
              "MFI_43    0\n",
              "MFI_44    0\n",
              "MFI_45    0\n",
              "MFI_46    0\n",
              "MFI_47    0\n",
              "MFI_48    0\n",
              "MFI_49    0\n",
              "MFI_50    0\n",
              "dtype: int64"
            ]
          },
          "metadata": {},
          "execution_count": 31
        }
      ]
    },
    {
      "cell_type": "code",
      "source": [
        "# Si besoin de filtrer sur une période plutôt que all time\n",
        "'''\n",
        "df = df_source.loc[(df_source['Date']>='2017-01-01')]\n",
        "df.reset_index(drop=True, inplace=True)\n",
        "df.head()\n",
        "'''"
      ],
      "metadata": {
        "id": "CJ9ksHkKuxvV",
        "colab": {
          "base_uri": "https://localhost:8080/",
          "height": 37
        },
        "outputId": "9758697e-3650-4de8-f05d-1649c497bb6c"
      },
      "execution_count": 32,
      "outputs": [
        {
          "output_type": "execute_result",
          "data": {
            "text/plain": [
              "\"\\ndf = df_source.loc[(df_source['Date']>='2017-01-01')]\\ndf.reset_index(drop=True, inplace=True)\\ndf.head()\\n\""
            ],
            "application/vnd.google.colaboratory.intrinsic+json": {
              "type": "string"
            }
          },
          "metadata": {},
          "execution_count": 32
        }
      ]
    },
    {
      "cell_type": "markdown",
      "source": [
        "# Début programme #"
      ],
      "metadata": {
        "id": "JokCKD2St-Cu"
      }
    },
    {
      "cell_type": "markdown",
      "source": [
        "## Fonctions ##"
      ],
      "metadata": {
        "id": "kk5rNEWz5ESF"
      }
    },
    {
      "cell_type": "code",
      "execution_count": 33,
      "metadata": {
        "id": "K4AtMsexzBkT"
      },
      "outputs": [],
      "source": [
        "def performance (me, entreeF, sortieV, df_extrait, col):\n",
        "    '''Fonction de calcul de la performance \n",
        "    avec un seuil d'entrée fixe, et sortie variable'''\n",
        "\n",
        "    # Définition des entrées sorties\n",
        "    e = entreeF\n",
        "    s = me + sortieV\n",
        "\n",
        "    # Ajout de la colonne mfi_lag\n",
        "    shift = df_extrait[col].shift(1)\n",
        "    shift[0]=shift[1]\n",
        "    df_extrait['mfi_lag']=shift\n",
        "\n",
        "    # Filtre dans l'historique des points de sorties variables\n",
        "    # Entrées et sorties à l'ouverture J+1\n",
        "    entries_indexes = df_extrait.index[ (df_extrait[col]>=e) & (df_extrait['mfi_lag']<(e-0.01)) ].to_list()\n",
        "    entries_indexes = [x+1 for x in entries_indexes]\n",
        "    # Attention au dépassement d'index, vérifier si denrnière entrée est bien < à la dernière date enregistrée\n",
        "    if (len(entries_indexes)>0) and (entries_indexes[-1] >= df_extrait.shape[0]):\n",
        "      entries_indexes.pop(-1)\n",
        "    df_entries = df_extrait.loc[entries_indexes, :]\n",
        "    df_entries['move']='achat'\n",
        "    # Idem pour les sorties\n",
        "    exits_indexes = df_extrait.index[ (df_extrait[col]<=s) & (df_extrait['mfi_lag']>(s+0.01)) ].to_list()\n",
        "    exits_indexes = [y+1 for y in exits_indexes]\n",
        "    if (len(exits_indexes)>0) and (exits_indexes[-1] >= df_extrait.shape[0]):\n",
        "      exits_indexes.pop(-1)\n",
        "    df_exits = df_extrait.loc[exits_indexes, :]\n",
        "    df_exits['move']='vente'\n",
        "\n",
        "    # Concatenation des achats/ventes et tri par ordre chronologique\n",
        "    df_perf = pd.concat([df_entries,df_exits])\n",
        "    df_perf.sort_values(by='Date',inplace=True)\n",
        "    df_perf.reset_index(drop=True, inplace=True)\n",
        "\n",
        "    # Suppression des entrées-sorties doubles (type achat-achat-vente, ou achat-vente-vente)\n",
        "    doubles = []\n",
        "    for i in range (1,df_perf.shape[0]):\n",
        "        if df_perf['move'][i] == df_perf['move'][i-1]:\n",
        "            doubles.append(i)\n",
        "        else:\n",
        "            continue\n",
        "    df_perf_clean = df_perf.drop(index=doubles)\n",
        "    df_perf_clean.reset_index(drop=True, inplace=True)\n",
        "\n",
        "    # Suppression de la 1ere ligne si vente, mais après nettoyage des doublons\n",
        "    if df_perf_clean.empty != True: \n",
        "        if df_perf_clean.iloc[0,4] == 'vente':\n",
        "            df_perf_clean = df_perf_clean.drop(index=0)\n",
        "            df_perf_clean.reset_index(drop=True, inplace=True)\n",
        "\n",
        "    # Si dernière ligne est achat non soldé -> insérer la dernière ligne en vente\n",
        "    # Obtenir toute la dernière ligne du dataframe origienl, puis concat au df_perf_clean = vente au jour J\n",
        "    if df_perf_clean.empty != True: \n",
        "        if df_perf_clean.iloc[-1,4] == 'achat':\n",
        "            df_last_row = df_extrait.iloc[-1:].copy()\n",
        "            df_last_row['move']='vente'\n",
        "            df_perf_clean = pd.concat([df_perf_clean,df_last_row])\n",
        "            df_perf_clean.reset_index(drop=True, inplace=True)\n",
        "\n",
        "    # Calcul de la performance\n",
        "    perfE = [1000]\n",
        "    j=0\n",
        "    # S'assurer que le Dataframe a bien 1 entrée 1 sortie, et n'est pas vide (out of bounds)\n",
        "    if df_perf_clean.shape[0]>=2:\n",
        "        for i in range (1,df_perf_clean.shape[0],2):\n",
        "            '''par step 2 pour ne traiter que les lignes impaires correspondant aux lignes de vente'''\n",
        "            # Correction avec ajustement des frais de transaction\n",
        "            # Correction entrée à l'ouverture J+1\n",
        "            var = (df_perf_clean['Open'][i]-df_perf_clean['Open'][i-1])/df_perf_clean['Open'][i-1] -0.011\n",
        "            varE = perfE[j]*(1+var)\n",
        "            perfE.append(varE)\n",
        "            j+=1\n",
        "    else:\n",
        "        # Dans le cas où DF vide : on ajoute la valeur d'entrée pour surperf 0\n",
        "        perfE.append(1000)\n",
        "    '''Choix de la performance totale en %'''\n",
        "    overallP = round(((perfE[-1]-perfE[0])/perfE[0])*100,2)\n",
        "    \n",
        "    return overallP"
      ]
    },
    {
      "cell_type": "code",
      "execution_count": 34,
      "metadata": {
        "id": "1fG21NuFzBkU"
      },
      "outputs": [],
      "source": [
        "def es_variables (mediane,entreeV,sortieV,df_extrait,col):\n",
        "    ''' Fonction de calcul de la performance\n",
        "    seuils d'entrée et de sortie variables dans les plages définies en amont\n",
        "    avec equilibre à la médiane '''\n",
        "\n",
        "    matrice = []\n",
        "\n",
        "    # Définition des entrées sorties\n",
        "    for eV in entreeV:\n",
        "        eF = mediane - eV\n",
        "        ligne = [performance(mediane,eF,sV,df_extrait,col) for sV in sortieV]\n",
        "        matrice.append(ligne)\n",
        "\n",
        "    return matrice"
      ]
    },
    {
      "cell_type": "code",
      "execution_count": 35,
      "metadata": {
        "id": "OsnbyD1EzBkV"
      },
      "outputs": [],
      "source": [
        "def export_heatmap (matrice,base,pe,ps,titre):\n",
        "    colonnes = []\n",
        "    for i in ps:\n",
        "        nom = \"s=\"+str(base+i)\n",
        "        colonnes.append(nom)\n",
        "\n",
        "    ind = []\n",
        "    for i in pe:\n",
        "        nom = \"e=\"+str(base-i)\n",
        "        ind.append(nom)\n",
        "\n",
        "    df_HM = pd.DataFrame(matrice,columns=colonnes)\n",
        "    df_HM.set_index(pd.Index(ind), inplace=True)\n",
        "\n",
        "    fig, ax = plt.subplots(figsize = (30, 15))\n",
        "    sns.heatmap(df_HM, cmap ='RdYlGn', linewidths = 0.30, annot = True, fmt=\".0f\")\n",
        "    ax.set_title(titre)\n",
        "    chemin = \"/content/drive/MyDrive/Colab Notebooks/performancesMFI/NDQ2x-allTime/NDX2x_AT_\" + titre + \"_juin22_J1.png\"\n",
        "    plt.savefig(chemin)\n",
        "    # Protection memoire, sinon ouverture de 30 plots\n",
        "    plt.close(fig)"
      ]
    },
    {
      "cell_type": "markdown",
      "source": [
        "## Execution ##"
      ],
      "metadata": {
        "id": "dstVjTMU5H77"
      }
    },
    {
      "cell_type": "code",
      "source": [
        "#df = df_source\n",
        "print(\"Buy & Hold Performance = {} %\".format(round(((df['Close'].iloc[-1] - df['Close'].iloc[0])/df['Close'].iloc[0])*100,2)) )"
      ],
      "metadata": {
        "colab": {
          "base_uri": "https://localhost:8080/"
        },
        "id": "gsNSvdFQ5MrV",
        "outputId": "adc3ceb4-4c06-405d-cb4a-bc2605c6d4d2"
      },
      "execution_count": 36,
      "outputs": [
        {
          "output_type": "stream",
          "name": "stdout",
          "text": [
            "Buy & Hold Performance = 2335.13 %\n"
          ]
        }
      ]
    },
    {
      "cell_type": "code",
      "execution_count": 37,
      "metadata": {
        "colab": {
          "base_uri": "https://localhost:8080/",
          "height": 1000
        },
        "id": "7cEHvLgBzBkW",
        "outputId": "51690df5-d004-4e9b-c21d-cb9058cabf83"
      },
      "outputs": [
        {
          "output_type": "execute_result",
          "data": {
            "text/plain": [
              "       MFI  Meilleure Perf\n",
              "12  MFI_17         5244.18\n",
              "7   MFI_12         4549.42\n",
              "9   MFI_14         4505.27\n",
              "8   MFI_13         3919.50\n",
              "10  MFI_15         3877.92\n",
              "5   MFI_10         3615.11\n",
              "6   MFI_11         3564.97\n",
              "11  MFI_16         3476.94\n",
              "32  MFI_37         3062.91\n",
              "22  MFI_27         2968.24\n",
              "19  MFI_24         2909.75\n",
              "37  MFI_42         2860.11\n",
              "28  MFI_33         2855.43\n",
              "35  MFI_40         2833.03\n",
              "36  MFI_41         2833.03\n",
              "29  MFI_34         2828.21\n",
              "33  MFI_38         2802.60\n",
              "30  MFI_35         2797.38\n",
              "31  MFI_36         2792.19\n",
              "34  MFI_39         2787.14\n",
              "13  MFI_18         2769.45\n",
              "14  MFI_19         2759.20\n",
              "20  MFI_25         2757.44\n",
              "4    MFI_9         2733.08\n",
              "15  MFI_20         2684.40\n",
              "26  MFI_31         2656.01\n",
              "17  MFI_22         2638.99\n",
              "18  MFI_23         2595.90\n",
              "16  MFI_21         2551.14\n",
              "23  MFI_28         2514.16\n",
              "39  MFI_44         2508.32\n",
              "42  MFI_47         2491.17\n",
              "25  MFI_30         2485.51\n",
              "21  MFI_26         2444.39\n",
              "27  MFI_32         2419.89\n",
              "24  MFI_29         2416.92\n",
              "3    MFI_8         2337.35\n",
              "2    MFI_7         2210.05\n",
              "40  MFI_45         2110.98\n",
              "38  MFI_43         2040.69\n",
              "41  MFI_46         1727.01\n",
              "1    MFI_6         1724.03\n",
              "45  MFI_50         1683.40\n",
              "43  MFI_48         1669.37\n",
              "44  MFI_49         1490.72\n",
              "0    MFI_5          550.67"
            ],
            "text/html": [
              "\n",
              "  <div id=\"df-cc0e3b7c-cdaa-4f48-a463-6c83fd39f1cd\">\n",
              "    <div class=\"colab-df-container\">\n",
              "      <div>\n",
              "<style scoped>\n",
              "    .dataframe tbody tr th:only-of-type {\n",
              "        vertical-align: middle;\n",
              "    }\n",
              "\n",
              "    .dataframe tbody tr th {\n",
              "        vertical-align: top;\n",
              "    }\n",
              "\n",
              "    .dataframe thead th {\n",
              "        text-align: right;\n",
              "    }\n",
              "</style>\n",
              "<table border=\"1\" class=\"dataframe\">\n",
              "  <thead>\n",
              "    <tr style=\"text-align: right;\">\n",
              "      <th></th>\n",
              "      <th>MFI</th>\n",
              "      <th>Meilleure Perf</th>\n",
              "    </tr>\n",
              "  </thead>\n",
              "  <tbody>\n",
              "    <tr>\n",
              "      <th>12</th>\n",
              "      <td>MFI_17</td>\n",
              "      <td>5244.18</td>\n",
              "    </tr>\n",
              "    <tr>\n",
              "      <th>7</th>\n",
              "      <td>MFI_12</td>\n",
              "      <td>4549.42</td>\n",
              "    </tr>\n",
              "    <tr>\n",
              "      <th>9</th>\n",
              "      <td>MFI_14</td>\n",
              "      <td>4505.27</td>\n",
              "    </tr>\n",
              "    <tr>\n",
              "      <th>8</th>\n",
              "      <td>MFI_13</td>\n",
              "      <td>3919.50</td>\n",
              "    </tr>\n",
              "    <tr>\n",
              "      <th>10</th>\n",
              "      <td>MFI_15</td>\n",
              "      <td>3877.92</td>\n",
              "    </tr>\n",
              "    <tr>\n",
              "      <th>5</th>\n",
              "      <td>MFI_10</td>\n",
              "      <td>3615.11</td>\n",
              "    </tr>\n",
              "    <tr>\n",
              "      <th>6</th>\n",
              "      <td>MFI_11</td>\n",
              "      <td>3564.97</td>\n",
              "    </tr>\n",
              "    <tr>\n",
              "      <th>11</th>\n",
              "      <td>MFI_16</td>\n",
              "      <td>3476.94</td>\n",
              "    </tr>\n",
              "    <tr>\n",
              "      <th>32</th>\n",
              "      <td>MFI_37</td>\n",
              "      <td>3062.91</td>\n",
              "    </tr>\n",
              "    <tr>\n",
              "      <th>22</th>\n",
              "      <td>MFI_27</td>\n",
              "      <td>2968.24</td>\n",
              "    </tr>\n",
              "    <tr>\n",
              "      <th>19</th>\n",
              "      <td>MFI_24</td>\n",
              "      <td>2909.75</td>\n",
              "    </tr>\n",
              "    <tr>\n",
              "      <th>37</th>\n",
              "      <td>MFI_42</td>\n",
              "      <td>2860.11</td>\n",
              "    </tr>\n",
              "    <tr>\n",
              "      <th>28</th>\n",
              "      <td>MFI_33</td>\n",
              "      <td>2855.43</td>\n",
              "    </tr>\n",
              "    <tr>\n",
              "      <th>35</th>\n",
              "      <td>MFI_40</td>\n",
              "      <td>2833.03</td>\n",
              "    </tr>\n",
              "    <tr>\n",
              "      <th>36</th>\n",
              "      <td>MFI_41</td>\n",
              "      <td>2833.03</td>\n",
              "    </tr>\n",
              "    <tr>\n",
              "      <th>29</th>\n",
              "      <td>MFI_34</td>\n",
              "      <td>2828.21</td>\n",
              "    </tr>\n",
              "    <tr>\n",
              "      <th>33</th>\n",
              "      <td>MFI_38</td>\n",
              "      <td>2802.60</td>\n",
              "    </tr>\n",
              "    <tr>\n",
              "      <th>30</th>\n",
              "      <td>MFI_35</td>\n",
              "      <td>2797.38</td>\n",
              "    </tr>\n",
              "    <tr>\n",
              "      <th>31</th>\n",
              "      <td>MFI_36</td>\n",
              "      <td>2792.19</td>\n",
              "    </tr>\n",
              "    <tr>\n",
              "      <th>34</th>\n",
              "      <td>MFI_39</td>\n",
              "      <td>2787.14</td>\n",
              "    </tr>\n",
              "    <tr>\n",
              "      <th>13</th>\n",
              "      <td>MFI_18</td>\n",
              "      <td>2769.45</td>\n",
              "    </tr>\n",
              "    <tr>\n",
              "      <th>14</th>\n",
              "      <td>MFI_19</td>\n",
              "      <td>2759.20</td>\n",
              "    </tr>\n",
              "    <tr>\n",
              "      <th>20</th>\n",
              "      <td>MFI_25</td>\n",
              "      <td>2757.44</td>\n",
              "    </tr>\n",
              "    <tr>\n",
              "      <th>4</th>\n",
              "      <td>MFI_9</td>\n",
              "      <td>2733.08</td>\n",
              "    </tr>\n",
              "    <tr>\n",
              "      <th>15</th>\n",
              "      <td>MFI_20</td>\n",
              "      <td>2684.40</td>\n",
              "    </tr>\n",
              "    <tr>\n",
              "      <th>26</th>\n",
              "      <td>MFI_31</td>\n",
              "      <td>2656.01</td>\n",
              "    </tr>\n",
              "    <tr>\n",
              "      <th>17</th>\n",
              "      <td>MFI_22</td>\n",
              "      <td>2638.99</td>\n",
              "    </tr>\n",
              "    <tr>\n",
              "      <th>18</th>\n",
              "      <td>MFI_23</td>\n",
              "      <td>2595.90</td>\n",
              "    </tr>\n",
              "    <tr>\n",
              "      <th>16</th>\n",
              "      <td>MFI_21</td>\n",
              "      <td>2551.14</td>\n",
              "    </tr>\n",
              "    <tr>\n",
              "      <th>23</th>\n",
              "      <td>MFI_28</td>\n",
              "      <td>2514.16</td>\n",
              "    </tr>\n",
              "    <tr>\n",
              "      <th>39</th>\n",
              "      <td>MFI_44</td>\n",
              "      <td>2508.32</td>\n",
              "    </tr>\n",
              "    <tr>\n",
              "      <th>42</th>\n",
              "      <td>MFI_47</td>\n",
              "      <td>2491.17</td>\n",
              "    </tr>\n",
              "    <tr>\n",
              "      <th>25</th>\n",
              "      <td>MFI_30</td>\n",
              "      <td>2485.51</td>\n",
              "    </tr>\n",
              "    <tr>\n",
              "      <th>21</th>\n",
              "      <td>MFI_26</td>\n",
              "      <td>2444.39</td>\n",
              "    </tr>\n",
              "    <tr>\n",
              "      <th>27</th>\n",
              "      <td>MFI_32</td>\n",
              "      <td>2419.89</td>\n",
              "    </tr>\n",
              "    <tr>\n",
              "      <th>24</th>\n",
              "      <td>MFI_29</td>\n",
              "      <td>2416.92</td>\n",
              "    </tr>\n",
              "    <tr>\n",
              "      <th>3</th>\n",
              "      <td>MFI_8</td>\n",
              "      <td>2337.35</td>\n",
              "    </tr>\n",
              "    <tr>\n",
              "      <th>2</th>\n",
              "      <td>MFI_7</td>\n",
              "      <td>2210.05</td>\n",
              "    </tr>\n",
              "    <tr>\n",
              "      <th>40</th>\n",
              "      <td>MFI_45</td>\n",
              "      <td>2110.98</td>\n",
              "    </tr>\n",
              "    <tr>\n",
              "      <th>38</th>\n",
              "      <td>MFI_43</td>\n",
              "      <td>2040.69</td>\n",
              "    </tr>\n",
              "    <tr>\n",
              "      <th>41</th>\n",
              "      <td>MFI_46</td>\n",
              "      <td>1727.01</td>\n",
              "    </tr>\n",
              "    <tr>\n",
              "      <th>1</th>\n",
              "      <td>MFI_6</td>\n",
              "      <td>1724.03</td>\n",
              "    </tr>\n",
              "    <tr>\n",
              "      <th>45</th>\n",
              "      <td>MFI_50</td>\n",
              "      <td>1683.40</td>\n",
              "    </tr>\n",
              "    <tr>\n",
              "      <th>43</th>\n",
              "      <td>MFI_48</td>\n",
              "      <td>1669.37</td>\n",
              "    </tr>\n",
              "    <tr>\n",
              "      <th>44</th>\n",
              "      <td>MFI_49</td>\n",
              "      <td>1490.72</td>\n",
              "    </tr>\n",
              "    <tr>\n",
              "      <th>0</th>\n",
              "      <td>MFI_5</td>\n",
              "      <td>550.67</td>\n",
              "    </tr>\n",
              "  </tbody>\n",
              "</table>\n",
              "</div>\n",
              "      <button class=\"colab-df-convert\" onclick=\"convertToInteractive('df-cc0e3b7c-cdaa-4f48-a463-6c83fd39f1cd')\"\n",
              "              title=\"Convert this dataframe to an interactive table.\"\n",
              "              style=\"display:none;\">\n",
              "        \n",
              "  <svg xmlns=\"http://www.w3.org/2000/svg\" height=\"24px\"viewBox=\"0 0 24 24\"\n",
              "       width=\"24px\">\n",
              "    <path d=\"M0 0h24v24H0V0z\" fill=\"none\"/>\n",
              "    <path d=\"M18.56 5.44l.94 2.06.94-2.06 2.06-.94-2.06-.94-.94-2.06-.94 2.06-2.06.94zm-11 1L8.5 8.5l.94-2.06 2.06-.94-2.06-.94L8.5 2.5l-.94 2.06-2.06.94zm10 10l.94 2.06.94-2.06 2.06-.94-2.06-.94-.94-2.06-.94 2.06-2.06.94z\"/><path d=\"M17.41 7.96l-1.37-1.37c-.4-.4-.92-.59-1.43-.59-.52 0-1.04.2-1.43.59L10.3 9.45l-7.72 7.72c-.78.78-.78 2.05 0 2.83L4 21.41c.39.39.9.59 1.41.59.51 0 1.02-.2 1.41-.59l7.78-7.78 2.81-2.81c.8-.78.8-2.07 0-2.86zM5.41 20L4 18.59l7.72-7.72 1.47 1.35L5.41 20z\"/>\n",
              "  </svg>\n",
              "      </button>\n",
              "      \n",
              "  <style>\n",
              "    .colab-df-container {\n",
              "      display:flex;\n",
              "      flex-wrap:wrap;\n",
              "      gap: 12px;\n",
              "    }\n",
              "\n",
              "    .colab-df-convert {\n",
              "      background-color: #E8F0FE;\n",
              "      border: none;\n",
              "      border-radius: 50%;\n",
              "      cursor: pointer;\n",
              "      display: none;\n",
              "      fill: #1967D2;\n",
              "      height: 32px;\n",
              "      padding: 0 0 0 0;\n",
              "      width: 32px;\n",
              "    }\n",
              "\n",
              "    .colab-df-convert:hover {\n",
              "      background-color: #E2EBFA;\n",
              "      box-shadow: 0px 1px 2px rgba(60, 64, 67, 0.3), 0px 1px 3px 1px rgba(60, 64, 67, 0.15);\n",
              "      fill: #174EA6;\n",
              "    }\n",
              "\n",
              "    [theme=dark] .colab-df-convert {\n",
              "      background-color: #3B4455;\n",
              "      fill: #D2E3FC;\n",
              "    }\n",
              "\n",
              "    [theme=dark] .colab-df-convert:hover {\n",
              "      background-color: #434B5C;\n",
              "      box-shadow: 0px 1px 3px 1px rgba(0, 0, 0, 0.15);\n",
              "      filter: drop-shadow(0px 1px 2px rgba(0, 0, 0, 0.3));\n",
              "      fill: #FFFFFF;\n",
              "    }\n",
              "  </style>\n",
              "\n",
              "      <script>\n",
              "        const buttonEl =\n",
              "          document.querySelector('#df-cc0e3b7c-cdaa-4f48-a463-6c83fd39f1cd button.colab-df-convert');\n",
              "        buttonEl.style.display =\n",
              "          google.colab.kernel.accessAllowed ? 'block' : 'none';\n",
              "\n",
              "        async function convertToInteractive(key) {\n",
              "          const element = document.querySelector('#df-cc0e3b7c-cdaa-4f48-a463-6c83fd39f1cd');\n",
              "          const dataTable =\n",
              "            await google.colab.kernel.invokeFunction('convertToInteractive',\n",
              "                                                     [key], {});\n",
              "          if (!dataTable) return;\n",
              "\n",
              "          const docLinkHtml = 'Like what you see? Visit the ' +\n",
              "            '<a target=\"_blank\" href=https://colab.research.google.com/notebooks/data_table.ipynb>data table notebook</a>'\n",
              "            + ' to learn more about interactive tables.';\n",
              "          element.innerHTML = '';\n",
              "          dataTable['output_type'] = 'display_data';\n",
              "          await google.colab.output.renderOutput(dataTable, element);\n",
              "          const docLink = document.createElement('div');\n",
              "          docLink.innerHTML = docLinkHtml;\n",
              "          element.appendChild(docLink);\n",
              "        }\n",
              "      </script>\n",
              "    </div>\n",
              "  </div>\n",
              "  "
            ]
          },
          "metadata": {},
          "execution_count": 37
        }
      ],
      "source": [
        "dict_res = {'MFI':[],'Meilleure Perf':[]}\n",
        "\n",
        "# Pour l'ensemble des colonnes MFI entre 5 et 50\n",
        "for i in range(5,51):\n",
        "\n",
        "    # Selection du MFIp\n",
        "    colonneMFI = \"MFI_\"+str(i)\n",
        "    df_extract = df[['Date','Open',colonneMFI]].copy()\n",
        "\n",
        "    # Obtention de la mediane\n",
        "    med = round(df[colonneMFI].median())\n",
        "\n",
        "    # Définition des plages d'entrée et sortie selon min-max de la colonne MFI sélectionnée\n",
        "    # On selectionne df_stats qui a éliminé les MFI nuls, sinon ceux en lag à l'origine vont définir 0 en entrée min\n",
        "    entree_min = math.ceil(df[colonneMFI].min())\n",
        "    sortie_max = math.trunc(df[colonneMFI].max())\n",
        "    delta_e = med - entree_min\n",
        "    delta_s = sortie_max - med\n",
        "    plage_entrees = [num for num in range(5,delta_e)]\n",
        "    plage_sorties = [num for num in range(10,delta_s)]\n",
        "\n",
        "    m = es_variables(med, plage_entrees, plage_sorties, df_extract, colonneMFI)\n",
        "    tableau_perf = np.array(m)\n",
        "\n",
        "    dict_res[\"MFI\"].append(colonneMFI)\n",
        "    dict_res[\"Meilleure Perf\"].append(np.max(tableau_perf))\n",
        "\n",
        "    export_heatmap(tableau_perf, med, plage_entrees, plage_sorties, colonneMFI)\n",
        "\n",
        "df_res = pd.DataFrame(dict_res)\n",
        "df_res.sort_values(by=\"Meilleure Perf\", ascending=False)"
      ]
    },
    {
      "cell_type": "code",
      "execution_count": null,
      "metadata": {
        "id": "aIghi6uSzBkW"
      },
      "outputs": [],
      "source": [
        "df_res.to_excel(\"/content/drive/MyDrive/Colab Notebooks/performancesMFI/NDQ2x-allTime/NDX2x_04-29.xlsx\", sheet_name='all_time')"
      ]
    },
    {
      "cell_type": "markdown",
      "metadata": {
        "id": "4CS2DUnbzBkg"
      },
      "source": [
        "# Verification de la performance #"
      ]
    },
    {
      "cell_type": "markdown",
      "source": [
        "## Vérification unitaire ##"
      ],
      "metadata": {
        "id": "PqKrKkC7_UqP"
      }
    },
    {
      "cell_type": "code",
      "execution_count": null,
      "metadata": {
        "id": "huTUWEx6zBkh"
      },
      "outputs": [],
      "source": [
        "periode = 12\n",
        "entree = 56\n",
        "sortie = 98"
      ]
    },
    {
      "cell_type": "code",
      "execution_count": null,
      "metadata": {
        "id": "foUEyI1MorUV"
      },
      "outputs": [],
      "source": [
        "df_best = df[['Date','Open','MFI_'+str(periode)]]"
      ]
    },
    {
      "cell_type": "code",
      "source": [
        "med = round(df_best['MFI_'+str(periode)].median())\n",
        "print(\"Mediane : \", med)"
      ],
      "metadata": {
        "colab": {
          "base_uri": "https://localhost:8080/"
        },
        "id": "ad1sVr-J6K9z",
        "outputId": "936ba9d4-157d-4bdb-b74a-284bba3bd93d"
      },
      "execution_count": null,
      "outputs": [
        {
          "output_type": "stream",
          "name": "stdout",
          "text": [
            "Mediane :  54\n"
          ]
        }
      ]
    },
    {
      "cell_type": "code",
      "source": [
        "for e in range (48,61):\n",
        "  entree = e\n",
        "  \n",
        "  # Ajout de la colonne mfi_lag\n",
        "  shift = df_best['MFI_'+str(periode)].shift(1)\n",
        "  shift[0]=shift[1]\n",
        "  df_best['mfi_lag']=shift\n",
        "\n",
        "  # Filtre dans l'historique des points de sorties variables\n",
        "  # Entrées et sorties à l'ouverture J+1\n",
        "  entries_indexes = df_best.index[ (df_best['MFI_'+str(periode)]>=entree) & (df_best['mfi_lag']<(entree-0.01)) ].to_list()\n",
        "  entries_indexes = [x+1 for x in entries_indexes]\n",
        "  # Attention au dépassement d'index, vérifier si denrnière entrée est bien < à la dernière date enregistrée\n",
        "  if (len(entries_indexes)>0) and (entries_indexes[-1] >= df_best.shape[0]):\n",
        "    entries_indexes.pop(-1)\n",
        "  df_entries = df_best.loc[entries_indexes, :]\n",
        "  df_entries['move']='achat'\n",
        "  # Idem pour les sorties\n",
        "  exits_indexes = df_best.index[ (df_best['MFI_'+str(periode)]<=sortie) & (df_best['mfi_lag']>(sortie+0.01)) ].to_list()\n",
        "  exits_indexes = [y+1 for y in exits_indexes]\n",
        "  if (len(exits_indexes)>0) and (exits_indexes[-1] >= df_best.shape[0]):\n",
        "    exits_indexes.pop(-1)\n",
        "  df_exits = df_best.loc[exits_indexes, :]\n",
        "  df_exits['move']='vente'\n",
        "\n",
        "  # Concatenation des achats/ventes et tri par ordre chronologique\n",
        "  df_perf = pd.concat([df_entries,df_exits])\n",
        "  df_perf.sort_values(by='Date',inplace=True)\n",
        "  df_perf.reset_index(drop=True, inplace=True)\n",
        "\n",
        "  # Suppression des entrées-sorties doubles (type achat-achat-vente, ou achat-vente-vente)\n",
        "  doubles = []\n",
        "  for i in range (1,df_perf.shape[0]):\n",
        "      if df_perf['move'][i] == df_perf['move'][i-1]:\n",
        "          doubles.append(i)\n",
        "      else:\n",
        "          continue\n",
        "  df_perf_clean = df_perf.drop(index=doubles)\n",
        "  df_perf_clean.reset_index(drop=True, inplace=True)\n",
        "\n",
        "  # Suppression de la 1ere ligne si vente, mais après nettoyage des doublons\n",
        "  if df_perf_clean.empty != True: \n",
        "      if df_perf_clean.iloc[0,4] == 'vente':\n",
        "          df_perf_clean = df_perf_clean.drop(index=0)\n",
        "          df_perf_clean.reset_index(drop=True, inplace=True)\n",
        "\n",
        "  # Si dernière ligne est achat non soldé -> insérer la dernière ligne en vente\n",
        "  # Obtenir toute la dernière ligne du dataframe origienl, puis concat au df_perf_clean = vente au jour J\n",
        "  if df_perf_clean.empty != True: \n",
        "      if df_perf_clean.iloc[-1,4] == 'achat':\n",
        "          df_last_row = df_best.iloc[-1:].copy()\n",
        "          df_last_row['move']='vente'\n",
        "          df_perf_clean = pd.concat([df_perf_clean,df_last_row])\n",
        "          df_perf_clean.reset_index(drop=True, inplace=True)\n",
        "  \n",
        "  nb_trades = df_perf_clean.shape[0]\n",
        "\n",
        "  # Calcul de la performance\n",
        "  perfE = [1000]\n",
        "  j=0\n",
        "  # S'assurer que le Dataframe a bien 1 entrée 1 sortie, et n'est pas vide (out of bounds)\n",
        "  if df_perf_clean.shape[0]>=2:\n",
        "      for i in range (1,df_perf_clean.shape[0],2):\n",
        "          '''par step 2 pour ne traiter que les lignes impaires correspondant aux lignes de vente'''\n",
        "          # Correction avec ajustement des frais de transaction\n",
        "          # Correction entrée à l'ouverture J+1\n",
        "          var = (df_perf_clean['Open'][i]-df_perf_clean['Open'][i-1])/df_perf_clean['Open'][i-1] -0.011\n",
        "          varE = perfE[j]*(1+var)\n",
        "          perfE.append(varE)\n",
        "          j+=1\n",
        "  else:\n",
        "      # Dans le cas où DF vide : on ajoute la valeur d'entrée pour surperf 0\n",
        "      perfE.append(1000)\n",
        "  '''Choix de la performance totale en %'''\n",
        "  overallP = round(((perfE[-1]-perfE[0])/perfE[0])*100,2)\n",
        "\n",
        "  print(\"Entrée : {}, Performance : {} pour {} trades\".format(e,overallP,nb_trades) )"
      ],
      "metadata": {
        "colab": {
          "base_uri": "https://localhost:8080/"
        },
        "id": "jsmYrTan6V43",
        "outputId": "29fdd87d-937c-44a0-9c8e-da2285ff8561"
      },
      "execution_count": null,
      "outputs": [
        {
          "output_type": "stream",
          "name": "stderr",
          "text": [
            "/usr/local/lib/python3.7/dist-packages/ipykernel_launcher.py:7: SettingWithCopyWarning: \n",
            "A value is trying to be set on a copy of a slice from a DataFrame.\n",
            "Try using .loc[row_indexer,col_indexer] = value instead\n",
            "\n",
            "See the caveats in the documentation: https://pandas.pydata.org/pandas-docs/stable/user_guide/indexing.html#returning-a-view-versus-a-copy\n",
            "  import sys\n"
          ]
        },
        {
          "output_type": "stream",
          "name": "stdout",
          "text": [
            "Entrée : 48, Performance : 5132.86 pour 12 trades\n",
            "Entrée : 49, Performance : 5282.34 pour 12 trades\n",
            "Entrée : 50, Performance : 4910.16 pour 12 trades\n",
            "Entrée : 51, Performance : 4910.16 pour 12 trades\n",
            "Entrée : 52, Performance : 5073.99 pour 12 trades\n",
            "Entrée : 53, Performance : 5073.99 pour 12 trades\n",
            "Entrée : 54, Performance : 4955.1 pour 12 trades\n",
            "Entrée : 55, Performance : 5564.61 pour 12 trades\n",
            "Entrée : 56, Performance : 5363.27 pour 12 trades\n",
            "Entrée : 57, Performance : 5363.27 pour 12 trades\n",
            "Entrée : 58, Performance : 5363.27 pour 12 trades\n",
            "Entrée : 59, Performance : 4759.04 pour 12 trades\n",
            "Entrée : 60, Performance : 4868.08 pour 12 trades\n"
          ]
        }
      ]
    },
    {
      "cell_type": "markdown",
      "source": [
        "Idem avec ref 17 38 87"
      ],
      "metadata": {
        "id": "g-nKAKxx_A5T"
      }
    },
    {
      "cell_type": "code",
      "source": [
        "periode = 17\n",
        "sortie = 87\n",
        "\n",
        "df_best = df[['Date','Open','MFI_'+str(periode)]]\n",
        "\n",
        "med = round(df_best['MFI_'+str(periode)].median())\n",
        "print(\"Mediane : \", med)"
      ],
      "metadata": {
        "colab": {
          "base_uri": "https://localhost:8080/"
        },
        "id": "W7W4Dch06Wxv",
        "outputId": "eaefb6f8-b790-4741-eb2d-2f4fe5eed75f"
      },
      "execution_count": null,
      "outputs": [
        {
          "output_type": "stream",
          "name": "stdout",
          "text": [
            "Mediane :  54\n"
          ]
        }
      ]
    },
    {
      "cell_type": "code",
      "source": [
        "for e in range (37,40):\n",
        "  entree = e\n",
        "  \n",
        "  # Ajout de la colonne mfi_lag\n",
        "  shift = df_best['MFI_'+str(periode)].shift(1)\n",
        "  shift[0]=shift[1]\n",
        "  df_best['mfi_lag']=shift\n",
        "\n",
        "  # Filtre dans l'historique des points de sorties variables\n",
        "  # Entrées et sorties à l'ouverture J+1\n",
        "  entries_indexes = df_best.index[ (df_best['MFI_'+str(periode)]>=entree) & (df_best['mfi_lag']<(entree-0.01)) ].to_list()\n",
        "  entries_indexes = [x+1 for x in entries_indexes]\n",
        "  # Attention au dépassement d'index, vérifier si denrnière entrée est bien < à la dernière date enregistrée\n",
        "  if (len(entries_indexes)>0) and (entries_indexes[-1] >= df_best.shape[0]):\n",
        "    entries_indexes.pop(-1)\n",
        "  df_entries = df_best.loc[entries_indexes, :]\n",
        "  df_entries['move']='achat'\n",
        "  # Idem pour les sorties\n",
        "  exits_indexes = df_best.index[ (df_best['MFI_'+str(periode)]<=sortie) & (df_best['mfi_lag']>(sortie+0.01)) ].to_list()\n",
        "  exits_indexes = [y+1 for y in exits_indexes]\n",
        "  if (len(exits_indexes)>0) and (exits_indexes[-1] >= df_best.shape[0]):\n",
        "    exits_indexes.pop(-1)\n",
        "  df_exits = df_best.loc[exits_indexes, :]\n",
        "  df_exits['move']='vente'\n",
        "\n",
        "  # Concatenation des achats/ventes et tri par ordre chronologique\n",
        "  df_perf = pd.concat([df_entries,df_exits])\n",
        "  df_perf.sort_values(by='Date',inplace=True)\n",
        "  df_perf.reset_index(drop=True, inplace=True)\n",
        "\n",
        "  # Suppression des entrées-sorties doubles (type achat-achat-vente, ou achat-vente-vente)\n",
        "  doubles = []\n",
        "  for i in range (1,df_perf.shape[0]):\n",
        "      if df_perf['move'][i] == df_perf['move'][i-1]:\n",
        "          doubles.append(i)\n",
        "      else:\n",
        "          continue\n",
        "  df_perf_clean = df_perf.drop(index=doubles)\n",
        "  df_perf_clean.reset_index(drop=True, inplace=True)\n",
        "\n",
        "  # Suppression de la 1ere ligne si vente, mais après nettoyage des doublons\n",
        "  if df_perf_clean.empty != True: \n",
        "      if df_perf_clean.iloc[0,4] == 'vente':\n",
        "          df_perf_clean = df_perf_clean.drop(index=0)\n",
        "          df_perf_clean.reset_index(drop=True, inplace=True)\n",
        "\n",
        "  # Si dernière ligne est achat non soldé -> insérer la dernière ligne en vente\n",
        "  # Obtenir toute la dernière ligne du dataframe origienl, puis concat au df_perf_clean = vente au jour J\n",
        "  if df_perf_clean.empty != True: \n",
        "      if df_perf_clean.iloc[-1,4] == 'achat':\n",
        "          df_last_row = df_best.iloc[-1:].copy()\n",
        "          df_last_row['move']='vente'\n",
        "          df_perf_clean = pd.concat([df_perf_clean,df_last_row])\n",
        "          df_perf_clean.reset_index(drop=True, inplace=True)\n",
        "  \n",
        "  nb_trades = df_perf_clean.shape[0]\n",
        "\n",
        "  # Calcul de la performance\n",
        "  perfE = [1000]\n",
        "  j=0\n",
        "  # S'assurer que le Dataframe a bien 1 entrée 1 sortie, et n'est pas vide (out of bounds)\n",
        "  if df_perf_clean.shape[0]>=2:\n",
        "      for i in range (1,df_perf_clean.shape[0],2):\n",
        "          '''par step 2 pour ne traiter que les lignes impaires correspondant aux lignes de vente'''\n",
        "          # Correction avec ajustement des frais de transaction\n",
        "          # Correction entrée à l'ouverture J+1\n",
        "          var = (df_perf_clean['Open'][i]-df_perf_clean['Open'][i-1])/df_perf_clean['Open'][i-1] -0.011\n",
        "          varE = perfE[j]*(1+var)\n",
        "          perfE.append(varE)\n",
        "          j+=1\n",
        "  else:\n",
        "      # Dans le cas où DF vide : on ajoute la valeur d'entrée pour surperf 0\n",
        "      perfE.append(1000)\n",
        "  '''Choix de la performance totale en %'''\n",
        "  overallP = round(((perfE[-1]-perfE[0])/perfE[0])*100,2)\n",
        "\n",
        "  print(\"Entrée : {}, Performance : {} pour {} trades\".format(e,overallP,nb_trades) )"
      ],
      "metadata": {
        "colab": {
          "base_uri": "https://localhost:8080/"
        },
        "id": "I_LRibku6XW3",
        "outputId": "5b831685-63b6-41c6-b41a-ce60a2ab69a2"
      },
      "execution_count": null,
      "outputs": [
        {
          "output_type": "stream",
          "name": "stdout",
          "text": [
            "Entrée : 37, Performance : 5611.54 pour 32 trades\n",
            "Entrée : 38, Performance : 6099.35 pour 32 trades\n",
            "Entrée : 39, Performance : 5857.24 pour 32 trades\n"
          ]
        },
        {
          "output_type": "stream",
          "name": "stderr",
          "text": [
            "/usr/local/lib/python3.7/dist-packages/ipykernel_launcher.py:7: SettingWithCopyWarning: \n",
            "A value is trying to be set on a copy of a slice from a DataFrame.\n",
            "Try using .loc[row_indexer,col_indexer] = value instead\n",
            "\n",
            "See the caveats in the documentation: https://pandas.pydata.org/pandas-docs/stable/user_guide/indexing.html#returning-a-view-versus-a-copy\n",
            "  import sys\n"
          ]
        }
      ]
    }
  ],
  "metadata": {
    "colab": {
      "name": "MFI_Performance-5.ipynb",
      "provenance": [],
      "collapsed_sections": [
        "ZD4SpxUd4bwb",
        "OfZwHLA2zBkX"
      ]
    },
    "interpreter": {
      "hash": "7812ea015bdcee6f23a998adcdd2ef97c151c0c241b7b7070987d9313e41299d"
    },
    "kernelspec": {
      "display_name": "Python 3.9.0 64-bit",
      "name": "python3"
    },
    "language_info": {
      "codemirror_mode": {
        "name": "ipython",
        "version": 3
      },
      "file_extension": ".py",
      "mimetype": "text/x-python",
      "name": "python",
      "nbconvert_exporter": "python",
      "pygments_lexer": "ipython3",
      "version": "3.9.0"
    },
    "orig_nbformat": 4
  },
  "nbformat": 4,
  "nbformat_minor": 0
}